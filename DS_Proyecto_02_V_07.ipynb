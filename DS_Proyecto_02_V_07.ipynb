{
  "nbformat": 4,
  "nbformat_minor": 0,
  "metadata": {
    "kernelspec": {
      "display_name": "Python 3",
      "language": "python",
      "name": "python3"
    },
    "language_info": {
      "codemirror_mode": {
        "name": "ipython",
        "version": 3
      },
      "file_extension": ".py",
      "mimetype": "text/x-python",
      "name": "python",
      "nbconvert_exporter": "python",
      "pygments_lexer": "ipython3",
      "version": "3.8.8"
    },
    "colab": {
      "name": "DS_Proyecto_02.ipynb",
      "provenance": [],
      "toc_visible": true,
      "include_colab_link": true
    }
  },
  "cells": [
    {
      "cell_type": "markdown",
      "metadata": {
        "id": "view-in-github",
        "colab_type": "text"
      },
      "source": [
        "<a href=\"https://colab.research.google.com/github/alexandergribenchenko/Acamica_Proyecto_02/blob/main/DS_Proyecto_02_V_07.ipynb\" target=\"_parent\"><img src=\"https://colab.research.google.com/assets/colab-badge.svg\" alt=\"Open In Colab\"/></a>"
      ]
    },
    {
      "cell_type": "markdown",
      "metadata": {
        "id": "XAMLpLgdGJ5W"
      },
      "source": [
        "# **Proyecto 02 - Ingeniería de features, Modelos avanzados e Interpretación de modelos** (Armado)"
      ]
    },
    {
      "cell_type": "markdown",
      "metadata": {
        "id": "hovEgj74GJ5X"
      },
      "source": [
        "### (Acámica - DS online 40 - Proyecto 02 - Alexander Ortega)"
      ]
    },
    {
      "cell_type": "markdown",
      "metadata": {
        "id": "wxpYDd1mEb4k"
      },
      "source": [
        "# **Alcance y objeto del proyecto:**\n"
      ]
    },
    {
      "cell_type": "markdown",
      "metadata": {
        "id": "6MeSr6lLEnBg"
      },
      "source": [
        "El presente proyecto tiene como finalidad exhibir e implementar un conjunto de herramientas analíticas y predictivas propias de problemas del aprendizaje supervisado, más especificamante de problemas de regresión, empleando como contexto específico el estudio de los precios de los inmuebles de la Ciudad de Buenos Aires entre 2019 y enero de 2020, con el fin de generar y evaluar modelos que permitan hacer su predicción. "
      ]
    },
    {
      "cell_type": "markdown",
      "metadata": {
        "id": "lbEBtnt9FFan"
      },
      "source": [
        "##### ---> Librerías a emplear en el proyecto:"
      ]
    },
    {
      "cell_type": "code",
      "metadata": {
        "id": "N6jnKm8jGJ5Y"
      },
      "source": [
        "import pandas as pd\n",
        "import numpy as np\n",
        "import matplotlib.pyplot as plt\n",
        "import seaborn as sns\n",
        "sns.set()\n",
        "\n",
        "from sklearn.preprocessing import StandardScaler\n",
        "pd.set_option('display.max_columns', None)\n",
        "\n",
        "import warnings\n",
        "warnings.filterwarnings(\"ignore\")"
      ],
      "execution_count": null,
      "outputs": []
    },
    {
      "cell_type": "markdown",
      "metadata": {
        "id": "BcQnnKLzGJ5a"
      },
      "source": [
        "### **Etapa Preliminar.** Preparación del dataset de análisis"
      ]
    },
    {
      "cell_type": "markdown",
      "metadata": {
        "id": "PfAihOqRVK82"
      },
      "source": [
        "En la presente etapa,  que dividiremos en  4 pasos, recopilaremos y cargaremos la información primaria para el estudio, exploramos el datset cargado (raw) para entender mejor cada una de las variables y entender con ello qué tipo de procesamiento deberíamos aplicar, eliminaremos los atributos que hayamos encontrado que no sean relevantes para el modelo, y finalmente definiremos el dataset base será el que empleado de manera posterior en la etapa de Transformación de datos."
      ]
    },
    {
      "cell_type": "markdown",
      "metadata": {
        "id": "gUIsDsfGUnjl"
      },
      "source": [
        "### **EP. 1.1.** Recopilación y descarga de la información primaria"
      ]
    },
    {
      "cell_type": "markdown",
      "metadata": {
        "id": "n7ced5edUpTK"
      },
      "source": [
        "La información base para el desarrollo del siguiente proyecto fue obtenida de la [página de la división de datos de Properati](https://www.properati.com.co/data/), una plataforma web enfocada en el mercado inmobiliario de 4 países de Latinoamérica: Argentina, Colombia, Perú y Ecuador. En específico en la sección de Datasets del enlace descrito encontramos el enlace de descarga directa  en formato CSV para cada uno de los países.\n",
        "\n",
        "Para efectos del desarrollo del proyecto generamos únicamente la descarga del dataset de Argentina y tomamos en cuenta únicamente las propiedades publicadas entre 2019 y enero de 2020, ubicadas al interior del Gran Buenos Aires. \n",
        " "
      ]
    },
    {
      "cell_type": "markdown",
      "metadata": {
        "id": "rwjeH8bQWlKP"
      },
      "source": [
        "### **EP. 1.2.** Exploración del dataset (raw)"
      ]
    },
    {
      "cell_type": "markdown",
      "metadata": {
        "id": "hXeWGpz8Wqvv"
      },
      "source": [
        "Iniciaremos cargando y evaluando la información general del dataset descargado (Argentina, 2019):\n"
      ]
    },
    {
      "cell_type": "code",
      "metadata": {
        "id": "fevtqAxiLqLj",
        "colab": {
          "base_uri": "https://localhost:8080/"
        },
        "outputId": "aec70880-2676-4aae-efe8-913e82e2a9fa"
      },
      "source": [
        "from google.colab import drive\n",
        "drive.mount('/content/drive/')"
      ],
      "execution_count": null,
      "outputs": [
        {
          "output_type": "stream",
          "text": [
            "Drive already mounted at /content/drive/; to attempt to forcibly remount, call drive.mount(\"/content/drive/\", force_remount=True).\n"
          ],
          "name": "stdout"
        }
      ]
    },
    {
      "cell_type": "code",
      "metadata": {
        "id": "Ur_CiW6ZLzf6"
      },
      "source": [
        "path_data = '/content/drive/MyDrive/Colab Notebooks/00_Acamica/DS_Proyecto_01_Datos_Properati.csv'"
      ],
      "execution_count": null,
      "outputs": []
    },
    {
      "cell_type": "code",
      "metadata": {
        "id": "G571lUV6GJ5a",
        "colab": {
          "base_uri": "https://localhost:8080/",
          "height": 530
        },
        "outputId": "87bbd5cf-2266-4ed2-da76-d915e617a118"
      },
      "source": [
        "df = pd.read_csv(path_data, sep =',')\n",
        "df.head()"
      ],
      "execution_count": null,
      "outputs": [
        {
          "output_type": "execute_result",
          "data": {
            "text/html": [
              "<div>\n",
              "<style scoped>\n",
              "    .dataframe tbody tr th:only-of-type {\n",
              "        vertical-align: middle;\n",
              "    }\n",
              "\n",
              "    .dataframe tbody tr th {\n",
              "        vertical-align: top;\n",
              "    }\n",
              "\n",
              "    .dataframe thead th {\n",
              "        text-align: right;\n",
              "    }\n",
              "</style>\n",
              "<table border=\"1\" class=\"dataframe\">\n",
              "  <thead>\n",
              "    <tr style=\"text-align: right;\">\n",
              "      <th></th>\n",
              "      <th>start_date</th>\n",
              "      <th>end_date</th>\n",
              "      <th>created_on</th>\n",
              "      <th>lat</th>\n",
              "      <th>lon</th>\n",
              "      <th>l1</th>\n",
              "      <th>l2</th>\n",
              "      <th>l3</th>\n",
              "      <th>rooms</th>\n",
              "      <th>bedrooms</th>\n",
              "      <th>bathrooms</th>\n",
              "      <th>surface_total</th>\n",
              "      <th>surface_covered</th>\n",
              "      <th>price</th>\n",
              "      <th>currency</th>\n",
              "      <th>title</th>\n",
              "      <th>description</th>\n",
              "      <th>property_type</th>\n",
              "      <th>operation_type</th>\n",
              "    </tr>\n",
              "  </thead>\n",
              "  <tbody>\n",
              "    <tr>\n",
              "      <th>0</th>\n",
              "      <td>2019-10-17</td>\n",
              "      <td>2019-12-23</td>\n",
              "      <td>2019-10-17</td>\n",
              "      <td>-34.605880</td>\n",
              "      <td>-58.384949</td>\n",
              "      <td>Argentina</td>\n",
              "      <td>Capital Federal</td>\n",
              "      <td>San Cristobal</td>\n",
              "      <td>7.0</td>\n",
              "      <td>7.0</td>\n",
              "      <td>2.0</td>\n",
              "      <td>140.0</td>\n",
              "      <td>140.0</td>\n",
              "      <td>153000.0</td>\n",
              "      <td>USD</td>\n",
              "      <td>***Venta semipiso centro, ideal hostel*****</td>\n",
              "      <td>DESCRIPCION DE LA PROPIEDAD: Departamento de 1...</td>\n",
              "      <td>Departamento</td>\n",
              "      <td>Venta</td>\n",
              "    </tr>\n",
              "    <tr>\n",
              "      <th>1</th>\n",
              "      <td>2019-10-17</td>\n",
              "      <td>2019-11-21</td>\n",
              "      <td>2019-10-17</td>\n",
              "      <td>-34.624056</td>\n",
              "      <td>-58.412110</td>\n",
              "      <td>Argentina</td>\n",
              "      <td>Capital Federal</td>\n",
              "      <td>Boedo</td>\n",
              "      <td>2.0</td>\n",
              "      <td>1.0</td>\n",
              "      <td>2.0</td>\n",
              "      <td>70.0</td>\n",
              "      <td>58.0</td>\n",
              "      <td>159000.0</td>\n",
              "      <td>USD</td>\n",
              "      <td>Espectacular PH reciclado en Boedo sin expensas.</td>\n",
              "      <td>PH reciclado en Boedo a una cuadra de la plaz...</td>\n",
              "      <td>PH</td>\n",
              "      <td>Venta</td>\n",
              "    </tr>\n",
              "    <tr>\n",
              "      <th>2</th>\n",
              "      <td>2019-10-17</td>\n",
              "      <td>2019-11-01</td>\n",
              "      <td>2019-10-17</td>\n",
              "      <td>-34.593569</td>\n",
              "      <td>-58.427474</td>\n",
              "      <td>Argentina</td>\n",
              "      <td>Capital Federal</td>\n",
              "      <td>Palermo</td>\n",
              "      <td>2.0</td>\n",
              "      <td>1.0</td>\n",
              "      <td>1.0</td>\n",
              "      <td>45.0</td>\n",
              "      <td>45.0</td>\n",
              "      <td>125000.0</td>\n",
              "      <td>USD</td>\n",
              "      <td>Depto.tipo casa de 2 ambientes en Venta en Pal...</td>\n",
              "      <td>2 ambienets amplio , excelente estado , patio ...</td>\n",
              "      <td>PH</td>\n",
              "      <td>Venta</td>\n",
              "    </tr>\n",
              "    <tr>\n",
              "      <th>3</th>\n",
              "      <td>2019-10-17</td>\n",
              "      <td>2019-12-23</td>\n",
              "      <td>2019-10-17</td>\n",
              "      <td>-34.581294</td>\n",
              "      <td>-58.436754</td>\n",
              "      <td>Argentina</td>\n",
              "      <td>Capital Federal</td>\n",
              "      <td>Palermo</td>\n",
              "      <td>2.0</td>\n",
              "      <td>1.0</td>\n",
              "      <td>1.0</td>\n",
              "      <td>85.0</td>\n",
              "      <td>50.0</td>\n",
              "      <td>295000.0</td>\n",
              "      <td>USD</td>\n",
              "      <td>COSTA RICA 5800 / PALERMO HOLLYWOOD / VENTA PH...</td>\n",
              "      <td>HERMOSO PH EN PALERMO!!!2 AMBIENTES TOTALMENTE...</td>\n",
              "      <td>PH</td>\n",
              "      <td>Venta</td>\n",
              "    </tr>\n",
              "    <tr>\n",
              "      <th>4</th>\n",
              "      <td>2019-10-17</td>\n",
              "      <td>2020-03-11</td>\n",
              "      <td>2019-10-17</td>\n",
              "      <td>-34.914194</td>\n",
              "      <td>-57.938219</td>\n",
              "      <td>Argentina</td>\n",
              "      <td>Bs.As. G.B.A. Zona Sur</td>\n",
              "      <td>La Plata</td>\n",
              "      <td>2.0</td>\n",
              "      <td>1.0</td>\n",
              "      <td>1.0</td>\n",
              "      <td>50.0</td>\n",
              "      <td>35.0</td>\n",
              "      <td>40000.0</td>\n",
              "      <td>USD</td>\n",
              "      <td>58 entre 1 y 2  Venta de departamento en ph.1 ...</td>\n",
              "      <td>58 entre 1 y 2  Venta de departamento en PH. P...</td>\n",
              "      <td>PH</td>\n",
              "      <td>Venta</td>\n",
              "    </tr>\n",
              "  </tbody>\n",
              "</table>\n",
              "</div>"
            ],
            "text/plain": [
              "   start_date    end_date  created_on        lat        lon         l1  \\\n",
              "0  2019-10-17  2019-12-23  2019-10-17 -34.605880 -58.384949  Argentina   \n",
              "1  2019-10-17  2019-11-21  2019-10-17 -34.624056 -58.412110  Argentina   \n",
              "2  2019-10-17  2019-11-01  2019-10-17 -34.593569 -58.427474  Argentina   \n",
              "3  2019-10-17  2019-12-23  2019-10-17 -34.581294 -58.436754  Argentina   \n",
              "4  2019-10-17  2020-03-11  2019-10-17 -34.914194 -57.938219  Argentina   \n",
              "\n",
              "                       l2             l3  rooms  bedrooms  bathrooms  \\\n",
              "0         Capital Federal  San Cristobal    7.0       7.0        2.0   \n",
              "1         Capital Federal          Boedo    2.0       1.0        2.0   \n",
              "2         Capital Federal        Palermo    2.0       1.0        1.0   \n",
              "3         Capital Federal        Palermo    2.0       1.0        1.0   \n",
              "4  Bs.As. G.B.A. Zona Sur       La Plata    2.0       1.0        1.0   \n",
              "\n",
              "   surface_total  surface_covered     price currency  \\\n",
              "0          140.0            140.0  153000.0      USD   \n",
              "1           70.0             58.0  159000.0      USD   \n",
              "2           45.0             45.0  125000.0      USD   \n",
              "3           85.0             50.0  295000.0      USD   \n",
              "4           50.0             35.0   40000.0      USD   \n",
              "\n",
              "                                               title  \\\n",
              "0        ***Venta semipiso centro, ideal hostel*****   \n",
              "1   Espectacular PH reciclado en Boedo sin expensas.   \n",
              "2  Depto.tipo casa de 2 ambientes en Venta en Pal...   \n",
              "3  COSTA RICA 5800 / PALERMO HOLLYWOOD / VENTA PH...   \n",
              "4  58 entre 1 y 2  Venta de departamento en ph.1 ...   \n",
              "\n",
              "                                         description property_type  \\\n",
              "0  DESCRIPCION DE LA PROPIEDAD: Departamento de 1...  Departamento   \n",
              "1   PH reciclado en Boedo a una cuadra de la plaz...            PH   \n",
              "2  2 ambienets amplio , excelente estado , patio ...            PH   \n",
              "3  HERMOSO PH EN PALERMO!!!2 AMBIENTES TOTALMENTE...            PH   \n",
              "4  58 entre 1 y 2  Venta de departamento en PH. P...            PH   \n",
              "\n",
              "  operation_type  \n",
              "0          Venta  \n",
              "1          Venta  \n",
              "2          Venta  \n",
              "3          Venta  \n",
              "4          Venta  "
            ]
          },
          "metadata": {
            "tags": []
          },
          "execution_count": 4
        }
      ]
    },
    {
      "cell_type": "code",
      "metadata": {
        "id": "q9403w-ZGJ5b",
        "colab": {
          "base_uri": "https://localhost:8080/"
        },
        "outputId": "38ac0c63-1196-4212-c940-84123a6816c5"
      },
      "source": [
        "df.info()"
      ],
      "execution_count": null,
      "outputs": [
        {
          "output_type": "stream",
          "text": [
            "<class 'pandas.core.frame.DataFrame'>\n",
            "RangeIndex: 146660 entries, 0 to 146659\n",
            "Data columns (total 19 columns):\n",
            " #   Column           Non-Null Count   Dtype  \n",
            "---  ------           --------------   -----  \n",
            " 0   start_date       146660 non-null  object \n",
            " 1   end_date         146660 non-null  object \n",
            " 2   created_on       146660 non-null  object \n",
            " 3   lat              136735 non-null  float64\n",
            " 4   lon              136701 non-null  float64\n",
            " 5   l1               146660 non-null  object \n",
            " 6   l2               146660 non-null  object \n",
            " 7   l3               146660 non-null  object \n",
            " 8   rooms            146660 non-null  float64\n",
            " 9   bedrooms         146660 non-null  float64\n",
            " 10  bathrooms        140703 non-null  float64\n",
            " 11  surface_total    126133 non-null  float64\n",
            " 12  surface_covered  125046 non-null  float64\n",
            " 13  price            146660 non-null  float64\n",
            " 14  currency         146660 non-null  object \n",
            " 15  title            146660 non-null  object \n",
            " 16  description      146660 non-null  object \n",
            " 17  property_type    146660 non-null  object \n",
            " 18  operation_type   146660 non-null  object \n",
            "dtypes: float64(8), object(11)\n",
            "memory usage: 21.3+ MB\n"
          ],
          "name": "stdout"
        }
      ]
    },
    {
      "cell_type": "markdown",
      "metadata": {
        "id": "PmUsIwTCXWep"
      },
      "source": [
        "Corroboramos que el dataset cuenta con los siguientes 19 atributos:\n",
        "\n",
        "- **start_date:** fecha en formato año-mes-día en que inició la publicación.\n",
        "\n",
        "- **end_date:** fecha en formato año-mes-día en que finalizó la publicación.\n",
        "\n",
        "- **created_on:** fecha en formato año-mes-día en que se creó la publicación.\n",
        "\n",
        "- **lat:** latitud de la ubicación.\n",
        "\n",
        "- **lon:** longitud de la ubiucación.\n",
        "\n",
        "- **l1:** país del inmueble.\n",
        "\n",
        "- **l2:** zona del Gran Buenos Aires donde esta ubicado.\n",
        "\n",
        "- **l3:** barrio donde esta ubicado.\n",
        "\n",
        "- **rooms:** cantidad de espacios independientes.\n",
        "\n",
        "- **bedrooms:** cantidad de habitaciones.\n",
        "\n",
        "- **bathrooms:** cantidad de baños.\n",
        "\n",
        "- **surface_total:** superficie total.\n",
        "\n",
        "- **surface_covered:** superficie construida.\n",
        "\n",
        "- **price:** precio (este es nuestro target).\n",
        "\n",
        "- **currency:** moneda en que esta dado el precio.\n",
        "\n",
        "- **title:** titulo de la publicación.\n",
        "\n",
        "- **description:** descripción del inmueble.\n",
        "\n",
        "- **property_type:** tipo de propiedad.\n",
        "\n",
        "- **operation_type:** tipo de operación."
      ]
    },
    {
      "cell_type": "markdown",
      "metadata": {
        "id": "gpDnRROl553H"
      },
      "source": [
        "Exploraremos ahora con mayor detalle cada uno de los atributos para determinar cuáles de ellos nos son útiles, de cuales de ellos debemos prescindir porque no representan información relevante en nuestro contexto y cuáles deben ser transformados de manera inicial para que tengan una representación más limpia y homogénea en el dataset. "
      ]
    },
    {
      "cell_type": "markdown",
      "metadata": {
        "id": "jNbfCKbkXWZN"
      },
      "source": [
        "##### **---> Exploración variable start_date, end_date, y created_on:**"
      ]
    },
    {
      "cell_type": "code",
      "metadata": {
        "id": "i251wHZZZuSr",
        "colab": {
          "base_uri": "https://localhost:8080/"
        },
        "outputId": "26501704-c9d0-4b9a-d396-d41581ce00dd"
      },
      "source": [
        "df.start_date = pd.to_datetime(df.start_date)\n",
        "print(df.start_date.min().date())\n",
        "print(df.start_date.max().date())\n",
        "df_temp = df.start_date.value_counts().to_frame().reset_index().sort_values(by=['index']).reset_index(drop=True)\n",
        "df_temp=df_temp.groupby([pd.Grouper(key= 'index', freq='MS')])\\\n",
        "        .sum().reset_index()\n",
        "df_temp['index'] = df_temp['index'].apply(lambda x: str(x.date())[0:7])\n",
        "df_temp.columns=['Mes','Cantidad publicaciones']"
      ],
      "execution_count": null,
      "outputs": [
        {
          "output_type": "stream",
          "text": [
            "2019-01-01\n",
            "2020-01-25\n"
          ],
          "name": "stdout"
        }
      ]
    },
    {
      "cell_type": "code",
      "metadata": {
        "colab": {
          "base_uri": "https://localhost:8080/",
          "height": 409
        },
        "id": "naKxflRU77BX",
        "outputId": "9d725280-3a01-4b82-c4e7-52860f0ff695"
      },
      "source": [
        "plt.figure(figsize = (10,5))\n",
        "sns.barplot(data=df_temp, x=\"Mes\", y=\"Cantidad publicaciones\")\n",
        "plt.xticks(rotation=90)"
      ],
      "execution_count": null,
      "outputs": [
        {
          "output_type": "execute_result",
          "data": {
            "text/plain": [
              "(array([ 0,  1,  2,  3,  4,  5,  6,  7,  8,  9, 10, 11, 12]),\n",
              " <a list of 13 Text major ticklabel objects>)"
            ]
          },
          "metadata": {
            "tags": []
          },
          "execution_count": 7
        },
        {
          "output_type": "display_data",
          "data": {
            "image/png": "[encoded data removed]",
            "text/plain": [
              "<Figure size 720x360 with 1 Axes>"
            ]
          },
          "metadata": {
            "tags": [],
            "needs_background": "light"
          }
        }
      ]
    },
    {
      "cell_type": "markdown",
      "metadata": {
        "id": "xomVuInrKOoD"
      },
      "source": [
        "Aunque vemos que hay un comportamiento diferencial entre la cantidad de publicaciones en los diferentes meses del año, no centraremos nuestro estudio en dicho comportamiento. Si bien el precio de los inmuebles puede fluctuar dependiendo de la fecha de publicación, este comportamiento temporal es un comportamiento que se sugeriría estudiar con mayor detalle en el caso que se encuentre relevante para un segmento de inmuebles particular. \n",
        "\n",
        "Para nuestro caso específico prescindiremos de las variables asociadas a las fechas y asumiremos que las fechas tanto de inicio, finalización y creación de la publicación, no son relevantes frente a las restantes características de los inmuebles.\n",
        "\n",
        "**Procesamiento a aplicar:** las variables que serán descartadas en el dataframe de analisis.\n"
      ]
    },
    {
      "cell_type": "markdown",
      "metadata": {
        "id": "ics78OULZbzM"
      },
      "source": [
        "##### **---> Exploración variables lat y lon:**"
      ]
    },
    {
      "cell_type": "code",
      "metadata": {
        "colab": {
          "base_uri": "https://localhost:8080/",
          "height": 297
        },
        "id": "CXz1ileLZbzN",
        "outputId": "4435d127-46be-47bc-8713-f219e644ae6f"
      },
      "source": [
        "df[['lat','lon']].describe()"
      ],
      "execution_count": null,
      "outputs": [
        {
          "output_type": "execute_result",
          "data": {
            "text/html": [
              "<div>\n",
              "<style scoped>\n",
              "    .dataframe tbody tr th:only-of-type {\n",
              "        vertical-align: middle;\n",
              "    }\n",
              "\n",
              "    .dataframe tbody tr th {\n",
              "        vertical-align: top;\n",
              "    }\n",
              "\n",
              "    .dataframe thead th {\n",
              "        text-align: right;\n",
              "    }\n",
              "</style>\n",
              "<table border=\"1\" class=\"dataframe\">\n",
              "  <thead>\n",
              "    <tr style=\"text-align: right;\">\n",
              "      <th></th>\n",
              "      <th>lat</th>\n",
              "      <th>lon</th>\n",
              "    </tr>\n",
              "  </thead>\n",
              "  <tbody>\n",
              "    <tr>\n",
              "      <th>count</th>\n",
              "      <td>136735.000000</td>\n",
              "      <td>136701.000000</td>\n",
              "    </tr>\n",
              "    <tr>\n",
              "      <th>mean</th>\n",
              "      <td>-34.604896</td>\n",
              "      <td>-58.465304</td>\n",
              "    </tr>\n",
              "    <tr>\n",
              "      <th>std</th>\n",
              "      <td>0.468428</td>\n",
              "      <td>0.486190</td>\n",
              "    </tr>\n",
              "    <tr>\n",
              "      <th>min</th>\n",
              "      <td>-35.318457</td>\n",
              "      <td>-180.000000</td>\n",
              "    </tr>\n",
              "    <tr>\n",
              "      <th>25%</th>\n",
              "      <td>-34.627667</td>\n",
              "      <td>-58.504012</td>\n",
              "    </tr>\n",
              "    <tr>\n",
              "      <th>50%</th>\n",
              "      <td>-34.600943</td>\n",
              "      <td>-58.443262</td>\n",
              "    </tr>\n",
              "    <tr>\n",
              "      <th>75%</th>\n",
              "      <td>-34.574600</td>\n",
              "      <td>-58.407586</td>\n",
              "    </tr>\n",
              "    <tr>\n",
              "      <th>max</th>\n",
              "      <td>85.051129</td>\n",
              "      <td>-57.805832</td>\n",
              "    </tr>\n",
              "  </tbody>\n",
              "</table>\n",
              "</div>"
            ],
            "text/plain": [
              "                 lat            lon\n",
              "count  136735.000000  136701.000000\n",
              "mean      -34.604896     -58.465304\n",
              "std         0.468428       0.486190\n",
              "min       -35.318457    -180.000000\n",
              "25%       -34.627667     -58.504012\n",
              "50%       -34.600943     -58.443262\n",
              "75%       -34.574600     -58.407586\n",
              "max        85.051129     -57.805832"
            ]
          },
          "metadata": {
            "tags": []
          },
          "execution_count": 8
        }
      ]
    },
    {
      "cell_type": "markdown",
      "metadata": {
        "id": "LjEp0HbzMn1L"
      },
      "source": [
        "Aunque observamos que la distribución de latitudes y longitudes pueden presentar algunos valores atípicos en sus maximos y minimos, vemos acorde al percentil 75% y a su valor medio, que en general las latitudes y longitudes corresponden con las de la ciudad de buenos aires  (valores esperados próximos a: latitud 34.36 y longitud 58.26). \n",
        "\n",
        "Estas variables las tendremos en cuenta pues corresponden con geolocalizaciones, que en conjunto con otras variables de ubicación pueden presentar una influencia significativa en el precio de los inmuebles. \n",
        "\n",
        "**Procesamiento a aplicar:** las variables son de tipo numérico continuo. Se evaluarán y descartaran outliers y se escalarán sus datos. Los datos con valores faltantes no se imputarán, pues corresponden con a una ubicación muy específica para cada inmueble que no sería sensato obtener a partir de una imputación.\n",
        "\n"
      ]
    },
    {
      "cell_type": "markdown",
      "metadata": {
        "id": "Vm_IYQThZcFJ"
      },
      "source": [
        "##### **---> Exploración variables l1, l2 y l3:**"
      ]
    },
    {
      "cell_type": "code",
      "metadata": {
        "colab": {
          "base_uri": "https://localhost:8080/"
        },
        "id": "7H0RaeTAZcFK",
        "outputId": "99c9ca01-eaf2-49a1-db99-e8a21cefc7e1"
      },
      "source": [
        "df.l1.value_counts(dropna=False)"
      ],
      "execution_count": null,
      "outputs": [
        {
          "output_type": "execute_result",
          "data": {
            "text/plain": [
              "Argentina    146660\n",
              "Name: l1, dtype: int64"
            ]
          },
          "metadata": {
            "tags": []
          },
          "execution_count": 9
        }
      ]
    },
    {
      "cell_type": "markdown",
      "metadata": {
        "id": "qw9apCZKThtO"
      },
      "source": [
        "La variable l1 será descartada del total pues todos los inmuebles se encuentran en Argentina por lo cual no agrega valor alguno."
      ]
    },
    {
      "cell_type": "code",
      "metadata": {
        "colab": {
          "base_uri": "https://localhost:8080/",
          "height": 441
        },
        "id": "GrooF-LgZcMg",
        "outputId": "01da6ef0-a27b-43e4-a1a1-bcac2cced05c"
      },
      "source": [
        "plt.figure(figsize = (10,5))\n",
        "print(round(100*df.l2.value_counts(dropna=False, normalize=True),2))\n",
        "sns.countplot(data = df, y = 'l2', order = df['l2'].value_counts().index, palette='cool')"
      ],
      "execution_count": null,
      "outputs": [
        {
          "output_type": "stream",
          "text": [
            "Capital Federal             63.10\n",
            "Bs.As. G.B.A. Zona Norte    16.56\n",
            "Bs.As. G.B.A. Zona Sur      11.71\n",
            "Bs.As. G.B.A. Zona Oeste     8.64\n",
            "Name: l2, dtype: float64\n"
          ],
          "name": "stdout"
        },
        {
          "output_type": "execute_result",
          "data": {
            "text/plain": [
              "<matplotlib.axes._subplots.AxesSubplot at 0x7f68666fd610>"
            ]
          },
          "metadata": {
            "tags": []
          },
          "execution_count": 10
        },
        {
          "output_type": "display_data",
          "data": {
            "image/png": "[encoded data removed]",
            "text/plain": [
              "<Figure size 720x360 with 1 Axes>"
            ]
          },
          "metadata": {
            "tags": [],
            "needs_background": "light"
          }
        }
      ]
    },
    {
      "cell_type": "markdown",
      "metadata": {
        "id": "VPRywBHqTmC1"
      },
      "source": [
        "Dado que acorde a la distribución de la variable l2 la zona más representativa en relación con la cantidad de registros es Capital Federal (63% de los registros), filtraremos nuestro dataset para tener únicamente en cuenta los de esta Zona y así tener resultados comparativos de los modelos con los presentados en el primer proyecto."
      ]
    },
    {
      "cell_type": "code",
      "metadata": {
        "colab": {
          "base_uri": "https://localhost:8080/",
          "height": 1000
        },
        "id": "4rFL76b6ZcTM",
        "outputId": "99a7672c-1dca-48de-ebe5-03f6e82805d0"
      },
      "source": [
        "plt.figure(figsize = (15,20))\n",
        "print(round(100*df.l3.value_counts(dropna=False, normalize=True),2))\n",
        "sns.countplot(data = df, y = 'l3', order = df['l3'].value_counts().index, palette='cool')"
      ],
      "execution_count": null,
      "outputs": [
        {
          "output_type": "stream",
          "text": [
            "Palermo            8.91\n",
            "Tigre              5.94\n",
            "Almagro            5.13\n",
            "Belgrano           4.73\n",
            "Caballito          4.53\n",
            "                   ... \n",
            "Cañuelas           0.07\n",
            "Villa Soldati      0.05\n",
            "Villa Riachuelo    0.03\n",
            "Marcos Paz         0.02\n",
            "Catalinas          0.00\n",
            "Name: l3, Length: 89, dtype: float64\n"
          ],
          "name": "stdout"
        },
        {
          "output_type": "execute_result",
          "data": {
            "text/plain": [
              "<matplotlib.axes._subplots.AxesSubplot at 0x7f68657a1a10>"
            ]
          },
          "metadata": {
            "tags": []
          },
          "execution_count": 11
        },
        {
          "output_type": "display_data",
          "data": {
            "image/png": "[encoded data removed]",
            "text/plain": [
              "<Figure size 1080x1440 with 1 Axes>"
            ]
          },
          "metadata": {
            "tags": [],
            "needs_background": "light"
          }
        }
      ]
    },
    {
      "cell_type": "markdown",
      "metadata": {
        "id": "AafJ8gVTVjA2"
      },
      "source": [
        "Aunque respecto a la variable L3 se encuentra una distribución con barrios con cantidades significativas de registros (Palermo, Tigre, Almagro) y otros barrios con cantidades muy pequeñas (Catalinas, Marcos Paz), dejaremos todos los barrios para tener la totalidad de Capital federal para nuestro análisis. Además la localización del inmueble acorde al barrio puede ser una de las propiedades más sensibles para establecer su precio y queremos observar esta influencia en los modelos a evaluar.\n",
        "\n",
        "**Procesamiento a aplicar:** las variables que son de tipo categórico nominal, por tanto para poder incluirlos en los modelos aplicaremos one hot encoding. Adicional a ello los valores faltantes podrán imputarse a partir de las variables restantes que se consideren de mayor interés (latitud y longitud de manera más específica para esta variable)."
      ]
    },
    {
      "cell_type": "markdown",
      "metadata": {
        "id": "wAEX4cdmZcZi"
      },
      "source": [
        "##### **---> Exploración variables rooms, bedrooms, bathrooms:**"
      ]
    },
    {
      "cell_type": "code",
      "metadata": {
        "colab": {
          "base_uri": "https://localhost:8080/",
          "height": 297
        },
        "id": "JNWQCEv8ZcZi",
        "outputId": "a39b9db0-e9cc-4caf-9017-2d6bf8913a4c"
      },
      "source": [
        "df[['rooms','bedrooms', 'bathrooms']].describe()"
      ],
      "execution_count": null,
      "outputs": [
        {
          "output_type": "execute_result",
          "data": {
            "text/html": [
              "<div>\n",
              "<style scoped>\n",
              "    .dataframe tbody tr th:only-of-type {\n",
              "        vertical-align: middle;\n",
              "    }\n",
              "\n",
              "    .dataframe tbody tr th {\n",
              "        vertical-align: top;\n",
              "    }\n",
              "\n",
              "    .dataframe thead th {\n",
              "        text-align: right;\n",
              "    }\n",
              "</style>\n",
              "<table border=\"1\" class=\"dataframe\">\n",
              "  <thead>\n",
              "    <tr style=\"text-align: right;\">\n",
              "      <th></th>\n",
              "      <th>rooms</th>\n",
              "      <th>bedrooms</th>\n",
              "      <th>bathrooms</th>\n",
              "    </tr>\n",
              "  </thead>\n",
              "  <tbody>\n",
              "    <tr>\n",
              "      <th>count</th>\n",
              "      <td>146660.000000</td>\n",
              "      <td>146660.000000</td>\n",
              "      <td>140703.000000</td>\n",
              "    </tr>\n",
              "    <tr>\n",
              "      <th>mean</th>\n",
              "      <td>3.079817</td>\n",
              "      <td>1.983240</td>\n",
              "      <td>1.599994</td>\n",
              "    </tr>\n",
              "    <tr>\n",
              "      <th>std</th>\n",
              "      <td>1.416352</td>\n",
              "      <td>1.151304</td>\n",
              "      <td>0.889324</td>\n",
              "    </tr>\n",
              "    <tr>\n",
              "      <th>min</th>\n",
              "      <td>1.000000</td>\n",
              "      <td>0.000000</td>\n",
              "      <td>1.000000</td>\n",
              "    </tr>\n",
              "    <tr>\n",
              "      <th>25%</th>\n",
              "      <td>2.000000</td>\n",
              "      <td>1.000000</td>\n",
              "      <td>1.000000</td>\n",
              "    </tr>\n",
              "    <tr>\n",
              "      <th>50%</th>\n",
              "      <td>3.000000</td>\n",
              "      <td>2.000000</td>\n",
              "      <td>1.000000</td>\n",
              "    </tr>\n",
              "    <tr>\n",
              "      <th>75%</th>\n",
              "      <td>4.000000</td>\n",
              "      <td>3.000000</td>\n",
              "      <td>2.000000</td>\n",
              "    </tr>\n",
              "    <tr>\n",
              "      <th>max</th>\n",
              "      <td>35.000000</td>\n",
              "      <td>15.000000</td>\n",
              "      <td>14.000000</td>\n",
              "    </tr>\n",
              "  </tbody>\n",
              "</table>\n",
              "</div>"
            ],
            "text/plain": [
              "               rooms       bedrooms      bathrooms\n",
              "count  146660.000000  146660.000000  140703.000000\n",
              "mean        3.079817       1.983240       1.599994\n",
              "std         1.416352       1.151304       0.889324\n",
              "min         1.000000       0.000000       1.000000\n",
              "25%         2.000000       1.000000       1.000000\n",
              "50%         3.000000       2.000000       1.000000\n",
              "75%         4.000000       3.000000       2.000000\n",
              "max        35.000000      15.000000      14.000000"
            ]
          },
          "metadata": {
            "tags": []
          },
          "execution_count": 12
        }
      ]
    },
    {
      "cell_type": "markdown",
      "metadata": {
        "id": "XIgYM7Kpaelz"
      },
      "source": [
        "Acorde a la distribución de las variables encontramos fijándonos en el valor de los percentiles que por lo menos el 75% de las propiedades corresponden a inmuebles que tienen como máximo 4 espacios, 3 habitaciones y 2 baños. Esto corresponde en general con propiedades que seguramente serán del tipo Departamento, Casa o PH. \n",
        "\n",
        "Mantendremos todas las variables, pues en conjunto con la ubicación y la superficie pueden ser las variables más relevantes al determinar el precio de los inmuebles.\n",
        "\n",
        "**Procesamiento a aplicar:** las variables que son de tipo numérico discreto y esto hace que se puedan tener 2 aproximaciones en su transformación. Por una parte al tratarse de variables numéricas podemos establecer outliers respecto a su distribución y podemos normalizarlas, y por otra parte, dado que los grupos en los cuales se distribuyen no son muchas pueden considerarse también como variables categóricas de tipo ordinal con lo cual podría aplicarse label encoding para incluirlas en el modelo. La elección de la bondad de un camino u otro se dará al momento de evaluar los modelos. Adicional a ello los valores faltantes podrán imputarse a partir de las variables restantes que se consideren de mayor interés (quizá superficie, tipo de propiedad y las restantes rooms, bedrooms y bathroms que se conozcan).\n"
      ]
    },
    {
      "cell_type": "markdown",
      "metadata": {
        "id": "WJr_1s6fZcx9"
      },
      "source": [
        "##### **---> Exploración variables surface_total  y surface covered:**"
      ]
    },
    {
      "cell_type": "code",
      "metadata": {
        "colab": {
          "base_uri": "https://localhost:8080/",
          "height": 297
        },
        "id": "4CE3wtULZcx-",
        "outputId": "435e4675-1963-4c9e-d715-008a4fbcf8d9"
      },
      "source": [
        "df[['surface_total','surface_covered']].describe()"
      ],
      "execution_count": null,
      "outputs": [
        {
          "output_type": "execute_result",
          "data": {
            "text/html": [
              "<div>\n",
              "<style scoped>\n",
              "    .dataframe tbody tr th:only-of-type {\n",
              "        vertical-align: middle;\n",
              "    }\n",
              "\n",
              "    .dataframe tbody tr th {\n",
              "        vertical-align: top;\n",
              "    }\n",
              "\n",
              "    .dataframe thead th {\n",
              "        text-align: right;\n",
              "    }\n",
              "</style>\n",
              "<table border=\"1\" class=\"dataframe\">\n",
              "  <thead>\n",
              "    <tr style=\"text-align: right;\">\n",
              "      <th></th>\n",
              "      <th>surface_total</th>\n",
              "      <th>surface_covered</th>\n",
              "    </tr>\n",
              "  </thead>\n",
              "  <tbody>\n",
              "    <tr>\n",
              "      <th>count</th>\n",
              "      <td>126133.000000</td>\n",
              "      <td>125046.000000</td>\n",
              "    </tr>\n",
              "    <tr>\n",
              "      <th>mean</th>\n",
              "      <td>216.872888</td>\n",
              "      <td>112.818011</td>\n",
              "    </tr>\n",
              "    <tr>\n",
              "      <th>std</th>\n",
              "      <td>2037.606649</td>\n",
              "      <td>916.857584</td>\n",
              "    </tr>\n",
              "    <tr>\n",
              "      <th>min</th>\n",
              "      <td>10.000000</td>\n",
              "      <td>1.000000</td>\n",
              "    </tr>\n",
              "    <tr>\n",
              "      <th>25%</th>\n",
              "      <td>52.000000</td>\n",
              "      <td>47.000000</td>\n",
              "    </tr>\n",
              "    <tr>\n",
              "      <th>50%</th>\n",
              "      <td>78.000000</td>\n",
              "      <td>68.000000</td>\n",
              "    </tr>\n",
              "    <tr>\n",
              "      <th>75%</th>\n",
              "      <td>140.000000</td>\n",
              "      <td>108.000000</td>\n",
              "    </tr>\n",
              "    <tr>\n",
              "      <th>max</th>\n",
              "      <td>193549.000000</td>\n",
              "      <td>126062.000000</td>\n",
              "    </tr>\n",
              "  </tbody>\n",
              "</table>\n",
              "</div>"
            ],
            "text/plain": [
              "       surface_total  surface_covered\n",
              "count  126133.000000    125046.000000\n",
              "mean      216.872888       112.818011\n",
              "std      2037.606649       916.857584\n",
              "min        10.000000         1.000000\n",
              "25%        52.000000        47.000000\n",
              "50%        78.000000        68.000000\n",
              "75%       140.000000       108.000000\n",
              "max    193549.000000    126062.000000"
            ]
          },
          "metadata": {
            "tags": []
          },
          "execution_count": 13
        }
      ]
    },
    {
      "cell_type": "markdown",
      "metadata": {
        "id": "gsUtiaXShdmq"
      },
      "source": [
        "Acorde a la distribución de las variables encontramos que son quizá las presentan un comportamiento menos homogéneo. Puede observarse como la desviación estándar es muy superior a los valores medios, y como entre los percentiles 75% y los valores máximos, o como entre el percentil 25% y los valores mínimos encontramos grandes brechas.\n",
        "\n",
        "Dado que el tipo de propiedades que evaluaremos corresponden a propiedades de tipo del tipo Departamento, Casa o PH, en las cuales la mayoría la superficie construido abarca casi la totalidad de la perficie cubierta, eliminaremos la variable de superficie cubierta para que no presenten colinealidad, lo que puede hacer que algunos modelos (como el regresor lineal, por ejemplo) presenten comportamientos anómalos por no lograr discriminar de manera diferenciada el aporte que están teniendo cada una de las dos variables.\n",
        "\n",
        "Sin embargo la variable que mantendremos, superficie total, será una de las variables más sensible al momento de estimar el precio de los inmuebles.\n",
        "\n",
        "**Procesamiento a aplicar:** las variables son de tipo numérico continuo por lo cual se generará por un aparte eliminación de outliers y por otra escalado de los datos que acorde a la distribución puede ser de tipo logarítmico (dada la larga cola de la distribución, gran distancia entre el percentil 75 y los valores máximos). Adicional a ello los valores faltantes podrán imputarse a partir de las variables restantes que se consideren de mayor interés (cantidad de rooms, bedroooms y el otro valor de superficie si se conoce)."
      ]
    },
    {
      "cell_type": "markdown",
      "metadata": {
        "id": "4jhc38s8ZdIo"
      },
      "source": [
        "##### **---> Exploración variable price:**"
      ]
    },
    {
      "cell_type": "code",
      "metadata": {
        "colab": {
          "base_uri": "https://localhost:8080/",
          "height": 297
        },
        "id": "3v4hTNkXZdIp",
        "outputId": "4a0ef9b2-8eae-4be9-a69d-8502913e250c"
      },
      "source": [
        "df[['price']].describe()"
      ],
      "execution_count": null,
      "outputs": [
        {
          "output_type": "execute_result",
          "data": {
            "text/html": [
              "<div>\n",
              "<style scoped>\n",
              "    .dataframe tbody tr th:only-of-type {\n",
              "        vertical-align: middle;\n",
              "    }\n",
              "\n",
              "    .dataframe tbody tr th {\n",
              "        vertical-align: top;\n",
              "    }\n",
              "\n",
              "    .dataframe thead th {\n",
              "        text-align: right;\n",
              "    }\n",
              "</style>\n",
              "<table border=\"1\" class=\"dataframe\">\n",
              "  <thead>\n",
              "    <tr style=\"text-align: right;\">\n",
              "      <th></th>\n",
              "      <th>price</th>\n",
              "    </tr>\n",
              "  </thead>\n",
              "  <tbody>\n",
              "    <tr>\n",
              "      <th>count</th>\n",
              "      <td>1.466600e+05</td>\n",
              "    </tr>\n",
              "    <tr>\n",
              "      <th>mean</th>\n",
              "      <td>2.412211e+05</td>\n",
              "    </tr>\n",
              "    <tr>\n",
              "      <th>std</th>\n",
              "      <td>3.185195e+05</td>\n",
              "    </tr>\n",
              "    <tr>\n",
              "      <th>min</th>\n",
              "      <td>5.500000e+03</td>\n",
              "    </tr>\n",
              "    <tr>\n",
              "      <th>25%</th>\n",
              "      <td>1.110000e+05</td>\n",
              "    </tr>\n",
              "    <tr>\n",
              "      <th>50%</th>\n",
              "      <td>1.660000e+05</td>\n",
              "    </tr>\n",
              "    <tr>\n",
              "      <th>75%</th>\n",
              "      <td>2.650000e+05</td>\n",
              "    </tr>\n",
              "    <tr>\n",
              "      <th>max</th>\n",
              "      <td>3.243423e+07</td>\n",
              "    </tr>\n",
              "  </tbody>\n",
              "</table>\n",
              "</div>"
            ],
            "text/plain": [
              "              price\n",
              "count  1.466600e+05\n",
              "mean   2.412211e+05\n",
              "std    3.185195e+05\n",
              "min    5.500000e+03\n",
              "25%    1.110000e+05\n",
              "50%    1.660000e+05\n",
              "75%    2.650000e+05\n",
              "max    3.243423e+07"
            ]
          },
          "metadata": {
            "tags": []
          },
          "execution_count": 14
        }
      ]
    },
    {
      "cell_type": "markdown",
      "metadata": {
        "id": "bEujNY-ejd9_"
      },
      "source": [
        "La variable precio presenta un comportamiento similar a la variable superficie en cuanto a las distribuciones de percentiles, mínimos, máximos y desviaciones estándar. Por esta razón presentará un tratamiento similar. Es de resaltar además que esta es nuestra variable objetivo de estudio por lo cual debe mantenerse de manera obligatoria.\n",
        "\n",
        "**Procesamiento a aplicar:** la variables son de tipo numérico continuo por lo cual se generará por un aparte eliminación de outliers y por otra escalado de los datos que acorde a la distribución puede ser de tipo logarítmico (dada la larga cola de la distribución, gran distancia entre el percentil 75 y los valores máximos). Adicional a ello los valores faltantes podrán imputarse a partir de las variables restantes que se consideren de mayor interés."
      ]
    },
    {
      "cell_type": "markdown",
      "metadata": {
        "id": "UKv_gtI5ZdPu"
      },
      "source": [
        "##### **---> Exploración variable currency:**"
      ]
    },
    {
      "cell_type": "code",
      "metadata": {
        "colab": {
          "base_uri": "https://localhost:8080/"
        },
        "id": "vhmBbbwzZdPv",
        "outputId": "feb4b950-4579-4464-f538-e17ebf3debdb"
      },
      "source": [
        "df.currency.value_counts(dropna=False)"
      ],
      "execution_count": null,
      "outputs": [
        {
          "output_type": "execute_result",
          "data": {
            "text/plain": [
              "USD    146660\n",
              "Name: currency, dtype: int64"
            ]
          },
          "metadata": {
            "tags": []
          },
          "execution_count": 15
        }
      ]
    },
    {
      "cell_type": "markdown",
      "metadata": {
        "id": "vBkhn9L0lwWG"
      },
      "source": [
        "La variable currency será descartada del total pues todos los inmuebles corresponden a dolares por lo cual no agrega valor alguno."
      ]
    },
    {
      "cell_type": "markdown",
      "metadata": {
        "id": "GSqseAsRZdXC"
      },
      "source": [
        "##### **---> Exploración variables title y description:**"
      ]
    },
    {
      "cell_type": "code",
      "metadata": {
        "colab": {
          "base_uri": "https://localhost:8080/"
        },
        "id": "gUNDc53xZdXC",
        "outputId": "c62456ca-7e96-4ddf-afef-75533d4511bc"
      },
      "source": [
        "df.title"
      ],
      "execution_count": null,
      "outputs": [
        {
          "output_type": "execute_result",
          "data": {
            "text/plain": [
              "0               ***Venta semipiso centro, ideal hostel*****\n",
              "1          Espectacular PH reciclado en Boedo sin expensas.\n",
              "2         Depto.tipo casa de 2 ambientes en Venta en Pal...\n",
              "3         COSTA RICA 5800 / PALERMO HOLLYWOOD / VENTA PH...\n",
              "4         58 entre 1 y 2  Venta de departamento en ph.1 ...\n",
              "                                ...                        \n",
              "146655    Departamento en Venta en Barrio Privado Barran...\n",
              "146656    Venta departamentos tres dormitorios jardín co...\n",
              "146657    Venta departamento de un ambiente Manzanares C...\n",
              "146658             Departamento en Venta. Manzanares chico.\n",
              "146659            Departamento en venta en Manzanares Chico\n",
              "Name: title, Length: 146660, dtype: object"
            ]
          },
          "metadata": {
            "tags": []
          },
          "execution_count": 16
        }
      ]
    },
    {
      "cell_type": "code",
      "metadata": {
        "id": "6AJreAvSno5K",
        "colab": {
          "base_uri": "https://localhost:8080/"
        },
        "outputId": "68abb9c8-041a-4e80-d268-5f1768cf62bf"
      },
      "source": [
        "df.description"
      ],
      "execution_count": null,
      "outputs": [
        {
          "output_type": "execute_result",
          "data": {
            "text/plain": [
              "0         DESCRIPCION DE LA PROPIEDAD: Departamento de 1...\n",
              "1          PH reciclado en Boedo a una cuadra de la plaz...\n",
              "2         2 ambienets amplio , excelente estado , patio ...\n",
              "3         HERMOSO PH EN PALERMO!!!2 AMBIENTES TOTALMENTE...\n",
              "4         58 entre 1 y 2  Venta de departamento en PH. P...\n",
              "                                ...                        \n",
              "146655    Departamento de 2 ambientesCocina con alacena ...\n",
              "146656    Muy buen duplex a estrenar en dos plantas más ...\n",
              "146657    En los Condominios de Campo Manzanares Chico, ...\n",
              "146658    Broker: Maria 11Departamento de dos ambientes ...\n",
              "146659    Departamento en el Barrio Manzanares Chico , e...\n",
              "Name: description, Length: 146660, dtype: object"
            ]
          },
          "metadata": {
            "tags": []
          },
          "execution_count": 17
        }
      ]
    },
    {
      "cell_type": "markdown",
      "metadata": {
        "id": "b_MjSamLnFIV"
      },
      "source": [
        "Aunque la descripción del inmueble y el titulo del anuncio puedan ser elementos de interés al estudiarse con herramientas de procesamiento de lenguaje natural (NLP), este enfoque excede el alcance que hemos dado al presente proyecto por lo cual será una variable que descartaremos de antemano."
      ]
    },
    {
      "cell_type": "markdown",
      "metadata": {
        "id": "ldbGS_MZZdlc"
      },
      "source": [
        "##### **---> Exploración variable property_type:**"
      ]
    },
    {
      "cell_type": "code",
      "metadata": {
        "colab": {
          "base_uri": "https://localhost:8080/",
          "height": 543
        },
        "id": "-9IvCDQVZdlc",
        "outputId": "b4b1148a-778d-4793-c0cb-fe6b36646db9"
      },
      "source": [
        "plt.figure(figsize = (10,5))\n",
        "print(round(100*df.property_type.value_counts(dropna=False, normalize=True),2))\n",
        "sns.countplot(data = df, y = 'property_type', order = df['property_type'].value_counts().index, palette='cool')"
      ],
      "execution_count": null,
      "outputs": [
        {
          "output_type": "stream",
          "text": [
            "Departamento       73.18\n",
            "Casa               14.67\n",
            "PH                  9.75\n",
            "Lote                0.89\n",
            "Oficina             0.45\n",
            "Otro                0.26\n",
            "Local comercial     0.22\n",
            "Casa de campo       0.22\n",
            "Depósito            0.18\n",
            "Cochera             0.18\n",
            "Name: property_type, dtype: float64\n"
          ],
          "name": "stdout"
        },
        {
          "output_type": "execute_result",
          "data": {
            "text/plain": [
              "<matplotlib.axes._subplots.AxesSubplot at 0x7f68657a1b10>"
            ]
          },
          "metadata": {
            "tags": []
          },
          "execution_count": 18
        },
        {
          "output_type": "display_data",
          "data": {
            "image/png": "[encoded data removed]",
            "text/plain": [
              "<Figure size 720x360 with 1 Axes>"
            ]
          },
          "metadata": {
            "tags": [],
            "needs_background": "light"
          }
        }
      ]
    },
    {
      "cell_type": "markdown",
      "metadata": {
        "id": "w5MwtLlGp_5j"
      },
      "source": [
        "Dado que acorde a la distribución de la variable tipo de inmueble las  categorías más representativas son Departamento, Casa y PH (en conjunto representan más del 90% de las propiedades), filtraremos nuestro dataset para tener únicamente en cuenta estas 3 categorías y así tener información comparativa de los modelos con los presentados en el primer proyecto. \n",
        "\n",
        "**Procesamiento a aplicar:** la variable es de tipo categórico nominal, por tanto para poder incluirla en los modelos aplicaremos one hot encoding. Adicional a ello los valores faltantes podrán imputarse a partir de las variables restantes que se consideren de mayor interés (superficie y cantidad de baños, espacios y habitaciones)."
      ]
    },
    {
      "cell_type": "markdown",
      "metadata": {
        "id": "BGixeA-KsWEM"
      },
      "source": [
        "### **EP. 1.3.** Eliminación de variables y filtrado de categorias de interes."
      ]
    },
    {
      "cell_type": "markdown",
      "metadata": {
        "id": "8PiZwg-Zufsu"
      },
      "source": [
        "##### **---> Eliminación de variables:**"
      ]
    },
    {
      "cell_type": "markdown",
      "metadata": {
        "id": "7oGM1E6wvO07"
      },
      "source": [
        "Acorde a lo discutido en el numeral anterior, descartamos del total 3 tipos de variables que no resultan útiles para nuestro caso de estudio: variables que presentan atributos asociados a fechas, variables que presenta un único valor y variables con textos descriptivos. Estas variables las eliminamos en esta sección de manera definitiva."
      ]
    },
    {
      "cell_type": "code",
      "metadata": {
        "id": "0I6FgwC4tE-E"
      },
      "source": [
        "# Atributos asociados a fechas\n",
        "list_descartar_dates= ['start_date','end_date','created_on']\n",
        "# Atributos con un único valor\n",
        "list_descartar_uni_val= ['l1','operation_type','currency']\n",
        "# Atributo con texto descriptivo\n",
        "list_descartar_text_vdesc= ['title','description']\n",
        "# Totalidad de los atributos a descartar\n",
        "list_descartar = list_descartar_dates + list_descartar_uni_val + list_descartar_text_vdesc"
      ],
      "execution_count": null,
      "outputs": []
    },
    {
      "cell_type": "code",
      "metadata": {
        "id": "DQOb7ie3tFAl",
        "colab": {
          "base_uri": "https://localhost:8080/",
          "height": 813
        },
        "outputId": "edb30076-fca6-4d40-db2f-71a664213819"
      },
      "source": [
        "# Reescribimos el dataframe con los valores ya filtrados\n",
        "df= df.drop(list_descartar,axis=1)\n",
        "df"
      ],
      "execution_count": null,
      "outputs": [
        {
          "output_type": "execute_result",
          "data": {
            "text/html": [
              "<div>\n",
              "<style scoped>\n",
              "    .dataframe tbody tr th:only-of-type {\n",
              "        vertical-align: middle;\n",
              "    }\n",
              "\n",
              "    .dataframe tbody tr th {\n",
              "        vertical-align: top;\n",
              "    }\n",
              "\n",
              "    .dataframe thead th {\n",
              "        text-align: right;\n",
              "    }\n",
              "</style>\n",
              "<table border=\"1\" class=\"dataframe\">\n",
              "  <thead>\n",
              "    <tr style=\"text-align: right;\">\n",
              "      <th></th>\n",
              "      <th>lat</th>\n",
              "      <th>lon</th>\n",
              "      <th>l2</th>\n",
              "      <th>l3</th>\n",
              "      <th>rooms</th>\n",
              "      <th>bedrooms</th>\n",
              "      <th>bathrooms</th>\n",
              "      <th>surface_total</th>\n",
              "      <th>surface_covered</th>\n",
              "      <th>price</th>\n",
              "      <th>property_type</th>\n",
              "    </tr>\n",
              "  </thead>\n",
              "  <tbody>\n",
              "    <tr>\n",
              "      <th>0</th>\n",
              "      <td>-34.605880</td>\n",
              "      <td>-58.384949</td>\n",
              "      <td>Capital Federal</td>\n",
              "      <td>San Cristobal</td>\n",
              "      <td>7.0</td>\n",
              "      <td>7.0</td>\n",
              "      <td>2.0</td>\n",
              "      <td>140.0</td>\n",
              "      <td>140.0</td>\n",
              "      <td>153000.0</td>\n",
              "      <td>Departamento</td>\n",
              "    </tr>\n",
              "    <tr>\n",
              "      <th>1</th>\n",
              "      <td>-34.624056</td>\n",
              "      <td>-58.412110</td>\n",
              "      <td>Capital Federal</td>\n",
              "      <td>Boedo</td>\n",
              "      <td>2.0</td>\n",
              "      <td>1.0</td>\n",
              "      <td>2.0</td>\n",
              "      <td>70.0</td>\n",
              "      <td>58.0</td>\n",
              "      <td>159000.0</td>\n",
              "      <td>PH</td>\n",
              "    </tr>\n",
              "    <tr>\n",
              "      <th>2</th>\n",
              "      <td>-34.593569</td>\n",
              "      <td>-58.427474</td>\n",
              "      <td>Capital Federal</td>\n",
              "      <td>Palermo</td>\n",
              "      <td>2.0</td>\n",
              "      <td>1.0</td>\n",
              "      <td>1.0</td>\n",
              "      <td>45.0</td>\n",
              "      <td>45.0</td>\n",
              "      <td>125000.0</td>\n",
              "      <td>PH</td>\n",
              "    </tr>\n",
              "    <tr>\n",
              "      <th>3</th>\n",
              "      <td>-34.581294</td>\n",
              "      <td>-58.436754</td>\n",
              "      <td>Capital Federal</td>\n",
              "      <td>Palermo</td>\n",
              "      <td>2.0</td>\n",
              "      <td>1.0</td>\n",
              "      <td>1.0</td>\n",
              "      <td>85.0</td>\n",
              "      <td>50.0</td>\n",
              "      <td>295000.0</td>\n",
              "      <td>PH</td>\n",
              "    </tr>\n",
              "    <tr>\n",
              "      <th>4</th>\n",
              "      <td>-34.914194</td>\n",
              "      <td>-57.938219</td>\n",
              "      <td>Bs.As. G.B.A. Zona Sur</td>\n",
              "      <td>La Plata</td>\n",
              "      <td>2.0</td>\n",
              "      <td>1.0</td>\n",
              "      <td>1.0</td>\n",
              "      <td>50.0</td>\n",
              "      <td>35.0</td>\n",
              "      <td>40000.0</td>\n",
              "      <td>PH</td>\n",
              "    </tr>\n",
              "    <tr>\n",
              "      <th>...</th>\n",
              "      <td>...</td>\n",
              "      <td>...</td>\n",
              "      <td>...</td>\n",
              "      <td>...</td>\n",
              "      <td>...</td>\n",
              "      <td>...</td>\n",
              "      <td>...</td>\n",
              "      <td>...</td>\n",
              "      <td>...</td>\n",
              "      <td>...</td>\n",
              "      <td>...</td>\n",
              "    </tr>\n",
              "    <tr>\n",
              "      <th>146655</th>\n",
              "      <td>-34.816348</td>\n",
              "      <td>-58.181963</td>\n",
              "      <td>Bs.As. G.B.A. Zona Sur</td>\n",
              "      <td>Berazategui</td>\n",
              "      <td>2.0</td>\n",
              "      <td>1.0</td>\n",
              "      <td>1.0</td>\n",
              "      <td>54.0</td>\n",
              "      <td>48.0</td>\n",
              "      <td>165000.0</td>\n",
              "      <td>Departamento</td>\n",
              "    </tr>\n",
              "    <tr>\n",
              "      <th>146656</th>\n",
              "      <td>-34.446459</td>\n",
              "      <td>-58.937810</td>\n",
              "      <td>Bs.As. G.B.A. Zona Norte</td>\n",
              "      <td>Pilar</td>\n",
              "      <td>4.0</td>\n",
              "      <td>3.0</td>\n",
              "      <td>2.0</td>\n",
              "      <td>164.0</td>\n",
              "      <td>90.0</td>\n",
              "      <td>130000.0</td>\n",
              "      <td>Departamento</td>\n",
              "    </tr>\n",
              "    <tr>\n",
              "      <th>146657</th>\n",
              "      <td>-34.444633</td>\n",
              "      <td>-58.981606</td>\n",
              "      <td>Bs.As. G.B.A. Zona Norte</td>\n",
              "      <td>Pilar</td>\n",
              "      <td>1.0</td>\n",
              "      <td>1.0</td>\n",
              "      <td>1.0</td>\n",
              "      <td>50.0</td>\n",
              "      <td>35.0</td>\n",
              "      <td>73000.0</td>\n",
              "      <td>Departamento</td>\n",
              "    </tr>\n",
              "    <tr>\n",
              "      <th>146658</th>\n",
              "      <td>-34.444830</td>\n",
              "      <td>-58.981796</td>\n",
              "      <td>Bs.As. G.B.A. Zona Norte</td>\n",
              "      <td>Pilar</td>\n",
              "      <td>2.0</td>\n",
              "      <td>1.0</td>\n",
              "      <td>1.0</td>\n",
              "      <td>38.0</td>\n",
              "      <td>38.0</td>\n",
              "      <td>68000.0</td>\n",
              "      <td>Departamento</td>\n",
              "    </tr>\n",
              "    <tr>\n",
              "      <th>146659</th>\n",
              "      <td>-34.444760</td>\n",
              "      <td>-58.981885</td>\n",
              "      <td>Bs.As. G.B.A. Zona Norte</td>\n",
              "      <td>Pilar</td>\n",
              "      <td>3.0</td>\n",
              "      <td>2.0</td>\n",
              "      <td>1.0</td>\n",
              "      <td>75.0</td>\n",
              "      <td>75.0</td>\n",
              "      <td>98000.0</td>\n",
              "      <td>Departamento</td>\n",
              "    </tr>\n",
              "  </tbody>\n",
              "</table>\n",
              "<p>146660 rows × 11 columns</p>\n",
              "</div>"
            ],
            "text/plain": [
              "              lat        lon                        l2             l3  rooms  \\\n",
              "0      -34.605880 -58.384949           Capital Federal  San Cristobal    7.0   \n",
              "1      -34.624056 -58.412110           Capital Federal          Boedo    2.0   \n",
              "2      -34.593569 -58.427474           Capital Federal        Palermo    2.0   \n",
              "3      -34.581294 -58.436754           Capital Federal        Palermo    2.0   \n",
              "4      -34.914194 -57.938219    Bs.As. G.B.A. Zona Sur       La Plata    2.0   \n",
              "...           ...        ...                       ...            ...    ...   \n",
              "146655 -34.816348 -58.181963    Bs.As. G.B.A. Zona Sur    Berazategui    2.0   \n",
              "146656 -34.446459 -58.937810  Bs.As. G.B.A. Zona Norte          Pilar    4.0   \n",
              "146657 -34.444633 -58.981606  Bs.As. G.B.A. Zona Norte          Pilar    1.0   \n",
              "146658 -34.444830 -58.981796  Bs.As. G.B.A. Zona Norte          Pilar    2.0   \n",
              "146659 -34.444760 -58.981885  Bs.As. G.B.A. Zona Norte          Pilar    3.0   \n",
              "\n",
              "        bedrooms  bathrooms  surface_total  surface_covered     price  \\\n",
              "0            7.0        2.0          140.0            140.0  153000.0   \n",
              "1            1.0        2.0           70.0             58.0  159000.0   \n",
              "2            1.0        1.0           45.0             45.0  125000.0   \n",
              "3            1.0        1.0           85.0             50.0  295000.0   \n",
              "4            1.0        1.0           50.0             35.0   40000.0   \n",
              "...          ...        ...            ...              ...       ...   \n",
              "146655       1.0        1.0           54.0             48.0  165000.0   \n",
              "146656       3.0        2.0          164.0             90.0  130000.0   \n",
              "146657       1.0        1.0           50.0             35.0   73000.0   \n",
              "146658       1.0        1.0           38.0             38.0   68000.0   \n",
              "146659       2.0        1.0           75.0             75.0   98000.0   \n",
              "\n",
              "       property_type  \n",
              "0       Departamento  \n",
              "1                 PH  \n",
              "2                 PH  \n",
              "3                 PH  \n",
              "4                 PH  \n",
              "...              ...  \n",
              "146655  Departamento  \n",
              "146656  Departamento  \n",
              "146657  Departamento  \n",
              "146658  Departamento  \n",
              "146659  Departamento  \n",
              "\n",
              "[146660 rows x 11 columns]"
            ]
          },
          "metadata": {
            "tags": []
          },
          "execution_count": 20
        }
      ]
    },
    {
      "cell_type": "code",
      "metadata": {
        "id": "V3IJrKRAxmhg"
      },
      "source": [
        "#### Variables con colinelidad?"
      ],
      "execution_count": null,
      "outputs": []
    },
    {
      "cell_type": "markdown",
      "metadata": {
        "id": "ktVgHTt4vYe2"
      },
      "source": [
        "##### **---> Filtrado de categorías de interes:**"
      ]
    },
    {
      "cell_type": "code",
      "metadata": {
        "id": "59FSUxtStFCt"
      },
      "source": [
        "df=df[(df_properati.l2 == 'Capital Federal')\n",
        "df=df[df_properati.property_type.isin(['Departamento','Casa','PH']))\n"
      ],
      "execution_count": null,
      "outputs": []
    }
  ]
}