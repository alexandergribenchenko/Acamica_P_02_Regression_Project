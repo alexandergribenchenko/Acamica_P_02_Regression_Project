{
  "nbformat": 4,
  "nbformat_minor": 0,
  "metadata": {
    "kernelspec": {
      "display_name": "Python 3",
      "language": "python",
      "name": "python3"
    },
    "language_info": {
      "codemirror_mode": {
        "name": "ipython",
        "version": 3
      },
      "file_extension": ".py",
      "mimetype": "text/x-python",
      "name": "python",
      "nbconvert_exporter": "python",
      "pygments_lexer": "ipython3",
      "version": "3.8.8"
    },
    "colab": {
      "name": "DS_Proyecto_02.ipynb",
      "provenance": [],
      "toc_visible": true,
      "include_colab_link": true
    },
    "accelerator": "GPU"
  },
  "cells": [
    {
      "cell_type": "markdown",
      "metadata": {
        "id": "view-in-github",
        "colab_type": "text"
      },
      "source": [
        "<a href=\"https://colab.research.google.com/github/alexandergribenchenko/Acamica_Proyecto_02/blob/main/DS_Proyecto_02_V_13.ipynb\" target=\"_parent\"><img src=\"https://colab.research.google.com/assets/colab-badge.svg\" alt=\"Open In Colab\"/></a>"
      ]
    },
    {
      "cell_type": "markdown",
      "metadata": {
        "id": "XAMLpLgdGJ5W"
      },
      "source": [
        "# **Proyecto 02 - Ingeniería de features, Modelos avanzados e Interpretación de modelos** (Armado) V_11"
      ]
    },
    {
      "cell_type": "markdown",
      "metadata": {
        "id": "hovEgj74GJ5X"
      },
      "source": [
        "### (Acámica - DS online 40 - Proyecto 02 - Alexander Ortega)"
      ]
    },
    {
      "cell_type": "markdown",
      "metadata": {
        "id": "wxpYDd1mEb4k"
      },
      "source": [
        "# **Alcance y objeto del proyecto:**\n"
      ]
    },
    {
      "cell_type": "markdown",
      "metadata": {
        "id": "6MeSr6lLEnBg"
      },
      "source": [
        "El presente proyecto tiene como finalidad exhibir e implementar un conjunto de herramientas analíticas y predictivas propias de problemas del aprendizaje supervisado, más especificamante de problemas de regresión, empleando como contexto específico el estudio de los precios de los inmuebles de la Ciudad de Buenos Aires entre 2019 y enero de 2020, con el fin de generar y evaluar modelos que permitan hacer su predicción. "
      ]
    },
    {
      "cell_type": "markdown",
      "metadata": {
        "id": "lbEBtnt9FFan"
      },
      "source": [
        "##### ---> Librerías a emplear en el proyecto:"
      ]
    },
    {
      "cell_type": "code",
      "metadata": {
        "colab": {
          "base_uri": "https://localhost:8080/"
        },
        "id": "H9M2TjbgQkfh",
        "outputId": "62c84076-7a2a-4836-c49f-8bd725c9bf57"
      },
      "source": [
        "!pip install --upgrade scikit-learn"
      ],
      "execution_count": 1,
      "outputs": [
        {
          "output_type": "stream",
          "text": [
            "Requirement already up-to-date: scikit-learn in /usr/local/lib/python3.7/dist-packages (0.24.2)\n",
            "Requirement already satisfied, skipping upgrade: joblib>=0.11 in /usr/local/lib/python3.7/dist-packages (from scikit-learn) (1.0.1)\n",
            "Requirement already satisfied, skipping upgrade: scipy>=0.19.1 in /usr/local/lib/python3.7/dist-packages (from scikit-learn) (1.4.1)\n",
            "Requirement already satisfied, skipping upgrade: threadpoolctl>=2.0.0 in /usr/local/lib/python3.7/dist-packages (from scikit-learn) (2.1.0)\n",
            "Requirement already satisfied, skipping upgrade: numpy>=1.13.3 in /usr/local/lib/python3.7/dist-packages (from scikit-learn) (1.19.5)\n"
          ],
          "name": "stdout"
        }
      ]
    },
    {
      "cell_type": "code",
      "metadata": {
        "colab": {
          "base_uri": "https://localhost:8080/"
        },
        "id": "AtObtnd0QaSw",
        "outputId": "0cd25e1a-6040-4f43-8182-be829d643fbc"
      },
      "source": [
        "!pip install --upgrade xgboost"
      ],
      "execution_count": 2,
      "outputs": [
        {
          "output_type": "stream",
          "text": [
            "Requirement already up-to-date: xgboost in /usr/local/lib/python3.7/dist-packages (1.4.2)\n",
            "Requirement already satisfied, skipping upgrade: numpy in /usr/local/lib/python3.7/dist-packages (from xgboost) (1.19.5)\n",
            "Requirement already satisfied, skipping upgrade: scipy in /usr/local/lib/python3.7/dist-packages (from xgboost) (1.4.1)\n"
          ],
          "name": "stdout"
        }
      ]
    },
    {
      "cell_type": "code",
      "metadata": {
        "id": "N6jnKm8jGJ5Y"
      },
      "source": [
        "import pandas as pd\n",
        "import numpy as np\n",
        "import matplotlib.pyplot as plt\n",
        "import seaborn as sns\n",
        "sns.set()\n",
        "\n",
        "from sklearn.impute import KNNImputer\n",
        "from sklearn.preprocessing import StandardScaler, MinMaxScaler\n",
        "from sklearn.model_selection import train_test_split\n",
        "from sklearn.linear_model import LinearRegression\n",
        "from sklearn.tree import DecisionTreeRegressor\n",
        "from sklearn.neighbors import KNeighborsRegressor\n",
        "from sklearn.metrics import mean_squared_error, r2_score\n",
        "from sklearn.model_selection import cross_validate\n",
        "from sklearn.model_selection import GridSearchCV\n",
        "from sklearn.model_selection import RandomizedSearchCV\n",
        "\n",
        "from sklearn.ensemble import RandomForestRegressor\n",
        "import xgboost as xgb\n",
        "from xgboost import plot_importance, plot_tree\n",
        "\n",
        "import pickle\n",
        "\n",
        "pd.set_option('display.max_columns', None)\n",
        "\n",
        "import warnings\n",
        "warnings.filterwarnings(\"ignore\")"
      ],
      "execution_count": 3,
      "outputs": []
    },
    {
      "cell_type": "markdown",
      "metadata": {
        "id": "BcQnnKLzGJ5a"
      },
      "source": [
        "# **Etapa Preliminar.** Preparación del dataset de análisis"
      ]
    },
    {
      "cell_type": "markdown",
      "metadata": {
        "id": "PfAihOqRVK82"
      },
      "source": [
        "En la presente etapa,  que dividiremos en  4 pasos, recopilaremos y cargaremos la información primaria para el estudio, exploramos el dataset cargado (raw) para entender mejor cada una de las variables y entender con ello qué tipo de procesamiento deberíamos aplicar, eliminaremos los atributos que hayamos encontrado que no sean relevantes para el modelo y filtraremos respecto a las categorías de interés, y finalmente definiremos el dataset base que será el que empleado de manera posterior en la etapa de Transformación de datos."
      ]
    },
    {
      "cell_type": "markdown",
      "metadata": {
        "id": "gUIsDsfGUnjl"
      },
      "source": [
        "## **EP. 1.1.** Recopilación y descarga de la información primaria"
      ]
    },
    {
      "cell_type": "markdown",
      "metadata": {
        "id": "n7ced5edUpTK"
      },
      "source": [
        "La información base para el desarrollo del siguiente proyecto fue obtenida de la [página de la división de datos de Properati](https://www.properati.com.co/data/), una plataforma web enfocada en el mercado inmobiliario de 4 países de Latinoamérica: Argentina, Colombia, Perú y Ecuador. En específico en la sección de Datasets del enlace descrito encontramos el enlace de descarga directa  en formato CSV para cada uno de los países.\n",
        "\n",
        "Para efectos del desarrollo del proyecto generamos únicamente la descarga del dataset de Argentina y tomamos en cuenta únicamente las propiedades publicadas entre 2019 y enero de 2020, ubicadas al interior del Gran Buenos Aires. \n",
        " "
      ]
    },
    {
      "cell_type": "markdown",
      "metadata": {
        "id": "rwjeH8bQWlKP"
      },
      "source": [
        "## **EP. 1.2.** Exploración del dataset (raw)"
      ]
    },
    {
      "cell_type": "markdown",
      "metadata": {
        "id": "hXeWGpz8Wqvv"
      },
      "source": [
        "Iniciaremos cargando y evaluando la información general del dataset descargado (Argentina, 2019):\n"
      ]
    },
    {
      "cell_type": "code",
      "metadata": {
        "id": "fevtqAxiLqLj",
        "colab": {
          "base_uri": "https://localhost:8080/"
        },
        "outputId": "35c781c0-5403-4fb0-91aa-74b26728e298"
      },
      "source": [
        "from google.colab import drive\n",
        "drive.mount('/content/drive/')"
      ],
      "execution_count": 4,
      "outputs": [
        {
          "output_type": "stream",
          "text": [
            "Drive already mounted at /content/drive/; to attempt to forcibly remount, call drive.mount(\"/content/drive/\", force_remount=True).\n"
          ],
          "name": "stdout"
        }
      ]
    },
    {
      "cell_type": "code",
      "metadata": {
        "id": "Ur_CiW6ZLzf6"
      },
      "source": [
        "path_data = '/content/drive/MyDrive/Colab Notebooks/00_Acamica/DS_Proyecto_01_Datos_Properati.csv'"
      ],
      "execution_count": 5,
      "outputs": []
    },
    {
      "cell_type": "code",
      "metadata": {
        "id": "G571lUV6GJ5a",
        "colab": {
          "base_uri": "https://localhost:8080/",
          "height": 536
        },
        "outputId": "c5128ab2-8246-4aaf-fe0a-67867f94fe12"
      },
      "source": [
        "df = pd.read_csv(path_data, sep =',')\n",
        "df.head()"
      ],
      "execution_count": 6,
      "outputs": [
        {
          "output_type": "execute_result",
          "data": {
            "text/html": [
              "<div>\n",
              "<style scoped>\n",
              "    .dataframe tbody tr th:only-of-type {\n",
              "        vertical-align: middle;\n",
              "    }\n",
              "\n",
              "    .dataframe tbody tr th {\n",
              "        vertical-align: top;\n",
              "    }\n",
              "\n",
              "    .dataframe thead th {\n",
              "        text-align: right;\n",
              "    }\n",
              "</style>\n",
              "<table border=\"1\" class=\"dataframe\">\n",
              "  <thead>\n",
              "    <tr style=\"text-align: right;\">\n",
              "      <th></th>\n",
              "      <th>start_date</th>\n",
              "      <th>end_date</th>\n",
              "      <th>created_on</th>\n",
              "      <th>lat</th>\n",
              "      <th>lon</th>\n",
              "      <th>l1</th>\n",
              "      <th>l2</th>\n",
              "      <th>l3</th>\n",
              "      <th>rooms</th>\n",
              "      <th>bedrooms</th>\n",
              "      <th>bathrooms</th>\n",
              "      <th>surface_total</th>\n",
              "      <th>surface_covered</th>\n",
              "      <th>price</th>\n",
              "      <th>currency</th>\n",
              "      <th>title</th>\n",
              "      <th>description</th>\n",
              "      <th>property_type</th>\n",
              "      <th>operation_type</th>\n",
              "    </tr>\n",
              "  </thead>\n",
              "  <tbody>\n",
              "    <tr>\n",
              "      <th>0</th>\n",
              "      <td>2019-10-17</td>\n",
              "      <td>2019-12-23</td>\n",
              "      <td>2019-10-17</td>\n",
              "      <td>-34.605880</td>\n",
              "      <td>-58.384949</td>\n",
              "      <td>Argentina</td>\n",
              "      <td>Capital Federal</td>\n",
              "      <td>San Cristobal</td>\n",
              "      <td>7.0</td>\n",
              "      <td>7.0</td>\n",
              "      <td>2.0</td>\n",
              "      <td>140.0</td>\n",
              "      <td>140.0</td>\n",
              "      <td>153000.0</td>\n",
              "      <td>USD</td>\n",
              "      <td>***Venta semipiso centro, ideal hostel*****</td>\n",
              "      <td>DESCRIPCION DE LA PROPIEDAD: Departamento de 1...</td>\n",
              "      <td>Departamento</td>\n",
              "      <td>Venta</td>\n",
              "    </tr>\n",
              "    <tr>\n",
              "      <th>1</th>\n",
              "      <td>2019-10-17</td>\n",
              "      <td>2019-11-21</td>\n",
              "      <td>2019-10-17</td>\n",
              "      <td>-34.624056</td>\n",
              "      <td>-58.412110</td>\n",
              "      <td>Argentina</td>\n",
              "      <td>Capital Federal</td>\n",
              "      <td>Boedo</td>\n",
              "      <td>2.0</td>\n",
              "      <td>1.0</td>\n",
              "      <td>2.0</td>\n",
              "      <td>70.0</td>\n",
              "      <td>58.0</td>\n",
              "      <td>159000.0</td>\n",
              "      <td>USD</td>\n",
              "      <td>Espectacular PH reciclado en Boedo sin expensas.</td>\n",
              "      <td>PH reciclado en Boedo a una cuadra de la plaz...</td>\n",
              "      <td>PH</td>\n",
              "      <td>Venta</td>\n",
              "    </tr>\n",
              "    <tr>\n",
              "      <th>2</th>\n",
              "      <td>2019-10-17</td>\n",
              "      <td>2019-11-01</td>\n",
              "      <td>2019-10-17</td>\n",
              "      <td>-34.593569</td>\n",
              "      <td>-58.427474</td>\n",
              "      <td>Argentina</td>\n",
              "      <td>Capital Federal</td>\n",
              "      <td>Palermo</td>\n",
              "      <td>2.0</td>\n",
              "      <td>1.0</td>\n",
              "      <td>1.0</td>\n",
              "      <td>45.0</td>\n",
              "      <td>45.0</td>\n",
              "      <td>125000.0</td>\n",
              "      <td>USD</td>\n",
              "      <td>Depto.tipo casa de 2 ambientes en Venta en Pal...</td>\n",
              "      <td>2 ambienets amplio , excelente estado , patio ...</td>\n",
              "      <td>PH</td>\n",
              "      <td>Venta</td>\n",
              "    </tr>\n",
              "    <tr>\n",
              "      <th>3</th>\n",
              "      <td>2019-10-17</td>\n",
              "      <td>2019-12-23</td>\n",
              "      <td>2019-10-17</td>\n",
              "      <td>-34.581294</td>\n",
              "      <td>-58.436754</td>\n",
              "      <td>Argentina</td>\n",
              "      <td>Capital Federal</td>\n",
              "      <td>Palermo</td>\n",
              "      <td>2.0</td>\n",
              "      <td>1.0</td>\n",
              "      <td>1.0</td>\n",
              "      <td>85.0</td>\n",
              "      <td>50.0</td>\n",
              "      <td>295000.0</td>\n",
              "      <td>USD</td>\n",
              "      <td>COSTA RICA 5800 / PALERMO HOLLYWOOD / VENTA PH...</td>\n",
              "      <td>HERMOSO PH EN PALERMO!!!2 AMBIENTES TOTALMENTE...</td>\n",
              "      <td>PH</td>\n",
              "      <td>Venta</td>\n",
              "    </tr>\n",
              "    <tr>\n",
              "      <th>4</th>\n",
              "      <td>2019-10-17</td>\n",
              "      <td>2020-03-11</td>\n",
              "      <td>2019-10-17</td>\n",
              "      <td>-34.914194</td>\n",
              "      <td>-57.938219</td>\n",
              "      <td>Argentina</td>\n",
              "      <td>Bs.As. G.B.A. Zona Sur</td>\n",
              "      <td>La Plata</td>\n",
              "      <td>2.0</td>\n",
              "      <td>1.0</td>\n",
              "      <td>1.0</td>\n",
              "      <td>50.0</td>\n",
              "      <td>35.0</td>\n",
              "      <td>40000.0</td>\n",
              "      <td>USD</td>\n",
              "      <td>58 entre 1 y 2  Venta de departamento en ph.1 ...</td>\n",
              "      <td>58 entre 1 y 2  Venta de departamento en PH. P...</td>\n",
              "      <td>PH</td>\n",
              "      <td>Venta</td>\n",
              "    </tr>\n",
              "  </tbody>\n",
              "</table>\n",
              "</div>"
            ],
            "text/plain": [
              "   start_date    end_date  created_on        lat        lon         l1  \\\n",
              "0  2019-10-17  2019-12-23  2019-10-17 -34.605880 -58.384949  Argentina   \n",
              "1  2019-10-17  2019-11-21  2019-10-17 -34.624056 -58.412110  Argentina   \n",
              "2  2019-10-17  2019-11-01  2019-10-17 -34.593569 -58.427474  Argentina   \n",
              "3  2019-10-17  2019-12-23  2019-10-17 -34.581294 -58.436754  Argentina   \n",
              "4  2019-10-17  2020-03-11  2019-10-17 -34.914194 -57.938219  Argentina   \n",
              "\n",
              "                       l2             l3  rooms  bedrooms  bathrooms  \\\n",
              "0         Capital Federal  San Cristobal    7.0       7.0        2.0   \n",
              "1         Capital Federal          Boedo    2.0       1.0        2.0   \n",
              "2         Capital Federal        Palermo    2.0       1.0        1.0   \n",
              "3         Capital Federal        Palermo    2.0       1.0        1.0   \n",
              "4  Bs.As. G.B.A. Zona Sur       La Plata    2.0       1.0        1.0   \n",
              "\n",
              "   surface_total  surface_covered     price currency  \\\n",
              "0          140.0            140.0  153000.0      USD   \n",
              "1           70.0             58.0  159000.0      USD   \n",
              "2           45.0             45.0  125000.0      USD   \n",
              "3           85.0             50.0  295000.0      USD   \n",
              "4           50.0             35.0   40000.0      USD   \n",
              "\n",
              "                                               title  \\\n",
              "0        ***Venta semipiso centro, ideal hostel*****   \n",
              "1   Espectacular PH reciclado en Boedo sin expensas.   \n",
              "2  Depto.tipo casa de 2 ambientes en Venta en Pal...   \n",
              "3  COSTA RICA 5800 / PALERMO HOLLYWOOD / VENTA PH...   \n",
              "4  58 entre 1 y 2  Venta de departamento en ph.1 ...   \n",
              "\n",
              "                                         description property_type  \\\n",
              "0  DESCRIPCION DE LA PROPIEDAD: Departamento de 1...  Departamento   \n",
              "1   PH reciclado en Boedo a una cuadra de la plaz...            PH   \n",
              "2  2 ambienets amplio , excelente estado , patio ...            PH   \n",
              "3  HERMOSO PH EN PALERMO!!!2 AMBIENTES TOTALMENTE...            PH   \n",
              "4  58 entre 1 y 2  Venta de departamento en PH. P...            PH   \n",
              "\n",
              "  operation_type  \n",
              "0          Venta  \n",
              "1          Venta  \n",
              "2          Venta  \n",
              "3          Venta  \n",
              "4          Venta  "
            ]
          },
          "metadata": {
            "tags": []
          },
          "execution_count": 6
        }
      ]
    },
    {
      "cell_type": "code",
      "metadata": {
        "id": "q9403w-ZGJ5b",
        "colab": {
          "base_uri": "https://localhost:8080/"
        },
        "outputId": "b578600c-9693-4a32-a750-ee3ebaa21c24"
      },
      "source": [
        "df.info()"
      ],
      "execution_count": 7,
      "outputs": [
        {
          "output_type": "stream",
          "text": [
            "<class 'pandas.core.frame.DataFrame'>\n",
            "RangeIndex: 146660 entries, 0 to 146659\n",
            "Data columns (total 19 columns):\n",
            " #   Column           Non-Null Count   Dtype  \n",
            "---  ------           --------------   -----  \n",
            " 0   start_date       146660 non-null  object \n",
            " 1   end_date         146660 non-null  object \n",
            " 2   created_on       146660 non-null  object \n",
            " 3   lat              136735 non-null  float64\n",
            " 4   lon              136701 non-null  float64\n",
            " 5   l1               146660 non-null  object \n",
            " 6   l2               146660 non-null  object \n",
            " 7   l3               146660 non-null  object \n",
            " 8   rooms            146660 non-null  float64\n",
            " 9   bedrooms         146660 non-null  float64\n",
            " 10  bathrooms        140703 non-null  float64\n",
            " 11  surface_total    126133 non-null  float64\n",
            " 12  surface_covered  125046 non-null  float64\n",
            " 13  price            146660 non-null  float64\n",
            " 14  currency         146660 non-null  object \n",
            " 15  title            146660 non-null  object \n",
            " 16  description      146660 non-null  object \n",
            " 17  property_type    146660 non-null  object \n",
            " 18  operation_type   146660 non-null  object \n",
            "dtypes: float64(8), object(11)\n",
            "memory usage: 21.3+ MB\n"
          ],
          "name": "stdout"
        }
      ]
    },
    {
      "cell_type": "markdown",
      "metadata": {
        "id": "PmUsIwTCXWep"
      },
      "source": [
        "Corroboramos que el dataset cuenta con los siguientes 19 atributos:\n",
        "\n",
        "- **start_date:** fecha en formato año-mes-día en que inició la publicación.\n",
        "\n",
        "- **end_date:** fecha en formato año-mes-día en que finalizó la publicación.\n",
        "\n",
        "- **created_on:** fecha en formato año-mes-día en que se creó la publicación.\n",
        "\n",
        "- **lat:** latitud de la ubicación.\n",
        "\n",
        "- **lon:** longitud de la ubiucación.\n",
        "\n",
        "- **l1:** país del inmueble.\n",
        "\n",
        "- **l2:** zona del Gran Buenos Aires donde esta ubicado.\n",
        "\n",
        "- **l3:** barrio donde esta ubicado.\n",
        "\n",
        "- **rooms:** cantidad de espacios independientes.\n",
        "\n",
        "- **bedrooms:** cantidad de habitaciones.\n",
        "\n",
        "- **bathrooms:** cantidad de baños.\n",
        "\n",
        "- **surface_total:** superficie total.\n",
        "\n",
        "- **surface_covered:** superficie construida.\n",
        "\n",
        "- **price:** precio (este es nuestro target).\n",
        "\n",
        "- **currency:** moneda en que esta dado el precio.\n",
        "\n",
        "- **title:** titulo de la publicación.\n",
        "\n",
        "- **description:** descripción del inmueble.\n",
        "\n",
        "- **property_type:** tipo de propiedad.\n",
        "\n",
        "- **operation_type:** tipo de operación."
      ]
    },
    {
      "cell_type": "markdown",
      "metadata": {
        "id": "gpDnRROl553H"
      },
      "source": [
        "Exploraremos ahora con mayor detalle cada uno de los atributos para determinar cuáles de ellos nos son útiles, de cuales de ellos debemos prescindir porque no representan información relevante en nuestro contexto y cuáles deben ser transformados de manera inicial para que tengan una representación más limpia y homogénea en el dataset. "
      ]
    },
    {
      "cell_type": "markdown",
      "metadata": {
        "id": "jNbfCKbkXWZN"
      },
      "source": [
        "### **---> Exploración variable start_date, end_date, y created_on:**"
      ]
    },
    {
      "cell_type": "code",
      "metadata": {
        "id": "i251wHZZZuSr",
        "colab": {
          "base_uri": "https://localhost:8080/"
        },
        "outputId": "88d87f29-80b6-462b-9b7f-e1c85dd6bbdc"
      },
      "source": [
        "df.start_date = pd.to_datetime(df.start_date)\n",
        "print(df.start_date.min().date())\n",
        "print(df.start_date.max().date())\n",
        "df_temp = df.start_date.value_counts().to_frame().reset_index().sort_values(by=['index']).reset_index(drop=True)\n",
        "df_temp=df_temp.groupby([pd.Grouper(key= 'index', freq='MS')])\\\n",
        "        .sum().reset_index()\n",
        "df_temp['index'] = df_temp['index'].apply(lambda x: str(x.date())[0:7])\n",
        "df_temp.columns=['Mes','Cantidad publicaciones']"
      ],
      "execution_count": 8,
      "outputs": [
        {
          "output_type": "stream",
          "text": [
            "2019-01-01\n",
            "2020-01-25\n"
          ],
          "name": "stdout"
        }
      ]
    },
    {
      "cell_type": "code",
      "metadata": {
        "colab": {
          "base_uri": "https://localhost:8080/",
          "height": 0
        },
        "id": "naKxflRU77BX",
        "outputId": "13d44257-0a7d-45ec-f302-65d54aa612bf"
      },
      "source": [
        "plt.figure(figsize = (10,5))\n",
        "sns.barplot(data=df_temp, x=\"Mes\", y=\"Cantidad publicaciones\")\n",
        "plt.xticks(rotation=90)"
      ],
      "execution_count": 9,
      "outputs": [
        {
          "output_type": "execute_result",
          "data": {
            "text/plain": [
              "(array([ 0,  1,  2,  3,  4,  5,  6,  7,  8,  9, 10, 11, 12]),\n",
              " <a list of 13 Text major ticklabel objects>)"
            ]
          },
          "metadata": {
            "tags": []
          },
          "execution_count": 9
        },
        {
          "output_type": "display_data",
          "data": {
            "image/png": "[encoded data removed]",
            "text/plain": [
              "<Figure size 720x360 with 1 Axes>"
            ]
          },
          "metadata": {
            "tags": []
          }
        }
      ]
    },
    {
      "cell_type": "markdown",
      "metadata": {
        "id": "xomVuInrKOoD"
      },
      "source": [
        "Aunque vemos que hay un comportamiento diferencial entre la cantidad de publicaciones en los diferentes meses del año, no centraremos nuestro estudio en dicho comportamiento. Si bien el precio de los inmuebles puede fluctuar dependiendo de la fecha de publicación, este comportamiento temporal es un comportamiento que se sugeriría estudiar con mayor detalle en el caso que se encuentre relevante para un segmento de inmuebles particular. \n",
        "\n",
        "Para nuestro caso específico prescindiremos de las variables asociadas a las fechas y asumiremos que las fechas tanto de inicio, finalización y creación de la publicación, no son relevantes frente a las restantes características de los inmuebles.\n",
        "\n",
        "**Procesamiento a aplicar:** las variables que serán descartadas en el dataframe de analisis.\n"
      ]
    },
    {
      "cell_type": "markdown",
      "metadata": {
        "id": "ics78OULZbzM"
      },
      "source": [
        "### **---> Exploración variables lat y lon:**"
      ]
    },
    {
      "cell_type": "code",
      "metadata": {
        "colab": {
          "base_uri": "https://localhost:8080/",
          "height": 0
        },
        "id": "CXz1ileLZbzN",
        "outputId": "c9d92c97-2ed8-4adc-838e-fc60259a4514"
      },
      "source": [
        "df[['lat','lon']].describe()"
      ],
      "execution_count": 10,
      "outputs": [
        {
          "output_type": "execute_result",
          "data": {
            "text/html": [
              "<div>\n",
              "<style scoped>\n",
              "    .dataframe tbody tr th:only-of-type {\n",
              "        vertical-align: middle;\n",
              "    }\n",
              "\n",
              "    .dataframe tbody tr th {\n",
              "        vertical-align: top;\n",
              "    }\n",
              "\n",
              "    .dataframe thead th {\n",
              "        text-align: right;\n",
              "    }\n",
              "</style>\n",
              "<table border=\"1\" class=\"dataframe\">\n",
              "  <thead>\n",
              "    <tr style=\"text-align: right;\">\n",
              "      <th></th>\n",
              "      <th>lat</th>\n",
              "      <th>lon</th>\n",
              "    </tr>\n",
              "  </thead>\n",
              "  <tbody>\n",
              "    <tr>\n",
              "      <th>count</th>\n",
              "      <td>136735.000000</td>\n",
              "      <td>136701.000000</td>\n",
              "    </tr>\n",
              "    <tr>\n",
              "      <th>mean</th>\n",
              "      <td>-34.604896</td>\n",
              "      <td>-58.465304</td>\n",
              "    </tr>\n",
              "    <tr>\n",
              "      <th>std</th>\n",
              "      <td>0.468428</td>\n",
              "      <td>0.486190</td>\n",
              "    </tr>\n",
              "    <tr>\n",
              "      <th>min</th>\n",
              "      <td>-35.318457</td>\n",
              "      <td>-180.000000</td>\n",
              "    </tr>\n",
              "    <tr>\n",
              "      <th>25%</th>\n",
              "      <td>-34.627667</td>\n",
              "      <td>-58.504012</td>\n",
              "    </tr>\n",
              "    <tr>\n",
              "      <th>50%</th>\n",
              "      <td>-34.600943</td>\n",
              "      <td>-58.443262</td>\n",
              "    </tr>\n",
              "    <tr>\n",
              "      <th>75%</th>\n",
              "      <td>-34.574600</td>\n",
              "      <td>-58.407586</td>\n",
              "    </tr>\n",
              "    <tr>\n",
              "      <th>max</th>\n",
              "      <td>85.051129</td>\n",
              "      <td>-57.805832</td>\n",
              "    </tr>\n",
              "  </tbody>\n",
              "</table>\n",
              "</div>"
            ],
            "text/plain": [
              "                 lat            lon\n",
              "count  136735.000000  136701.000000\n",
              "mean      -34.604896     -58.465304\n",
              "std         0.468428       0.486190\n",
              "min       -35.318457    -180.000000\n",
              "25%       -34.627667     -58.504012\n",
              "50%       -34.600943     -58.443262\n",
              "75%       -34.574600     -58.407586\n",
              "max        85.051129     -57.805832"
            ]
          },
          "metadata": {
            "tags": []
          },
          "execution_count": 10
        }
      ]
    },
    {
      "cell_type": "markdown",
      "metadata": {
        "id": "LjEp0HbzMn1L"
      },
      "source": [
        "Aunque observamos que la distribución de latitudes y longitudes pueden presentar algunos valores atípicos en sus maximos y minimos, vemos acorde al percentil 75% y a su valor medio, que en general las latitudes y longitudes corresponden con las de la ciudad de buenos aires  (valores esperados próximos a: latitud 34.36 y longitud 58.26). \n",
        "\n",
        "Estas variables las tendremos en cuenta pues corresponden con geolocalizaciones, que en conjunto con otras variables de ubicación pueden presentar una influencia significativa en el precio de los inmuebles. \n",
        "\n",
        "**Procesamiento a aplicar:** las variables son de tipo numérico continuo. Se evaluarán y descartaran outliers y se escalarán sus datos. Los datos con valores faltantes no se imputarán, pues corresponden con a una ubicación muy específica para cada inmueble que no sería sensato obtener a partir de una imputación.\n",
        "\n"
      ]
    },
    {
      "cell_type": "markdown",
      "metadata": {
        "id": "Vm_IYQThZcFJ"
      },
      "source": [
        "### **---> Exploración variables l1, l2 y l3:**"
      ]
    },
    {
      "cell_type": "code",
      "metadata": {
        "colab": {
          "base_uri": "https://localhost:8080/"
        },
        "id": "7H0RaeTAZcFK",
        "outputId": "d57c33e6-fe79-48e7-95bb-73e9ebabb3c9"
      },
      "source": [
        "df.l1.value_counts(dropna=False)"
      ],
      "execution_count": 11,
      "outputs": [
        {
          "output_type": "execute_result",
          "data": {
            "text/plain": [
              "Argentina    146660\n",
              "Name: l1, dtype: int64"
            ]
          },
          "metadata": {
            "tags": []
          },
          "execution_count": 11
        }
      ]
    },
    {
      "cell_type": "markdown",
      "metadata": {
        "id": "qw9apCZKThtO"
      },
      "source": [
        "La variable l1 será descartada del total pues todos los inmuebles se encuentran en Argentina por lo cual no agrega valor alguno."
      ]
    },
    {
      "cell_type": "code",
      "metadata": {
        "colab": {
          "base_uri": "https://localhost:8080/",
          "height": 0
        },
        "id": "GrooF-LgZcMg",
        "outputId": "91092a02-2fb2-40f2-d695-1303e64c14d4"
      },
      "source": [
        "plt.figure(figsize = (10,5))\n",
        "print(round(100*df.l2.value_counts(dropna=False, normalize=True),2))\n",
        "sns.countplot(data = df, y = 'l2', order = df['l2'].value_counts().index, palette='cool')"
      ],
      "execution_count": 12,
      "outputs": [
        {
          "output_type": "stream",
          "text": [
            "Capital Federal             63.10\n",
            "Bs.As. G.B.A. Zona Norte    16.56\n",
            "Bs.As. G.B.A. Zona Sur      11.71\n",
            "Bs.As. G.B.A. Zona Oeste     8.64\n",
            "Name: l2, dtype: float64\n"
          ],
          "name": "stdout"
        },
        {
          "output_type": "execute_result",
          "data": {
            "text/plain": [
              "<matplotlib.axes._subplots.AxesSubplot at 0x7f08a66a7d50>"
            ]
          },
          "metadata": {
            "tags": []
          },
          "execution_count": 12
        },
        {
          "output_type": "display_data",
          "data": {
            "image/png": "[encoded data removed]",
            "text/plain": [
              "<Figure size 720x360 with 1 Axes>"
            ]
          },
          "metadata": {
            "tags": []
          }
        }
      ]
    },
    {
      "cell_type": "markdown",
      "metadata": {
        "id": "VPRywBHqTmC1"
      },
      "source": [
        "Dado que acorde a la distribución de la variable l2 la zona más representativa en relación con la cantidad de registros es Capital Federal (63% de los registros), filtraremos nuestro dataset para tener únicamente en cuenta los de esta Zona y así tener resultados comparativos de los modelos con los presentados en el primer proyecto."
      ]
    },
    {
      "cell_type": "code",
      "metadata": {
        "colab": {
          "base_uri": "https://localhost:8080/",
          "height": 0
        },
        "id": "4rFL76b6ZcTM",
        "outputId": "4413a0e6-d72e-4f5b-c2d2-52bdd0cb1694"
      },
      "source": [
        "plt.figure(figsize = (15,20))\n",
        "print(round(100*df.l3.value_counts(dropna=False, normalize=True),2))\n",
        "sns.countplot(data = df, y = 'l3', order = df['l3'].value_counts().index, palette='cool')"
      ],
      "execution_count": 13,
      "outputs": [
        {
          "output_type": "stream",
          "text": [
            "Palermo            8.91\n",
            "Tigre              5.94\n",
            "Almagro            5.13\n",
            "Belgrano           4.73\n",
            "Caballito          4.53\n",
            "                   ... \n",
            "Cañuelas           0.07\n",
            "Villa Soldati      0.05\n",
            "Villa Riachuelo    0.03\n",
            "Marcos Paz         0.02\n",
            "Catalinas          0.00\n",
            "Name: l3, Length: 89, dtype: float64\n"
          ],
          "name": "stdout"
        },
        {
          "output_type": "execute_result",
          "data": {
            "text/plain": [
              "<matplotlib.axes._subplots.AxesSubplot at 0x7f08a6b4d3d0>"
            ]
          },
          "metadata": {
            "tags": []
          },
          "execution_count": 13
        },
        {
          "output_type": "display_data",
          "data": {
            "image/png": "[encoded data removed]",
            "text/plain": [
              "<Figure size 1080x1440 with 1 Axes>"
            ]
          },
          "metadata": {
            "tags": []
          }
        }
      ]
    },
    {
      "cell_type": "markdown",
      "metadata": {
        "id": "AafJ8gVTVjA2"
      },
      "source": [
        "Aunque respecto a la variable L3 se encuentra una distribución con barrios con cantidades significativas de registros (Palermo, Tigre, Almagro) y otros barrios con cantidades muy pequeñas (Catalinas, Marcos Paz), dejaremos todos los barrios para tener la totalidad de Capital federal para nuestro análisis. Además la localización del inmueble acorde al barrio puede ser una de las propiedades más sensibles para establecer su precio y queremos observar esta influencia en los modelos a evaluar.\n",
        "\n",
        "**Procesamiento a aplicar:** las variables que son de tipo categórico nominal, por tanto para poder incluirlos en los modelos aplicaremos one hot encoding. Adicional a ello los valores faltantes podrán imputarse a partir de las variables restantes que se consideren de mayor interés (latitud y longitud de manera más específica para esta variable)."
      ]
    },
    {
      "cell_type": "markdown",
      "metadata": {
        "id": "wAEX4cdmZcZi"
      },
      "source": [
        "### **---> Exploración variables rooms, bedrooms, bathrooms:**"
      ]
    },
    {
      "cell_type": "code",
      "metadata": {
        "colab": {
          "base_uri": "https://localhost:8080/",
          "height": 0
        },
        "id": "JNWQCEv8ZcZi",
        "outputId": "0451ee88-98eb-42fc-ea62-38e303eaac2a"
      },
      "source": [
        "df[['rooms','bedrooms', 'bathrooms']].describe()"
      ],
      "execution_count": 14,
      "outputs": [
        {
          "output_type": "execute_result",
          "data": {
            "text/html": [
              "<div>\n",
              "<style scoped>\n",
              "    .dataframe tbody tr th:only-of-type {\n",
              "        vertical-align: middle;\n",
              "    }\n",
              "\n",
              "    .dataframe tbody tr th {\n",
              "        vertical-align: top;\n",
              "    }\n",
              "\n",
              "    .dataframe thead th {\n",
              "        text-align: right;\n",
              "    }\n",
              "</style>\n",
              "<table border=\"1\" class=\"dataframe\">\n",
              "  <thead>\n",
              "    <tr style=\"text-align: right;\">\n",
              "      <th></th>\n",
              "      <th>rooms</th>\n",
              "      <th>bedrooms</th>\n",
              "      <th>bathrooms</th>\n",
              "    </tr>\n",
              "  </thead>\n",
              "  <tbody>\n",
              "    <tr>\n",
              "      <th>count</th>\n",
              "      <td>146660.000000</td>\n",
              "      <td>146660.000000</td>\n",
              "      <td>140703.000000</td>\n",
              "    </tr>\n",
              "    <tr>\n",
              "      <th>mean</th>\n",
              "      <td>3.079817</td>\n",
              "      <td>1.983240</td>\n",
              "      <td>1.599994</td>\n",
              "    </tr>\n",
              "    <tr>\n",
              "      <th>std</th>\n",
              "      <td>1.416352</td>\n",
              "      <td>1.151304</td>\n",
              "      <td>0.889324</td>\n",
              "    </tr>\n",
              "    <tr>\n",
              "      <th>min</th>\n",
              "      <td>1.000000</td>\n",
              "      <td>0.000000</td>\n",
              "      <td>1.000000</td>\n",
              "    </tr>\n",
              "    <tr>\n",
              "      <th>25%</th>\n",
              "      <td>2.000000</td>\n",
              "      <td>1.000000</td>\n",
              "      <td>1.000000</td>\n",
              "    </tr>\n",
              "    <tr>\n",
              "      <th>50%</th>\n",
              "      <td>3.000000</td>\n",
              "      <td>2.000000</td>\n",
              "      <td>1.000000</td>\n",
              "    </tr>\n",
              "    <tr>\n",
              "      <th>75%</th>\n",
              "      <td>4.000000</td>\n",
              "      <td>3.000000</td>\n",
              "      <td>2.000000</td>\n",
              "    </tr>\n",
              "    <tr>\n",
              "      <th>max</th>\n",
              "      <td>35.000000</td>\n",
              "      <td>15.000000</td>\n",
              "      <td>14.000000</td>\n",
              "    </tr>\n",
              "  </tbody>\n",
              "</table>\n",
              "</div>"
            ],
            "text/plain": [
              "               rooms       bedrooms      bathrooms\n",
              "count  146660.000000  146660.000000  140703.000000\n",
              "mean        3.079817       1.983240       1.599994\n",
              "std         1.416352       1.151304       0.889324\n",
              "min         1.000000       0.000000       1.000000\n",
              "25%         2.000000       1.000000       1.000000\n",
              "50%         3.000000       2.000000       1.000000\n",
              "75%         4.000000       3.000000       2.000000\n",
              "max        35.000000      15.000000      14.000000"
            ]
          },
          "metadata": {
            "tags": []
          },
          "execution_count": 14
        }
      ]
    },
    {
      "cell_type": "markdown",
      "metadata": {
        "id": "XIgYM7Kpaelz"
      },
      "source": [
        "Acorde a la distribución de las variables encontramos fijándonos en el valor de los percentiles que por lo menos el 75% de las propiedades corresponden a inmuebles que tienen como máximo 4 espacios, 3 habitaciones y 2 baños. Esto corresponde en general con propiedades que seguramente serán del tipo Departamento, Casa o PH. \n",
        "\n",
        "Mantendremos todas las variables, pues en conjunto con la ubicación y la superficie pueden ser las variables más relevantes al determinar el precio de los inmuebles.\n",
        "\n",
        "**Procesamiento a aplicar:** las variables que son de tipo numérico discreto y esto hace que se puedan tener 2 aproximaciones en su transformación. Por una parte al tratarse de variables numéricas podemos establecer outliers respecto a su distribución y podemos normalizarlas, y por otra parte, dado que los grupos en los cuales se distribuyen no son muchas pueden considerarse también como variables categóricas de tipo ordinal con lo cual podría aplicarse label encoding para incluirlas en el modelo. La elección de la bondad de un camino u otro se dará al momento de evaluar los modelos. Adicional a ello los valores faltantes podrán imputarse a partir de las variables restantes que se consideren de mayor interés (quizá superficie, tipo de propiedad y las restantes rooms, bedrooms y bathroms que se conozcan).\n"
      ]
    },
    {
      "cell_type": "markdown",
      "metadata": {
        "id": "WJr_1s6fZcx9"
      },
      "source": [
        "### **---> Exploración variables surface_total  y surface covered:**"
      ]
    },
    {
      "cell_type": "code",
      "metadata": {
        "colab": {
          "base_uri": "https://localhost:8080/",
          "height": 0
        },
        "id": "4CE3wtULZcx-",
        "outputId": "8086bec6-158e-4eef-a902-4023837a2311"
      },
      "source": [
        "df[['surface_total','surface_covered']].describe()"
      ],
      "execution_count": 15,
      "outputs": [
        {
          "output_type": "execute_result",
          "data": {
            "text/html": [
              "<div>\n",
              "<style scoped>\n",
              "    .dataframe tbody tr th:only-of-type {\n",
              "        vertical-align: middle;\n",
              "    }\n",
              "\n",
              "    .dataframe tbody tr th {\n",
              "        vertical-align: top;\n",
              "    }\n",
              "\n",
              "    .dataframe thead th {\n",
              "        text-align: right;\n",
              "    }\n",
              "</style>\n",
              "<table border=\"1\" class=\"dataframe\">\n",
              "  <thead>\n",
              "    <tr style=\"text-align: right;\">\n",
              "      <th></th>\n",
              "      <th>surface_total</th>\n",
              "      <th>surface_covered</th>\n",
              "    </tr>\n",
              "  </thead>\n",
              "  <tbody>\n",
              "    <tr>\n",
              "      <th>count</th>\n",
              "      <td>126133.000000</td>\n",
              "      <td>125046.000000</td>\n",
              "    </tr>\n",
              "    <tr>\n",
              "      <th>mean</th>\n",
              "      <td>216.872888</td>\n",
              "      <td>112.818011</td>\n",
              "    </tr>\n",
              "    <tr>\n",
              "      <th>std</th>\n",
              "      <td>2037.606649</td>\n",
              "      <td>916.857584</td>\n",
              "    </tr>\n",
              "    <tr>\n",
              "      <th>min</th>\n",
              "      <td>10.000000</td>\n",
              "      <td>1.000000</td>\n",
              "    </tr>\n",
              "    <tr>\n",
              "      <th>25%</th>\n",
              "      <td>52.000000</td>\n",
              "      <td>47.000000</td>\n",
              "    </tr>\n",
              "    <tr>\n",
              "      <th>50%</th>\n",
              "      <td>78.000000</td>\n",
              "      <td>68.000000</td>\n",
              "    </tr>\n",
              "    <tr>\n",
              "      <th>75%</th>\n",
              "      <td>140.000000</td>\n",
              "      <td>108.000000</td>\n",
              "    </tr>\n",
              "    <tr>\n",
              "      <th>max</th>\n",
              "      <td>193549.000000</td>\n",
              "      <td>126062.000000</td>\n",
              "    </tr>\n",
              "  </tbody>\n",
              "</table>\n",
              "</div>"
            ],
            "text/plain": [
              "       surface_total  surface_covered\n",
              "count  126133.000000    125046.000000\n",
              "mean      216.872888       112.818011\n",
              "std      2037.606649       916.857584\n",
              "min        10.000000         1.000000\n",
              "25%        52.000000        47.000000\n",
              "50%        78.000000        68.000000\n",
              "75%       140.000000       108.000000\n",
              "max    193549.000000    126062.000000"
            ]
          },
          "metadata": {
            "tags": []
          },
          "execution_count": 15
        }
      ]
    },
    {
      "cell_type": "markdown",
      "metadata": {
        "id": "gsUtiaXShdmq"
      },
      "source": [
        "Acorde a la distribución de las variables encontramos que son quizá las presentan un comportamiento menos homogéneo. Puede observarse como la desviación estándar es muy superior a los valores medios, y como entre los percentiles 75% y los valores máximos, o como entre el percentil 25% y los valores mínimos encontramos grandes brechas.\n",
        "\n",
        "Dado que el tipo de propiedades que evaluaremos corresponden a propiedades de tipo del tipo Departamento, Casa o PH, en las cuales la mayoría la superficie construido abarca casi la totalidad de la perficie cubierta, eliminaremos la variable de superficie cubierta para que no presenten colinealidad, lo que puede hacer que algunos modelos (como el regresor lineal, por ejemplo) presenten comportamientos anómalos por no lograr discriminar de manera diferenciada el aporte que están teniendo cada una de las dos variables.\n",
        "\n",
        "Sin embargo la variable que mantendremos, superficie total, será una de las variables más sensible al momento de estimar el precio de los inmuebles.\n",
        "\n",
        "**Procesamiento a aplicar:** las variables son de tipo numérico continuo por lo cual se generará por un aparte eliminación de outliers y por otra escalado de los datos que acorde a la distribución puede ser de tipo logarítmico (dada la larga cola de la distribución, gran distancia entre el percentil 75 y los valores máximos). Adicional a ello los valores faltantes podrán imputarse a partir de las variables restantes que se consideren de mayor interés (cantidad de rooms, bedroooms y el otro valor de superficie si se conoce)."
      ]
    },
    {
      "cell_type": "markdown",
      "metadata": {
        "id": "4jhc38s8ZdIo"
      },
      "source": [
        "### **---> Exploración variable price:**"
      ]
    },
    {
      "cell_type": "code",
      "metadata": {
        "colab": {
          "base_uri": "https://localhost:8080/",
          "height": 0
        },
        "id": "3v4hTNkXZdIp",
        "outputId": "bf284209-d058-4c49-ab73-f0a4b8e493cd"
      },
      "source": [
        "df[['price']].describe()"
      ],
      "execution_count": 16,
      "outputs": [
        {
          "output_type": "execute_result",
          "data": {
            "text/html": [
              "<div>\n",
              "<style scoped>\n",
              "    .dataframe tbody tr th:only-of-type {\n",
              "        vertical-align: middle;\n",
              "    }\n",
              "\n",
              "    .dataframe tbody tr th {\n",
              "        vertical-align: top;\n",
              "    }\n",
              "\n",
              "    .dataframe thead th {\n",
              "        text-align: right;\n",
              "    }\n",
              "</style>\n",
              "<table border=\"1\" class=\"dataframe\">\n",
              "  <thead>\n",
              "    <tr style=\"text-align: right;\">\n",
              "      <th></th>\n",
              "      <th>price</th>\n",
              "    </tr>\n",
              "  </thead>\n",
              "  <tbody>\n",
              "    <tr>\n",
              "      <th>count</th>\n",
              "      <td>1.466600e+05</td>\n",
              "    </tr>\n",
              "    <tr>\n",
              "      <th>mean</th>\n",
              "      <td>2.412211e+05</td>\n",
              "    </tr>\n",
              "    <tr>\n",
              "      <th>std</th>\n",
              "      <td>3.185195e+05</td>\n",
              "    </tr>\n",
              "    <tr>\n",
              "      <th>min</th>\n",
              "      <td>5.500000e+03</td>\n",
              "    </tr>\n",
              "    <tr>\n",
              "      <th>25%</th>\n",
              "      <td>1.110000e+05</td>\n",
              "    </tr>\n",
              "    <tr>\n",
              "      <th>50%</th>\n",
              "      <td>1.660000e+05</td>\n",
              "    </tr>\n",
              "    <tr>\n",
              "      <th>75%</th>\n",
              "      <td>2.650000e+05</td>\n",
              "    </tr>\n",
              "    <tr>\n",
              "      <th>max</th>\n",
              "      <td>3.243423e+07</td>\n",
              "    </tr>\n",
              "  </tbody>\n",
              "</table>\n",
              "</div>"
            ],
            "text/plain": [
              "              price\n",
              "count  1.466600e+05\n",
              "mean   2.412211e+05\n",
              "std    3.185195e+05\n",
              "min    5.500000e+03\n",
              "25%    1.110000e+05\n",
              "50%    1.660000e+05\n",
              "75%    2.650000e+05\n",
              "max    3.243423e+07"
            ]
          },
          "metadata": {
            "tags": []
          },
          "execution_count": 16
        }
      ]
    },
    {
      "cell_type": "markdown",
      "metadata": {
        "id": "bEujNY-ejd9_"
      },
      "source": [
        "La variable precio presenta un comportamiento similar a la variable superficie en cuanto a las distribuciones de percentiles, mínimos, máximos y desviaciones estándar. Por esta razón presentará un tratamiento similar. Es de resaltar además que esta es nuestra variable objetivo de estudio por lo cual debe mantenerse de manera obligatoria.\n",
        "\n",
        "**Procesamiento a aplicar:** la variables son de tipo numérico continuo por lo cual se generará por un aparte eliminación de outliers y por otra escalado de los datos que acorde a la distribución puede ser de tipo logarítmico (dada la larga cola de la distribución, gran distancia entre el percentil 75 y los valores máximos). Adicional a ello los valores faltantes podrán imputarse a partir de las variables restantes que se consideren de mayor interés."
      ]
    },
    {
      "cell_type": "markdown",
      "metadata": {
        "id": "UKv_gtI5ZdPu"
      },
      "source": [
        "### **---> Exploración variable currency:**"
      ]
    },
    {
      "cell_type": "code",
      "metadata": {
        "colab": {
          "base_uri": "https://localhost:8080/"
        },
        "id": "vhmBbbwzZdPv",
        "outputId": "72749816-d2b6-4ca5-f077-df43edb00b8a"
      },
      "source": [
        "df.currency.value_counts(dropna=False)"
      ],
      "execution_count": 17,
      "outputs": [
        {
          "output_type": "execute_result",
          "data": {
            "text/plain": [
              "USD    146660\n",
              "Name: currency, dtype: int64"
            ]
          },
          "metadata": {
            "tags": []
          },
          "execution_count": 17
        }
      ]
    },
    {
      "cell_type": "markdown",
      "metadata": {
        "id": "vBkhn9L0lwWG"
      },
      "source": [
        "La variable currency será descartada del total pues todos los inmuebles corresponden a dolares por lo cual no agrega valor alguno."
      ]
    },
    {
      "cell_type": "markdown",
      "metadata": {
        "id": "GSqseAsRZdXC"
      },
      "source": [
        "### **---> Exploración variables title y description:**"
      ]
    },
    {
      "cell_type": "code",
      "metadata": {
        "colab": {
          "base_uri": "https://localhost:8080/"
        },
        "id": "gUNDc53xZdXC",
        "outputId": "c3fb5ad2-85e0-4961-b261-1560eafc542e"
      },
      "source": [
        "df.title"
      ],
      "execution_count": 18,
      "outputs": [
        {
          "output_type": "execute_result",
          "data": {
            "text/plain": [
              "0               ***Venta semipiso centro, ideal hostel*****\n",
              "1          Espectacular PH reciclado en Boedo sin expensas.\n",
              "2         Depto.tipo casa de 2 ambientes en Venta en Pal...\n",
              "3         COSTA RICA 5800 / PALERMO HOLLYWOOD / VENTA PH...\n",
              "4         58 entre 1 y 2  Venta de departamento en ph.1 ...\n",
              "                                ...                        \n",
              "146655    Departamento en Venta en Barrio Privado Barran...\n",
              "146656    Venta departamentos tres dormitorios jardín co...\n",
              "146657    Venta departamento de un ambiente Manzanares C...\n",
              "146658             Departamento en Venta. Manzanares chico.\n",
              "146659            Departamento en venta en Manzanares Chico\n",
              "Name: title, Length: 146660, dtype: object"
            ]
          },
          "metadata": {
            "tags": []
          },
          "execution_count": 18
        }
      ]
    },
    {
      "cell_type": "code",
      "metadata": {
        "id": "6AJreAvSno5K",
        "colab": {
          "base_uri": "https://localhost:8080/"
        },
        "outputId": "37bfcb7d-25c6-4072-f339-c70c086c4c0a"
      },
      "source": [
        "df.description"
      ],
      "execution_count": 19,
      "outputs": [
        {
          "output_type": "execute_result",
          "data": {
            "text/plain": [
              "0         DESCRIPCION DE LA PROPIEDAD: Departamento de 1...\n",
              "1          PH reciclado en Boedo a una cuadra de la plaz...\n",
              "2         2 ambienets amplio , excelente estado , patio ...\n",
              "3         HERMOSO PH EN PALERMO!!!2 AMBIENTES TOTALMENTE...\n",
              "4         58 entre 1 y 2  Venta de departamento en PH. P...\n",
              "                                ...                        \n",
              "146655    Departamento de 2 ambientesCocina con alacena ...\n",
              "146656    Muy buen duplex a estrenar en dos plantas más ...\n",
              "146657    En los Condominios de Campo Manzanares Chico, ...\n",
              "146658    Broker: Maria 11Departamento de dos ambientes ...\n",
              "146659    Departamento en el Barrio Manzanares Chico , e...\n",
              "Name: description, Length: 146660, dtype: object"
            ]
          },
          "metadata": {
            "tags": []
          },
          "execution_count": 19
        }
      ]
    },
    {
      "cell_type": "markdown",
      "metadata": {
        "id": "b_MjSamLnFIV"
      },
      "source": [
        "Aunque la descripción del inmueble y el titulo del anuncio puedan ser elementos de interés al estudiarse con herramientas de procesamiento de lenguaje natural (NLP), este enfoque excede el alcance que hemos dado al presente proyecto por lo cual será una variable que descartaremos de antemano."
      ]
    },
    {
      "cell_type": "markdown",
      "metadata": {
        "id": "ldbGS_MZZdlc"
      },
      "source": [
        "### **---> Exploración variable property_type:**"
      ]
    },
    {
      "cell_type": "code",
      "metadata": {
        "colab": {
          "base_uri": "https://localhost:8080/",
          "height": 0
        },
        "id": "-9IvCDQVZdlc",
        "outputId": "025495cb-7ad7-43b4-e245-492ad259f5fc"
      },
      "source": [
        "plt.figure(figsize = (10,5))\n",
        "print(round(100*df.property_type.value_counts(dropna=False, normalize=True),2))\n",
        "sns.countplot(data = df, y = 'property_type', order = df['property_type'].value_counts().index, palette='cool')"
      ],
      "execution_count": 20,
      "outputs": [
        {
          "output_type": "stream",
          "text": [
            "Departamento       73.18\n",
            "Casa               14.67\n",
            "PH                  9.75\n",
            "Lote                0.89\n",
            "Oficina             0.45\n",
            "Otro                0.26\n",
            "Local comercial     0.22\n",
            "Casa de campo       0.22\n",
            "Depósito            0.18\n",
            "Cochera             0.18\n",
            "Name: property_type, dtype: float64\n"
          ],
          "name": "stdout"
        },
        {
          "output_type": "execute_result",
          "data": {
            "text/plain": [
              "<matplotlib.axes._subplots.AxesSubplot at 0x7f08a59b4410>"
            ]
          },
          "metadata": {
            "tags": []
          },
          "execution_count": 20
        },
        {
          "output_type": "display_data",
          "data": {
            "image/png": "[encoded data removed]",
            "text/plain": [
              "<Figure size 720x360 with 1 Axes>"
            ]
          },
          "metadata": {
            "tags": []
          }
        }
      ]
    },
    {
      "cell_type": "markdown",
      "metadata": {
        "id": "w5MwtLlGp_5j"
      },
      "source": [
        "Dado que acorde a la distribución de la variable tipo de inmueble las  categorías más representativas son Departamento, Casa y PH (en conjunto representan más del 90% de las propiedades), filtraremos nuestro dataset para tener únicamente en cuenta estas 3 categorías y así tener información comparativa de los modelos con los presentados en el primer proyecto. \n",
        "\n",
        "**Procesamiento a aplicar:** la variable es de tipo categórico nominal, por tanto para poder incluirla en los modelos aplicaremos one hot encoding. Adicional a ello los valores faltantes podrán imputarse a partir de las variables restantes que se consideren de mayor interés (superficie y cantidad de baños, espacios y habitaciones)."
      ]
    },
    {
      "cell_type": "markdown",
      "metadata": {
        "id": "34v6tYSxe-Ei"
      },
      "source": [
        "### **---> Exploración variable operation_type:**"
      ]
    },
    {
      "cell_type": "code",
      "metadata": {
        "colab": {
          "base_uri": "https://localhost:8080/"
        },
        "id": "SXNeC8A_gPdv",
        "outputId": "31303dd4-27e5-45e6-c3f6-f5bdbc1d92f9"
      },
      "source": [
        "df.columns"
      ],
      "execution_count": 21,
      "outputs": [
        {
          "output_type": "execute_result",
          "data": {
            "text/plain": [
              "Index(['start_date', 'end_date', 'created_on', 'lat', 'lon', 'l1', 'l2', 'l3',\n",
              "       'rooms', 'bedrooms', 'bathrooms', 'surface_total', 'surface_covered',\n",
              "       'price', 'currency', 'title', 'description', 'property_type',\n",
              "       'operation_type'],\n",
              "      dtype='object')"
            ]
          },
          "metadata": {
            "tags": []
          },
          "execution_count": 21
        }
      ]
    },
    {
      "cell_type": "code",
      "metadata": {
        "colab": {
          "base_uri": "https://localhost:8080/"
        },
        "id": "EDjaEqW9e-Ej",
        "outputId": "4858df94-05f0-4509-8803-0472e8775fec"
      },
      "source": [
        "df.operation_type.value_counts(dropna=False)"
      ],
      "execution_count": 22,
      "outputs": [
        {
          "output_type": "execute_result",
          "data": {
            "text/plain": [
              "Venta    146660\n",
              "Name: operation_type, dtype: int64"
            ]
          },
          "metadata": {
            "tags": []
          },
          "execution_count": 22
        }
      ]
    },
    {
      "cell_type": "markdown",
      "metadata": {
        "id": "98u3bJv8e-Ek"
      },
      "source": [
        "La variable operation_type será descartada del total pues todos los inmuebles se encuentran en el dataset son de tipo venta, lo cual no agrega valor alguno."
      ]
    },
    {
      "cell_type": "markdown",
      "metadata": {
        "id": "BGixeA-KsWEM"
      },
      "source": [
        "## **EP. 1.3.** Eliminación de variables y filtrado de categorias de interes."
      ]
    },
    {
      "cell_type": "markdown",
      "metadata": {
        "id": "8PiZwg-Zufsu"
      },
      "source": [
        "### **---> Eliminación de variables:**"
      ]
    },
    {
      "cell_type": "markdown",
      "metadata": {
        "id": "7oGM1E6wvO07"
      },
      "source": [
        "Acorde a lo discutido en el numeral anterior, descartamos del total 3 tipos de variables que no resultan útiles para nuestro caso de estudio: variables que presentan atributos asociados a fechas, variables que presenta un único valor y variables con textos descriptivos. Estas variables las eliminamos en esta sección de manera definitiva."
      ]
    },
    {
      "cell_type": "code",
      "metadata": {
        "id": "0I6FgwC4tE-E"
      },
      "source": [
        "# Atributos asociados a fechas\n",
        "list_descartar_dates= ['start_date','end_date','created_on']\n",
        "# Atributos con un único valor\n",
        "list_descartar_uni_val= ['l1','currency','operation_type']\n",
        "# Atributo con texto descriptivo\n",
        "list_descartar_text_vdesc= ['title','description']\n",
        "# Totalidad de los atributos a descartar\n",
        "list_descartar = list_descartar_dates + list_descartar_uni_val + list_descartar_text_vdesc"
      ],
      "execution_count": 23,
      "outputs": []
    },
    {
      "cell_type": "code",
      "metadata": {
        "id": "DQOb7ie3tFAl",
        "colab": {
          "base_uri": "https://localhost:8080/",
          "height": 0
        },
        "outputId": "9d7819ad-4523-450a-8195-6a0e1b67258e"
      },
      "source": [
        "# Creamos nuestro dataframe base a partir de os valores ya filtrados\n",
        "df_base = df.drop(list_descartar,axis=1)\n",
        "df_base"
      ],
      "execution_count": 24,
      "outputs": [
        {
          "output_type": "execute_result",
          "data": {
            "text/html": [
              "<div>\n",
              "<style scoped>\n",
              "    .dataframe tbody tr th:only-of-type {\n",
              "        vertical-align: middle;\n",
              "    }\n",
              "\n",
              "    .dataframe tbody tr th {\n",
              "        vertical-align: top;\n",
              "    }\n",
              "\n",
              "    .dataframe thead th {\n",
              "        text-align: right;\n",
              "    }\n",
              "</style>\n",
              "<table border=\"1\" class=\"dataframe\">\n",
              "  <thead>\n",
              "    <tr style=\"text-align: right;\">\n",
              "      <th></th>\n",
              "      <th>lat</th>\n",
              "      <th>lon</th>\n",
              "      <th>l2</th>\n",
              "      <th>l3</th>\n",
              "      <th>rooms</th>\n",
              "      <th>bedrooms</th>\n",
              "      <th>bathrooms</th>\n",
              "      <th>surface_total</th>\n",
              "      <th>surface_covered</th>\n",
              "      <th>price</th>\n",
              "      <th>property_type</th>\n",
              "    </tr>\n",
              "  </thead>\n",
              "  <tbody>\n",
              "    <tr>\n",
              "      <th>0</th>\n",
              "      <td>-34.605880</td>\n",
              "      <td>-58.384949</td>\n",
              "      <td>Capital Federal</td>\n",
              "      <td>San Cristobal</td>\n",
              "      <td>7.0</td>\n",
              "      <td>7.0</td>\n",
              "      <td>2.0</td>\n",
              "      <td>140.0</td>\n",
              "      <td>140.0</td>\n",
              "      <td>153000.0</td>\n",
              "      <td>Departamento</td>\n",
              "    </tr>\n",
              "    <tr>\n",
              "      <th>1</th>\n",
              "      <td>-34.624056</td>\n",
              "      <td>-58.412110</td>\n",
              "      <td>Capital Federal</td>\n",
              "      <td>Boedo</td>\n",
              "      <td>2.0</td>\n",
              "      <td>1.0</td>\n",
              "      <td>2.0</td>\n",
              "      <td>70.0</td>\n",
              "      <td>58.0</td>\n",
              "      <td>159000.0</td>\n",
              "      <td>PH</td>\n",
              "    </tr>\n",
              "    <tr>\n",
              "      <th>2</th>\n",
              "      <td>-34.593569</td>\n",
              "      <td>-58.427474</td>\n",
              "      <td>Capital Federal</td>\n",
              "      <td>Palermo</td>\n",
              "      <td>2.0</td>\n",
              "      <td>1.0</td>\n",
              "      <td>1.0</td>\n",
              "      <td>45.0</td>\n",
              "      <td>45.0</td>\n",
              "      <td>125000.0</td>\n",
              "      <td>PH</td>\n",
              "    </tr>\n",
              "    <tr>\n",
              "      <th>3</th>\n",
              "      <td>-34.581294</td>\n",
              "      <td>-58.436754</td>\n",
              "      <td>Capital Federal</td>\n",
              "      <td>Palermo</td>\n",
              "      <td>2.0</td>\n",
              "      <td>1.0</td>\n",
              "      <td>1.0</td>\n",
              "      <td>85.0</td>\n",
              "      <td>50.0</td>\n",
              "      <td>295000.0</td>\n",
              "      <td>PH</td>\n",
              "    </tr>\n",
              "    <tr>\n",
              "      <th>4</th>\n",
              "      <td>-34.914194</td>\n",
              "      <td>-57.938219</td>\n",
              "      <td>Bs.As. G.B.A. Zona Sur</td>\n",
              "      <td>La Plata</td>\n",
              "      <td>2.0</td>\n",
              "      <td>1.0</td>\n",
              "      <td>1.0</td>\n",
              "      <td>50.0</td>\n",
              "      <td>35.0</td>\n",
              "      <td>40000.0</td>\n",
              "      <td>PH</td>\n",
              "    </tr>\n",
              "    <tr>\n",
              "      <th>...</th>\n",
              "      <td>...</td>\n",
              "      <td>...</td>\n",
              "      <td>...</td>\n",
              "      <td>...</td>\n",
              "      <td>...</td>\n",
              "      <td>...</td>\n",
              "      <td>...</td>\n",
              "      <td>...</td>\n",
              "      <td>...</td>\n",
              "      <td>...</td>\n",
              "      <td>...</td>\n",
              "    </tr>\n",
              "    <tr>\n",
              "      <th>146655</th>\n",
              "      <td>-34.816348</td>\n",
              "      <td>-58.181963</td>\n",
              "      <td>Bs.As. G.B.A. Zona Sur</td>\n",
              "      <td>Berazategui</td>\n",
              "      <td>2.0</td>\n",
              "      <td>1.0</td>\n",
              "      <td>1.0</td>\n",
              "      <td>54.0</td>\n",
              "      <td>48.0</td>\n",
              "      <td>165000.0</td>\n",
              "      <td>Departamento</td>\n",
              "    </tr>\n",
              "    <tr>\n",
              "      <th>146656</th>\n",
              "      <td>-34.446459</td>\n",
              "      <td>-58.937810</td>\n",
              "      <td>Bs.As. G.B.A. Zona Norte</td>\n",
              "      <td>Pilar</td>\n",
              "      <td>4.0</td>\n",
              "      <td>3.0</td>\n",
              "      <td>2.0</td>\n",
              "      <td>164.0</td>\n",
              "      <td>90.0</td>\n",
              "      <td>130000.0</td>\n",
              "      <td>Departamento</td>\n",
              "    </tr>\n",
              "    <tr>\n",
              "      <th>146657</th>\n",
              "      <td>-34.444633</td>\n",
              "      <td>-58.981606</td>\n",
              "      <td>Bs.As. G.B.A. Zona Norte</td>\n",
              "      <td>Pilar</td>\n",
              "      <td>1.0</td>\n",
              "      <td>1.0</td>\n",
              "      <td>1.0</td>\n",
              "      <td>50.0</td>\n",
              "      <td>35.0</td>\n",
              "      <td>73000.0</td>\n",
              "      <td>Departamento</td>\n",
              "    </tr>\n",
              "    <tr>\n",
              "      <th>146658</th>\n",
              "      <td>-34.444830</td>\n",
              "      <td>-58.981796</td>\n",
              "      <td>Bs.As. G.B.A. Zona Norte</td>\n",
              "      <td>Pilar</td>\n",
              "      <td>2.0</td>\n",
              "      <td>1.0</td>\n",
              "      <td>1.0</td>\n",
              "      <td>38.0</td>\n",
              "      <td>38.0</td>\n",
              "      <td>68000.0</td>\n",
              "      <td>Departamento</td>\n",
              "    </tr>\n",
              "    <tr>\n",
              "      <th>146659</th>\n",
              "      <td>-34.444760</td>\n",
              "      <td>-58.981885</td>\n",
              "      <td>Bs.As. G.B.A. Zona Norte</td>\n",
              "      <td>Pilar</td>\n",
              "      <td>3.0</td>\n",
              "      <td>2.0</td>\n",
              "      <td>1.0</td>\n",
              "      <td>75.0</td>\n",
              "      <td>75.0</td>\n",
              "      <td>98000.0</td>\n",
              "      <td>Departamento</td>\n",
              "    </tr>\n",
              "  </tbody>\n",
              "</table>\n",
              "<p>146660 rows × 11 columns</p>\n",
              "</div>"
            ],
            "text/plain": [
              "              lat        lon                        l2             l3  rooms  \\\n",
              "0      -34.605880 -58.384949           Capital Federal  San Cristobal    7.0   \n",
              "1      -34.624056 -58.412110           Capital Federal          Boedo    2.0   \n",
              "2      -34.593569 -58.427474           Capital Federal        Palermo    2.0   \n",
              "3      -34.581294 -58.436754           Capital Federal        Palermo    2.0   \n",
              "4      -34.914194 -57.938219    Bs.As. G.B.A. Zona Sur       La Plata    2.0   \n",
              "...           ...        ...                       ...            ...    ...   \n",
              "146655 -34.816348 -58.181963    Bs.As. G.B.A. Zona Sur    Berazategui    2.0   \n",
              "146656 -34.446459 -58.937810  Bs.As. G.B.A. Zona Norte          Pilar    4.0   \n",
              "146657 -34.444633 -58.981606  Bs.As. G.B.A. Zona Norte          Pilar    1.0   \n",
              "146658 -34.444830 -58.981796  Bs.As. G.B.A. Zona Norte          Pilar    2.0   \n",
              "146659 -34.444760 -58.981885  Bs.As. G.B.A. Zona Norte          Pilar    3.0   \n",
              "\n",
              "        bedrooms  bathrooms  surface_total  surface_covered     price  \\\n",
              "0            7.0        2.0          140.0            140.0  153000.0   \n",
              "1            1.0        2.0           70.0             58.0  159000.0   \n",
              "2            1.0        1.0           45.0             45.0  125000.0   \n",
              "3            1.0        1.0           85.0             50.0  295000.0   \n",
              "4            1.0        1.0           50.0             35.0   40000.0   \n",
              "...          ...        ...            ...              ...       ...   \n",
              "146655       1.0        1.0           54.0             48.0  165000.0   \n",
              "146656       3.0        2.0          164.0             90.0  130000.0   \n",
              "146657       1.0        1.0           50.0             35.0   73000.0   \n",
              "146658       1.0        1.0           38.0             38.0   68000.0   \n",
              "146659       2.0        1.0           75.0             75.0   98000.0   \n",
              "\n",
              "       property_type  \n",
              "0       Departamento  \n",
              "1                 PH  \n",
              "2                 PH  \n",
              "3                 PH  \n",
              "4                 PH  \n",
              "...              ...  \n",
              "146655  Departamento  \n",
              "146656  Departamento  \n",
              "146657  Departamento  \n",
              "146658  Departamento  \n",
              "146659  Departamento  \n",
              "\n",
              "[146660 rows x 11 columns]"
            ]
          },
          "metadata": {
            "tags": []
          },
          "execution_count": 24
        }
      ]
    },
    {
      "cell_type": "markdown",
      "metadata": {
        "id": "ktVgHTt4vYe2"
      },
      "source": [
        "### **---> Filtrado de categorías de interes:**"
      ]
    },
    {
      "cell_type": "markdown",
      "metadata": {
        "id": "BfLRzdFal0Av"
      },
      "source": [
        "Acorde a lo discutido en el numeral anterior, tomaremos en cuenta únicamente las propiedades ubicadas en Capital Federal (63% del total de los registros), y las propiedades de tipo Departamento, Casa y PH (en conjunto representan el 90% del total de las propiedades). Esta muestra también nos permitirá tener un conjunto de datos comparativo respecto al primer proyecto:"
      ]
    },
    {
      "cell_type": "code",
      "metadata": {
        "id": "59FSUxtStFCt",
        "colab": {
          "base_uri": "https://localhost:8080/",
          "height": 0
        },
        "outputId": "0f750f5c-5eab-443e-ffeb-2a48bb671ccb"
      },
      "source": [
        "# Filtrado de propiedades ubicadas en Capital Federal\n",
        "df_base = df_base[(df_base.l2 == 'Capital Federal')]\n",
        "df_base = df_base.drop(['l2'],axis=1)\n",
        "# Filtrado de pripiedades de tipo Departamento, Casa y PH\n",
        "df_base=df_base[df_base.property_type.isin(['Departamento','Casa','PH'])]\n",
        "df_base"
      ],
      "execution_count": 25,
      "outputs": [
        {
          "output_type": "execute_result",
          "data": {
            "text/html": [
              "<div>\n",
              "<style scoped>\n",
              "    .dataframe tbody tr th:only-of-type {\n",
              "        vertical-align: middle;\n",
              "    }\n",
              "\n",
              "    .dataframe tbody tr th {\n",
              "        vertical-align: top;\n",
              "    }\n",
              "\n",
              "    .dataframe thead th {\n",
              "        text-align: right;\n",
              "    }\n",
              "</style>\n",
              "<table border=\"1\" class=\"dataframe\">\n",
              "  <thead>\n",
              "    <tr style=\"text-align: right;\">\n",
              "      <th></th>\n",
              "      <th>lat</th>\n",
              "      <th>lon</th>\n",
              "      <th>l3</th>\n",
              "      <th>rooms</th>\n",
              "      <th>bedrooms</th>\n",
              "      <th>bathrooms</th>\n",
              "      <th>surface_total</th>\n",
              "      <th>surface_covered</th>\n",
              "      <th>price</th>\n",
              "      <th>property_type</th>\n",
              "    </tr>\n",
              "  </thead>\n",
              "  <tbody>\n",
              "    <tr>\n",
              "      <th>0</th>\n",
              "      <td>-34.605880</td>\n",
              "      <td>-58.384949</td>\n",
              "      <td>San Cristobal</td>\n",
              "      <td>7.0</td>\n",
              "      <td>7.0</td>\n",
              "      <td>2.0</td>\n",
              "      <td>140.0</td>\n",
              "      <td>140.0</td>\n",
              "      <td>153000.0</td>\n",
              "      <td>Departamento</td>\n",
              "    </tr>\n",
              "    <tr>\n",
              "      <th>1</th>\n",
              "      <td>-34.624056</td>\n",
              "      <td>-58.412110</td>\n",
              "      <td>Boedo</td>\n",
              "      <td>2.0</td>\n",
              "      <td>1.0</td>\n",
              "      <td>2.0</td>\n",
              "      <td>70.0</td>\n",
              "      <td>58.0</td>\n",
              "      <td>159000.0</td>\n",
              "      <td>PH</td>\n",
              "    </tr>\n",
              "    <tr>\n",
              "      <th>2</th>\n",
              "      <td>-34.593569</td>\n",
              "      <td>-58.427474</td>\n",
              "      <td>Palermo</td>\n",
              "      <td>2.0</td>\n",
              "      <td>1.0</td>\n",
              "      <td>1.0</td>\n",
              "      <td>45.0</td>\n",
              "      <td>45.0</td>\n",
              "      <td>125000.0</td>\n",
              "      <td>PH</td>\n",
              "    </tr>\n",
              "    <tr>\n",
              "      <th>3</th>\n",
              "      <td>-34.581294</td>\n",
              "      <td>-58.436754</td>\n",
              "      <td>Palermo</td>\n",
              "      <td>2.0</td>\n",
              "      <td>1.0</td>\n",
              "      <td>1.0</td>\n",
              "      <td>85.0</td>\n",
              "      <td>50.0</td>\n",
              "      <td>295000.0</td>\n",
              "      <td>PH</td>\n",
              "    </tr>\n",
              "    <tr>\n",
              "      <th>5</th>\n",
              "      <td>-34.593779</td>\n",
              "      <td>-58.441239</td>\n",
              "      <td>Villa Crespo</td>\n",
              "      <td>2.0</td>\n",
              "      <td>1.0</td>\n",
              "      <td>1.0</td>\n",
              "      <td>56.0</td>\n",
              "      <td>56.0</td>\n",
              "      <td>150000.0</td>\n",
              "      <td>PH</td>\n",
              "    </tr>\n",
              "    <tr>\n",
              "      <th>...</th>\n",
              "      <td>...</td>\n",
              "      <td>...</td>\n",
              "      <td>...</td>\n",
              "      <td>...</td>\n",
              "      <td>...</td>\n",
              "      <td>...</td>\n",
              "      <td>...</td>\n",
              "      <td>...</td>\n",
              "      <td>...</td>\n",
              "      <td>...</td>\n",
              "    </tr>\n",
              "    <tr>\n",
              "      <th>146554</th>\n",
              "      <td>-34.585355</td>\n",
              "      <td>-58.427194</td>\n",
              "      <td>Palermo</td>\n",
              "      <td>4.0</td>\n",
              "      <td>3.0</td>\n",
              "      <td>3.0</td>\n",
              "      <td>175.0</td>\n",
              "      <td>111.0</td>\n",
              "      <td>570000.0</td>\n",
              "      <td>PH</td>\n",
              "    </tr>\n",
              "    <tr>\n",
              "      <th>146555</th>\n",
              "      <td>-34.585355</td>\n",
              "      <td>-58.427194</td>\n",
              "      <td>Palermo</td>\n",
              "      <td>3.0</td>\n",
              "      <td>2.0</td>\n",
              "      <td>2.0</td>\n",
              "      <td>144.0</td>\n",
              "      <td>134.0</td>\n",
              "      <td>480000.0</td>\n",
              "      <td>PH</td>\n",
              "    </tr>\n",
              "    <tr>\n",
              "      <th>146556</th>\n",
              "      <td>-34.584134</td>\n",
              "      <td>-58.436389</td>\n",
              "      <td>Palermo</td>\n",
              "      <td>4.0</td>\n",
              "      <td>2.0</td>\n",
              "      <td>2.0</td>\n",
              "      <td>317.0</td>\n",
              "      <td>143.0</td>\n",
              "      <td>530000.0</td>\n",
              "      <td>PH</td>\n",
              "    </tr>\n",
              "    <tr>\n",
              "      <th>146557</th>\n",
              "      <td>-34.583995</td>\n",
              "      <td>-58.417645</td>\n",
              "      <td>Palermo</td>\n",
              "      <td>3.0</td>\n",
              "      <td>2.0</td>\n",
              "      <td>2.0</td>\n",
              "      <td>145.0</td>\n",
              "      <td>145.0</td>\n",
              "      <td>420000.0</td>\n",
              "      <td>Departamento</td>\n",
              "    </tr>\n",
              "    <tr>\n",
              "      <th>146558</th>\n",
              "      <td>NaN</td>\n",
              "      <td>NaN</td>\n",
              "      <td>Palermo</td>\n",
              "      <td>4.0</td>\n",
              "      <td>3.0</td>\n",
              "      <td>5.0</td>\n",
              "      <td>220.0</td>\n",
              "      <td>210.0</td>\n",
              "      <td>1470000.0</td>\n",
              "      <td>Departamento</td>\n",
              "    </tr>\n",
              "  </tbody>\n",
              "</table>\n",
              "<p>91485 rows × 10 columns</p>\n",
              "</div>"
            ],
            "text/plain": [
              "              lat        lon             l3  rooms  bedrooms  bathrooms  \\\n",
              "0      -34.605880 -58.384949  San Cristobal    7.0       7.0        2.0   \n",
              "1      -34.624056 -58.412110          Boedo    2.0       1.0        2.0   \n",
              "2      -34.593569 -58.427474        Palermo    2.0       1.0        1.0   \n",
              "3      -34.581294 -58.436754        Palermo    2.0       1.0        1.0   \n",
              "5      -34.593779 -58.441239   Villa Crespo    2.0       1.0        1.0   \n",
              "...           ...        ...            ...    ...       ...        ...   \n",
              "146554 -34.585355 -58.427194        Palermo    4.0       3.0        3.0   \n",
              "146555 -34.585355 -58.427194        Palermo    3.0       2.0        2.0   \n",
              "146556 -34.584134 -58.436389        Palermo    4.0       2.0        2.0   \n",
              "146557 -34.583995 -58.417645        Palermo    3.0       2.0        2.0   \n",
              "146558        NaN        NaN        Palermo    4.0       3.0        5.0   \n",
              "\n",
              "        surface_total  surface_covered      price property_type  \n",
              "0               140.0            140.0   153000.0  Departamento  \n",
              "1                70.0             58.0   159000.0            PH  \n",
              "2                45.0             45.0   125000.0            PH  \n",
              "3                85.0             50.0   295000.0            PH  \n",
              "5                56.0             56.0   150000.0            PH  \n",
              "...               ...              ...        ...           ...  \n",
              "146554          175.0            111.0   570000.0            PH  \n",
              "146555          144.0            134.0   480000.0            PH  \n",
              "146556          317.0            143.0   530000.0            PH  \n",
              "146557          145.0            145.0   420000.0  Departamento  \n",
              "146558          220.0            210.0  1470000.0  Departamento  \n",
              "\n",
              "[91485 rows x 10 columns]"
            ]
          },
          "metadata": {
            "tags": []
          },
          "execution_count": 25
        }
      ]
    },
    {
      "cell_type": "markdown",
      "metadata": {
        "id": "6nWKzqfXriVU"
      },
      "source": [
        "## **EP. 1.4.** Definición del dataset base."
      ]
    },
    {
      "cell_type": "markdown",
      "metadata": {
        "id": "yW7NwZMlrkT2"
      },
      "source": [
        "Finalmente reorganizamos las variables y obtenemos el dataframe base que emplearemos en la siguiente etapa de transformación."
      ]
    },
    {
      "cell_type": "code",
      "metadata": {
        "id": "KK-v0ffTsn0S"
      },
      "source": [
        "df_base = df_base.reset_index(drop=True)\n",
        "df_base = df_base[['l3',  'property_type', 'lat', 'lon', 'rooms', 'bedrooms', 'bathrooms', 'surface_total',\n",
        "       'surface_covered', 'price']]"
      ],
      "execution_count": 26,
      "outputs": []
    },
    {
      "cell_type": "code",
      "metadata": {
        "colab": {
          "base_uri": "https://localhost:8080/",
          "height": 0
        },
        "id": "dXpnae4JtGo9",
        "outputId": "afd7dec3-516f-4bf1-b59c-fddebc7612a5"
      },
      "source": [
        "df_base"
      ],
      "execution_count": 27,
      "outputs": [
        {
          "output_type": "execute_result",
          "data": {
            "text/html": [
              "<div>\n",
              "<style scoped>\n",
              "    .dataframe tbody tr th:only-of-type {\n",
              "        vertical-align: middle;\n",
              "    }\n",
              "\n",
              "    .dataframe tbody tr th {\n",
              "        vertical-align: top;\n",
              "    }\n",
              "\n",
              "    .dataframe thead th {\n",
              "        text-align: right;\n",
              "    }\n",
              "</style>\n",
              "<table border=\"1\" class=\"dataframe\">\n",
              "  <thead>\n",
              "    <tr style=\"text-align: right;\">\n",
              "      <th></th>\n",
              "      <th>l3</th>\n",
              "      <th>property_type</th>\n",
              "      <th>lat</th>\n",
              "      <th>lon</th>\n",
              "      <th>rooms</th>\n",
              "      <th>bedrooms</th>\n",
              "      <th>bathrooms</th>\n",
              "      <th>surface_total</th>\n",
              "      <th>surface_covered</th>\n",
              "      <th>price</th>\n",
              "    </tr>\n",
              "  </thead>\n",
              "  <tbody>\n",
              "    <tr>\n",
              "      <th>0</th>\n",
              "      <td>San Cristobal</td>\n",
              "      <td>Departamento</td>\n",
              "      <td>-34.605880</td>\n",
              "      <td>-58.384949</td>\n",
              "      <td>7.0</td>\n",
              "      <td>7.0</td>\n",
              "      <td>2.0</td>\n",
              "      <td>140.0</td>\n",
              "      <td>140.0</td>\n",
              "      <td>153000.0</td>\n",
              "    </tr>\n",
              "    <tr>\n",
              "      <th>1</th>\n",
              "      <td>Boedo</td>\n",
              "      <td>PH</td>\n",
              "      <td>-34.624056</td>\n",
              "      <td>-58.412110</td>\n",
              "      <td>2.0</td>\n",
              "      <td>1.0</td>\n",
              "      <td>2.0</td>\n",
              "      <td>70.0</td>\n",
              "      <td>58.0</td>\n",
              "      <td>159000.0</td>\n",
              "    </tr>\n",
              "    <tr>\n",
              "      <th>2</th>\n",
              "      <td>Palermo</td>\n",
              "      <td>PH</td>\n",
              "      <td>-34.593569</td>\n",
              "      <td>-58.427474</td>\n",
              "      <td>2.0</td>\n",
              "      <td>1.0</td>\n",
              "      <td>1.0</td>\n",
              "      <td>45.0</td>\n",
              "      <td>45.0</td>\n",
              "      <td>125000.0</td>\n",
              "    </tr>\n",
              "    <tr>\n",
              "      <th>3</th>\n",
              "      <td>Palermo</td>\n",
              "      <td>PH</td>\n",
              "      <td>-34.581294</td>\n",
              "      <td>-58.436754</td>\n",
              "      <td>2.0</td>\n",
              "      <td>1.0</td>\n",
              "      <td>1.0</td>\n",
              "      <td>85.0</td>\n",
              "      <td>50.0</td>\n",
              "      <td>295000.0</td>\n",
              "    </tr>\n",
              "    <tr>\n",
              "      <th>4</th>\n",
              "      <td>Villa Crespo</td>\n",
              "      <td>PH</td>\n",
              "      <td>-34.593779</td>\n",
              "      <td>-58.441239</td>\n",
              "      <td>2.0</td>\n",
              "      <td>1.0</td>\n",
              "      <td>1.0</td>\n",
              "      <td>56.0</td>\n",
              "      <td>56.0</td>\n",
              "      <td>150000.0</td>\n",
              "    </tr>\n",
              "    <tr>\n",
              "      <th>...</th>\n",
              "      <td>...</td>\n",
              "      <td>...</td>\n",
              "      <td>...</td>\n",
              "      <td>...</td>\n",
              "      <td>...</td>\n",
              "      <td>...</td>\n",
              "      <td>...</td>\n",
              "      <td>...</td>\n",
              "      <td>...</td>\n",
              "      <td>...</td>\n",
              "    </tr>\n",
              "    <tr>\n",
              "      <th>91480</th>\n",
              "      <td>Palermo</td>\n",
              "      <td>PH</td>\n",
              "      <td>-34.585355</td>\n",
              "      <td>-58.427194</td>\n",
              "      <td>4.0</td>\n",
              "      <td>3.0</td>\n",
              "      <td>3.0</td>\n",
              "      <td>175.0</td>\n",
              "      <td>111.0</td>\n",
              "      <td>570000.0</td>\n",
              "    </tr>\n",
              "    <tr>\n",
              "      <th>91481</th>\n",
              "      <td>Palermo</td>\n",
              "      <td>PH</td>\n",
              "      <td>-34.585355</td>\n",
              "      <td>-58.427194</td>\n",
              "      <td>3.0</td>\n",
              "      <td>2.0</td>\n",
              "      <td>2.0</td>\n",
              "      <td>144.0</td>\n",
              "      <td>134.0</td>\n",
              "      <td>480000.0</td>\n",
              "    </tr>\n",
              "    <tr>\n",
              "      <th>91482</th>\n",
              "      <td>Palermo</td>\n",
              "      <td>PH</td>\n",
              "      <td>-34.584134</td>\n",
              "      <td>-58.436389</td>\n",
              "      <td>4.0</td>\n",
              "      <td>2.0</td>\n",
              "      <td>2.0</td>\n",
              "      <td>317.0</td>\n",
              "      <td>143.0</td>\n",
              "      <td>530000.0</td>\n",
              "    </tr>\n",
              "    <tr>\n",
              "      <th>91483</th>\n",
              "      <td>Palermo</td>\n",
              "      <td>Departamento</td>\n",
              "      <td>-34.583995</td>\n",
              "      <td>-58.417645</td>\n",
              "      <td>3.0</td>\n",
              "      <td>2.0</td>\n",
              "      <td>2.0</td>\n",
              "      <td>145.0</td>\n",
              "      <td>145.0</td>\n",
              "      <td>420000.0</td>\n",
              "    </tr>\n",
              "    <tr>\n",
              "      <th>91484</th>\n",
              "      <td>Palermo</td>\n",
              "      <td>Departamento</td>\n",
              "      <td>NaN</td>\n",
              "      <td>NaN</td>\n",
              "      <td>4.0</td>\n",
              "      <td>3.0</td>\n",
              "      <td>5.0</td>\n",
              "      <td>220.0</td>\n",
              "      <td>210.0</td>\n",
              "      <td>1470000.0</td>\n",
              "    </tr>\n",
              "  </tbody>\n",
              "</table>\n",
              "<p>91485 rows × 10 columns</p>\n",
              "</div>"
            ],
            "text/plain": [
              "                  l3 property_type        lat        lon  rooms  bedrooms  \\\n",
              "0      San Cristobal  Departamento -34.605880 -58.384949    7.0       7.0   \n",
              "1              Boedo            PH -34.624056 -58.412110    2.0       1.0   \n",
              "2            Palermo            PH -34.593569 -58.427474    2.0       1.0   \n",
              "3            Palermo            PH -34.581294 -58.436754    2.0       1.0   \n",
              "4       Villa Crespo            PH -34.593779 -58.441239    2.0       1.0   \n",
              "...              ...           ...        ...        ...    ...       ...   \n",
              "91480        Palermo            PH -34.585355 -58.427194    4.0       3.0   \n",
              "91481        Palermo            PH -34.585355 -58.427194    3.0       2.0   \n",
              "91482        Palermo            PH -34.584134 -58.436389    4.0       2.0   \n",
              "91483        Palermo  Departamento -34.583995 -58.417645    3.0       2.0   \n",
              "91484        Palermo  Departamento        NaN        NaN    4.0       3.0   \n",
              "\n",
              "       bathrooms  surface_total  surface_covered      price  \n",
              "0            2.0          140.0            140.0   153000.0  \n",
              "1            2.0           70.0             58.0   159000.0  \n",
              "2            1.0           45.0             45.0   125000.0  \n",
              "3            1.0           85.0             50.0   295000.0  \n",
              "4            1.0           56.0             56.0   150000.0  \n",
              "...          ...            ...              ...        ...  \n",
              "91480        3.0          175.0            111.0   570000.0  \n",
              "91481        2.0          144.0            134.0   480000.0  \n",
              "91482        2.0          317.0            143.0   530000.0  \n",
              "91483        2.0          145.0            145.0   420000.0  \n",
              "91484        5.0          220.0            210.0  1470000.0  \n",
              "\n",
              "[91485 rows x 10 columns]"
            ]
          },
          "metadata": {
            "tags": []
          },
          "execution_count": 27
        }
      ]
    },
    {
      "cell_type": "markdown",
      "metadata": {
        "id": "w7LNOj9Du6P5"
      },
      "source": [
        "# **Parte A.** Trasformación de datos"
      ]
    },
    {
      "cell_type": "code",
      "metadata": {
        "colab": {
          "base_uri": "https://localhost:8080/",
          "height": 476
        },
        "id": "C3AQUeDBvexi",
        "outputId": "e4dc012d-f6e5-43dc-dd32-878c15c80788"
      },
      "source": [
        "df_A = df_base.copy()\n",
        "df_A"
      ],
      "execution_count": 28,
      "outputs": [
        {
          "output_type": "execute_result",
          "data": {
            "text/html": [
              "<div>\n",
              "<style scoped>\n",
              "    .dataframe tbody tr th:only-of-type {\n",
              "        vertical-align: middle;\n",
              "    }\n",
              "\n",
              "    .dataframe tbody tr th {\n",
              "        vertical-align: top;\n",
              "    }\n",
              "\n",
              "    .dataframe thead th {\n",
              "        text-align: right;\n",
              "    }\n",
              "</style>\n",
              "<table border=\"1\" class=\"dataframe\">\n",
              "  <thead>\n",
              "    <tr style=\"text-align: right;\">\n",
              "      <th></th>\n",
              "      <th>l3</th>\n",
              "      <th>property_type</th>\n",
              "      <th>lat</th>\n",
              "      <th>lon</th>\n",
              "      <th>rooms</th>\n",
              "      <th>bedrooms</th>\n",
              "      <th>bathrooms</th>\n",
              "      <th>surface_total</th>\n",
              "      <th>surface_covered</th>\n",
              "      <th>price</th>\n",
              "    </tr>\n",
              "  </thead>\n",
              "  <tbody>\n",
              "    <tr>\n",
              "      <th>0</th>\n",
              "      <td>San Cristobal</td>\n",
              "      <td>Departamento</td>\n",
              "      <td>-34.605880</td>\n",
              "      <td>-58.384949</td>\n",
              "      <td>7.0</td>\n",
              "      <td>7.0</td>\n",
              "      <td>2.0</td>\n",
              "      <td>140.0</td>\n",
              "      <td>140.0</td>\n",
              "      <td>153000.0</td>\n",
              "    </tr>\n",
              "    <tr>\n",
              "      <th>1</th>\n",
              "      <td>Boedo</td>\n",
              "      <td>PH</td>\n",
              "      <td>-34.624056</td>\n",
              "      <td>-58.412110</td>\n",
              "      <td>2.0</td>\n",
              "      <td>1.0</td>\n",
              "      <td>2.0</td>\n",
              "      <td>70.0</td>\n",
              "      <td>58.0</td>\n",
              "      <td>159000.0</td>\n",
              "    </tr>\n",
              "    <tr>\n",
              "      <th>2</th>\n",
              "      <td>Palermo</td>\n",
              "      <td>PH</td>\n",
              "      <td>-34.593569</td>\n",
              "      <td>-58.427474</td>\n",
              "      <td>2.0</td>\n",
              "      <td>1.0</td>\n",
              "      <td>1.0</td>\n",
              "      <td>45.0</td>\n",
              "      <td>45.0</td>\n",
              "      <td>125000.0</td>\n",
              "    </tr>\n",
              "    <tr>\n",
              "      <th>3</th>\n",
              "      <td>Palermo</td>\n",
              "      <td>PH</td>\n",
              "      <td>-34.581294</td>\n",
              "      <td>-58.436754</td>\n",
              "      <td>2.0</td>\n",
              "      <td>1.0</td>\n",
              "      <td>1.0</td>\n",
              "      <td>85.0</td>\n",
              "      <td>50.0</td>\n",
              "      <td>295000.0</td>\n",
              "    </tr>\n",
              "    <tr>\n",
              "      <th>4</th>\n",
              "      <td>Villa Crespo</td>\n",
              "      <td>PH</td>\n",
              "      <td>-34.593779</td>\n",
              "      <td>-58.441239</td>\n",
              "      <td>2.0</td>\n",
              "      <td>1.0</td>\n",
              "      <td>1.0</td>\n",
              "      <td>56.0</td>\n",
              "      <td>56.0</td>\n",
              "      <td>150000.0</td>\n",
              "    </tr>\n",
              "    <tr>\n",
              "      <th>...</th>\n",
              "      <td>...</td>\n",
              "      <td>...</td>\n",
              "      <td>...</td>\n",
              "      <td>...</td>\n",
              "      <td>...</td>\n",
              "      <td>...</td>\n",
              "      <td>...</td>\n",
              "      <td>...</td>\n",
              "      <td>...</td>\n",
              "      <td>...</td>\n",
              "    </tr>\n",
              "    <tr>\n",
              "      <th>91480</th>\n",
              "      <td>Palermo</td>\n",
              "      <td>PH</td>\n",
              "      <td>-34.585355</td>\n",
              "      <td>-58.427194</td>\n",
              "      <td>4.0</td>\n",
              "      <td>3.0</td>\n",
              "      <td>3.0</td>\n",
              "      <td>175.0</td>\n",
              "      <td>111.0</td>\n",
              "      <td>570000.0</td>\n",
              "    </tr>\n",
              "    <tr>\n",
              "      <th>91481</th>\n",
              "      <td>Palermo</td>\n",
              "      <td>PH</td>\n",
              "      <td>-34.585355</td>\n",
              "      <td>-58.427194</td>\n",
              "      <td>3.0</td>\n",
              "      <td>2.0</td>\n",
              "      <td>2.0</td>\n",
              "      <td>144.0</td>\n",
              "      <td>134.0</td>\n",
              "      <td>480000.0</td>\n",
              "    </tr>\n",
              "    <tr>\n",
              "      <th>91482</th>\n",
              "      <td>Palermo</td>\n",
              "      <td>PH</td>\n",
              "      <td>-34.584134</td>\n",
              "      <td>-58.436389</td>\n",
              "      <td>4.0</td>\n",
              "      <td>2.0</td>\n",
              "      <td>2.0</td>\n",
              "      <td>317.0</td>\n",
              "      <td>143.0</td>\n",
              "      <td>530000.0</td>\n",
              "    </tr>\n",
              "    <tr>\n",
              "      <th>91483</th>\n",
              "      <td>Palermo</td>\n",
              "      <td>Departamento</td>\n",
              "      <td>-34.583995</td>\n",
              "      <td>-58.417645</td>\n",
              "      <td>3.0</td>\n",
              "      <td>2.0</td>\n",
              "      <td>2.0</td>\n",
              "      <td>145.0</td>\n",
              "      <td>145.0</td>\n",
              "      <td>420000.0</td>\n",
              "    </tr>\n",
              "    <tr>\n",
              "      <th>91484</th>\n",
              "      <td>Palermo</td>\n",
              "      <td>Departamento</td>\n",
              "      <td>NaN</td>\n",
              "      <td>NaN</td>\n",
              "      <td>4.0</td>\n",
              "      <td>3.0</td>\n",
              "      <td>5.0</td>\n",
              "      <td>220.0</td>\n",
              "      <td>210.0</td>\n",
              "      <td>1470000.0</td>\n",
              "    </tr>\n",
              "  </tbody>\n",
              "</table>\n",
              "<p>91485 rows × 10 columns</p>\n",
              "</div>"
            ],
            "text/plain": [
              "                  l3 property_type        lat        lon  rooms  bedrooms  \\\n",
              "0      San Cristobal  Departamento -34.605880 -58.384949    7.0       7.0   \n",
              "1              Boedo            PH -34.624056 -58.412110    2.0       1.0   \n",
              "2            Palermo            PH -34.593569 -58.427474    2.0       1.0   \n",
              "3            Palermo            PH -34.581294 -58.436754    2.0       1.0   \n",
              "4       Villa Crespo            PH -34.593779 -58.441239    2.0       1.0   \n",
              "...              ...           ...        ...        ...    ...       ...   \n",
              "91480        Palermo            PH -34.585355 -58.427194    4.0       3.0   \n",
              "91481        Palermo            PH -34.585355 -58.427194    3.0       2.0   \n",
              "91482        Palermo            PH -34.584134 -58.436389    4.0       2.0   \n",
              "91483        Palermo  Departamento -34.583995 -58.417645    3.0       2.0   \n",
              "91484        Palermo  Departamento        NaN        NaN    4.0       3.0   \n",
              "\n",
              "       bathrooms  surface_total  surface_covered      price  \n",
              "0            2.0          140.0            140.0   153000.0  \n",
              "1            2.0           70.0             58.0   159000.0  \n",
              "2            1.0           45.0             45.0   125000.0  \n",
              "3            1.0           85.0             50.0   295000.0  \n",
              "4            1.0           56.0             56.0   150000.0  \n",
              "...          ...            ...              ...        ...  \n",
              "91480        3.0          175.0            111.0   570000.0  \n",
              "91481        2.0          144.0            134.0   480000.0  \n",
              "91482        2.0          317.0            143.0   530000.0  \n",
              "91483        2.0          145.0            145.0   420000.0  \n",
              "91484        5.0          220.0            210.0  1470000.0  \n",
              "\n",
              "[91485 rows x 10 columns]"
            ]
          },
          "metadata": {
            "tags": []
          },
          "execution_count": 28
        }
      ]
    },
    {
      "cell_type": "markdown",
      "metadata": {
        "id": "1geMRVG7xEOv"
      },
      "source": [
        "## **A. 01.** Detección y eliminación de Outliers"
      ]
    },
    {
      "cell_type": "markdown",
      "metadata": {
        "id": "2Btr4inE3s07"
      },
      "source": [
        "La detección y eliminación de outliers se da para registros de tipo numérico ya sean de tipo discreto o continuo. En específico existen 2 tipos de criterios generales con los cuales se pueden detectar valores outliers en una distribución: el criterio de los rangos intercuartílicos y el criterio de los 3 sigmas. Ambos criterios son empleados de manera conjunta en esta sección para determinar los que valores consideraremos outliers y filtrarlos del dataset de análisis que emplearemos para nuestros modelos de predicción, esto hará que nuestros modelos se centren más en el comportamiento de los valores que se consideran representativos dentro de cada distribución."
      ]
    },
    {
      "cell_type": "markdown",
      "metadata": {
        "id": "tE6FIL2Hxt6F"
      },
      "source": [
        "### ---> Selección de features a aplicar detección y eliminación de outliers"
      ]
    },
    {
      "cell_type": "markdown",
      "metadata": {
        "id": "PT9eNWsb4Ztb"
      },
      "source": [
        "Inicialmente definimos las columnas sobre las cuales haremos el proceso de  detección y eliminación de outliers. Como fue mencionado estas se generan sobre las columnas de tipo numérico:"
      ]
    },
    {
      "cell_type": "code",
      "metadata": {
        "id": "Yv6yLLDEtIp3"
      },
      "source": [
        "col_outliers=['lat', 'lon', 'rooms', 'bedrooms', 'bathrooms',\n",
        "       'surface_total', 'surface_covered', 'price']"
      ],
      "execution_count": 29,
      "outputs": []
    },
    {
      "cell_type": "markdown",
      "metadata": {
        "id": "xz_KWn_5yohQ"
      },
      "source": [
        "### ---> Definición de funciones que nos permiten detectar outliers:"
      ]
    },
    {
      "cell_type": "markdown",
      "metadata": {
        "id": "Cq4TpXiK6XZc"
      },
      "source": [
        "En esta sección se presentan de manera específica 4 funciones que nos permiten detectar outliers: \n",
        "1. **Indx_outlier_rang_int:** la función implementa el criterio del rango intercuartílico para entregarnos como salida el conjunto de índices que se consideran outliers a partir de una serie que recibe como entrada.\n",
        "2. **Indx_outlier_3_sig:** la función implementa el criterio los 3 sigmas para entregarnos como salida el conjunto de índices que se consideran outliers a partir de una serie que recibe como entrada.\n",
        "3. **indx_outlier_mix:** la función implementa conjuntamente el criterio del rango intercuartílico y de los 3 sigmas para entregarnos como salida el conjunto de índices que se consideran outliers a partir de una serie que recibe como entrada.\n",
        "4. **Indx_outlier_mix_df:** la función implementa conjuntamente el criterio del rango intercuartílico y de los 3 sigmas para entregarnos como salida el conjunto de índices que se consideran outliers a partir de un dataframe y una lista de columnas que recibe como entrada. Las columnas corresponden a las columnas en las cuales se detecten los valores outliers.\n"
      ]
    },
    {
      "cell_type": "code",
      "metadata": {
        "id": "LkkVVK_vGJ52"
      },
      "source": [
        "# Definimos una función que retorna los indices de los registros que se consideran outlier\n",
        "# (Bajo el criterio basado en el rango intercuartilico)\n",
        "# Entrada: la serie de la que deseamos encontrar outlayers\n",
        "# Salida: Los indices que de los outliers en la serie\n",
        "def indx_outlier_rang_int(series):\n",
        "    q75=series.quantile(0.75)\n",
        "    q25=series.quantile(0.25)\n",
        "    iqr = q75 - q25\n",
        "    minimo = q25 - 1.5*iqr\n",
        "    maximo = q75 + 1.5*iqr\n",
        "    mascara_outliers = (series < minimo) | (series > maximo)\n",
        "    return list(series[mascara_outliers].index)"
      ],
      "execution_count": 30,
      "outputs": []
    },
    {
      "cell_type": "code",
      "metadata": {
        "id": "bto6QZoqGJ54"
      },
      "source": [
        "# Definimos una función que retorna los indices de los registros que se consideran outliers\n",
        "# (Bajo el criterio de las tres sigmas)\n",
        "# Entrada: la serie de la que deseamos encontrar outliers\n",
        "# Salida: Los indices que de los outliers en la serie\n",
        "def indx_outlier_3_sig(series):\n",
        "    valor_medio = series.mean()\n",
        "    std = series.std()\n",
        "    minimo = valor_medio - 3*std\n",
        "    maximo = valor_medio + 3*std\n",
        "    mascara_outliers = (series < minimo) | (series > maximo)\n",
        "    return list(series[mascara_outliers].index)"
      ],
      "execution_count": 31,
      "outputs": []
    },
    {
      "cell_type": "code",
      "metadata": {
        "id": "ngOZDlV_GJ55"
      },
      "source": [
        "# Definimos una función que retorna los indices de los registros que se consideran outliers\n",
        "# (Empleando simultaneamento los criterios de rango intercuartilico y de los 3 sigmas)\n",
        "# Entrada: la serie de la que deseamos encontrar outliers\n",
        "# Salida: Los indices que de los outliers en la serie\n",
        "def indx_outlier_mix(series):\n",
        "    return sorted(list(set(indx_outlier_rang_int(series)+indx_outlier_3_sig(series))))"
      ],
      "execution_count": 32,
      "outputs": []
    },
    {
      "cell_type": "code",
      "metadata": {
        "id": "HtY8RvK3GJ55"
      },
      "source": [
        "# Definimos una función que nos entrega la totalidad de los indices de outliers teniendo en cuenta varias columnas\n",
        "# Entradas: dataframe del que deseamos encontrar los outliers\n",
        "# Salidas: columnas del dataframe de las que nos interesa que haga el analisis de outliers\n",
        "def indx_outlier_mix_df(df,col_outliers):\n",
        "    indx_total=[]\n",
        "    for col in col_outliers:\n",
        "        indx = indx_outlier_mix(df[col])\n",
        "        indx_total=indx_total+indx\n",
        "    return sorted(list(set(indx_total)))"
      ],
      "execution_count": 33,
      "outputs": []
    },
    {
      "cell_type": "markdown",
      "metadata": {
        "id": "yrgGiGYL6_gk"
      },
      "source": [
        "### ---> Dataframe procesado sin outliers"
      ]
    },
    {
      "cell_type": "markdown",
      "metadata": {
        "id": "69Xriscu8UAQ"
      },
      "source": [
        "A partir de las funciones definidas procedemos a encontrar y a eliminar los índices que se consideran outliers en nuestro dataframe de estudio (en nuestro caso específico se encontro que el porcentaje total de valores atipicos encontrados es de 13.52%). Este dataframe sera el que emplearemos como entrada en el siguiente proceso de transformación."
      ]
    },
    {
      "cell_type": "code",
      "metadata": {
        "id": "9Vz527IVxQB2"
      },
      "source": [
        "indx_outlier_total = indx_outlier_mix_df(df_A,col_outliers)"
      ],
      "execution_count": 34,
      "outputs": []
    },
    {
      "cell_type": "code",
      "metadata": {
        "id": "BMcB3N_8xP_k",
        "colab": {
          "base_uri": "https://localhost:8080/"
        },
        "outputId": "dc22661d-0393-4a60-d492-b245286bb513"
      },
      "source": [
        "# Calculamos el porcentaje de valores del dataframe que se consideran outliers\n",
        "round(100*len(indx_outlier_total)/len(df_A),2)"
      ],
      "execution_count": 35,
      "outputs": [
        {
          "output_type": "execute_result",
          "data": {
            "text/plain": [
              "13.52"
            ]
          },
          "metadata": {
            "tags": []
          },
          "execution_count": 35
        }
      ]
    },
    {
      "cell_type": "code",
      "metadata": {
        "id": "ptlhu83DxP80",
        "colab": {
          "base_uri": "https://localhost:8080/",
          "height": 0
        },
        "outputId": "234e1c01-2bb2-44bc-9889-8f592852a234"
      },
      "source": [
        "# Finalmente obtendriamos el dataframe filtrado para sin los valores que consideramos outliers\n",
        "df_A_no_outliers= df_base.drop(indx_outlier_total).reset_index(drop=True)\n",
        "df_A_no_outliers"
      ],
      "execution_count": 36,
      "outputs": [
        {
          "output_type": "execute_result",
          "data": {
            "text/html": [
              "<div>\n",
              "<style scoped>\n",
              "    .dataframe tbody tr th:only-of-type {\n",
              "        vertical-align: middle;\n",
              "    }\n",
              "\n",
              "    .dataframe tbody tr th {\n",
              "        vertical-align: top;\n",
              "    }\n",
              "\n",
              "    .dataframe thead th {\n",
              "        text-align: right;\n",
              "    }\n",
              "</style>\n",
              "<table border=\"1\" class=\"dataframe\">\n",
              "  <thead>\n",
              "    <tr style=\"text-align: right;\">\n",
              "      <th></th>\n",
              "      <th>l3</th>\n",
              "      <th>property_type</th>\n",
              "      <th>lat</th>\n",
              "      <th>lon</th>\n",
              "      <th>rooms</th>\n",
              "      <th>bedrooms</th>\n",
              "      <th>bathrooms</th>\n",
              "      <th>surface_total</th>\n",
              "      <th>surface_covered</th>\n",
              "      <th>price</th>\n",
              "    </tr>\n",
              "  </thead>\n",
              "  <tbody>\n",
              "    <tr>\n",
              "      <th>0</th>\n",
              "      <td>Boedo</td>\n",
              "      <td>PH</td>\n",
              "      <td>-34.624056</td>\n",
              "      <td>-58.412110</td>\n",
              "      <td>2.0</td>\n",
              "      <td>1.0</td>\n",
              "      <td>2.0</td>\n",
              "      <td>70.0</td>\n",
              "      <td>58.0</td>\n",
              "      <td>159000.0</td>\n",
              "    </tr>\n",
              "    <tr>\n",
              "      <th>1</th>\n",
              "      <td>Palermo</td>\n",
              "      <td>PH</td>\n",
              "      <td>-34.593569</td>\n",
              "      <td>-58.427474</td>\n",
              "      <td>2.0</td>\n",
              "      <td>1.0</td>\n",
              "      <td>1.0</td>\n",
              "      <td>45.0</td>\n",
              "      <td>45.0</td>\n",
              "      <td>125000.0</td>\n",
              "    </tr>\n",
              "    <tr>\n",
              "      <th>2</th>\n",
              "      <td>Palermo</td>\n",
              "      <td>PH</td>\n",
              "      <td>-34.581294</td>\n",
              "      <td>-58.436754</td>\n",
              "      <td>2.0</td>\n",
              "      <td>1.0</td>\n",
              "      <td>1.0</td>\n",
              "      <td>85.0</td>\n",
              "      <td>50.0</td>\n",
              "      <td>295000.0</td>\n",
              "    </tr>\n",
              "    <tr>\n",
              "      <th>3</th>\n",
              "      <td>Villa Crespo</td>\n",
              "      <td>PH</td>\n",
              "      <td>-34.593779</td>\n",
              "      <td>-58.441239</td>\n",
              "      <td>2.0</td>\n",
              "      <td>1.0</td>\n",
              "      <td>1.0</td>\n",
              "      <td>56.0</td>\n",
              "      <td>56.0</td>\n",
              "      <td>150000.0</td>\n",
              "    </tr>\n",
              "    <tr>\n",
              "      <th>4</th>\n",
              "      <td>Villa Crespo</td>\n",
              "      <td>PH</td>\n",
              "      <td>-34.600988</td>\n",
              "      <td>-58.433061</td>\n",
              "      <td>2.0</td>\n",
              "      <td>1.0</td>\n",
              "      <td>1.0</td>\n",
              "      <td>70.0</td>\n",
              "      <td>70.0</td>\n",
              "      <td>159500.0</td>\n",
              "    </tr>\n",
              "    <tr>\n",
              "      <th>...</th>\n",
              "      <td>...</td>\n",
              "      <td>...</td>\n",
              "      <td>...</td>\n",
              "      <td>...</td>\n",
              "      <td>...</td>\n",
              "      <td>...</td>\n",
              "      <td>...</td>\n",
              "      <td>...</td>\n",
              "      <td>...</td>\n",
              "      <td>...</td>\n",
              "    </tr>\n",
              "    <tr>\n",
              "      <th>79108</th>\n",
              "      <td>Palermo</td>\n",
              "      <td>Departamento</td>\n",
              "      <td>NaN</td>\n",
              "      <td>NaN</td>\n",
              "      <td>3.0</td>\n",
              "      <td>2.0</td>\n",
              "      <td>2.0</td>\n",
              "      <td>82.0</td>\n",
              "      <td>82.0</td>\n",
              "      <td>475000.0</td>\n",
              "    </tr>\n",
              "    <tr>\n",
              "      <th>79109</th>\n",
              "      <td>Palermo</td>\n",
              "      <td>PH</td>\n",
              "      <td>-34.576573</td>\n",
              "      <td>-58.434394</td>\n",
              "      <td>3.0</td>\n",
              "      <td>2.0</td>\n",
              "      <td>1.0</td>\n",
              "      <td>84.0</td>\n",
              "      <td>84.0</td>\n",
              "      <td>178000.0</td>\n",
              "    </tr>\n",
              "    <tr>\n",
              "      <th>79110</th>\n",
              "      <td>Palermo</td>\n",
              "      <td>PH</td>\n",
              "      <td>NaN</td>\n",
              "      <td>NaN</td>\n",
              "      <td>5.0</td>\n",
              "      <td>2.0</td>\n",
              "      <td>2.0</td>\n",
              "      <td>114.0</td>\n",
              "      <td>95.0</td>\n",
              "      <td>298000.0</td>\n",
              "    </tr>\n",
              "    <tr>\n",
              "      <th>79111</th>\n",
              "      <td>Palermo</td>\n",
              "      <td>PH</td>\n",
              "      <td>-34.585355</td>\n",
              "      <td>-58.427194</td>\n",
              "      <td>3.0</td>\n",
              "      <td>2.0</td>\n",
              "      <td>2.0</td>\n",
              "      <td>144.0</td>\n",
              "      <td>134.0</td>\n",
              "      <td>480000.0</td>\n",
              "    </tr>\n",
              "    <tr>\n",
              "      <th>79112</th>\n",
              "      <td>Palermo</td>\n",
              "      <td>Departamento</td>\n",
              "      <td>-34.583995</td>\n",
              "      <td>-58.417645</td>\n",
              "      <td>3.0</td>\n",
              "      <td>2.0</td>\n",
              "      <td>2.0</td>\n",
              "      <td>145.0</td>\n",
              "      <td>145.0</td>\n",
              "      <td>420000.0</td>\n",
              "    </tr>\n",
              "  </tbody>\n",
              "</table>\n",
              "<p>79113 rows × 10 columns</p>\n",
              "</div>"
            ],
            "text/plain": [
              "                 l3 property_type        lat        lon  rooms  bedrooms  \\\n",
              "0             Boedo            PH -34.624056 -58.412110    2.0       1.0   \n",
              "1           Palermo            PH -34.593569 -58.427474    2.0       1.0   \n",
              "2           Palermo            PH -34.581294 -58.436754    2.0       1.0   \n",
              "3      Villa Crespo            PH -34.593779 -58.441239    2.0       1.0   \n",
              "4      Villa Crespo            PH -34.600988 -58.433061    2.0       1.0   \n",
              "...             ...           ...        ...        ...    ...       ...   \n",
              "79108       Palermo  Departamento        NaN        NaN    3.0       2.0   \n",
              "79109       Palermo            PH -34.576573 -58.434394    3.0       2.0   \n",
              "79110       Palermo            PH        NaN        NaN    5.0       2.0   \n",
              "79111       Palermo            PH -34.585355 -58.427194    3.0       2.0   \n",
              "79112       Palermo  Departamento -34.583995 -58.417645    3.0       2.0   \n",
              "\n",
              "       bathrooms  surface_total  surface_covered     price  \n",
              "0            2.0           70.0             58.0  159000.0  \n",
              "1            1.0           45.0             45.0  125000.0  \n",
              "2            1.0           85.0             50.0  295000.0  \n",
              "3            1.0           56.0             56.0  150000.0  \n",
              "4            1.0           70.0             70.0  159500.0  \n",
              "...          ...            ...              ...       ...  \n",
              "79108        2.0           82.0             82.0  475000.0  \n",
              "79109        1.0           84.0             84.0  178000.0  \n",
              "79110        2.0          114.0             95.0  298000.0  \n",
              "79111        2.0          144.0            134.0  480000.0  \n",
              "79112        2.0          145.0            145.0  420000.0  \n",
              "\n",
              "[79113 rows x 10 columns]"
            ]
          },
          "metadata": {
            "tags": []
          },
          "execution_count": 36
        }
      ]
    },
    {
      "cell_type": "markdown",
      "metadata": {
        "id": "sBn86xwD90Al"
      },
      "source": [
        "## **A. 02.** Encoding"
      ]
    },
    {
      "cell_type": "markdown",
      "metadata": {
        "id": "z6kpp9Zn90Ay"
      },
      "source": [
        "El proceso de encoding se da para atributos de tipo categórico que sean nominales u ordinales. En específico para los atributos de tipo categórico nominal se presenta el proceso de *one hot encoding*, y para los atributos de tipo categórico ordinal se puede presentar tanto *one hot encoding* cómo *label encoding* según sea útil en cada caso de estudio. Dado que nuestro dataset cuenta únicamente con atributos de tipo categórico nominal solo implementaremos el proceso de *one hot encoding*. Este proceso es obligatorio, pues los modelos reciben únicamente como entradas variables de  variables de tipo numérico."
      ]
    },
    {
      "cell_type": "markdown",
      "metadata": {
        "id": "-Xj8dxnW90Ay"
      },
      "source": [
        "### ---> Selección de features a aplicar encoding"
      ]
    },
    {
      "cell_type": "markdown",
      "metadata": {
        "id": "aYgxoiLm90Ay"
      },
      "source": [
        "Inicialmente definimos las columnas sobre las cuales haremos el proceso de encoding. Como fue mencionado estas se generan sobre las columnas de tipo categórico:"
      ]
    },
    {
      "cell_type": "code",
      "metadata": {
        "id": "aK1wgFJA90Ay"
      },
      "source": [
        "col_encoding=['property_type', 'l3']"
      ],
      "execution_count": 37,
      "outputs": []
    },
    {
      "cell_type": "markdown",
      "metadata": {
        "id": "8skMCBdF90Ay"
      },
      "source": [
        "### ---> Definición de funciones que nos permiten generar el encoding:"
      ]
    },
    {
      "cell_type": "markdown",
      "metadata": {
        "id": "YDNTjIGl90Ay"
      },
      "source": [
        "Para desarrollar el proceso de one hot encoding la librería **pandas** cuenta con la función **get_dummies** que nos permite implementar de manera directa el one hot encoding. "
      ]
    },
    {
      "cell_type": "markdown",
      "metadata": {
        "id": "5gjB0s2kDgNO"
      },
      "source": [
        "### ---> Dataframe procesado con encoding"
      ]
    },
    {
      "cell_type": "markdown",
      "metadata": {
        "id": "1WlMc05WDgNZ"
      },
      "source": [
        "A partir de la función descrita obtenemos el dataframe con el encoding implementado. Este dataframe sera el que emplearemos como entrada en el siguiente proceso de transformación."
      ]
    },
    {
      "cell_type": "code",
      "metadata": {
        "colab": {
          "base_uri": "https://localhost:8080/",
          "height": 0
        },
        "id": "5jmA2-DrxPxy",
        "outputId": "7c93a7ae-f59a-4bcb-9eca-ee997098046f"
      },
      "source": [
        "df_A_encode = pd.get_dummies(df_A_no_outliers, columns=col_encoding, drop_first=False)\n",
        "df_A_encode"
      ],
      "execution_count": 38,
      "outputs": [
        {
          "output_type": "execute_result",
          "data": {
            "text/html": [
              "<div>\n",
              "<style scoped>\n",
              "    .dataframe tbody tr th:only-of-type {\n",
              "        vertical-align: middle;\n",
              "    }\n",
              "\n",
              "    .dataframe tbody tr th {\n",
              "        vertical-align: top;\n",
              "    }\n",
              "\n",
              "    .dataframe thead th {\n",
              "        text-align: right;\n",
              "    }\n",
              "</style>\n",
              "<table border=\"1\" class=\"dataframe\">\n",
              "  <thead>\n",
              "    <tr style=\"text-align: right;\">\n",
              "      <th></th>\n",
              "      <th>lat</th>\n",
              "      <th>lon</th>\n",
              "      <th>rooms</th>\n",
              "      <th>bedrooms</th>\n",
              "      <th>bathrooms</th>\n",
              "      <th>surface_total</th>\n",
              "      <th>surface_covered</th>\n",
              "      <th>price</th>\n",
              "      <th>property_type_Casa</th>\n",
              "      <th>property_type_Departamento</th>\n",
              "      <th>property_type_PH</th>\n",
              "      <th>l3_Abasto</th>\n",
              "      <th>l3_Agronomía</th>\n",
              "      <th>l3_Almagro</th>\n",
              "      <th>l3_Balvanera</th>\n",
              "      <th>l3_Barracas</th>\n",
              "      <th>l3_Barrio Norte</th>\n",
              "      <th>l3_Belgrano</th>\n",
              "      <th>l3_Boca</th>\n",
              "      <th>l3_Boedo</th>\n",
              "      <th>l3_Caballito</th>\n",
              "      <th>l3_Catalinas</th>\n",
              "      <th>l3_Centro / Microcentro</th>\n",
              "      <th>l3_Chacarita</th>\n",
              "      <th>l3_Coghlan</th>\n",
              "      <th>l3_Colegiales</th>\n",
              "      <th>l3_Congreso</th>\n",
              "      <th>l3_Constitución</th>\n",
              "      <th>l3_Flores</th>\n",
              "      <th>l3_Floresta</th>\n",
              "      <th>l3_Las Cañitas</th>\n",
              "      <th>l3_Liniers</th>\n",
              "      <th>l3_Mataderos</th>\n",
              "      <th>l3_Monserrat</th>\n",
              "      <th>l3_Monte Castro</th>\n",
              "      <th>l3_Nuñez</th>\n",
              "      <th>l3_Once</th>\n",
              "      <th>l3_Palermo</th>\n",
              "      <th>l3_Parque Avellaneda</th>\n",
              "      <th>l3_Parque Centenario</th>\n",
              "      <th>l3_Parque Chacabuco</th>\n",
              "      <th>l3_Parque Chas</th>\n",
              "      <th>l3_Parque Patricios</th>\n",
              "      <th>l3_Paternal</th>\n",
              "      <th>l3_Pompeya</th>\n",
              "      <th>l3_Puerto Madero</th>\n",
              "      <th>l3_Recoleta</th>\n",
              "      <th>l3_Retiro</th>\n",
              "      <th>l3_Saavedra</th>\n",
              "      <th>l3_San Cristobal</th>\n",
              "      <th>l3_San Nicolás</th>\n",
              "      <th>l3_San Telmo</th>\n",
              "      <th>l3_Tribunales</th>\n",
              "      <th>l3_Velez Sarsfield</th>\n",
              "      <th>l3_Versalles</th>\n",
              "      <th>l3_Villa Crespo</th>\n",
              "      <th>l3_Villa Devoto</th>\n",
              "      <th>l3_Villa General Mitre</th>\n",
              "      <th>l3_Villa Lugano</th>\n",
              "      <th>l3_Villa Luro</th>\n",
              "      <th>l3_Villa Ortuzar</th>\n",
              "      <th>l3_Villa Pueyrredón</th>\n",
              "      <th>l3_Villa Real</th>\n",
              "      <th>l3_Villa Santa Rita</th>\n",
              "      <th>l3_Villa Soldati</th>\n",
              "      <th>l3_Villa Urquiza</th>\n",
              "      <th>l3_Villa del Parque</th>\n",
              "    </tr>\n",
              "  </thead>\n",
              "  <tbody>\n",
              "    <tr>\n",
              "      <th>0</th>\n",
              "      <td>-34.624056</td>\n",
              "      <td>-58.412110</td>\n",
              "      <td>2.0</td>\n",
              "      <td>1.0</td>\n",
              "      <td>2.0</td>\n",
              "      <td>70.0</td>\n",
              "      <td>58.0</td>\n",
              "      <td>159000.0</td>\n",
              "      <td>0</td>\n",
              "      <td>0</td>\n",
              "      <td>1</td>\n",
              "      <td>0</td>\n",
              "      <td>0</td>\n",
              "      <td>0</td>\n",
              "      <td>0</td>\n",
              "      <td>0</td>\n",
              "      <td>0</td>\n",
              "      <td>0</td>\n",
              "      <td>0</td>\n",
              "      <td>1</td>\n",
              "      <td>0</td>\n",
              "      <td>0</td>\n",
              "      <td>0</td>\n",
              "      <td>0</td>\n",
              "      <td>0</td>\n",
              "      <td>0</td>\n",
              "      <td>0</td>\n",
              "      <td>0</td>\n",
              "      <td>0</td>\n",
              "      <td>0</td>\n",
              "      <td>0</td>\n",
              "      <td>0</td>\n",
              "      <td>0</td>\n",
              "      <td>0</td>\n",
              "      <td>0</td>\n",
              "      <td>0</td>\n",
              "      <td>0</td>\n",
              "      <td>0</td>\n",
              "      <td>0</td>\n",
              "      <td>0</td>\n",
              "      <td>0</td>\n",
              "      <td>0</td>\n",
              "      <td>0</td>\n",
              "      <td>0</td>\n",
              "      <td>0</td>\n",
              "      <td>0</td>\n",
              "      <td>0</td>\n",
              "      <td>0</td>\n",
              "      <td>0</td>\n",
              "      <td>0</td>\n",
              "      <td>0</td>\n",
              "      <td>0</td>\n",
              "      <td>0</td>\n",
              "      <td>0</td>\n",
              "      <td>0</td>\n",
              "      <td>0</td>\n",
              "      <td>0</td>\n",
              "      <td>0</td>\n",
              "      <td>0</td>\n",
              "      <td>0</td>\n",
              "      <td>0</td>\n",
              "      <td>0</td>\n",
              "      <td>0</td>\n",
              "      <td>0</td>\n",
              "      <td>0</td>\n",
              "      <td>0</td>\n",
              "      <td>0</td>\n",
              "    </tr>\n",
              "    <tr>\n",
              "      <th>1</th>\n",
              "      <td>-34.593569</td>\n",
              "      <td>-58.427474</td>\n",
              "      <td>2.0</td>\n",
              "      <td>1.0</td>\n",
              "      <td>1.0</td>\n",
              "      <td>45.0</td>\n",
              "      <td>45.0</td>\n",
              "      <td>125000.0</td>\n",
              "      <td>0</td>\n",
              "      <td>0</td>\n",
              "      <td>1</td>\n",
              "      <td>0</td>\n",
              "      <td>0</td>\n",
              "      <td>0</td>\n",
              "      <td>0</td>\n",
              "      <td>0</td>\n",
              "      <td>0</td>\n",
              "      <td>0</td>\n",
              "      <td>0</td>\n",
              "      <td>0</td>\n",
              "      <td>0</td>\n",
              "      <td>0</td>\n",
              "      <td>0</td>\n",
              "      <td>0</td>\n",
              "      <td>0</td>\n",
              "      <td>0</td>\n",
              "      <td>0</td>\n",
              "      <td>0</td>\n",
              "      <td>0</td>\n",
              "      <td>0</td>\n",
              "      <td>0</td>\n",
              "      <td>0</td>\n",
              "      <td>0</td>\n",
              "      <td>0</td>\n",
              "      <td>0</td>\n",
              "      <td>0</td>\n",
              "      <td>0</td>\n",
              "      <td>1</td>\n",
              "      <td>0</td>\n",
              "      <td>0</td>\n",
              "      <td>0</td>\n",
              "      <td>0</td>\n",
              "      <td>0</td>\n",
              "      <td>0</td>\n",
              "      <td>0</td>\n",
              "      <td>0</td>\n",
              "      <td>0</td>\n",
              "      <td>0</td>\n",
              "      <td>0</td>\n",
              "      <td>0</td>\n",
              "      <td>0</td>\n",
              "      <td>0</td>\n",
              "      <td>0</td>\n",
              "      <td>0</td>\n",
              "      <td>0</td>\n",
              "      <td>0</td>\n",
              "      <td>0</td>\n",
              "      <td>0</td>\n",
              "      <td>0</td>\n",
              "      <td>0</td>\n",
              "      <td>0</td>\n",
              "      <td>0</td>\n",
              "      <td>0</td>\n",
              "      <td>0</td>\n",
              "      <td>0</td>\n",
              "      <td>0</td>\n",
              "      <td>0</td>\n",
              "    </tr>\n",
              "    <tr>\n",
              "      <th>2</th>\n",
              "      <td>-34.581294</td>\n",
              "      <td>-58.436754</td>\n",
              "      <td>2.0</td>\n",
              "      <td>1.0</td>\n",
              "      <td>1.0</td>\n",
              "      <td>85.0</td>\n",
              "      <td>50.0</td>\n",
              "      <td>295000.0</td>\n",
              "      <td>0</td>\n",
              "      <td>0</td>\n",
              "      <td>1</td>\n",
              "      <td>0</td>\n",
              "      <td>0</td>\n",
              "      <td>0</td>\n",
              "      <td>0</td>\n",
              "      <td>0</td>\n",
              "      <td>0</td>\n",
              "      <td>0</td>\n",
              "      <td>0</td>\n",
              "      <td>0</td>\n",
              "      <td>0</td>\n",
              "      <td>0</td>\n",
              "      <td>0</td>\n",
              "      <td>0</td>\n",
              "      <td>0</td>\n",
              "      <td>0</td>\n",
              "      <td>0</td>\n",
              "      <td>0</td>\n",
              "      <td>0</td>\n",
              "      <td>0</td>\n",
              "      <td>0</td>\n",
              "      <td>0</td>\n",
              "      <td>0</td>\n",
              "      <td>0</td>\n",
              "      <td>0</td>\n",
              "      <td>0</td>\n",
              "      <td>0</td>\n",
              "      <td>1</td>\n",
              "      <td>0</td>\n",
              "      <td>0</td>\n",
              "      <td>0</td>\n",
              "      <td>0</td>\n",
              "      <td>0</td>\n",
              "      <td>0</td>\n",
              "      <td>0</td>\n",
              "      <td>0</td>\n",
              "      <td>0</td>\n",
              "      <td>0</td>\n",
              "      <td>0</td>\n",
              "      <td>0</td>\n",
              "      <td>0</td>\n",
              "      <td>0</td>\n",
              "      <td>0</td>\n",
              "      <td>0</td>\n",
              "      <td>0</td>\n",
              "      <td>0</td>\n",
              "      <td>0</td>\n",
              "      <td>0</td>\n",
              "      <td>0</td>\n",
              "      <td>0</td>\n",
              "      <td>0</td>\n",
              "      <td>0</td>\n",
              "      <td>0</td>\n",
              "      <td>0</td>\n",
              "      <td>0</td>\n",
              "      <td>0</td>\n",
              "      <td>0</td>\n",
              "    </tr>\n",
              "    <tr>\n",
              "      <th>3</th>\n",
              "      <td>-34.593779</td>\n",
              "      <td>-58.441239</td>\n",
              "      <td>2.0</td>\n",
              "      <td>1.0</td>\n",
              "      <td>1.0</td>\n",
              "      <td>56.0</td>\n",
              "      <td>56.0</td>\n",
              "      <td>150000.0</td>\n",
              "      <td>0</td>\n",
              "      <td>0</td>\n",
              "      <td>1</td>\n",
              "      <td>0</td>\n",
              "      <td>0</td>\n",
              "      <td>0</td>\n",
              "      <td>0</td>\n",
              "      <td>0</td>\n",
              "      <td>0</td>\n",
              "      <td>0</td>\n",
              "      <td>0</td>\n",
              "      <td>0</td>\n",
              "      <td>0</td>\n",
              "      <td>0</td>\n",
              "      <td>0</td>\n",
              "      <td>0</td>\n",
              "      <td>0</td>\n",
              "      <td>0</td>\n",
              "      <td>0</td>\n",
              "      <td>0</td>\n",
              "      <td>0</td>\n",
              "      <td>0</td>\n",
              "      <td>0</td>\n",
              "      <td>0</td>\n",
              "      <td>0</td>\n",
              "      <td>0</td>\n",
              "      <td>0</td>\n",
              "      <td>0</td>\n",
              "      <td>0</td>\n",
              "      <td>0</td>\n",
              "      <td>0</td>\n",
              "      <td>0</td>\n",
              "      <td>0</td>\n",
              "      <td>0</td>\n",
              "      <td>0</td>\n",
              "      <td>0</td>\n",
              "      <td>0</td>\n",
              "      <td>0</td>\n",
              "      <td>0</td>\n",
              "      <td>0</td>\n",
              "      <td>0</td>\n",
              "      <td>0</td>\n",
              "      <td>0</td>\n",
              "      <td>0</td>\n",
              "      <td>0</td>\n",
              "      <td>0</td>\n",
              "      <td>0</td>\n",
              "      <td>1</td>\n",
              "      <td>0</td>\n",
              "      <td>0</td>\n",
              "      <td>0</td>\n",
              "      <td>0</td>\n",
              "      <td>0</td>\n",
              "      <td>0</td>\n",
              "      <td>0</td>\n",
              "      <td>0</td>\n",
              "      <td>0</td>\n",
              "      <td>0</td>\n",
              "      <td>0</td>\n",
              "    </tr>\n",
              "    <tr>\n",
              "      <th>4</th>\n",
              "      <td>-34.600988</td>\n",
              "      <td>-58.433061</td>\n",
              "      <td>2.0</td>\n",
              "      <td>1.0</td>\n",
              "      <td>1.0</td>\n",
              "      <td>70.0</td>\n",
              "      <td>70.0</td>\n",
              "      <td>159500.0</td>\n",
              "      <td>0</td>\n",
              "      <td>0</td>\n",
              "      <td>1</td>\n",
              "      <td>0</td>\n",
              "      <td>0</td>\n",
              "      <td>0</td>\n",
              "      <td>0</td>\n",
              "      <td>0</td>\n",
              "      <td>0</td>\n",
              "      <td>0</td>\n",
              "      <td>0</td>\n",
              "      <td>0</td>\n",
              "      <td>0</td>\n",
              "      <td>0</td>\n",
              "      <td>0</td>\n",
              "      <td>0</td>\n",
              "      <td>0</td>\n",
              "      <td>0</td>\n",
              "      <td>0</td>\n",
              "      <td>0</td>\n",
              "      <td>0</td>\n",
              "      <td>0</td>\n",
              "      <td>0</td>\n",
              "      <td>0</td>\n",
              "      <td>0</td>\n",
              "      <td>0</td>\n",
              "      <td>0</td>\n",
              "      <td>0</td>\n",
              "      <td>0</td>\n",
              "      <td>0</td>\n",
              "      <td>0</td>\n",
              "      <td>0</td>\n",
              "      <td>0</td>\n",
              "      <td>0</td>\n",
              "      <td>0</td>\n",
              "      <td>0</td>\n",
              "      <td>0</td>\n",
              "      <td>0</td>\n",
              "      <td>0</td>\n",
              "      <td>0</td>\n",
              "      <td>0</td>\n",
              "      <td>0</td>\n",
              "      <td>0</td>\n",
              "      <td>0</td>\n",
              "      <td>0</td>\n",
              "      <td>0</td>\n",
              "      <td>0</td>\n",
              "      <td>1</td>\n",
              "      <td>0</td>\n",
              "      <td>0</td>\n",
              "      <td>0</td>\n",
              "      <td>0</td>\n",
              "      <td>0</td>\n",
              "      <td>0</td>\n",
              "      <td>0</td>\n",
              "      <td>0</td>\n",
              "      <td>0</td>\n",
              "      <td>0</td>\n",
              "      <td>0</td>\n",
              "    </tr>\n",
              "    <tr>\n",
              "      <th>...</th>\n",
              "      <td>...</td>\n",
              "      <td>...</td>\n",
              "      <td>...</td>\n",
              "      <td>...</td>\n",
              "      <td>...</td>\n",
              "      <td>...</td>\n",
              "      <td>...</td>\n",
              "      <td>...</td>\n",
              "      <td>...</td>\n",
              "      <td>...</td>\n",
              "      <td>...</td>\n",
              "      <td>...</td>\n",
              "      <td>...</td>\n",
              "      <td>...</td>\n",
              "      <td>...</td>\n",
              "      <td>...</td>\n",
              "      <td>...</td>\n",
              "      <td>...</td>\n",
              "      <td>...</td>\n",
              "      <td>...</td>\n",
              "      <td>...</td>\n",
              "      <td>...</td>\n",
              "      <td>...</td>\n",
              "      <td>...</td>\n",
              "      <td>...</td>\n",
              "      <td>...</td>\n",
              "      <td>...</td>\n",
              "      <td>...</td>\n",
              "      <td>...</td>\n",
              "      <td>...</td>\n",
              "      <td>...</td>\n",
              "      <td>...</td>\n",
              "      <td>...</td>\n",
              "      <td>...</td>\n",
              "      <td>...</td>\n",
              "      <td>...</td>\n",
              "      <td>...</td>\n",
              "      <td>...</td>\n",
              "      <td>...</td>\n",
              "      <td>...</td>\n",
              "      <td>...</td>\n",
              "      <td>...</td>\n",
              "      <td>...</td>\n",
              "      <td>...</td>\n",
              "      <td>...</td>\n",
              "      <td>...</td>\n",
              "      <td>...</td>\n",
              "      <td>...</td>\n",
              "      <td>...</td>\n",
              "      <td>...</td>\n",
              "      <td>...</td>\n",
              "      <td>...</td>\n",
              "      <td>...</td>\n",
              "      <td>...</td>\n",
              "      <td>...</td>\n",
              "      <td>...</td>\n",
              "      <td>...</td>\n",
              "      <td>...</td>\n",
              "      <td>...</td>\n",
              "      <td>...</td>\n",
              "      <td>...</td>\n",
              "      <td>...</td>\n",
              "      <td>...</td>\n",
              "      <td>...</td>\n",
              "      <td>...</td>\n",
              "      <td>...</td>\n",
              "      <td>...</td>\n",
              "    </tr>\n",
              "    <tr>\n",
              "      <th>79108</th>\n",
              "      <td>NaN</td>\n",
              "      <td>NaN</td>\n",
              "      <td>3.0</td>\n",
              "      <td>2.0</td>\n",
              "      <td>2.0</td>\n",
              "      <td>82.0</td>\n",
              "      <td>82.0</td>\n",
              "      <td>475000.0</td>\n",
              "      <td>0</td>\n",
              "      <td>1</td>\n",
              "      <td>0</td>\n",
              "      <td>0</td>\n",
              "      <td>0</td>\n",
              "      <td>0</td>\n",
              "      <td>0</td>\n",
              "      <td>0</td>\n",
              "      <td>0</td>\n",
              "      <td>0</td>\n",
              "      <td>0</td>\n",
              "      <td>0</td>\n",
              "      <td>0</td>\n",
              "      <td>0</td>\n",
              "      <td>0</td>\n",
              "      <td>0</td>\n",
              "      <td>0</td>\n",
              "      <td>0</td>\n",
              "      <td>0</td>\n",
              "      <td>0</td>\n",
              "      <td>0</td>\n",
              "      <td>0</td>\n",
              "      <td>0</td>\n",
              "      <td>0</td>\n",
              "      <td>0</td>\n",
              "      <td>0</td>\n",
              "      <td>0</td>\n",
              "      <td>0</td>\n",
              "      <td>0</td>\n",
              "      <td>1</td>\n",
              "      <td>0</td>\n",
              "      <td>0</td>\n",
              "      <td>0</td>\n",
              "      <td>0</td>\n",
              "      <td>0</td>\n",
              "      <td>0</td>\n",
              "      <td>0</td>\n",
              "      <td>0</td>\n",
              "      <td>0</td>\n",
              "      <td>0</td>\n",
              "      <td>0</td>\n",
              "      <td>0</td>\n",
              "      <td>0</td>\n",
              "      <td>0</td>\n",
              "      <td>0</td>\n",
              "      <td>0</td>\n",
              "      <td>0</td>\n",
              "      <td>0</td>\n",
              "      <td>0</td>\n",
              "      <td>0</td>\n",
              "      <td>0</td>\n",
              "      <td>0</td>\n",
              "      <td>0</td>\n",
              "      <td>0</td>\n",
              "      <td>0</td>\n",
              "      <td>0</td>\n",
              "      <td>0</td>\n",
              "      <td>0</td>\n",
              "      <td>0</td>\n",
              "    </tr>\n",
              "    <tr>\n",
              "      <th>79109</th>\n",
              "      <td>-34.576573</td>\n",
              "      <td>-58.434394</td>\n",
              "      <td>3.0</td>\n",
              "      <td>2.0</td>\n",
              "      <td>1.0</td>\n",
              "      <td>84.0</td>\n",
              "      <td>84.0</td>\n",
              "      <td>178000.0</td>\n",
              "      <td>0</td>\n",
              "      <td>0</td>\n",
              "      <td>1</td>\n",
              "      <td>0</td>\n",
              "      <td>0</td>\n",
              "      <td>0</td>\n",
              "      <td>0</td>\n",
              "      <td>0</td>\n",
              "      <td>0</td>\n",
              "      <td>0</td>\n",
              "      <td>0</td>\n",
              "      <td>0</td>\n",
              "      <td>0</td>\n",
              "      <td>0</td>\n",
              "      <td>0</td>\n",
              "      <td>0</td>\n",
              "      <td>0</td>\n",
              "      <td>0</td>\n",
              "      <td>0</td>\n",
              "      <td>0</td>\n",
              "      <td>0</td>\n",
              "      <td>0</td>\n",
              "      <td>0</td>\n",
              "      <td>0</td>\n",
              "      <td>0</td>\n",
              "      <td>0</td>\n",
              "      <td>0</td>\n",
              "      <td>0</td>\n",
              "      <td>0</td>\n",
              "      <td>1</td>\n",
              "      <td>0</td>\n",
              "      <td>0</td>\n",
              "      <td>0</td>\n",
              "      <td>0</td>\n",
              "      <td>0</td>\n",
              "      <td>0</td>\n",
              "      <td>0</td>\n",
              "      <td>0</td>\n",
              "      <td>0</td>\n",
              "      <td>0</td>\n",
              "      <td>0</td>\n",
              "      <td>0</td>\n",
              "      <td>0</td>\n",
              "      <td>0</td>\n",
              "      <td>0</td>\n",
              "      <td>0</td>\n",
              "      <td>0</td>\n",
              "      <td>0</td>\n",
              "      <td>0</td>\n",
              "      <td>0</td>\n",
              "      <td>0</td>\n",
              "      <td>0</td>\n",
              "      <td>0</td>\n",
              "      <td>0</td>\n",
              "      <td>0</td>\n",
              "      <td>0</td>\n",
              "      <td>0</td>\n",
              "      <td>0</td>\n",
              "      <td>0</td>\n",
              "    </tr>\n",
              "    <tr>\n",
              "      <th>79110</th>\n",
              "      <td>NaN</td>\n",
              "      <td>NaN</td>\n",
              "      <td>5.0</td>\n",
              "      <td>2.0</td>\n",
              "      <td>2.0</td>\n",
              "      <td>114.0</td>\n",
              "      <td>95.0</td>\n",
              "      <td>298000.0</td>\n",
              "      <td>0</td>\n",
              "      <td>0</td>\n",
              "      <td>1</td>\n",
              "      <td>0</td>\n",
              "      <td>0</td>\n",
              "      <td>0</td>\n",
              "      <td>0</td>\n",
              "      <td>0</td>\n",
              "      <td>0</td>\n",
              "      <td>0</td>\n",
              "      <td>0</td>\n",
              "      <td>0</td>\n",
              "      <td>0</td>\n",
              "      <td>0</td>\n",
              "      <td>0</td>\n",
              "      <td>0</td>\n",
              "      <td>0</td>\n",
              "      <td>0</td>\n",
              "      <td>0</td>\n",
              "      <td>0</td>\n",
              "      <td>0</td>\n",
              "      <td>0</td>\n",
              "      <td>0</td>\n",
              "      <td>0</td>\n",
              "      <td>0</td>\n",
              "      <td>0</td>\n",
              "      <td>0</td>\n",
              "      <td>0</td>\n",
              "      <td>0</td>\n",
              "      <td>1</td>\n",
              "      <td>0</td>\n",
              "      <td>0</td>\n",
              "      <td>0</td>\n",
              "      <td>0</td>\n",
              "      <td>0</td>\n",
              "      <td>0</td>\n",
              "      <td>0</td>\n",
              "      <td>0</td>\n",
              "      <td>0</td>\n",
              "      <td>0</td>\n",
              "      <td>0</td>\n",
              "      <td>0</td>\n",
              "      <td>0</td>\n",
              "      <td>0</td>\n",
              "      <td>0</td>\n",
              "      <td>0</td>\n",
              "      <td>0</td>\n",
              "      <td>0</td>\n",
              "      <td>0</td>\n",
              "      <td>0</td>\n",
              "      <td>0</td>\n",
              "      <td>0</td>\n",
              "      <td>0</td>\n",
              "      <td>0</td>\n",
              "      <td>0</td>\n",
              "      <td>0</td>\n",
              "      <td>0</td>\n",
              "      <td>0</td>\n",
              "      <td>0</td>\n",
              "    </tr>\n",
              "    <tr>\n",
              "      <th>79111</th>\n",
              "      <td>-34.585355</td>\n",
              "      <td>-58.427194</td>\n",
              "      <td>3.0</td>\n",
              "      <td>2.0</td>\n",
              "      <td>2.0</td>\n",
              "      <td>144.0</td>\n",
              "      <td>134.0</td>\n",
              "      <td>480000.0</td>\n",
              "      <td>0</td>\n",
              "      <td>0</td>\n",
              "      <td>1</td>\n",
              "      <td>0</td>\n",
              "      <td>0</td>\n",
              "      <td>0</td>\n",
              "      <td>0</td>\n",
              "      <td>0</td>\n",
              "      <td>0</td>\n",
              "      <td>0</td>\n",
              "      <td>0</td>\n",
              "      <td>0</td>\n",
              "      <td>0</td>\n",
              "      <td>0</td>\n",
              "      <td>0</td>\n",
              "      <td>0</td>\n",
              "      <td>0</td>\n",
              "      <td>0</td>\n",
              "      <td>0</td>\n",
              "      <td>0</td>\n",
              "      <td>0</td>\n",
              "      <td>0</td>\n",
              "      <td>0</td>\n",
              "      <td>0</td>\n",
              "      <td>0</td>\n",
              "      <td>0</td>\n",
              "      <td>0</td>\n",
              "      <td>0</td>\n",
              "      <td>0</td>\n",
              "      <td>1</td>\n",
              "      <td>0</td>\n",
              "      <td>0</td>\n",
              "      <td>0</td>\n",
              "      <td>0</td>\n",
              "      <td>0</td>\n",
              "      <td>0</td>\n",
              "      <td>0</td>\n",
              "      <td>0</td>\n",
              "      <td>0</td>\n",
              "      <td>0</td>\n",
              "      <td>0</td>\n",
              "      <td>0</td>\n",
              "      <td>0</td>\n",
              "      <td>0</td>\n",
              "      <td>0</td>\n",
              "      <td>0</td>\n",
              "      <td>0</td>\n",
              "      <td>0</td>\n",
              "      <td>0</td>\n",
              "      <td>0</td>\n",
              "      <td>0</td>\n",
              "      <td>0</td>\n",
              "      <td>0</td>\n",
              "      <td>0</td>\n",
              "      <td>0</td>\n",
              "      <td>0</td>\n",
              "      <td>0</td>\n",
              "      <td>0</td>\n",
              "      <td>0</td>\n",
              "    </tr>\n",
              "    <tr>\n",
              "      <th>79112</th>\n",
              "      <td>-34.583995</td>\n",
              "      <td>-58.417645</td>\n",
              "      <td>3.0</td>\n",
              "      <td>2.0</td>\n",
              "      <td>2.0</td>\n",
              "      <td>145.0</td>\n",
              "      <td>145.0</td>\n",
              "      <td>420000.0</td>\n",
              "      <td>0</td>\n",
              "      <td>1</td>\n",
              "      <td>0</td>\n",
              "      <td>0</td>\n",
              "      <td>0</td>\n",
              "      <td>0</td>\n",
              "      <td>0</td>\n",
              "      <td>0</td>\n",
              "      <td>0</td>\n",
              "      <td>0</td>\n",
              "      <td>0</td>\n",
              "      <td>0</td>\n",
              "      <td>0</td>\n",
              "      <td>0</td>\n",
              "      <td>0</td>\n",
              "      <td>0</td>\n",
              "      <td>0</td>\n",
              "      <td>0</td>\n",
              "      <td>0</td>\n",
              "      <td>0</td>\n",
              "      <td>0</td>\n",
              "      <td>0</td>\n",
              "      <td>0</td>\n",
              "      <td>0</td>\n",
              "      <td>0</td>\n",
              "      <td>0</td>\n",
              "      <td>0</td>\n",
              "      <td>0</td>\n",
              "      <td>0</td>\n",
              "      <td>1</td>\n",
              "      <td>0</td>\n",
              "      <td>0</td>\n",
              "      <td>0</td>\n",
              "      <td>0</td>\n",
              "      <td>0</td>\n",
              "      <td>0</td>\n",
              "      <td>0</td>\n",
              "      <td>0</td>\n",
              "      <td>0</td>\n",
              "      <td>0</td>\n",
              "      <td>0</td>\n",
              "      <td>0</td>\n",
              "      <td>0</td>\n",
              "      <td>0</td>\n",
              "      <td>0</td>\n",
              "      <td>0</td>\n",
              "      <td>0</td>\n",
              "      <td>0</td>\n",
              "      <td>0</td>\n",
              "      <td>0</td>\n",
              "      <td>0</td>\n",
              "      <td>0</td>\n",
              "      <td>0</td>\n",
              "      <td>0</td>\n",
              "      <td>0</td>\n",
              "      <td>0</td>\n",
              "      <td>0</td>\n",
              "      <td>0</td>\n",
              "      <td>0</td>\n",
              "    </tr>\n",
              "  </tbody>\n",
              "</table>\n",
              "<p>79113 rows × 67 columns</p>\n",
              "</div>"
            ],
            "text/plain": [
              "             lat        lon  rooms  bedrooms  bathrooms  surface_total  \\\n",
              "0     -34.624056 -58.412110    2.0       1.0        2.0           70.0   \n",
              "1     -34.593569 -58.427474    2.0       1.0        1.0           45.0   \n",
              "2     -34.581294 -58.436754    2.0       1.0        1.0           85.0   \n",
              "3     -34.593779 -58.441239    2.0       1.0        1.0           56.0   \n",
              "4     -34.600988 -58.433061    2.0       1.0        1.0           70.0   \n",
              "...          ...        ...    ...       ...        ...            ...   \n",
              "79108        NaN        NaN    3.0       2.0        2.0           82.0   \n",
              "79109 -34.576573 -58.434394    3.0       2.0        1.0           84.0   \n",
              "79110        NaN        NaN    5.0       2.0        2.0          114.0   \n",
              "79111 -34.585355 -58.427194    3.0       2.0        2.0          144.0   \n",
              "79112 -34.583995 -58.417645    3.0       2.0        2.0          145.0   \n",
              "\n",
              "       surface_covered     price  property_type_Casa  \\\n",
              "0                 58.0  159000.0                   0   \n",
              "1                 45.0  125000.0                   0   \n",
              "2                 50.0  295000.0                   0   \n",
              "3                 56.0  150000.0                   0   \n",
              "4                 70.0  159500.0                   0   \n",
              "...                ...       ...                 ...   \n",
              "79108             82.0  475000.0                   0   \n",
              "79109             84.0  178000.0                   0   \n",
              "79110             95.0  298000.0                   0   \n",
              "79111            134.0  480000.0                   0   \n",
              "79112            145.0  420000.0                   0   \n",
              "\n",
              "       property_type_Departamento  property_type_PH  l3_Abasto  l3_Agronomía  \\\n",
              "0                               0                 1          0             0   \n",
              "1                               0                 1          0             0   \n",
              "2                               0                 1          0             0   \n",
              "3                               0                 1          0             0   \n",
              "4                               0                 1          0             0   \n",
              "...                           ...               ...        ...           ...   \n",
              "79108                           1                 0          0             0   \n",
              "79109                           0                 1          0             0   \n",
              "79110                           0                 1          0             0   \n",
              "79111                           0                 1          0             0   \n",
              "79112                           1                 0          0             0   \n",
              "\n",
              "       l3_Almagro  l3_Balvanera  l3_Barracas  l3_Barrio Norte  l3_Belgrano  \\\n",
              "0               0             0            0                0            0   \n",
              "1               0             0            0                0            0   \n",
              "2               0             0            0                0            0   \n",
              "3               0             0            0                0            0   \n",
              "4               0             0            0                0            0   \n",
              "...           ...           ...          ...              ...          ...   \n",
              "79108           0             0            0                0            0   \n",
              "79109           0             0            0                0            0   \n",
              "79110           0             0            0                0            0   \n",
              "79111           0             0            0                0            0   \n",
              "79112           0             0            0                0            0   \n",
              "\n",
              "       l3_Boca  l3_Boedo  l3_Caballito  l3_Catalinas  l3_Centro / Microcentro  \\\n",
              "0            0         1             0             0                        0   \n",
              "1            0         0             0             0                        0   \n",
              "2            0         0             0             0                        0   \n",
              "3            0         0             0             0                        0   \n",
              "4            0         0             0             0                        0   \n",
              "...        ...       ...           ...           ...                      ...   \n",
              "79108        0         0             0             0                        0   \n",
              "79109        0         0             0             0                        0   \n",
              "79110        0         0             0             0                        0   \n",
              "79111        0         0             0             0                        0   \n",
              "79112        0         0             0             0                        0   \n",
              "\n",
              "       l3_Chacarita  l3_Coghlan  l3_Colegiales  l3_Congreso  l3_Constitución  \\\n",
              "0                 0           0              0            0                0   \n",
              "1                 0           0              0            0                0   \n",
              "2                 0           0              0            0                0   \n",
              "3                 0           0              0            0                0   \n",
              "4                 0           0              0            0                0   \n",
              "...             ...         ...            ...          ...              ...   \n",
              "79108             0           0              0            0                0   \n",
              "79109             0           0              0            0                0   \n",
              "79110             0           0              0            0                0   \n",
              "79111             0           0              0            0                0   \n",
              "79112             0           0              0            0                0   \n",
              "\n",
              "       l3_Flores  l3_Floresta  l3_Las Cañitas  l3_Liniers  l3_Mataderos  \\\n",
              "0              0            0               0           0             0   \n",
              "1              0            0               0           0             0   \n",
              "2              0            0               0           0             0   \n",
              "3              0            0               0           0             0   \n",
              "4              0            0               0           0             0   \n",
              "...          ...          ...             ...         ...           ...   \n",
              "79108          0            0               0           0             0   \n",
              "79109          0            0               0           0             0   \n",
              "79110          0            0               0           0             0   \n",
              "79111          0            0               0           0             0   \n",
              "79112          0            0               0           0             0   \n",
              "\n",
              "       l3_Monserrat  l3_Monte Castro  l3_Nuñez  l3_Once  l3_Palermo  \\\n",
              "0                 0                0         0        0           0   \n",
              "1                 0                0         0        0           1   \n",
              "2                 0                0         0        0           1   \n",
              "3                 0                0         0        0           0   \n",
              "4                 0                0         0        0           0   \n",
              "...             ...              ...       ...      ...         ...   \n",
              "79108             0                0         0        0           1   \n",
              "79109             0                0         0        0           1   \n",
              "79110             0                0         0        0           1   \n",
              "79111             0                0         0        0           1   \n",
              "79112             0                0         0        0           1   \n",
              "\n",
              "       l3_Parque Avellaneda  l3_Parque Centenario  l3_Parque Chacabuco  \\\n",
              "0                         0                     0                    0   \n",
              "1                         0                     0                    0   \n",
              "2                         0                     0                    0   \n",
              "3                         0                     0                    0   \n",
              "4                         0                     0                    0   \n",
              "...                     ...                   ...                  ...   \n",
              "79108                     0                     0                    0   \n",
              "79109                     0                     0                    0   \n",
              "79110                     0                     0                    0   \n",
              "79111                     0                     0                    0   \n",
              "79112                     0                     0                    0   \n",
              "\n",
              "       l3_Parque Chas  l3_Parque Patricios  l3_Paternal  l3_Pompeya  \\\n",
              "0                   0                    0            0           0   \n",
              "1                   0                    0            0           0   \n",
              "2                   0                    0            0           0   \n",
              "3                   0                    0            0           0   \n",
              "4                   0                    0            0           0   \n",
              "...               ...                  ...          ...         ...   \n",
              "79108               0                    0            0           0   \n",
              "79109               0                    0            0           0   \n",
              "79110               0                    0            0           0   \n",
              "79111               0                    0            0           0   \n",
              "79112               0                    0            0           0   \n",
              "\n",
              "       l3_Puerto Madero  l3_Recoleta  l3_Retiro  l3_Saavedra  \\\n",
              "0                     0            0          0            0   \n",
              "1                     0            0          0            0   \n",
              "2                     0            0          0            0   \n",
              "3                     0            0          0            0   \n",
              "4                     0            0          0            0   \n",
              "...                 ...          ...        ...          ...   \n",
              "79108                 0            0          0            0   \n",
              "79109                 0            0          0            0   \n",
              "79110                 0            0          0            0   \n",
              "79111                 0            0          0            0   \n",
              "79112                 0            0          0            0   \n",
              "\n",
              "       l3_San Cristobal  l3_San Nicolás  l3_San Telmo  l3_Tribunales  \\\n",
              "0                     0               0             0              0   \n",
              "1                     0               0             0              0   \n",
              "2                     0               0             0              0   \n",
              "3                     0               0             0              0   \n",
              "4                     0               0             0              0   \n",
              "...                 ...             ...           ...            ...   \n",
              "79108                 0               0             0              0   \n",
              "79109                 0               0             0              0   \n",
              "79110                 0               0             0              0   \n",
              "79111                 0               0             0              0   \n",
              "79112                 0               0             0              0   \n",
              "\n",
              "       l3_Velez Sarsfield  l3_Versalles  l3_Villa Crespo  l3_Villa Devoto  \\\n",
              "0                       0             0                0                0   \n",
              "1                       0             0                0                0   \n",
              "2                       0             0                0                0   \n",
              "3                       0             0                1                0   \n",
              "4                       0             0                1                0   \n",
              "...                   ...           ...              ...              ...   \n",
              "79108                   0             0                0                0   \n",
              "79109                   0             0                0                0   \n",
              "79110                   0             0                0                0   \n",
              "79111                   0             0                0                0   \n",
              "79112                   0             0                0                0   \n",
              "\n",
              "       l3_Villa General Mitre  l3_Villa Lugano  l3_Villa Luro  \\\n",
              "0                           0                0              0   \n",
              "1                           0                0              0   \n",
              "2                           0                0              0   \n",
              "3                           0                0              0   \n",
              "4                           0                0              0   \n",
              "...                       ...              ...            ...   \n",
              "79108                       0                0              0   \n",
              "79109                       0                0              0   \n",
              "79110                       0                0              0   \n",
              "79111                       0                0              0   \n",
              "79112                       0                0              0   \n",
              "\n",
              "       l3_Villa Ortuzar  l3_Villa Pueyrredón  l3_Villa Real  \\\n",
              "0                     0                    0              0   \n",
              "1                     0                    0              0   \n",
              "2                     0                    0              0   \n",
              "3                     0                    0              0   \n",
              "4                     0                    0              0   \n",
              "...                 ...                  ...            ...   \n",
              "79108                 0                    0              0   \n",
              "79109                 0                    0              0   \n",
              "79110                 0                    0              0   \n",
              "79111                 0                    0              0   \n",
              "79112                 0                    0              0   \n",
              "\n",
              "       l3_Villa Santa Rita  l3_Villa Soldati  l3_Villa Urquiza  \\\n",
              "0                        0                 0                 0   \n",
              "1                        0                 0                 0   \n",
              "2                        0                 0                 0   \n",
              "3                        0                 0                 0   \n",
              "4                        0                 0                 0   \n",
              "...                    ...               ...               ...   \n",
              "79108                    0                 0                 0   \n",
              "79109                    0                 0                 0   \n",
              "79110                    0                 0                 0   \n",
              "79111                    0                 0                 0   \n",
              "79112                    0                 0                 0   \n",
              "\n",
              "       l3_Villa del Parque  \n",
              "0                        0  \n",
              "1                        0  \n",
              "2                        0  \n",
              "3                        0  \n",
              "4                        0  \n",
              "...                    ...  \n",
              "79108                    0  \n",
              "79109                    0  \n",
              "79110                    0  \n",
              "79111                    0  \n",
              "79112                    0  \n",
              "\n",
              "[79113 rows x 67 columns]"
            ]
          },
          "metadata": {
            "tags": []
          },
          "execution_count": 38
        }
      ]
    },
    {
      "cell_type": "markdown",
      "metadata": {
        "id": "_38DHplOFDQd"
      },
      "source": [
        "## **A. 03.** Imputación de valores faltantes"
      ]
    },
    {
      "cell_type": "markdown",
      "metadata": {
        "id": "3n3ymDnEFDQm"
      },
      "source": [
        "Al momento de presentarse registros con parámetros nulos existen múltiples técnicas para tratarlos, entre estos 2 principales: la eliminación de los valores o su imputación. Cada uno acorde al problema específico debe implementarse a criterio evaluando los pros y contras que conlleva su implementación. El proceso de imputación o eliminación de valores faltantes es obligatorio, pues los modelos no reciben como entrada valores nulos. En nuestro caso específico describiremos cuando implementaremos uno u otro para cada parámetro."
      ]
    },
    {
      "cell_type": "code",
      "metadata": {
        "colab": {
          "base_uri": "https://localhost:8080/"
        },
        "id": "gTfv6_wOFjIF",
        "outputId": "da62955f-1b8c-4146-f31c-c42af000ff4b"
      },
      "source": [
        "# Observamos inicialmente que parametros presentan valores nulos\n",
        "df_A_no_outliers.isnull().sum()"
      ],
      "execution_count": 39,
      "outputs": [
        {
          "output_type": "execute_result",
          "data": {
            "text/plain": [
              "l3                    0\n",
              "property_type         0\n",
              "lat                3449\n",
              "lon                3460\n",
              "rooms                 0\n",
              "bedrooms              0\n",
              "bathrooms          1999\n",
              "surface_total      8209\n",
              "surface_covered    8476\n",
              "price                 0\n",
              "dtype: int64"
            ]
          },
          "metadata": {
            "tags": []
          },
          "execution_count": 39
        }
      ]
    },
    {
      "cell_type": "markdown",
      "metadata": {
        "id": "vOeXE1fzFDQm"
      },
      "source": [
        "### ---> Registros que no se imputaran (se eliminaran si son nulos)"
      ]
    },
    {
      "cell_type": "markdown",
      "metadata": {
        "id": "A0k-K4WNOPlp"
      },
      "source": [
        "En nuestra implementación definiremos un conjunto de casos específicos en los cuales no imputamos los valores sino que los eliminaremos de antemano, esto dado que la imputación puede generar valores que carezcan de sentido,  siendo finalmente poco fiable imputarlos a partir de otros parámetros. Estos seran los casos para los cuales no imputaremos sino que eliminaremos los registros: \n",
        "- **Registros que presentan valores nulos en las variables lat o lon:** no los imputaremos pues son variables completamente específicas e identitarias para cada inmueble. \n",
        "- **Registros que presentan valores nulos en las surface_total y surface_covered:** no los imputaremos pues la superficie es un parámetro determinante en relación con el precio. Si no conocemos ni la superficie construida ni la superficie total, estimar un valor de área a partir de otros parámetros puede ser poco objetivo. Ahora, en el caso que se conozca uno de los 2 puede resultar útil obtenerlo a partir del otro.\n"
      ]
    },
    {
      "cell_type": "code",
      "metadata": {
        "id": "4trgwGbCxPu7"
      },
      "source": [
        "# Indices de los registros a eliminar por lat o lon nula\n",
        "indx_to_drop_01 = df_A_encode[(df_A_encode.lat.isnull()==True)|(df_A_encode.lon.isnull()==True)].index\n",
        "# Indices de los registros a eliminar por surface_total o surface_covered nula\n",
        "indx_to_drop_02 = df_A_encode[(df_A_encode.surface_total.isnull()==True)&(df_A_encode.surface_covered.isnull()==True)].index\n",
        "# Indices totales a dropear\n",
        "indx_to_drop_total = indx_to_drop_01 | indx_to_drop_02"
      ],
      "execution_count": 40,
      "outputs": []
    },
    {
      "cell_type": "code",
      "metadata": {
        "colab": {
          "base_uri": "https://localhost:8080/",
          "height": 0
        },
        "id": "-IbJFFW-9Ufh",
        "outputId": "a08a721a-cbb2-457e-c852-900c01301aca"
      },
      "source": [
        "df_A_droped = df_A_encode.drop(indx_to_drop_total).reset_index(drop=True)\n",
        "df_A_droped"
      ],
      "execution_count": 41,
      "outputs": [
        {
          "output_type": "execute_result",
          "data": {
            "text/html": [
              "<div>\n",
              "<style scoped>\n",
              "    .dataframe tbody tr th:only-of-type {\n",
              "        vertical-align: middle;\n",
              "    }\n",
              "\n",
              "    .dataframe tbody tr th {\n",
              "        vertical-align: top;\n",
              "    }\n",
              "\n",
              "    .dataframe thead th {\n",
              "        text-align: right;\n",
              "    }\n",
              "</style>\n",
              "<table border=\"1\" class=\"dataframe\">\n",
              "  <thead>\n",
              "    <tr style=\"text-align: right;\">\n",
              "      <th></th>\n",
              "      <th>lat</th>\n",
              "      <th>lon</th>\n",
              "      <th>rooms</th>\n",
              "      <th>bedrooms</th>\n",
              "      <th>bathrooms</th>\n",
              "      <th>surface_total</th>\n",
              "      <th>surface_covered</th>\n",
              "      <th>price</th>\n",
              "      <th>property_type_Casa</th>\n",
              "      <th>property_type_Departamento</th>\n",
              "      <th>property_type_PH</th>\n",
              "      <th>l3_Abasto</th>\n",
              "      <th>l3_Agronomía</th>\n",
              "      <th>l3_Almagro</th>\n",
              "      <th>l3_Balvanera</th>\n",
              "      <th>l3_Barracas</th>\n",
              "      <th>l3_Barrio Norte</th>\n",
              "      <th>l3_Belgrano</th>\n",
              "      <th>l3_Boca</th>\n",
              "      <th>l3_Boedo</th>\n",
              "      <th>l3_Caballito</th>\n",
              "      <th>l3_Catalinas</th>\n",
              "      <th>l3_Centro / Microcentro</th>\n",
              "      <th>l3_Chacarita</th>\n",
              "      <th>l3_Coghlan</th>\n",
              "      <th>l3_Colegiales</th>\n",
              "      <th>l3_Congreso</th>\n",
              "      <th>l3_Constitución</th>\n",
              "      <th>l3_Flores</th>\n",
              "      <th>l3_Floresta</th>\n",
              "      <th>l3_Las Cañitas</th>\n",
              "      <th>l3_Liniers</th>\n",
              "      <th>l3_Mataderos</th>\n",
              "      <th>l3_Monserrat</th>\n",
              "      <th>l3_Monte Castro</th>\n",
              "      <th>l3_Nuñez</th>\n",
              "      <th>l3_Once</th>\n",
              "      <th>l3_Palermo</th>\n",
              "      <th>l3_Parque Avellaneda</th>\n",
              "      <th>l3_Parque Centenario</th>\n",
              "      <th>l3_Parque Chacabuco</th>\n",
              "      <th>l3_Parque Chas</th>\n",
              "      <th>l3_Parque Patricios</th>\n",
              "      <th>l3_Paternal</th>\n",
              "      <th>l3_Pompeya</th>\n",
              "      <th>l3_Puerto Madero</th>\n",
              "      <th>l3_Recoleta</th>\n",
              "      <th>l3_Retiro</th>\n",
              "      <th>l3_Saavedra</th>\n",
              "      <th>l3_San Cristobal</th>\n",
              "      <th>l3_San Nicolás</th>\n",
              "      <th>l3_San Telmo</th>\n",
              "      <th>l3_Tribunales</th>\n",
              "      <th>l3_Velez Sarsfield</th>\n",
              "      <th>l3_Versalles</th>\n",
              "      <th>l3_Villa Crespo</th>\n",
              "      <th>l3_Villa Devoto</th>\n",
              "      <th>l3_Villa General Mitre</th>\n",
              "      <th>l3_Villa Lugano</th>\n",
              "      <th>l3_Villa Luro</th>\n",
              "      <th>l3_Villa Ortuzar</th>\n",
              "      <th>l3_Villa Pueyrredón</th>\n",
              "      <th>l3_Villa Real</th>\n",
              "      <th>l3_Villa Santa Rita</th>\n",
              "      <th>l3_Villa Soldati</th>\n",
              "      <th>l3_Villa Urquiza</th>\n",
              "      <th>l3_Villa del Parque</th>\n",
              "    </tr>\n",
              "  </thead>\n",
              "  <tbody>\n",
              "    <tr>\n",
              "      <th>0</th>\n",
              "      <td>-34.624056</td>\n",
              "      <td>-58.412110</td>\n",
              "      <td>2.0</td>\n",
              "      <td>1.0</td>\n",
              "      <td>2.0</td>\n",
              "      <td>70.0</td>\n",
              "      <td>58.0</td>\n",
              "      <td>159000.0</td>\n",
              "      <td>0</td>\n",
              "      <td>0</td>\n",
              "      <td>1</td>\n",
              "      <td>0</td>\n",
              "      <td>0</td>\n",
              "      <td>0</td>\n",
              "      <td>0</td>\n",
              "      <td>0</td>\n",
              "      <td>0</td>\n",
              "      <td>0</td>\n",
              "      <td>0</td>\n",
              "      <td>1</td>\n",
              "      <td>0</td>\n",
              "      <td>0</td>\n",
              "      <td>0</td>\n",
              "      <td>0</td>\n",
              "      <td>0</td>\n",
              "      <td>0</td>\n",
              "      <td>0</td>\n",
              "      <td>0</td>\n",
              "      <td>0</td>\n",
              "      <td>0</td>\n",
              "      <td>0</td>\n",
              "      <td>0</td>\n",
              "      <td>0</td>\n",
              "      <td>0</td>\n",
              "      <td>0</td>\n",
              "      <td>0</td>\n",
              "      <td>0</td>\n",
              "      <td>0</td>\n",
              "      <td>0</td>\n",
              "      <td>0</td>\n",
              "      <td>0</td>\n",
              "      <td>0</td>\n",
              "      <td>0</td>\n",
              "      <td>0</td>\n",
              "      <td>0</td>\n",
              "      <td>0</td>\n",
              "      <td>0</td>\n",
              "      <td>0</td>\n",
              "      <td>0</td>\n",
              "      <td>0</td>\n",
              "      <td>0</td>\n",
              "      <td>0</td>\n",
              "      <td>0</td>\n",
              "      <td>0</td>\n",
              "      <td>0</td>\n",
              "      <td>0</td>\n",
              "      <td>0</td>\n",
              "      <td>0</td>\n",
              "      <td>0</td>\n",
              "      <td>0</td>\n",
              "      <td>0</td>\n",
              "      <td>0</td>\n",
              "      <td>0</td>\n",
              "      <td>0</td>\n",
              "      <td>0</td>\n",
              "      <td>0</td>\n",
              "      <td>0</td>\n",
              "    </tr>\n",
              "    <tr>\n",
              "      <th>1</th>\n",
              "      <td>-34.593569</td>\n",
              "      <td>-58.427474</td>\n",
              "      <td>2.0</td>\n",
              "      <td>1.0</td>\n",
              "      <td>1.0</td>\n",
              "      <td>45.0</td>\n",
              "      <td>45.0</td>\n",
              "      <td>125000.0</td>\n",
              "      <td>0</td>\n",
              "      <td>0</td>\n",
              "      <td>1</td>\n",
              "      <td>0</td>\n",
              "      <td>0</td>\n",
              "      <td>0</td>\n",
              "      <td>0</td>\n",
              "      <td>0</td>\n",
              "      <td>0</td>\n",
              "      <td>0</td>\n",
              "      <td>0</td>\n",
              "      <td>0</td>\n",
              "      <td>0</td>\n",
              "      <td>0</td>\n",
              "      <td>0</td>\n",
              "      <td>0</td>\n",
              "      <td>0</td>\n",
              "      <td>0</td>\n",
              "      <td>0</td>\n",
              "      <td>0</td>\n",
              "      <td>0</td>\n",
              "      <td>0</td>\n",
              "      <td>0</td>\n",
              "      <td>0</td>\n",
              "      <td>0</td>\n",
              "      <td>0</td>\n",
              "      <td>0</td>\n",
              "      <td>0</td>\n",
              "      <td>0</td>\n",
              "      <td>1</td>\n",
              "      <td>0</td>\n",
              "      <td>0</td>\n",
              "      <td>0</td>\n",
              "      <td>0</td>\n",
              "      <td>0</td>\n",
              "      <td>0</td>\n",
              "      <td>0</td>\n",
              "      <td>0</td>\n",
              "      <td>0</td>\n",
              "      <td>0</td>\n",
              "      <td>0</td>\n",
              "      <td>0</td>\n",
              "      <td>0</td>\n",
              "      <td>0</td>\n",
              "      <td>0</td>\n",
              "      <td>0</td>\n",
              "      <td>0</td>\n",
              "      <td>0</td>\n",
              "      <td>0</td>\n",
              "      <td>0</td>\n",
              "      <td>0</td>\n",
              "      <td>0</td>\n",
              "      <td>0</td>\n",
              "      <td>0</td>\n",
              "      <td>0</td>\n",
              "      <td>0</td>\n",
              "      <td>0</td>\n",
              "      <td>0</td>\n",
              "      <td>0</td>\n",
              "    </tr>\n",
              "    <tr>\n",
              "      <th>2</th>\n",
              "      <td>-34.581294</td>\n",
              "      <td>-58.436754</td>\n",
              "      <td>2.0</td>\n",
              "      <td>1.0</td>\n",
              "      <td>1.0</td>\n",
              "      <td>85.0</td>\n",
              "      <td>50.0</td>\n",
              "      <td>295000.0</td>\n",
              "      <td>0</td>\n",
              "      <td>0</td>\n",
              "      <td>1</td>\n",
              "      <td>0</td>\n",
              "      <td>0</td>\n",
              "      <td>0</td>\n",
              "      <td>0</td>\n",
              "      <td>0</td>\n",
              "      <td>0</td>\n",
              "      <td>0</td>\n",
              "      <td>0</td>\n",
              "      <td>0</td>\n",
              "      <td>0</td>\n",
              "      <td>0</td>\n",
              "      <td>0</td>\n",
              "      <td>0</td>\n",
              "      <td>0</td>\n",
              "      <td>0</td>\n",
              "      <td>0</td>\n",
              "      <td>0</td>\n",
              "      <td>0</td>\n",
              "      <td>0</td>\n",
              "      <td>0</td>\n",
              "      <td>0</td>\n",
              "      <td>0</td>\n",
              "      <td>0</td>\n",
              "      <td>0</td>\n",
              "      <td>0</td>\n",
              "      <td>0</td>\n",
              "      <td>1</td>\n",
              "      <td>0</td>\n",
              "      <td>0</td>\n",
              "      <td>0</td>\n",
              "      <td>0</td>\n",
              "      <td>0</td>\n",
              "      <td>0</td>\n",
              "      <td>0</td>\n",
              "      <td>0</td>\n",
              "      <td>0</td>\n",
              "      <td>0</td>\n",
              "      <td>0</td>\n",
              "      <td>0</td>\n",
              "      <td>0</td>\n",
              "      <td>0</td>\n",
              "      <td>0</td>\n",
              "      <td>0</td>\n",
              "      <td>0</td>\n",
              "      <td>0</td>\n",
              "      <td>0</td>\n",
              "      <td>0</td>\n",
              "      <td>0</td>\n",
              "      <td>0</td>\n",
              "      <td>0</td>\n",
              "      <td>0</td>\n",
              "      <td>0</td>\n",
              "      <td>0</td>\n",
              "      <td>0</td>\n",
              "      <td>0</td>\n",
              "      <td>0</td>\n",
              "    </tr>\n",
              "    <tr>\n",
              "      <th>3</th>\n",
              "      <td>-34.593779</td>\n",
              "      <td>-58.441239</td>\n",
              "      <td>2.0</td>\n",
              "      <td>1.0</td>\n",
              "      <td>1.0</td>\n",
              "      <td>56.0</td>\n",
              "      <td>56.0</td>\n",
              "      <td>150000.0</td>\n",
              "      <td>0</td>\n",
              "      <td>0</td>\n",
              "      <td>1</td>\n",
              "      <td>0</td>\n",
              "      <td>0</td>\n",
              "      <td>0</td>\n",
              "      <td>0</td>\n",
              "      <td>0</td>\n",
              "      <td>0</td>\n",
              "      <td>0</td>\n",
              "      <td>0</td>\n",
              "      <td>0</td>\n",
              "      <td>0</td>\n",
              "      <td>0</td>\n",
              "      <td>0</td>\n",
              "      <td>0</td>\n",
              "      <td>0</td>\n",
              "      <td>0</td>\n",
              "      <td>0</td>\n",
              "      <td>0</td>\n",
              "      <td>0</td>\n",
              "      <td>0</td>\n",
              "      <td>0</td>\n",
              "      <td>0</td>\n",
              "      <td>0</td>\n",
              "      <td>0</td>\n",
              "      <td>0</td>\n",
              "      <td>0</td>\n",
              "      <td>0</td>\n",
              "      <td>0</td>\n",
              "      <td>0</td>\n",
              "      <td>0</td>\n",
              "      <td>0</td>\n",
              "      <td>0</td>\n",
              "      <td>0</td>\n",
              "      <td>0</td>\n",
              "      <td>0</td>\n",
              "      <td>0</td>\n",
              "      <td>0</td>\n",
              "      <td>0</td>\n",
              "      <td>0</td>\n",
              "      <td>0</td>\n",
              "      <td>0</td>\n",
              "      <td>0</td>\n",
              "      <td>0</td>\n",
              "      <td>0</td>\n",
              "      <td>0</td>\n",
              "      <td>1</td>\n",
              "      <td>0</td>\n",
              "      <td>0</td>\n",
              "      <td>0</td>\n",
              "      <td>0</td>\n",
              "      <td>0</td>\n",
              "      <td>0</td>\n",
              "      <td>0</td>\n",
              "      <td>0</td>\n",
              "      <td>0</td>\n",
              "      <td>0</td>\n",
              "      <td>0</td>\n",
              "    </tr>\n",
              "    <tr>\n",
              "      <th>4</th>\n",
              "      <td>-34.600988</td>\n",
              "      <td>-58.433061</td>\n",
              "      <td>2.0</td>\n",
              "      <td>1.0</td>\n",
              "      <td>1.0</td>\n",
              "      <td>70.0</td>\n",
              "      <td>70.0</td>\n",
              "      <td>159500.0</td>\n",
              "      <td>0</td>\n",
              "      <td>0</td>\n",
              "      <td>1</td>\n",
              "      <td>0</td>\n",
              "      <td>0</td>\n",
              "      <td>0</td>\n",
              "      <td>0</td>\n",
              "      <td>0</td>\n",
              "      <td>0</td>\n",
              "      <td>0</td>\n",
              "      <td>0</td>\n",
              "      <td>0</td>\n",
              "      <td>0</td>\n",
              "      <td>0</td>\n",
              "      <td>0</td>\n",
              "      <td>0</td>\n",
              "      <td>0</td>\n",
              "      <td>0</td>\n",
              "      <td>0</td>\n",
              "      <td>0</td>\n",
              "      <td>0</td>\n",
              "      <td>0</td>\n",
              "      <td>0</td>\n",
              "      <td>0</td>\n",
              "      <td>0</td>\n",
              "      <td>0</td>\n",
              "      <td>0</td>\n",
              "      <td>0</td>\n",
              "      <td>0</td>\n",
              "      <td>0</td>\n",
              "      <td>0</td>\n",
              "      <td>0</td>\n",
              "      <td>0</td>\n",
              "      <td>0</td>\n",
              "      <td>0</td>\n",
              "      <td>0</td>\n",
              "      <td>0</td>\n",
              "      <td>0</td>\n",
              "      <td>0</td>\n",
              "      <td>0</td>\n",
              "      <td>0</td>\n",
              "      <td>0</td>\n",
              "      <td>0</td>\n",
              "      <td>0</td>\n",
              "      <td>0</td>\n",
              "      <td>0</td>\n",
              "      <td>0</td>\n",
              "      <td>1</td>\n",
              "      <td>0</td>\n",
              "      <td>0</td>\n",
              "      <td>0</td>\n",
              "      <td>0</td>\n",
              "      <td>0</td>\n",
              "      <td>0</td>\n",
              "      <td>0</td>\n",
              "      <td>0</td>\n",
              "      <td>0</td>\n",
              "      <td>0</td>\n",
              "      <td>0</td>\n",
              "    </tr>\n",
              "    <tr>\n",
              "      <th>...</th>\n",
              "      <td>...</td>\n",
              "      <td>...</td>\n",
              "      <td>...</td>\n",
              "      <td>...</td>\n",
              "      <td>...</td>\n",
              "      <td>...</td>\n",
              "      <td>...</td>\n",
              "      <td>...</td>\n",
              "      <td>...</td>\n",
              "      <td>...</td>\n",
              "      <td>...</td>\n",
              "      <td>...</td>\n",
              "      <td>...</td>\n",
              "      <td>...</td>\n",
              "      <td>...</td>\n",
              "      <td>...</td>\n",
              "      <td>...</td>\n",
              "      <td>...</td>\n",
              "      <td>...</td>\n",
              "      <td>...</td>\n",
              "      <td>...</td>\n",
              "      <td>...</td>\n",
              "      <td>...</td>\n",
              "      <td>...</td>\n",
              "      <td>...</td>\n",
              "      <td>...</td>\n",
              "      <td>...</td>\n",
              "      <td>...</td>\n",
              "      <td>...</td>\n",
              "      <td>...</td>\n",
              "      <td>...</td>\n",
              "      <td>...</td>\n",
              "      <td>...</td>\n",
              "      <td>...</td>\n",
              "      <td>...</td>\n",
              "      <td>...</td>\n",
              "      <td>...</td>\n",
              "      <td>...</td>\n",
              "      <td>...</td>\n",
              "      <td>...</td>\n",
              "      <td>...</td>\n",
              "      <td>...</td>\n",
              "      <td>...</td>\n",
              "      <td>...</td>\n",
              "      <td>...</td>\n",
              "      <td>...</td>\n",
              "      <td>...</td>\n",
              "      <td>...</td>\n",
              "      <td>...</td>\n",
              "      <td>...</td>\n",
              "      <td>...</td>\n",
              "      <td>...</td>\n",
              "      <td>...</td>\n",
              "      <td>...</td>\n",
              "      <td>...</td>\n",
              "      <td>...</td>\n",
              "      <td>...</td>\n",
              "      <td>...</td>\n",
              "      <td>...</td>\n",
              "      <td>...</td>\n",
              "      <td>...</td>\n",
              "      <td>...</td>\n",
              "      <td>...</td>\n",
              "      <td>...</td>\n",
              "      <td>...</td>\n",
              "      <td>...</td>\n",
              "      <td>...</td>\n",
              "    </tr>\n",
              "    <tr>\n",
              "      <th>67863</th>\n",
              "      <td>-34.587152</td>\n",
              "      <td>-58.437724</td>\n",
              "      <td>3.0</td>\n",
              "      <td>2.0</td>\n",
              "      <td>2.0</td>\n",
              "      <td>120.0</td>\n",
              "      <td>82.0</td>\n",
              "      <td>430000.0</td>\n",
              "      <td>0</td>\n",
              "      <td>1</td>\n",
              "      <td>0</td>\n",
              "      <td>0</td>\n",
              "      <td>0</td>\n",
              "      <td>0</td>\n",
              "      <td>0</td>\n",
              "      <td>0</td>\n",
              "      <td>0</td>\n",
              "      <td>0</td>\n",
              "      <td>0</td>\n",
              "      <td>0</td>\n",
              "      <td>0</td>\n",
              "      <td>0</td>\n",
              "      <td>0</td>\n",
              "      <td>0</td>\n",
              "      <td>0</td>\n",
              "      <td>0</td>\n",
              "      <td>0</td>\n",
              "      <td>0</td>\n",
              "      <td>0</td>\n",
              "      <td>0</td>\n",
              "      <td>0</td>\n",
              "      <td>0</td>\n",
              "      <td>0</td>\n",
              "      <td>0</td>\n",
              "      <td>0</td>\n",
              "      <td>0</td>\n",
              "      <td>0</td>\n",
              "      <td>1</td>\n",
              "      <td>0</td>\n",
              "      <td>0</td>\n",
              "      <td>0</td>\n",
              "      <td>0</td>\n",
              "      <td>0</td>\n",
              "      <td>0</td>\n",
              "      <td>0</td>\n",
              "      <td>0</td>\n",
              "      <td>0</td>\n",
              "      <td>0</td>\n",
              "      <td>0</td>\n",
              "      <td>0</td>\n",
              "      <td>0</td>\n",
              "      <td>0</td>\n",
              "      <td>0</td>\n",
              "      <td>0</td>\n",
              "      <td>0</td>\n",
              "      <td>0</td>\n",
              "      <td>0</td>\n",
              "      <td>0</td>\n",
              "      <td>0</td>\n",
              "      <td>0</td>\n",
              "      <td>0</td>\n",
              "      <td>0</td>\n",
              "      <td>0</td>\n",
              "      <td>0</td>\n",
              "      <td>0</td>\n",
              "      <td>0</td>\n",
              "      <td>0</td>\n",
              "    </tr>\n",
              "    <tr>\n",
              "      <th>67864</th>\n",
              "      <td>-34.581425</td>\n",
              "      <td>-58.442707</td>\n",
              "      <td>3.0</td>\n",
              "      <td>2.0</td>\n",
              "      <td>2.0</td>\n",
              "      <td>88.0</td>\n",
              "      <td>82.0</td>\n",
              "      <td>399000.0</td>\n",
              "      <td>0</td>\n",
              "      <td>1</td>\n",
              "      <td>0</td>\n",
              "      <td>0</td>\n",
              "      <td>0</td>\n",
              "      <td>0</td>\n",
              "      <td>0</td>\n",
              "      <td>0</td>\n",
              "      <td>0</td>\n",
              "      <td>0</td>\n",
              "      <td>0</td>\n",
              "      <td>0</td>\n",
              "      <td>0</td>\n",
              "      <td>0</td>\n",
              "      <td>0</td>\n",
              "      <td>0</td>\n",
              "      <td>0</td>\n",
              "      <td>0</td>\n",
              "      <td>0</td>\n",
              "      <td>0</td>\n",
              "      <td>0</td>\n",
              "      <td>0</td>\n",
              "      <td>0</td>\n",
              "      <td>0</td>\n",
              "      <td>0</td>\n",
              "      <td>0</td>\n",
              "      <td>0</td>\n",
              "      <td>0</td>\n",
              "      <td>0</td>\n",
              "      <td>1</td>\n",
              "      <td>0</td>\n",
              "      <td>0</td>\n",
              "      <td>0</td>\n",
              "      <td>0</td>\n",
              "      <td>0</td>\n",
              "      <td>0</td>\n",
              "      <td>0</td>\n",
              "      <td>0</td>\n",
              "      <td>0</td>\n",
              "      <td>0</td>\n",
              "      <td>0</td>\n",
              "      <td>0</td>\n",
              "      <td>0</td>\n",
              "      <td>0</td>\n",
              "      <td>0</td>\n",
              "      <td>0</td>\n",
              "      <td>0</td>\n",
              "      <td>0</td>\n",
              "      <td>0</td>\n",
              "      <td>0</td>\n",
              "      <td>0</td>\n",
              "      <td>0</td>\n",
              "      <td>0</td>\n",
              "      <td>0</td>\n",
              "      <td>0</td>\n",
              "      <td>0</td>\n",
              "      <td>0</td>\n",
              "      <td>0</td>\n",
              "      <td>0</td>\n",
              "    </tr>\n",
              "    <tr>\n",
              "      <th>67865</th>\n",
              "      <td>-34.576573</td>\n",
              "      <td>-58.434394</td>\n",
              "      <td>3.0</td>\n",
              "      <td>2.0</td>\n",
              "      <td>1.0</td>\n",
              "      <td>84.0</td>\n",
              "      <td>84.0</td>\n",
              "      <td>178000.0</td>\n",
              "      <td>0</td>\n",
              "      <td>0</td>\n",
              "      <td>1</td>\n",
              "      <td>0</td>\n",
              "      <td>0</td>\n",
              "      <td>0</td>\n",
              "      <td>0</td>\n",
              "      <td>0</td>\n",
              "      <td>0</td>\n",
              "      <td>0</td>\n",
              "      <td>0</td>\n",
              "      <td>0</td>\n",
              "      <td>0</td>\n",
              "      <td>0</td>\n",
              "      <td>0</td>\n",
              "      <td>0</td>\n",
              "      <td>0</td>\n",
              "      <td>0</td>\n",
              "      <td>0</td>\n",
              "      <td>0</td>\n",
              "      <td>0</td>\n",
              "      <td>0</td>\n",
              "      <td>0</td>\n",
              "      <td>0</td>\n",
              "      <td>0</td>\n",
              "      <td>0</td>\n",
              "      <td>0</td>\n",
              "      <td>0</td>\n",
              "      <td>0</td>\n",
              "      <td>1</td>\n",
              "      <td>0</td>\n",
              "      <td>0</td>\n",
              "      <td>0</td>\n",
              "      <td>0</td>\n",
              "      <td>0</td>\n",
              "      <td>0</td>\n",
              "      <td>0</td>\n",
              "      <td>0</td>\n",
              "      <td>0</td>\n",
              "      <td>0</td>\n",
              "      <td>0</td>\n",
              "      <td>0</td>\n",
              "      <td>0</td>\n",
              "      <td>0</td>\n",
              "      <td>0</td>\n",
              "      <td>0</td>\n",
              "      <td>0</td>\n",
              "      <td>0</td>\n",
              "      <td>0</td>\n",
              "      <td>0</td>\n",
              "      <td>0</td>\n",
              "      <td>0</td>\n",
              "      <td>0</td>\n",
              "      <td>0</td>\n",
              "      <td>0</td>\n",
              "      <td>0</td>\n",
              "      <td>0</td>\n",
              "      <td>0</td>\n",
              "      <td>0</td>\n",
              "    </tr>\n",
              "    <tr>\n",
              "      <th>67866</th>\n",
              "      <td>-34.585355</td>\n",
              "      <td>-58.427194</td>\n",
              "      <td>3.0</td>\n",
              "      <td>2.0</td>\n",
              "      <td>2.0</td>\n",
              "      <td>144.0</td>\n",
              "      <td>134.0</td>\n",
              "      <td>480000.0</td>\n",
              "      <td>0</td>\n",
              "      <td>0</td>\n",
              "      <td>1</td>\n",
              "      <td>0</td>\n",
              "      <td>0</td>\n",
              "      <td>0</td>\n",
              "      <td>0</td>\n",
              "      <td>0</td>\n",
              "      <td>0</td>\n",
              "      <td>0</td>\n",
              "      <td>0</td>\n",
              "      <td>0</td>\n",
              "      <td>0</td>\n",
              "      <td>0</td>\n",
              "      <td>0</td>\n",
              "      <td>0</td>\n",
              "      <td>0</td>\n",
              "      <td>0</td>\n",
              "      <td>0</td>\n",
              "      <td>0</td>\n",
              "      <td>0</td>\n",
              "      <td>0</td>\n",
              "      <td>0</td>\n",
              "      <td>0</td>\n",
              "      <td>0</td>\n",
              "      <td>0</td>\n",
              "      <td>0</td>\n",
              "      <td>0</td>\n",
              "      <td>0</td>\n",
              "      <td>1</td>\n",
              "      <td>0</td>\n",
              "      <td>0</td>\n",
              "      <td>0</td>\n",
              "      <td>0</td>\n",
              "      <td>0</td>\n",
              "      <td>0</td>\n",
              "      <td>0</td>\n",
              "      <td>0</td>\n",
              "      <td>0</td>\n",
              "      <td>0</td>\n",
              "      <td>0</td>\n",
              "      <td>0</td>\n",
              "      <td>0</td>\n",
              "      <td>0</td>\n",
              "      <td>0</td>\n",
              "      <td>0</td>\n",
              "      <td>0</td>\n",
              "      <td>0</td>\n",
              "      <td>0</td>\n",
              "      <td>0</td>\n",
              "      <td>0</td>\n",
              "      <td>0</td>\n",
              "      <td>0</td>\n",
              "      <td>0</td>\n",
              "      <td>0</td>\n",
              "      <td>0</td>\n",
              "      <td>0</td>\n",
              "      <td>0</td>\n",
              "      <td>0</td>\n",
              "    </tr>\n",
              "    <tr>\n",
              "      <th>67867</th>\n",
              "      <td>-34.583995</td>\n",
              "      <td>-58.417645</td>\n",
              "      <td>3.0</td>\n",
              "      <td>2.0</td>\n",
              "      <td>2.0</td>\n",
              "      <td>145.0</td>\n",
              "      <td>145.0</td>\n",
              "      <td>420000.0</td>\n",
              "      <td>0</td>\n",
              "      <td>1</td>\n",
              "      <td>0</td>\n",
              "      <td>0</td>\n",
              "      <td>0</td>\n",
              "      <td>0</td>\n",
              "      <td>0</td>\n",
              "      <td>0</td>\n",
              "      <td>0</td>\n",
              "      <td>0</td>\n",
              "      <td>0</td>\n",
              "      <td>0</td>\n",
              "      <td>0</td>\n",
              "      <td>0</td>\n",
              "      <td>0</td>\n",
              "      <td>0</td>\n",
              "      <td>0</td>\n",
              "      <td>0</td>\n",
              "      <td>0</td>\n",
              "      <td>0</td>\n",
              "      <td>0</td>\n",
              "      <td>0</td>\n",
              "      <td>0</td>\n",
              "      <td>0</td>\n",
              "      <td>0</td>\n",
              "      <td>0</td>\n",
              "      <td>0</td>\n",
              "      <td>0</td>\n",
              "      <td>0</td>\n",
              "      <td>1</td>\n",
              "      <td>0</td>\n",
              "      <td>0</td>\n",
              "      <td>0</td>\n",
              "      <td>0</td>\n",
              "      <td>0</td>\n",
              "      <td>0</td>\n",
              "      <td>0</td>\n",
              "      <td>0</td>\n",
              "      <td>0</td>\n",
              "      <td>0</td>\n",
              "      <td>0</td>\n",
              "      <td>0</td>\n",
              "      <td>0</td>\n",
              "      <td>0</td>\n",
              "      <td>0</td>\n",
              "      <td>0</td>\n",
              "      <td>0</td>\n",
              "      <td>0</td>\n",
              "      <td>0</td>\n",
              "      <td>0</td>\n",
              "      <td>0</td>\n",
              "      <td>0</td>\n",
              "      <td>0</td>\n",
              "      <td>0</td>\n",
              "      <td>0</td>\n",
              "      <td>0</td>\n",
              "      <td>0</td>\n",
              "      <td>0</td>\n",
              "      <td>0</td>\n",
              "    </tr>\n",
              "  </tbody>\n",
              "</table>\n",
              "<p>67868 rows × 67 columns</p>\n",
              "</div>"
            ],
            "text/plain": [
              "             lat        lon  rooms  bedrooms  bathrooms  surface_total  \\\n",
              "0     -34.624056 -58.412110    2.0       1.0        2.0           70.0   \n",
              "1     -34.593569 -58.427474    2.0       1.0        1.0           45.0   \n",
              "2     -34.581294 -58.436754    2.0       1.0        1.0           85.0   \n",
              "3     -34.593779 -58.441239    2.0       1.0        1.0           56.0   \n",
              "4     -34.600988 -58.433061    2.0       1.0        1.0           70.0   \n",
              "...          ...        ...    ...       ...        ...            ...   \n",
              "67863 -34.587152 -58.437724    3.0       2.0        2.0          120.0   \n",
              "67864 -34.581425 -58.442707    3.0       2.0        2.0           88.0   \n",
              "67865 -34.576573 -58.434394    3.0       2.0        1.0           84.0   \n",
              "67866 -34.585355 -58.427194    3.0       2.0        2.0          144.0   \n",
              "67867 -34.583995 -58.417645    3.0       2.0        2.0          145.0   \n",
              "\n",
              "       surface_covered     price  property_type_Casa  \\\n",
              "0                 58.0  159000.0                   0   \n",
              "1                 45.0  125000.0                   0   \n",
              "2                 50.0  295000.0                   0   \n",
              "3                 56.0  150000.0                   0   \n",
              "4                 70.0  159500.0                   0   \n",
              "...                ...       ...                 ...   \n",
              "67863             82.0  430000.0                   0   \n",
              "67864             82.0  399000.0                   0   \n",
              "67865             84.0  178000.0                   0   \n",
              "67866            134.0  480000.0                   0   \n",
              "67867            145.0  420000.0                   0   \n",
              "\n",
              "       property_type_Departamento  property_type_PH  l3_Abasto  l3_Agronomía  \\\n",
              "0                               0                 1          0             0   \n",
              "1                               0                 1          0             0   \n",
              "2                               0                 1          0             0   \n",
              "3                               0                 1          0             0   \n",
              "4                               0                 1          0             0   \n",
              "...                           ...               ...        ...           ...   \n",
              "67863                           1                 0          0             0   \n",
              "67864                           1                 0          0             0   \n",
              "67865                           0                 1          0             0   \n",
              "67866                           0                 1          0             0   \n",
              "67867                           1                 0          0             0   \n",
              "\n",
              "       l3_Almagro  l3_Balvanera  l3_Barracas  l3_Barrio Norte  l3_Belgrano  \\\n",
              "0               0             0            0                0            0   \n",
              "1               0             0            0                0            0   \n",
              "2               0             0            0                0            0   \n",
              "3               0             0            0                0            0   \n",
              "4               0             0            0                0            0   \n",
              "...           ...           ...          ...              ...          ...   \n",
              "67863           0             0            0                0            0   \n",
              "67864           0             0            0                0            0   \n",
              "67865           0             0            0                0            0   \n",
              "67866           0             0            0                0            0   \n",
              "67867           0             0            0                0            0   \n",
              "\n",
              "       l3_Boca  l3_Boedo  l3_Caballito  l3_Catalinas  l3_Centro / Microcentro  \\\n",
              "0            0         1             0             0                        0   \n",
              "1            0         0             0             0                        0   \n",
              "2            0         0             0             0                        0   \n",
              "3            0         0             0             0                        0   \n",
              "4            0         0             0             0                        0   \n",
              "...        ...       ...           ...           ...                      ...   \n",
              "67863        0         0             0             0                        0   \n",
              "67864        0         0             0             0                        0   \n",
              "67865        0         0             0             0                        0   \n",
              "67866        0         0             0             0                        0   \n",
              "67867        0         0             0             0                        0   \n",
              "\n",
              "       l3_Chacarita  l3_Coghlan  l3_Colegiales  l3_Congreso  l3_Constitución  \\\n",
              "0                 0           0              0            0                0   \n",
              "1                 0           0              0            0                0   \n",
              "2                 0           0              0            0                0   \n",
              "3                 0           0              0            0                0   \n",
              "4                 0           0              0            0                0   \n",
              "...             ...         ...            ...          ...              ...   \n",
              "67863             0           0              0            0                0   \n",
              "67864             0           0              0            0                0   \n",
              "67865             0           0              0            0                0   \n",
              "67866             0           0              0            0                0   \n",
              "67867             0           0              0            0                0   \n",
              "\n",
              "       l3_Flores  l3_Floresta  l3_Las Cañitas  l3_Liniers  l3_Mataderos  \\\n",
              "0              0            0               0           0             0   \n",
              "1              0            0               0           0             0   \n",
              "2              0            0               0           0             0   \n",
              "3              0            0               0           0             0   \n",
              "4              0            0               0           0             0   \n",
              "...          ...          ...             ...         ...           ...   \n",
              "67863          0            0               0           0             0   \n",
              "67864          0            0               0           0             0   \n",
              "67865          0            0               0           0             0   \n",
              "67866          0            0               0           0             0   \n",
              "67867          0            0               0           0             0   \n",
              "\n",
              "       l3_Monserrat  l3_Monte Castro  l3_Nuñez  l3_Once  l3_Palermo  \\\n",
              "0                 0                0         0        0           0   \n",
              "1                 0                0         0        0           1   \n",
              "2                 0                0         0        0           1   \n",
              "3                 0                0         0        0           0   \n",
              "4                 0                0         0        0           0   \n",
              "...             ...              ...       ...      ...         ...   \n",
              "67863             0                0         0        0           1   \n",
              "67864             0                0         0        0           1   \n",
              "67865             0                0         0        0           1   \n",
              "67866             0                0         0        0           1   \n",
              "67867             0                0         0        0           1   \n",
              "\n",
              "       l3_Parque Avellaneda  l3_Parque Centenario  l3_Parque Chacabuco  \\\n",
              "0                         0                     0                    0   \n",
              "1                         0                     0                    0   \n",
              "2                         0                     0                    0   \n",
              "3                         0                     0                    0   \n",
              "4                         0                     0                    0   \n",
              "...                     ...                   ...                  ...   \n",
              "67863                     0                     0                    0   \n",
              "67864                     0                     0                    0   \n",
              "67865                     0                     0                    0   \n",
              "67866                     0                     0                    0   \n",
              "67867                     0                     0                    0   \n",
              "\n",
              "       l3_Parque Chas  l3_Parque Patricios  l3_Paternal  l3_Pompeya  \\\n",
              "0                   0                    0            0           0   \n",
              "1                   0                    0            0           0   \n",
              "2                   0                    0            0           0   \n",
              "3                   0                    0            0           0   \n",
              "4                   0                    0            0           0   \n",
              "...               ...                  ...          ...         ...   \n",
              "67863               0                    0            0           0   \n",
              "67864               0                    0            0           0   \n",
              "67865               0                    0            0           0   \n",
              "67866               0                    0            0           0   \n",
              "67867               0                    0            0           0   \n",
              "\n",
              "       l3_Puerto Madero  l3_Recoleta  l3_Retiro  l3_Saavedra  \\\n",
              "0                     0            0          0            0   \n",
              "1                     0            0          0            0   \n",
              "2                     0            0          0            0   \n",
              "3                     0            0          0            0   \n",
              "4                     0            0          0            0   \n",
              "...                 ...          ...        ...          ...   \n",
              "67863                 0            0          0            0   \n",
              "67864                 0            0          0            0   \n",
              "67865                 0            0          0            0   \n",
              "67866                 0            0          0            0   \n",
              "67867                 0            0          0            0   \n",
              "\n",
              "       l3_San Cristobal  l3_San Nicolás  l3_San Telmo  l3_Tribunales  \\\n",
              "0                     0               0             0              0   \n",
              "1                     0               0             0              0   \n",
              "2                     0               0             0              0   \n",
              "3                     0               0             0              0   \n",
              "4                     0               0             0              0   \n",
              "...                 ...             ...           ...            ...   \n",
              "67863                 0               0             0              0   \n",
              "67864                 0               0             0              0   \n",
              "67865                 0               0             0              0   \n",
              "67866                 0               0             0              0   \n",
              "67867                 0               0             0              0   \n",
              "\n",
              "       l3_Velez Sarsfield  l3_Versalles  l3_Villa Crespo  l3_Villa Devoto  \\\n",
              "0                       0             0                0                0   \n",
              "1                       0             0                0                0   \n",
              "2                       0             0                0                0   \n",
              "3                       0             0                1                0   \n",
              "4                       0             0                1                0   \n",
              "...                   ...           ...              ...              ...   \n",
              "67863                   0             0                0                0   \n",
              "67864                   0             0                0                0   \n",
              "67865                   0             0                0                0   \n",
              "67866                   0             0                0                0   \n",
              "67867                   0             0                0                0   \n",
              "\n",
              "       l3_Villa General Mitre  l3_Villa Lugano  l3_Villa Luro  \\\n",
              "0                           0                0              0   \n",
              "1                           0                0              0   \n",
              "2                           0                0              0   \n",
              "3                           0                0              0   \n",
              "4                           0                0              0   \n",
              "...                       ...              ...            ...   \n",
              "67863                       0                0              0   \n",
              "67864                       0                0              0   \n",
              "67865                       0                0              0   \n",
              "67866                       0                0              0   \n",
              "67867                       0                0              0   \n",
              "\n",
              "       l3_Villa Ortuzar  l3_Villa Pueyrredón  l3_Villa Real  \\\n",
              "0                     0                    0              0   \n",
              "1                     0                    0              0   \n",
              "2                     0                    0              0   \n",
              "3                     0                    0              0   \n",
              "4                     0                    0              0   \n",
              "...                 ...                  ...            ...   \n",
              "67863                 0                    0              0   \n",
              "67864                 0                    0              0   \n",
              "67865                 0                    0              0   \n",
              "67866                 0                    0              0   \n",
              "67867                 0                    0              0   \n",
              "\n",
              "       l3_Villa Santa Rita  l3_Villa Soldati  l3_Villa Urquiza  \\\n",
              "0                        0                 0                 0   \n",
              "1                        0                 0                 0   \n",
              "2                        0                 0                 0   \n",
              "3                        0                 0                 0   \n",
              "4                        0                 0                 0   \n",
              "...                    ...               ...               ...   \n",
              "67863                    0                 0                 0   \n",
              "67864                    0                 0                 0   \n",
              "67865                    0                 0                 0   \n",
              "67866                    0                 0                 0   \n",
              "67867                    0                 0                 0   \n",
              "\n",
              "       l3_Villa del Parque  \n",
              "0                        0  \n",
              "1                        0  \n",
              "2                        0  \n",
              "3                        0  \n",
              "4                        0  \n",
              "...                    ...  \n",
              "67863                    0  \n",
              "67864                    0  \n",
              "67865                    0  \n",
              "67866                    0  \n",
              "67867                    0  \n",
              "\n",
              "[67868 rows x 67 columns]"
            ]
          },
          "metadata": {
            "tags": []
          },
          "execution_count": 41
        }
      ]
    },
    {
      "cell_type": "markdown",
      "metadata": {
        "id": "35uNhAEiFgtd"
      },
      "source": [
        "### ---> Registros que se imputaran a partir de otros"
      ]
    },
    {
      "cell_type": "markdown",
      "metadata": {
        "id": "60NabNksOH19"
      },
      "source": [
        "Existen múltiples maneras de imputar registros en el caso en que estimamos que otros parámetros son útiles para estimar los valores faltantes:imputación mediante valores medios, medianas, modas, diversos tipos de regresores, entre otros. En nuestro caso especifico implementaremos una función que hará uso del imputer basado en KNN de ScikitLearn. Esta función nos permitirá obtener información a partir de un dataframe de entrada y de una lista de columnas, el mismo dataframe pero ahora con las columnas elegidas ya imputadas. Así podremos tener la libertad de elegir qué variables en especifico elegir para hacer la imputación de las restantes.\n",
        "\n",
        "Con dicha función imputamos 2 tipos de conjuntos valores en específico: \n",
        "- **Valores de surface_total y surface_covered:** los registros en los cuales se conoce un tipo de superficie y no la otra las imputaremos entre sí. \n",
        "- **Valores de bathrooms:** imputaremos estos registros nulos a partir de las variables rooms y bedrooms. Lo lógico es que estas dos variables asociadas a la cantidad de espacios distribuidos en viviendas tengan relación con la variable bathrooms.\n"
      ]
    },
    {
      "cell_type": "code",
      "metadata": {
        "colab": {
          "base_uri": "https://localhost:8080/"
        },
        "id": "CzA22OL3LFvX",
        "outputId": "8a119fc2-b2e4-44f3-b0bb-19ba40d0ad61"
      },
      "source": [
        "# Inicialmente evaluamos las columnas que presentan valores a imputar\n",
        "df_A_droped[['lat', 'lon', 'rooms', 'bedrooms', 'bathrooms', 'surface_total',\n",
        "       'surface_covered', 'price']].isnull().sum()"
      ],
      "execution_count": 42,
      "outputs": [
        {
          "output_type": "execute_result",
          "data": {
            "text/plain": [
              "lat                  0\n",
              "lon                  0\n",
              "rooms                0\n",
              "bedrooms             0\n",
              "bathrooms          760\n",
              "surface_total      173\n",
              "surface_covered    434\n",
              "price                0\n",
              "dtype: int64"
            ]
          },
          "metadata": {
            "tags": []
          },
          "execution_count": 42
        }
      ]
    },
    {
      "cell_type": "code",
      "metadata": {
        "id": "S80N4SxpxPcJ"
      },
      "source": [
        "# Función que nos permite hacer la imputación de columnas especificas de un dataframe\n",
        "def fun_knn_imputer(df,columns):\n",
        "    df_imputed=df.copy()\n",
        "    knn_imputer = KNNImputer(n_neighbors=10, weights=\"distance\")\n",
        "    array_imputed = knn_imputer.fit_transform(df[columns])\n",
        "    df_imputed_columns = pd.DataFrame(data=array_imputed, columns=df[columns].columns, index=df[columns].index)\n",
        "    df_imputed[columns]=df_imputed_columns\n",
        "    return df_imputed"
      ],
      "execution_count": 43,
      "outputs": []
    },
    {
      "cell_type": "code",
      "metadata": {
        "id": "GzsaNCRhKLHO"
      },
      "source": [
        "# Dataframe imputado para las variables de superficie\n",
        "df_A_imputed = fun_knn_imputer(df_A_droped,['surface_total','surface_covered'])\n",
        "# Dataframe imputado para la variable de bathrooms\n",
        "df_A_imputed = fun_knn_imputer(df_A_imputed,['rooms', 'bedrooms', 'bathrooms'])"
      ],
      "execution_count": 44,
      "outputs": []
    },
    {
      "cell_type": "code",
      "metadata": {
        "colab": {
          "base_uri": "https://localhost:8080/"
        },
        "id": "yUi0Ta51QRPM",
        "outputId": "a6176577-d04e-4ed3-c22d-c3ba10c3a394"
      },
      "source": [
        "# Corroboramos que no existen ahora varibles nulas en el dataset\n",
        "df_A_imputed[['lat', 'lon', 'rooms', 'bedrooms', 'bathrooms', 'surface_total',\n",
        "       'surface_covered', 'price']].isnull().sum()"
      ],
      "execution_count": 45,
      "outputs": [
        {
          "output_type": "execute_result",
          "data": {
            "text/plain": [
              "lat                0\n",
              "lon                0\n",
              "rooms              0\n",
              "bedrooms           0\n",
              "bathrooms          0\n",
              "surface_total      0\n",
              "surface_covered    0\n",
              "price              0\n",
              "dtype: int64"
            ]
          },
          "metadata": {
            "tags": []
          },
          "execution_count": 45
        }
      ]
    },
    {
      "cell_type": "markdown",
      "metadata": {
        "id": "sXg_JQO-Rhu6"
      },
      "source": [
        "## **A. 04.** Escalado de datos"
      ]
    },
    {
      "cell_type": "markdown",
      "metadata": {
        "id": "GeK4IuOWRhvD"
      },
      "source": [
        "De la misma manera que en la sección anterior existen múltiples maneras de escalar los valores de nuestros features: standart scaler, normalización, min-max scaler, entre otros. En nuestro caso especifico implementaremos dos funciones que nos permitirán implementar escaladores basados en  función de los escaladores  standart scaler de ScikitLearn, y por otra parte una función de escalado logarítmico implementado de manera propia. El escalado es un proceso determinante pues estará relacionado en varios modelos con la importancia que puede tener cada feature dentro de la predicción. El escalado permitirá tener una importancia relativa para cada uno de los features involucrados. El dataframe se escalará de manera conjunta con los 3 escaladores.\n",
        " \n",
        "Cada uno de los tipos de escaladores se emplearán de la siguiente manera:\n",
        "- **Escalador logarítmico:** cuando la distribución de cierta variable presenta una larga cola el escalador logarítmico resulta útil. Esto permite al modelo discriminar de mejor manera en relación con este parámetro en específico. Estos tipos de distribuciones los podemos encontrar en las variables surface_total y surface_covered a los cuales los aplicaremos.\n",
        "- **Escalador basado en standard scaler:** Lo aplicaremos a todas las variables numéricas del dataset.\n",
        "- **Escalador basado en minmax scaler:** Lo aplicaremos a todas las variables numéricas del dataset.\n"
      ]
    },
    {
      "cell_type": "code",
      "metadata": {
        "id": "jHE3w0i2KLLy"
      },
      "source": [
        "# Función que me permite escalar logaritmicamente\n",
        "# Entradas: df (dataframe que quiero escalar, col (lista con las columnas que deseo escalar))\n",
        "# Salida: dataframe escalado en las columnas que se pidio (mantiene indices de filas y columnas)\n",
        "def fun_scaler_logaritmic(df,columns):\n",
        "    df_scaled=df.copy()\n",
        "    df_scaled[columns]=df_scaled[columns].applymap(lambda x: np.log(x+1))\n",
        "    return df_scaled"
      ],
      "execution_count": 46,
      "outputs": []
    },
    {
      "cell_type": "code",
      "metadata": {
        "id": "uMKKfg9MXuCv"
      },
      "source": [
        "# Función que me permite escalar empleando el MinMaxScaler\n",
        "# Entradas: df (dataframe que quiero escalar, col (lista con las columnas que deseo escalar))\n",
        "# Salida: dataframe escalado en las columnas que se pidio (mantiene indices de filas y columnas)\n",
        "def fun_scaler_standar(df,columns):\n",
        "    df_scaled=df.copy()\n",
        "    std_scaler = StandardScaler()\n",
        "    array_scaled=std_scaler.fit_transform(df[columns])\n",
        "    df_scaled_columns = pd.DataFrame(data=array_scaled, columns=df[columns].columns, index=df[columns].index)\n",
        "    df_scaled[columns]=df_scaled_columns\n",
        "    return df_scaled"
      ],
      "execution_count": 47,
      "outputs": []
    },
    {
      "cell_type": "code",
      "metadata": {
        "id": "U9keY1YfYJZt"
      },
      "source": [
        "# Función que me permite escalar empleando el StandarScaler\n",
        "# Entradas: df (dataframe que quiero escalar, col (lista con las columnas que deseo escalar))\n",
        "# Salida: dataframe escalado en las columnas que se pidio (mantiene indices de filas y columnas)\n",
        "def fun_scaler_minmax(df,columns):\n",
        "    df_scaled=df.copy()\n",
        "    minmax_scaler = MinMaxScaler()\n",
        "    array_scaled=minmax_scaler.fit_transform(df[columns])\n",
        "    df_scaled_columns = pd.DataFrame(data=array_scaled, columns=df[columns].columns, index=df[columns].index)\n",
        "    df_scaled[columns]=df_scaled_columns\n",
        "    return df_scaled"
      ],
      "execution_count": 48,
      "outputs": []
    },
    {
      "cell_type": "code",
      "metadata": {
        "colab": {
          "base_uri": "https://localhost:8080/",
          "height": 476
        },
        "id": "Z1p-QcLvY-w8",
        "outputId": "15af0714-bfdb-4aa9-fc94-af26e907ae6b"
      },
      "source": [
        "# Dataframe escalado con el escalador logarítmico\n",
        "df_A_scaled = fun_scaler_logaritmic(df_A_imputed,['surface_total','surface_covered'])\n",
        "# Dataframe escalado con el standard_scaler\n",
        "df_A_scaled = fun_scaler_standar(df_A_scaled,['lat', 'lon', 'rooms', 'bedrooms', 'bathrooms', 'surface_total',\n",
        "       'surface_covered'])\n",
        "# Dataframe escalado con el escalador minmax_scaler\n",
        "df_A_scaled = fun_scaler_minmax(df_A_scaled,['lat', 'lon', 'rooms', 'bedrooms', 'bathrooms', 'surface_total',\n",
        "       'surface_covered'])\n",
        "df_A_scaled"
      ],
      "execution_count": 49,
      "outputs": [
        {
          "output_type": "execute_result",
          "data": {
            "text/html": [
              "<div>\n",
              "<style scoped>\n",
              "    .dataframe tbody tr th:only-of-type {\n",
              "        vertical-align: middle;\n",
              "    }\n",
              "\n",
              "    .dataframe tbody tr th {\n",
              "        vertical-align: top;\n",
              "    }\n",
              "\n",
              "    .dataframe thead th {\n",
              "        text-align: right;\n",
              "    }\n",
              "</style>\n",
              "<table border=\"1\" class=\"dataframe\">\n",
              "  <thead>\n",
              "    <tr style=\"text-align: right;\">\n",
              "      <th></th>\n",
              "      <th>lat</th>\n",
              "      <th>lon</th>\n",
              "      <th>rooms</th>\n",
              "      <th>bedrooms</th>\n",
              "      <th>bathrooms</th>\n",
              "      <th>surface_total</th>\n",
              "      <th>surface_covered</th>\n",
              "      <th>price</th>\n",
              "      <th>property_type_Casa</th>\n",
              "      <th>property_type_Departamento</th>\n",
              "      <th>property_type_PH</th>\n",
              "      <th>l3_Abasto</th>\n",
              "      <th>l3_Agronomía</th>\n",
              "      <th>l3_Almagro</th>\n",
              "      <th>l3_Balvanera</th>\n",
              "      <th>l3_Barracas</th>\n",
              "      <th>l3_Barrio Norte</th>\n",
              "      <th>l3_Belgrano</th>\n",
              "      <th>l3_Boca</th>\n",
              "      <th>l3_Boedo</th>\n",
              "      <th>l3_Caballito</th>\n",
              "      <th>l3_Catalinas</th>\n",
              "      <th>l3_Centro / Microcentro</th>\n",
              "      <th>l3_Chacarita</th>\n",
              "      <th>l3_Coghlan</th>\n",
              "      <th>l3_Colegiales</th>\n",
              "      <th>l3_Congreso</th>\n",
              "      <th>l3_Constitución</th>\n",
              "      <th>l3_Flores</th>\n",
              "      <th>l3_Floresta</th>\n",
              "      <th>l3_Las Cañitas</th>\n",
              "      <th>l3_Liniers</th>\n",
              "      <th>l3_Mataderos</th>\n",
              "      <th>l3_Monserrat</th>\n",
              "      <th>l3_Monte Castro</th>\n",
              "      <th>l3_Nuñez</th>\n",
              "      <th>l3_Once</th>\n",
              "      <th>l3_Palermo</th>\n",
              "      <th>l3_Parque Avellaneda</th>\n",
              "      <th>l3_Parque Centenario</th>\n",
              "      <th>l3_Parque Chacabuco</th>\n",
              "      <th>l3_Parque Chas</th>\n",
              "      <th>l3_Parque Patricios</th>\n",
              "      <th>l3_Paternal</th>\n",
              "      <th>l3_Pompeya</th>\n",
              "      <th>l3_Puerto Madero</th>\n",
              "      <th>l3_Recoleta</th>\n",
              "      <th>l3_Retiro</th>\n",
              "      <th>l3_Saavedra</th>\n",
              "      <th>l3_San Cristobal</th>\n",
              "      <th>l3_San Nicolás</th>\n",
              "      <th>l3_San Telmo</th>\n",
              "      <th>l3_Tribunales</th>\n",
              "      <th>l3_Velez Sarsfield</th>\n",
              "      <th>l3_Versalles</th>\n",
              "      <th>l3_Villa Crespo</th>\n",
              "      <th>l3_Villa Devoto</th>\n",
              "      <th>l3_Villa General Mitre</th>\n",
              "      <th>l3_Villa Lugano</th>\n",
              "      <th>l3_Villa Luro</th>\n",
              "      <th>l3_Villa Ortuzar</th>\n",
              "      <th>l3_Villa Pueyrredón</th>\n",
              "      <th>l3_Villa Real</th>\n",
              "      <th>l3_Villa Santa Rita</th>\n",
              "      <th>l3_Villa Soldati</th>\n",
              "      <th>l3_Villa Urquiza</th>\n",
              "      <th>l3_Villa del Parque</th>\n",
              "    </tr>\n",
              "  </thead>\n",
              "  <tbody>\n",
              "    <tr>\n",
              "      <th>0</th>\n",
              "      <td>0.286838</td>\n",
              "      <td>0.670438</td>\n",
              "      <td>0.2</td>\n",
              "      <td>0.2</td>\n",
              "      <td>0.5</td>\n",
              "      <td>0.637508</td>\n",
              "      <td>0.756857</td>\n",
              "      <td>159000.0</td>\n",
              "      <td>0</td>\n",
              "      <td>0</td>\n",
              "      <td>1</td>\n",
              "      <td>0</td>\n",
              "      <td>0</td>\n",
              "      <td>0</td>\n",
              "      <td>0</td>\n",
              "      <td>0</td>\n",
              "      <td>0</td>\n",
              "      <td>0</td>\n",
              "      <td>0</td>\n",
              "      <td>1</td>\n",
              "      <td>0</td>\n",
              "      <td>0</td>\n",
              "      <td>0</td>\n",
              "      <td>0</td>\n",
              "      <td>0</td>\n",
              "      <td>0</td>\n",
              "      <td>0</td>\n",
              "      <td>0</td>\n",
              "      <td>0</td>\n",
              "      <td>0</td>\n",
              "      <td>0</td>\n",
              "      <td>0</td>\n",
              "      <td>0</td>\n",
              "      <td>0</td>\n",
              "      <td>0</td>\n",
              "      <td>0</td>\n",
              "      <td>0</td>\n",
              "      <td>0</td>\n",
              "      <td>0</td>\n",
              "      <td>0</td>\n",
              "      <td>0</td>\n",
              "      <td>0</td>\n",
              "      <td>0</td>\n",
              "      <td>0</td>\n",
              "      <td>0</td>\n",
              "      <td>0</td>\n",
              "      <td>0</td>\n",
              "      <td>0</td>\n",
              "      <td>0</td>\n",
              "      <td>0</td>\n",
              "      <td>0</td>\n",
              "      <td>0</td>\n",
              "      <td>0</td>\n",
              "      <td>0</td>\n",
              "      <td>0</td>\n",
              "      <td>0</td>\n",
              "      <td>0</td>\n",
              "      <td>0</td>\n",
              "      <td>0</td>\n",
              "      <td>0</td>\n",
              "      <td>0</td>\n",
              "      <td>0</td>\n",
              "      <td>0</td>\n",
              "      <td>0</td>\n",
              "      <td>0</td>\n",
              "      <td>0</td>\n",
              "      <td>0</td>\n",
              "    </tr>\n",
              "    <tr>\n",
              "      <th>1</th>\n",
              "      <td>0.544692</td>\n",
              "      <td>0.583409</td>\n",
              "      <td>0.2</td>\n",
              "      <td>0.2</td>\n",
              "      <td>0.0</td>\n",
              "      <td>0.489125</td>\n",
              "      <td>0.701196</td>\n",
              "      <td>125000.0</td>\n",
              "      <td>0</td>\n",
              "      <td>0</td>\n",
              "      <td>1</td>\n",
              "      <td>0</td>\n",
              "      <td>0</td>\n",
              "      <td>0</td>\n",
              "      <td>0</td>\n",
              "      <td>0</td>\n",
              "      <td>0</td>\n",
              "      <td>0</td>\n",
              "      <td>0</td>\n",
              "      <td>0</td>\n",
              "      <td>0</td>\n",
              "      <td>0</td>\n",
              "      <td>0</td>\n",
              "      <td>0</td>\n",
              "      <td>0</td>\n",
              "      <td>0</td>\n",
              "      <td>0</td>\n",
              "      <td>0</td>\n",
              "      <td>0</td>\n",
              "      <td>0</td>\n",
              "      <td>0</td>\n",
              "      <td>0</td>\n",
              "      <td>0</td>\n",
              "      <td>0</td>\n",
              "      <td>0</td>\n",
              "      <td>0</td>\n",
              "      <td>0</td>\n",
              "      <td>1</td>\n",
              "      <td>0</td>\n",
              "      <td>0</td>\n",
              "      <td>0</td>\n",
              "      <td>0</td>\n",
              "      <td>0</td>\n",
              "      <td>0</td>\n",
              "      <td>0</td>\n",
              "      <td>0</td>\n",
              "      <td>0</td>\n",
              "      <td>0</td>\n",
              "      <td>0</td>\n",
              "      <td>0</td>\n",
              "      <td>0</td>\n",
              "      <td>0</td>\n",
              "      <td>0</td>\n",
              "      <td>0</td>\n",
              "      <td>0</td>\n",
              "      <td>0</td>\n",
              "      <td>0</td>\n",
              "      <td>0</td>\n",
              "      <td>0</td>\n",
              "      <td>0</td>\n",
              "      <td>0</td>\n",
              "      <td>0</td>\n",
              "      <td>0</td>\n",
              "      <td>0</td>\n",
              "      <td>0</td>\n",
              "      <td>0</td>\n",
              "      <td>0</td>\n",
              "    </tr>\n",
              "    <tr>\n",
              "      <th>2</th>\n",
              "      <td>0.648512</td>\n",
              "      <td>0.530842</td>\n",
              "      <td>0.2</td>\n",
              "      <td>0.2</td>\n",
              "      <td>0.0</td>\n",
              "      <td>0.703033</td>\n",
              "      <td>0.724271</td>\n",
              "      <td>295000.0</td>\n",
              "      <td>0</td>\n",
              "      <td>0</td>\n",
              "      <td>1</td>\n",
              "      <td>0</td>\n",
              "      <td>0</td>\n",
              "      <td>0</td>\n",
              "      <td>0</td>\n",
              "      <td>0</td>\n",
              "      <td>0</td>\n",
              "      <td>0</td>\n",
              "      <td>0</td>\n",
              "      <td>0</td>\n",
              "      <td>0</td>\n",
              "      <td>0</td>\n",
              "      <td>0</td>\n",
              "      <td>0</td>\n",
              "      <td>0</td>\n",
              "      <td>0</td>\n",
              "      <td>0</td>\n",
              "      <td>0</td>\n",
              "      <td>0</td>\n",
              "      <td>0</td>\n",
              "      <td>0</td>\n",
              "      <td>0</td>\n",
              "      <td>0</td>\n",
              "      <td>0</td>\n",
              "      <td>0</td>\n",
              "      <td>0</td>\n",
              "      <td>0</td>\n",
              "      <td>1</td>\n",
              "      <td>0</td>\n",
              "      <td>0</td>\n",
              "      <td>0</td>\n",
              "      <td>0</td>\n",
              "      <td>0</td>\n",
              "      <td>0</td>\n",
              "      <td>0</td>\n",
              "      <td>0</td>\n",
              "      <td>0</td>\n",
              "      <td>0</td>\n",
              "      <td>0</td>\n",
              "      <td>0</td>\n",
              "      <td>0</td>\n",
              "      <td>0</td>\n",
              "      <td>0</td>\n",
              "      <td>0</td>\n",
              "      <td>0</td>\n",
              "      <td>0</td>\n",
              "      <td>0</td>\n",
              "      <td>0</td>\n",
              "      <td>0</td>\n",
              "      <td>0</td>\n",
              "      <td>0</td>\n",
              "      <td>0</td>\n",
              "      <td>0</td>\n",
              "      <td>0</td>\n",
              "      <td>0</td>\n",
              "      <td>0</td>\n",
              "      <td>0</td>\n",
              "    </tr>\n",
              "    <tr>\n",
              "      <th>3</th>\n",
              "      <td>0.542915</td>\n",
              "      <td>0.505438</td>\n",
              "      <td>0.2</td>\n",
              "      <td>0.2</td>\n",
              "      <td>0.0</td>\n",
              "      <td>0.562424</td>\n",
              "      <td>0.749145</td>\n",
              "      <td>150000.0</td>\n",
              "      <td>0</td>\n",
              "      <td>0</td>\n",
              "      <td>1</td>\n",
              "      <td>0</td>\n",
              "      <td>0</td>\n",
              "      <td>0</td>\n",
              "      <td>0</td>\n",
              "      <td>0</td>\n",
              "      <td>0</td>\n",
              "      <td>0</td>\n",
              "      <td>0</td>\n",
              "      <td>0</td>\n",
              "      <td>0</td>\n",
              "      <td>0</td>\n",
              "      <td>0</td>\n",
              "      <td>0</td>\n",
              "      <td>0</td>\n",
              "      <td>0</td>\n",
              "      <td>0</td>\n",
              "      <td>0</td>\n",
              "      <td>0</td>\n",
              "      <td>0</td>\n",
              "      <td>0</td>\n",
              "      <td>0</td>\n",
              "      <td>0</td>\n",
              "      <td>0</td>\n",
              "      <td>0</td>\n",
              "      <td>0</td>\n",
              "      <td>0</td>\n",
              "      <td>0</td>\n",
              "      <td>0</td>\n",
              "      <td>0</td>\n",
              "      <td>0</td>\n",
              "      <td>0</td>\n",
              "      <td>0</td>\n",
              "      <td>0</td>\n",
              "      <td>0</td>\n",
              "      <td>0</td>\n",
              "      <td>0</td>\n",
              "      <td>0</td>\n",
              "      <td>0</td>\n",
              "      <td>0</td>\n",
              "      <td>0</td>\n",
              "      <td>0</td>\n",
              "      <td>0</td>\n",
              "      <td>0</td>\n",
              "      <td>0</td>\n",
              "      <td>1</td>\n",
              "      <td>0</td>\n",
              "      <td>0</td>\n",
              "      <td>0</td>\n",
              "      <td>0</td>\n",
              "      <td>0</td>\n",
              "      <td>0</td>\n",
              "      <td>0</td>\n",
              "      <td>0</td>\n",
              "      <td>0</td>\n",
              "      <td>0</td>\n",
              "      <td>0</td>\n",
              "    </tr>\n",
              "    <tr>\n",
              "      <th>4</th>\n",
              "      <td>0.481941</td>\n",
              "      <td>0.551759</td>\n",
              "      <td>0.2</td>\n",
              "      <td>0.2</td>\n",
              "      <td>0.0</td>\n",
              "      <td>0.637508</td>\n",
              "      <td>0.798261</td>\n",
              "      <td>159500.0</td>\n",
              "      <td>0</td>\n",
              "      <td>0</td>\n",
              "      <td>1</td>\n",
              "      <td>0</td>\n",
              "      <td>0</td>\n",
              "      <td>0</td>\n",
              "      <td>0</td>\n",
              "      <td>0</td>\n",
              "      <td>0</td>\n",
              "      <td>0</td>\n",
              "      <td>0</td>\n",
              "      <td>0</td>\n",
              "      <td>0</td>\n",
              "      <td>0</td>\n",
              "      <td>0</td>\n",
              "      <td>0</td>\n",
              "      <td>0</td>\n",
              "      <td>0</td>\n",
              "      <td>0</td>\n",
              "      <td>0</td>\n",
              "      <td>0</td>\n",
              "      <td>0</td>\n",
              "      <td>0</td>\n",
              "      <td>0</td>\n",
              "      <td>0</td>\n",
              "      <td>0</td>\n",
              "      <td>0</td>\n",
              "      <td>0</td>\n",
              "      <td>0</td>\n",
              "      <td>0</td>\n",
              "      <td>0</td>\n",
              "      <td>0</td>\n",
              "      <td>0</td>\n",
              "      <td>0</td>\n",
              "      <td>0</td>\n",
              "      <td>0</td>\n",
              "      <td>0</td>\n",
              "      <td>0</td>\n",
              "      <td>0</td>\n",
              "      <td>0</td>\n",
              "      <td>0</td>\n",
              "      <td>0</td>\n",
              "      <td>0</td>\n",
              "      <td>0</td>\n",
              "      <td>0</td>\n",
              "      <td>0</td>\n",
              "      <td>0</td>\n",
              "      <td>1</td>\n",
              "      <td>0</td>\n",
              "      <td>0</td>\n",
              "      <td>0</td>\n",
              "      <td>0</td>\n",
              "      <td>0</td>\n",
              "      <td>0</td>\n",
              "      <td>0</td>\n",
              "      <td>0</td>\n",
              "      <td>0</td>\n",
              "      <td>0</td>\n",
              "      <td>0</td>\n",
              "    </tr>\n",
              "    <tr>\n",
              "      <th>...</th>\n",
              "      <td>...</td>\n",
              "      <td>...</td>\n",
              "      <td>...</td>\n",
              "      <td>...</td>\n",
              "      <td>...</td>\n",
              "      <td>...</td>\n",
              "      <td>...</td>\n",
              "      <td>...</td>\n",
              "      <td>...</td>\n",
              "      <td>...</td>\n",
              "      <td>...</td>\n",
              "      <td>...</td>\n",
              "      <td>...</td>\n",
              "      <td>...</td>\n",
              "      <td>...</td>\n",
              "      <td>...</td>\n",
              "      <td>...</td>\n",
              "      <td>...</td>\n",
              "      <td>...</td>\n",
              "      <td>...</td>\n",
              "      <td>...</td>\n",
              "      <td>...</td>\n",
              "      <td>...</td>\n",
              "      <td>...</td>\n",
              "      <td>...</td>\n",
              "      <td>...</td>\n",
              "      <td>...</td>\n",
              "      <td>...</td>\n",
              "      <td>...</td>\n",
              "      <td>...</td>\n",
              "      <td>...</td>\n",
              "      <td>...</td>\n",
              "      <td>...</td>\n",
              "      <td>...</td>\n",
              "      <td>...</td>\n",
              "      <td>...</td>\n",
              "      <td>...</td>\n",
              "      <td>...</td>\n",
              "      <td>...</td>\n",
              "      <td>...</td>\n",
              "      <td>...</td>\n",
              "      <td>...</td>\n",
              "      <td>...</td>\n",
              "      <td>...</td>\n",
              "      <td>...</td>\n",
              "      <td>...</td>\n",
              "      <td>...</td>\n",
              "      <td>...</td>\n",
              "      <td>...</td>\n",
              "      <td>...</td>\n",
              "      <td>...</td>\n",
              "      <td>...</td>\n",
              "      <td>...</td>\n",
              "      <td>...</td>\n",
              "      <td>...</td>\n",
              "      <td>...</td>\n",
              "      <td>...</td>\n",
              "      <td>...</td>\n",
              "      <td>...</td>\n",
              "      <td>...</td>\n",
              "      <td>...</td>\n",
              "      <td>...</td>\n",
              "      <td>...</td>\n",
              "      <td>...</td>\n",
              "      <td>...</td>\n",
              "      <td>...</td>\n",
              "      <td>...</td>\n",
              "    </tr>\n",
              "    <tr>\n",
              "      <th>67863</th>\n",
              "      <td>0.598966</td>\n",
              "      <td>0.525348</td>\n",
              "      <td>0.4</td>\n",
              "      <td>0.4</td>\n",
              "      <td>0.5</td>\n",
              "      <td>0.819761</td>\n",
              "      <td>0.833183</td>\n",
              "      <td>430000.0</td>\n",
              "      <td>0</td>\n",
              "      <td>1</td>\n",
              "      <td>0</td>\n",
              "      <td>0</td>\n",
              "      <td>0</td>\n",
              "      <td>0</td>\n",
              "      <td>0</td>\n",
              "      <td>0</td>\n",
              "      <td>0</td>\n",
              "      <td>0</td>\n",
              "      <td>0</td>\n",
              "      <td>0</td>\n",
              "      <td>0</td>\n",
              "      <td>0</td>\n",
              "      <td>0</td>\n",
              "      <td>0</td>\n",
              "      <td>0</td>\n",
              "      <td>0</td>\n",
              "      <td>0</td>\n",
              "      <td>0</td>\n",
              "      <td>0</td>\n",
              "      <td>0</td>\n",
              "      <td>0</td>\n",
              "      <td>0</td>\n",
              "      <td>0</td>\n",
              "      <td>0</td>\n",
              "      <td>0</td>\n",
              "      <td>0</td>\n",
              "      <td>0</td>\n",
              "      <td>1</td>\n",
              "      <td>0</td>\n",
              "      <td>0</td>\n",
              "      <td>0</td>\n",
              "      <td>0</td>\n",
              "      <td>0</td>\n",
              "      <td>0</td>\n",
              "      <td>0</td>\n",
              "      <td>0</td>\n",
              "      <td>0</td>\n",
              "      <td>0</td>\n",
              "      <td>0</td>\n",
              "      <td>0</td>\n",
              "      <td>0</td>\n",
              "      <td>0</td>\n",
              "      <td>0</td>\n",
              "      <td>0</td>\n",
              "      <td>0</td>\n",
              "      <td>0</td>\n",
              "      <td>0</td>\n",
              "      <td>0</td>\n",
              "      <td>0</td>\n",
              "      <td>0</td>\n",
              "      <td>0</td>\n",
              "      <td>0</td>\n",
              "      <td>0</td>\n",
              "      <td>0</td>\n",
              "      <td>0</td>\n",
              "      <td>0</td>\n",
              "      <td>0</td>\n",
              "    </tr>\n",
              "    <tr>\n",
              "      <th>67864</th>\n",
              "      <td>0.647402</td>\n",
              "      <td>0.497120</td>\n",
              "      <td>0.4</td>\n",
              "      <td>0.4</td>\n",
              "      <td>0.5</td>\n",
              "      <td>0.714755</td>\n",
              "      <td>0.833183</td>\n",
              "      <td>399000.0</td>\n",
              "      <td>0</td>\n",
              "      <td>1</td>\n",
              "      <td>0</td>\n",
              "      <td>0</td>\n",
              "      <td>0</td>\n",
              "      <td>0</td>\n",
              "      <td>0</td>\n",
              "      <td>0</td>\n",
              "      <td>0</td>\n",
              "      <td>0</td>\n",
              "      <td>0</td>\n",
              "      <td>0</td>\n",
              "      <td>0</td>\n",
              "      <td>0</td>\n",
              "      <td>0</td>\n",
              "      <td>0</td>\n",
              "      <td>0</td>\n",
              "      <td>0</td>\n",
              "      <td>0</td>\n",
              "      <td>0</td>\n",
              "      <td>0</td>\n",
              "      <td>0</td>\n",
              "      <td>0</td>\n",
              "      <td>0</td>\n",
              "      <td>0</td>\n",
              "      <td>0</td>\n",
              "      <td>0</td>\n",
              "      <td>0</td>\n",
              "      <td>0</td>\n",
              "      <td>1</td>\n",
              "      <td>0</td>\n",
              "      <td>0</td>\n",
              "      <td>0</td>\n",
              "      <td>0</td>\n",
              "      <td>0</td>\n",
              "      <td>0</td>\n",
              "      <td>0</td>\n",
              "      <td>0</td>\n",
              "      <td>0</td>\n",
              "      <td>0</td>\n",
              "      <td>0</td>\n",
              "      <td>0</td>\n",
              "      <td>0</td>\n",
              "      <td>0</td>\n",
              "      <td>0</td>\n",
              "      <td>0</td>\n",
              "      <td>0</td>\n",
              "      <td>0</td>\n",
              "      <td>0</td>\n",
              "      <td>0</td>\n",
              "      <td>0</td>\n",
              "      <td>0</td>\n",
              "      <td>0</td>\n",
              "      <td>0</td>\n",
              "      <td>0</td>\n",
              "      <td>0</td>\n",
              "      <td>0</td>\n",
              "      <td>0</td>\n",
              "      <td>0</td>\n",
              "    </tr>\n",
              "    <tr>\n",
              "      <th>67865</th>\n",
              "      <td>0.688442</td>\n",
              "      <td>0.544209</td>\n",
              "      <td>0.4</td>\n",
              "      <td>0.4</td>\n",
              "      <td>0.0</td>\n",
              "      <td>0.699034</td>\n",
              "      <td>0.838508</td>\n",
              "      <td>178000.0</td>\n",
              "      <td>0</td>\n",
              "      <td>0</td>\n",
              "      <td>1</td>\n",
              "      <td>0</td>\n",
              "      <td>0</td>\n",
              "      <td>0</td>\n",
              "      <td>0</td>\n",
              "      <td>0</td>\n",
              "      <td>0</td>\n",
              "      <td>0</td>\n",
              "      <td>0</td>\n",
              "      <td>0</td>\n",
              "      <td>0</td>\n",
              "      <td>0</td>\n",
              "      <td>0</td>\n",
              "      <td>0</td>\n",
              "      <td>0</td>\n",
              "      <td>0</td>\n",
              "      <td>0</td>\n",
              "      <td>0</td>\n",
              "      <td>0</td>\n",
              "      <td>0</td>\n",
              "      <td>0</td>\n",
              "      <td>0</td>\n",
              "      <td>0</td>\n",
              "      <td>0</td>\n",
              "      <td>0</td>\n",
              "      <td>0</td>\n",
              "      <td>0</td>\n",
              "      <td>1</td>\n",
              "      <td>0</td>\n",
              "      <td>0</td>\n",
              "      <td>0</td>\n",
              "      <td>0</td>\n",
              "      <td>0</td>\n",
              "      <td>0</td>\n",
              "      <td>0</td>\n",
              "      <td>0</td>\n",
              "      <td>0</td>\n",
              "      <td>0</td>\n",
              "      <td>0</td>\n",
              "      <td>0</td>\n",
              "      <td>0</td>\n",
              "      <td>0</td>\n",
              "      <td>0</td>\n",
              "      <td>0</td>\n",
              "      <td>0</td>\n",
              "      <td>0</td>\n",
              "      <td>0</td>\n",
              "      <td>0</td>\n",
              "      <td>0</td>\n",
              "      <td>0</td>\n",
              "      <td>0</td>\n",
              "      <td>0</td>\n",
              "      <td>0</td>\n",
              "      <td>0</td>\n",
              "      <td>0</td>\n",
              "      <td>0</td>\n",
              "      <td>0</td>\n",
              "    </tr>\n",
              "    <tr>\n",
              "      <th>67866</th>\n",
              "      <td>0.614165</td>\n",
              "      <td>0.584997</td>\n",
              "      <td>0.4</td>\n",
              "      <td>0.4</td>\n",
              "      <td>0.5</td>\n",
              "      <td>0.881620</td>\n",
              "      <td>0.941965</td>\n",
              "      <td>480000.0</td>\n",
              "      <td>0</td>\n",
              "      <td>0</td>\n",
              "      <td>1</td>\n",
              "      <td>0</td>\n",
              "      <td>0</td>\n",
              "      <td>0</td>\n",
              "      <td>0</td>\n",
              "      <td>0</td>\n",
              "      <td>0</td>\n",
              "      <td>0</td>\n",
              "      <td>0</td>\n",
              "      <td>0</td>\n",
              "      <td>0</td>\n",
              "      <td>0</td>\n",
              "      <td>0</td>\n",
              "      <td>0</td>\n",
              "      <td>0</td>\n",
              "      <td>0</td>\n",
              "      <td>0</td>\n",
              "      <td>0</td>\n",
              "      <td>0</td>\n",
              "      <td>0</td>\n",
              "      <td>0</td>\n",
              "      <td>0</td>\n",
              "      <td>0</td>\n",
              "      <td>0</td>\n",
              "      <td>0</td>\n",
              "      <td>0</td>\n",
              "      <td>0</td>\n",
              "      <td>1</td>\n",
              "      <td>0</td>\n",
              "      <td>0</td>\n",
              "      <td>0</td>\n",
              "      <td>0</td>\n",
              "      <td>0</td>\n",
              "      <td>0</td>\n",
              "      <td>0</td>\n",
              "      <td>0</td>\n",
              "      <td>0</td>\n",
              "      <td>0</td>\n",
              "      <td>0</td>\n",
              "      <td>0</td>\n",
              "      <td>0</td>\n",
              "      <td>0</td>\n",
              "      <td>0</td>\n",
              "      <td>0</td>\n",
              "      <td>0</td>\n",
              "      <td>0</td>\n",
              "      <td>0</td>\n",
              "      <td>0</td>\n",
              "      <td>0</td>\n",
              "      <td>0</td>\n",
              "      <td>0</td>\n",
              "      <td>0</td>\n",
              "      <td>0</td>\n",
              "      <td>0</td>\n",
              "      <td>0</td>\n",
              "      <td>0</td>\n",
              "      <td>0</td>\n",
              "    </tr>\n",
              "    <tr>\n",
              "      <th>67867</th>\n",
              "      <td>0.625664</td>\n",
              "      <td>0.639085</td>\n",
              "      <td>0.4</td>\n",
              "      <td>0.4</td>\n",
              "      <td>0.5</td>\n",
              "      <td>0.883969</td>\n",
              "      <td>0.959483</td>\n",
              "      <td>420000.0</td>\n",
              "      <td>0</td>\n",
              "      <td>1</td>\n",
              "      <td>0</td>\n",
              "      <td>0</td>\n",
              "      <td>0</td>\n",
              "      <td>0</td>\n",
              "      <td>0</td>\n",
              "      <td>0</td>\n",
              "      <td>0</td>\n",
              "      <td>0</td>\n",
              "      <td>0</td>\n",
              "      <td>0</td>\n",
              "      <td>0</td>\n",
              "      <td>0</td>\n",
              "      <td>0</td>\n",
              "      <td>0</td>\n",
              "      <td>0</td>\n",
              "      <td>0</td>\n",
              "      <td>0</td>\n",
              "      <td>0</td>\n",
              "      <td>0</td>\n",
              "      <td>0</td>\n",
              "      <td>0</td>\n",
              "      <td>0</td>\n",
              "      <td>0</td>\n",
              "      <td>0</td>\n",
              "      <td>0</td>\n",
              "      <td>0</td>\n",
              "      <td>0</td>\n",
              "      <td>1</td>\n",
              "      <td>0</td>\n",
              "      <td>0</td>\n",
              "      <td>0</td>\n",
              "      <td>0</td>\n",
              "      <td>0</td>\n",
              "      <td>0</td>\n",
              "      <td>0</td>\n",
              "      <td>0</td>\n",
              "      <td>0</td>\n",
              "      <td>0</td>\n",
              "      <td>0</td>\n",
              "      <td>0</td>\n",
              "      <td>0</td>\n",
              "      <td>0</td>\n",
              "      <td>0</td>\n",
              "      <td>0</td>\n",
              "      <td>0</td>\n",
              "      <td>0</td>\n",
              "      <td>0</td>\n",
              "      <td>0</td>\n",
              "      <td>0</td>\n",
              "      <td>0</td>\n",
              "      <td>0</td>\n",
              "      <td>0</td>\n",
              "      <td>0</td>\n",
              "      <td>0</td>\n",
              "      <td>0</td>\n",
              "      <td>0</td>\n",
              "      <td>0</td>\n",
              "    </tr>\n",
              "  </tbody>\n",
              "</table>\n",
              "<p>67868 rows × 67 columns</p>\n",
              "</div>"
            ],
            "text/plain": [
              "            lat       lon  rooms  bedrooms  bathrooms  surface_total  \\\n",
              "0      0.286838  0.670438    0.2       0.2        0.5       0.637508   \n",
              "1      0.544692  0.583409    0.2       0.2        0.0       0.489125   \n",
              "2      0.648512  0.530842    0.2       0.2        0.0       0.703033   \n",
              "3      0.542915  0.505438    0.2       0.2        0.0       0.562424   \n",
              "4      0.481941  0.551759    0.2       0.2        0.0       0.637508   \n",
              "...         ...       ...    ...       ...        ...            ...   \n",
              "67863  0.598966  0.525348    0.4       0.4        0.5       0.819761   \n",
              "67864  0.647402  0.497120    0.4       0.4        0.5       0.714755   \n",
              "67865  0.688442  0.544209    0.4       0.4        0.0       0.699034   \n",
              "67866  0.614165  0.584997    0.4       0.4        0.5       0.881620   \n",
              "67867  0.625664  0.639085    0.4       0.4        0.5       0.883969   \n",
              "\n",
              "       surface_covered     price  property_type_Casa  \\\n",
              "0             0.756857  159000.0                   0   \n",
              "1             0.701196  125000.0                   0   \n",
              "2             0.724271  295000.0                   0   \n",
              "3             0.749145  150000.0                   0   \n",
              "4             0.798261  159500.0                   0   \n",
              "...                ...       ...                 ...   \n",
              "67863         0.833183  430000.0                   0   \n",
              "67864         0.833183  399000.0                   0   \n",
              "67865         0.838508  178000.0                   0   \n",
              "67866         0.941965  480000.0                   0   \n",
              "67867         0.959483  420000.0                   0   \n",
              "\n",
              "       property_type_Departamento  property_type_PH  l3_Abasto  l3_Agronomía  \\\n",
              "0                               0                 1          0             0   \n",
              "1                               0                 1          0             0   \n",
              "2                               0                 1          0             0   \n",
              "3                               0                 1          0             0   \n",
              "4                               0                 1          0             0   \n",
              "...                           ...               ...        ...           ...   \n",
              "67863                           1                 0          0             0   \n",
              "67864                           1                 0          0             0   \n",
              "67865                           0                 1          0             0   \n",
              "67866                           0                 1          0             0   \n",
              "67867                           1                 0          0             0   \n",
              "\n",
              "       l3_Almagro  l3_Balvanera  l3_Barracas  l3_Barrio Norte  l3_Belgrano  \\\n",
              "0               0             0            0                0            0   \n",
              "1               0             0            0                0            0   \n",
              "2               0             0            0                0            0   \n",
              "3               0             0            0                0            0   \n",
              "4               0             0            0                0            0   \n",
              "...           ...           ...          ...              ...          ...   \n",
              "67863           0             0            0                0            0   \n",
              "67864           0             0            0                0            0   \n",
              "67865           0             0            0                0            0   \n",
              "67866           0             0            0                0            0   \n",
              "67867           0             0            0                0            0   \n",
              "\n",
              "       l3_Boca  l3_Boedo  l3_Caballito  l3_Catalinas  l3_Centro / Microcentro  \\\n",
              "0            0         1             0             0                        0   \n",
              "1            0         0             0             0                        0   \n",
              "2            0         0             0             0                        0   \n",
              "3            0         0             0             0                        0   \n",
              "4            0         0             0             0                        0   \n",
              "...        ...       ...           ...           ...                      ...   \n",
              "67863        0         0             0             0                        0   \n",
              "67864        0         0             0             0                        0   \n",
              "67865        0         0             0             0                        0   \n",
              "67866        0         0             0             0                        0   \n",
              "67867        0         0             0             0                        0   \n",
              "\n",
              "       l3_Chacarita  l3_Coghlan  l3_Colegiales  l3_Congreso  l3_Constitución  \\\n",
              "0                 0           0              0            0                0   \n",
              "1                 0           0              0            0                0   \n",
              "2                 0           0              0            0                0   \n",
              "3                 0           0              0            0                0   \n",
              "4                 0           0              0            0                0   \n",
              "...             ...         ...            ...          ...              ...   \n",
              "67863             0           0              0            0                0   \n",
              "67864             0           0              0            0                0   \n",
              "67865             0           0              0            0                0   \n",
              "67866             0           0              0            0                0   \n",
              "67867             0           0              0            0                0   \n",
              "\n",
              "       l3_Flores  l3_Floresta  l3_Las Cañitas  l3_Liniers  l3_Mataderos  \\\n",
              "0              0            0               0           0             0   \n",
              "1              0            0               0           0             0   \n",
              "2              0            0               0           0             0   \n",
              "3              0            0               0           0             0   \n",
              "4              0            0               0           0             0   \n",
              "...          ...          ...             ...         ...           ...   \n",
              "67863          0            0               0           0             0   \n",
              "67864          0            0               0           0             0   \n",
              "67865          0            0               0           0             0   \n",
              "67866          0            0               0           0             0   \n",
              "67867          0            0               0           0             0   \n",
              "\n",
              "       l3_Monserrat  l3_Monte Castro  l3_Nuñez  l3_Once  l3_Palermo  \\\n",
              "0                 0                0         0        0           0   \n",
              "1                 0                0         0        0           1   \n",
              "2                 0                0         0        0           1   \n",
              "3                 0                0         0        0           0   \n",
              "4                 0                0         0        0           0   \n",
              "...             ...              ...       ...      ...         ...   \n",
              "67863             0                0         0        0           1   \n",
              "67864             0                0         0        0           1   \n",
              "67865             0                0         0        0           1   \n",
              "67866             0                0         0        0           1   \n",
              "67867             0                0         0        0           1   \n",
              "\n",
              "       l3_Parque Avellaneda  l3_Parque Centenario  l3_Parque Chacabuco  \\\n",
              "0                         0                     0                    0   \n",
              "1                         0                     0                    0   \n",
              "2                         0                     0                    0   \n",
              "3                         0                     0                    0   \n",
              "4                         0                     0                    0   \n",
              "...                     ...                   ...                  ...   \n",
              "67863                     0                     0                    0   \n",
              "67864                     0                     0                    0   \n",
              "67865                     0                     0                    0   \n",
              "67866                     0                     0                    0   \n",
              "67867                     0                     0                    0   \n",
              "\n",
              "       l3_Parque Chas  l3_Parque Patricios  l3_Paternal  l3_Pompeya  \\\n",
              "0                   0                    0            0           0   \n",
              "1                   0                    0            0           0   \n",
              "2                   0                    0            0           0   \n",
              "3                   0                    0            0           0   \n",
              "4                   0                    0            0           0   \n",
              "...               ...                  ...          ...         ...   \n",
              "67863               0                    0            0           0   \n",
              "67864               0                    0            0           0   \n",
              "67865               0                    0            0           0   \n",
              "67866               0                    0            0           0   \n",
              "67867               0                    0            0           0   \n",
              "\n",
              "       l3_Puerto Madero  l3_Recoleta  l3_Retiro  l3_Saavedra  \\\n",
              "0                     0            0          0            0   \n",
              "1                     0            0          0            0   \n",
              "2                     0            0          0            0   \n",
              "3                     0            0          0            0   \n",
              "4                     0            0          0            0   \n",
              "...                 ...          ...        ...          ...   \n",
              "67863                 0            0          0            0   \n",
              "67864                 0            0          0            0   \n",
              "67865                 0            0          0            0   \n",
              "67866                 0            0          0            0   \n",
              "67867                 0            0          0            0   \n",
              "\n",
              "       l3_San Cristobal  l3_San Nicolás  l3_San Telmo  l3_Tribunales  \\\n",
              "0                     0               0             0              0   \n",
              "1                     0               0             0              0   \n",
              "2                     0               0             0              0   \n",
              "3                     0               0             0              0   \n",
              "4                     0               0             0              0   \n",
              "...                 ...             ...           ...            ...   \n",
              "67863                 0               0             0              0   \n",
              "67864                 0               0             0              0   \n",
              "67865                 0               0             0              0   \n",
              "67866                 0               0             0              0   \n",
              "67867                 0               0             0              0   \n",
              "\n",
              "       l3_Velez Sarsfield  l3_Versalles  l3_Villa Crespo  l3_Villa Devoto  \\\n",
              "0                       0             0                0                0   \n",
              "1                       0             0                0                0   \n",
              "2                       0             0                0                0   \n",
              "3                       0             0                1                0   \n",
              "4                       0             0                1                0   \n",
              "...                   ...           ...              ...              ...   \n",
              "67863                   0             0                0                0   \n",
              "67864                   0             0                0                0   \n",
              "67865                   0             0                0                0   \n",
              "67866                   0             0                0                0   \n",
              "67867                   0             0                0                0   \n",
              "\n",
              "       l3_Villa General Mitre  l3_Villa Lugano  l3_Villa Luro  \\\n",
              "0                           0                0              0   \n",
              "1                           0                0              0   \n",
              "2                           0                0              0   \n",
              "3                           0                0              0   \n",
              "4                           0                0              0   \n",
              "...                       ...              ...            ...   \n",
              "67863                       0                0              0   \n",
              "67864                       0                0              0   \n",
              "67865                       0                0              0   \n",
              "67866                       0                0              0   \n",
              "67867                       0                0              0   \n",
              "\n",
              "       l3_Villa Ortuzar  l3_Villa Pueyrredón  l3_Villa Real  \\\n",
              "0                     0                    0              0   \n",
              "1                     0                    0              0   \n",
              "2                     0                    0              0   \n",
              "3                     0                    0              0   \n",
              "4                     0                    0              0   \n",
              "...                 ...                  ...            ...   \n",
              "67863                 0                    0              0   \n",
              "67864                 0                    0              0   \n",
              "67865                 0                    0              0   \n",
              "67866                 0                    0              0   \n",
              "67867                 0                    0              0   \n",
              "\n",
              "       l3_Villa Santa Rita  l3_Villa Soldati  l3_Villa Urquiza  \\\n",
              "0                        0                 0                 0   \n",
              "1                        0                 0                 0   \n",
              "2                        0                 0                 0   \n",
              "3                        0                 0                 0   \n",
              "4                        0                 0                 0   \n",
              "...                    ...               ...               ...   \n",
              "67863                    0                 0                 0   \n",
              "67864                    0                 0                 0   \n",
              "67865                    0                 0                 0   \n",
              "67866                    0                 0                 0   \n",
              "67867                    0                 0                 0   \n",
              "\n",
              "       l3_Villa del Parque  \n",
              "0                        0  \n",
              "1                        0  \n",
              "2                        0  \n",
              "3                        0  \n",
              "4                        0  \n",
              "...                    ...  \n",
              "67863                    0  \n",
              "67864                    0  \n",
              "67865                    0  \n",
              "67866                    0  \n",
              "67867                    0  \n",
              "\n",
              "[67868 rows x 67 columns]"
            ]
          },
          "metadata": {
            "tags": []
          },
          "execution_count": 49
        }
      ]
    },
    {
      "cell_type": "markdown",
      "metadata": {
        "id": "KHu7azPHcEiQ"
      },
      "source": [
        "## **A. 05.** Generación de nuevas variables predictoras (reducción de dimensionalidad SVD/PCA)"
      ]
    },
    {
      "cell_type": "markdown",
      "metadata": {
        "id": "B2CtvUFReZsE"
      },
      "source": [
        "Dado que queremos comparar los valores obtenidos por los modelos del primer proyecto con los valores obtenidos en este, y que los modelos que emplearon (regresor lineal, árbol de decisión y KNN) permitían conservar la interpretabilidad en relación con los features, no implementaremos SVD o PCA, pues aunque los resultados de los modelos puedan mejorar, nuestro enfoque es comparativo y no es útil perder la interpretabilidad en relación a las variables."
      ]
    },
    {
      "cell_type": "markdown",
      "metadata": {
        "id": "_A0H2f6jeg02"
      },
      "source": [
        "## **A. 06.** Comparación resultados de los modelos (Proyecto 01 Vs Proyecto actual)"
      ]
    },
    {
      "cell_type": "markdown",
      "metadata": {
        "id": "qi5P2NcnklmJ"
      },
      "source": [
        "Con el fin de evaluar cuál es la variación en las métricas de los modelos implementados en el primer proyecto PY_01 (regresor lineal, árbol de decisión y KNN) ser evaluaran los modelos bajo las mismas condiciones (iguales hiperparametros) y variando únicamente el dataset de entrada al cual hemos hecho todas las transformaciones y para el cual hemos incluido ahora variables adicionales."
      ]
    },
    {
      "cell_type": "markdown",
      "metadata": {
        "id": "ALyKOICUlAc6"
      },
      "source": [
        "### ---> Definición de las nuevas variables predictoras"
      ]
    },
    {
      "cell_type": "code",
      "metadata": {
        "id": "OCuy0FWUgQO8"
      },
      "source": [
        "X = df_A_scaled.drop('price', axis=1)\n",
        "y = df_A_scaled['price']"
      ],
      "execution_count": 50,
      "outputs": []
    },
    {
      "cell_type": "markdown",
      "metadata": {
        "id": "Mp_1tcM2lUf4"
      },
      "source": [
        "### ---> Train-Test Split (iguales parámetros PY_01)"
      ]
    },
    {
      "cell_type": "code",
      "metadata": {
        "colab": {
          "base_uri": "https://localhost:8080/"
        },
        "id": "vCwK4tP3gSNA",
        "outputId": "f142bb00-d51d-4baa-ee85-a70e24648f84"
      },
      "source": [
        "X_train, X_test, y_train, y_test = train_test_split(X, y, test_size=0.30, random_state=42)\n",
        "print(X_train.shape, y_train.shape, X_test.shape, y_test.shape)"
      ],
      "execution_count": 51,
      "outputs": [
        {
          "output_type": "stream",
          "text": [
            "(47507, 66) (47507,) (20361, 66) (20361,)\n"
          ],
          "name": "stdout"
        }
      ]
    },
    {
      "cell_type": "markdown",
      "metadata": {
        "id": "A_n0b0jAmAOm"
      },
      "source": [
        "### ---> Modelos instanciados (iguales hiperparametros PY_01)"
      ]
    },
    {
      "cell_type": "code",
      "metadata": {
        "id": "eLRzJVqGKLXP"
      },
      "source": [
        "linear_model = LinearRegression()\n",
        "tree_regressor = DecisionTreeRegressor(max_depth=3, random_state=42)\n",
        "knn_regressor = KNeighborsRegressor(n_neighbors=5)"
      ],
      "execution_count": 52,
      "outputs": []
    },
    {
      "cell_type": "markdown",
      "metadata": {
        "id": "q1iQOp7cmcuL"
      },
      "source": [
        "### ---> Entrenamiento de los modelos"
      ]
    },
    {
      "cell_type": "code",
      "metadata": {
        "colab": {
          "base_uri": "https://localhost:8080/"
        },
        "id": "CyTFT3ybKLZw",
        "outputId": "e86caddf-9cc1-4f5d-96fd-fd99818c8fac"
      },
      "source": [
        "linear_model.fit(X_train, y_train)\n",
        "tree_regressor.fit(X_train, y_train)\n",
        "knn_regressor.fit(X_train, y_train)"
      ],
      "execution_count": 53,
      "outputs": [
        {
          "output_type": "execute_result",
          "data": {
            "text/plain": [
              "KNeighborsRegressor()"
            ]
          },
          "metadata": {
            "tags": []
          },
          "execution_count": 53
        }
      ]
    },
    {
      "cell_type": "markdown",
      "metadata": {
        "id": "qWIrxIldmpWJ"
      },
      "source": [
        "### ---> Resultados de los modelos (iguales hiperparámetros PY_01 - nuevo dataframe)"
      ]
    },
    {
      "cell_type": "code",
      "metadata": {
        "colab": {
          "base_uri": "https://localhost:8080/",
          "height": 1000
        },
        "id": "4qH8oCJ3KLcD",
        "outputId": "59119a43-1760-46cf-a3fe-e6ad18906388"
      },
      "source": [
        "modelos = ['Regresión lineal', 'Árbol de Decisión', 'Vecinos más cercanos']\n",
        "\n",
        "for i, model in enumerate([linear_model, tree_regressor, knn_regressor]):\n",
        "    y_train_pred = model.predict(X_train)\n",
        "    y_test_pred = model.predict(X_test)\n",
        "    \n",
        "    \n",
        "    print(f'Modelo: {modelos[i]}')\n",
        "\n",
        "    rmse_train = np.sqrt(mean_squared_error(y_train, y_train_pred))\n",
        "    rmse_test = np.sqrt(mean_squared_error(y_test, y_test_pred))\n",
        "    print(f'Raíz del error cuadrático medio en Train: {rmse_train}')\n",
        "    print(f'Raíz del error cuadrático medio en Test: {rmse_test}')\n",
        "    \n",
        "    r2_train = r2_score(y_train, y_train_pred)\n",
        "    r2_test = r2_score(y_test, y_test_pred)\n",
        "    print(f'R cuadrado en Train: {r2_train}')\n",
        "    print(f'R cuadrado en Test: {r2_test}')\n",
        "    \n",
        "    plt.figure(figsize = (8,4))\n",
        "\n",
        "    plt.subplot(1,2,1)\n",
        "    sns.distplot(y_train - y_train_pred, bins = 50, label = 'train')\n",
        "    sns.distplot(y_test - y_test_pred, bins = 50, label = 'test')\n",
        "    plt.xlabel('errores')\n",
        "    plt.legend()\n",
        "\n",
        "\n",
        "    ax = plt.subplot(1,2,2)\n",
        "    ax.scatter(y_test,y_test_pred, s =2)\n",
        "    \n",
        "    lims = [\n",
        "    np.min([ax.get_xlim(), ax.get_ylim()]),  # min of both axes\n",
        "    np.max([ax.get_xlim(), ax.get_ylim()]),  # max of both axes]\n",
        "    ]\n",
        "    \n",
        "    ax.plot(lims, lims, 'k-', alpha=0.75, zorder=0)\n",
        "    plt.xlabel('y (test)')\n",
        "    plt.ylabel('y_pred (test)')\n",
        "    \n",
        "    plt.tight_layout()\n",
        "    plt.show()"
      ],
      "execution_count": 54,
      "outputs": [
        {
          "output_type": "stream",
          "text": [
            "Modelo: Regresión lineal\n",
            "Raíz del error cuadrático medio en Train: 44143.814088767176\n",
            "Raíz del error cuadrático medio en Test: 44214.72941966836\n",
            "R cuadrado en Train: 0.7699301113282079\n",
            "R cuadrado en Test: 0.7721363026987982\n"
          ],
          "name": "stdout"
        },
        {
          "output_type": "display_data",
          "data": {
            "image/png": "[encoded data removed]",
            "text/plain": [
              "<Figure size 576x288 with 2 Axes>"
            ]
          },
          "metadata": {
            "tags": []
          }
        },
        {
          "output_type": "stream",
          "text": [
            "Modelo: Árbol de Decisión\n",
            "Raíz del error cuadrático medio en Train: 54385.93455461426\n",
            "Raíz del error cuadrático medio en Test: 54646.03060024996\n",
            "R cuadrado en Train: 0.6507846978947374\n",
            "R cuadrado en Test: 0.6519365355152797\n"
          ],
          "name": "stdout"
        },
        {
          "output_type": "display_data",
          "data": {
            "image/png": "[encoded data removed]",
            "text/plain": [
              "<Figure size 576x288 with 2 Axes>"
            ]
          },
          "metadata": {
            "tags": []
          }
        },
        {
          "output_type": "stream",
          "text": [
            "Modelo: Vecinos más cercanos\n",
            "Raíz del error cuadrático medio en Train: 27324.48220330548\n",
            "Raíz del error cuadrático medio en Test: 34264.592004360675\n",
            "R cuadrado en Train: 0.9118496672883556\n",
            "R cuadrado en Test: 0.863153930969198\n"
          ],
          "name": "stdout"
        },
        {
          "output_type": "display_data",
          "data": {
            "image/png": "[encoded data removed]",
            "text/plain": [
              "<Figure size 576x288 with 2 Axes>"
            ]
          },
          "metadata": {
            "tags": []
          }
        }
      ]
    },
    {
      "cell_type": "code",
      "metadata": {
        "id": "paxLbCn0g-wa"
      },
      "source": [
        "resultados_PY_01 = {'Modelo': ['Regresión lineal', 'Árbol de Decisión', 'Vecinos más cercanos'], \n",
        "                    'RMSE_Train': [199173.83253528475, 191783.485243933, 121300.24049431273], \n",
        "                    'RMSE_Test': [202449.36540361575, 194688.15091192327, 155040.1332898459], \n",
        "                    'R2_Train': [0.5517887107017188, 0.5844333913686437, 0.8337576939918325],\n",
        "                    'R2_Test': [0.5514864358797202, 0.5852162030595955, 0.7369544202301519]\n",
        "                    }\n",
        "                    \n",
        "resultados_PY_02 = {'Modelo': ['Regresión lineal', 'Árbol de Decisión', 'Vecinos más cercanos'], \n",
        "                    'RMSE_Train': [44143.814088767176, 54385.93455461426, 27331.957836355217], \n",
        "                    'RMSE_Test': [44214.72941966836, 54646.03060024996, 34287.79193709084], \n",
        "                    'R2_Train': [0.7699301113282079, 0.6507846978947374, 0.9118014270560322],\n",
        "                    'R2_Test': [0.7721363026987982, 0.6519365355152797, 0.8629685562592448]\n",
        "                    }"
      ],
      "execution_count": 55,
      "outputs": []
    },
    {
      "cell_type": "markdown",
      "metadata": {
        "id": "twxgcblBFtRs"
      },
      "source": [
        "### ---> Evaluación comparativa entre los resultados del PY_01 y el proyecto actual"
      ]
    },
    {
      "cell_type": "code",
      "metadata": {
        "id": "pmGVainXpc45"
      },
      "source": [
        "df_resultados_PY_01 = pd.DataFrame.from_dict(resultados_PY_01)\n",
        "df_resultados_PY_01['Proyecto']='PY_01'\n",
        "df_resultados_PY_01 = df_resultados_PY_01[['Modelo', 'Proyecto', 'RMSE_Train', 'RMSE_Test', 'R2_Train', 'R2_Test']]\n",
        "df_resultados_PY_01[['R2_Train', 'R2_Test']] = 100*df_resultados_PY_01[['R2_Train', 'R2_Test']]\n",
        "\n",
        "df_resultados_PY_02 = pd.DataFrame.from_dict(resultados_PY_02)\n",
        "df_resultados_PY_02['Proyecto']='PY_02'\n",
        "df_resultados_PY_02 = df_resultados_PY_02[['Modelo', 'Proyecto', 'RMSE_Train', 'RMSE_Test', 'R2_Train', 'R2_Test']]\n",
        "df_resultados_PY_02[['R2_Train', 'R2_Test']] = 100*df_resultados_PY_02[['R2_Train', 'R2_Test']]"
      ],
      "execution_count": 56,
      "outputs": []
    },
    {
      "cell_type": "code",
      "metadata": {
        "colab": {
          "base_uri": "https://localhost:8080/",
          "height": 0
        },
        "id": "kG9ISzEisZGC",
        "outputId": "10e1c708-6cf4-40e4-9330-335a796fb002"
      },
      "source": [
        "df_resultados_compilados = pd.concat([df_resultados_PY_01,df_resultados_PY_02]).sort_values(by='Modelo', ascending=False).reset_index(drop=True)\n",
        "df_resultados_compilados"
      ],
      "execution_count": 57,
      "outputs": [
        {
          "output_type": "execute_result",
          "data": {
            "text/html": [
              "<div>\n",
              "<style scoped>\n",
              "    .dataframe tbody tr th:only-of-type {\n",
              "        vertical-align: middle;\n",
              "    }\n",
              "\n",
              "    .dataframe tbody tr th {\n",
              "        vertical-align: top;\n",
              "    }\n",
              "\n",
              "    .dataframe thead th {\n",
              "        text-align: right;\n",
              "    }\n",
              "</style>\n",
              "<table border=\"1\" class=\"dataframe\">\n",
              "  <thead>\n",
              "    <tr style=\"text-align: right;\">\n",
              "      <th></th>\n",
              "      <th>Modelo</th>\n",
              "      <th>Proyecto</th>\n",
              "      <th>RMSE_Train</th>\n",
              "      <th>RMSE_Test</th>\n",
              "      <th>R2_Train</th>\n",
              "      <th>R2_Test</th>\n",
              "    </tr>\n",
              "  </thead>\n",
              "  <tbody>\n",
              "    <tr>\n",
              "      <th>0</th>\n",
              "      <td>Árbol de Decisión</td>\n",
              "      <td>PY_01</td>\n",
              "      <td>191783.485244</td>\n",
              "      <td>194688.150912</td>\n",
              "      <td>58.443339</td>\n",
              "      <td>58.521620</td>\n",
              "    </tr>\n",
              "    <tr>\n",
              "      <th>1</th>\n",
              "      <td>Árbol de Decisión</td>\n",
              "      <td>PY_02</td>\n",
              "      <td>54385.934555</td>\n",
              "      <td>54646.030600</td>\n",
              "      <td>65.078470</td>\n",
              "      <td>65.193654</td>\n",
              "    </tr>\n",
              "    <tr>\n",
              "      <th>2</th>\n",
              "      <td>Vecinos más cercanos</td>\n",
              "      <td>PY_01</td>\n",
              "      <td>121300.240494</td>\n",
              "      <td>155040.133290</td>\n",
              "      <td>83.375769</td>\n",
              "      <td>73.695442</td>\n",
              "    </tr>\n",
              "    <tr>\n",
              "      <th>3</th>\n",
              "      <td>Vecinos más cercanos</td>\n",
              "      <td>PY_02</td>\n",
              "      <td>27331.957836</td>\n",
              "      <td>34287.791937</td>\n",
              "      <td>91.180143</td>\n",
              "      <td>86.296856</td>\n",
              "    </tr>\n",
              "    <tr>\n",
              "      <th>4</th>\n",
              "      <td>Regresión lineal</td>\n",
              "      <td>PY_01</td>\n",
              "      <td>199173.832535</td>\n",
              "      <td>202449.365404</td>\n",
              "      <td>55.178871</td>\n",
              "      <td>55.148644</td>\n",
              "    </tr>\n",
              "    <tr>\n",
              "      <th>5</th>\n",
              "      <td>Regresión lineal</td>\n",
              "      <td>PY_02</td>\n",
              "      <td>44143.814089</td>\n",
              "      <td>44214.729420</td>\n",
              "      <td>76.993011</td>\n",
              "      <td>77.213630</td>\n",
              "    </tr>\n",
              "  </tbody>\n",
              "</table>\n",
              "</div>"
            ],
            "text/plain": [
              "                 Modelo Proyecto     RMSE_Train      RMSE_Test   R2_Train  \\\n",
              "0     Árbol de Decisión    PY_01  191783.485244  194688.150912  58.443339   \n",
              "1     Árbol de Decisión    PY_02   54385.934555   54646.030600  65.078470   \n",
              "2  Vecinos más cercanos    PY_01  121300.240494  155040.133290  83.375769   \n",
              "3  Vecinos más cercanos    PY_02   27331.957836   34287.791937  91.180143   \n",
              "4      Regresión lineal    PY_01  199173.832535  202449.365404  55.178871   \n",
              "5      Regresión lineal    PY_02   44143.814089   44214.729420  76.993011   \n",
              "\n",
              "     R2_Test  \n",
              "0  58.521620  \n",
              "1  65.193654  \n",
              "2  73.695442  \n",
              "3  86.296856  \n",
              "4  55.148644  \n",
              "5  77.213630  "
            ]
          },
          "metadata": {
            "tags": []
          },
          "execution_count": 57
        }
      ]
    },
    {
      "cell_type": "code",
      "metadata": {
        "id": "SXcYj7F3siwT",
        "colab": {
          "base_uri": "https://localhost:8080/",
          "height": 0
        },
        "outputId": "b7be5f63-d332-4f42-c752-d62b38482951"
      },
      "source": [
        "list_delta_arbol = list(df_resultados_compilados.iloc[1, 2:6]-df_resultados_compilados.iloc[0, 2:6])\n",
        "list_delta_knn = list(df_resultados_compilados.iloc[3, 2:6]-df_resultados_compilados.iloc[2, 2:6])\n",
        "list_delta_lineal = list(df_resultados_compilados.iloc[5, 2:6]-df_resultados_compilados.iloc[4, 2:6])\n",
        "\n",
        "df_resultados_variacion = pd.DataFrame(list(zip(list_delta_arbol, list_delta_knn, list_delta_lineal)),\n",
        "               columns = ['Árbol de Decisión', 'Vecinos más cercanos', 'Regresión lineal']).T\n",
        "df_resultados_variacion.columns = ['Dif_RMSE_Train', 'Dif_RMSE_Test', 'Dif_R2_Train', 'Dif_R2_Test']              \n",
        "df_resultados_variacion"
      ],
      "execution_count": 58,
      "outputs": [
        {
          "output_type": "execute_result",
          "data": {
            "text/html": [
              "<div>\n",
              "<style scoped>\n",
              "    .dataframe tbody tr th:only-of-type {\n",
              "        vertical-align: middle;\n",
              "    }\n",
              "\n",
              "    .dataframe tbody tr th {\n",
              "        vertical-align: top;\n",
              "    }\n",
              "\n",
              "    .dataframe thead th {\n",
              "        text-align: right;\n",
              "    }\n",
              "</style>\n",
              "<table border=\"1\" class=\"dataframe\">\n",
              "  <thead>\n",
              "    <tr style=\"text-align: right;\">\n",
              "      <th></th>\n",
              "      <th>Dif_RMSE_Train</th>\n",
              "      <th>Dif_RMSE_Test</th>\n",
              "      <th>Dif_R2_Train</th>\n",
              "      <th>Dif_R2_Test</th>\n",
              "    </tr>\n",
              "  </thead>\n",
              "  <tbody>\n",
              "    <tr>\n",
              "      <th>Árbol de Decisión</th>\n",
              "      <td>-137397.550689</td>\n",
              "      <td>-140042.120312</td>\n",
              "      <td>6.635131</td>\n",
              "      <td>6.672033</td>\n",
              "    </tr>\n",
              "    <tr>\n",
              "      <th>Vecinos más cercanos</th>\n",
              "      <td>-93968.282658</td>\n",
              "      <td>-120752.341353</td>\n",
              "      <td>7.804373</td>\n",
              "      <td>12.601414</td>\n",
              "    </tr>\n",
              "    <tr>\n",
              "      <th>Regresión lineal</th>\n",
              "      <td>-155030.018447</td>\n",
              "      <td>-158234.635984</td>\n",
              "      <td>21.814140</td>\n",
              "      <td>22.064987</td>\n",
              "    </tr>\n",
              "  </tbody>\n",
              "</table>\n",
              "</div>"
            ],
            "text/plain": [
              "                      Dif_RMSE_Train  Dif_RMSE_Test  Dif_R2_Train  Dif_R2_Test\n",
              "Árbol de Decisión     -137397.550689 -140042.120312      6.635131     6.672033\n",
              "Vecinos más cercanos   -93968.282658 -120752.341353      7.804373    12.601414\n",
              "Regresión lineal      -155030.018447 -158234.635984     21.814140    22.064987"
            ]
          },
          "metadata": {
            "tags": []
          },
          "execution_count": 58
        }
      ]
    },
    {
      "cell_type": "markdown",
      "metadata": {
        "id": "BsfbLoXlLLUh"
      },
      "source": [
        "En la presente sección hemos encontrado las variaciones que presentan  modelos de proyecto PY_01 (regresor lineal, árbol de decisión y KNN) únicamante a partir de la variación de dataset de entrada. En general todos los modelos mejoran sus métricas (RMSE y R2) tanto en el conjunto de test como en el conjunto de train. Los incrementos en el valor de R2 se dan en un rango entre un  6% y un 22%, con una mejora mucho más significativa en el modelo de regresión lineal.\n",
        "\n",
        "Puede observarse de igual manera que la mejora no se da únicamente en relación con las métricas, sino con la distribución de sus errores, presentando un comportamiento mucho más homocedástico en la nueva distribución. \n",
        "\n",
        "Como principales elementos en la contribución a la mejora en los resultados tanto de las métricas como de la distribución de sus errores podemos destacar los siguientes:\n",
        "- **Eliminación de outliers:** permite que el aprendizaje de los modelos se centre en los registros representativos de las distribuciones y no en los valores con comportamientos alejados de las mismas.\n",
        "- **Encoding:** permitió incluir en el modelo variables categóricas que antes no existían (los barrios específicamente que pueden ser una característica determinante en la estimación del modelo.\n",
        "- **Imputación de valores faltantes:** permitió por una parte prescindir de valores que podrían sesgar las estimaciones en el caso de ser imputados, y por otra parte imputar algunos que teniendo un sentido lógico en su estimación iban a enriquecer en cantidad de registros el dataset. Al tener más registros representativos el aprendizaje del modelo puede incrementar mejorando con ello sus métricas. \n",
        "- **Escalado de los valores:** permite al modelo tener un equilibrio en relación a las variables con respecto a las cuales hace su predicción haciendo una estimación mucho más homogénea de la importancia que toma cada una de las variables tanto en el aprendizaje como en la evaluación.\n"
      ]
    },
    {
      "cell_type": "markdown",
      "metadata": {
        "id": "G0omlDNOLk72"
      },
      "source": [
        "# **Parte B.** Modelos Avanzados"
      ]
    },
    {
      "cell_type": "markdown",
      "metadata": {
        "id": "T9wslxD8YksO"
      },
      "source": [
        "En la presente sección implementaremos algunos modelos complementarios basados en técnicas de ensamble, en particular Bagging y Boosting. En específico los modelos implementados son Random Forest Regressor y XGBoost. Para cada uno de ellos evaluaremos inicialmente los resultados que nos entregan con los hiperparametros asignados por defecto en cada una de sus librerías. De manera posterior haremos una optimización de sus hiperparámetros a través de métodos de grilla y evaluaremos el desempeño de los modelos obtenidos."
      ]
    },
    {
      "cell_type": "markdown",
      "metadata": {
        "id": "ceDMPacmxb1J"
      },
      "source": [
        "### ---> Función de evaluación para los modelos"
      ]
    },
    {
      "cell_type": "markdown",
      "metadata": {
        "id": "8RtiyuT4ZYQT"
      },
      "source": [
        "Con el fin de evaluar los modelos de manera homogénea definimos a continuación una función que nos permite calcular las métricas de R2 y RMSE, así como las gráficas de dispersión de errores para cada uno de los modelos. Emplearemos dicha función al final de cada sección para obtener los valores de rendimiento de cada modelo."
      ]
    },
    {
      "cell_type": "code",
      "metadata": {
        "id": "ATmY9k42xR3N"
      },
      "source": [
        "def evaluar_modelo(modelo, y_train, y_test, y_train_pred, y_test_pred):\n",
        "\n",
        "    print('El modelo a evaluar: ', modelo)\n",
        "    ### CALCULAMOS EL ERROR\n",
        "    \n",
        "    rmse_train = np.sqrt(mean_squared_error(y_train, y_train_pred))\n",
        "    rmse_test = np.sqrt(mean_squared_error(y_test, y_test_pred))\n",
        "    print(f'Raíz del error cuadrático medio en Train: {rmse_train}')\n",
        "    print(f'Raíz del error cuadrático medio en Test: {rmse_test}')\n",
        "    \n",
        "    r2_train = r2_score(y_train, y_train_pred)\n",
        "    r2_test = r2_score(y_test, y_test_pred)\n",
        "    print(f'R cuadrado en Train: {r2_train}')\n",
        "    print(f'R cuadrado en Test: {r2_test}')\n",
        "\n",
        "    # print(f'Porcentaje del Error Absoluto medio en Train: {mape_train}')\n",
        "    # print(f'Porcentaje del Error Absoluto medio en Test: {mape_test}\\n')\n",
        "    \n",
        "        ### GRAFICAMOS LOS RESULTADOS\n",
        "      \n",
        "    plt.figure(figsize = (8,4))\n",
        "\n",
        "    plt.subplot(1,2,1)\n",
        "    sns.distplot(y_train - y_train_pred, bins = 20, label = 'train')\n",
        "    sns.distplot(y_test - y_test_pred, bins = 20, label = 'test')\n",
        "    plt.xlabel('errores')\n",
        "    plt.legend()\n",
        "\n",
        "    ax = plt.subplot(1,2,2)\n",
        "    ax.scatter(y_test,y_test_pred, s =2)\n",
        "    \n",
        "    lims = [\n",
        "    np.min([ax.get_xlim(), ax.get_ylim()]),  # min of both axes\n",
        "    np.max([ax.get_xlim(), ax.get_ylim()]),  # max of both axes]\n",
        "    ]\n",
        "    \n",
        "    ax.plot(lims, lims, 'k-', alpha=0.75, zorder=0)\n",
        "    plt.xlabel('y (test)')\n",
        "    plt.ylabel('y_pred (test)')\n",
        "    \n",
        "    plt.tight_layout()\n",
        "    plt.show()"
      ],
      "execution_count": 59,
      "outputs": []
    },
    {
      "cell_type": "markdown",
      "metadata": {
        "id": "zA6jaAfZweyg"
      },
      "source": [
        "## **B. 01.** Modelos avanzados (argumentos por defecto)"
      ]
    },
    {
      "cell_type": "markdown",
      "metadata": {
        "id": "cWy4aSFAYIDM"
      },
      "source": [
        "En la presente sección evaluaremos los modelos de random Forest Regressor y XGBoost con los hiperparametros que tienen asignados en su librerías por defecto. Los resultados serán evaluados de manera directa y también empleando la técnica de Cross Validation."
      ]
    },
    {
      "cell_type": "markdown",
      "metadata": {
        "id": "c6dYFa1A_uzW"
      },
      "source": [
        "### **B.01.01** XGBoost (argumentos por defecto)"
      ]
    },
    {
      "cell_type": "markdown",
      "metadata": {
        "id": "48YIMUUfwzPv"
      },
      "source": [
        "#### ----> Entrenamiento y evaluación"
      ]
    },
    {
      "cell_type": "code",
      "metadata": {
        "id": "v_DK084QNFpP"
      },
      "source": [
        "# Instanciamos el modelo con sus caracteristicas por defecto\n",
        "XGB_model = xgb.XGBRegressor()"
      ],
      "execution_count": 60,
      "outputs": []
    },
    {
      "cell_type": "code",
      "metadata": {
        "colab": {
          "base_uri": "https://localhost:8080/"
        },
        "id": "Tk7zvbZWNbRg",
        "outputId": "2b85aeb1-625b-4622-b221-64cf0e8fee21"
      },
      "source": [
        "# Corroboramos los hiperparametros que el modelo presenta\n",
        "XGB_model"
      ],
      "execution_count": 61,
      "outputs": [
        {
          "output_type": "execute_result",
          "data": {
            "text/plain": [
              "XGBRegressor(base_score=None, booster=None, colsample_bylevel=None,\n",
              "             colsample_bynode=None, colsample_bytree=None, gamma=None,\n",
              "             gpu_id=None, importance_type='gain', interaction_constraints=None,\n",
              "             learning_rate=None, max_delta_step=None, max_depth=None,\n",
              "             min_child_weight=None, missing=nan, monotone_constraints=None,\n",
              "             n_estimators=100, n_jobs=None, num_parallel_tree=None,\n",
              "             random_state=None, reg_alpha=None, reg_lambda=None,\n",
              "             scale_pos_weight=None, subsample=None, tree_method=None,\n",
              "             validate_parameters=None, verbosity=None)"
            ]
          },
          "metadata": {
            "tags": []
          },
          "execution_count": 61
        }
      ]
    },
    {
      "cell_type": "code",
      "metadata": {
        "colab": {
          "base_uri": "https://localhost:8080/"
        },
        "id": "MOpsOGb6NFlt",
        "outputId": "e3f6f618-28f0-491d-91eb-375891f9ccf4"
      },
      "source": [
        "# Hacemos que el modelo se entrene con el set de entrenamiento (X_train, y_train)\n",
        "# Caracteristicas: \n",
        "# evalset : el modelo evaluara las métricas mape y rmse y se detendra tras 50 iteraciones\n",
        "# en las que el modelo ho haya logrado obtener una metrica más baja. \n",
        "# evalmetric: serán las metricas que emplearemos para evaluar lo pasos del del entrenamiento.\n",
        "# La última de ellas es la que se constituye como criterio de parada para elearly stopping. \n",
        "# early_stopping_rounds: cantidad de rondas que avanzará sin (si incluimos este parameto se almacenará el mejor modelo respecto a la metrica de evaluación)\n",
        "# (Sino el modelo evaluará hasta el valor n_estimators y tomnara el valor del ultimo estimador)\n",
        "# Verbose: Imprimirá cada una de los pasos del entrenamiento con sus respectivas evaluaciones sobre el eval_set\n",
        "XGB_model.fit(X_train, y_train,\n",
        "        eval_set=[(X_train, y_train), (X_test, y_test)],\n",
        "        eval_metric= ['rmse'],\n",
        "        early_stopping_rounds=100,\n",
        "        verbose=1\n",
        "       )"
      ],
      "execution_count": 62,
      "outputs": [
        {
          "output_type": "stream",
          "text": [
            "[0]\tvalidation_0-rmse:148722.81250\tvalidation_1-rmse:149716.28125\n",
            "[1]\tvalidation_0-rmse:108591.29688\tvalidation_1-rmse:109419.54688\n",
            "[2]\tvalidation_0-rmse:81660.53906\tvalidation_1-rmse:82387.57031\n",
            "[3]\tvalidation_0-rmse:64111.32031\tvalidation_1-rmse:64775.43750\n",
            "[4]\tvalidation_0-rmse:53092.37500\tvalidation_1-rmse:53686.04297\n",
            "[5]\tvalidation_0-rmse:46345.04688\tvalidation_1-rmse:46946.83203\n",
            "[6]\tvalidation_0-rmse:42423.48828\tvalidation_1-rmse:43098.51562\n",
            "[7]\tvalidation_0-rmse:40115.67188\tvalidation_1-rmse:40821.01562\n",
            "[8]\tvalidation_0-rmse:38822.36719\tvalidation_1-rmse:39580.50781\n",
            "[9]\tvalidation_0-rmse:37938.67969\tvalidation_1-rmse:38743.83594\n",
            "[10]\tvalidation_0-rmse:37194.78516\tvalidation_1-rmse:38044.64453\n",
            "[11]\tvalidation_0-rmse:36851.67969\tvalidation_1-rmse:37722.50000\n",
            "[12]\tvalidation_0-rmse:36500.32422\tvalidation_1-rmse:37423.51172\n",
            "[13]\tvalidation_0-rmse:36356.19531\tvalidation_1-rmse:37282.36328\n",
            "[14]\tvalidation_0-rmse:35982.44141\tvalidation_1-rmse:37015.05078\n",
            "[15]\tvalidation_0-rmse:35837.73828\tvalidation_1-rmse:36893.04297\n",
            "[16]\tvalidation_0-rmse:35680.13281\tvalidation_1-rmse:36792.75391\n",
            "[17]\tvalidation_0-rmse:35497.56250\tvalidation_1-rmse:36660.87109\n",
            "[18]\tvalidation_0-rmse:35429.39062\tvalidation_1-rmse:36597.12500\n",
            "[19]\tvalidation_0-rmse:35178.49219\tvalidation_1-rmse:36431.75391\n",
            "[20]\tvalidation_0-rmse:34768.17578\tvalidation_1-rmse:36090.04297\n",
            "[21]\tvalidation_0-rmse:34656.13672\tvalidation_1-rmse:36010.10938\n",
            "[22]\tvalidation_0-rmse:34507.05859\tvalidation_1-rmse:35921.44141\n",
            "[23]\tvalidation_0-rmse:34399.59766\tvalidation_1-rmse:35824.97656\n",
            "[24]\tvalidation_0-rmse:34338.89453\tvalidation_1-rmse:35778.23438\n",
            "[25]\tvalidation_0-rmse:34148.84375\tvalidation_1-rmse:35668.40625\n",
            "[26]\tvalidation_0-rmse:33908.23438\tvalidation_1-rmse:35512.18359\n",
            "[27]\tvalidation_0-rmse:33853.61719\tvalidation_1-rmse:35484.84766\n",
            "[28]\tvalidation_0-rmse:33747.66406\tvalidation_1-rmse:35395.66406\n",
            "[29]\tvalidation_0-rmse:33648.21094\tvalidation_1-rmse:35320.78516\n",
            "[30]\tvalidation_0-rmse:33514.48438\tvalidation_1-rmse:35218.16406\n",
            "[31]\tvalidation_0-rmse:33390.10938\tvalidation_1-rmse:35135.60156\n",
            "[32]\tvalidation_0-rmse:33203.56250\tvalidation_1-rmse:34977.65234\n",
            "[33]\tvalidation_0-rmse:33132.03125\tvalidation_1-rmse:34955.68359\n",
            "[34]\tvalidation_0-rmse:32965.63281\tvalidation_1-rmse:34845.02734\n",
            "[35]\tvalidation_0-rmse:32839.98828\tvalidation_1-rmse:34761.54297\n",
            "[36]\tvalidation_0-rmse:32709.91016\tvalidation_1-rmse:34703.60156\n",
            "[37]\tvalidation_0-rmse:32656.90430\tvalidation_1-rmse:34665.58984\n",
            "[38]\tvalidation_0-rmse:32633.29883\tvalidation_1-rmse:34651.50781\n",
            "[39]\tvalidation_0-rmse:32498.28516\tvalidation_1-rmse:34589.69531\n",
            "[40]\tvalidation_0-rmse:32391.03125\tvalidation_1-rmse:34497.48047\n",
            "[41]\tvalidation_0-rmse:32319.09375\tvalidation_1-rmse:34465.46094\n",
            "[42]\tvalidation_0-rmse:32205.15430\tvalidation_1-rmse:34418.42578\n",
            "[43]\tvalidation_0-rmse:32136.86719\tvalidation_1-rmse:34400.26562\n",
            "[44]\tvalidation_0-rmse:32098.64844\tvalidation_1-rmse:34384.53516\n",
            "[45]\tvalidation_0-rmse:32046.17188\tvalidation_1-rmse:34363.22266\n",
            "[46]\tvalidation_0-rmse:31895.21484\tvalidation_1-rmse:34298.40234\n",
            "[47]\tvalidation_0-rmse:31731.58398\tvalidation_1-rmse:34192.58203\n",
            "[48]\tvalidation_0-rmse:31561.48047\tvalidation_1-rmse:34084.10938\n",
            "[49]\tvalidation_0-rmse:31499.35742\tvalidation_1-rmse:34050.43750\n",
            "[50]\tvalidation_0-rmse:31462.93164\tvalidation_1-rmse:34023.06250\n",
            "[51]\tvalidation_0-rmse:31384.95508\tvalidation_1-rmse:33975.92188\n",
            "[52]\tvalidation_0-rmse:31304.23438\tvalidation_1-rmse:33922.22266\n",
            "[53]\tvalidation_0-rmse:31113.52148\tvalidation_1-rmse:33781.39453\n",
            "[54]\tvalidation_0-rmse:31088.59961\tvalidation_1-rmse:33770.42578\n",
            "[55]\tvalidation_0-rmse:31033.69922\tvalidation_1-rmse:33737.26562\n",
            "[56]\tvalidation_0-rmse:30950.27148\tvalidation_1-rmse:33733.08594\n",
            "[57]\tvalidation_0-rmse:30892.44922\tvalidation_1-rmse:33693.54297\n",
            "[58]\tvalidation_0-rmse:30772.79102\tvalidation_1-rmse:33624.80469\n",
            "[59]\tvalidation_0-rmse:30693.56250\tvalidation_1-rmse:33584.50000\n",
            "[60]\tvalidation_0-rmse:30548.78320\tvalidation_1-rmse:33477.58984\n",
            "[61]\tvalidation_0-rmse:30442.82227\tvalidation_1-rmse:33436.26953\n",
            "[62]\tvalidation_0-rmse:30350.00391\tvalidation_1-rmse:33361.37500\n",
            "[63]\tvalidation_0-rmse:30293.54883\tvalidation_1-rmse:33326.62891\n",
            "[64]\tvalidation_0-rmse:30166.69922\tvalidation_1-rmse:33229.58594\n",
            "[65]\tvalidation_0-rmse:30130.42969\tvalidation_1-rmse:33212.64844\n",
            "[66]\tvalidation_0-rmse:30060.91602\tvalidation_1-rmse:33171.19531\n",
            "[67]\tvalidation_0-rmse:30010.04492\tvalidation_1-rmse:33137.63281\n",
            "[68]\tvalidation_0-rmse:29987.14258\tvalidation_1-rmse:33114.16016\n",
            "[69]\tvalidation_0-rmse:29961.54688\tvalidation_1-rmse:33113.04688\n",
            "[70]\tvalidation_0-rmse:29944.10352\tvalidation_1-rmse:33106.58594\n",
            "[71]\tvalidation_0-rmse:29873.23438\tvalidation_1-rmse:33070.19531\n",
            "[72]\tvalidation_0-rmse:29806.77930\tvalidation_1-rmse:33017.89453\n",
            "[73]\tvalidation_0-rmse:29707.52734\tvalidation_1-rmse:32966.46875\n",
            "[74]\tvalidation_0-rmse:29630.26367\tvalidation_1-rmse:32947.51953\n",
            "[75]\tvalidation_0-rmse:29555.27344\tvalidation_1-rmse:32911.14844\n",
            "[76]\tvalidation_0-rmse:29490.93945\tvalidation_1-rmse:32885.14062\n",
            "[77]\tvalidation_0-rmse:29450.82812\tvalidation_1-rmse:32858.28906\n",
            "[78]\tvalidation_0-rmse:29305.66016\tvalidation_1-rmse:32782.64453\n",
            "[79]\tvalidation_0-rmse:29226.82617\tvalidation_1-rmse:32748.77148\n",
            "[80]\tvalidation_0-rmse:29187.48047\tvalidation_1-rmse:32739.12500\n",
            "[81]\tvalidation_0-rmse:29118.72070\tvalidation_1-rmse:32696.29102\n",
            "[82]\tvalidation_0-rmse:29070.53516\tvalidation_1-rmse:32687.49219\n",
            "[83]\tvalidation_0-rmse:29039.13477\tvalidation_1-rmse:32673.70312\n",
            "[84]\tvalidation_0-rmse:28859.54688\tvalidation_1-rmse:32523.87305\n",
            "[85]\tvalidation_0-rmse:28684.05273\tvalidation_1-rmse:32429.80859\n",
            "[86]\tvalidation_0-rmse:28636.83789\tvalidation_1-rmse:32411.40820\n",
            "[87]\tvalidation_0-rmse:28601.09961\tvalidation_1-rmse:32403.98047\n",
            "[88]\tvalidation_0-rmse:28487.83789\tvalidation_1-rmse:32381.07422\n",
            "[89]\tvalidation_0-rmse:28474.00586\tvalidation_1-rmse:32373.77344\n",
            "[90]\tvalidation_0-rmse:28433.35938\tvalidation_1-rmse:32361.23828\n",
            "[91]\tvalidation_0-rmse:28368.85547\tvalidation_1-rmse:32339.22266\n",
            "[92]\tvalidation_0-rmse:28316.09766\tvalidation_1-rmse:32315.28906\n",
            "[93]\tvalidation_0-rmse:28230.44531\tvalidation_1-rmse:32260.57422\n",
            "[94]\tvalidation_0-rmse:28174.18555\tvalidation_1-rmse:32242.24414\n",
            "[95]\tvalidation_0-rmse:28129.40039\tvalidation_1-rmse:32228.13477\n",
            "[96]\tvalidation_0-rmse:28108.93750\tvalidation_1-rmse:32224.27344\n",
            "[97]\tvalidation_0-rmse:28088.97656\tvalidation_1-rmse:32213.70117\n",
            "[98]\tvalidation_0-rmse:28023.58594\tvalidation_1-rmse:32187.09961\n",
            "[99]\tvalidation_0-rmse:28005.62305\tvalidation_1-rmse:32175.52539\n"
          ],
          "name": "stdout"
        },
        {
          "output_type": "execute_result",
          "data": {
            "text/plain": [
              "XGBRegressor(base_score=0.5, booster='gbtree', colsample_bylevel=1,\n",
              "             colsample_bynode=1, colsample_bytree=1, gamma=0, gpu_id=-1,\n",
              "             importance_type='gain', interaction_constraints='',\n",
              "             learning_rate=0.300000012, max_delta_step=0, max_depth=6,\n",
              "             min_child_weight=1, missing=nan, monotone_constraints='()',\n",
              "             n_estimators=100, n_jobs=2, num_parallel_tree=1, random_state=0,\n",
              "             reg_alpha=0, reg_lambda=1, scale_pos_weight=1, subsample=1,\n",
              "             tree_method='exact', validate_parameters=1, verbosity=None)"
            ]
          },
          "metadata": {
            "tags": []
          },
          "execution_count": 62
        }
      ]
    },
    {
      "cell_type": "code",
      "metadata": {
        "colab": {
          "base_uri": "https://localhost:8080/"
        },
        "id": "-1qbpwRmNFjQ",
        "outputId": "2ddfbb78-599a-4e0b-cb3b-e9f9f856f2f5"
      },
      "source": [
        "# Visualizamos el mejor valor para la métrica de criterio de entrenamiento\n",
        "XGB_model.best_score"
      ],
      "execution_count": 63,
      "outputs": [
        {
          "output_type": "execute_result",
          "data": {
            "text/plain": [
              "32175.525391"
            ]
          },
          "metadata": {
            "tags": []
          },
          "execution_count": 63
        }
      ]
    },
    {
      "cell_type": "code",
      "metadata": {
        "colab": {
          "base_uri": "https://localhost:8080/"
        },
        "id": "XRefRvKDNFhh",
        "outputId": "7dad6b52-ee76-43ac-f610-74496245aca3"
      },
      "source": [
        "# Visualizamos cual fue la mejor iteración en la que dicho valor se obtuvo\n",
        "XGB_model.best_iteration"
      ],
      "execution_count": 64,
      "outputs": [
        {
          "output_type": "execute_result",
          "data": {
            "text/plain": [
              "99"
            ]
          },
          "metadata": {
            "tags": []
          },
          "execution_count": 64
        }
      ]
    },
    {
      "cell_type": "code",
      "metadata": {
        "id": "71KnOdUAScP6"
      },
      "source": [
        "# Generamos la predicción con el modelo entrenado\n",
        "y_train_pred = XGB_model.predict(X_train)\n",
        "y_test_pred= XGB_model.predict(X_test)"
      ],
      "execution_count": 65,
      "outputs": []
    },
    {
      "cell_type": "code",
      "metadata": {
        "colab": {
          "base_uri": "https://localhost:8080/",
          "height": 384
        },
        "id": "SSYRbTcWNFcB",
        "outputId": "ae3c6cc9-be25-454d-abe4-d3c2bd78df3f"
      },
      "source": [
        "# Evaluamos los resultados obtenidos por el modelo\n",
        "evaluar_modelo('XGBoost (parametros por defecto)', y_train, y_test, y_train_pred, y_test_pred)"
      ],
      "execution_count": 66,
      "outputs": [
        {
          "output_type": "stream",
          "text": [
            "El modelo a evaluar:  XGBoost (parametros por defecto)\n",
            "Raíz del error cuadrático medio en Train: 28005.652518335588\n",
            "Raíz del error cuadrático medio en Test: 32175.555797713354\n",
            "R cuadrado en Train: 0.9073998977854276\n",
            "R cuadrado en Test: 0.8793316673319217\n"
          ],
          "name": "stdout"
        },
        {
          "output_type": "display_data",
          "data": {
            "image/png": "[encoded data removed]",
            "text/plain": [
              "<Figure size 576x288 with 2 Axes>"
            ]
          },
          "metadata": {
            "tags": []
          }
        }
      ]
    },
    {
      "cell_type": "code",
      "metadata": {
        "id": "KxvpNFt2btrc"
      },
      "source": [
        "# Almacenamos los resultados obtenidos por el modelo\n",
        "resultados_PY_02_XGB_model = {'Modelo': ['XGBoost'], \n",
        "                              'RMSE_Train': [28005.652518335588], \n",
        "                              'RMSE_Test': [32175.555797713354], \n",
        "                              'R2_Train': [0.9073998977854276],\n",
        "                              'R2_Test': [0.8793316673319217]\n",
        "                              }"
      ],
      "execution_count": 67,
      "outputs": []
    },
    {
      "cell_type": "code",
      "metadata": {
        "id": "47AWVTlq1WrX"
      },
      "source": [
        "# Guardado del modelo ya entrenado\n",
        "path_XGB_model = '/content/drive/MyDrive/Colab Notebooks/00_Acamica/XGB_model.sav'\n",
        "pickle.dump(XGB_model, open(path_XGB_model, 'wb'))"
      ],
      "execution_count": 68,
      "outputs": []
    },
    {
      "cell_type": "code",
      "metadata": {
        "id": "GitRg2SA4FO7"
      },
      "source": [
        "# # Cargado del modelo guardado\n",
        "# loaded_model = pickle.load(open(path_XGB_model, 'rb'))"
      ],
      "execution_count": 69,
      "outputs": []
    },
    {
      "cell_type": "markdown",
      "metadata": {
        "id": "Dn-AZPX1_ebi"
      },
      "source": [
        "#### ---> Cross Validation"
      ]
    },
    {
      "cell_type": "markdown",
      "metadata": {
        "id": "H35JHlZ2dBr2"
      },
      "source": [
        "Mediante la técnica de Cross Validation corroboramos que el valor obtenido para las métricas es el valor representativo indiferente del conjunto de train y test seleccionado."
      ]
    },
    {
      "cell_type": "code",
      "metadata": {
        "colab": {
          "base_uri": "https://localhost:8080/"
        },
        "id": "m8bwG6vh0XZ7",
        "outputId": "a0e0044c-8bda-4fbe-9103-cb2aaa2554c6"
      },
      "source": [
        "CV_XGBoost_results = cross_validate(XGB_model, X_test, y_test, cv=5, scoring=['r2', 'neg_root_mean_squared_error'], return_train_score=True,  n_jobs=-1)\n",
        "CV_XGBoost_results"
      ],
      "execution_count": 70,
      "outputs": [
        {
          "output_type": "execute_result",
          "data": {
            "text/plain": [
              "{'fit_time': array([29.91623545, 29.90654087, 13.82481194, 14.86055636,  3.80147648]),\n",
              " 'score_time': array([0.22411394, 0.1892097 , 0.02430701, 0.02604866, 0.0108676 ]),\n",
              " 'test_neg_root_mean_squared_error': array([-34258.76121666, -33898.26167687, -33015.79073741, -32394.68893765,\n",
              "        -34393.60269987]),\n",
              " 'test_r2': array([0.8629041 , 0.8654587 , 0.87301296, 0.87729739, 0.86331476]),\n",
              " 'train_neg_root_mean_squared_error': array([-24936.94813869, -24450.2107336 , -25149.75382025, -24164.62278743,\n",
              "        -24692.39688234]),\n",
              " 'train_r2': array([0.92755753, 0.93039649, 0.92626574, 0.93199163, 0.92876846])}"
            ]
          },
          "metadata": {
            "tags": []
          },
          "execution_count": 70
        }
      ]
    },
    {
      "cell_type": "code",
      "metadata": {
        "id": "zjAzIkX_8GlW"
      },
      "source": [
        "CV_XGBoost_R2 = CV_XGBoost_results['test_r2']\n",
        "CV_XGBoost_RMSE = CV_XGBoost_results['test_neg_root_mean_squared_error']"
      ],
      "execution_count": 71,
      "outputs": []
    },
    {
      "cell_type": "code",
      "metadata": {
        "colab": {
          "base_uri": "https://localhost:8080/"
        },
        "id": "RawCqTRE0Xfn",
        "outputId": "d28959e1-bbe9-48e5-bd0e-3dc88d57603e"
      },
      "source": [
        "print('Modelo evaluado bajo Cross Validation:  XGBoost (parámetros por defecto)')\n",
        "print(\"Raíz del error cuadrático medio para test : %0.2f (+/- %0.2f)\" % (abs(CV_XGBoost_RMSE.mean()), abs(CV_XGBoost_RMSE.std()) * 2))\n",
        "print(\"R cuadrado para test : %0.2f (+/- %0.2f)\" % (abs(CV_XGBoost_R2.mean()), abs(CV_XGBoost_R2.std()) * 2))"
      ],
      "execution_count": 72,
      "outputs": [
        {
          "output_type": "stream",
          "text": [
            "Modelo evaluado bajo Cross Validation:  XGBoost (parámetros por defecto)\n",
            "Raíz del error cuadrático medio para test : 33592.22 (+/- 1535.32)\n",
            "R cuadrado para test : 0.87 (+/- 0.01)\n"
          ],
          "name": "stdout"
        }
      ]
    },
    {
      "cell_type": "markdown",
      "metadata": {
        "id": "cC2S9Iq-CvNO"
      },
      "source": [
        "### **B.01.02** Random Forest (argumentos por defecto)"
      ]
    },
    {
      "cell_type": "markdown",
      "metadata": {
        "id": "3G9vV41uCvNO"
      },
      "source": [
        "#### ----> Entrenamiento y evaluación"
      ]
    },
    {
      "cell_type": "code",
      "metadata": {
        "id": "rPvbYlrgCvNO"
      },
      "source": [
        "# Instanciaremos el modelo con sus caracteristicas por defecto\n",
        "RFR_Model = RandomForestRegressor()"
      ],
      "execution_count": 73,
      "outputs": []
    },
    {
      "cell_type": "code",
      "metadata": {
        "colab": {
          "base_uri": "https://localhost:8080/"
        },
        "id": "9nhWS7GxCvNP",
        "outputId": "c73da1fd-50da-4055-c47a-b3b791428535"
      },
      "source": [
        "# Corroboramos los hiperparametros que el modelo presenta\n",
        "RFR_Model"
      ],
      "execution_count": 74,
      "outputs": [
        {
          "output_type": "execute_result",
          "data": {
            "text/plain": [
              "RandomForestRegressor()"
            ]
          },
          "metadata": {
            "tags": []
          },
          "execution_count": 74
        }
      ]
    },
    {
      "cell_type": "code",
      "metadata": {
        "colab": {
          "base_uri": "https://localhost:8080/"
        },
        "id": "StTqfaKKCvNP",
        "outputId": "de2e2ed3-8c3b-4cf9-c149-7fa7fa64ed5e"
      },
      "source": [
        "# Hacemos que el modelo se entrene con el set de entrenamiento (X_train, y_train)\n",
        "RFR_Model.fit(X_train,y_train)"
      ],
      "execution_count": 75,
      "outputs": [
        {
          "output_type": "execute_result",
          "data": {
            "text/plain": [
              "RandomForestRegressor()"
            ]
          },
          "metadata": {
            "tags": []
          },
          "execution_count": 75
        }
      ]
    },
    {
      "cell_type": "code",
      "metadata": {
        "id": "TQfF0GEtCvNP"
      },
      "source": [
        "# Generamos la predicción con el modelo entrenado\n",
        "y_train_pred = RFR_Model.predict(X_train)\n",
        "y_test_pred= RFR_Model.predict(X_test)"
      ],
      "execution_count": 76,
      "outputs": []
    },
    {
      "cell_type": "code",
      "metadata": {
        "colab": {
          "base_uri": "https://localhost:8080/",
          "height": 0
        },
        "id": "OxVqHnd0CvNQ",
        "outputId": "41f62b5d-500f-415e-ef22-30acde385b75"
      },
      "source": [
        "# Evaluamos los resultados obtenidos por el modelo\n",
        "evaluar_modelo('Random Forest Regressor (parametros por defecto)', y_train, y_test, y_train_pred, y_test_pred)"
      ],
      "execution_count": 77,
      "outputs": [
        {
          "output_type": "stream",
          "text": [
            "El modelo a evaluar:  Random Forest Regressor (parametros por defecto)\n",
            "Raíz del error cuadrático medio en Train: 10951.314498765612\n",
            "Raíz del error cuadrático medio en Test: 26166.475656255116\n",
            "R cuadrado en Train: 0.9858403481119972\n",
            "R cuadrado en Test: 0.9201947136473125\n"
          ],
          "name": "stdout"
        },
        {
          "output_type": "display_data",
          "data": {
            "image/png": "[encoded data removed]",
            "text/plain": [
              "<Figure size 576x288 with 2 Axes>"
            ]
          },
          "metadata": {
            "tags": []
          }
        }
      ]
    },
    {
      "cell_type": "code",
      "metadata": {
        "id": "2FWXvXpgd0l6"
      },
      "source": [
        "# Almacenamos los resultados obtenidos por el modelo\n",
        "resultados_PY_02_RFR_Model = {'Modelo': ['Random Forest Regressor'], \n",
        "                              'RMSE_Train': [10963.78330981362], \n",
        "                              'RMSE_Test': [26194.483657392666], \n",
        "                              'R2_Train': [0.9858080863167111],\n",
        "                              'R2_Test': [0.9200237786825292]\n",
        "                              }"
      ],
      "execution_count": 78,
      "outputs": []
    },
    {
      "cell_type": "markdown",
      "metadata": {
        "id": "75BLzhsZCvNQ"
      },
      "source": [
        "#### ---> Cross Validation"
      ]
    },
    {
      "cell_type": "markdown",
      "metadata": {
        "id": "tiZZY4u-eQ5k"
      },
      "source": [
        "Mediante la técnica de Cross Validation corroboramos que el valor obtenido para las métricas es el valor representativo indiferente del conjunto de train y test seleccionado."
      ]
    },
    {
      "cell_type": "code",
      "metadata": {
        "colab": {
          "base_uri": "https://localhost:8080/"
        },
        "id": "2lesRnYbCvNQ",
        "outputId": "bab3869f-a1ed-4cbf-d3f1-783b038eb85a"
      },
      "source": [
        "CV_RFR_Model_results = cross_validate(RFR_Model, X_test, y_test, cv=5, scoring=['r2', 'neg_root_mean_squared_error'], return_train_score=True,  n_jobs=-1)\n",
        "CV_RFR_Model_results"
      ],
      "execution_count": 79,
      "outputs": [
        {
          "output_type": "execute_result",
          "data": {
            "text/plain": [
              "{'fit_time': array([10.75619841, 10.8561759 , 10.60165286, 10.68366623,  6.90572953]),\n",
              " 'score_time': array([0.15024757, 0.15829277, 0.14810228, 0.15495038, 0.123703  ]),\n",
              " 'test_neg_root_mean_squared_error': array([-31151.75666865, -31128.93201952, -30780.94391959, -30873.80138779,\n",
              "        -31696.50685332]),\n",
              " 'test_r2': array([0.88664355, 0.88654355, 0.88962268, 0.88854838, 0.88391153]),\n",
              " 'train_neg_root_mean_squared_error': array([-12325.703738  , -12139.95104309, -12274.09138349, -12213.04866305,\n",
              "        -12192.32248526]),\n",
              " 'train_r2': array([0.98230176, 0.98284069, 0.98243773, 0.98262797, 0.98263324])}"
            ]
          },
          "metadata": {
            "tags": []
          },
          "execution_count": 79
        }
      ]
    },
    {
      "cell_type": "code",
      "metadata": {
        "id": "HI2Er8_GCvNQ"
      },
      "source": [
        "CV_RFR_Model_R2 = CV_RFR_Model_results['test_r2']\n",
        "CV_RFR_Model_RMSE = CV_RFR_Model_results['test_neg_root_mean_squared_error']"
      ],
      "execution_count": 80,
      "outputs": []
    },
    {
      "cell_type": "code",
      "metadata": {
        "colab": {
          "base_uri": "https://localhost:8080/"
        },
        "id": "TWZqgdSVCvNQ",
        "outputId": "8b794521-2d44-4118-c5e4-3b09b747fe2c"
      },
      "source": [
        "print('Modelo evaluado bajo Cross Validation:  Random Forest Regressor (parametros por defecto)')\n",
        "print(\"Raíz del error cuadrático medio : %0.2f (+/- %0.2f)\" % (abs(CV_RFR_Model_RMSE.mean()), abs(CV_RFR_Model_RMSE.std()) * 2))\n",
        "print(\"R cuadrado : %0.2f (+/- %0.2f)\" % (abs(CV_RFR_Model_R2.mean()), abs(CV_RFR_Model_R2.std()) * 2))"
      ],
      "execution_count": 81,
      "outputs": [
        {
          "output_type": "stream",
          "text": [
            "Modelo evaluado bajo Cross Validation:  Random Forest Regressor (parametros por defecto)\n",
            "Raíz del error cuadrático medio : 31126.39 (+/- 638.01)\n",
            "R cuadrado : 0.89 (+/- 0.00)\n"
          ],
          "name": "stdout"
        }
      ]
    },
    {
      "cell_type": "markdown",
      "metadata": {
        "id": "KcoIbIcMFU9p"
      },
      "source": [
        "## **B. 02.** Modelos avanzados (hiperparámetros optimizados)"
      ]
    },
    {
      "cell_type": "markdown",
      "metadata": {
        "id": "epA8y4s3frO4"
      },
      "source": [
        "En la presente sección generaremos la optimización de hiperparámetros de los modelos Random Forest Regressor y XGBoost a partir de las técnicas de grilla, en específico Grid Search y Random Search. Los resultados serán evaluados empleando validación cruzada y se definirá el mejor modelo de cada tipo basado en los hiperparámetros optimizados."
      ]
    },
    {
      "cell_type": "markdown",
      "metadata": {
        "id": "ZzmgBv64bAFC"
      },
      "source": [
        "### **B.02.01.** XGBoost (argumentos optimizados)"
      ]
    },
    {
      "cell_type": "code",
      "metadata": {
        "id": "LjwAgwd_NFZl"
      },
      "source": [
        "# Definimos el modelo base a partir del cual haremos la optimización\n",
        "XGB_model_base = xgb.XGBRegressor()"
      ],
      "execution_count": 82,
      "outputs": []
    },
    {
      "cell_type": "code",
      "metadata": {
        "colab": {
          "base_uri": "https://localhost:8080/"
        },
        "id": "pldHyq9eNFXC",
        "outputId": "492981ce-a749-424f-f0ed-3d27b7cae4ae"
      },
      "source": [
        "# Definimos el conjunto de hiperparametros a partir del cual del cual harémos la optimización\n",
        "param_XGB_model_base = {'nthread':[1, 2, 3, 4, 5], \n",
        "              'objective':['reg:squarederror'],\n",
        "              'learning_rate': np.arange(.05, 1, .05),\n",
        "              'max_depth': np.arange(1,10),\n",
        "              'min_child_weight': [3, 4, 5, 6, 7, 8],\n",
        "              'subsample': np.arange(.05, 1, .05),\n",
        "              'colsample_bytree': np.arange(.05, 1, .05),\n",
        "              'n_estimators': [200, 300, 400, 500, 600]}\n",
        "param_XGB_model_base"
      ],
      "execution_count": 83,
      "outputs": [
        {
          "output_type": "execute_result",
          "data": {
            "text/plain": [
              "{'colsample_bytree': array([0.05, 0.1 , 0.15, 0.2 , 0.25, 0.3 , 0.35, 0.4 , 0.45, 0.5 , 0.55,\n",
              "        0.6 , 0.65, 0.7 , 0.75, 0.8 , 0.85, 0.9 , 0.95]),\n",
              " 'learning_rate': array([0.05, 0.1 , 0.15, 0.2 , 0.25, 0.3 , 0.35, 0.4 , 0.45, 0.5 , 0.55,\n",
              "        0.6 , 0.65, 0.7 , 0.75, 0.8 , 0.85, 0.9 , 0.95]),\n",
              " 'max_depth': array([1, 2, 3, 4, 5, 6, 7, 8, 9]),\n",
              " 'min_child_weight': [3, 4, 5, 6, 7, 8],\n",
              " 'n_estimators': [200, 300, 400, 500, 600],\n",
              " 'nthread': [1, 2, 3, 4, 5],\n",
              " 'objective': ['reg:squarederror'],\n",
              " 'subsample': array([0.05, 0.1 , 0.15, 0.2 , 0.25, 0.3 , 0.35, 0.4 , 0.45, 0.5 , 0.55,\n",
              "        0.6 , 0.65, 0.7 , 0.75, 0.8 , 0.85, 0.9 , 0.95])}"
            ]
          },
          "metadata": {
            "tags": []
          },
          "execution_count": 83
        }
      ]
    },
    {
      "cell_type": "code",
      "metadata": {
        "id": "ThbB_CP9NFVj"
      },
      "source": [
        "# A partir del modelo base y del conjunto de parametros definimos a través de una busqueda aleatoria con 50 iteraciones, \n",
        "# los parametros a ser tenidos en cuanta para cada uno de los modelos.\n",
        "XGB_model_RS = RandomizedSearchCV(XGB_model_base, param_XGB_model_base,n_iter=50, random_state=0, cv=5,\n",
        "                            scoring='r2', verbose=True, n_jobs=-1, refit=True)"
      ],
      "execution_count": 84,
      "outputs": []
    },
    {
      "cell_type": "code",
      "metadata": {
        "colab": {
          "base_uri": "https://localhost:8080/"
        },
        "id": "BFLRIrBXNFSK",
        "outputId": "52def40e-31dd-4c79-eae3-7b4e499ab27a"
      },
      "source": [
        "# Generamos el entrenamiento del conjunto de modelos definidos en la busqueda aleatoria\n",
        "XGB_model_RS.fit(X_train, y_train,\n",
        "        eval_set=[(X_train, y_train), (X_test, y_test)],\n",
        "        early_stopping_rounds=50,\n",
        "        verbose=True)"
      ],
      "execution_count": 85,
      "outputs": [
        {
          "output_type": "stream",
          "text": [
            "Fitting 5 folds for each of 50 candidates, totalling 250 fits\n",
            "[0]\tvalidation_0-rmse:148566.87500\tvalidation_1-rmse:149492.93750\n",
            "[1]\tvalidation_0-rmse:108482.60156\tvalidation_1-rmse:109366.30469\n",
            "[2]\tvalidation_0-rmse:81705.17969\tvalidation_1-rmse:82597.98438\n",
            "[3]\tvalidation_0-rmse:63402.39453\tvalidation_1-rmse:64457.32422\n",
            "[4]\tvalidation_0-rmse:50915.18359\tvalidation_1-rmse:52064.82031\n",
            "[5]\tvalidation_0-rmse:43347.44141\tvalidation_1-rmse:44759.83203\n",
            "[6]\tvalidation_0-rmse:38267.56250\tvalidation_1-rmse:40015.60156\n",
            "[7]\tvalidation_0-rmse:35552.92578\tvalidation_1-rmse:37467.57422\n",
            "[8]\tvalidation_0-rmse:33957.42188\tvalidation_1-rmse:36012.89453\n",
            "[9]\tvalidation_0-rmse:32530.84180\tvalidation_1-rmse:34828.50000\n",
            "[10]\tvalidation_0-rmse:31762.52148\tvalidation_1-rmse:34296.20312\n",
            "[11]\tvalidation_0-rmse:31018.85742\tvalidation_1-rmse:33761.17969\n",
            "[12]\tvalidation_0-rmse:30606.64258\tvalidation_1-rmse:33499.69141\n",
            "[13]\tvalidation_0-rmse:30299.40820\tvalidation_1-rmse:33261.03906\n",
            "[14]\tvalidation_0-rmse:30077.79688\tvalidation_1-rmse:33133.83984\n",
            "[15]\tvalidation_0-rmse:29934.75977\tvalidation_1-rmse:33015.51172\n",
            "[16]\tvalidation_0-rmse:29676.66602\tvalidation_1-rmse:32880.28906\n",
            "[17]\tvalidation_0-rmse:29434.45898\tvalidation_1-rmse:32765.60352\n",
            "[18]\tvalidation_0-rmse:29341.85938\tvalidation_1-rmse:32708.42773\n",
            "[19]\tvalidation_0-rmse:29202.02148\tvalidation_1-rmse:32612.67969\n",
            "[20]\tvalidation_0-rmse:29084.23828\tvalidation_1-rmse:32558.26172\n",
            "[21]\tvalidation_0-rmse:28778.75977\tvalidation_1-rmse:32375.57812\n",
            "[22]\tvalidation_0-rmse:28648.30664\tvalidation_1-rmse:32329.43359\n",
            "[23]\tvalidation_0-rmse:28570.67773\tvalidation_1-rmse:32281.94922\n",
            "[24]\tvalidation_0-rmse:28337.77930\tvalidation_1-rmse:32147.94336\n",
            "[25]\tvalidation_0-rmse:28009.69336\tvalidation_1-rmse:31962.06055\n",
            "[26]\tvalidation_0-rmse:27676.76172\tvalidation_1-rmse:31795.18164\n",
            "[27]\tvalidation_0-rmse:27571.27539\tvalidation_1-rmse:31730.80859\n",
            "[28]\tvalidation_0-rmse:27406.49805\tvalidation_1-rmse:31630.93750\n",
            "[29]\tvalidation_0-rmse:27151.51953\tvalidation_1-rmse:31492.00000\n",
            "[30]\tvalidation_0-rmse:27076.48633\tvalidation_1-rmse:31456.09961\n",
            "[31]\tvalidation_0-rmse:26912.93750\tvalidation_1-rmse:31365.18555\n",
            "[32]\tvalidation_0-rmse:26764.54492\tvalidation_1-rmse:31245.76758\n",
            "[33]\tvalidation_0-rmse:26601.79883\tvalidation_1-rmse:31183.46484\n",
            "[34]\tvalidation_0-rmse:26529.66797\tvalidation_1-rmse:31133.16797\n",
            "[35]\tvalidation_0-rmse:26390.12109\tvalidation_1-rmse:31075.33203\n",
            "[36]\tvalidation_0-rmse:26298.12891\tvalidation_1-rmse:30999.48633\n",
            "[37]\tvalidation_0-rmse:26223.42188\tvalidation_1-rmse:30974.80469\n",
            "[38]\tvalidation_0-rmse:26160.10547\tvalidation_1-rmse:30945.38477\n",
            "[39]\tvalidation_0-rmse:26063.37109\tvalidation_1-rmse:30903.95508\n",
            "[40]\tvalidation_0-rmse:25896.17773\tvalidation_1-rmse:30788.57812\n",
            "[41]\tvalidation_0-rmse:25785.69922\tvalidation_1-rmse:30743.88281\n",
            "[42]\tvalidation_0-rmse:25644.76758\tvalidation_1-rmse:30686.57227\n",
            "[43]\tvalidation_0-rmse:25527.31445\tvalidation_1-rmse:30631.40430\n",
            "[44]\tvalidation_0-rmse:25375.34766\tvalidation_1-rmse:30571.84375\n",
            "[45]\tvalidation_0-rmse:25276.05078\tvalidation_1-rmse:30515.04688\n",
            "[46]\tvalidation_0-rmse:25248.40430\tvalidation_1-rmse:30509.38281\n",
            "[47]\tvalidation_0-rmse:25169.10938\tvalidation_1-rmse:30479.52734\n",
            "[48]\tvalidation_0-rmse:25129.88086\tvalidation_1-rmse:30471.59180\n",
            "[49]\tvalidation_0-rmse:24933.38672\tvalidation_1-rmse:30373.31055\n",
            "[50]\tvalidation_0-rmse:24819.75977\tvalidation_1-rmse:30341.17969\n",
            "[51]\tvalidation_0-rmse:24733.06250\tvalidation_1-rmse:30317.24023\n",
            "[52]\tvalidation_0-rmse:24549.85938\tvalidation_1-rmse:30220.07031\n",
            "[53]\tvalidation_0-rmse:24400.80469\tvalidation_1-rmse:30138.44922\n",
            "[54]\tvalidation_0-rmse:24301.85938\tvalidation_1-rmse:30097.41797\n",
            "[55]\tvalidation_0-rmse:24234.74805\tvalidation_1-rmse:30081.99219\n",
            "[56]\tvalidation_0-rmse:24061.26367\tvalidation_1-rmse:30004.27148\n",
            "[57]\tvalidation_0-rmse:23996.21875\tvalidation_1-rmse:29981.55664\n",
            "[58]\tvalidation_0-rmse:23941.10547\tvalidation_1-rmse:29967.78906\n",
            "[59]\tvalidation_0-rmse:23864.60156\tvalidation_1-rmse:29956.25977\n",
            "[60]\tvalidation_0-rmse:23770.10547\tvalidation_1-rmse:29934.07617\n",
            "[61]\tvalidation_0-rmse:23722.31250\tvalidation_1-rmse:29906.21680\n",
            "[62]\tvalidation_0-rmse:23640.38672\tvalidation_1-rmse:29902.48438\n",
            "[63]\tvalidation_0-rmse:23476.83398\tvalidation_1-rmse:29835.39844\n",
            "[64]\tvalidation_0-rmse:23426.29102\tvalidation_1-rmse:29808.92383\n",
            "[65]\tvalidation_0-rmse:23377.94141\tvalidation_1-rmse:29811.94141\n",
            "[66]\tvalidation_0-rmse:23266.63477\tvalidation_1-rmse:29784.59375\n",
            "[67]\tvalidation_0-rmse:23220.36523\tvalidation_1-rmse:29785.44727\n",
            "[68]\tvalidation_0-rmse:23199.23828\tvalidation_1-rmse:29790.98047\n",
            "[69]\tvalidation_0-rmse:23124.46680\tvalidation_1-rmse:29759.81250\n",
            "[70]\tvalidation_0-rmse:23015.36133\tvalidation_1-rmse:29719.02539\n",
            "[71]\tvalidation_0-rmse:22936.10156\tvalidation_1-rmse:29693.77344\n",
            "[72]\tvalidation_0-rmse:22827.87305\tvalidation_1-rmse:29634.12891\n",
            "[73]\tvalidation_0-rmse:22608.14258\tvalidation_1-rmse:29536.39844\n",
            "[74]\tvalidation_0-rmse:22476.46289\tvalidation_1-rmse:29461.62695\n",
            "[75]\tvalidation_0-rmse:22432.19727\tvalidation_1-rmse:29452.64062\n",
            "[76]\tvalidation_0-rmse:22398.86133\tvalidation_1-rmse:29443.42969\n",
            "[77]\tvalidation_0-rmse:22340.90430\tvalidation_1-rmse:29417.17188\n",
            "[78]\tvalidation_0-rmse:22258.49805\tvalidation_1-rmse:29385.04297\n",
            "[79]\tvalidation_0-rmse:22205.88672\tvalidation_1-rmse:29373.44727\n",
            "[80]\tvalidation_0-rmse:22133.77734\tvalidation_1-rmse:29345.20898\n",
            "[81]\tvalidation_0-rmse:22078.05664\tvalidation_1-rmse:29324.00586\n",
            "[82]\tvalidation_0-rmse:21999.10547\tvalidation_1-rmse:29301.11133\n",
            "[83]\tvalidation_0-rmse:21950.84180\tvalidation_1-rmse:29263.44922\n",
            "[84]\tvalidation_0-rmse:21908.04297\tvalidation_1-rmse:29264.44922\n",
            "[85]\tvalidation_0-rmse:21862.60938\tvalidation_1-rmse:29245.05469\n",
            "[86]\tvalidation_0-rmse:21833.75195\tvalidation_1-rmse:29234.39062\n",
            "[87]\tvalidation_0-rmse:21713.12305\tvalidation_1-rmse:29205.67773\n",
            "[88]\tvalidation_0-rmse:21685.39258\tvalidation_1-rmse:29202.60352\n",
            "[89]\tvalidation_0-rmse:21567.33984\tvalidation_1-rmse:29170.68359\n",
            "[90]\tvalidation_0-rmse:21538.66016\tvalidation_1-rmse:29164.03320\n",
            "[91]\tvalidation_0-rmse:21460.34766\tvalidation_1-rmse:29133.46875\n",
            "[92]\tvalidation_0-rmse:21422.50195\tvalidation_1-rmse:29124.42188\n",
            "[93]\tvalidation_0-rmse:21380.67773\tvalidation_1-rmse:29115.28516\n",
            "[94]\tvalidation_0-rmse:21277.58789\tvalidation_1-rmse:29091.05664\n",
            "[95]\tvalidation_0-rmse:21203.39453\tvalidation_1-rmse:29060.73438\n",
            "[96]\tvalidation_0-rmse:21155.00977\tvalidation_1-rmse:29034.52539\n",
            "[97]\tvalidation_0-rmse:21091.67188\tvalidation_1-rmse:29006.05859\n",
            "[98]\tvalidation_0-rmse:21059.42578\tvalidation_1-rmse:28987.35938\n",
            "[99]\tvalidation_0-rmse:20974.61328\tvalidation_1-rmse:28967.73438\n",
            "[100]\tvalidation_0-rmse:20875.57617\tvalidation_1-rmse:28972.70703\n",
            "[101]\tvalidation_0-rmse:20791.78906\tvalidation_1-rmse:28933.58008\n",
            "[102]\tvalidation_0-rmse:20768.42188\tvalidation_1-rmse:28912.43555\n",
            "[103]\tvalidation_0-rmse:20591.45898\tvalidation_1-rmse:28828.09375\n",
            "[104]\tvalidation_0-rmse:20469.95898\tvalidation_1-rmse:28823.14453\n",
            "[105]\tvalidation_0-rmse:20429.48047\tvalidation_1-rmse:28793.49609\n",
            "[106]\tvalidation_0-rmse:20378.93750\tvalidation_1-rmse:28776.71680\n",
            "[107]\tvalidation_0-rmse:20286.55469\tvalidation_1-rmse:28739.17188\n",
            "[108]\tvalidation_0-rmse:20263.22852\tvalidation_1-rmse:28727.01367\n",
            "[109]\tvalidation_0-rmse:20191.08789\tvalidation_1-rmse:28703.30273\n",
            "[110]\tvalidation_0-rmse:20101.83203\tvalidation_1-rmse:28681.97461\n",
            "[111]\tvalidation_0-rmse:20062.61523\tvalidation_1-rmse:28684.41016\n",
            "[112]\tvalidation_0-rmse:20012.67773\tvalidation_1-rmse:28668.36719\n",
            "[113]\tvalidation_0-rmse:19931.46289\tvalidation_1-rmse:28637.76562\n",
            "[114]\tvalidation_0-rmse:19888.68945\tvalidation_1-rmse:28624.32617\n",
            "[115]\tvalidation_0-rmse:19786.12109\tvalidation_1-rmse:28572.11133\n",
            "[116]\tvalidation_0-rmse:19761.79297\tvalidation_1-rmse:28558.25977\n",
            "[117]\tvalidation_0-rmse:19729.02344\tvalidation_1-rmse:28556.52734\n",
            "[118]\tvalidation_0-rmse:19703.64648\tvalidation_1-rmse:28542.15039\n",
            "[119]\tvalidation_0-rmse:19685.61328\tvalidation_1-rmse:28546.52734\n",
            "[120]\tvalidation_0-rmse:19596.90039\tvalidation_1-rmse:28523.13672\n",
            "[121]\tvalidation_0-rmse:19570.45312\tvalidation_1-rmse:28513.95898\n",
            "[122]\tvalidation_0-rmse:19536.72266\tvalidation_1-rmse:28495.44141\n",
            "[123]\tvalidation_0-rmse:19472.75586\tvalidation_1-rmse:28474.73047\n",
            "[124]\tvalidation_0-rmse:19407.95703\tvalidation_1-rmse:28452.14648\n",
            "[125]\tvalidation_0-rmse:19361.65430\tvalidation_1-rmse:28442.39062\n",
            "[126]\tvalidation_0-rmse:19311.18555\tvalidation_1-rmse:28432.66992\n",
            "[127]\tvalidation_0-rmse:19286.74023\tvalidation_1-rmse:28428.78516\n",
            "[128]\tvalidation_0-rmse:19180.75391\tvalidation_1-rmse:28383.62305\n",
            "[129]\tvalidation_0-rmse:19151.42578\tvalidation_1-rmse:28370.02734\n",
            "[130]\tvalidation_0-rmse:19116.33203\tvalidation_1-rmse:28346.81641\n",
            "[131]\tvalidation_0-rmse:19058.75391\tvalidation_1-rmse:28346.49805\n",
            "[132]\tvalidation_0-rmse:19011.67383\tvalidation_1-rmse:28335.91406\n",
            "[133]\tvalidation_0-rmse:18974.79883\tvalidation_1-rmse:28310.55078\n",
            "[134]\tvalidation_0-rmse:18921.12305\tvalidation_1-rmse:28289.48047\n",
            "[135]\tvalidation_0-rmse:18857.93750\tvalidation_1-rmse:28266.99414\n",
            "[136]\tvalidation_0-rmse:18803.18945\tvalidation_1-rmse:28238.40430\n",
            "[137]\tvalidation_0-rmse:18770.72656\tvalidation_1-rmse:28235.62305\n",
            "[138]\tvalidation_0-rmse:18751.02539\tvalidation_1-rmse:28234.66406\n",
            "[139]\tvalidation_0-rmse:18724.16406\tvalidation_1-rmse:28220.75000\n",
            "[140]\tvalidation_0-rmse:18720.75977\tvalidation_1-rmse:28220.14062\n",
            "[141]\tvalidation_0-rmse:18686.64844\tvalidation_1-rmse:28218.29883\n",
            "[142]\tvalidation_0-rmse:18636.60352\tvalidation_1-rmse:28210.39062\n",
            "[143]\tvalidation_0-rmse:18605.74023\tvalidation_1-rmse:28202.40820\n",
            "[144]\tvalidation_0-rmse:18592.05859\tvalidation_1-rmse:28198.60547\n",
            "[145]\tvalidation_0-rmse:18542.44141\tvalidation_1-rmse:28181.44727\n",
            "[146]\tvalidation_0-rmse:18497.61719\tvalidation_1-rmse:28190.45117\n",
            "[147]\tvalidation_0-rmse:18452.06445\tvalidation_1-rmse:28173.33984\n",
            "[148]\tvalidation_0-rmse:18423.76562\tvalidation_1-rmse:28155.62891\n",
            "[149]\tvalidation_0-rmse:18356.08984\tvalidation_1-rmse:28133.50977\n",
            "[150]\tvalidation_0-rmse:18304.60352\tvalidation_1-rmse:28121.97656\n",
            "[151]\tvalidation_0-rmse:18287.94141\tvalidation_1-rmse:28109.16211\n",
            "[152]\tvalidation_0-rmse:18223.22656\tvalidation_1-rmse:28087.88867\n",
            "[153]\tvalidation_0-rmse:18211.41992\tvalidation_1-rmse:28084.58008\n",
            "[154]\tvalidation_0-rmse:18154.94141\tvalidation_1-rmse:28069.81250\n",
            "[155]\tvalidation_0-rmse:18103.92773\tvalidation_1-rmse:28053.54492\n",
            "[156]\tvalidation_0-rmse:17978.38086\tvalidation_1-rmse:28003.96680\n",
            "[157]\tvalidation_0-rmse:17916.13281\tvalidation_1-rmse:27991.22070\n",
            "[158]\tvalidation_0-rmse:17885.93945\tvalidation_1-rmse:27984.74805\n",
            "[159]\tvalidation_0-rmse:17862.58789\tvalidation_1-rmse:27972.07812\n",
            "[160]\tvalidation_0-rmse:17827.75000\tvalidation_1-rmse:27959.97266\n",
            "[161]\tvalidation_0-rmse:17763.87891\tvalidation_1-rmse:27941.08594\n",
            "[162]\tvalidation_0-rmse:17739.67969\tvalidation_1-rmse:27935.86328\n",
            "[163]\tvalidation_0-rmse:17700.77148\tvalidation_1-rmse:27921.49414\n",
            "[164]\tvalidation_0-rmse:17636.24805\tvalidation_1-rmse:27896.46680\n",
            "[165]\tvalidation_0-rmse:17606.27734\tvalidation_1-rmse:27888.37500\n",
            "[166]\tvalidation_0-rmse:17563.27539\tvalidation_1-rmse:27870.63672\n",
            "[167]\tvalidation_0-rmse:17531.17578\tvalidation_1-rmse:27865.91992\n",
            "[168]\tvalidation_0-rmse:17491.12891\tvalidation_1-rmse:27855.33203\n",
            "[169]\tvalidation_0-rmse:17437.12695\tvalidation_1-rmse:27837.57617\n",
            "[170]\tvalidation_0-rmse:17400.20703\tvalidation_1-rmse:27822.20898\n",
            "[171]\tvalidation_0-rmse:17333.40820\tvalidation_1-rmse:27811.33008\n",
            "[172]\tvalidation_0-rmse:17322.27148\tvalidation_1-rmse:27806.21094\n",
            "[173]\tvalidation_0-rmse:17277.63672\tvalidation_1-rmse:27803.89844\n",
            "[174]\tvalidation_0-rmse:17244.44141\tvalidation_1-rmse:27797.59180\n",
            "[175]\tvalidation_0-rmse:17203.47070\tvalidation_1-rmse:27795.47266\n",
            "[176]\tvalidation_0-rmse:17147.66992\tvalidation_1-rmse:27789.07031\n",
            "[177]\tvalidation_0-rmse:17039.37500\tvalidation_1-rmse:27758.25000\n",
            "[178]\tvalidation_0-rmse:16980.39648\tvalidation_1-rmse:27752.35938\n",
            "[179]\tvalidation_0-rmse:16912.99023\tvalidation_1-rmse:27733.63477\n",
            "[180]\tvalidation_0-rmse:16901.75977\tvalidation_1-rmse:27730.45508\n",
            "[181]\tvalidation_0-rmse:16876.96289\tvalidation_1-rmse:27718.66602\n",
            "[182]\tvalidation_0-rmse:16850.72266\tvalidation_1-rmse:27714.73047\n",
            "[183]\tvalidation_0-rmse:16821.60547\tvalidation_1-rmse:27712.56055\n",
            "[184]\tvalidation_0-rmse:16784.69531\tvalidation_1-rmse:27692.65820\n",
            "[185]\tvalidation_0-rmse:16767.05859\tvalidation_1-rmse:27693.22852\n",
            "[186]\tvalidation_0-rmse:16749.54688\tvalidation_1-rmse:27680.02148\n",
            "[187]\tvalidation_0-rmse:16715.91602\tvalidation_1-rmse:27666.86719\n",
            "[188]\tvalidation_0-rmse:16680.98242\tvalidation_1-rmse:27676.60938\n",
            "[189]\tvalidation_0-rmse:16630.42188\tvalidation_1-rmse:27668.92969\n",
            "[190]\tvalidation_0-rmse:16580.43359\tvalidation_1-rmse:27659.49609\n",
            "[191]\tvalidation_0-rmse:16560.23047\tvalidation_1-rmse:27651.23438\n",
            "[192]\tvalidation_0-rmse:16532.34570\tvalidation_1-rmse:27638.26562\n",
            "[193]\tvalidation_0-rmse:16509.78320\tvalidation_1-rmse:27641.34961\n",
            "[194]\tvalidation_0-rmse:16498.88672\tvalidation_1-rmse:27643.50195\n",
            "[195]\tvalidation_0-rmse:16465.66992\tvalidation_1-rmse:27641.25195\n",
            "[196]\tvalidation_0-rmse:16418.21484\tvalidation_1-rmse:27624.14453\n",
            "[197]\tvalidation_0-rmse:16374.22363\tvalidation_1-rmse:27612.48047\n",
            "[198]\tvalidation_0-rmse:16337.11523\tvalidation_1-rmse:27607.68359\n",
            "[199]\tvalidation_0-rmse:16293.75781\tvalidation_1-rmse:27599.27344\n"
          ],
          "name": "stdout"
        },
        {
          "output_type": "execute_result",
          "data": {
            "text/plain": [
              "RandomizedSearchCV(cv=5,\n",
              "                   estimator=XGBRegressor(base_score=None, booster=None,\n",
              "                                          colsample_bylevel=None,\n",
              "                                          colsample_bynode=None,\n",
              "                                          colsample_bytree=None, gamma=None,\n",
              "                                          gpu_id=None, importance_type='gain',\n",
              "                                          interaction_constraints=None,\n",
              "                                          learning_rate=None,\n",
              "                                          max_delta_step=None, max_depth=None,\n",
              "                                          min_child_weight=None, missing=nan,\n",
              "                                          monotone_constraints=None,\n",
              "                                          n_estimators=100, n...\n",
              "       0.6 , 0.65, 0.7 , 0.75, 0.8 , 0.85, 0.9 , 0.95]),\n",
              "                                        'max_depth': array([1, 2, 3, 4, 5, 6, 7, 8, 9]),\n",
              "                                        'min_child_weight': [3, 4, 5, 6, 7, 8],\n",
              "                                        'n_estimators': [200, 300, 400, 500,\n",
              "                                                         600],\n",
              "                                        'nthread': [1, 2, 3, 4, 5],\n",
              "                                        'objective': ['reg:squarederror'],\n",
              "                                        'subsample': array([0.05, 0.1 , 0.15, 0.2 , 0.25, 0.3 , 0.35, 0.4 , 0.45, 0.5 , 0.55,\n",
              "       0.6 , 0.65, 0.7 , 0.75, 0.8 , 0.85, 0.9 , 0.95])},\n",
              "                   random_state=0, scoring='r2', verbose=True)"
            ]
          },
          "metadata": {
            "tags": []
          },
          "execution_count": 85
        }
      ]
    },
    {
      "cell_type": "code",
      "metadata": {
        "colab": {
          "base_uri": "https://localhost:8080/"
        },
        "id": "rg2dgcjWNFQU",
        "outputId": "466323b9-8d96-4bbd-b462-b3183f35d6a4"
      },
      "source": [
        "# Evaluamos cual fue el mejor resultado obtenido para la métrica definida\n",
        "XGB_model_RS.best_score_"
      ],
      "execution_count": 86,
      "outputs": [
        {
          "output_type": "execute_result",
          "data": {
            "text/plain": [
              "0.9000048957872375"
            ]
          },
          "metadata": {
            "tags": []
          },
          "execution_count": 86
        }
      ]
    },
    {
      "cell_type": "code",
      "metadata": {
        "colab": {
          "base_uri": "https://localhost:8080/"
        },
        "id": "_KZLi-ZtNFO3",
        "outputId": "3406f38c-7c86-4b9a-95f1-879c0579226a"
      },
      "source": [
        "# Obtenemos los hiperparametros del modelo que presentó el mejor resultado para la métrica\n",
        "XGB_model_RS.best_estimator_"
      ],
      "execution_count": 87,
      "outputs": [
        {
          "output_type": "execute_result",
          "data": {
            "text/plain": [
              "XGBRegressor(base_score=0.5, booster='gbtree', colsample_bylevel=1,\n",
              "             colsample_bynode=1, colsample_bytree=0.7500000000000001, gamma=0,\n",
              "             gpu_id=-1, importance_type='gain', interaction_constraints='',\n",
              "             learning_rate=0.3, max_delta_step=0, max_depth=9,\n",
              "             min_child_weight=6, missing=nan, monotone_constraints='()',\n",
              "             n_estimators=200, n_jobs=5, nthread=5, num_parallel_tree=1,\n",
              "             random_state=0, reg_alpha=0, reg_lambda=1, scale_pos_weight=1,\n",
              "             subsample=0.6500000000000001, tree_method='exact',\n",
              "             validate_parameters=1, verbosity=None)"
            ]
          },
          "metadata": {
            "tags": []
          },
          "execution_count": 87
        }
      ]
    },
    {
      "cell_type": "code",
      "metadata": {
        "colab": {
          "base_uri": "https://localhost:8080/"
        },
        "id": "GTcKiO5mu1WF",
        "outputId": "4be5228f-3142-4de0-ed17-5f01328197ea"
      },
      "source": [
        "# Consultamos la iteración para la cual el modelo presentó el mejor resultado para la métrica\n",
        "best_score = np.argmax(XGB_model_RS.cv_results_['mean_test_score'])\n",
        "best_score"
      ],
      "execution_count": 88,
      "outputs": [
        {
          "output_type": "execute_result",
          "data": {
            "text/plain": [
              "46"
            ]
          },
          "metadata": {
            "tags": []
          },
          "execution_count": 88
        }
      ]
    },
    {
      "cell_type": "code",
      "metadata": {
        "colab": {
          "base_uri": "https://localhost:8080/"
        },
        "id": "F03BO6VSNFLJ",
        "outputId": "8fcba5d2-5262-4476-9609-579c30b86566"
      },
      "source": [
        "# Imprimimos los resultados obtenidos para el mejor modelo así como los hiperparametros elegidos dela grilla \n",
        "print('mean_test_f1', XGB_model_RS.cv_results_['mean_test_score'][best_score])\n",
        "print('params', XGB_model_RS.cv_results_['params'][best_score])"
      ],
      "execution_count": 89,
      "outputs": [
        {
          "output_type": "stream",
          "text": [
            "mean_test_f1 0.9000048957872375\n",
            "params {'subsample': 0.6500000000000001, 'objective': 'reg:squarederror', 'nthread': 5, 'n_estimators': 200, 'min_child_weight': 6, 'max_depth': 9, 'learning_rate': 0.3, 'colsample_bytree': 0.7500000000000001}\n"
          ],
          "name": "stdout"
        }
      ]
    },
    {
      "cell_type": "code",
      "metadata": {
        "id": "1lqIRuYlNFJI"
      },
      "source": [
        "# Generamos la predicción con el modelo que mejor métrica presento\n",
        "y_train_pred = XGB_model_RS.predict(X_train)\n",
        "y_test_pred= XGB_model_RS.predict(X_test)"
      ],
      "execution_count": 90,
      "outputs": []
    },
    {
      "cell_type": "code",
      "metadata": {
        "id": "8uAykj2UNFF2",
        "outputId": "a96356f6-0acf-43c4-8c2d-420e6cbe76bc",
        "colab": {
          "base_uri": "https://localhost:8080/",
          "height": 384
        }
      },
      "source": [
        "# Evaluamos los resultados obtenidos por el mejor modelo\n",
        "evaluar_modelo('XGBoost optimizado', y_train, y_test, y_train_pred, y_test_pred)"
      ],
      "execution_count": 91,
      "outputs": [
        {
          "output_type": "stream",
          "text": [
            "El modelo a evaluar:  XGBoost optimizado\n",
            "Raíz del error cuadrático medio en Train: 16293.760700252544\n",
            "Raíz del error cuadrático medio en Test: 27599.2807844193\n",
            "R cuadrado en Train: 0.9686553993120743\n",
            "R cuadrado en Test: 0.911215587266194\n"
          ],
          "name": "stdout"
        },
        {
          "output_type": "display_data",
          "data": {
            "image/png": "[encoded data removed]",
            "text/plain": [
              "<Figure size 576x288 with 2 Axes>"
            ]
          },
          "metadata": {
            "tags": []
          }
        }
      ]
    },
    {
      "cell_type": "code",
      "metadata": {
        "id": "KDiZgT31l7ZQ"
      },
      "source": [
        "# Almacenamos los resultados obtenidos por el modelo\n",
        "resultados_PY_02_XGB_model_RS = {'Modelo': ['XGBoost optimizado'], \n",
        "                              'RMSE_Train': [1.652518335588], \n",
        "                              'RMSE_Test': [1.555797713354], \n",
        "                              'R2_Train': [1],\n",
        "                              'R2_Test': [1]\n",
        "                              }"
      ],
      "execution_count": 92,
      "outputs": []
    },
    {
      "cell_type": "code",
      "metadata": {
        "id": "rLpvhH3QqhkZ"
      },
      "source": [
        "# Guardado del modelo ya entrenado\n",
        "path_XGB_model_RS = '/content/drive/MyDrive/Colab Notebooks/00_Acamica/XGB_model_RS.sav'\n",
        "pickle.dump(XGB_model_RS, open(path_XGB_model_RS, 'wb'))"
      ],
      "execution_count": 93,
      "outputs": []
    },
    {
      "cell_type": "markdown",
      "metadata": {
        "id": "QzUkjDpvIw5Q"
      },
      "source": [
        "### **B.02.02** Random Forest Regressor (argumentos optimizados)"
      ]
    },
    {
      "cell_type": "code",
      "metadata": {
        "id": "EhiHc2luIw5R"
      },
      "source": [
        "# Definimos el modelo base a partir del cual haremos la optimización\n",
        "RFR_model_base = RandomForestRegressor()"
      ],
      "execution_count": 94,
      "outputs": []
    },
    {
      "cell_type": "code",
      "metadata": {
        "id": "JHl-GHuQIw5R",
        "outputId": "dca459e3-f5d7-40d4-a66f-e0a092abc75c",
        "colab": {
          "base_uri": "https://localhost:8080/"
        }
      },
      "source": [
        "# Definimos el conjunto de hiperparametros a partir del cual del cual harémos la optimización\n",
        "param_RFR_model_base = {'bootstrap': [True, False],\n",
        "            'max_depth': [10, 100],\n",
        "            'max_features': ['auto', 'sqrt'],\n",
        "            'n_estimators': [200, 1000]}\n",
        "param_RFR_model_base"
      ],
      "execution_count": 95,
      "outputs": [
        {
          "output_type": "execute_result",
          "data": {
            "text/plain": [
              "{'bootstrap': [True, False],\n",
              " 'max_depth': [10, 100],\n",
              " 'max_features': ['auto', 'sqrt'],\n",
              " 'n_estimators': [200, 1000]}"
            ]
          },
          "metadata": {
            "tags": []
          },
          "execution_count": 95
        }
      ]
    },
    {
      "cell_type": "code",
      "metadata": {
        "id": "Vqd8e_LHIw5S"
      },
      "source": [
        "# A partir del modelo base y del conjunto de parametros definimos a través de una busqueda por grilla \n",
        "# los parametros a ser tenidos en cuanta para cada uno de los modelos.\n",
        "RFR_model_RS = RandomizedSearchCV(RFR_model_base, param_RFR_model_base,  random_state=0, cv=5,\n",
        "                            scoring='r2', verbose=True, n_jobs=-1, refit=True)"
      ],
      "execution_count": 96,
      "outputs": []
    },
    {
      "cell_type": "code",
      "metadata": {
        "id": "6X088DZsIw5S",
        "outputId": "48eaea29-b8cd-4748-9ad2-7f232a6fb904",
        "colab": {
          "base_uri": "https://localhost:8080/"
        }
      },
      "source": [
        "# Generamos el entrenamiento del conjunto de modelos definidos en la busqueda por grilla\n",
        "RFR_model_RS.fit(X_train, y_train)"
      ],
      "execution_count": 97,
      "outputs": [
        {
          "output_type": "stream",
          "text": [
            "Fitting 5 folds for each of 10 candidates, totalling 50 fits\n"
          ],
          "name": "stdout"
        },
        {
          "output_type": "execute_result",
          "data": {
            "text/plain": [
              "RandomizedSearchCV(cv=5, estimator=RandomForestRegressor(), n_jobs=-1,\n",
              "                   param_distributions={'bootstrap': [True, False],\n",
              "                                        'max_depth': [10, 100],\n",
              "                                        'max_features': ['auto', 'sqrt'],\n",
              "                                        'n_estimators': [200, 1000]},\n",
              "                   random_state=0, scoring='r2', verbose=True)"
            ]
          },
          "metadata": {
            "tags": []
          },
          "execution_count": 97
        }
      ]
    },
    {
      "cell_type": "code",
      "metadata": {
        "id": "sMRm7AiSpVK2",
        "outputId": "9a286375-8b81-43e4-cd73-d04e8754185a",
        "colab": {
          "base_uri": "https://localhost:8080/"
        }
      },
      "source": [
        "# Evaluamos cual fue el mejor resultado obtenido para la métrica definida\n",
        "RFR_model_RS.best_score_"
      ],
      "execution_count": 98,
      "outputs": [
        {
          "output_type": "execute_result",
          "data": {
            "text/plain": [
              "0.9135883585520501"
            ]
          },
          "metadata": {
            "tags": []
          },
          "execution_count": 98
        }
      ]
    },
    {
      "cell_type": "code",
      "metadata": {
        "id": "3Yl5pzVWpVK3",
        "outputId": "c63ce997-08d8-41ce-c974-2736d14a6769",
        "colab": {
          "base_uri": "https://localhost:8080/"
        }
      },
      "source": [
        "# Obtenemos los hiperparametros del modelo que presentó el mejor resultado para la métrica\n",
        "RFR_model_RS.best_estimator_"
      ],
      "execution_count": 99,
      "outputs": [
        {
          "output_type": "execute_result",
          "data": {
            "text/plain": [
              "RandomForestRegressor(bootstrap=False, max_depth=100, max_features='sqrt',\n",
              "                      n_estimators=200)"
            ]
          },
          "metadata": {
            "tags": []
          },
          "execution_count": 99
        }
      ]
    },
    {
      "cell_type": "code",
      "metadata": {
        "id": "S9UIlwHTpVK3",
        "outputId": "4279d95c-468b-4255-b47e-c864ea8aadc0",
        "colab": {
          "base_uri": "https://localhost:8080/"
        }
      },
      "source": [
        "# Consultamos la iteración para la cual el modelo presentó el mejor resultado para la métrica\n",
        "best_score = np.argmax(RFR_model_RS.cv_results_['mean_test_score'])\n",
        "best_score"
      ],
      "execution_count": 100,
      "outputs": [
        {
          "output_type": "execute_result",
          "data": {
            "text/plain": [
              "7"
            ]
          },
          "metadata": {
            "tags": []
          },
          "execution_count": 100
        }
      ]
    },
    {
      "cell_type": "code",
      "metadata": {
        "id": "s5d3CC8VpVK3",
        "outputId": "bee6482a-f317-4fc5-f721-1eb41405e43f",
        "colab": {
          "base_uri": "https://localhost:8080/"
        }
      },
      "source": [
        "# Imprimimos los resultados obtenidos para el mejor modelo así como los hiperparametros elegidos dela grilla \n",
        "print('mean_test_R2', RFR_model_RS.cv_results_['mean_test_score'][best_score])\n",
        "print('params', RFR_model_RS.cv_results_['params'][best_score])"
      ],
      "execution_count": 101,
      "outputs": [
        {
          "output_type": "stream",
          "text": [
            "mean_test_R2 0.9135883585520501\n",
            "params {'n_estimators': 200, 'max_features': 'sqrt', 'max_depth': 100, 'bootstrap': False}\n"
          ],
          "name": "stdout"
        }
      ]
    },
    {
      "cell_type": "code",
      "metadata": {
        "id": "IaFgQ4MNpVK4"
      },
      "source": [
        "# Generamos la predicción con el modelo que mejor métrica presento\n",
        "y_train_pred = RFR_model_RS.predict(X_train)\n",
        "y_test_pred= RFR_model_RS.predict(X_test)"
      ],
      "execution_count": 102,
      "outputs": []
    },
    {
      "cell_type": "code",
      "metadata": {
        "id": "o3D_uDe8pVK4",
        "outputId": "29c5510b-6f28-47bf-fd53-bb27abe46c20",
        "colab": {
          "base_uri": "https://localhost:8080/",
          "height": 384
        }
      },
      "source": [
        "# Evaluamos los resultados obtenidos por el mejor modelo\n",
        "evaluar_modelo('Random Forest Regressor optimizado', y_train, y_test, y_train_pred, y_test_pred)"
      ],
      "execution_count": 103,
      "outputs": [
        {
          "output_type": "stream",
          "text": [
            "El modelo a evaluar:  Random Forest Regressor optimizado\n",
            "Raíz del error cuadrático medio en Train: 5317.029214982083\n",
            "Raíz del error cuadrático medio en Test: 25349.727841102173\n",
            "R cuadrado en Train: 0.9966622164702374\n",
            "R cuadrado en Test: 0.9250989684737639\n"
          ],
          "name": "stdout"
        },
        {
          "output_type": "display_data",
          "data": {
            "image/png": "[encoded data removed]",
            "text/plain": [
              "<Figure size 576x288 with 2 Axes>"
            ]
          },
          "metadata": {
            "tags": []
          }
        }
      ]
    },
    {
      "cell_type": "code",
      "metadata": {
        "id": "je2SDJ9YpVK4"
      },
      "source": [
        "# Almacenamos los resultados obtenidos por el modelo\n",
        "resultados_PY_02_RFR_model_RS = {'Modelo': ['Random Forest Regressor optimizado'], \n",
        "                              'RMSE_Train': [2.652518335588], \n",
        "                              'RMSE_Test': [2.555797713354], \n",
        "                              'R2_Train': [2],\n",
        "                              'R2_Test': [2]\n",
        "                              }"
      ],
      "execution_count": 104,
      "outputs": []
    },
    {
      "cell_type": "code",
      "metadata": {
        "id": "y6GBOacAmZgd"
      },
      "source": [
        "# Guardado del modelo ya entrenado\n",
        "path_RFR_model_RS = '/content/drive/MyDrive/Colab Notebooks/00_Acamica/RFR_model_RS.sav'\n",
        "pickle.dump(RFR_model_RS, open(path_RFR_model_RS, 'wb'))"
      ],
      "execution_count": 105,
      "outputs": []
    },
    {
      "cell_type": "markdown",
      "metadata": {
        "id": "YioBJO0pmfmc"
      },
      "source": [
        "# POPURRI"
      ]
    },
    {
      "cell_type": "code",
      "metadata": {
        "id": "8xxBnveUsNih"
      },
      "source": [
        "resultados_PY_01 = {'Modelo': ['Regresión lineal', 'Árbol de Decisión', 'Vecinos más cercanos'], \n",
        "                    'RMSE_Train': [199173.83253528475, 191783.485243933, 121300.24049431273], \n",
        "                    'RMSE_Test': [202449.36540361575, 194688.15091192327, 155040.1332898459], \n",
        "                    'R2_Train': [0.5517887107017188, 0.5844333913686437, 0.8337576939918325],\n",
        "                    'R2_Test': [0.5514864358797202, 0.5852162030595955, 0.7369544202301519]\n",
        "                    }\n",
        "                    \n",
        "resultados_PY_02 = {'Modelo': ['Regresión lineal', 'Árbol de Decisión', 'Vecinos más cercanos'], \n",
        "                    'RMSE_Train': [44143.814088767176, 54385.93455461426, 27331.957836355217], \n",
        "                    'RMSE_Test': [44214.72941966836, 54646.03060024996, 34287.79193709084], \n",
        "                    'R2_Train': [0.7699301113282079, 0.6507846978947374, 0.9118014270560322],\n",
        "                    'R2_Test': [0.7721363026987982, 0.6519365355152797, 0.8629685562592448]\n",
        "                    }"
      ],
      "execution_count": 106,
      "outputs": []
    },
    {
      "cell_type": "code",
      "metadata": {
        "id": "1IcA-EMetgW0"
      },
      "source": [
        "resultados_PY_02_XGB_model = {'Modelo': ['XGBoost'], \n",
        "                              'RMSE_Train': [28005.652518335588], \n",
        "                              'RMSE_Test': [32175.555797713354], \n",
        "                              'R2_Train': [0.9073998977854276],\n",
        "                              'R2_Test': [0.8793316673319217]\n",
        "                              }\n",
        "\n",
        "resultados_PY_02_RFR_Model = {'Modelo': ['Random Forest Regressor'], \n",
        "                              'RMSE_Train': [10963.78330981362], \n",
        "                              'RMSE_Test': [26194.483657392666], \n",
        "                              'R2_Train': [0.9858080863167111],\n",
        "                              'R2_Test': [0.9200237786825292]\n",
        "                              }"
      ],
      "execution_count": 107,
      "outputs": []
    },
    {
      "cell_type": "code",
      "metadata": {
        "id": "l1m8q94RsN1N"
      },
      "source": [
        "resultados_PY_02_XGB_model_RS = {'Modelo': ['XGBoost optimizado'], \n",
        "                              'RMSE_Train': [1.652518335588], \n",
        "                              'RMSE_Test': [1.555797713354], \n",
        "                              'R2_Train': [1],\n",
        "                              'R2_Test': [1]\n",
        "                              }\n",
        "resultados_PY_02_RFR_model_RS = {'Modelo': ['Random Forest Regressor optimizado'], \n",
        "                              'RMSE_Train': [2.652518335588], \n",
        "                              'RMSE_Test': [2.555797713354], \n",
        "                              'R2_Train': [2],\n",
        "                              'R2_Test': [2]\n",
        "                              }"
      ],
      "execution_count": 108,
      "outputs": []
    },
    {
      "cell_type": "code",
      "metadata": {
        "id": "TiKSH2q8sN35"
      },
      "source": [
        ""
      ],
      "execution_count": 108,
      "outputs": []
    },
    {
      "cell_type": "code",
      "metadata": {
        "id": "NxlflS8Ysfv1"
      },
      "source": [
        "df_resultados_PY_01 = pd.DataFrame.from_dict(resultados_PY_01)\n",
        "df_resultados_PY_01['Proyecto']='PY_01'\n",
        "df_resultados_PY_01 = df_resultados_PY_01[['Modelo', 'Proyecto', 'RMSE_Train', 'RMSE_Test', 'R2_Train', 'R2_Test']]\n",
        "df_resultados_PY_01[['R2_Train', 'R2_Test']] = 100*df_resultados_PY_01[['R2_Train', 'R2_Test']]\n",
        "\n",
        "df_resultados_PY_02 = pd.DataFrame.from_dict(resultados_PY_02)\n",
        "df_resultados_PY_02['Proyecto']='PY_02'\n",
        "df_resultados_PY_02 = df_resultados_PY_02[['Modelo', 'Proyecto', 'RMSE_Train', 'RMSE_Test', 'R2_Train', 'R2_Test']]\n",
        "df_resultados_PY_02[['R2_Train', 'R2_Test']] = 100*df_resultados_PY_02[['R2_Train', 'R2_Test']]\n",
        "\n",
        "df_resultados_PY_02_XGB_model = pd.DataFrame.from_dict(resultados_PY_02_XGB_model)\n",
        "df_resultados_PY_02_XGB_model['Proyecto']='PY_02'\n",
        "df_resultados_PY_02_XGB_model = df_resultados_PY_02_XGB_model[['Modelo', 'Proyecto', 'RMSE_Train', 'RMSE_Test', 'R2_Train', 'R2_Test']]\n",
        "df_resultados_PY_02_XGB_model[['R2_Train', 'R2_Test']] = 100*df_resultados_PY_02_XGB_model[['R2_Train', 'R2_Test']]\n",
        "\n",
        "\n",
        "\n",
        "\n",
        "\n",
        "\n",
        "\n",
        "\n",
        "\n",
        "\n",
        "\n",
        "df_resultados_PY_02_XGB_model_RS = pd.DataFrame.from_dict(resultados_PY_02_XGB_model_RS)\n",
        "df_resultados_PY_02_XGB_model_RS['Proyecto']='PY_02'\n",
        "df_resultados_PY_02_XGB_model_RS = df_resultados_PY_02_XGB_model_RS[['Modelo', 'Proyecto', 'RMSE_Train', 'RMSE_Test', 'R2_Train', 'R2_Test']]\n",
        "df_resultados_PY_02_XGB_model_RS[['R2_Train', 'R2_Test']] = 100*df_resultados_PY_02_XGB_model_RS[['R2_Train', 'R2_Test']]\n",
        "\n",
        "\n",
        "\n",
        "\n",
        "\n",
        "\n",
        "\n",
        "\n",
        "\n",
        "\n",
        "\n",
        "\n",
        "\n",
        "\n"
      ],
      "execution_count": 109,
      "outputs": []
    },
    {
      "cell_type": "code",
      "metadata": {
        "id": "lX9B7kLSsfv2",
        "outputId": "c9cad84d-3a5b-4e4a-9f66-a9a484c3716e",
        "colab": {
          "base_uri": "https://localhost:8080/",
          "height": 303
        }
      },
      "source": [
        "df_resultados_compilados = pd.concat([df_resultados_PY_01,df_resultados_PY_02,df_resultados_PY_02_XGB_model ]).sort_values(by='Modelo', ascending=False).reset_index(drop=True)\n",
        "df_resultados_compilados"
      ],
      "execution_count": 110,
      "outputs": [
        {
          "output_type": "execute_result",
          "data": {
            "text/html": [
              "<div>\n",
              "<style scoped>\n",
              "    .dataframe tbody tr th:only-of-type {\n",
              "        vertical-align: middle;\n",
              "    }\n",
              "\n",
              "    .dataframe tbody tr th {\n",
              "        vertical-align: top;\n",
              "    }\n",
              "\n",
              "    .dataframe thead th {\n",
              "        text-align: right;\n",
              "    }\n",
              "</style>\n",
              "<table border=\"1\" class=\"dataframe\">\n",
              "  <thead>\n",
              "    <tr style=\"text-align: right;\">\n",
              "      <th></th>\n",
              "      <th>Modelo</th>\n",
              "      <th>Proyecto</th>\n",
              "      <th>RMSE_Train</th>\n",
              "      <th>RMSE_Test</th>\n",
              "      <th>R2_Train</th>\n",
              "      <th>R2_Test</th>\n",
              "    </tr>\n",
              "  </thead>\n",
              "  <tbody>\n",
              "    <tr>\n",
              "      <th>0</th>\n",
              "      <td>Árbol de Decisión</td>\n",
              "      <td>PY_01</td>\n",
              "      <td>191783.485244</td>\n",
              "      <td>194688.150912</td>\n",
              "      <td>58.443339</td>\n",
              "      <td>58.521620</td>\n",
              "    </tr>\n",
              "    <tr>\n",
              "      <th>1</th>\n",
              "      <td>Árbol de Decisión</td>\n",
              "      <td>PY_02</td>\n",
              "      <td>54385.934555</td>\n",
              "      <td>54646.030600</td>\n",
              "      <td>65.078470</td>\n",
              "      <td>65.193654</td>\n",
              "    </tr>\n",
              "    <tr>\n",
              "      <th>2</th>\n",
              "      <td>XGBoost</td>\n",
              "      <td>PY_02</td>\n",
              "      <td>28005.652518</td>\n",
              "      <td>32175.555798</td>\n",
              "      <td>90.739990</td>\n",
              "      <td>87.933167</td>\n",
              "    </tr>\n",
              "    <tr>\n",
              "      <th>3</th>\n",
              "      <td>Vecinos más cercanos</td>\n",
              "      <td>PY_01</td>\n",
              "      <td>121300.240494</td>\n",
              "      <td>155040.133290</td>\n",
              "      <td>83.375769</td>\n",
              "      <td>73.695442</td>\n",
              "    </tr>\n",
              "    <tr>\n",
              "      <th>4</th>\n",
              "      <td>Vecinos más cercanos</td>\n",
              "      <td>PY_02</td>\n",
              "      <td>27331.957836</td>\n",
              "      <td>34287.791937</td>\n",
              "      <td>91.180143</td>\n",
              "      <td>86.296856</td>\n",
              "    </tr>\n",
              "    <tr>\n",
              "      <th>5</th>\n",
              "      <td>Regresión lineal</td>\n",
              "      <td>PY_01</td>\n",
              "      <td>199173.832535</td>\n",
              "      <td>202449.365404</td>\n",
              "      <td>55.178871</td>\n",
              "      <td>55.148644</td>\n",
              "    </tr>\n",
              "    <tr>\n",
              "      <th>6</th>\n",
              "      <td>Regresión lineal</td>\n",
              "      <td>PY_02</td>\n",
              "      <td>44143.814089</td>\n",
              "      <td>44214.729420</td>\n",
              "      <td>76.993011</td>\n",
              "      <td>77.213630</td>\n",
              "    </tr>\n",
              "  </tbody>\n",
              "</table>\n",
              "</div>"
            ],
            "text/plain": [
              "                 Modelo Proyecto     RMSE_Train      RMSE_Test   R2_Train  \\\n",
              "0     Árbol de Decisión    PY_01  191783.485244  194688.150912  58.443339   \n",
              "1     Árbol de Decisión    PY_02   54385.934555   54646.030600  65.078470   \n",
              "2               XGBoost    PY_02   28005.652518   32175.555798  90.739990   \n",
              "3  Vecinos más cercanos    PY_01  121300.240494  155040.133290  83.375769   \n",
              "4  Vecinos más cercanos    PY_02   27331.957836   34287.791937  91.180143   \n",
              "5      Regresión lineal    PY_01  199173.832535  202449.365404  55.178871   \n",
              "6      Regresión lineal    PY_02   44143.814089   44214.729420  76.993011   \n",
              "\n",
              "     R2_Test  \n",
              "0  58.521620  \n",
              "1  65.193654  \n",
              "2  87.933167  \n",
              "3  73.695442  \n",
              "4  86.296856  \n",
              "5  55.148644  \n",
              "6  77.213630  "
            ]
          },
          "metadata": {
            "tags": []
          },
          "execution_count": 110
        }
      ]
    },
    {
      "cell_type": "code",
      "metadata": {
        "id": "hYOHgJfmmZlV"
      },
      "source": [
        ""
      ],
      "execution_count": 110,
      "outputs": []
    },
    {
      "cell_type": "code",
      "metadata": {
        "id": "s2dbi5yjmZnf"
      },
      "source": [
        ""
      ],
      "execution_count": 110,
      "outputs": []
    },
    {
      "cell_type": "code",
      "metadata": {
        "id": "eNzx4e5RmZpz"
      },
      "source": [
        ""
      ],
      "execution_count": 110,
      "outputs": []
    },
    {
      "cell_type": "code",
      "metadata": {
        "id": "RAG5qzDWIw5V",
        "outputId": "a1234a0e-abc5-42e8-e3ad-2c87e63fee75",
        "colab": {
          "base_uri": "https://localhost:8080/",
          "height": 280
        }
      },
      "source": [
        "plt.figure(figsize = (15,10))\n",
        "plot_importance(xgb_rs.best_estimator_, height=0.9,max_num_features=15)\n",
        "plt.title('Predicción con modelo XGBoost (Múltiples parametros optimizado) Feature importance',fontsize=16)\n",
        "plt.xlabel('Feature', fontsize=15)\n",
        "plt.ylabel('F score', fontsize=15)\n",
        "plt.tick_params(labelsize=14)\n",
        "plt.show()"
      ],
      "execution_count": 111,
      "outputs": [
        {
          "output_type": "error",
          "ename": "NameError",
          "evalue": "ignored",
          "traceback": [
            "\u001b[0;31m---------------------------------------------------------------------------\u001b[0m",
            "\u001b[0;31mNameError\u001b[0m                                 Traceback (most recent call last)",
            "\u001b[0;32m<ipython-input-111-a4bef1c1d99a>\u001b[0m in \u001b[0;36m<module>\u001b[0;34m()\u001b[0m\n\u001b[1;32m      1\u001b[0m \u001b[0mplt\u001b[0m\u001b[0;34m.\u001b[0m\u001b[0mfigure\u001b[0m\u001b[0;34m(\u001b[0m\u001b[0mfigsize\u001b[0m \u001b[0;34m=\u001b[0m \u001b[0;34m(\u001b[0m\u001b[0;36m15\u001b[0m\u001b[0;34m,\u001b[0m\u001b[0;36m10\u001b[0m\u001b[0;34m)\u001b[0m\u001b[0;34m)\u001b[0m\u001b[0;34m\u001b[0m\u001b[0;34m\u001b[0m\u001b[0m\n\u001b[0;32m----> 2\u001b[0;31m \u001b[0mplot_importance\u001b[0m\u001b[0;34m(\u001b[0m\u001b[0mxgb_rs\u001b[0m\u001b[0;34m.\u001b[0m\u001b[0mbest_estimator_\u001b[0m\u001b[0;34m,\u001b[0m \u001b[0mheight\u001b[0m\u001b[0;34m=\u001b[0m\u001b[0;36m0.9\u001b[0m\u001b[0;34m,\u001b[0m\u001b[0mmax_num_features\u001b[0m\u001b[0;34m=\u001b[0m\u001b[0;36m15\u001b[0m\u001b[0;34m)\u001b[0m\u001b[0;34m\u001b[0m\u001b[0;34m\u001b[0m\u001b[0m\n\u001b[0m\u001b[1;32m      3\u001b[0m \u001b[0mplt\u001b[0m\u001b[0;34m.\u001b[0m\u001b[0mtitle\u001b[0m\u001b[0;34m(\u001b[0m\u001b[0;34m'Predicción con modelo XGBoost (Múltiples parametros optimizado) Feature importance'\u001b[0m\u001b[0;34m,\u001b[0m\u001b[0mfontsize\u001b[0m\u001b[0;34m=\u001b[0m\u001b[0;36m16\u001b[0m\u001b[0;34m)\u001b[0m\u001b[0;34m\u001b[0m\u001b[0;34m\u001b[0m\u001b[0m\n\u001b[1;32m      4\u001b[0m \u001b[0mplt\u001b[0m\u001b[0;34m.\u001b[0m\u001b[0mxlabel\u001b[0m\u001b[0;34m(\u001b[0m\u001b[0;34m'Feature'\u001b[0m\u001b[0;34m,\u001b[0m \u001b[0mfontsize\u001b[0m\u001b[0;34m=\u001b[0m\u001b[0;36m15\u001b[0m\u001b[0;34m)\u001b[0m\u001b[0;34m\u001b[0m\u001b[0;34m\u001b[0m\u001b[0m\n\u001b[1;32m      5\u001b[0m \u001b[0mplt\u001b[0m\u001b[0;34m.\u001b[0m\u001b[0mylabel\u001b[0m\u001b[0;34m(\u001b[0m\u001b[0;34m'F score'\u001b[0m\u001b[0;34m,\u001b[0m \u001b[0mfontsize\u001b[0m\u001b[0;34m=\u001b[0m\u001b[0;36m15\u001b[0m\u001b[0;34m)\u001b[0m\u001b[0;34m\u001b[0m\u001b[0;34m\u001b[0m\u001b[0m\n",
            "\u001b[0;31mNameError\u001b[0m: name 'xgb_rs' is not defined"
          ]
        },
        {
          "output_type": "display_data",
          "data": {
            "text/plain": [
              "<Figure size 1080x720 with 0 Axes>"
            ]
          },
          "metadata": {
            "tags": []
          }
        }
      ]
    },
    {
      "cell_type": "code",
      "metadata": {
        "id": "VVzq3147NE9g"
      },
      "source": [
        ""
      ],
      "execution_count": null,
      "outputs": []
    },
    {
      "cell_type": "code",
      "metadata": {
        "id": "VK1xcRt-NE7F"
      },
      "source": [
        "import dill"
      ],
      "execution_count": 112,
      "outputs": []
    },
    {
      "cell_type": "code",
      "metadata": {
        "id": "ILK09lTSi-81"
      },
      "source": [
        "checkpoint_path = '/content/drive/MyDrive/Colab Notebooks/00_Acamica/'"
      ],
      "execution_count": 113,
      "outputs": []
    },
    {
      "cell_type": "code",
      "metadata": {
        "id": "8XqWk39li-_h"
      },
      "source": [
        "dill.dump_session(checkpoint_path+'02_salida_env.db')"
      ],
      "execution_count": 119,
      "outputs": []
    },
    {
      "cell_type": "code",
      "metadata": {
        "id": "O8qDf4qZi_CH"
      },
      "source": [
        "dill.load_session(checkpoint_path+'02_salida_env.db')"
      ],
      "execution_count": 120,
      "outputs": []
    },
    {
      "cell_type": "code",
      "metadata": {
        "id": "lIehbr9ji_EV"
      },
      "source": [
        ""
      ],
      "execution_count": null,
      "outputs": []
    },
    {
      "cell_type": "code",
      "metadata": {
        "id": "LUMunSAQi_Gb"
      },
      "source": [
        ""
      ],
      "execution_count": null,
      "outputs": []
    },
    {
      "cell_type": "code",
      "metadata": {
        "id": "nBe6alKli_J2"
      },
      "source": [
        ""
      ],
      "execution_count": null,
      "outputs": []
    },
    {
      "cell_type": "markdown",
      "metadata": {
        "id": "RR9w7Dgdi_Zr"
      },
      "source": [
        ""
      ]
    },
    {
      "cell_type": "markdown",
      "metadata": {
        "id": "PQjwglhkjU3p"
      },
      "source": [
        "# Parte C. Interpretación de los modelos"
      ]
    },
    {
      "cell_type": "code",
      "metadata": {
        "id": "wl__eTUMjCla"
      },
      "source": [
        "plt.figure(figsize = (15,10))\n",
        "plot_importance(XGB_model_RS.best_estimator_, height=0.9,max_num_features=15)\n",
        "plt.title('Predicción con modelo XGBoost (Múltiples parametros optimizado) Feature importance',fontsize=16)\n",
        "plt.xlabel('Feature', fontsize=15)\n",
        "plt.ylabel('F score', fontsize=15)\n",
        "plt.tick_params(labelsize=14)\n",
        "plt.show()"
      ],
      "execution_count": null,
      "outputs": []
    }
  ]
}