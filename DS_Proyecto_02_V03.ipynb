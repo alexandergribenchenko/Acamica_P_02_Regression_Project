{
  "nbformat": 4,
  "nbformat_minor": 0,
  "metadata": {
    "kernelspec": {
      "display_name": "Python 3",
      "language": "python",
      "name": "python3"
    },
    "language_info": {
      "codemirror_mode": {
        "name": "ipython",
        "version": 3
      },
      "file_extension": ".py",
      "mimetype": "text/x-python",
      "name": "python",
      "nbconvert_exporter": "python",
      "pygments_lexer": "ipython3",
      "version": "3.8.8"
    },
    "colab": {
      "name": "DS_Proyecto_02.ipynb",
      "provenance": [],
      "include_colab_link": true
    }
  },
  "cells": [
    {
      "cell_type": "markdown",
      "metadata": {
        "id": "view-in-github",
        "colab_type": "text"
      },
      "source": [
        "<a href=\"https://colab.research.google.com/github/alexandergribenchenko/Acamica_Proyecto_02/blob/main/DS_Proyecto_02_V03.ipynb\" target=\"_parent\"><img src=\"https://colab.research.google.com/assets/colab-badge.svg\" alt=\"Open In Colab\"/></a>"
      ]
    },
    {
      "cell_type": "markdown",
      "metadata": {
        "id": "XAMLpLgdGJ5W"
      },
      "source": [
        "# **Proyecto 02 - Ingeniería de features, Modelos avanzados e Interpretación de modelos** (Armado)"
      ]
    },
    {
      "cell_type": "markdown",
      "metadata": {
        "id": "hovEgj74GJ5X"
      },
      "source": [
        "### (Acámica - DS online 40 - Proyecto 02 - Alexander Ortega)"
      ]
    },
    {
      "cell_type": "markdown",
      "metadata": {
        "id": "wxpYDd1mEb4k"
      },
      "source": [
        "# **Alcance y objeto del proyecto:**\n"
      ]
    },
    {
      "cell_type": "markdown",
      "metadata": {
        "id": "6MeSr6lLEnBg"
      },
      "source": [
        "El presente proyecto tiene como finalidad exhibir e implementar un conjunto de herramientas analíticas y predictivas propias de problemas del aprendizaje supervisado, más especificamante de problemas de regresión, empleando como contexto específico el estudio de los precios de los inmuebles de la Ciudad de Buenos Aires en el año 2019, con el fin de generar y evaluar modelos que permitan hacer su predicción. "
      ]
    },
    {
      "cell_type": "markdown",
      "metadata": {
        "id": "lbEBtnt9FFan"
      },
      "source": [
        "##### ---> Librerías a emplear en el proyecto:"
      ]
    },
    {
      "cell_type": "code",
      "metadata": {
        "id": "N6jnKm8jGJ5Y"
      },
      "source": [
        "import pandas as pd\n",
        "import numpy as np\n",
        "import matplotlib.pyplot as plt\n",
        "import seaborn as sns\n",
        "sns.set()\n",
        "\n",
        "from sklearn.preprocessing import StandardScaler\n",
        "pd.set_option('display.max_columns', None)\n",
        "\n",
        "import warnings\n",
        "warnings.filterwarnings(\"ignore\")"
      ],
      "execution_count": 1,
      "outputs": []
    },
    {
      "cell_type": "markdown",
      "metadata": {
        "id": "BcQnnKLzGJ5a"
      },
      "source": [
        "### **Etapa Preliminar.** Preparación del dataset de análisis"
      ]
    },
    {
      "cell_type": "markdown",
      "metadata": {
        "id": "PfAihOqRVK82"
      },
      "source": [
        "En la presente etapa,  que dividiremos en  4 pasos, recopilaremos y cargaremos la información primaria para el estudio, descartaremos los atributos que no consideremos como relevantes para nuestro estudio, procesaremos los atributos para cada uno de sus parámetros con la finalidad de obtener uniformidad y limpieza en la manera en la que se presenta la información, y finalmente obtendremos el dataset que compilará toda la información base de una manera organizada y estructurada. Este dataset será el que emplearemos de manera posterior en la etapa de Transformación de datos."
      ]
    },
    {
      "cell_type": "markdown",
      "metadata": {
        "id": "gUIsDsfGUnjl"
      },
      "source": [
        "### **EP. 1.1.** Recopilación y descarga de la información primaria"
      ]
    },
    {
      "cell_type": "markdown",
      "metadata": {
        "id": "n7ced5edUpTK"
      },
      "source": [
        "La información base para el desarrollo del siguiente proyecto fue obtenida de la [página de la división de datos de Properati](https://www.properati.com.co/data/), una plataforma web enfocada en el mercado inmobiliario de 4 países de Latinoamérica: Argentina, Colombia, Perú y Ecuador. En específico en la sección de Datasets del enlace descrito encontramos el enlace de descarga directa  en formato CSV para cada uno de los países.\n",
        "\n",
        "Para efectos del desarrollo del proyecto generamos únicamente la descarga del dataset de Argentina y tomamos en cuenta únicamente las propiedades publicadas en el año 2019. \n",
        " "
      ]
    },
    {
      "cell_type": "markdown",
      "metadata": {
        "id": "rwjeH8bQWlKP"
      },
      "source": [
        "### **EP. 1.2.** Exploración y preparación del dataset base"
      ]
    },
    {
      "cell_type": "markdown",
      "metadata": {
        "id": "hXeWGpz8Wqvv"
      },
      "source": [
        "Iniciaremos cargando y evaluando la información general del dataset descargado:"
      ]
    },
    {
      "cell_type": "code",
      "metadata": {
        "id": "fevtqAxiLqLj",
        "colab": {
          "base_uri": "https://localhost:8080/"
        },
        "outputId": "2c4cd9e8-28ca-41b7-ac3c-cda647c0bab4"
      },
      "source": [
        "from google.colab import drive\n",
        "drive.mount('/content/drive/')"
      ],
      "execution_count": null,
      "outputs": [
        {
          "output_type": "stream",
          "text": [
            "Drive already mounted at /content/drive/; to attempt to forcibly remount, call drive.mount(\"/content/drive/\", force_remount=True).\n"
          ],
          "name": "stdout"
        }
      ]
    },
    {
      "cell_type": "code",
      "metadata": {
        "id": "Ur_CiW6ZLzf6"
      },
      "source": [
        "path_data = '/content/drive/MyDrive/Colab Notebooks/00_Acamica/DS_Proyecto_01_Datos_Properati.csv'"
      ],
      "execution_count": null,
      "outputs": []
    },
    {
      "cell_type": "code",
      "metadata": {
        "id": "G571lUV6GJ5a",
        "colab": {
          "base_uri": "https://localhost:8080/",
          "height": 530
        },
        "outputId": "64bcee38-60c7-4425-9c23-8a3e785c73f5"
      },
      "source": [
        "df = pd.read_csv(path_data, sep =',')\n",
        "df.head()"
      ],
      "execution_count": null,
      "outputs": [
        {
          "output_type": "execute_result",
          "data": {
            "text/html": [
              "<div>\n",
              "<style scoped>\n",
              "    .dataframe tbody tr th:only-of-type {\n",
              "        vertical-align: middle;\n",
              "    }\n",
              "\n",
              "    .dataframe tbody tr th {\n",
              "        vertical-align: top;\n",
              "    }\n",
              "\n",
              "    .dataframe thead th {\n",
              "        text-align: right;\n",
              "    }\n",
              "</style>\n",
              "<table border=\"1\" class=\"dataframe\">\n",
              "  <thead>\n",
              "    <tr style=\"text-align: right;\">\n",
              "      <th></th>\n",
              "      <th>start_date</th>\n",
              "      <th>end_date</th>\n",
              "      <th>created_on</th>\n",
              "      <th>lat</th>\n",
              "      <th>lon</th>\n",
              "      <th>l1</th>\n",
              "      <th>l2</th>\n",
              "      <th>l3</th>\n",
              "      <th>rooms</th>\n",
              "      <th>bedrooms</th>\n",
              "      <th>bathrooms</th>\n",
              "      <th>surface_total</th>\n",
              "      <th>surface_covered</th>\n",
              "      <th>price</th>\n",
              "      <th>currency</th>\n",
              "      <th>title</th>\n",
              "      <th>description</th>\n",
              "      <th>property_type</th>\n",
              "      <th>operation_type</th>\n",
              "    </tr>\n",
              "  </thead>\n",
              "  <tbody>\n",
              "    <tr>\n",
              "      <th>0</th>\n",
              "      <td>2019-10-17</td>\n",
              "      <td>2019-12-23</td>\n",
              "      <td>2019-10-17</td>\n",
              "      <td>-34.605880</td>\n",
              "      <td>-58.384949</td>\n",
              "      <td>Argentina</td>\n",
              "      <td>Capital Federal</td>\n",
              "      <td>San Cristobal</td>\n",
              "      <td>7.0</td>\n",
              "      <td>7.0</td>\n",
              "      <td>2.0</td>\n",
              "      <td>140.0</td>\n",
              "      <td>140.0</td>\n",
              "      <td>153000.0</td>\n",
              "      <td>USD</td>\n",
              "      <td>***Venta semipiso centro, ideal hostel*****</td>\n",
              "      <td>DESCRIPCION DE LA PROPIEDAD: Departamento de 1...</td>\n",
              "      <td>Departamento</td>\n",
              "      <td>Venta</td>\n",
              "    </tr>\n",
              "    <tr>\n",
              "      <th>1</th>\n",
              "      <td>2019-10-17</td>\n",
              "      <td>2019-11-21</td>\n",
              "      <td>2019-10-17</td>\n",
              "      <td>-34.624056</td>\n",
              "      <td>-58.412110</td>\n",
              "      <td>Argentina</td>\n",
              "      <td>Capital Federal</td>\n",
              "      <td>Boedo</td>\n",
              "      <td>2.0</td>\n",
              "      <td>1.0</td>\n",
              "      <td>2.0</td>\n",
              "      <td>70.0</td>\n",
              "      <td>58.0</td>\n",
              "      <td>159000.0</td>\n",
              "      <td>USD</td>\n",
              "      <td>Espectacular PH reciclado en Boedo sin expensas.</td>\n",
              "      <td>PH reciclado en Boedo a una cuadra de la plaz...</td>\n",
              "      <td>PH</td>\n",
              "      <td>Venta</td>\n",
              "    </tr>\n",
              "    <tr>\n",
              "      <th>2</th>\n",
              "      <td>2019-10-17</td>\n",
              "      <td>2019-11-01</td>\n",
              "      <td>2019-10-17</td>\n",
              "      <td>-34.593569</td>\n",
              "      <td>-58.427474</td>\n",
              "      <td>Argentina</td>\n",
              "      <td>Capital Federal</td>\n",
              "      <td>Palermo</td>\n",
              "      <td>2.0</td>\n",
              "      <td>1.0</td>\n",
              "      <td>1.0</td>\n",
              "      <td>45.0</td>\n",
              "      <td>45.0</td>\n",
              "      <td>125000.0</td>\n",
              "      <td>USD</td>\n",
              "      <td>Depto.tipo casa de 2 ambientes en Venta en Pal...</td>\n",
              "      <td>2 ambienets amplio , excelente estado , patio ...</td>\n",
              "      <td>PH</td>\n",
              "      <td>Venta</td>\n",
              "    </tr>\n",
              "    <tr>\n",
              "      <th>3</th>\n",
              "      <td>2019-10-17</td>\n",
              "      <td>2019-12-23</td>\n",
              "      <td>2019-10-17</td>\n",
              "      <td>-34.581294</td>\n",
              "      <td>-58.436754</td>\n",
              "      <td>Argentina</td>\n",
              "      <td>Capital Federal</td>\n",
              "      <td>Palermo</td>\n",
              "      <td>2.0</td>\n",
              "      <td>1.0</td>\n",
              "      <td>1.0</td>\n",
              "      <td>85.0</td>\n",
              "      <td>50.0</td>\n",
              "      <td>295000.0</td>\n",
              "      <td>USD</td>\n",
              "      <td>COSTA RICA 5800 / PALERMO HOLLYWOOD / VENTA PH...</td>\n",
              "      <td>HERMOSO PH EN PALERMO!!!2 AMBIENTES TOTALMENTE...</td>\n",
              "      <td>PH</td>\n",
              "      <td>Venta</td>\n",
              "    </tr>\n",
              "    <tr>\n",
              "      <th>4</th>\n",
              "      <td>2019-10-17</td>\n",
              "      <td>2020-03-11</td>\n",
              "      <td>2019-10-17</td>\n",
              "      <td>-34.914194</td>\n",
              "      <td>-57.938219</td>\n",
              "      <td>Argentina</td>\n",
              "      <td>Bs.As. G.B.A. Zona Sur</td>\n",
              "      <td>La Plata</td>\n",
              "      <td>2.0</td>\n",
              "      <td>1.0</td>\n",
              "      <td>1.0</td>\n",
              "      <td>50.0</td>\n",
              "      <td>35.0</td>\n",
              "      <td>40000.0</td>\n",
              "      <td>USD</td>\n",
              "      <td>58 entre 1 y 2  Venta de departamento en ph.1 ...</td>\n",
              "      <td>58 entre 1 y 2  Venta de departamento en PH. P...</td>\n",
              "      <td>PH</td>\n",
              "      <td>Venta</td>\n",
              "    </tr>\n",
              "  </tbody>\n",
              "</table>\n",
              "</div>"
            ],
            "text/plain": [
              "   start_date    end_date  created_on        lat        lon         l1  \\\n",
              "0  2019-10-17  2019-12-23  2019-10-17 -34.605880 -58.384949  Argentina   \n",
              "1  2019-10-17  2019-11-21  2019-10-17 -34.624056 -58.412110  Argentina   \n",
              "2  2019-10-17  2019-11-01  2019-10-17 -34.593569 -58.427474  Argentina   \n",
              "3  2019-10-17  2019-12-23  2019-10-17 -34.581294 -58.436754  Argentina   \n",
              "4  2019-10-17  2020-03-11  2019-10-17 -34.914194 -57.938219  Argentina   \n",
              "\n",
              "                       l2             l3  rooms  bedrooms  bathrooms  \\\n",
              "0         Capital Federal  San Cristobal    7.0       7.0        2.0   \n",
              "1         Capital Federal          Boedo    2.0       1.0        2.0   \n",
              "2         Capital Federal        Palermo    2.0       1.0        1.0   \n",
              "3         Capital Federal        Palermo    2.0       1.0        1.0   \n",
              "4  Bs.As. G.B.A. Zona Sur       La Plata    2.0       1.0        1.0   \n",
              "\n",
              "   surface_total  surface_covered     price currency  \\\n",
              "0          140.0            140.0  153000.0      USD   \n",
              "1           70.0             58.0  159000.0      USD   \n",
              "2           45.0             45.0  125000.0      USD   \n",
              "3           85.0             50.0  295000.0      USD   \n",
              "4           50.0             35.0   40000.0      USD   \n",
              "\n",
              "                                               title  \\\n",
              "0        ***Venta semipiso centro, ideal hostel*****   \n",
              "1   Espectacular PH reciclado en Boedo sin expensas.   \n",
              "2  Depto.tipo casa de 2 ambientes en Venta en Pal...   \n",
              "3  COSTA RICA 5800 / PALERMO HOLLYWOOD / VENTA PH...   \n",
              "4  58 entre 1 y 2  Venta de departamento en ph.1 ...   \n",
              "\n",
              "                                         description property_type  \\\n",
              "0  DESCRIPCION DE LA PROPIEDAD: Departamento de 1...  Departamento   \n",
              "1   PH reciclado en Boedo a una cuadra de la plaz...            PH   \n",
              "2  2 ambienets amplio , excelente estado , patio ...            PH   \n",
              "3  HERMOSO PH EN PALERMO!!!2 AMBIENTES TOTALMENTE...            PH   \n",
              "4  58 entre 1 y 2  Venta de departamento en PH. P...            PH   \n",
              "\n",
              "  operation_type  \n",
              "0          Venta  \n",
              "1          Venta  \n",
              "2          Venta  \n",
              "3          Venta  \n",
              "4          Venta  "
            ]
          },
          "metadata": {
            "tags": []
          },
          "execution_count": 8
        }
      ]
    },
    {
      "cell_type": "code",
      "metadata": {
        "id": "q9403w-ZGJ5b",
        "colab": {
          "base_uri": "https://localhost:8080/"
        },
        "outputId": "2366b720-5272-4465-e0cf-74a6d438fc7a"
      },
      "source": [
        "df.info()"
      ],
      "execution_count": null,
      "outputs": [
        {
          "output_type": "stream",
          "text": [
            "<class 'pandas.core.frame.DataFrame'>\n",
            "RangeIndex: 146660 entries, 0 to 146659\n",
            "Data columns (total 19 columns):\n",
            " #   Column           Non-Null Count   Dtype  \n",
            "---  ------           --------------   -----  \n",
            " 0   start_date       146660 non-null  object \n",
            " 1   end_date         146660 non-null  object \n",
            " 2   created_on       146660 non-null  object \n",
            " 3   lat              136735 non-null  float64\n",
            " 4   lon              136701 non-null  float64\n",
            " 5   l1               146660 non-null  object \n",
            " 6   l2               146660 non-null  object \n",
            " 7   l3               146660 non-null  object \n",
            " 8   rooms            146660 non-null  float64\n",
            " 9   bedrooms         146660 non-null  float64\n",
            " 10  bathrooms        140703 non-null  float64\n",
            " 11  surface_total    126133 non-null  float64\n",
            " 12  surface_covered  125046 non-null  float64\n",
            " 13  price            146660 non-null  float64\n",
            " 14  currency         146660 non-null  object \n",
            " 15  title            146660 non-null  object \n",
            " 16  description      146660 non-null  object \n",
            " 17  property_type    146660 non-null  object \n",
            " 18  operation_type   146660 non-null  object \n",
            "dtypes: float64(8), object(11)\n",
            "memory usage: 21.3+ MB\n"
          ],
          "name": "stdout"
        }
      ]
    },
    {
      "cell_type": "markdown",
      "metadata": {
        "id": "PmUsIwTCXWep"
      },
      "source": [
        "Corroboramos que el dataset cuenta con los siguientes 18 atributos:\n",
        "\n",
        "- **start_date:** año\n",
        "\n",
        "- **end_date:** año-mes-día\n",
        "\n",
        "- **created_on:** hora de inicio del intervalo del conteo de vehículos\n",
        "\n",
        "- **lat:** hora de fin del intervalo del conteo de vehículos\n",
        "\n",
        "- **lon:** día de la semana \n",
        "\n",
        "- **l1:** nombre de las estaciones de peaje\n",
        "\n",
        "- **l2:** Centro o Provincia\n",
        "\n",
        "- **l3:** Liviano o Pesado\n",
        "\n",
        "- **rooms:** Mdalidad de pago\n",
        "\n",
        "- **bedrooms:** Cantidad de vehículos que pasan en el intervalo\n",
        "\n",
        "- **bathrooms:** nombre de las estaciones de peaje\n",
        "\n",
        "- **surface_total:** Centro o Provincia\n",
        "\n",
        "- **surface_covered:** Liviano o Pesado\n",
        "\n",
        "- **price:** Mdalidad de pago\n",
        "\n",
        "- **currency:** Cantidad de vehículos que pasan en el intervalo\n",
        "\n",
        "- **title:** Centro o Provincia\n",
        "\n",
        "- **description:** Liviano o Pesado\n",
        "\n",
        "- **property_type:** Mdalidad de pago\n",
        "\n",
        "- **operation_type:** Cantidad de vehículos que pasan en el intervalo"
      ]
    },
    {
      "cell_type": "markdown",
      "metadata": {
        "id": "JhmN3nmTXWb3"
      },
      "source": [
        "Exploremos de manera más detallada cada unos de los tipos de atribitos:\n",
        "\n",
        "- **Variables numéricas (periodo, hora_inicio, hora_fin y cantidad_pasos):** cada dataset anual toma de manera particular sus valores. \n",
        "\n",
        "- La variable **fecha** que actualmente aparece de tipo *object* se le dará un procesamiento específico para poder llevarla a tipo *datetime* y con ello hacer todas las transformaciones necesarias para estudiar  las series de tiempo (resampleos, agrupaciones, estimaciones de modelos, etc). Esto lo abordaremos de manera particular en el paso 1.4.\n",
        "\n",
        "- **Variables categóricas**: Evaluemos ahora el tipo de información de los campos categoricos de los dataset, es decir **estacion, sentido, tipo_vehiculo** y **forma_pago**: "
      ]
    },
    {
      "cell_type": "markdown",
      "metadata": {
        "id": "jNbfCKbkXWZN"
      },
      "source": [
        "##### **---> Exploración variable start_date:**"
      ]
    },
    {
      "cell_type": "code",
      "metadata": {
        "id": "i251wHZZZuSr"
      },
      "source": [
        ""
      ],
      "execution_count": null,
      "outputs": []
    },
    {
      "cell_type": "markdown",
      "metadata": {
        "id": "e4axk1tYXWWg"
      },
      "source": [
        "##### **---> Exploración variable"
      ]
    },
    {
      "cell_type": "markdown",
      "metadata": {
        "id": "yY3mekJqZZ8i"
      },
      "source": [
        "##### **---> Exploración variable end_date:**"
      ]
    },
    {
      "cell_type": "code",
      "metadata": {
        "id": "U8cQjeRUZZ8s"
      },
      "source": [
        ""
      ],
      "execution_count": null,
      "outputs": []
    },
    {
      "cell_type": "markdown",
      "metadata": {
        "id": "Fhs57fWkZaz5"
      },
      "source": [
        "##### **---> Exploración variable created_on:**"
      ]
    },
    {
      "cell_type": "code",
      "metadata": {
        "id": "Su0EPBCIZaz6"
      },
      "source": [
        ""
      ],
      "execution_count": null,
      "outputs": []
    },
    {
      "cell_type": "markdown",
      "metadata": {
        "id": "ics78OULZbzM"
      },
      "source": [
        "##### **---> Exploración variable lat:**"
      ]
    },
    {
      "cell_type": "code",
      "metadata": {
        "id": "CXz1ileLZbzN"
      },
      "source": [
        ""
      ],
      "execution_count": null,
      "outputs": []
    },
    {
      "cell_type": "markdown",
      "metadata": {
        "id": "hkq21N-2Zb9D"
      },
      "source": [
        "##### **---> Exploración variable lon:**"
      ]
    },
    {
      "cell_type": "code",
      "metadata": {
        "id": "Ixx1GNqDZb9E"
      },
      "source": [
        ""
      ],
      "execution_count": null,
      "outputs": []
    },
    {
      "cell_type": "markdown",
      "metadata": {
        "id": "Vm_IYQThZcFJ"
      },
      "source": [
        "##### **---> Exploración variable l1:**"
      ]
    },
    {
      "cell_type": "code",
      "metadata": {
        "id": "7H0RaeTAZcFK"
      },
      "source": [
        ""
      ],
      "execution_count": null,
      "outputs": []
    },
    {
      "cell_type": "markdown",
      "metadata": {
        "id": "bKm-PShjZcMf"
      },
      "source": [
        "##### **---> Exploración variable l2:**"
      ]
    },
    {
      "cell_type": "code",
      "metadata": {
        "id": "GrooF-LgZcMg"
      },
      "source": [
        ""
      ],
      "execution_count": null,
      "outputs": []
    },
    {
      "cell_type": "markdown",
      "metadata": {
        "id": "v30f-nJhZcTL"
      },
      "source": [
        "##### **---> Exploración variable l3:**"
      ]
    },
    {
      "cell_type": "code",
      "metadata": {
        "id": "4rFL76b6ZcTM"
      },
      "source": [
        ""
      ],
      "execution_count": null,
      "outputs": []
    },
    {
      "cell_type": "markdown",
      "metadata": {
        "id": "wAEX4cdmZcZi"
      },
      "source": [
        "##### **---> Exploración variable rooms:**"
      ]
    },
    {
      "cell_type": "code",
      "metadata": {
        "id": "JNWQCEv8ZcZi"
      },
      "source": [
        ""
      ],
      "execution_count": null,
      "outputs": []
    },
    {
      "cell_type": "markdown",
      "metadata": {
        "id": "CdVyUncVZcg6"
      },
      "source": [
        "##### **---> Exploración variable bedrooms:**"
      ]
    },
    {
      "cell_type": "code",
      "metadata": {
        "id": "-fkJhpmGZcg7"
      },
      "source": [
        ""
      ],
      "execution_count": null,
      "outputs": []
    },
    {
      "cell_type": "markdown",
      "metadata": {
        "id": "x4mEn_agZcpW"
      },
      "source": [
        "##### **---> Exploración variable bathrooms:**"
      ]
    },
    {
      "cell_type": "code",
      "metadata": {
        "id": "8s9GzY0IZcpX"
      },
      "source": [
        ""
      ],
      "execution_count": null,
      "outputs": []
    },
    {
      "cell_type": "markdown",
      "metadata": {
        "id": "WJr_1s6fZcx9"
      },
      "source": [
        "##### **---> Exploración variable surface_total:**"
      ]
    },
    {
      "cell_type": "code",
      "metadata": {
        "id": "4CE3wtULZcx-"
      },
      "source": [
        ""
      ],
      "execution_count": null,
      "outputs": []
    },
    {
      "cell_type": "markdown",
      "metadata": {
        "id": "0HRYmP82Zc53"
      },
      "source": [
        "##### **---> Exploración variable start_date:**"
      ]
    },
    {
      "cell_type": "code",
      "metadata": {
        "id": "ZCzixUs6Zc54"
      },
      "source": [
        ""
      ],
      "execution_count": null,
      "outputs": []
    },
    {
      "cell_type": "markdown",
      "metadata": {
        "id": "YOxn8-JrZdA9"
      },
      "source": [
        "##### **---> Exploración variable surface_covered:**"
      ]
    },
    {
      "cell_type": "code",
      "metadata": {
        "id": "pCQ7McUXZdA-"
      },
      "source": [
        ""
      ],
      "execution_count": null,
      "outputs": []
    },
    {
      "cell_type": "markdown",
      "metadata": {
        "id": "4jhc38s8ZdIo"
      },
      "source": [
        "##### **---> Exploración variable price:**"
      ]
    },
    {
      "cell_type": "code",
      "metadata": {
        "id": "3v4hTNkXZdIp"
      },
      "source": [
        ""
      ],
      "execution_count": null,
      "outputs": []
    },
    {
      "cell_type": "markdown",
      "metadata": {
        "id": "UKv_gtI5ZdPu"
      },
      "source": [
        "##### **---> Exploración variable currency:**"
      ]
    },
    {
      "cell_type": "code",
      "metadata": {
        "id": "vhmBbbwzZdPv"
      },
      "source": [
        ""
      ],
      "execution_count": null,
      "outputs": []
    },
    {
      "cell_type": "markdown",
      "metadata": {
        "id": "GSqseAsRZdXC"
      },
      "source": [
        "##### **---> Exploración variable title:**"
      ]
    },
    {
      "cell_type": "code",
      "metadata": {
        "id": "gUNDc53xZdXC"
      },
      "source": [
        ""
      ],
      "execution_count": null,
      "outputs": []
    },
    {
      "cell_type": "markdown",
      "metadata": {
        "id": "aJs3WIVMZdeE"
      },
      "source": [
        "##### **---> Exploración variable description:**"
      ]
    },
    {
      "cell_type": "code",
      "metadata": {
        "id": "iaeuLAkHZdeE"
      },
      "source": [
        ""
      ],
      "execution_count": null,
      "outputs": []
    },
    {
      "cell_type": "markdown",
      "metadata": {
        "id": "ldbGS_MZZdlc"
      },
      "source": [
        "##### **---> Exploración variable property_type:**"
      ]
    },
    {
      "cell_type": "code",
      "metadata": {
        "id": "-9IvCDQVZdlc"
      },
      "source": [
        ""
      ],
      "execution_count": null,
      "outputs": []
    }
  ]
}