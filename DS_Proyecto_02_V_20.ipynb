{
  "nbformat": 4,
  "nbformat_minor": 0,
  "metadata": {
    "kernelspec": {
      "display_name": "Python 3",
      "language": "python",
      "name": "python3"
    },
    "language_info": {
      "codemirror_mode": {
        "name": "ipython",
        "version": 3
      },
      "file_extension": ".py",
      "mimetype": "text/x-python",
      "name": "python",
      "nbconvert_exporter": "python",
      "pygments_lexer": "ipython3",
      "version": "3.8.8"
    },
    "colab": {
      "name": "DS_Proyecto_02.ipynb",
      "provenance": [],
      "toc_visible": true,
      "include_colab_link": true
    }
  },
  "cells": [
    {
      "cell_type": "markdown",
      "metadata": {
        "id": "view-in-github",
        "colab_type": "text"
      },
      "source": [
        "<a href=\"https://colab.research.google.com/github/alexandergribenchenko/Acamica_Proyecto_02/blob/main/DS_Proyecto_02_V_20.ipynb\" target=\"_parent\"><img src=\"https://colab.research.google.com/assets/colab-badge.svg\" alt=\"Open In Colab\"/></a>"
      ]
    },
    {
      "cell_type": "markdown",
      "metadata": {
        "id": "XAMLpLgdGJ5W"
      },
      "source": [
        "# **Proyecto 02 - Ingeniería de features, Modelos avanzados e Interpretación de modelos** (Armado) V_19"
      ]
    },
    {
      "cell_type": "markdown",
      "metadata": {
        "id": "hovEgj74GJ5X"
      },
      "source": [
        "### (Acámica - DS online 40 - Proyecto 02 - Alexander Ortega)"
      ]
    },
    {
      "cell_type": "markdown",
      "metadata": {
        "id": "wxpYDd1mEb4k"
      },
      "source": [
        "# **Alcance y objeto del proyecto:**\n"
      ]
    },
    {
      "cell_type": "markdown",
      "metadata": {
        "id": "6MeSr6lLEnBg"
      },
      "source": [
        "El presente proyecto tiene como finalidad exhibir e implementar un conjunto de herramientas analíticas y predictivas propias de problemas del aprendizaje supervisado, más especificamante de problemas de regresión, empleando como contexto específico el estudio de los precios de los inmuebles de la Ciudad de Buenos Aires entre 2019 y enero de 2020, con el fin de generar y evaluar modelos que permitan hacer su predicción. "
      ]
    },
    {
      "cell_type": "markdown",
      "metadata": {
        "id": "lbEBtnt9FFan"
      },
      "source": [
        "##### ---> Librerías a emplear en el proyecto:"
      ]
    },
    {
      "cell_type": "code",
      "metadata": {
        "colab": {
          "base_uri": "https://localhost:8080/"
        },
        "id": "H9M2TjbgQkfh",
        "outputId": "69843908-8fbb-42ec-8b05-00488bb08acd"
      },
      "source": [
        "!pip install --upgrade scikit-learn"
      ],
      "execution_count": 1,
      "outputs": [
        {
          "output_type": "stream",
          "text": [
            "Collecting scikit-learn\n",
            "\u001b[?25l  Downloading https://files.pythonhosted.org/packages/a8/eb/a48f25c967526b66d5f1fa7a984594f0bf0a5afafa94a8c4dbc317744620/scikit_learn-0.24.2-cp37-cp37m-manylinux2010_x86_64.whl (22.3MB)\n",
            "\u001b[K     |████████████████████████████████| 22.3MB 59.9MB/s \n",
            "\u001b[?25hRequirement already satisfied, skipping upgrade: joblib>=0.11 in /usr/local/lib/python3.7/dist-packages (from scikit-learn) (1.0.1)\n",
            "Requirement already satisfied, skipping upgrade: numpy>=1.13.3 in /usr/local/lib/python3.7/dist-packages (from scikit-learn) (1.19.5)\n",
            "Requirement already satisfied, skipping upgrade: scipy>=0.19.1 in /usr/local/lib/python3.7/dist-packages (from scikit-learn) (1.4.1)\n",
            "Collecting threadpoolctl>=2.0.0\n",
            "  Downloading https://files.pythonhosted.org/packages/f7/12/ec3f2e203afa394a149911729357aa48affc59c20e2c1c8297a60f33f133/threadpoolctl-2.1.0-py3-none-any.whl\n",
            "Installing collected packages: threadpoolctl, scikit-learn\n",
            "  Found existing installation: scikit-learn 0.22.2.post1\n",
            "    Uninstalling scikit-learn-0.22.2.post1:\n",
            "      Successfully uninstalled scikit-learn-0.22.2.post1\n",
            "Successfully installed scikit-learn-0.24.2 threadpoolctl-2.1.0\n"
          ],
          "name": "stdout"
        }
      ]
    },
    {
      "cell_type": "code",
      "metadata": {
        "colab": {
          "base_uri": "https://localhost:8080/"
        },
        "id": "AtObtnd0QaSw",
        "outputId": "639fd7da-2bd2-4fe7-d70a-6d0da7a431cd"
      },
      "source": [
        "!pip install --upgrade xgboost"
      ],
      "execution_count": 2,
      "outputs": [
        {
          "output_type": "stream",
          "text": [
            "Collecting xgboost\n",
            "\u001b[?25l  Downloading https://files.pythonhosted.org/packages/bb/35/169eec194bf1f9ef52ed670f5032ef2abaf6ed285cfadcb4b6026b800fc9/xgboost-1.4.2-py3-none-manylinux2010_x86_64.whl (166.7MB)\n",
            "\u001b[K     |████████████████████████████████| 166.7MB 82kB/s \n",
            "\u001b[?25hRequirement already satisfied, skipping upgrade: scipy in /usr/local/lib/python3.7/dist-packages (from xgboost) (1.4.1)\n",
            "Requirement already satisfied, skipping upgrade: numpy in /usr/local/lib/python3.7/dist-packages (from xgboost) (1.19.5)\n",
            "Installing collected packages: xgboost\n",
            "  Found existing installation: xgboost 0.90\n",
            "    Uninstalling xgboost-0.90:\n",
            "      Successfully uninstalled xgboost-0.90\n",
            "Successfully installed xgboost-1.4.2\n"
          ],
          "name": "stdout"
        }
      ]
    },
    {
      "cell_type": "code",
      "metadata": {
        "id": "N6jnKm8jGJ5Y"
      },
      "source": [
        "import pandas as pd\n",
        "import numpy as np\n",
        "import matplotlib.pyplot as plt\n",
        "import seaborn as sns\n",
        "sns.set()\n",
        "\n",
        "from sklearn.impute import KNNImputer\n",
        "from sklearn.preprocessing import StandardScaler, MinMaxScaler\n",
        "from sklearn.model_selection import train_test_split\n",
        "from sklearn.linear_model import LinearRegression\n",
        "from sklearn.tree import DecisionTreeRegressor\n",
        "from sklearn.neighbors import KNeighborsRegressor\n",
        "from sklearn.metrics import mean_squared_error, r2_score\n",
        "from sklearn.model_selection import cross_validate\n",
        "from sklearn.model_selection import GridSearchCV\n",
        "from sklearn.model_selection import RandomizedSearchCV\n",
        "\n",
        "from sklearn.ensemble import RandomForestRegressor\n",
        "import xgboost as xgb\n",
        "from xgboost import plot_importance, plot_tree\n",
        "\n",
        "import pickle\n",
        "import sys\n",
        "\n",
        "pd.set_option('display.max_columns', None)\n",
        "\n",
        "import time\n",
        "start_time = time.time()\n",
        "\n",
        "import warnings\n",
        "warnings.filterwarnings(\"ignore\")"
      ],
      "execution_count": 3,
      "outputs": []
    },
    {
      "cell_type": "markdown",
      "metadata": {
        "id": "BcQnnKLzGJ5a"
      },
      "source": [
        "# **Etapa Preliminar.** Preparación del dataset de análisis"
      ]
    },
    {
      "cell_type": "markdown",
      "metadata": {
        "id": "PfAihOqRVK82"
      },
      "source": [
        "En la presente etapa,  que dividiremos en  4 pasos, recopilaremos y cargaremos la información primaria para el estudio, exploramos el dataset cargado (raw) para entender mejor cada una de las variables y entender con ello qué tipo de procesamiento deberíamos aplicar, eliminaremos los atributos que hayamos encontrado que no sean relevantes para el modelo y filtraremos respecto a las categorías de interés, y finalmente definiremos el dataset base que será el que empleado de manera posterior en la etapa de Transformación de datos."
      ]
    },
    {
      "cell_type": "markdown",
      "metadata": {
        "id": "gUIsDsfGUnjl"
      },
      "source": [
        "## **EP. 1.1.** Recopilación y descarga de la información primaria"
      ]
    },
    {
      "cell_type": "markdown",
      "metadata": {
        "id": "n7ced5edUpTK"
      },
      "source": [
        "La información base para el desarrollo del siguiente proyecto fue obtenida de la [página de la división de datos de Properati](https://www.properati.com.co/data/), una plataforma web enfocada en el mercado inmobiliario de 4 países de Latinoamérica: Argentina, Colombia, Perú y Ecuador. En específico en la sección de Datasets del enlace descrito encontramos el enlace de descarga directa  en formato CSV para cada uno de los países.\n",
        "\n",
        "Para efectos del desarrollo del proyecto generamos únicamente la descarga del dataset de Argentina y tomamos en cuenta únicamente las propiedades publicadas entre 2019 y enero de 2020, ubicadas al interior del Gran Buenos Aires. \n",
        " "
      ]
    },
    {
      "cell_type": "markdown",
      "metadata": {
        "id": "rwjeH8bQWlKP"
      },
      "source": [
        "## **EP. 1.2.** Exploración del dataset (raw)"
      ]
    },
    {
      "cell_type": "markdown",
      "metadata": {
        "id": "hXeWGpz8Wqvv"
      },
      "source": [
        "Iniciaremos cargando y evaluando la información general del dataset descargado (Argentina, 2019):\n"
      ]
    },
    {
      "cell_type": "code",
      "metadata": {
        "id": "fevtqAxiLqLj",
        "colab": {
          "base_uri": "https://localhost:8080/"
        },
        "outputId": "9364a1aa-b93c-4cf9-a3a1-d5920eb44953"
      },
      "source": [
        "from google.colab import drive\n",
        "drive.mount('/content/drive/')"
      ],
      "execution_count": 4,
      "outputs": [
        {
          "output_type": "stream",
          "text": [
            "Mounted at /content/drive/\n"
          ],
          "name": "stdout"
        }
      ]
    },
    {
      "cell_type": "code",
      "metadata": {
        "id": "Ur_CiW6ZLzf6"
      },
      "source": [
        "path_data = '/content/drive/MyDrive/Colab Notebooks/00_Acamica/DS_Proyecto_01_Datos_Properati.csv'"
      ],
      "execution_count": 5,
      "outputs": []
    },
    {
      "cell_type": "code",
      "metadata": {
        "id": "G571lUV6GJ5a",
        "colab": {
          "base_uri": "https://localhost:8080/",
          "height": 536
        },
        "outputId": "89ede2dd-2c77-4624-9f1c-a68301d9d092"
      },
      "source": [
        "df = pd.read_csv(path_data, sep =',')\n",
        "df.head()"
      ],
      "execution_count": 6,
      "outputs": [
        {
          "output_type": "execute_result",
          "data": {
            "text/html": [
              "<div>\n",
              "<style scoped>\n",
              "    .dataframe tbody tr th:only-of-type {\n",
              "        vertical-align: middle;\n",
              "    }\n",
              "\n",
              "    .dataframe tbody tr th {\n",
              "        vertical-align: top;\n",
              "    }\n",
              "\n",
              "    .dataframe thead th {\n",
              "        text-align: right;\n",
              "    }\n",
              "</style>\n",
              "<table border=\"1\" class=\"dataframe\">\n",
              "  <thead>\n",
              "    <tr style=\"text-align: right;\">\n",
              "      <th></th>\n",
              "      <th>start_date</th>\n",
              "      <th>end_date</th>\n",
              "      <th>created_on</th>\n",
              "      <th>lat</th>\n",
              "      <th>lon</th>\n",
              "      <th>l1</th>\n",
              "      <th>l2</th>\n",
              "      <th>l3</th>\n",
              "      <th>rooms</th>\n",
              "      <th>bedrooms</th>\n",
              "      <th>bathrooms</th>\n",
              "      <th>surface_total</th>\n",
              "      <th>surface_covered</th>\n",
              "      <th>price</th>\n",
              "      <th>currency</th>\n",
              "      <th>title</th>\n",
              "      <th>description</th>\n",
              "      <th>property_type</th>\n",
              "      <th>operation_type</th>\n",
              "    </tr>\n",
              "  </thead>\n",
              "  <tbody>\n",
              "    <tr>\n",
              "      <th>0</th>\n",
              "      <td>2019-10-17</td>\n",
              "      <td>2019-12-23</td>\n",
              "      <td>2019-10-17</td>\n",
              "      <td>-34.605880</td>\n",
              "      <td>-58.384949</td>\n",
              "      <td>Argentina</td>\n",
              "      <td>Capital Federal</td>\n",
              "      <td>San Cristobal</td>\n",
              "      <td>7.0</td>\n",
              "      <td>7.0</td>\n",
              "      <td>2.0</td>\n",
              "      <td>140.0</td>\n",
              "      <td>140.0</td>\n",
              "      <td>153000.0</td>\n",
              "      <td>USD</td>\n",
              "      <td>***Venta semipiso centro, ideal hostel*****</td>\n",
              "      <td>DESCRIPCION DE LA PROPIEDAD: Departamento de 1...</td>\n",
              "      <td>Departamento</td>\n",
              "      <td>Venta</td>\n",
              "    </tr>\n",
              "    <tr>\n",
              "      <th>1</th>\n",
              "      <td>2019-10-17</td>\n",
              "      <td>2019-11-21</td>\n",
              "      <td>2019-10-17</td>\n",
              "      <td>-34.624056</td>\n",
              "      <td>-58.412110</td>\n",
              "      <td>Argentina</td>\n",
              "      <td>Capital Federal</td>\n",
              "      <td>Boedo</td>\n",
              "      <td>2.0</td>\n",
              "      <td>1.0</td>\n",
              "      <td>2.0</td>\n",
              "      <td>70.0</td>\n",
              "      <td>58.0</td>\n",
              "      <td>159000.0</td>\n",
              "      <td>USD</td>\n",
              "      <td>Espectacular PH reciclado en Boedo sin expensas.</td>\n",
              "      <td>PH reciclado en Boedo a una cuadra de la plaz...</td>\n",
              "      <td>PH</td>\n",
              "      <td>Venta</td>\n",
              "    </tr>\n",
              "    <tr>\n",
              "      <th>2</th>\n",
              "      <td>2019-10-17</td>\n",
              "      <td>2019-11-01</td>\n",
              "      <td>2019-10-17</td>\n",
              "      <td>-34.593569</td>\n",
              "      <td>-58.427474</td>\n",
              "      <td>Argentina</td>\n",
              "      <td>Capital Federal</td>\n",
              "      <td>Palermo</td>\n",
              "      <td>2.0</td>\n",
              "      <td>1.0</td>\n",
              "      <td>1.0</td>\n",
              "      <td>45.0</td>\n",
              "      <td>45.0</td>\n",
              "      <td>125000.0</td>\n",
              "      <td>USD</td>\n",
              "      <td>Depto.tipo casa de 2 ambientes en Venta en Pal...</td>\n",
              "      <td>2 ambienets amplio , excelente estado , patio ...</td>\n",
              "      <td>PH</td>\n",
              "      <td>Venta</td>\n",
              "    </tr>\n",
              "    <tr>\n",
              "      <th>3</th>\n",
              "      <td>2019-10-17</td>\n",
              "      <td>2019-12-23</td>\n",
              "      <td>2019-10-17</td>\n",
              "      <td>-34.581294</td>\n",
              "      <td>-58.436754</td>\n",
              "      <td>Argentina</td>\n",
              "      <td>Capital Federal</td>\n",
              "      <td>Palermo</td>\n",
              "      <td>2.0</td>\n",
              "      <td>1.0</td>\n",
              "      <td>1.0</td>\n",
              "      <td>85.0</td>\n",
              "      <td>50.0</td>\n",
              "      <td>295000.0</td>\n",
              "      <td>USD</td>\n",
              "      <td>COSTA RICA 5800 / PALERMO HOLLYWOOD / VENTA PH...</td>\n",
              "      <td>HERMOSO PH EN PALERMO!!!2 AMBIENTES TOTALMENTE...</td>\n",
              "      <td>PH</td>\n",
              "      <td>Venta</td>\n",
              "    </tr>\n",
              "    <tr>\n",
              "      <th>4</th>\n",
              "      <td>2019-10-17</td>\n",
              "      <td>2020-03-11</td>\n",
              "      <td>2019-10-17</td>\n",
              "      <td>-34.914194</td>\n",
              "      <td>-57.938219</td>\n",
              "      <td>Argentina</td>\n",
              "      <td>Bs.As. G.B.A. Zona Sur</td>\n",
              "      <td>La Plata</td>\n",
              "      <td>2.0</td>\n",
              "      <td>1.0</td>\n",
              "      <td>1.0</td>\n",
              "      <td>50.0</td>\n",
              "      <td>35.0</td>\n",
              "      <td>40000.0</td>\n",
              "      <td>USD</td>\n",
              "      <td>58 entre 1 y 2  Venta de departamento en ph.1 ...</td>\n",
              "      <td>58 entre 1 y 2  Venta de departamento en PH. P...</td>\n",
              "      <td>PH</td>\n",
              "      <td>Venta</td>\n",
              "    </tr>\n",
              "  </tbody>\n",
              "</table>\n",
              "</div>"
            ],
            "text/plain": [
              "   start_date    end_date  created_on        lat        lon         l1  \\\n",
              "0  2019-10-17  2019-12-23  2019-10-17 -34.605880 -58.384949  Argentina   \n",
              "1  2019-10-17  2019-11-21  2019-10-17 -34.624056 -58.412110  Argentina   \n",
              "2  2019-10-17  2019-11-01  2019-10-17 -34.593569 -58.427474  Argentina   \n",
              "3  2019-10-17  2019-12-23  2019-10-17 -34.581294 -58.436754  Argentina   \n",
              "4  2019-10-17  2020-03-11  2019-10-17 -34.914194 -57.938219  Argentina   \n",
              "\n",
              "                       l2             l3  rooms  bedrooms  bathrooms  \\\n",
              "0         Capital Federal  San Cristobal    7.0       7.0        2.0   \n",
              "1         Capital Federal          Boedo    2.0       1.0        2.0   \n",
              "2         Capital Federal        Palermo    2.0       1.0        1.0   \n",
              "3         Capital Federal        Palermo    2.0       1.0        1.0   \n",
              "4  Bs.As. G.B.A. Zona Sur       La Plata    2.0       1.0        1.0   \n",
              "\n",
              "   surface_total  surface_covered     price currency  \\\n",
              "0          140.0            140.0  153000.0      USD   \n",
              "1           70.0             58.0  159000.0      USD   \n",
              "2           45.0             45.0  125000.0      USD   \n",
              "3           85.0             50.0  295000.0      USD   \n",
              "4           50.0             35.0   40000.0      USD   \n",
              "\n",
              "                                               title  \\\n",
              "0        ***Venta semipiso centro, ideal hostel*****   \n",
              "1   Espectacular PH reciclado en Boedo sin expensas.   \n",
              "2  Depto.tipo casa de 2 ambientes en Venta en Pal...   \n",
              "3  COSTA RICA 5800 / PALERMO HOLLYWOOD / VENTA PH...   \n",
              "4  58 entre 1 y 2  Venta de departamento en ph.1 ...   \n",
              "\n",
              "                                         description property_type  \\\n",
              "0  DESCRIPCION DE LA PROPIEDAD: Departamento de 1...  Departamento   \n",
              "1   PH reciclado en Boedo a una cuadra de la plaz...            PH   \n",
              "2  2 ambienets amplio , excelente estado , patio ...            PH   \n",
              "3  HERMOSO PH EN PALERMO!!!2 AMBIENTES TOTALMENTE...            PH   \n",
              "4  58 entre 1 y 2  Venta de departamento en PH. P...            PH   \n",
              "\n",
              "  operation_type  \n",
              "0          Venta  \n",
              "1          Venta  \n",
              "2          Venta  \n",
              "3          Venta  \n",
              "4          Venta  "
            ]
          },
          "metadata": {
            "tags": []
          },
          "execution_count": 6
        }
      ]
    },
    {
      "cell_type": "code",
      "metadata": {
        "id": "q9403w-ZGJ5b",
        "colab": {
          "base_uri": "https://localhost:8080/"
        },
        "outputId": "1d8dd2bb-71bb-4040-e3c1-ff493eff658e"
      },
      "source": [
        "df.info()"
      ],
      "execution_count": 7,
      "outputs": [
        {
          "output_type": "stream",
          "text": [
            "<class 'pandas.core.frame.DataFrame'>\n",
            "RangeIndex: 146660 entries, 0 to 146659\n",
            "Data columns (total 19 columns):\n",
            " #   Column           Non-Null Count   Dtype  \n",
            "---  ------           --------------   -----  \n",
            " 0   start_date       146660 non-null  object \n",
            " 1   end_date         146660 non-null  object \n",
            " 2   created_on       146660 non-null  object \n",
            " 3   lat              136735 non-null  float64\n",
            " 4   lon              136701 non-null  float64\n",
            " 5   l1               146660 non-null  object \n",
            " 6   l2               146660 non-null  object \n",
            " 7   l3               146660 non-null  object \n",
            " 8   rooms            146660 non-null  float64\n",
            " 9   bedrooms         146660 non-null  float64\n",
            " 10  bathrooms        140703 non-null  float64\n",
            " 11  surface_total    126133 non-null  float64\n",
            " 12  surface_covered  125046 non-null  float64\n",
            " 13  price            146660 non-null  float64\n",
            " 14  currency         146660 non-null  object \n",
            " 15  title            146660 non-null  object \n",
            " 16  description      146660 non-null  object \n",
            " 17  property_type    146660 non-null  object \n",
            " 18  operation_type   146660 non-null  object \n",
            "dtypes: float64(8), object(11)\n",
            "memory usage: 21.3+ MB\n"
          ],
          "name": "stdout"
        }
      ]
    },
    {
      "cell_type": "markdown",
      "metadata": {
        "id": "PmUsIwTCXWep"
      },
      "source": [
        "Corroboramos que el dataset cuenta con los siguientes 19 atributos:\n",
        "\n",
        "- **start_date:** fecha en formato año-mes-día en que inició la publicación.\n",
        "\n",
        "- **end_date:** fecha en formato año-mes-día en que finalizó la publicación.\n",
        "\n",
        "- **created_on:** fecha en formato año-mes-día en que se creó la publicación.\n",
        "\n",
        "- **lat:** latitud de la ubicación.\n",
        "\n",
        "- **lon:** longitud de la ubiucación.\n",
        "\n",
        "- **l1:** país del inmueble.\n",
        "\n",
        "- **l2:** zona del Gran Buenos Aires donde esta ubicado.\n",
        "\n",
        "- **l3:** barrio donde esta ubicado.\n",
        "\n",
        "- **rooms:** cantidad de espacios independientes.\n",
        "\n",
        "- **bedrooms:** cantidad de habitaciones.\n",
        "\n",
        "- **bathrooms:** cantidad de baños.\n",
        "\n",
        "- **surface_total:** superficie total.\n",
        "\n",
        "- **surface_covered:** superficie construida.\n",
        "\n",
        "- **price:** precio (este es nuestro target).\n",
        "\n",
        "- **currency:** moneda en que esta dado el precio.\n",
        "\n",
        "- **title:** titulo de la publicación.\n",
        "\n",
        "- **description:** descripción del inmueble.\n",
        "\n",
        "- **property_type:** tipo de propiedad.\n",
        "\n",
        "- **operation_type:** tipo de operación."
      ]
    },
    {
      "cell_type": "markdown",
      "metadata": {
        "id": "gpDnRROl553H"
      },
      "source": [
        "Exploraremos ahora con mayor detalle cada uno de los atributos para determinar cuáles de ellos nos son útiles, de cuales de ellos debemos prescindir porque no representan información relevante en nuestro contexto y cuáles deben ser transformados de manera inicial para que tengan una representación más limpia y homogénea en el dataset. "
      ]
    },
    {
      "cell_type": "markdown",
      "metadata": {
        "id": "jNbfCKbkXWZN"
      },
      "source": [
        "### **---> Exploración variable start_date, end_date, y created_on:**"
      ]
    },
    {
      "cell_type": "code",
      "metadata": {
        "id": "i251wHZZZuSr",
        "colab": {
          "base_uri": "https://localhost:8080/"
        },
        "outputId": "92f2737b-074e-4c9f-afb3-2c4ae3226c42"
      },
      "source": [
        "df.start_date = pd.to_datetime(df.start_date)\n",
        "print(df.start_date.min().date())\n",
        "print(df.start_date.max().date())\n",
        "df_temp = df.start_date.value_counts().to_frame().reset_index().sort_values(by=['index']).reset_index(drop=True)\n",
        "df_temp=df_temp.groupby([pd.Grouper(key= 'index', freq='MS')])\\\n",
        "        .sum().reset_index()\n",
        "df_temp['index'] = df_temp['index'].apply(lambda x: str(x.date())[0:7])\n",
        "df_temp.columns=['Mes','Cantidad publicaciones']"
      ],
      "execution_count": 8,
      "outputs": [
        {
          "output_type": "stream",
          "text": [
            "2019-01-01\n",
            "2020-01-25\n"
          ],
          "name": "stdout"
        }
      ]
    },
    {
      "cell_type": "code",
      "metadata": {
        "colab": {
          "base_uri": "https://localhost:8080/",
          "height": 411
        },
        "id": "naKxflRU77BX",
        "outputId": "0ce396dd-2cfd-4c51-b2d2-9348af82a1f0"
      },
      "source": [
        "plt.figure(figsize = (10,5))\n",
        "sns.barplot(data=df_temp, x=\"Mes\", y=\"Cantidad publicaciones\")\n",
        "plt.xticks(rotation=90)"
      ],
      "execution_count": 9,
      "outputs": [
        {
          "output_type": "execute_result",
          "data": {
            "text/plain": [
              "(array([ 0,  1,  2,  3,  4,  5,  6,  7,  8,  9, 10, 11, 12]),\n",
              " <a list of 13 Text major ticklabel objects>)"
            ]
          },
          "metadata": {
            "tags": []
          },
          "execution_count": 9
        },
        {
          "output_type": "display_data",
          "data": {
            "image/png": "[encoded data removed]",
            "text/plain": [
              "<Figure size 720x360 with 1 Axes>"
            ]
          },
          "metadata": {
            "tags": []
          }
        }
      ]
    },
    {
      "cell_type": "markdown",
      "metadata": {
        "id": "xomVuInrKOoD"
      },
      "source": [
        "Aunque vemos que hay un comportamiento diferencial entre la cantidad de publicaciones en los diferentes meses del año, no centraremos nuestro estudio en dicho comportamiento. Si bien el precio de los inmuebles puede fluctuar dependiendo de la fecha de publicación, este comportamiento temporal es un comportamiento que se sugeriría estudiar con mayor detalle en el caso que se encuentre relevante para un segmento de inmuebles particular. \n",
        "\n",
        "Para nuestro caso específico prescindiremos de las variables asociadas a las fechas y asumiremos que las fechas tanto de inicio, finalización y creación de la publicación, no son relevantes frente a las restantes características de los inmuebles.\n",
        "\n",
        "**Procesamiento a aplicar:** las variables que serán descartadas en el dataframe de analisis.\n"
      ]
    },
    {
      "cell_type": "markdown",
      "metadata": {
        "id": "ics78OULZbzM"
      },
      "source": [
        "### **---> Exploración variables lat y lon:**"
      ]
    },
    {
      "cell_type": "code",
      "metadata": {
        "colab": {
          "base_uri": "https://localhost:8080/",
          "height": 0
        },
        "id": "CXz1ileLZbzN",
        "outputId": "2425eb68-f2e6-4d33-d041-e72ecc0ae305"
      },
      "source": [
        "df[['lat','lon']].describe()"
      ],
      "execution_count": 10,
      "outputs": [
        {
          "output_type": "execute_result",
          "data": {
            "text/html": [
              "<div>\n",
              "<style scoped>\n",
              "    .dataframe tbody tr th:only-of-type {\n",
              "        vertical-align: middle;\n",
              "    }\n",
              "\n",
              "    .dataframe tbody tr th {\n",
              "        vertical-align: top;\n",
              "    }\n",
              "\n",
              "    .dataframe thead th {\n",
              "        text-align: right;\n",
              "    }\n",
              "</style>\n",
              "<table border=\"1\" class=\"dataframe\">\n",
              "  <thead>\n",
              "    <tr style=\"text-align: right;\">\n",
              "      <th></th>\n",
              "      <th>lat</th>\n",
              "      <th>lon</th>\n",
              "    </tr>\n",
              "  </thead>\n",
              "  <tbody>\n",
              "    <tr>\n",
              "      <th>count</th>\n",
              "      <td>136735.000000</td>\n",
              "      <td>136701.000000</td>\n",
              "    </tr>\n",
              "    <tr>\n",
              "      <th>mean</th>\n",
              "      <td>-34.604896</td>\n",
              "      <td>-58.465304</td>\n",
              "    </tr>\n",
              "    <tr>\n",
              "      <th>std</th>\n",
              "      <td>0.468428</td>\n",
              "      <td>0.486190</td>\n",
              "    </tr>\n",
              "    <tr>\n",
              "      <th>min</th>\n",
              "      <td>-35.318457</td>\n",
              "      <td>-180.000000</td>\n",
              "    </tr>\n",
              "    <tr>\n",
              "      <th>25%</th>\n",
              "      <td>-34.627667</td>\n",
              "      <td>-58.504012</td>\n",
              "    </tr>\n",
              "    <tr>\n",
              "      <th>50%</th>\n",
              "      <td>-34.600943</td>\n",
              "      <td>-58.443262</td>\n",
              "    </tr>\n",
              "    <tr>\n",
              "      <th>75%</th>\n",
              "      <td>-34.574600</td>\n",
              "      <td>-58.407586</td>\n",
              "    </tr>\n",
              "    <tr>\n",
              "      <th>max</th>\n",
              "      <td>85.051129</td>\n",
              "      <td>-57.805832</td>\n",
              "    </tr>\n",
              "  </tbody>\n",
              "</table>\n",
              "</div>"
            ],
            "text/plain": [
              "                 lat            lon\n",
              "count  136735.000000  136701.000000\n",
              "mean      -34.604896     -58.465304\n",
              "std         0.468428       0.486190\n",
              "min       -35.318457    -180.000000\n",
              "25%       -34.627667     -58.504012\n",
              "50%       -34.600943     -58.443262\n",
              "75%       -34.574600     -58.407586\n",
              "max        85.051129     -57.805832"
            ]
          },
          "metadata": {
            "tags": []
          },
          "execution_count": 10
        }
      ]
    },
    {
      "cell_type": "markdown",
      "metadata": {
        "id": "LjEp0HbzMn1L"
      },
      "source": [
        "Aunque observamos que la distribución de latitudes y longitudes pueden presentar algunos valores atípicos en sus maximos y minimos, vemos acorde al percentil 75% y a su valor medio, que en general las latitudes y longitudes corresponden con las de la ciudad de buenos aires  (valores esperados próximos a: latitud 34.36 y longitud 58.26). \n",
        "\n",
        "Estas variables las tendremos en cuenta pues corresponden con geolocalizaciones, que en conjunto con otras variables de ubicación pueden presentar una influencia significativa en el precio de los inmuebles. \n",
        "\n",
        "**Procesamiento a aplicar:** las variables son de tipo numérico continuo. Se evaluarán y descartaran outliers y se escalarán sus datos. Los datos con valores faltantes no se imputarán, pues corresponden con a una ubicación muy específica para cada inmueble que no sería sensato obtener a partir de una imputación.\n",
        "\n"
      ]
    },
    {
      "cell_type": "markdown",
      "metadata": {
        "id": "Vm_IYQThZcFJ"
      },
      "source": [
        "### **---> Exploración variables l1, l2 y l3:**"
      ]
    },
    {
      "cell_type": "code",
      "metadata": {
        "colab": {
          "base_uri": "https://localhost:8080/"
        },
        "id": "7H0RaeTAZcFK",
        "outputId": "e34a65e3-ab3b-4870-f18e-b3e851ebb411"
      },
      "source": [
        "df.l1.value_counts(dropna=False)"
      ],
      "execution_count": 11,
      "outputs": [
        {
          "output_type": "execute_result",
          "data": {
            "text/plain": [
              "Argentina    146660\n",
              "Name: l1, dtype: int64"
            ]
          },
          "metadata": {
            "tags": []
          },
          "execution_count": 11
        }
      ]
    },
    {
      "cell_type": "markdown",
      "metadata": {
        "id": "qw9apCZKThtO"
      },
      "source": [
        "La variable l1 será descartada del total pues todos los inmuebles se encuentran en Argentina por lo cual no agrega valor alguno."
      ]
    },
    {
      "cell_type": "code",
      "metadata": {
        "colab": {
          "base_uri": "https://localhost:8080/",
          "height": 0
        },
        "id": "GrooF-LgZcMg",
        "outputId": "47fc8d42-9124-4496-e51d-3af14f10689f"
      },
      "source": [
        "plt.figure(figsize = (10,5))\n",
        "print(round(100*df.l2.value_counts(dropna=False, normalize=True),2))\n",
        "sns.countplot(data = df, y = 'l2', order = df['l2'].value_counts().index, palette='cool')"
      ],
      "execution_count": 12,
      "outputs": [
        {
          "output_type": "stream",
          "text": [
            "Capital Federal             63.10\n",
            "Bs.As. G.B.A. Zona Norte    16.56\n",
            "Bs.As. G.B.A. Zona Sur      11.71\n",
            "Bs.As. G.B.A. Zona Oeste     8.64\n",
            "Name: l2, dtype: float64\n"
          ],
          "name": "stdout"
        },
        {
          "output_type": "execute_result",
          "data": {
            "text/plain": [
              "<matplotlib.axes._subplots.AxesSubplot at 0x7ffafda88490>"
            ]
          },
          "metadata": {
            "tags": []
          },
          "execution_count": 12
        },
        {
          "output_type": "display_data",
          "data": {
            "image/png": "[encoded data removed]",
            "text/plain": [
              "<Figure size 720x360 with 1 Axes>"
            ]
          },
          "metadata": {
            "tags": []
          }
        }
      ]
    },
    {
      "cell_type": "markdown",
      "metadata": {
        "id": "VPRywBHqTmC1"
      },
      "source": [
        "Dado que acorde a la distribución de la variable l2 la zona más representativa en relación con la cantidad de registros es Capital Federal (63% de los registros), filtraremos nuestro dataset para tener únicamente en cuenta los de esta Zona y así tener resultados comparativos de los modelos con los presentados en el primer proyecto."
      ]
    },
    {
      "cell_type": "code",
      "metadata": {
        "colab": {
          "base_uri": "https://localhost:8080/",
          "height": 0
        },
        "id": "4rFL76b6ZcTM",
        "outputId": "eb315214-1925-4072-c9af-55462e87690a"
      },
      "source": [
        "plt.figure(figsize = (15,20))\n",
        "print(round(100*df.l3.value_counts(dropna=False, normalize=True),2))\n",
        "sns.countplot(data = df, y = 'l3', order = df['l3'].value_counts().index, palette='cool')"
      ],
      "execution_count": 13,
      "outputs": [
        {
          "output_type": "stream",
          "text": [
            "Palermo            8.91\n",
            "Tigre              5.94\n",
            "Almagro            5.13\n",
            "Belgrano           4.73\n",
            "Caballito          4.53\n",
            "                   ... \n",
            "Cañuelas           0.07\n",
            "Villa Soldati      0.05\n",
            "Villa Riachuelo    0.03\n",
            "Marcos Paz         0.02\n",
            "Catalinas          0.00\n",
            "Name: l3, Length: 89, dtype: float64\n"
          ],
          "name": "stdout"
        },
        {
          "output_type": "execute_result",
          "data": {
            "text/plain": [
              "<matplotlib.axes._subplots.AxesSubplot at 0x7ffafe1fffd0>"
            ]
          },
          "metadata": {
            "tags": []
          },
          "execution_count": 13
        },
        {
          "output_type": "display_data",
          "data": {
            "image/png": "[encoded data removed]",
            "text/plain": [
              "<Figure size 1080x1440 with 1 Axes>"
            ]
          },
          "metadata": {
            "tags": []
          }
        }
      ]
    },
    {
      "cell_type": "markdown",
      "metadata": {
        "id": "AafJ8gVTVjA2"
      },
      "source": [
        "Aunque respecto a la variable L3 se encuentra una distribución con barrios con cantidades significativas de registros (Palermo, Tigre, Almagro) y otros barrios con cantidades muy pequeñas (Catalinas, Marcos Paz), dejaremos todos los barrios para tener la totalidad de Capital federal para nuestro análisis. Además la localización del inmueble acorde al barrio puede ser una de las propiedades más sensibles para establecer su precio y queremos observar esta influencia en los modelos a evaluar.\n",
        "\n",
        "**Procesamiento a aplicar:** las variables que son de tipo categórico nominal, por tanto para poder incluirlos en los modelos aplicaremos one hot encoding. Adicional a ello los valores faltantes podrán imputarse a partir de las variables restantes que se consideren de mayor interés (latitud y longitud de manera más específica para esta variable)."
      ]
    },
    {
      "cell_type": "markdown",
      "metadata": {
        "id": "wAEX4cdmZcZi"
      },
      "source": [
        "### **---> Exploración variables rooms, bedrooms, bathrooms:**"
      ]
    },
    {
      "cell_type": "code",
      "metadata": {
        "colab": {
          "base_uri": "https://localhost:8080/",
          "height": 0
        },
        "id": "JNWQCEv8ZcZi",
        "outputId": "09e35c16-e871-4f79-fa2f-9ff03204eed9"
      },
      "source": [
        "df[['rooms','bedrooms', 'bathrooms']].describe()"
      ],
      "execution_count": 14,
      "outputs": [
        {
          "output_type": "execute_result",
          "data": {
            "text/html": [
              "<div>\n",
              "<style scoped>\n",
              "    .dataframe tbody tr th:only-of-type {\n",
              "        vertical-align: middle;\n",
              "    }\n",
              "\n",
              "    .dataframe tbody tr th {\n",
              "        vertical-align: top;\n",
              "    }\n",
              "\n",
              "    .dataframe thead th {\n",
              "        text-align: right;\n",
              "    }\n",
              "</style>\n",
              "<table border=\"1\" class=\"dataframe\">\n",
              "  <thead>\n",
              "    <tr style=\"text-align: right;\">\n",
              "      <th></th>\n",
              "      <th>rooms</th>\n",
              "      <th>bedrooms</th>\n",
              "      <th>bathrooms</th>\n",
              "    </tr>\n",
              "  </thead>\n",
              "  <tbody>\n",
              "    <tr>\n",
              "      <th>count</th>\n",
              "      <td>146660.000000</td>\n",
              "      <td>146660.000000</td>\n",
              "      <td>140703.000000</td>\n",
              "    </tr>\n",
              "    <tr>\n",
              "      <th>mean</th>\n",
              "      <td>3.079817</td>\n",
              "      <td>1.983240</td>\n",
              "      <td>1.599994</td>\n",
              "    </tr>\n",
              "    <tr>\n",
              "      <th>std</th>\n",
              "      <td>1.416352</td>\n",
              "      <td>1.151304</td>\n",
              "      <td>0.889324</td>\n",
              "    </tr>\n",
              "    <tr>\n",
              "      <th>min</th>\n",
              "      <td>1.000000</td>\n",
              "      <td>0.000000</td>\n",
              "      <td>1.000000</td>\n",
              "    </tr>\n",
              "    <tr>\n",
              "      <th>25%</th>\n",
              "      <td>2.000000</td>\n",
              "      <td>1.000000</td>\n",
              "      <td>1.000000</td>\n",
              "    </tr>\n",
              "    <tr>\n",
              "      <th>50%</th>\n",
              "      <td>3.000000</td>\n",
              "      <td>2.000000</td>\n",
              "      <td>1.000000</td>\n",
              "    </tr>\n",
              "    <tr>\n",
              "      <th>75%</th>\n",
              "      <td>4.000000</td>\n",
              "      <td>3.000000</td>\n",
              "      <td>2.000000</td>\n",
              "    </tr>\n",
              "    <tr>\n",
              "      <th>max</th>\n",
              "      <td>35.000000</td>\n",
              "      <td>15.000000</td>\n",
              "      <td>14.000000</td>\n",
              "    </tr>\n",
              "  </tbody>\n",
              "</table>\n",
              "</div>"
            ],
            "text/plain": [
              "               rooms       bedrooms      bathrooms\n",
              "count  146660.000000  146660.000000  140703.000000\n",
              "mean        3.079817       1.983240       1.599994\n",
              "std         1.416352       1.151304       0.889324\n",
              "min         1.000000       0.000000       1.000000\n",
              "25%         2.000000       1.000000       1.000000\n",
              "50%         3.000000       2.000000       1.000000\n",
              "75%         4.000000       3.000000       2.000000\n",
              "max        35.000000      15.000000      14.000000"
            ]
          },
          "metadata": {
            "tags": []
          },
          "execution_count": 14
        }
      ]
    },
    {
      "cell_type": "markdown",
      "metadata": {
        "id": "XIgYM7Kpaelz"
      },
      "source": [
        "Acorde a la distribución de las variables encontramos fijándonos en el valor de los percentiles que por lo menos el 75% de las propiedades corresponden a inmuebles que tienen como máximo 4 espacios, 3 habitaciones y 2 baños. Esto corresponde en general con propiedades que seguramente serán del tipo Departamento, Casa o PH. \n",
        "\n",
        "Mantendremos todas las variables, pues en conjunto con la ubicación y la superficie pueden ser las variables más relevantes al determinar el precio de los inmuebles.\n",
        "\n",
        "**Procesamiento a aplicar:** las variables que son de tipo numérico discreto y esto hace que se puedan tener 2 aproximaciones en su transformación. Por una parte al tratarse de variables numéricas podemos establecer outliers respecto a su distribución y podemos normalizarlas, y por otra parte, dado que los grupos en los cuales se distribuyen no son muchas pueden considerarse también como variables categóricas de tipo ordinal con lo cual podría aplicarse label encoding para incluirlas en el modelo. La elección de la bondad de un camino u otro se dará al momento de evaluar los modelos. Adicional a ello los valores faltantes podrán imputarse a partir de las variables restantes que se consideren de mayor interés (quizá superficie, tipo de propiedad y las restantes rooms, bedrooms y bathroms que se conozcan).\n"
      ]
    },
    {
      "cell_type": "markdown",
      "metadata": {
        "id": "WJr_1s6fZcx9"
      },
      "source": [
        "### **---> Exploración variables surface_total  y surface covered:**"
      ]
    },
    {
      "cell_type": "code",
      "metadata": {
        "colab": {
          "base_uri": "https://localhost:8080/",
          "height": 0
        },
        "id": "4CE3wtULZcx-",
        "outputId": "e011695c-e2c9-4be8-de7f-e79e208e45b3"
      },
      "source": [
        "df[['surface_total','surface_covered']].describe()"
      ],
      "execution_count": 15,
      "outputs": [
        {
          "output_type": "execute_result",
          "data": {
            "text/html": [
              "<div>\n",
              "<style scoped>\n",
              "    .dataframe tbody tr th:only-of-type {\n",
              "        vertical-align: middle;\n",
              "    }\n",
              "\n",
              "    .dataframe tbody tr th {\n",
              "        vertical-align: top;\n",
              "    }\n",
              "\n",
              "    .dataframe thead th {\n",
              "        text-align: right;\n",
              "    }\n",
              "</style>\n",
              "<table border=\"1\" class=\"dataframe\">\n",
              "  <thead>\n",
              "    <tr style=\"text-align: right;\">\n",
              "      <th></th>\n",
              "      <th>surface_total</th>\n",
              "      <th>surface_covered</th>\n",
              "    </tr>\n",
              "  </thead>\n",
              "  <tbody>\n",
              "    <tr>\n",
              "      <th>count</th>\n",
              "      <td>126133.000000</td>\n",
              "      <td>125046.000000</td>\n",
              "    </tr>\n",
              "    <tr>\n",
              "      <th>mean</th>\n",
              "      <td>216.872888</td>\n",
              "      <td>112.818011</td>\n",
              "    </tr>\n",
              "    <tr>\n",
              "      <th>std</th>\n",
              "      <td>2037.606649</td>\n",
              "      <td>916.857584</td>\n",
              "    </tr>\n",
              "    <tr>\n",
              "      <th>min</th>\n",
              "      <td>10.000000</td>\n",
              "      <td>1.000000</td>\n",
              "    </tr>\n",
              "    <tr>\n",
              "      <th>25%</th>\n",
              "      <td>52.000000</td>\n",
              "      <td>47.000000</td>\n",
              "    </tr>\n",
              "    <tr>\n",
              "      <th>50%</th>\n",
              "      <td>78.000000</td>\n",
              "      <td>68.000000</td>\n",
              "    </tr>\n",
              "    <tr>\n",
              "      <th>75%</th>\n",
              "      <td>140.000000</td>\n",
              "      <td>108.000000</td>\n",
              "    </tr>\n",
              "    <tr>\n",
              "      <th>max</th>\n",
              "      <td>193549.000000</td>\n",
              "      <td>126062.000000</td>\n",
              "    </tr>\n",
              "  </tbody>\n",
              "</table>\n",
              "</div>"
            ],
            "text/plain": [
              "       surface_total  surface_covered\n",
              "count  126133.000000    125046.000000\n",
              "mean      216.872888       112.818011\n",
              "std      2037.606649       916.857584\n",
              "min        10.000000         1.000000\n",
              "25%        52.000000        47.000000\n",
              "50%        78.000000        68.000000\n",
              "75%       140.000000       108.000000\n",
              "max    193549.000000    126062.000000"
            ]
          },
          "metadata": {
            "tags": []
          },
          "execution_count": 15
        }
      ]
    },
    {
      "cell_type": "markdown",
      "metadata": {
        "id": "gsUtiaXShdmq"
      },
      "source": [
        "Acorde a la distribución de las variables encontramos que son quizá las presentan un comportamiento menos homogéneo. Puede observarse como la desviación estándar es muy superior a los valores medios, y como entre los percentiles 75% y los valores máximos, o como entre el percentil 25% y los valores mínimos encontramos grandes brechas.\n",
        "\n",
        "Dado que el tipo de propiedades que evaluaremos corresponden a propiedades de tipo del tipo Departamento, Casa o PH, en las cuales la mayoría la superficie construido abarca casi la totalidad de la perficie cubierta, eliminaremos la variable de superficie cubierta para que no presenten colinealidad, lo que puede hacer que algunos modelos (como el regresor lineal, por ejemplo) presenten comportamientos anómalos por no lograr discriminar de manera diferenciada el aporte que están teniendo cada una de las dos variables.\n",
        "\n",
        "Sin embargo la variable que mantendremos, superficie total, será una de las variables más sensible al momento de estimar el precio de los inmuebles.\n",
        "\n",
        "**Procesamiento a aplicar:** las variables son de tipo numérico continuo por lo cual se generará por un aparte eliminación de outliers y por otra escalado de los datos que acorde a la distribución puede ser de tipo logarítmico (dada la larga cola de la distribución, gran distancia entre el percentil 75 y los valores máximos). Adicional a ello los valores faltantes podrán imputarse a partir de las variables restantes que se consideren de mayor interés (cantidad de rooms, bedroooms y el otro valor de superficie si se conoce)."
      ]
    },
    {
      "cell_type": "markdown",
      "metadata": {
        "id": "4jhc38s8ZdIo"
      },
      "source": [
        "### **---> Exploración variable price:**"
      ]
    },
    {
      "cell_type": "code",
      "metadata": {
        "colab": {
          "base_uri": "https://localhost:8080/",
          "height": 0
        },
        "id": "3v4hTNkXZdIp",
        "outputId": "12b1f153-93be-4eed-82d3-48e17c661acc"
      },
      "source": [
        "df[['price']].describe()"
      ],
      "execution_count": 16,
      "outputs": [
        {
          "output_type": "execute_result",
          "data": {
            "text/html": [
              "<div>\n",
              "<style scoped>\n",
              "    .dataframe tbody tr th:only-of-type {\n",
              "        vertical-align: middle;\n",
              "    }\n",
              "\n",
              "    .dataframe tbody tr th {\n",
              "        vertical-align: top;\n",
              "    }\n",
              "\n",
              "    .dataframe thead th {\n",
              "        text-align: right;\n",
              "    }\n",
              "</style>\n",
              "<table border=\"1\" class=\"dataframe\">\n",
              "  <thead>\n",
              "    <tr style=\"text-align: right;\">\n",
              "      <th></th>\n",
              "      <th>price</th>\n",
              "    </tr>\n",
              "  </thead>\n",
              "  <tbody>\n",
              "    <tr>\n",
              "      <th>count</th>\n",
              "      <td>1.466600e+05</td>\n",
              "    </tr>\n",
              "    <tr>\n",
              "      <th>mean</th>\n",
              "      <td>2.412211e+05</td>\n",
              "    </tr>\n",
              "    <tr>\n",
              "      <th>std</th>\n",
              "      <td>3.185195e+05</td>\n",
              "    </tr>\n",
              "    <tr>\n",
              "      <th>min</th>\n",
              "      <td>5.500000e+03</td>\n",
              "    </tr>\n",
              "    <tr>\n",
              "      <th>25%</th>\n",
              "      <td>1.110000e+05</td>\n",
              "    </tr>\n",
              "    <tr>\n",
              "      <th>50%</th>\n",
              "      <td>1.660000e+05</td>\n",
              "    </tr>\n",
              "    <tr>\n",
              "      <th>75%</th>\n",
              "      <td>2.650000e+05</td>\n",
              "    </tr>\n",
              "    <tr>\n",
              "      <th>max</th>\n",
              "      <td>3.243423e+07</td>\n",
              "    </tr>\n",
              "  </tbody>\n",
              "</table>\n",
              "</div>"
            ],
            "text/plain": [
              "              price\n",
              "count  1.466600e+05\n",
              "mean   2.412211e+05\n",
              "std    3.185195e+05\n",
              "min    5.500000e+03\n",
              "25%    1.110000e+05\n",
              "50%    1.660000e+05\n",
              "75%    2.650000e+05\n",
              "max    3.243423e+07"
            ]
          },
          "metadata": {
            "tags": []
          },
          "execution_count": 16
        }
      ]
    },
    {
      "cell_type": "markdown",
      "metadata": {
        "id": "bEujNY-ejd9_"
      },
      "source": [
        "La variable precio presenta un comportamiento similar a la variable superficie en cuanto a las distribuciones de percentiles, mínimos, máximos y desviaciones estándar. Por esta razón presentará un tratamiento similar. Es de resaltar además que esta es nuestra variable objetivo de estudio por lo cual debe mantenerse de manera obligatoria.\n",
        "\n",
        "**Procesamiento a aplicar:** la variables son de tipo numérico continuo por lo cual se generará por un aparte eliminación de outliers y por otra escalado de los datos que acorde a la distribución puede ser de tipo logarítmico (dada la larga cola de la distribución, gran distancia entre el percentil 75 y los valores máximos). Adicional a ello los valores faltantes podrán imputarse a partir de las variables restantes que se consideren de mayor interés."
      ]
    },
    {
      "cell_type": "markdown",
      "metadata": {
        "id": "UKv_gtI5ZdPu"
      },
      "source": [
        "### **---> Exploración variable currency:**"
      ]
    },
    {
      "cell_type": "code",
      "metadata": {
        "colab": {
          "base_uri": "https://localhost:8080/"
        },
        "id": "vhmBbbwzZdPv",
        "outputId": "c3003174-85fe-4693-ef2c-1f10a7b71fee"
      },
      "source": [
        "df.currency.value_counts(dropna=False)"
      ],
      "execution_count": 17,
      "outputs": [
        {
          "output_type": "execute_result",
          "data": {
            "text/plain": [
              "USD    146660\n",
              "Name: currency, dtype: int64"
            ]
          },
          "metadata": {
            "tags": []
          },
          "execution_count": 17
        }
      ]
    },
    {
      "cell_type": "markdown",
      "metadata": {
        "id": "vBkhn9L0lwWG"
      },
      "source": [
        "La variable currency será descartada del total pues todos los inmuebles corresponden a dolares por lo cual no agrega valor alguno."
      ]
    },
    {
      "cell_type": "markdown",
      "metadata": {
        "id": "GSqseAsRZdXC"
      },
      "source": [
        "### **---> Exploración variables title y description:**"
      ]
    },
    {
      "cell_type": "code",
      "metadata": {
        "colab": {
          "base_uri": "https://localhost:8080/"
        },
        "id": "gUNDc53xZdXC",
        "outputId": "d6f5b81f-5aea-490b-d58a-f67b4108d9ac"
      },
      "source": [
        "df.title"
      ],
      "execution_count": 18,
      "outputs": [
        {
          "output_type": "execute_result",
          "data": {
            "text/plain": [
              "0               ***Venta semipiso centro, ideal hostel*****\n",
              "1          Espectacular PH reciclado en Boedo sin expensas.\n",
              "2         Depto.tipo casa de 2 ambientes en Venta en Pal...\n",
              "3         COSTA RICA 5800 / PALERMO HOLLYWOOD / VENTA PH...\n",
              "4         58 entre 1 y 2  Venta de departamento en ph.1 ...\n",
              "                                ...                        \n",
              "146655    Departamento en Venta en Barrio Privado Barran...\n",
              "146656    Venta departamentos tres dormitorios jardín co...\n",
              "146657    Venta departamento de un ambiente Manzanares C...\n",
              "146658             Departamento en Venta. Manzanares chico.\n",
              "146659            Departamento en venta en Manzanares Chico\n",
              "Name: title, Length: 146660, dtype: object"
            ]
          },
          "metadata": {
            "tags": []
          },
          "execution_count": 18
        }
      ]
    },
    {
      "cell_type": "code",
      "metadata": {
        "id": "6AJreAvSno5K",
        "colab": {
          "base_uri": "https://localhost:8080/"
        },
        "outputId": "f81e9286-162a-4a7f-df25-4abdc917b953"
      },
      "source": [
        "df.description"
      ],
      "execution_count": 19,
      "outputs": [
        {
          "output_type": "execute_result",
          "data": {
            "text/plain": [
              "0         DESCRIPCION DE LA PROPIEDAD: Departamento de 1...\n",
              "1          PH reciclado en Boedo a una cuadra de la plaz...\n",
              "2         2 ambienets amplio , excelente estado , patio ...\n",
              "3         HERMOSO PH EN PALERMO!!!2 AMBIENTES TOTALMENTE...\n",
              "4         58 entre 1 y 2  Venta de departamento en PH. P...\n",
              "                                ...                        \n",
              "146655    Departamento de 2 ambientesCocina con alacena ...\n",
              "146656    Muy buen duplex a estrenar en dos plantas más ...\n",
              "146657    En los Condominios de Campo Manzanares Chico, ...\n",
              "146658    Broker: Maria 11Departamento de dos ambientes ...\n",
              "146659    Departamento en el Barrio Manzanares Chico , e...\n",
              "Name: description, Length: 146660, dtype: object"
            ]
          },
          "metadata": {
            "tags": []
          },
          "execution_count": 19
        }
      ]
    },
    {
      "cell_type": "markdown",
      "metadata": {
        "id": "b_MjSamLnFIV"
      },
      "source": [
        "Aunque la descripción del inmueble y el titulo del anuncio puedan ser elementos de interés al estudiarse con herramientas de procesamiento de lenguaje natural (NLP), este enfoque excede el alcance que hemos dado al presente proyecto por lo cual será una variable que descartaremos de antemano."
      ]
    },
    {
      "cell_type": "markdown",
      "metadata": {
        "id": "ldbGS_MZZdlc"
      },
      "source": [
        "### **---> Exploración variable property_type:**"
      ]
    },
    {
      "cell_type": "code",
      "metadata": {
        "colab": {
          "base_uri": "https://localhost:8080/",
          "height": 0
        },
        "id": "-9IvCDQVZdlc",
        "outputId": "3dac72fb-fe4e-483d-b02c-a238483db0aa"
      },
      "source": [
        "plt.figure(figsize = (10,5))\n",
        "print(round(100*df.property_type.value_counts(dropna=False, normalize=True),2))\n",
        "sns.countplot(data = df, y = 'property_type', order = df['property_type'].value_counts().index, palette='cool')"
      ],
      "execution_count": 20,
      "outputs": [
        {
          "output_type": "stream",
          "text": [
            "Departamento       73.18\n",
            "Casa               14.67\n",
            "PH                  9.75\n",
            "Lote                0.89\n",
            "Oficina             0.45\n",
            "Otro                0.26\n",
            "Local comercial     0.22\n",
            "Casa de campo       0.22\n",
            "Depósito            0.18\n",
            "Cochera             0.18\n",
            "Name: property_type, dtype: float64\n"
          ],
          "name": "stdout"
        },
        {
          "output_type": "execute_result",
          "data": {
            "text/plain": [
              "<matplotlib.axes._subplots.AxesSubplot at 0x7ffafdd12990>"
            ]
          },
          "metadata": {
            "tags": []
          },
          "execution_count": 20
        },
        {
          "output_type": "display_data",
          "data": {
            "image/png": "[encoded data removed]",
            "text/plain": [
              "<Figure size 720x360 with 1 Axes>"
            ]
          },
          "metadata": {
            "tags": []
          }
        }
      ]
    },
    {
      "cell_type": "markdown",
      "metadata": {
        "id": "w5MwtLlGp_5j"
      },
      "source": [
        "Dado que acorde a la distribución de la variable tipo de inmueble las  categorías más representativas son Departamento, Casa y PH (en conjunto representan más del 90% de las propiedades), filtraremos nuestro dataset para tener únicamente en cuenta estas 3 categorías y así tener información comparativa de los modelos con los presentados en el primer proyecto. \n",
        "\n",
        "**Procesamiento a aplicar:** la variable es de tipo categórico nominal, por tanto para poder incluirla en los modelos aplicaremos one hot encoding. Adicional a ello los valores faltantes podrán imputarse a partir de las variables restantes que se consideren de mayor interés (superficie y cantidad de baños, espacios y habitaciones)."
      ]
    },
    {
      "cell_type": "markdown",
      "metadata": {
        "id": "34v6tYSxe-Ei"
      },
      "source": [
        "### **---> Exploración variable operation_type:**"
      ]
    },
    {
      "cell_type": "code",
      "metadata": {
        "colab": {
          "base_uri": "https://localhost:8080/"
        },
        "id": "SXNeC8A_gPdv",
        "outputId": "cc575886-76ac-4227-891c-35fe03e85577"
      },
      "source": [
        "df.columns"
      ],
      "execution_count": 21,
      "outputs": [
        {
          "output_type": "execute_result",
          "data": {
            "text/plain": [
              "Index(['start_date', 'end_date', 'created_on', 'lat', 'lon', 'l1', 'l2', 'l3',\n",
              "       'rooms', 'bedrooms', 'bathrooms', 'surface_total', 'surface_covered',\n",
              "       'price', 'currency', 'title', 'description', 'property_type',\n",
              "       'operation_type'],\n",
              "      dtype='object')"
            ]
          },
          "metadata": {
            "tags": []
          },
          "execution_count": 21
        }
      ]
    },
    {
      "cell_type": "code",
      "metadata": {
        "colab": {
          "base_uri": "https://localhost:8080/"
        },
        "id": "EDjaEqW9e-Ej",
        "outputId": "423a3c50-090d-4069-e510-86c03d1f7535"
      },
      "source": [
        "df.operation_type.value_counts(dropna=False)"
      ],
      "execution_count": 22,
      "outputs": [
        {
          "output_type": "execute_result",
          "data": {
            "text/plain": [
              "Venta    146660\n",
              "Name: operation_type, dtype: int64"
            ]
          },
          "metadata": {
            "tags": []
          },
          "execution_count": 22
        }
      ]
    },
    {
      "cell_type": "markdown",
      "metadata": {
        "id": "98u3bJv8e-Ek"
      },
      "source": [
        "La variable operation_type será descartada del total pues todos los inmuebles se encuentran en el dataset son de tipo venta, lo cual no agrega valor alguno."
      ]
    },
    {
      "cell_type": "markdown",
      "metadata": {
        "id": "BGixeA-KsWEM"
      },
      "source": [
        "## **EP. 1.3.** Eliminación de variables y filtrado de categorias de interes."
      ]
    },
    {
      "cell_type": "markdown",
      "metadata": {
        "id": "8PiZwg-Zufsu"
      },
      "source": [
        "### **---> Eliminación de variables:**"
      ]
    },
    {
      "cell_type": "markdown",
      "metadata": {
        "id": "7oGM1E6wvO07"
      },
      "source": [
        "Acorde a lo discutido en el numeral anterior, descartamos del total 3 tipos de variables que no resultan útiles para nuestro caso de estudio: variables que presentan atributos asociados a fechas, variables que presenta un único valor y variables con textos descriptivos. Estas variables las eliminamos en esta sección de manera definitiva."
      ]
    },
    {
      "cell_type": "code",
      "metadata": {
        "id": "0I6FgwC4tE-E"
      },
      "source": [
        "# Atributos asociados a fechas\n",
        "list_descartar_dates= ['start_date','end_date','created_on']\n",
        "# Atributos con un único valor\n",
        "list_descartar_uni_val= ['l1','currency','operation_type']\n",
        "# Atributo con texto descriptivo\n",
        "list_descartar_text_vdesc= ['title','description']\n",
        "# Totalidad de los atributos a descartar\n",
        "list_descartar = list_descartar_dates + list_descartar_uni_val + list_descartar_text_vdesc"
      ],
      "execution_count": 23,
      "outputs": []
    },
    {
      "cell_type": "code",
      "metadata": {
        "id": "DQOb7ie3tFAl",
        "colab": {
          "base_uri": "https://localhost:8080/",
          "height": 0
        },
        "outputId": "69c78b98-27d6-4811-dc58-8f154539e037"
      },
      "source": [
        "# Creamos nuestro dataframe base a partir de os valores ya filtrados\n",
        "df_base = df.drop(list_descartar,axis=1)\n",
        "df_base"
      ],
      "execution_count": 24,
      "outputs": [
        {
          "output_type": "execute_result",
          "data": {
            "text/html": [
              "<div>\n",
              "<style scoped>\n",
              "    .dataframe tbody tr th:only-of-type {\n",
              "        vertical-align: middle;\n",
              "    }\n",
              "\n",
              "    .dataframe tbody tr th {\n",
              "        vertical-align: top;\n",
              "    }\n",
              "\n",
              "    .dataframe thead th {\n",
              "        text-align: right;\n",
              "    }\n",
              "</style>\n",
              "<table border=\"1\" class=\"dataframe\">\n",
              "  <thead>\n",
              "    <tr style=\"text-align: right;\">\n",
              "      <th></th>\n",
              "      <th>lat</th>\n",
              "      <th>lon</th>\n",
              "      <th>l2</th>\n",
              "      <th>l3</th>\n",
              "      <th>rooms</th>\n",
              "      <th>bedrooms</th>\n",
              "      <th>bathrooms</th>\n",
              "      <th>surface_total</th>\n",
              "      <th>surface_covered</th>\n",
              "      <th>price</th>\n",
              "      <th>property_type</th>\n",
              "    </tr>\n",
              "  </thead>\n",
              "  <tbody>\n",
              "    <tr>\n",
              "      <th>0</th>\n",
              "      <td>-34.605880</td>\n",
              "      <td>-58.384949</td>\n",
              "      <td>Capital Federal</td>\n",
              "      <td>San Cristobal</td>\n",
              "      <td>7.0</td>\n",
              "      <td>7.0</td>\n",
              "      <td>2.0</td>\n",
              "      <td>140.0</td>\n",
              "      <td>140.0</td>\n",
              "      <td>153000.0</td>\n",
              "      <td>Departamento</td>\n",
              "    </tr>\n",
              "    <tr>\n",
              "      <th>1</th>\n",
              "      <td>-34.624056</td>\n",
              "      <td>-58.412110</td>\n",
              "      <td>Capital Federal</td>\n",
              "      <td>Boedo</td>\n",
              "      <td>2.0</td>\n",
              "      <td>1.0</td>\n",
              "      <td>2.0</td>\n",
              "      <td>70.0</td>\n",
              "      <td>58.0</td>\n",
              "      <td>159000.0</td>\n",
              "      <td>PH</td>\n",
              "    </tr>\n",
              "    <tr>\n",
              "      <th>2</th>\n",
              "      <td>-34.593569</td>\n",
              "      <td>-58.427474</td>\n",
              "      <td>Capital Federal</td>\n",
              "      <td>Palermo</td>\n",
              "      <td>2.0</td>\n",
              "      <td>1.0</td>\n",
              "      <td>1.0</td>\n",
              "      <td>45.0</td>\n",
              "      <td>45.0</td>\n",
              "      <td>125000.0</td>\n",
              "      <td>PH</td>\n",
              "    </tr>\n",
              "    <tr>\n",
              "      <th>3</th>\n",
              "      <td>-34.581294</td>\n",
              "      <td>-58.436754</td>\n",
              "      <td>Capital Federal</td>\n",
              "      <td>Palermo</td>\n",
              "      <td>2.0</td>\n",
              "      <td>1.0</td>\n",
              "      <td>1.0</td>\n",
              "      <td>85.0</td>\n",
              "      <td>50.0</td>\n",
              "      <td>295000.0</td>\n",
              "      <td>PH</td>\n",
              "    </tr>\n",
              "    <tr>\n",
              "      <th>4</th>\n",
              "      <td>-34.914194</td>\n",
              "      <td>-57.938219</td>\n",
              "      <td>Bs.As. G.B.A. Zona Sur</td>\n",
              "      <td>La Plata</td>\n",
              "      <td>2.0</td>\n",
              "      <td>1.0</td>\n",
              "      <td>1.0</td>\n",
              "      <td>50.0</td>\n",
              "      <td>35.0</td>\n",
              "      <td>40000.0</td>\n",
              "      <td>PH</td>\n",
              "    </tr>\n",
              "    <tr>\n",
              "      <th>...</th>\n",
              "      <td>...</td>\n",
              "      <td>...</td>\n",
              "      <td>...</td>\n",
              "      <td>...</td>\n",
              "      <td>...</td>\n",
              "      <td>...</td>\n",
              "      <td>...</td>\n",
              "      <td>...</td>\n",
              "      <td>...</td>\n",
              "      <td>...</td>\n",
              "      <td>...</td>\n",
              "    </tr>\n",
              "    <tr>\n",
              "      <th>146655</th>\n",
              "      <td>-34.816348</td>\n",
              "      <td>-58.181963</td>\n",
              "      <td>Bs.As. G.B.A. Zona Sur</td>\n",
              "      <td>Berazategui</td>\n",
              "      <td>2.0</td>\n",
              "      <td>1.0</td>\n",
              "      <td>1.0</td>\n",
              "      <td>54.0</td>\n",
              "      <td>48.0</td>\n",
              "      <td>165000.0</td>\n",
              "      <td>Departamento</td>\n",
              "    </tr>\n",
              "    <tr>\n",
              "      <th>146656</th>\n",
              "      <td>-34.446459</td>\n",
              "      <td>-58.937810</td>\n",
              "      <td>Bs.As. G.B.A. Zona Norte</td>\n",
              "      <td>Pilar</td>\n",
              "      <td>4.0</td>\n",
              "      <td>3.0</td>\n",
              "      <td>2.0</td>\n",
              "      <td>164.0</td>\n",
              "      <td>90.0</td>\n",
              "      <td>130000.0</td>\n",
              "      <td>Departamento</td>\n",
              "    </tr>\n",
              "    <tr>\n",
              "      <th>146657</th>\n",
              "      <td>-34.444633</td>\n",
              "      <td>-58.981606</td>\n",
              "      <td>Bs.As. G.B.A. Zona Norte</td>\n",
              "      <td>Pilar</td>\n",
              "      <td>1.0</td>\n",
              "      <td>1.0</td>\n",
              "      <td>1.0</td>\n",
              "      <td>50.0</td>\n",
              "      <td>35.0</td>\n",
              "      <td>73000.0</td>\n",
              "      <td>Departamento</td>\n",
              "    </tr>\n",
              "    <tr>\n",
              "      <th>146658</th>\n",
              "      <td>-34.444830</td>\n",
              "      <td>-58.981796</td>\n",
              "      <td>Bs.As. G.B.A. Zona Norte</td>\n",
              "      <td>Pilar</td>\n",
              "      <td>2.0</td>\n",
              "      <td>1.0</td>\n",
              "      <td>1.0</td>\n",
              "      <td>38.0</td>\n",
              "      <td>38.0</td>\n",
              "      <td>68000.0</td>\n",
              "      <td>Departamento</td>\n",
              "    </tr>\n",
              "    <tr>\n",
              "      <th>146659</th>\n",
              "      <td>-34.444760</td>\n",
              "      <td>-58.981885</td>\n",
              "      <td>Bs.As. G.B.A. Zona Norte</td>\n",
              "      <td>Pilar</td>\n",
              "      <td>3.0</td>\n",
              "      <td>2.0</td>\n",
              "      <td>1.0</td>\n",
              "      <td>75.0</td>\n",
              "      <td>75.0</td>\n",
              "      <td>98000.0</td>\n",
              "      <td>Departamento</td>\n",
              "    </tr>\n",
              "  </tbody>\n",
              "</table>\n",
              "<p>146660 rows × 11 columns</p>\n",
              "</div>"
            ],
            "text/plain": [
              "              lat        lon                        l2             l3  rooms  \\\n",
              "0      -34.605880 -58.384949           Capital Federal  San Cristobal    7.0   \n",
              "1      -34.624056 -58.412110           Capital Federal          Boedo    2.0   \n",
              "2      -34.593569 -58.427474           Capital Federal        Palermo    2.0   \n",
              "3      -34.581294 -58.436754           Capital Federal        Palermo    2.0   \n",
              "4      -34.914194 -57.938219    Bs.As. G.B.A. Zona Sur       La Plata    2.0   \n",
              "...           ...        ...                       ...            ...    ...   \n",
              "146655 -34.816348 -58.181963    Bs.As. G.B.A. Zona Sur    Berazategui    2.0   \n",
              "146656 -34.446459 -58.937810  Bs.As. G.B.A. Zona Norte          Pilar    4.0   \n",
              "146657 -34.444633 -58.981606  Bs.As. G.B.A. Zona Norte          Pilar    1.0   \n",
              "146658 -34.444830 -58.981796  Bs.As. G.B.A. Zona Norte          Pilar    2.0   \n",
              "146659 -34.444760 -58.981885  Bs.As. G.B.A. Zona Norte          Pilar    3.0   \n",
              "\n",
              "        bedrooms  bathrooms  surface_total  surface_covered     price  \\\n",
              "0            7.0        2.0          140.0            140.0  153000.0   \n",
              "1            1.0        2.0           70.0             58.0  159000.0   \n",
              "2            1.0        1.0           45.0             45.0  125000.0   \n",
              "3            1.0        1.0           85.0             50.0  295000.0   \n",
              "4            1.0        1.0           50.0             35.0   40000.0   \n",
              "...          ...        ...            ...              ...       ...   \n",
              "146655       1.0        1.0           54.0             48.0  165000.0   \n",
              "146656       3.0        2.0          164.0             90.0  130000.0   \n",
              "146657       1.0        1.0           50.0             35.0   73000.0   \n",
              "146658       1.0        1.0           38.0             38.0   68000.0   \n",
              "146659       2.0        1.0           75.0             75.0   98000.0   \n",
              "\n",
              "       property_type  \n",
              "0       Departamento  \n",
              "1                 PH  \n",
              "2                 PH  \n",
              "3                 PH  \n",
              "4                 PH  \n",
              "...              ...  \n",
              "146655  Departamento  \n",
              "146656  Departamento  \n",
              "146657  Departamento  \n",
              "146658  Departamento  \n",
              "146659  Departamento  \n",
              "\n",
              "[146660 rows x 11 columns]"
            ]
          },
          "metadata": {
            "tags": []
          },
          "execution_count": 24
        }
      ]
    },
    {
      "cell_type": "markdown",
      "metadata": {
        "id": "ktVgHTt4vYe2"
      },
      "source": [
        "### **---> Filtrado de categorías de interes:**"
      ]
    },
    {
      "cell_type": "markdown",
      "metadata": {
        "id": "BfLRzdFal0Av"
      },
      "source": [
        "Acorde a lo discutido en el numeral anterior, tomaremos en cuenta únicamente las propiedades ubicadas en Capital Federal (63% del total de los registros), y las propiedades de tipo Departamento, Casa y PH (en conjunto representan el 90% del total de las propiedades). Esta muestra también nos permitirá tener un conjunto de datos comparativo respecto al primer proyecto:"
      ]
    },
    {
      "cell_type": "code",
      "metadata": {
        "id": "59FSUxtStFCt",
        "colab": {
          "base_uri": "https://localhost:8080/",
          "height": 0
        },
        "outputId": "bec4e5ba-701b-4f14-8ab4-1dbdd441fac5"
      },
      "source": [
        "# Filtrado de propiedades ubicadas en Capital Federal\n",
        "df_base = df_base[(df_base.l2 == 'Capital Federal')]\n",
        "df_base = df_base.drop(['l2'],axis=1)\n",
        "# Filtrado de pripiedades de tipo Departamento, Casa y PH\n",
        "df_base=df_base[df_base.property_type.isin(['Departamento','Casa','PH'])]\n",
        "df_base"
      ],
      "execution_count": 25,
      "outputs": [
        {
          "output_type": "execute_result",
          "data": {
            "text/html": [
              "<div>\n",
              "<style scoped>\n",
              "    .dataframe tbody tr th:only-of-type {\n",
              "        vertical-align: middle;\n",
              "    }\n",
              "\n",
              "    .dataframe tbody tr th {\n",
              "        vertical-align: top;\n",
              "    }\n",
              "\n",
              "    .dataframe thead th {\n",
              "        text-align: right;\n",
              "    }\n",
              "</style>\n",
              "<table border=\"1\" class=\"dataframe\">\n",
              "  <thead>\n",
              "    <tr style=\"text-align: right;\">\n",
              "      <th></th>\n",
              "      <th>lat</th>\n",
              "      <th>lon</th>\n",
              "      <th>l3</th>\n",
              "      <th>rooms</th>\n",
              "      <th>bedrooms</th>\n",
              "      <th>bathrooms</th>\n",
              "      <th>surface_total</th>\n",
              "      <th>surface_covered</th>\n",
              "      <th>price</th>\n",
              "      <th>property_type</th>\n",
              "    </tr>\n",
              "  </thead>\n",
              "  <tbody>\n",
              "    <tr>\n",
              "      <th>0</th>\n",
              "      <td>-34.605880</td>\n",
              "      <td>-58.384949</td>\n",
              "      <td>San Cristobal</td>\n",
              "      <td>7.0</td>\n",
              "      <td>7.0</td>\n",
              "      <td>2.0</td>\n",
              "      <td>140.0</td>\n",
              "      <td>140.0</td>\n",
              "      <td>153000.0</td>\n",
              "      <td>Departamento</td>\n",
              "    </tr>\n",
              "    <tr>\n",
              "      <th>1</th>\n",
              "      <td>-34.624056</td>\n",
              "      <td>-58.412110</td>\n",
              "      <td>Boedo</td>\n",
              "      <td>2.0</td>\n",
              "      <td>1.0</td>\n",
              "      <td>2.0</td>\n",
              "      <td>70.0</td>\n",
              "      <td>58.0</td>\n",
              "      <td>159000.0</td>\n",
              "      <td>PH</td>\n",
              "    </tr>\n",
              "    <tr>\n",
              "      <th>2</th>\n",
              "      <td>-34.593569</td>\n",
              "      <td>-58.427474</td>\n",
              "      <td>Palermo</td>\n",
              "      <td>2.0</td>\n",
              "      <td>1.0</td>\n",
              "      <td>1.0</td>\n",
              "      <td>45.0</td>\n",
              "      <td>45.0</td>\n",
              "      <td>125000.0</td>\n",
              "      <td>PH</td>\n",
              "    </tr>\n",
              "    <tr>\n",
              "      <th>3</th>\n",
              "      <td>-34.581294</td>\n",
              "      <td>-58.436754</td>\n",
              "      <td>Palermo</td>\n",
              "      <td>2.0</td>\n",
              "      <td>1.0</td>\n",
              "      <td>1.0</td>\n",
              "      <td>85.0</td>\n",
              "      <td>50.0</td>\n",
              "      <td>295000.0</td>\n",
              "      <td>PH</td>\n",
              "    </tr>\n",
              "    <tr>\n",
              "      <th>5</th>\n",
              "      <td>-34.593779</td>\n",
              "      <td>-58.441239</td>\n",
              "      <td>Villa Crespo</td>\n",
              "      <td>2.0</td>\n",
              "      <td>1.0</td>\n",
              "      <td>1.0</td>\n",
              "      <td>56.0</td>\n",
              "      <td>56.0</td>\n",
              "      <td>150000.0</td>\n",
              "      <td>PH</td>\n",
              "    </tr>\n",
              "    <tr>\n",
              "      <th>...</th>\n",
              "      <td>...</td>\n",
              "      <td>...</td>\n",
              "      <td>...</td>\n",
              "      <td>...</td>\n",
              "      <td>...</td>\n",
              "      <td>...</td>\n",
              "      <td>...</td>\n",
              "      <td>...</td>\n",
              "      <td>...</td>\n",
              "      <td>...</td>\n",
              "    </tr>\n",
              "    <tr>\n",
              "      <th>146554</th>\n",
              "      <td>-34.585355</td>\n",
              "      <td>-58.427194</td>\n",
              "      <td>Palermo</td>\n",
              "      <td>4.0</td>\n",
              "      <td>3.0</td>\n",
              "      <td>3.0</td>\n",
              "      <td>175.0</td>\n",
              "      <td>111.0</td>\n",
              "      <td>570000.0</td>\n",
              "      <td>PH</td>\n",
              "    </tr>\n",
              "    <tr>\n",
              "      <th>146555</th>\n",
              "      <td>-34.585355</td>\n",
              "      <td>-58.427194</td>\n",
              "      <td>Palermo</td>\n",
              "      <td>3.0</td>\n",
              "      <td>2.0</td>\n",
              "      <td>2.0</td>\n",
              "      <td>144.0</td>\n",
              "      <td>134.0</td>\n",
              "      <td>480000.0</td>\n",
              "      <td>PH</td>\n",
              "    </tr>\n",
              "    <tr>\n",
              "      <th>146556</th>\n",
              "      <td>-34.584134</td>\n",
              "      <td>-58.436389</td>\n",
              "      <td>Palermo</td>\n",
              "      <td>4.0</td>\n",
              "      <td>2.0</td>\n",
              "      <td>2.0</td>\n",
              "      <td>317.0</td>\n",
              "      <td>143.0</td>\n",
              "      <td>530000.0</td>\n",
              "      <td>PH</td>\n",
              "    </tr>\n",
              "    <tr>\n",
              "      <th>146557</th>\n",
              "      <td>-34.583995</td>\n",
              "      <td>-58.417645</td>\n",
              "      <td>Palermo</td>\n",
              "      <td>3.0</td>\n",
              "      <td>2.0</td>\n",
              "      <td>2.0</td>\n",
              "      <td>145.0</td>\n",
              "      <td>145.0</td>\n",
              "      <td>420000.0</td>\n",
              "      <td>Departamento</td>\n",
              "    </tr>\n",
              "    <tr>\n",
              "      <th>146558</th>\n",
              "      <td>NaN</td>\n",
              "      <td>NaN</td>\n",
              "      <td>Palermo</td>\n",
              "      <td>4.0</td>\n",
              "      <td>3.0</td>\n",
              "      <td>5.0</td>\n",
              "      <td>220.0</td>\n",
              "      <td>210.0</td>\n",
              "      <td>1470000.0</td>\n",
              "      <td>Departamento</td>\n",
              "    </tr>\n",
              "  </tbody>\n",
              "</table>\n",
              "<p>91485 rows × 10 columns</p>\n",
              "</div>"
            ],
            "text/plain": [
              "              lat        lon             l3  rooms  bedrooms  bathrooms  \\\n",
              "0      -34.605880 -58.384949  San Cristobal    7.0       7.0        2.0   \n",
              "1      -34.624056 -58.412110          Boedo    2.0       1.0        2.0   \n",
              "2      -34.593569 -58.427474        Palermo    2.0       1.0        1.0   \n",
              "3      -34.581294 -58.436754        Palermo    2.0       1.0        1.0   \n",
              "5      -34.593779 -58.441239   Villa Crespo    2.0       1.0        1.0   \n",
              "...           ...        ...            ...    ...       ...        ...   \n",
              "146554 -34.585355 -58.427194        Palermo    4.0       3.0        3.0   \n",
              "146555 -34.585355 -58.427194        Palermo    3.0       2.0        2.0   \n",
              "146556 -34.584134 -58.436389        Palermo    4.0       2.0        2.0   \n",
              "146557 -34.583995 -58.417645        Palermo    3.0       2.0        2.0   \n",
              "146558        NaN        NaN        Palermo    4.0       3.0        5.0   \n",
              "\n",
              "        surface_total  surface_covered      price property_type  \n",
              "0               140.0            140.0   153000.0  Departamento  \n",
              "1                70.0             58.0   159000.0            PH  \n",
              "2                45.0             45.0   125000.0            PH  \n",
              "3                85.0             50.0   295000.0            PH  \n",
              "5                56.0             56.0   150000.0            PH  \n",
              "...               ...              ...        ...           ...  \n",
              "146554          175.0            111.0   570000.0            PH  \n",
              "146555          144.0            134.0   480000.0            PH  \n",
              "146556          317.0            143.0   530000.0            PH  \n",
              "146557          145.0            145.0   420000.0  Departamento  \n",
              "146558          220.0            210.0  1470000.0  Departamento  \n",
              "\n",
              "[91485 rows x 10 columns]"
            ]
          },
          "metadata": {
            "tags": []
          },
          "execution_count": 25
        }
      ]
    },
    {
      "cell_type": "markdown",
      "metadata": {
        "id": "6nWKzqfXriVU"
      },
      "source": [
        "## **EP. 1.4.** Definición del dataset base."
      ]
    },
    {
      "cell_type": "markdown",
      "metadata": {
        "id": "yW7NwZMlrkT2"
      },
      "source": [
        "Finalmente reorganizamos las variables y obtenemos el dataframe base que emplearemos en la siguiente etapa de transformación."
      ]
    },
    {
      "cell_type": "code",
      "metadata": {
        "id": "KK-v0ffTsn0S"
      },
      "source": [
        "df_base = df_base.reset_index(drop=True)\n",
        "df_base = df_base[['l3',  'property_type', 'lat', 'lon', 'rooms', 'bedrooms', 'bathrooms', 'surface_total',\n",
        "       'surface_covered', 'price']]"
      ],
      "execution_count": 26,
      "outputs": []
    },
    {
      "cell_type": "code",
      "metadata": {
        "colab": {
          "base_uri": "https://localhost:8080/",
          "height": 0
        },
        "id": "dXpnae4JtGo9",
        "outputId": "3663117b-a4ff-4690-95af-0b16ff567d64"
      },
      "source": [
        "df_base"
      ],
      "execution_count": 27,
      "outputs": [
        {
          "output_type": "execute_result",
          "data": {
            "text/html": [
              "<div>\n",
              "<style scoped>\n",
              "    .dataframe tbody tr th:only-of-type {\n",
              "        vertical-align: middle;\n",
              "    }\n",
              "\n",
              "    .dataframe tbody tr th {\n",
              "        vertical-align: top;\n",
              "    }\n",
              "\n",
              "    .dataframe thead th {\n",
              "        text-align: right;\n",
              "    }\n",
              "</style>\n",
              "<table border=\"1\" class=\"dataframe\">\n",
              "  <thead>\n",
              "    <tr style=\"text-align: right;\">\n",
              "      <th></th>\n",
              "      <th>l3</th>\n",
              "      <th>property_type</th>\n",
              "      <th>lat</th>\n",
              "      <th>lon</th>\n",
              "      <th>rooms</th>\n",
              "      <th>bedrooms</th>\n",
              "      <th>bathrooms</th>\n",
              "      <th>surface_total</th>\n",
              "      <th>surface_covered</th>\n",
              "      <th>price</th>\n",
              "    </tr>\n",
              "  </thead>\n",
              "  <tbody>\n",
              "    <tr>\n",
              "      <th>0</th>\n",
              "      <td>San Cristobal</td>\n",
              "      <td>Departamento</td>\n",
              "      <td>-34.605880</td>\n",
              "      <td>-58.384949</td>\n",
              "      <td>7.0</td>\n",
              "      <td>7.0</td>\n",
              "      <td>2.0</td>\n",
              "      <td>140.0</td>\n",
              "      <td>140.0</td>\n",
              "      <td>153000.0</td>\n",
              "    </tr>\n",
              "    <tr>\n",
              "      <th>1</th>\n",
              "      <td>Boedo</td>\n",
              "      <td>PH</td>\n",
              "      <td>-34.624056</td>\n",
              "      <td>-58.412110</td>\n",
              "      <td>2.0</td>\n",
              "      <td>1.0</td>\n",
              "      <td>2.0</td>\n",
              "      <td>70.0</td>\n",
              "      <td>58.0</td>\n",
              "      <td>159000.0</td>\n",
              "    </tr>\n",
              "    <tr>\n",
              "      <th>2</th>\n",
              "      <td>Palermo</td>\n",
              "      <td>PH</td>\n",
              "      <td>-34.593569</td>\n",
              "      <td>-58.427474</td>\n",
              "      <td>2.0</td>\n",
              "      <td>1.0</td>\n",
              "      <td>1.0</td>\n",
              "      <td>45.0</td>\n",
              "      <td>45.0</td>\n",
              "      <td>125000.0</td>\n",
              "    </tr>\n",
              "    <tr>\n",
              "      <th>3</th>\n",
              "      <td>Palermo</td>\n",
              "      <td>PH</td>\n",
              "      <td>-34.581294</td>\n",
              "      <td>-58.436754</td>\n",
              "      <td>2.0</td>\n",
              "      <td>1.0</td>\n",
              "      <td>1.0</td>\n",
              "      <td>85.0</td>\n",
              "      <td>50.0</td>\n",
              "      <td>295000.0</td>\n",
              "    </tr>\n",
              "    <tr>\n",
              "      <th>4</th>\n",
              "      <td>Villa Crespo</td>\n",
              "      <td>PH</td>\n",
              "      <td>-34.593779</td>\n",
              "      <td>-58.441239</td>\n",
              "      <td>2.0</td>\n",
              "      <td>1.0</td>\n",
              "      <td>1.0</td>\n",
              "      <td>56.0</td>\n",
              "      <td>56.0</td>\n",
              "      <td>150000.0</td>\n",
              "    </tr>\n",
              "    <tr>\n",
              "      <th>...</th>\n",
              "      <td>...</td>\n",
              "      <td>...</td>\n",
              "      <td>...</td>\n",
              "      <td>...</td>\n",
              "      <td>...</td>\n",
              "      <td>...</td>\n",
              "      <td>...</td>\n",
              "      <td>...</td>\n",
              "      <td>...</td>\n",
              "      <td>...</td>\n",
              "    </tr>\n",
              "    <tr>\n",
              "      <th>91480</th>\n",
              "      <td>Palermo</td>\n",
              "      <td>PH</td>\n",
              "      <td>-34.585355</td>\n",
              "      <td>-58.427194</td>\n",
              "      <td>4.0</td>\n",
              "      <td>3.0</td>\n",
              "      <td>3.0</td>\n",
              "      <td>175.0</td>\n",
              "      <td>111.0</td>\n",
              "      <td>570000.0</td>\n",
              "    </tr>\n",
              "    <tr>\n",
              "      <th>91481</th>\n",
              "      <td>Palermo</td>\n",
              "      <td>PH</td>\n",
              "      <td>-34.585355</td>\n",
              "      <td>-58.427194</td>\n",
              "      <td>3.0</td>\n",
              "      <td>2.0</td>\n",
              "      <td>2.0</td>\n",
              "      <td>144.0</td>\n",
              "      <td>134.0</td>\n",
              "      <td>480000.0</td>\n",
              "    </tr>\n",
              "    <tr>\n",
              "      <th>91482</th>\n",
              "      <td>Palermo</td>\n",
              "      <td>PH</td>\n",
              "      <td>-34.584134</td>\n",
              "      <td>-58.436389</td>\n",
              "      <td>4.0</td>\n",
              "      <td>2.0</td>\n",
              "      <td>2.0</td>\n",
              "      <td>317.0</td>\n",
              "      <td>143.0</td>\n",
              "      <td>530000.0</td>\n",
              "    </tr>\n",
              "    <tr>\n",
              "      <th>91483</th>\n",
              "      <td>Palermo</td>\n",
              "      <td>Departamento</td>\n",
              "      <td>-34.583995</td>\n",
              "      <td>-58.417645</td>\n",
              "      <td>3.0</td>\n",
              "      <td>2.0</td>\n",
              "      <td>2.0</td>\n",
              "      <td>145.0</td>\n",
              "      <td>145.0</td>\n",
              "      <td>420000.0</td>\n",
              "    </tr>\n",
              "    <tr>\n",
              "      <th>91484</th>\n",
              "      <td>Palermo</td>\n",
              "      <td>Departamento</td>\n",
              "      <td>NaN</td>\n",
              "      <td>NaN</td>\n",
              "      <td>4.0</td>\n",
              "      <td>3.0</td>\n",
              "      <td>5.0</td>\n",
              "      <td>220.0</td>\n",
              "      <td>210.0</td>\n",
              "      <td>1470000.0</td>\n",
              "    </tr>\n",
              "  </tbody>\n",
              "</table>\n",
              "<p>91485 rows × 10 columns</p>\n",
              "</div>"
            ],
            "text/plain": [
              "                  l3 property_type        lat        lon  rooms  bedrooms  \\\n",
              "0      San Cristobal  Departamento -34.605880 -58.384949    7.0       7.0   \n",
              "1              Boedo            PH -34.624056 -58.412110    2.0       1.0   \n",
              "2            Palermo            PH -34.593569 -58.427474    2.0       1.0   \n",
              "3            Palermo            PH -34.581294 -58.436754    2.0       1.0   \n",
              "4       Villa Crespo            PH -34.593779 -58.441239    2.0       1.0   \n",
              "...              ...           ...        ...        ...    ...       ...   \n",
              "91480        Palermo            PH -34.585355 -58.427194    4.0       3.0   \n",
              "91481        Palermo            PH -34.585355 -58.427194    3.0       2.0   \n",
              "91482        Palermo            PH -34.584134 -58.436389    4.0       2.0   \n",
              "91483        Palermo  Departamento -34.583995 -58.417645    3.0       2.0   \n",
              "91484        Palermo  Departamento        NaN        NaN    4.0       3.0   \n",
              "\n",
              "       bathrooms  surface_total  surface_covered      price  \n",
              "0            2.0          140.0            140.0   153000.0  \n",
              "1            2.0           70.0             58.0   159000.0  \n",
              "2            1.0           45.0             45.0   125000.0  \n",
              "3            1.0           85.0             50.0   295000.0  \n",
              "4            1.0           56.0             56.0   150000.0  \n",
              "...          ...            ...              ...        ...  \n",
              "91480        3.0          175.0            111.0   570000.0  \n",
              "91481        2.0          144.0            134.0   480000.0  \n",
              "91482        2.0          317.0            143.0   530000.0  \n",
              "91483        2.0          145.0            145.0   420000.0  \n",
              "91484        5.0          220.0            210.0  1470000.0  \n",
              "\n",
              "[91485 rows x 10 columns]"
            ]
          },
          "metadata": {
            "tags": []
          },
          "execution_count": 27
        }
      ]
    },
    {
      "cell_type": "markdown",
      "metadata": {
        "id": "w7LNOj9Du6P5"
      },
      "source": [
        "# **Parte A.** Trasformación de datos"
      ]
    },
    {
      "cell_type": "code",
      "metadata": {
        "colab": {
          "base_uri": "https://localhost:8080/",
          "height": 476
        },
        "id": "C3AQUeDBvexi",
        "outputId": "b04bb4bb-6920-4cf8-8c38-4951bd8ba975"
      },
      "source": [
        "df_A = df_base.copy()\n",
        "df_A"
      ],
      "execution_count": 28,
      "outputs": [
        {
          "output_type": "execute_result",
          "data": {
            "text/html": [
              "<div>\n",
              "<style scoped>\n",
              "    .dataframe tbody tr th:only-of-type {\n",
              "        vertical-align: middle;\n",
              "    }\n",
              "\n",
              "    .dataframe tbody tr th {\n",
              "        vertical-align: top;\n",
              "    }\n",
              "\n",
              "    .dataframe thead th {\n",
              "        text-align: right;\n",
              "    }\n",
              "</style>\n",
              "<table border=\"1\" class=\"dataframe\">\n",
              "  <thead>\n",
              "    <tr style=\"text-align: right;\">\n",
              "      <th></th>\n",
              "      <th>l3</th>\n",
              "      <th>property_type</th>\n",
              "      <th>lat</th>\n",
              "      <th>lon</th>\n",
              "      <th>rooms</th>\n",
              "      <th>bedrooms</th>\n",
              "      <th>bathrooms</th>\n",
              "      <th>surface_total</th>\n",
              "      <th>surface_covered</th>\n",
              "      <th>price</th>\n",
              "    </tr>\n",
              "  </thead>\n",
              "  <tbody>\n",
              "    <tr>\n",
              "      <th>0</th>\n",
              "      <td>San Cristobal</td>\n",
              "      <td>Departamento</td>\n",
              "      <td>-34.605880</td>\n",
              "      <td>-58.384949</td>\n",
              "      <td>7.0</td>\n",
              "      <td>7.0</td>\n",
              "      <td>2.0</td>\n",
              "      <td>140.0</td>\n",
              "      <td>140.0</td>\n",
              "      <td>153000.0</td>\n",
              "    </tr>\n",
              "    <tr>\n",
              "      <th>1</th>\n",
              "      <td>Boedo</td>\n",
              "      <td>PH</td>\n",
              "      <td>-34.624056</td>\n",
              "      <td>-58.412110</td>\n",
              "      <td>2.0</td>\n",
              "      <td>1.0</td>\n",
              "      <td>2.0</td>\n",
              "      <td>70.0</td>\n",
              "      <td>58.0</td>\n",
              "      <td>159000.0</td>\n",
              "    </tr>\n",
              "    <tr>\n",
              "      <th>2</th>\n",
              "      <td>Palermo</td>\n",
              "      <td>PH</td>\n",
              "      <td>-34.593569</td>\n",
              "      <td>-58.427474</td>\n",
              "      <td>2.0</td>\n",
              "      <td>1.0</td>\n",
              "      <td>1.0</td>\n",
              "      <td>45.0</td>\n",
              "      <td>45.0</td>\n",
              "      <td>125000.0</td>\n",
              "    </tr>\n",
              "    <tr>\n",
              "      <th>3</th>\n",
              "      <td>Palermo</td>\n",
              "      <td>PH</td>\n",
              "      <td>-34.581294</td>\n",
              "      <td>-58.436754</td>\n",
              "      <td>2.0</td>\n",
              "      <td>1.0</td>\n",
              "      <td>1.0</td>\n",
              "      <td>85.0</td>\n",
              "      <td>50.0</td>\n",
              "      <td>295000.0</td>\n",
              "    </tr>\n",
              "    <tr>\n",
              "      <th>4</th>\n",
              "      <td>Villa Crespo</td>\n",
              "      <td>PH</td>\n",
              "      <td>-34.593779</td>\n",
              "      <td>-58.441239</td>\n",
              "      <td>2.0</td>\n",
              "      <td>1.0</td>\n",
              "      <td>1.0</td>\n",
              "      <td>56.0</td>\n",
              "      <td>56.0</td>\n",
              "      <td>150000.0</td>\n",
              "    </tr>\n",
              "    <tr>\n",
              "      <th>...</th>\n",
              "      <td>...</td>\n",
              "      <td>...</td>\n",
              "      <td>...</td>\n",
              "      <td>...</td>\n",
              "      <td>...</td>\n",
              "      <td>...</td>\n",
              "      <td>...</td>\n",
              "      <td>...</td>\n",
              "      <td>...</td>\n",
              "      <td>...</td>\n",
              "    </tr>\n",
              "    <tr>\n",
              "      <th>91480</th>\n",
              "      <td>Palermo</td>\n",
              "      <td>PH</td>\n",
              "      <td>-34.585355</td>\n",
              "      <td>-58.427194</td>\n",
              "      <td>4.0</td>\n",
              "      <td>3.0</td>\n",
              "      <td>3.0</td>\n",
              "      <td>175.0</td>\n",
              "      <td>111.0</td>\n",
              "      <td>570000.0</td>\n",
              "    </tr>\n",
              "    <tr>\n",
              "      <th>91481</th>\n",
              "      <td>Palermo</td>\n",
              "      <td>PH</td>\n",
              "      <td>-34.585355</td>\n",
              "      <td>-58.427194</td>\n",
              "      <td>3.0</td>\n",
              "      <td>2.0</td>\n",
              "      <td>2.0</td>\n",
              "      <td>144.0</td>\n",
              "      <td>134.0</td>\n",
              "      <td>480000.0</td>\n",
              "    </tr>\n",
              "    <tr>\n",
              "      <th>91482</th>\n",
              "      <td>Palermo</td>\n",
              "      <td>PH</td>\n",
              "      <td>-34.584134</td>\n",
              "      <td>-58.436389</td>\n",
              "      <td>4.0</td>\n",
              "      <td>2.0</td>\n",
              "      <td>2.0</td>\n",
              "      <td>317.0</td>\n",
              "      <td>143.0</td>\n",
              "      <td>530000.0</td>\n",
              "    </tr>\n",
              "    <tr>\n",
              "      <th>91483</th>\n",
              "      <td>Palermo</td>\n",
              "      <td>Departamento</td>\n",
              "      <td>-34.583995</td>\n",
              "      <td>-58.417645</td>\n",
              "      <td>3.0</td>\n",
              "      <td>2.0</td>\n",
              "      <td>2.0</td>\n",
              "      <td>145.0</td>\n",
              "      <td>145.0</td>\n",
              "      <td>420000.0</td>\n",
              "    </tr>\n",
              "    <tr>\n",
              "      <th>91484</th>\n",
              "      <td>Palermo</td>\n",
              "      <td>Departamento</td>\n",
              "      <td>NaN</td>\n",
              "      <td>NaN</td>\n",
              "      <td>4.0</td>\n",
              "      <td>3.0</td>\n",
              "      <td>5.0</td>\n",
              "      <td>220.0</td>\n",
              "      <td>210.0</td>\n",
              "      <td>1470000.0</td>\n",
              "    </tr>\n",
              "  </tbody>\n",
              "</table>\n",
              "<p>91485 rows × 10 columns</p>\n",
              "</div>"
            ],
            "text/plain": [
              "                  l3 property_type        lat        lon  rooms  bedrooms  \\\n",
              "0      San Cristobal  Departamento -34.605880 -58.384949    7.0       7.0   \n",
              "1              Boedo            PH -34.624056 -58.412110    2.0       1.0   \n",
              "2            Palermo            PH -34.593569 -58.427474    2.0       1.0   \n",
              "3            Palermo            PH -34.581294 -58.436754    2.0       1.0   \n",
              "4       Villa Crespo            PH -34.593779 -58.441239    2.0       1.0   \n",
              "...              ...           ...        ...        ...    ...       ...   \n",
              "91480        Palermo            PH -34.585355 -58.427194    4.0       3.0   \n",
              "91481        Palermo            PH -34.585355 -58.427194    3.0       2.0   \n",
              "91482        Palermo            PH -34.584134 -58.436389    4.0       2.0   \n",
              "91483        Palermo  Departamento -34.583995 -58.417645    3.0       2.0   \n",
              "91484        Palermo  Departamento        NaN        NaN    4.0       3.0   \n",
              "\n",
              "       bathrooms  surface_total  surface_covered      price  \n",
              "0            2.0          140.0            140.0   153000.0  \n",
              "1            2.0           70.0             58.0   159000.0  \n",
              "2            1.0           45.0             45.0   125000.0  \n",
              "3            1.0           85.0             50.0   295000.0  \n",
              "4            1.0           56.0             56.0   150000.0  \n",
              "...          ...            ...              ...        ...  \n",
              "91480        3.0          175.0            111.0   570000.0  \n",
              "91481        2.0          144.0            134.0   480000.0  \n",
              "91482        2.0          317.0            143.0   530000.0  \n",
              "91483        2.0          145.0            145.0   420000.0  \n",
              "91484        5.0          220.0            210.0  1470000.0  \n",
              "\n",
              "[91485 rows x 10 columns]"
            ]
          },
          "metadata": {
            "tags": []
          },
          "execution_count": 28
        }
      ]
    },
    {
      "cell_type": "markdown",
      "metadata": {
        "id": "1geMRVG7xEOv"
      },
      "source": [
        "## **A. 01.** Detección y eliminación de Outliers"
      ]
    },
    {
      "cell_type": "markdown",
      "metadata": {
        "id": "2Btr4inE3s07"
      },
      "source": [
        "La detección y eliminación de outliers se da para registros de tipo numérico ya sean de tipo discreto o continuo. En específico existen 2 tipos de criterios generales con los cuales se pueden detectar valores outliers en una distribución: el criterio de los rangos intercuartílicos y el criterio de los 3 sigmas. Ambos criterios son empleados de manera conjunta en esta sección para determinar los que valores consideraremos outliers y filtrarlos del dataset de análisis que emplearemos para nuestros modelos de predicción, esto hará que nuestros modelos se centren más en el comportamiento de los valores que se consideran representativos dentro de cada distribución."
      ]
    },
    {
      "cell_type": "markdown",
      "metadata": {
        "id": "tE6FIL2Hxt6F"
      },
      "source": [
        "### ---> Selección de features a aplicar detección y eliminación de outliers"
      ]
    },
    {
      "cell_type": "markdown",
      "metadata": {
        "id": "PT9eNWsb4Ztb"
      },
      "source": [
        "Inicialmente definimos las columnas sobre las cuales haremos el proceso de  detección y eliminación de outliers. Como fue mencionado estas se generan sobre las columnas de tipo numérico:"
      ]
    },
    {
      "cell_type": "code",
      "metadata": {
        "id": "Yv6yLLDEtIp3"
      },
      "source": [
        "col_outliers=['lat', 'lon', 'rooms', 'bedrooms', 'bathrooms',\n",
        "       'surface_total', 'surface_covered', 'price']"
      ],
      "execution_count": 29,
      "outputs": []
    },
    {
      "cell_type": "markdown",
      "metadata": {
        "id": "xz_KWn_5yohQ"
      },
      "source": [
        "### ---> Definición de funciones que nos permiten detectar outliers:"
      ]
    },
    {
      "cell_type": "markdown",
      "metadata": {
        "id": "Cq4TpXiK6XZc"
      },
      "source": [
        "En esta sección se presentan de manera específica 4 funciones que nos permiten detectar outliers: \n",
        "1. **Indx_outlier_rang_int:** la función implementa el criterio del rango intercuartílico para entregarnos como salida el conjunto de índices que se consideran outliers a partir de una serie que recibe como entrada.\n",
        "2. **Indx_outlier_3_sig:** la función implementa el criterio los 3 sigmas para entregarnos como salida el conjunto de índices que se consideran outliers a partir de una serie que recibe como entrada.\n",
        "3. **indx_outlier_mix:** la función implementa conjuntamente el criterio del rango intercuartílico y de los 3 sigmas para entregarnos como salida el conjunto de índices que se consideran outliers a partir de una serie que recibe como entrada.\n",
        "4. **Indx_outlier_mix_df:** la función implementa conjuntamente el criterio del rango intercuartílico y de los 3 sigmas para entregarnos como salida el conjunto de índices que se consideran outliers a partir de un dataframe y una lista de columnas que recibe como entrada. Las columnas corresponden a las columnas en las cuales se detecten los valores outliers.\n"
      ]
    },
    {
      "cell_type": "code",
      "metadata": {
        "id": "LkkVVK_vGJ52"
      },
      "source": [
        "# Definimos una función que retorna los indices de los registros que se consideran outlier\n",
        "# (Bajo el criterio basado en el rango intercuartilico)\n",
        "# Entrada: la serie de la que deseamos encontrar outlayers\n",
        "# Salida: Los indices que de los outliers en la serie\n",
        "def indx_outlier_rang_int(series):\n",
        "    q75=series.quantile(0.75)\n",
        "    q25=series.quantile(0.25)\n",
        "    iqr = q75 - q25\n",
        "    minimo = q25 - 1.5*iqr\n",
        "    maximo = q75 + 1.5*iqr\n",
        "    mascara_outliers = (series < minimo) | (series > maximo)\n",
        "    return list(series[mascara_outliers].index)"
      ],
      "execution_count": 30,
      "outputs": []
    },
    {
      "cell_type": "code",
      "metadata": {
        "id": "bto6QZoqGJ54"
      },
      "source": [
        "# Definimos una función que retorna los indices de los registros que se consideran outliers\n",
        "# (Bajo el criterio de las tres sigmas)\n",
        "# Entrada: la serie de la que deseamos encontrar outliers\n",
        "# Salida: Los indices que de los outliers en la serie\n",
        "def indx_outlier_3_sig(series):\n",
        "    valor_medio = series.mean()\n",
        "    std = series.std()\n",
        "    minimo = valor_medio - 3*std\n",
        "    maximo = valor_medio + 3*std\n",
        "    mascara_outliers = (series < minimo) | (series > maximo)\n",
        "    return list(series[mascara_outliers].index)"
      ],
      "execution_count": 31,
      "outputs": []
    },
    {
      "cell_type": "code",
      "metadata": {
        "id": "ngOZDlV_GJ55"
      },
      "source": [
        "# Definimos una función que retorna los indices de los registros que se consideran outliers\n",
        "# (Empleando simultaneamento los criterios de rango intercuartilico y de los 3 sigmas)\n",
        "# Entrada: la serie de la que deseamos encontrar outliers\n",
        "# Salida: Los indices que de los outliers en la serie\n",
        "def indx_outlier_mix(series):\n",
        "    return sorted(list(set(indx_outlier_rang_int(series)+indx_outlier_3_sig(series))))"
      ],
      "execution_count": 32,
      "outputs": []
    },
    {
      "cell_type": "code",
      "metadata": {
        "id": "HtY8RvK3GJ55"
      },
      "source": [
        "# Definimos una función que nos entrega la totalidad de los indices de outliers teniendo en cuenta varias columnas\n",
        "# Entradas: dataframe del que deseamos encontrar los outliers\n",
        "# Salidas: columnas del dataframe de las que nos interesa que haga el analisis de outliers\n",
        "def indx_outlier_mix_df(df,col_outliers):\n",
        "    indx_total=[]\n",
        "    for col in col_outliers:\n",
        "        indx = indx_outlier_mix(df[col])\n",
        "        indx_total=indx_total+indx\n",
        "    return sorted(list(set(indx_total)))"
      ],
      "execution_count": 33,
      "outputs": []
    },
    {
      "cell_type": "markdown",
      "metadata": {
        "id": "yrgGiGYL6_gk"
      },
      "source": [
        "### ---> Dataframe procesado sin outliers"
      ]
    },
    {
      "cell_type": "markdown",
      "metadata": {
        "id": "69Xriscu8UAQ"
      },
      "source": [
        "A partir de las funciones definidas procedemos a encontrar y a eliminar los índices que se consideran outliers en nuestro dataframe de estudio (en nuestro caso específico se encontro que el porcentaje total de valores atipicos encontrados es de 13.52%). Este dataframe sera el que emplearemos como entrada en el siguiente proceso de transformación."
      ]
    },
    {
      "cell_type": "code",
      "metadata": {
        "id": "9Vz527IVxQB2"
      },
      "source": [
        "indx_outlier_total = indx_outlier_mix_df(df_A,col_outliers)"
      ],
      "execution_count": 34,
      "outputs": []
    },
    {
      "cell_type": "code",
      "metadata": {
        "id": "BMcB3N_8xP_k",
        "colab": {
          "base_uri": "https://localhost:8080/"
        },
        "outputId": "4b456a79-e0a4-4709-9e44-8dc6d776bda7"
      },
      "source": [
        "# Calculamos el porcentaje de valores del dataframe que se consideran outliers\n",
        "round(100*len(indx_outlier_total)/len(df_A),2)"
      ],
      "execution_count": 35,
      "outputs": [
        {
          "output_type": "execute_result",
          "data": {
            "text/plain": [
              "13.52"
            ]
          },
          "metadata": {
            "tags": []
          },
          "execution_count": 35
        }
      ]
    },
    {
      "cell_type": "code",
      "metadata": {
        "id": "ptlhu83DxP80",
        "colab": {
          "base_uri": "https://localhost:8080/",
          "height": 0
        },
        "outputId": "c5e793c9-8618-444d-f98d-8d27cc9cadf4"
      },
      "source": [
        "# Finalmente obtendriamos el dataframe filtrado para sin los valores que consideramos outliers\n",
        "df_A_no_outliers= df_base.drop(indx_outlier_total).reset_index(drop=True)\n",
        "df_A_no_outliers"
      ],
      "execution_count": 36,
      "outputs": [
        {
          "output_type": "execute_result",
          "data": {
            "text/html": [
              "<div>\n",
              "<style scoped>\n",
              "    .dataframe tbody tr th:only-of-type {\n",
              "        vertical-align: middle;\n",
              "    }\n",
              "\n",
              "    .dataframe tbody tr th {\n",
              "        vertical-align: top;\n",
              "    }\n",
              "\n",
              "    .dataframe thead th {\n",
              "        text-align: right;\n",
              "    }\n",
              "</style>\n",
              "<table border=\"1\" class=\"dataframe\">\n",
              "  <thead>\n",
              "    <tr style=\"text-align: right;\">\n",
              "      <th></th>\n",
              "      <th>l3</th>\n",
              "      <th>property_type</th>\n",
              "      <th>lat</th>\n",
              "      <th>lon</th>\n",
              "      <th>rooms</th>\n",
              "      <th>bedrooms</th>\n",
              "      <th>bathrooms</th>\n",
              "      <th>surface_total</th>\n",
              "      <th>surface_covered</th>\n",
              "      <th>price</th>\n",
              "    </tr>\n",
              "  </thead>\n",
              "  <tbody>\n",
              "    <tr>\n",
              "      <th>0</th>\n",
              "      <td>Boedo</td>\n",
              "      <td>PH</td>\n",
              "      <td>-34.624056</td>\n",
              "      <td>-58.412110</td>\n",
              "      <td>2.0</td>\n",
              "      <td>1.0</td>\n",
              "      <td>2.0</td>\n",
              "      <td>70.0</td>\n",
              "      <td>58.0</td>\n",
              "      <td>159000.0</td>\n",
              "    </tr>\n",
              "    <tr>\n",
              "      <th>1</th>\n",
              "      <td>Palermo</td>\n",
              "      <td>PH</td>\n",
              "      <td>-34.593569</td>\n",
              "      <td>-58.427474</td>\n",
              "      <td>2.0</td>\n",
              "      <td>1.0</td>\n",
              "      <td>1.0</td>\n",
              "      <td>45.0</td>\n",
              "      <td>45.0</td>\n",
              "      <td>125000.0</td>\n",
              "    </tr>\n",
              "    <tr>\n",
              "      <th>2</th>\n",
              "      <td>Palermo</td>\n",
              "      <td>PH</td>\n",
              "      <td>-34.581294</td>\n",
              "      <td>-58.436754</td>\n",
              "      <td>2.0</td>\n",
              "      <td>1.0</td>\n",
              "      <td>1.0</td>\n",
              "      <td>85.0</td>\n",
              "      <td>50.0</td>\n",
              "      <td>295000.0</td>\n",
              "    </tr>\n",
              "    <tr>\n",
              "      <th>3</th>\n",
              "      <td>Villa Crespo</td>\n",
              "      <td>PH</td>\n",
              "      <td>-34.593779</td>\n",
              "      <td>-58.441239</td>\n",
              "      <td>2.0</td>\n",
              "      <td>1.0</td>\n",
              "      <td>1.0</td>\n",
              "      <td>56.0</td>\n",
              "      <td>56.0</td>\n",
              "      <td>150000.0</td>\n",
              "    </tr>\n",
              "    <tr>\n",
              "      <th>4</th>\n",
              "      <td>Villa Crespo</td>\n",
              "      <td>PH</td>\n",
              "      <td>-34.600988</td>\n",
              "      <td>-58.433061</td>\n",
              "      <td>2.0</td>\n",
              "      <td>1.0</td>\n",
              "      <td>1.0</td>\n",
              "      <td>70.0</td>\n",
              "      <td>70.0</td>\n",
              "      <td>159500.0</td>\n",
              "    </tr>\n",
              "    <tr>\n",
              "      <th>...</th>\n",
              "      <td>...</td>\n",
              "      <td>...</td>\n",
              "      <td>...</td>\n",
              "      <td>...</td>\n",
              "      <td>...</td>\n",
              "      <td>...</td>\n",
              "      <td>...</td>\n",
              "      <td>...</td>\n",
              "      <td>...</td>\n",
              "      <td>...</td>\n",
              "    </tr>\n",
              "    <tr>\n",
              "      <th>79108</th>\n",
              "      <td>Palermo</td>\n",
              "      <td>Departamento</td>\n",
              "      <td>NaN</td>\n",
              "      <td>NaN</td>\n",
              "      <td>3.0</td>\n",
              "      <td>2.0</td>\n",
              "      <td>2.0</td>\n",
              "      <td>82.0</td>\n",
              "      <td>82.0</td>\n",
              "      <td>475000.0</td>\n",
              "    </tr>\n",
              "    <tr>\n",
              "      <th>79109</th>\n",
              "      <td>Palermo</td>\n",
              "      <td>PH</td>\n",
              "      <td>-34.576573</td>\n",
              "      <td>-58.434394</td>\n",
              "      <td>3.0</td>\n",
              "      <td>2.0</td>\n",
              "      <td>1.0</td>\n",
              "      <td>84.0</td>\n",
              "      <td>84.0</td>\n",
              "      <td>178000.0</td>\n",
              "    </tr>\n",
              "    <tr>\n",
              "      <th>79110</th>\n",
              "      <td>Palermo</td>\n",
              "      <td>PH</td>\n",
              "      <td>NaN</td>\n",
              "      <td>NaN</td>\n",
              "      <td>5.0</td>\n",
              "      <td>2.0</td>\n",
              "      <td>2.0</td>\n",
              "      <td>114.0</td>\n",
              "      <td>95.0</td>\n",
              "      <td>298000.0</td>\n",
              "    </tr>\n",
              "    <tr>\n",
              "      <th>79111</th>\n",
              "      <td>Palermo</td>\n",
              "      <td>PH</td>\n",
              "      <td>-34.585355</td>\n",
              "      <td>-58.427194</td>\n",
              "      <td>3.0</td>\n",
              "      <td>2.0</td>\n",
              "      <td>2.0</td>\n",
              "      <td>144.0</td>\n",
              "      <td>134.0</td>\n",
              "      <td>480000.0</td>\n",
              "    </tr>\n",
              "    <tr>\n",
              "      <th>79112</th>\n",
              "      <td>Palermo</td>\n",
              "      <td>Departamento</td>\n",
              "      <td>-34.583995</td>\n",
              "      <td>-58.417645</td>\n",
              "      <td>3.0</td>\n",
              "      <td>2.0</td>\n",
              "      <td>2.0</td>\n",
              "      <td>145.0</td>\n",
              "      <td>145.0</td>\n",
              "      <td>420000.0</td>\n",
              "    </tr>\n",
              "  </tbody>\n",
              "</table>\n",
              "<p>79113 rows × 10 columns</p>\n",
              "</div>"
            ],
            "text/plain": [
              "                 l3 property_type        lat        lon  rooms  bedrooms  \\\n",
              "0             Boedo            PH -34.624056 -58.412110    2.0       1.0   \n",
              "1           Palermo            PH -34.593569 -58.427474    2.0       1.0   \n",
              "2           Palermo            PH -34.581294 -58.436754    2.0       1.0   \n",
              "3      Villa Crespo            PH -34.593779 -58.441239    2.0       1.0   \n",
              "4      Villa Crespo            PH -34.600988 -58.433061    2.0       1.0   \n",
              "...             ...           ...        ...        ...    ...       ...   \n",
              "79108       Palermo  Departamento        NaN        NaN    3.0       2.0   \n",
              "79109       Palermo            PH -34.576573 -58.434394    3.0       2.0   \n",
              "79110       Palermo            PH        NaN        NaN    5.0       2.0   \n",
              "79111       Palermo            PH -34.585355 -58.427194    3.0       2.0   \n",
              "79112       Palermo  Departamento -34.583995 -58.417645    3.0       2.0   \n",
              "\n",
              "       bathrooms  surface_total  surface_covered     price  \n",
              "0            2.0           70.0             58.0  159000.0  \n",
              "1            1.0           45.0             45.0  125000.0  \n",
              "2            1.0           85.0             50.0  295000.0  \n",
              "3            1.0           56.0             56.0  150000.0  \n",
              "4            1.0           70.0             70.0  159500.0  \n",
              "...          ...            ...              ...       ...  \n",
              "79108        2.0           82.0             82.0  475000.0  \n",
              "79109        1.0           84.0             84.0  178000.0  \n",
              "79110        2.0          114.0             95.0  298000.0  \n",
              "79111        2.0          144.0            134.0  480000.0  \n",
              "79112        2.0          145.0            145.0  420000.0  \n",
              "\n",
              "[79113 rows x 10 columns]"
            ]
          },
          "metadata": {
            "tags": []
          },
          "execution_count": 36
        }
      ]
    },
    {
      "cell_type": "markdown",
      "metadata": {
        "id": "sBn86xwD90Al"
      },
      "source": [
        "## **A. 02.** Encoding"
      ]
    },
    {
      "cell_type": "markdown",
      "metadata": {
        "id": "z6kpp9Zn90Ay"
      },
      "source": [
        "El proceso de encoding se da para atributos de tipo categórico que sean nominales u ordinales. En específico para los atributos de tipo categórico nominal se presenta el proceso de *one hot encoding*, y para los atributos de tipo categórico ordinal se puede presentar tanto *one hot encoding* cómo *label encoding* según sea útil en cada caso de estudio. Dado que nuestro dataset cuenta únicamente con atributos de tipo categórico nominal solo implementaremos el proceso de *one hot encoding*. Este proceso es obligatorio, pues los modelos reciben únicamente como entradas variables de  variables de tipo numérico."
      ]
    },
    {
      "cell_type": "markdown",
      "metadata": {
        "id": "-Xj8dxnW90Ay"
      },
      "source": [
        "### ---> Selección de features a aplicar encoding"
      ]
    },
    {
      "cell_type": "markdown",
      "metadata": {
        "id": "aYgxoiLm90Ay"
      },
      "source": [
        "Inicialmente definimos las columnas sobre las cuales haremos el proceso de encoding. Como fue mencionado estas se generan sobre las columnas de tipo categórico:"
      ]
    },
    {
      "cell_type": "code",
      "metadata": {
        "id": "aK1wgFJA90Ay"
      },
      "source": [
        "col_encoding=['property_type', 'l3']"
      ],
      "execution_count": 37,
      "outputs": []
    },
    {
      "cell_type": "markdown",
      "metadata": {
        "id": "8skMCBdF90Ay"
      },
      "source": [
        "### ---> Definición de funciones que nos permiten generar el encoding:"
      ]
    },
    {
      "cell_type": "markdown",
      "metadata": {
        "id": "YDNTjIGl90Ay"
      },
      "source": [
        "Para desarrollar el proceso de one hot encoding la librería **pandas** cuenta con la función **get_dummies** que nos permite implementar de manera directa el one hot encoding. "
      ]
    },
    {
      "cell_type": "markdown",
      "metadata": {
        "id": "5gjB0s2kDgNO"
      },
      "source": [
        "### ---> Dataframe procesado con encoding"
      ]
    },
    {
      "cell_type": "markdown",
      "metadata": {
        "id": "1WlMc05WDgNZ"
      },
      "source": [
        "A partir de la función descrita obtenemos el dataframe con el encoding implementado. Este dataframe sera el que emplearemos como entrada en el siguiente proceso de transformación."
      ]
    },
    {
      "cell_type": "code",
      "metadata": {
        "colab": {
          "base_uri": "https://localhost:8080/",
          "height": 0
        },
        "id": "5jmA2-DrxPxy",
        "outputId": "d02d3d3b-2806-436d-c852-a6952ca8dc90"
      },
      "source": [
        "df_A_encode = pd.get_dummies(df_A_no_outliers, columns=col_encoding, drop_first=False)\n",
        "df_A_encode"
      ],
      "execution_count": 38,
      "outputs": [
        {
          "output_type": "execute_result",
          "data": {
            "text/html": [
              "<div>\n",
              "<style scoped>\n",
              "    .dataframe tbody tr th:only-of-type {\n",
              "        vertical-align: middle;\n",
              "    }\n",
              "\n",
              "    .dataframe tbody tr th {\n",
              "        vertical-align: top;\n",
              "    }\n",
              "\n",
              "    .dataframe thead th {\n",
              "        text-align: right;\n",
              "    }\n",
              "</style>\n",
              "<table border=\"1\" class=\"dataframe\">\n",
              "  <thead>\n",
              "    <tr style=\"text-align: right;\">\n",
              "      <th></th>\n",
              "      <th>lat</th>\n",
              "      <th>lon</th>\n",
              "      <th>rooms</th>\n",
              "      <th>bedrooms</th>\n",
              "      <th>bathrooms</th>\n",
              "      <th>surface_total</th>\n",
              "      <th>surface_covered</th>\n",
              "      <th>price</th>\n",
              "      <th>property_type_Casa</th>\n",
              "      <th>property_type_Departamento</th>\n",
              "      <th>property_type_PH</th>\n",
              "      <th>l3_Abasto</th>\n",
              "      <th>l3_Agronomía</th>\n",
              "      <th>l3_Almagro</th>\n",
              "      <th>l3_Balvanera</th>\n",
              "      <th>l3_Barracas</th>\n",
              "      <th>l3_Barrio Norte</th>\n",
              "      <th>l3_Belgrano</th>\n",
              "      <th>l3_Boca</th>\n",
              "      <th>l3_Boedo</th>\n",
              "      <th>l3_Caballito</th>\n",
              "      <th>l3_Catalinas</th>\n",
              "      <th>l3_Centro / Microcentro</th>\n",
              "      <th>l3_Chacarita</th>\n",
              "      <th>l3_Coghlan</th>\n",
              "      <th>l3_Colegiales</th>\n",
              "      <th>l3_Congreso</th>\n",
              "      <th>l3_Constitución</th>\n",
              "      <th>l3_Flores</th>\n",
              "      <th>l3_Floresta</th>\n",
              "      <th>l3_Las Cañitas</th>\n",
              "      <th>l3_Liniers</th>\n",
              "      <th>l3_Mataderos</th>\n",
              "      <th>l3_Monserrat</th>\n",
              "      <th>l3_Monte Castro</th>\n",
              "      <th>l3_Nuñez</th>\n",
              "      <th>l3_Once</th>\n",
              "      <th>l3_Palermo</th>\n",
              "      <th>l3_Parque Avellaneda</th>\n",
              "      <th>l3_Parque Centenario</th>\n",
              "      <th>l3_Parque Chacabuco</th>\n",
              "      <th>l3_Parque Chas</th>\n",
              "      <th>l3_Parque Patricios</th>\n",
              "      <th>l3_Paternal</th>\n",
              "      <th>l3_Pompeya</th>\n",
              "      <th>l3_Puerto Madero</th>\n",
              "      <th>l3_Recoleta</th>\n",
              "      <th>l3_Retiro</th>\n",
              "      <th>l3_Saavedra</th>\n",
              "      <th>l3_San Cristobal</th>\n",
              "      <th>l3_San Nicolás</th>\n",
              "      <th>l3_San Telmo</th>\n",
              "      <th>l3_Tribunales</th>\n",
              "      <th>l3_Velez Sarsfield</th>\n",
              "      <th>l3_Versalles</th>\n",
              "      <th>l3_Villa Crespo</th>\n",
              "      <th>l3_Villa Devoto</th>\n",
              "      <th>l3_Villa General Mitre</th>\n",
              "      <th>l3_Villa Lugano</th>\n",
              "      <th>l3_Villa Luro</th>\n",
              "      <th>l3_Villa Ortuzar</th>\n",
              "      <th>l3_Villa Pueyrredón</th>\n",
              "      <th>l3_Villa Real</th>\n",
              "      <th>l3_Villa Santa Rita</th>\n",
              "      <th>l3_Villa Soldati</th>\n",
              "      <th>l3_Villa Urquiza</th>\n",
              "      <th>l3_Villa del Parque</th>\n",
              "    </tr>\n",
              "  </thead>\n",
              "  <tbody>\n",
              "    <tr>\n",
              "      <th>0</th>\n",
              "      <td>-34.624056</td>\n",
              "      <td>-58.412110</td>\n",
              "      <td>2.0</td>\n",
              "      <td>1.0</td>\n",
              "      <td>2.0</td>\n",
              "      <td>70.0</td>\n",
              "      <td>58.0</td>\n",
              "      <td>159000.0</td>\n",
              "      <td>0</td>\n",
              "      <td>0</td>\n",
              "      <td>1</td>\n",
              "      <td>0</td>\n",
              "      <td>0</td>\n",
              "      <td>0</td>\n",
              "      <td>0</td>\n",
              "      <td>0</td>\n",
              "      <td>0</td>\n",
              "      <td>0</td>\n",
              "      <td>0</td>\n",
              "      <td>1</td>\n",
              "      <td>0</td>\n",
              "      <td>0</td>\n",
              "      <td>0</td>\n",
              "      <td>0</td>\n",
              "      <td>0</td>\n",
              "      <td>0</td>\n",
              "      <td>0</td>\n",
              "      <td>0</td>\n",
              "      <td>0</td>\n",
              "      <td>0</td>\n",
              "      <td>0</td>\n",
              "      <td>0</td>\n",
              "      <td>0</td>\n",
              "      <td>0</td>\n",
              "      <td>0</td>\n",
              "      <td>0</td>\n",
              "      <td>0</td>\n",
              "      <td>0</td>\n",
              "      <td>0</td>\n",
              "      <td>0</td>\n",
              "      <td>0</td>\n",
              "      <td>0</td>\n",
              "      <td>0</td>\n",
              "      <td>0</td>\n",
              "      <td>0</td>\n",
              "      <td>0</td>\n",
              "      <td>0</td>\n",
              "      <td>0</td>\n",
              "      <td>0</td>\n",
              "      <td>0</td>\n",
              "      <td>0</td>\n",
              "      <td>0</td>\n",
              "      <td>0</td>\n",
              "      <td>0</td>\n",
              "      <td>0</td>\n",
              "      <td>0</td>\n",
              "      <td>0</td>\n",
              "      <td>0</td>\n",
              "      <td>0</td>\n",
              "      <td>0</td>\n",
              "      <td>0</td>\n",
              "      <td>0</td>\n",
              "      <td>0</td>\n",
              "      <td>0</td>\n",
              "      <td>0</td>\n",
              "      <td>0</td>\n",
              "      <td>0</td>\n",
              "    </tr>\n",
              "    <tr>\n",
              "      <th>1</th>\n",
              "      <td>-34.593569</td>\n",
              "      <td>-58.427474</td>\n",
              "      <td>2.0</td>\n",
              "      <td>1.0</td>\n",
              "      <td>1.0</td>\n",
              "      <td>45.0</td>\n",
              "      <td>45.0</td>\n",
              "      <td>125000.0</td>\n",
              "      <td>0</td>\n",
              "      <td>0</td>\n",
              "      <td>1</td>\n",
              "      <td>0</td>\n",
              "      <td>0</td>\n",
              "      <td>0</td>\n",
              "      <td>0</td>\n",
              "      <td>0</td>\n",
              "      <td>0</td>\n",
              "      <td>0</td>\n",
              "      <td>0</td>\n",
              "      <td>0</td>\n",
              "      <td>0</td>\n",
              "      <td>0</td>\n",
              "      <td>0</td>\n",
              "      <td>0</td>\n",
              "      <td>0</td>\n",
              "      <td>0</td>\n",
              "      <td>0</td>\n",
              "      <td>0</td>\n",
              "      <td>0</td>\n",
              "      <td>0</td>\n",
              "      <td>0</td>\n",
              "      <td>0</td>\n",
              "      <td>0</td>\n",
              "      <td>0</td>\n",
              "      <td>0</td>\n",
              "      <td>0</td>\n",
              "      <td>0</td>\n",
              "      <td>1</td>\n",
              "      <td>0</td>\n",
              "      <td>0</td>\n",
              "      <td>0</td>\n",
              "      <td>0</td>\n",
              "      <td>0</td>\n",
              "      <td>0</td>\n",
              "      <td>0</td>\n",
              "      <td>0</td>\n",
              "      <td>0</td>\n",
              "      <td>0</td>\n",
              "      <td>0</td>\n",
              "      <td>0</td>\n",
              "      <td>0</td>\n",
              "      <td>0</td>\n",
              "      <td>0</td>\n",
              "      <td>0</td>\n",
              "      <td>0</td>\n",
              "      <td>0</td>\n",
              "      <td>0</td>\n",
              "      <td>0</td>\n",
              "      <td>0</td>\n",
              "      <td>0</td>\n",
              "      <td>0</td>\n",
              "      <td>0</td>\n",
              "      <td>0</td>\n",
              "      <td>0</td>\n",
              "      <td>0</td>\n",
              "      <td>0</td>\n",
              "      <td>0</td>\n",
              "    </tr>\n",
              "    <tr>\n",
              "      <th>2</th>\n",
              "      <td>-34.581294</td>\n",
              "      <td>-58.436754</td>\n",
              "      <td>2.0</td>\n",
              "      <td>1.0</td>\n",
              "      <td>1.0</td>\n",
              "      <td>85.0</td>\n",
              "      <td>50.0</td>\n",
              "      <td>295000.0</td>\n",
              "      <td>0</td>\n",
              "      <td>0</td>\n",
              "      <td>1</td>\n",
              "      <td>0</td>\n",
              "      <td>0</td>\n",
              "      <td>0</td>\n",
              "      <td>0</td>\n",
              "      <td>0</td>\n",
              "      <td>0</td>\n",
              "      <td>0</td>\n",
              "      <td>0</td>\n",
              "      <td>0</td>\n",
              "      <td>0</td>\n",
              "      <td>0</td>\n",
              "      <td>0</td>\n",
              "      <td>0</td>\n",
              "      <td>0</td>\n",
              "      <td>0</td>\n",
              "      <td>0</td>\n",
              "      <td>0</td>\n",
              "      <td>0</td>\n",
              "      <td>0</td>\n",
              "      <td>0</td>\n",
              "      <td>0</td>\n",
              "      <td>0</td>\n",
              "      <td>0</td>\n",
              "      <td>0</td>\n",
              "      <td>0</td>\n",
              "      <td>0</td>\n",
              "      <td>1</td>\n",
              "      <td>0</td>\n",
              "      <td>0</td>\n",
              "      <td>0</td>\n",
              "      <td>0</td>\n",
              "      <td>0</td>\n",
              "      <td>0</td>\n",
              "      <td>0</td>\n",
              "      <td>0</td>\n",
              "      <td>0</td>\n",
              "      <td>0</td>\n",
              "      <td>0</td>\n",
              "      <td>0</td>\n",
              "      <td>0</td>\n",
              "      <td>0</td>\n",
              "      <td>0</td>\n",
              "      <td>0</td>\n",
              "      <td>0</td>\n",
              "      <td>0</td>\n",
              "      <td>0</td>\n",
              "      <td>0</td>\n",
              "      <td>0</td>\n",
              "      <td>0</td>\n",
              "      <td>0</td>\n",
              "      <td>0</td>\n",
              "      <td>0</td>\n",
              "      <td>0</td>\n",
              "      <td>0</td>\n",
              "      <td>0</td>\n",
              "      <td>0</td>\n",
              "    </tr>\n",
              "    <tr>\n",
              "      <th>3</th>\n",
              "      <td>-34.593779</td>\n",
              "      <td>-58.441239</td>\n",
              "      <td>2.0</td>\n",
              "      <td>1.0</td>\n",
              "      <td>1.0</td>\n",
              "      <td>56.0</td>\n",
              "      <td>56.0</td>\n",
              "      <td>150000.0</td>\n",
              "      <td>0</td>\n",
              "      <td>0</td>\n",
              "      <td>1</td>\n",
              "      <td>0</td>\n",
              "      <td>0</td>\n",
              "      <td>0</td>\n",
              "      <td>0</td>\n",
              "      <td>0</td>\n",
              "      <td>0</td>\n",
              "      <td>0</td>\n",
              "      <td>0</td>\n",
              "      <td>0</td>\n",
              "      <td>0</td>\n",
              "      <td>0</td>\n",
              "      <td>0</td>\n",
              "      <td>0</td>\n",
              "      <td>0</td>\n",
              "      <td>0</td>\n",
              "      <td>0</td>\n",
              "      <td>0</td>\n",
              "      <td>0</td>\n",
              "      <td>0</td>\n",
              "      <td>0</td>\n",
              "      <td>0</td>\n",
              "      <td>0</td>\n",
              "      <td>0</td>\n",
              "      <td>0</td>\n",
              "      <td>0</td>\n",
              "      <td>0</td>\n",
              "      <td>0</td>\n",
              "      <td>0</td>\n",
              "      <td>0</td>\n",
              "      <td>0</td>\n",
              "      <td>0</td>\n",
              "      <td>0</td>\n",
              "      <td>0</td>\n",
              "      <td>0</td>\n",
              "      <td>0</td>\n",
              "      <td>0</td>\n",
              "      <td>0</td>\n",
              "      <td>0</td>\n",
              "      <td>0</td>\n",
              "      <td>0</td>\n",
              "      <td>0</td>\n",
              "      <td>0</td>\n",
              "      <td>0</td>\n",
              "      <td>0</td>\n",
              "      <td>1</td>\n",
              "      <td>0</td>\n",
              "      <td>0</td>\n",
              "      <td>0</td>\n",
              "      <td>0</td>\n",
              "      <td>0</td>\n",
              "      <td>0</td>\n",
              "      <td>0</td>\n",
              "      <td>0</td>\n",
              "      <td>0</td>\n",
              "      <td>0</td>\n",
              "      <td>0</td>\n",
              "    </tr>\n",
              "    <tr>\n",
              "      <th>4</th>\n",
              "      <td>-34.600988</td>\n",
              "      <td>-58.433061</td>\n",
              "      <td>2.0</td>\n",
              "      <td>1.0</td>\n",
              "      <td>1.0</td>\n",
              "      <td>70.0</td>\n",
              "      <td>70.0</td>\n",
              "      <td>159500.0</td>\n",
              "      <td>0</td>\n",
              "      <td>0</td>\n",
              "      <td>1</td>\n",
              "      <td>0</td>\n",
              "      <td>0</td>\n",
              "      <td>0</td>\n",
              "      <td>0</td>\n",
              "      <td>0</td>\n",
              "      <td>0</td>\n",
              "      <td>0</td>\n",
              "      <td>0</td>\n",
              "      <td>0</td>\n",
              "      <td>0</td>\n",
              "      <td>0</td>\n",
              "      <td>0</td>\n",
              "      <td>0</td>\n",
              "      <td>0</td>\n",
              "      <td>0</td>\n",
              "      <td>0</td>\n",
              "      <td>0</td>\n",
              "      <td>0</td>\n",
              "      <td>0</td>\n",
              "      <td>0</td>\n",
              "      <td>0</td>\n",
              "      <td>0</td>\n",
              "      <td>0</td>\n",
              "      <td>0</td>\n",
              "      <td>0</td>\n",
              "      <td>0</td>\n",
              "      <td>0</td>\n",
              "      <td>0</td>\n",
              "      <td>0</td>\n",
              "      <td>0</td>\n",
              "      <td>0</td>\n",
              "      <td>0</td>\n",
              "      <td>0</td>\n",
              "      <td>0</td>\n",
              "      <td>0</td>\n",
              "      <td>0</td>\n",
              "      <td>0</td>\n",
              "      <td>0</td>\n",
              "      <td>0</td>\n",
              "      <td>0</td>\n",
              "      <td>0</td>\n",
              "      <td>0</td>\n",
              "      <td>0</td>\n",
              "      <td>0</td>\n",
              "      <td>1</td>\n",
              "      <td>0</td>\n",
              "      <td>0</td>\n",
              "      <td>0</td>\n",
              "      <td>0</td>\n",
              "      <td>0</td>\n",
              "      <td>0</td>\n",
              "      <td>0</td>\n",
              "      <td>0</td>\n",
              "      <td>0</td>\n",
              "      <td>0</td>\n",
              "      <td>0</td>\n",
              "    </tr>\n",
              "    <tr>\n",
              "      <th>...</th>\n",
              "      <td>...</td>\n",
              "      <td>...</td>\n",
              "      <td>...</td>\n",
              "      <td>...</td>\n",
              "      <td>...</td>\n",
              "      <td>...</td>\n",
              "      <td>...</td>\n",
              "      <td>...</td>\n",
              "      <td>...</td>\n",
              "      <td>...</td>\n",
              "      <td>...</td>\n",
              "      <td>...</td>\n",
              "      <td>...</td>\n",
              "      <td>...</td>\n",
              "      <td>...</td>\n",
              "      <td>...</td>\n",
              "      <td>...</td>\n",
              "      <td>...</td>\n",
              "      <td>...</td>\n",
              "      <td>...</td>\n",
              "      <td>...</td>\n",
              "      <td>...</td>\n",
              "      <td>...</td>\n",
              "      <td>...</td>\n",
              "      <td>...</td>\n",
              "      <td>...</td>\n",
              "      <td>...</td>\n",
              "      <td>...</td>\n",
              "      <td>...</td>\n",
              "      <td>...</td>\n",
              "      <td>...</td>\n",
              "      <td>...</td>\n",
              "      <td>...</td>\n",
              "      <td>...</td>\n",
              "      <td>...</td>\n",
              "      <td>...</td>\n",
              "      <td>...</td>\n",
              "      <td>...</td>\n",
              "      <td>...</td>\n",
              "      <td>...</td>\n",
              "      <td>...</td>\n",
              "      <td>...</td>\n",
              "      <td>...</td>\n",
              "      <td>...</td>\n",
              "      <td>...</td>\n",
              "      <td>...</td>\n",
              "      <td>...</td>\n",
              "      <td>...</td>\n",
              "      <td>...</td>\n",
              "      <td>...</td>\n",
              "      <td>...</td>\n",
              "      <td>...</td>\n",
              "      <td>...</td>\n",
              "      <td>...</td>\n",
              "      <td>...</td>\n",
              "      <td>...</td>\n",
              "      <td>...</td>\n",
              "      <td>...</td>\n",
              "      <td>...</td>\n",
              "      <td>...</td>\n",
              "      <td>...</td>\n",
              "      <td>...</td>\n",
              "      <td>...</td>\n",
              "      <td>...</td>\n",
              "      <td>...</td>\n",
              "      <td>...</td>\n",
              "      <td>...</td>\n",
              "    </tr>\n",
              "    <tr>\n",
              "      <th>79108</th>\n",
              "      <td>NaN</td>\n",
              "      <td>NaN</td>\n",
              "      <td>3.0</td>\n",
              "      <td>2.0</td>\n",
              "      <td>2.0</td>\n",
              "      <td>82.0</td>\n",
              "      <td>82.0</td>\n",
              "      <td>475000.0</td>\n",
              "      <td>0</td>\n",
              "      <td>1</td>\n",
              "      <td>0</td>\n",
              "      <td>0</td>\n",
              "      <td>0</td>\n",
              "      <td>0</td>\n",
              "      <td>0</td>\n",
              "      <td>0</td>\n",
              "      <td>0</td>\n",
              "      <td>0</td>\n",
              "      <td>0</td>\n",
              "      <td>0</td>\n",
              "      <td>0</td>\n",
              "      <td>0</td>\n",
              "      <td>0</td>\n",
              "      <td>0</td>\n",
              "      <td>0</td>\n",
              "      <td>0</td>\n",
              "      <td>0</td>\n",
              "      <td>0</td>\n",
              "      <td>0</td>\n",
              "      <td>0</td>\n",
              "      <td>0</td>\n",
              "      <td>0</td>\n",
              "      <td>0</td>\n",
              "      <td>0</td>\n",
              "      <td>0</td>\n",
              "      <td>0</td>\n",
              "      <td>0</td>\n",
              "      <td>1</td>\n",
              "      <td>0</td>\n",
              "      <td>0</td>\n",
              "      <td>0</td>\n",
              "      <td>0</td>\n",
              "      <td>0</td>\n",
              "      <td>0</td>\n",
              "      <td>0</td>\n",
              "      <td>0</td>\n",
              "      <td>0</td>\n",
              "      <td>0</td>\n",
              "      <td>0</td>\n",
              "      <td>0</td>\n",
              "      <td>0</td>\n",
              "      <td>0</td>\n",
              "      <td>0</td>\n",
              "      <td>0</td>\n",
              "      <td>0</td>\n",
              "      <td>0</td>\n",
              "      <td>0</td>\n",
              "      <td>0</td>\n",
              "      <td>0</td>\n",
              "      <td>0</td>\n",
              "      <td>0</td>\n",
              "      <td>0</td>\n",
              "      <td>0</td>\n",
              "      <td>0</td>\n",
              "      <td>0</td>\n",
              "      <td>0</td>\n",
              "      <td>0</td>\n",
              "    </tr>\n",
              "    <tr>\n",
              "      <th>79109</th>\n",
              "      <td>-34.576573</td>\n",
              "      <td>-58.434394</td>\n",
              "      <td>3.0</td>\n",
              "      <td>2.0</td>\n",
              "      <td>1.0</td>\n",
              "      <td>84.0</td>\n",
              "      <td>84.0</td>\n",
              "      <td>178000.0</td>\n",
              "      <td>0</td>\n",
              "      <td>0</td>\n",
              "      <td>1</td>\n",
              "      <td>0</td>\n",
              "      <td>0</td>\n",
              "      <td>0</td>\n",
              "      <td>0</td>\n",
              "      <td>0</td>\n",
              "      <td>0</td>\n",
              "      <td>0</td>\n",
              "      <td>0</td>\n",
              "      <td>0</td>\n",
              "      <td>0</td>\n",
              "      <td>0</td>\n",
              "      <td>0</td>\n",
              "      <td>0</td>\n",
              "      <td>0</td>\n",
              "      <td>0</td>\n",
              "      <td>0</td>\n",
              "      <td>0</td>\n",
              "      <td>0</td>\n",
              "      <td>0</td>\n",
              "      <td>0</td>\n",
              "      <td>0</td>\n",
              "      <td>0</td>\n",
              "      <td>0</td>\n",
              "      <td>0</td>\n",
              "      <td>0</td>\n",
              "      <td>0</td>\n",
              "      <td>1</td>\n",
              "      <td>0</td>\n",
              "      <td>0</td>\n",
              "      <td>0</td>\n",
              "      <td>0</td>\n",
              "      <td>0</td>\n",
              "      <td>0</td>\n",
              "      <td>0</td>\n",
              "      <td>0</td>\n",
              "      <td>0</td>\n",
              "      <td>0</td>\n",
              "      <td>0</td>\n",
              "      <td>0</td>\n",
              "      <td>0</td>\n",
              "      <td>0</td>\n",
              "      <td>0</td>\n",
              "      <td>0</td>\n",
              "      <td>0</td>\n",
              "      <td>0</td>\n",
              "      <td>0</td>\n",
              "      <td>0</td>\n",
              "      <td>0</td>\n",
              "      <td>0</td>\n",
              "      <td>0</td>\n",
              "      <td>0</td>\n",
              "      <td>0</td>\n",
              "      <td>0</td>\n",
              "      <td>0</td>\n",
              "      <td>0</td>\n",
              "      <td>0</td>\n",
              "    </tr>\n",
              "    <tr>\n",
              "      <th>79110</th>\n",
              "      <td>NaN</td>\n",
              "      <td>NaN</td>\n",
              "      <td>5.0</td>\n",
              "      <td>2.0</td>\n",
              "      <td>2.0</td>\n",
              "      <td>114.0</td>\n",
              "      <td>95.0</td>\n",
              "      <td>298000.0</td>\n",
              "      <td>0</td>\n",
              "      <td>0</td>\n",
              "      <td>1</td>\n",
              "      <td>0</td>\n",
              "      <td>0</td>\n",
              "      <td>0</td>\n",
              "      <td>0</td>\n",
              "      <td>0</td>\n",
              "      <td>0</td>\n",
              "      <td>0</td>\n",
              "      <td>0</td>\n",
              "      <td>0</td>\n",
              "      <td>0</td>\n",
              "      <td>0</td>\n",
              "      <td>0</td>\n",
              "      <td>0</td>\n",
              "      <td>0</td>\n",
              "      <td>0</td>\n",
              "      <td>0</td>\n",
              "      <td>0</td>\n",
              "      <td>0</td>\n",
              "      <td>0</td>\n",
              "      <td>0</td>\n",
              "      <td>0</td>\n",
              "      <td>0</td>\n",
              "      <td>0</td>\n",
              "      <td>0</td>\n",
              "      <td>0</td>\n",
              "      <td>0</td>\n",
              "      <td>1</td>\n",
              "      <td>0</td>\n",
              "      <td>0</td>\n",
              "      <td>0</td>\n",
              "      <td>0</td>\n",
              "      <td>0</td>\n",
              "      <td>0</td>\n",
              "      <td>0</td>\n",
              "      <td>0</td>\n",
              "      <td>0</td>\n",
              "      <td>0</td>\n",
              "      <td>0</td>\n",
              "      <td>0</td>\n",
              "      <td>0</td>\n",
              "      <td>0</td>\n",
              "      <td>0</td>\n",
              "      <td>0</td>\n",
              "      <td>0</td>\n",
              "      <td>0</td>\n",
              "      <td>0</td>\n",
              "      <td>0</td>\n",
              "      <td>0</td>\n",
              "      <td>0</td>\n",
              "      <td>0</td>\n",
              "      <td>0</td>\n",
              "      <td>0</td>\n",
              "      <td>0</td>\n",
              "      <td>0</td>\n",
              "      <td>0</td>\n",
              "      <td>0</td>\n",
              "    </tr>\n",
              "    <tr>\n",
              "      <th>79111</th>\n",
              "      <td>-34.585355</td>\n",
              "      <td>-58.427194</td>\n",
              "      <td>3.0</td>\n",
              "      <td>2.0</td>\n",
              "      <td>2.0</td>\n",
              "      <td>144.0</td>\n",
              "      <td>134.0</td>\n",
              "      <td>480000.0</td>\n",
              "      <td>0</td>\n",
              "      <td>0</td>\n",
              "      <td>1</td>\n",
              "      <td>0</td>\n",
              "      <td>0</td>\n",
              "      <td>0</td>\n",
              "      <td>0</td>\n",
              "      <td>0</td>\n",
              "      <td>0</td>\n",
              "      <td>0</td>\n",
              "      <td>0</td>\n",
              "      <td>0</td>\n",
              "      <td>0</td>\n",
              "      <td>0</td>\n",
              "      <td>0</td>\n",
              "      <td>0</td>\n",
              "      <td>0</td>\n",
              "      <td>0</td>\n",
              "      <td>0</td>\n",
              "      <td>0</td>\n",
              "      <td>0</td>\n",
              "      <td>0</td>\n",
              "      <td>0</td>\n",
              "      <td>0</td>\n",
              "      <td>0</td>\n",
              "      <td>0</td>\n",
              "      <td>0</td>\n",
              "      <td>0</td>\n",
              "      <td>0</td>\n",
              "      <td>1</td>\n",
              "      <td>0</td>\n",
              "      <td>0</td>\n",
              "      <td>0</td>\n",
              "      <td>0</td>\n",
              "      <td>0</td>\n",
              "      <td>0</td>\n",
              "      <td>0</td>\n",
              "      <td>0</td>\n",
              "      <td>0</td>\n",
              "      <td>0</td>\n",
              "      <td>0</td>\n",
              "      <td>0</td>\n",
              "      <td>0</td>\n",
              "      <td>0</td>\n",
              "      <td>0</td>\n",
              "      <td>0</td>\n",
              "      <td>0</td>\n",
              "      <td>0</td>\n",
              "      <td>0</td>\n",
              "      <td>0</td>\n",
              "      <td>0</td>\n",
              "      <td>0</td>\n",
              "      <td>0</td>\n",
              "      <td>0</td>\n",
              "      <td>0</td>\n",
              "      <td>0</td>\n",
              "      <td>0</td>\n",
              "      <td>0</td>\n",
              "      <td>0</td>\n",
              "    </tr>\n",
              "    <tr>\n",
              "      <th>79112</th>\n",
              "      <td>-34.583995</td>\n",
              "      <td>-58.417645</td>\n",
              "      <td>3.0</td>\n",
              "      <td>2.0</td>\n",
              "      <td>2.0</td>\n",
              "      <td>145.0</td>\n",
              "      <td>145.0</td>\n",
              "      <td>420000.0</td>\n",
              "      <td>0</td>\n",
              "      <td>1</td>\n",
              "      <td>0</td>\n",
              "      <td>0</td>\n",
              "      <td>0</td>\n",
              "      <td>0</td>\n",
              "      <td>0</td>\n",
              "      <td>0</td>\n",
              "      <td>0</td>\n",
              "      <td>0</td>\n",
              "      <td>0</td>\n",
              "      <td>0</td>\n",
              "      <td>0</td>\n",
              "      <td>0</td>\n",
              "      <td>0</td>\n",
              "      <td>0</td>\n",
              "      <td>0</td>\n",
              "      <td>0</td>\n",
              "      <td>0</td>\n",
              "      <td>0</td>\n",
              "      <td>0</td>\n",
              "      <td>0</td>\n",
              "      <td>0</td>\n",
              "      <td>0</td>\n",
              "      <td>0</td>\n",
              "      <td>0</td>\n",
              "      <td>0</td>\n",
              "      <td>0</td>\n",
              "      <td>0</td>\n",
              "      <td>1</td>\n",
              "      <td>0</td>\n",
              "      <td>0</td>\n",
              "      <td>0</td>\n",
              "      <td>0</td>\n",
              "      <td>0</td>\n",
              "      <td>0</td>\n",
              "      <td>0</td>\n",
              "      <td>0</td>\n",
              "      <td>0</td>\n",
              "      <td>0</td>\n",
              "      <td>0</td>\n",
              "      <td>0</td>\n",
              "      <td>0</td>\n",
              "      <td>0</td>\n",
              "      <td>0</td>\n",
              "      <td>0</td>\n",
              "      <td>0</td>\n",
              "      <td>0</td>\n",
              "      <td>0</td>\n",
              "      <td>0</td>\n",
              "      <td>0</td>\n",
              "      <td>0</td>\n",
              "      <td>0</td>\n",
              "      <td>0</td>\n",
              "      <td>0</td>\n",
              "      <td>0</td>\n",
              "      <td>0</td>\n",
              "      <td>0</td>\n",
              "      <td>0</td>\n",
              "    </tr>\n",
              "  </tbody>\n",
              "</table>\n",
              "<p>79113 rows × 67 columns</p>\n",
              "</div>"
            ],
            "text/plain": [
              "             lat        lon  rooms  bedrooms  bathrooms  surface_total  \\\n",
              "0     -34.624056 -58.412110    2.0       1.0        2.0           70.0   \n",
              "1     -34.593569 -58.427474    2.0       1.0        1.0           45.0   \n",
              "2     -34.581294 -58.436754    2.0       1.0        1.0           85.0   \n",
              "3     -34.593779 -58.441239    2.0       1.0        1.0           56.0   \n",
              "4     -34.600988 -58.433061    2.0       1.0        1.0           70.0   \n",
              "...          ...        ...    ...       ...        ...            ...   \n",
              "79108        NaN        NaN    3.0       2.0        2.0           82.0   \n",
              "79109 -34.576573 -58.434394    3.0       2.0        1.0           84.0   \n",
              "79110        NaN        NaN    5.0       2.0        2.0          114.0   \n",
              "79111 -34.585355 -58.427194    3.0       2.0        2.0          144.0   \n",
              "79112 -34.583995 -58.417645    3.0       2.0        2.0          145.0   \n",
              "\n",
              "       surface_covered     price  property_type_Casa  \\\n",
              "0                 58.0  159000.0                   0   \n",
              "1                 45.0  125000.0                   0   \n",
              "2                 50.0  295000.0                   0   \n",
              "3                 56.0  150000.0                   0   \n",
              "4                 70.0  159500.0                   0   \n",
              "...                ...       ...                 ...   \n",
              "79108             82.0  475000.0                   0   \n",
              "79109             84.0  178000.0                   0   \n",
              "79110             95.0  298000.0                   0   \n",
              "79111            134.0  480000.0                   0   \n",
              "79112            145.0  420000.0                   0   \n",
              "\n",
              "       property_type_Departamento  property_type_PH  l3_Abasto  l3_Agronomía  \\\n",
              "0                               0                 1          0             0   \n",
              "1                               0                 1          0             0   \n",
              "2                               0                 1          0             0   \n",
              "3                               0                 1          0             0   \n",
              "4                               0                 1          0             0   \n",
              "...                           ...               ...        ...           ...   \n",
              "79108                           1                 0          0             0   \n",
              "79109                           0                 1          0             0   \n",
              "79110                           0                 1          0             0   \n",
              "79111                           0                 1          0             0   \n",
              "79112                           1                 0          0             0   \n",
              "\n",
              "       l3_Almagro  l3_Balvanera  l3_Barracas  l3_Barrio Norte  l3_Belgrano  \\\n",
              "0               0             0            0                0            0   \n",
              "1               0             0            0                0            0   \n",
              "2               0             0            0                0            0   \n",
              "3               0             0            0                0            0   \n",
              "4               0             0            0                0            0   \n",
              "...           ...           ...          ...              ...          ...   \n",
              "79108           0             0            0                0            0   \n",
              "79109           0             0            0                0            0   \n",
              "79110           0             0            0                0            0   \n",
              "79111           0             0            0                0            0   \n",
              "79112           0             0            0                0            0   \n",
              "\n",
              "       l3_Boca  l3_Boedo  l3_Caballito  l3_Catalinas  l3_Centro / Microcentro  \\\n",
              "0            0         1             0             0                        0   \n",
              "1            0         0             0             0                        0   \n",
              "2            0         0             0             0                        0   \n",
              "3            0         0             0             0                        0   \n",
              "4            0         0             0             0                        0   \n",
              "...        ...       ...           ...           ...                      ...   \n",
              "79108        0         0             0             0                        0   \n",
              "79109        0         0             0             0                        0   \n",
              "79110        0         0             0             0                        0   \n",
              "79111        0         0             0             0                        0   \n",
              "79112        0         0             0             0                        0   \n",
              "\n",
              "       l3_Chacarita  l3_Coghlan  l3_Colegiales  l3_Congreso  l3_Constitución  \\\n",
              "0                 0           0              0            0                0   \n",
              "1                 0           0              0            0                0   \n",
              "2                 0           0              0            0                0   \n",
              "3                 0           0              0            0                0   \n",
              "4                 0           0              0            0                0   \n",
              "...             ...         ...            ...          ...              ...   \n",
              "79108             0           0              0            0                0   \n",
              "79109             0           0              0            0                0   \n",
              "79110             0           0              0            0                0   \n",
              "79111             0           0              0            0                0   \n",
              "79112             0           0              0            0                0   \n",
              "\n",
              "       l3_Flores  l3_Floresta  l3_Las Cañitas  l3_Liniers  l3_Mataderos  \\\n",
              "0              0            0               0           0             0   \n",
              "1              0            0               0           0             0   \n",
              "2              0            0               0           0             0   \n",
              "3              0            0               0           0             0   \n",
              "4              0            0               0           0             0   \n",
              "...          ...          ...             ...         ...           ...   \n",
              "79108          0            0               0           0             0   \n",
              "79109          0            0               0           0             0   \n",
              "79110          0            0               0           0             0   \n",
              "79111          0            0               0           0             0   \n",
              "79112          0            0               0           0             0   \n",
              "\n",
              "       l3_Monserrat  l3_Monte Castro  l3_Nuñez  l3_Once  l3_Palermo  \\\n",
              "0                 0                0         0        0           0   \n",
              "1                 0                0         0        0           1   \n",
              "2                 0                0         0        0           1   \n",
              "3                 0                0         0        0           0   \n",
              "4                 0                0         0        0           0   \n",
              "...             ...              ...       ...      ...         ...   \n",
              "79108             0                0         0        0           1   \n",
              "79109             0                0         0        0           1   \n",
              "79110             0                0         0        0           1   \n",
              "79111             0                0         0        0           1   \n",
              "79112             0                0         0        0           1   \n",
              "\n",
              "       l3_Parque Avellaneda  l3_Parque Centenario  l3_Parque Chacabuco  \\\n",
              "0                         0                     0                    0   \n",
              "1                         0                     0                    0   \n",
              "2                         0                     0                    0   \n",
              "3                         0                     0                    0   \n",
              "4                         0                     0                    0   \n",
              "...                     ...                   ...                  ...   \n",
              "79108                     0                     0                    0   \n",
              "79109                     0                     0                    0   \n",
              "79110                     0                     0                    0   \n",
              "79111                     0                     0                    0   \n",
              "79112                     0                     0                    0   \n",
              "\n",
              "       l3_Parque Chas  l3_Parque Patricios  l3_Paternal  l3_Pompeya  \\\n",
              "0                   0                    0            0           0   \n",
              "1                   0                    0            0           0   \n",
              "2                   0                    0            0           0   \n",
              "3                   0                    0            0           0   \n",
              "4                   0                    0            0           0   \n",
              "...               ...                  ...          ...         ...   \n",
              "79108               0                    0            0           0   \n",
              "79109               0                    0            0           0   \n",
              "79110               0                    0            0           0   \n",
              "79111               0                    0            0           0   \n",
              "79112               0                    0            0           0   \n",
              "\n",
              "       l3_Puerto Madero  l3_Recoleta  l3_Retiro  l3_Saavedra  \\\n",
              "0                     0            0          0            0   \n",
              "1                     0            0          0            0   \n",
              "2                     0            0          0            0   \n",
              "3                     0            0          0            0   \n",
              "4                     0            0          0            0   \n",
              "...                 ...          ...        ...          ...   \n",
              "79108                 0            0          0            0   \n",
              "79109                 0            0          0            0   \n",
              "79110                 0            0          0            0   \n",
              "79111                 0            0          0            0   \n",
              "79112                 0            0          0            0   \n",
              "\n",
              "       l3_San Cristobal  l3_San Nicolás  l3_San Telmo  l3_Tribunales  \\\n",
              "0                     0               0             0              0   \n",
              "1                     0               0             0              0   \n",
              "2                     0               0             0              0   \n",
              "3                     0               0             0              0   \n",
              "4                     0               0             0              0   \n",
              "...                 ...             ...           ...            ...   \n",
              "79108                 0               0             0              0   \n",
              "79109                 0               0             0              0   \n",
              "79110                 0               0             0              0   \n",
              "79111                 0               0             0              0   \n",
              "79112                 0               0             0              0   \n",
              "\n",
              "       l3_Velez Sarsfield  l3_Versalles  l3_Villa Crespo  l3_Villa Devoto  \\\n",
              "0                       0             0                0                0   \n",
              "1                       0             0                0                0   \n",
              "2                       0             0                0                0   \n",
              "3                       0             0                1                0   \n",
              "4                       0             0                1                0   \n",
              "...                   ...           ...              ...              ...   \n",
              "79108                   0             0                0                0   \n",
              "79109                   0             0                0                0   \n",
              "79110                   0             0                0                0   \n",
              "79111                   0             0                0                0   \n",
              "79112                   0             0                0                0   \n",
              "\n",
              "       l3_Villa General Mitre  l3_Villa Lugano  l3_Villa Luro  \\\n",
              "0                           0                0              0   \n",
              "1                           0                0              0   \n",
              "2                           0                0              0   \n",
              "3                           0                0              0   \n",
              "4                           0                0              0   \n",
              "...                       ...              ...            ...   \n",
              "79108                       0                0              0   \n",
              "79109                       0                0              0   \n",
              "79110                       0                0              0   \n",
              "79111                       0                0              0   \n",
              "79112                       0                0              0   \n",
              "\n",
              "       l3_Villa Ortuzar  l3_Villa Pueyrredón  l3_Villa Real  \\\n",
              "0                     0                    0              0   \n",
              "1                     0                    0              0   \n",
              "2                     0                    0              0   \n",
              "3                     0                    0              0   \n",
              "4                     0                    0              0   \n",
              "...                 ...                  ...            ...   \n",
              "79108                 0                    0              0   \n",
              "79109                 0                    0              0   \n",
              "79110                 0                    0              0   \n",
              "79111                 0                    0              0   \n",
              "79112                 0                    0              0   \n",
              "\n",
              "       l3_Villa Santa Rita  l3_Villa Soldati  l3_Villa Urquiza  \\\n",
              "0                        0                 0                 0   \n",
              "1                        0                 0                 0   \n",
              "2                        0                 0                 0   \n",
              "3                        0                 0                 0   \n",
              "4                        0                 0                 0   \n",
              "...                    ...               ...               ...   \n",
              "79108                    0                 0                 0   \n",
              "79109                    0                 0                 0   \n",
              "79110                    0                 0                 0   \n",
              "79111                    0                 0                 0   \n",
              "79112                    0                 0                 0   \n",
              "\n",
              "       l3_Villa del Parque  \n",
              "0                        0  \n",
              "1                        0  \n",
              "2                        0  \n",
              "3                        0  \n",
              "4                        0  \n",
              "...                    ...  \n",
              "79108                    0  \n",
              "79109                    0  \n",
              "79110                    0  \n",
              "79111                    0  \n",
              "79112                    0  \n",
              "\n",
              "[79113 rows x 67 columns]"
            ]
          },
          "metadata": {
            "tags": []
          },
          "execution_count": 38
        }
      ]
    },
    {
      "cell_type": "markdown",
      "metadata": {
        "id": "_38DHplOFDQd"
      },
      "source": [
        "## **A. 03.** Imputación de valores faltantes"
      ]
    },
    {
      "cell_type": "markdown",
      "metadata": {
        "id": "3n3ymDnEFDQm"
      },
      "source": [
        "Al momento de presentarse registros con parámetros nulos existen múltiples técnicas para tratarlos, entre estos 2 principales: la eliminación de los valores o su imputación. Cada uno acorde al problema específico debe implementarse a criterio evaluando los pros y contras que conlleva su implementación. El proceso de imputación o eliminación de valores faltantes es obligatorio, pues los modelos no reciben como entrada valores nulos. En nuestro caso específico describiremos cuando implementaremos uno u otro para cada parámetro."
      ]
    },
    {
      "cell_type": "code",
      "metadata": {
        "colab": {
          "base_uri": "https://localhost:8080/"
        },
        "id": "gTfv6_wOFjIF",
        "outputId": "4fede8e5-d543-4b25-b2aa-7786476d88f8"
      },
      "source": [
        "# Observamos inicialmente que parametros presentan valores nulos\n",
        "df_A_no_outliers.isnull().sum()"
      ],
      "execution_count": 39,
      "outputs": [
        {
          "output_type": "execute_result",
          "data": {
            "text/plain": [
              "l3                    0\n",
              "property_type         0\n",
              "lat                3449\n",
              "lon                3460\n",
              "rooms                 0\n",
              "bedrooms              0\n",
              "bathrooms          1999\n",
              "surface_total      8209\n",
              "surface_covered    8476\n",
              "price                 0\n",
              "dtype: int64"
            ]
          },
          "metadata": {
            "tags": []
          },
          "execution_count": 39
        }
      ]
    },
    {
      "cell_type": "markdown",
      "metadata": {
        "id": "vOeXE1fzFDQm"
      },
      "source": [
        "### ---> Registros que no se imputaran (se eliminaran si son nulos)"
      ]
    },
    {
      "cell_type": "markdown",
      "metadata": {
        "id": "A0k-K4WNOPlp"
      },
      "source": [
        "En nuestra implementación definiremos un conjunto de casos específicos en los cuales no imputamos los valores sino que los eliminaremos de antemano, esto dado que la imputación puede generar valores que carezcan de sentido,  siendo finalmente poco fiable imputarlos a partir de otros parámetros. Estos seran los casos para los cuales no imputaremos sino que eliminaremos los registros: \n",
        "- **Registros que presentan valores nulos en las variables lat o lon:** no los imputaremos pues son variables completamente específicas e identitarias para cada inmueble. \n",
        "- **Registros que presentan valores nulos en las surface_total y surface_covered:** no los imputaremos pues la superficie es un parámetro determinante en relación con el precio. Si no conocemos ni la superficie construida ni la superficie total, estimar un valor de área a partir de otros parámetros puede ser poco objetivo. Ahora, en el caso que se conozca uno de los 2 puede resultar útil obtenerlo a partir del otro.\n"
      ]
    },
    {
      "cell_type": "code",
      "metadata": {
        "id": "4trgwGbCxPu7"
      },
      "source": [
        "# Indices de los registros a eliminar por lat o lon nula\n",
        "indx_to_drop_01 = df_A_encode[(df_A_encode.lat.isnull()==True)|(df_A_encode.lon.isnull()==True)].index\n",
        "# Indices de los registros a eliminar por surface_total o surface_covered nula\n",
        "indx_to_drop_02 = df_A_encode[(df_A_encode.surface_total.isnull()==True)&(df_A_encode.surface_covered.isnull()==True)].index\n",
        "# Indices totales a dropear\n",
        "indx_to_drop_total = indx_to_drop_01 | indx_to_drop_02"
      ],
      "execution_count": 40,
      "outputs": []
    },
    {
      "cell_type": "code",
      "metadata": {
        "colab": {
          "base_uri": "https://localhost:8080/",
          "height": 0
        },
        "id": "-IbJFFW-9Ufh",
        "outputId": "3fb16e75-a628-4d99-d5d6-ff01b5a00833"
      },
      "source": [
        "df_A_droped = df_A_encode.drop(indx_to_drop_total).reset_index(drop=True)\n",
        "df_A_droped"
      ],
      "execution_count": 41,
      "outputs": [
        {
          "output_type": "execute_result",
          "data": {
            "text/html": [
              "<div>\n",
              "<style scoped>\n",
              "    .dataframe tbody tr th:only-of-type {\n",
              "        vertical-align: middle;\n",
              "    }\n",
              "\n",
              "    .dataframe tbody tr th {\n",
              "        vertical-align: top;\n",
              "    }\n",
              "\n",
              "    .dataframe thead th {\n",
              "        text-align: right;\n",
              "    }\n",
              "</style>\n",
              "<table border=\"1\" class=\"dataframe\">\n",
              "  <thead>\n",
              "    <tr style=\"text-align: right;\">\n",
              "      <th></th>\n",
              "      <th>lat</th>\n",
              "      <th>lon</th>\n",
              "      <th>rooms</th>\n",
              "      <th>bedrooms</th>\n",
              "      <th>bathrooms</th>\n",
              "      <th>surface_total</th>\n",
              "      <th>surface_covered</th>\n",
              "      <th>price</th>\n",
              "      <th>property_type_Casa</th>\n",
              "      <th>property_type_Departamento</th>\n",
              "      <th>property_type_PH</th>\n",
              "      <th>l3_Abasto</th>\n",
              "      <th>l3_Agronomía</th>\n",
              "      <th>l3_Almagro</th>\n",
              "      <th>l3_Balvanera</th>\n",
              "      <th>l3_Barracas</th>\n",
              "      <th>l3_Barrio Norte</th>\n",
              "      <th>l3_Belgrano</th>\n",
              "      <th>l3_Boca</th>\n",
              "      <th>l3_Boedo</th>\n",
              "      <th>l3_Caballito</th>\n",
              "      <th>l3_Catalinas</th>\n",
              "      <th>l3_Centro / Microcentro</th>\n",
              "      <th>l3_Chacarita</th>\n",
              "      <th>l3_Coghlan</th>\n",
              "      <th>l3_Colegiales</th>\n",
              "      <th>l3_Congreso</th>\n",
              "      <th>l3_Constitución</th>\n",
              "      <th>l3_Flores</th>\n",
              "      <th>l3_Floresta</th>\n",
              "      <th>l3_Las Cañitas</th>\n",
              "      <th>l3_Liniers</th>\n",
              "      <th>l3_Mataderos</th>\n",
              "      <th>l3_Monserrat</th>\n",
              "      <th>l3_Monte Castro</th>\n",
              "      <th>l3_Nuñez</th>\n",
              "      <th>l3_Once</th>\n",
              "      <th>l3_Palermo</th>\n",
              "      <th>l3_Parque Avellaneda</th>\n",
              "      <th>l3_Parque Centenario</th>\n",
              "      <th>l3_Parque Chacabuco</th>\n",
              "      <th>l3_Parque Chas</th>\n",
              "      <th>l3_Parque Patricios</th>\n",
              "      <th>l3_Paternal</th>\n",
              "      <th>l3_Pompeya</th>\n",
              "      <th>l3_Puerto Madero</th>\n",
              "      <th>l3_Recoleta</th>\n",
              "      <th>l3_Retiro</th>\n",
              "      <th>l3_Saavedra</th>\n",
              "      <th>l3_San Cristobal</th>\n",
              "      <th>l3_San Nicolás</th>\n",
              "      <th>l3_San Telmo</th>\n",
              "      <th>l3_Tribunales</th>\n",
              "      <th>l3_Velez Sarsfield</th>\n",
              "      <th>l3_Versalles</th>\n",
              "      <th>l3_Villa Crespo</th>\n",
              "      <th>l3_Villa Devoto</th>\n",
              "      <th>l3_Villa General Mitre</th>\n",
              "      <th>l3_Villa Lugano</th>\n",
              "      <th>l3_Villa Luro</th>\n",
              "      <th>l3_Villa Ortuzar</th>\n",
              "      <th>l3_Villa Pueyrredón</th>\n",
              "      <th>l3_Villa Real</th>\n",
              "      <th>l3_Villa Santa Rita</th>\n",
              "      <th>l3_Villa Soldati</th>\n",
              "      <th>l3_Villa Urquiza</th>\n",
              "      <th>l3_Villa del Parque</th>\n",
              "    </tr>\n",
              "  </thead>\n",
              "  <tbody>\n",
              "    <tr>\n",
              "      <th>0</th>\n",
              "      <td>-34.624056</td>\n",
              "      <td>-58.412110</td>\n",
              "      <td>2.0</td>\n",
              "      <td>1.0</td>\n",
              "      <td>2.0</td>\n",
              "      <td>70.0</td>\n",
              "      <td>58.0</td>\n",
              "      <td>159000.0</td>\n",
              "      <td>0</td>\n",
              "      <td>0</td>\n",
              "      <td>1</td>\n",
              "      <td>0</td>\n",
              "      <td>0</td>\n",
              "      <td>0</td>\n",
              "      <td>0</td>\n",
              "      <td>0</td>\n",
              "      <td>0</td>\n",
              "      <td>0</td>\n",
              "      <td>0</td>\n",
              "      <td>1</td>\n",
              "      <td>0</td>\n",
              "      <td>0</td>\n",
              "      <td>0</td>\n",
              "      <td>0</td>\n",
              "      <td>0</td>\n",
              "      <td>0</td>\n",
              "      <td>0</td>\n",
              "      <td>0</td>\n",
              "      <td>0</td>\n",
              "      <td>0</td>\n",
              "      <td>0</td>\n",
              "      <td>0</td>\n",
              "      <td>0</td>\n",
              "      <td>0</td>\n",
              "      <td>0</td>\n",
              "      <td>0</td>\n",
              "      <td>0</td>\n",
              "      <td>0</td>\n",
              "      <td>0</td>\n",
              "      <td>0</td>\n",
              "      <td>0</td>\n",
              "      <td>0</td>\n",
              "      <td>0</td>\n",
              "      <td>0</td>\n",
              "      <td>0</td>\n",
              "      <td>0</td>\n",
              "      <td>0</td>\n",
              "      <td>0</td>\n",
              "      <td>0</td>\n",
              "      <td>0</td>\n",
              "      <td>0</td>\n",
              "      <td>0</td>\n",
              "      <td>0</td>\n",
              "      <td>0</td>\n",
              "      <td>0</td>\n",
              "      <td>0</td>\n",
              "      <td>0</td>\n",
              "      <td>0</td>\n",
              "      <td>0</td>\n",
              "      <td>0</td>\n",
              "      <td>0</td>\n",
              "      <td>0</td>\n",
              "      <td>0</td>\n",
              "      <td>0</td>\n",
              "      <td>0</td>\n",
              "      <td>0</td>\n",
              "      <td>0</td>\n",
              "    </tr>\n",
              "    <tr>\n",
              "      <th>1</th>\n",
              "      <td>-34.593569</td>\n",
              "      <td>-58.427474</td>\n",
              "      <td>2.0</td>\n",
              "      <td>1.0</td>\n",
              "      <td>1.0</td>\n",
              "      <td>45.0</td>\n",
              "      <td>45.0</td>\n",
              "      <td>125000.0</td>\n",
              "      <td>0</td>\n",
              "      <td>0</td>\n",
              "      <td>1</td>\n",
              "      <td>0</td>\n",
              "      <td>0</td>\n",
              "      <td>0</td>\n",
              "      <td>0</td>\n",
              "      <td>0</td>\n",
              "      <td>0</td>\n",
              "      <td>0</td>\n",
              "      <td>0</td>\n",
              "      <td>0</td>\n",
              "      <td>0</td>\n",
              "      <td>0</td>\n",
              "      <td>0</td>\n",
              "      <td>0</td>\n",
              "      <td>0</td>\n",
              "      <td>0</td>\n",
              "      <td>0</td>\n",
              "      <td>0</td>\n",
              "      <td>0</td>\n",
              "      <td>0</td>\n",
              "      <td>0</td>\n",
              "      <td>0</td>\n",
              "      <td>0</td>\n",
              "      <td>0</td>\n",
              "      <td>0</td>\n",
              "      <td>0</td>\n",
              "      <td>0</td>\n",
              "      <td>1</td>\n",
              "      <td>0</td>\n",
              "      <td>0</td>\n",
              "      <td>0</td>\n",
              "      <td>0</td>\n",
              "      <td>0</td>\n",
              "      <td>0</td>\n",
              "      <td>0</td>\n",
              "      <td>0</td>\n",
              "      <td>0</td>\n",
              "      <td>0</td>\n",
              "      <td>0</td>\n",
              "      <td>0</td>\n",
              "      <td>0</td>\n",
              "      <td>0</td>\n",
              "      <td>0</td>\n",
              "      <td>0</td>\n",
              "      <td>0</td>\n",
              "      <td>0</td>\n",
              "      <td>0</td>\n",
              "      <td>0</td>\n",
              "      <td>0</td>\n",
              "      <td>0</td>\n",
              "      <td>0</td>\n",
              "      <td>0</td>\n",
              "      <td>0</td>\n",
              "      <td>0</td>\n",
              "      <td>0</td>\n",
              "      <td>0</td>\n",
              "      <td>0</td>\n",
              "    </tr>\n",
              "    <tr>\n",
              "      <th>2</th>\n",
              "      <td>-34.581294</td>\n",
              "      <td>-58.436754</td>\n",
              "      <td>2.0</td>\n",
              "      <td>1.0</td>\n",
              "      <td>1.0</td>\n",
              "      <td>85.0</td>\n",
              "      <td>50.0</td>\n",
              "      <td>295000.0</td>\n",
              "      <td>0</td>\n",
              "      <td>0</td>\n",
              "      <td>1</td>\n",
              "      <td>0</td>\n",
              "      <td>0</td>\n",
              "      <td>0</td>\n",
              "      <td>0</td>\n",
              "      <td>0</td>\n",
              "      <td>0</td>\n",
              "      <td>0</td>\n",
              "      <td>0</td>\n",
              "      <td>0</td>\n",
              "      <td>0</td>\n",
              "      <td>0</td>\n",
              "      <td>0</td>\n",
              "      <td>0</td>\n",
              "      <td>0</td>\n",
              "      <td>0</td>\n",
              "      <td>0</td>\n",
              "      <td>0</td>\n",
              "      <td>0</td>\n",
              "      <td>0</td>\n",
              "      <td>0</td>\n",
              "      <td>0</td>\n",
              "      <td>0</td>\n",
              "      <td>0</td>\n",
              "      <td>0</td>\n",
              "      <td>0</td>\n",
              "      <td>0</td>\n",
              "      <td>1</td>\n",
              "      <td>0</td>\n",
              "      <td>0</td>\n",
              "      <td>0</td>\n",
              "      <td>0</td>\n",
              "      <td>0</td>\n",
              "      <td>0</td>\n",
              "      <td>0</td>\n",
              "      <td>0</td>\n",
              "      <td>0</td>\n",
              "      <td>0</td>\n",
              "      <td>0</td>\n",
              "      <td>0</td>\n",
              "      <td>0</td>\n",
              "      <td>0</td>\n",
              "      <td>0</td>\n",
              "      <td>0</td>\n",
              "      <td>0</td>\n",
              "      <td>0</td>\n",
              "      <td>0</td>\n",
              "      <td>0</td>\n",
              "      <td>0</td>\n",
              "      <td>0</td>\n",
              "      <td>0</td>\n",
              "      <td>0</td>\n",
              "      <td>0</td>\n",
              "      <td>0</td>\n",
              "      <td>0</td>\n",
              "      <td>0</td>\n",
              "      <td>0</td>\n",
              "    </tr>\n",
              "    <tr>\n",
              "      <th>3</th>\n",
              "      <td>-34.593779</td>\n",
              "      <td>-58.441239</td>\n",
              "      <td>2.0</td>\n",
              "      <td>1.0</td>\n",
              "      <td>1.0</td>\n",
              "      <td>56.0</td>\n",
              "      <td>56.0</td>\n",
              "      <td>150000.0</td>\n",
              "      <td>0</td>\n",
              "      <td>0</td>\n",
              "      <td>1</td>\n",
              "      <td>0</td>\n",
              "      <td>0</td>\n",
              "      <td>0</td>\n",
              "      <td>0</td>\n",
              "      <td>0</td>\n",
              "      <td>0</td>\n",
              "      <td>0</td>\n",
              "      <td>0</td>\n",
              "      <td>0</td>\n",
              "      <td>0</td>\n",
              "      <td>0</td>\n",
              "      <td>0</td>\n",
              "      <td>0</td>\n",
              "      <td>0</td>\n",
              "      <td>0</td>\n",
              "      <td>0</td>\n",
              "      <td>0</td>\n",
              "      <td>0</td>\n",
              "      <td>0</td>\n",
              "      <td>0</td>\n",
              "      <td>0</td>\n",
              "      <td>0</td>\n",
              "      <td>0</td>\n",
              "      <td>0</td>\n",
              "      <td>0</td>\n",
              "      <td>0</td>\n",
              "      <td>0</td>\n",
              "      <td>0</td>\n",
              "      <td>0</td>\n",
              "      <td>0</td>\n",
              "      <td>0</td>\n",
              "      <td>0</td>\n",
              "      <td>0</td>\n",
              "      <td>0</td>\n",
              "      <td>0</td>\n",
              "      <td>0</td>\n",
              "      <td>0</td>\n",
              "      <td>0</td>\n",
              "      <td>0</td>\n",
              "      <td>0</td>\n",
              "      <td>0</td>\n",
              "      <td>0</td>\n",
              "      <td>0</td>\n",
              "      <td>0</td>\n",
              "      <td>1</td>\n",
              "      <td>0</td>\n",
              "      <td>0</td>\n",
              "      <td>0</td>\n",
              "      <td>0</td>\n",
              "      <td>0</td>\n",
              "      <td>0</td>\n",
              "      <td>0</td>\n",
              "      <td>0</td>\n",
              "      <td>0</td>\n",
              "      <td>0</td>\n",
              "      <td>0</td>\n",
              "    </tr>\n",
              "    <tr>\n",
              "      <th>4</th>\n",
              "      <td>-34.600988</td>\n",
              "      <td>-58.433061</td>\n",
              "      <td>2.0</td>\n",
              "      <td>1.0</td>\n",
              "      <td>1.0</td>\n",
              "      <td>70.0</td>\n",
              "      <td>70.0</td>\n",
              "      <td>159500.0</td>\n",
              "      <td>0</td>\n",
              "      <td>0</td>\n",
              "      <td>1</td>\n",
              "      <td>0</td>\n",
              "      <td>0</td>\n",
              "      <td>0</td>\n",
              "      <td>0</td>\n",
              "      <td>0</td>\n",
              "      <td>0</td>\n",
              "      <td>0</td>\n",
              "      <td>0</td>\n",
              "      <td>0</td>\n",
              "      <td>0</td>\n",
              "      <td>0</td>\n",
              "      <td>0</td>\n",
              "      <td>0</td>\n",
              "      <td>0</td>\n",
              "      <td>0</td>\n",
              "      <td>0</td>\n",
              "      <td>0</td>\n",
              "      <td>0</td>\n",
              "      <td>0</td>\n",
              "      <td>0</td>\n",
              "      <td>0</td>\n",
              "      <td>0</td>\n",
              "      <td>0</td>\n",
              "      <td>0</td>\n",
              "      <td>0</td>\n",
              "      <td>0</td>\n",
              "      <td>0</td>\n",
              "      <td>0</td>\n",
              "      <td>0</td>\n",
              "      <td>0</td>\n",
              "      <td>0</td>\n",
              "      <td>0</td>\n",
              "      <td>0</td>\n",
              "      <td>0</td>\n",
              "      <td>0</td>\n",
              "      <td>0</td>\n",
              "      <td>0</td>\n",
              "      <td>0</td>\n",
              "      <td>0</td>\n",
              "      <td>0</td>\n",
              "      <td>0</td>\n",
              "      <td>0</td>\n",
              "      <td>0</td>\n",
              "      <td>0</td>\n",
              "      <td>1</td>\n",
              "      <td>0</td>\n",
              "      <td>0</td>\n",
              "      <td>0</td>\n",
              "      <td>0</td>\n",
              "      <td>0</td>\n",
              "      <td>0</td>\n",
              "      <td>0</td>\n",
              "      <td>0</td>\n",
              "      <td>0</td>\n",
              "      <td>0</td>\n",
              "      <td>0</td>\n",
              "    </tr>\n",
              "    <tr>\n",
              "      <th>...</th>\n",
              "      <td>...</td>\n",
              "      <td>...</td>\n",
              "      <td>...</td>\n",
              "      <td>...</td>\n",
              "      <td>...</td>\n",
              "      <td>...</td>\n",
              "      <td>...</td>\n",
              "      <td>...</td>\n",
              "      <td>...</td>\n",
              "      <td>...</td>\n",
              "      <td>...</td>\n",
              "      <td>...</td>\n",
              "      <td>...</td>\n",
              "      <td>...</td>\n",
              "      <td>...</td>\n",
              "      <td>...</td>\n",
              "      <td>...</td>\n",
              "      <td>...</td>\n",
              "      <td>...</td>\n",
              "      <td>...</td>\n",
              "      <td>...</td>\n",
              "      <td>...</td>\n",
              "      <td>...</td>\n",
              "      <td>...</td>\n",
              "      <td>...</td>\n",
              "      <td>...</td>\n",
              "      <td>...</td>\n",
              "      <td>...</td>\n",
              "      <td>...</td>\n",
              "      <td>...</td>\n",
              "      <td>...</td>\n",
              "      <td>...</td>\n",
              "      <td>...</td>\n",
              "      <td>...</td>\n",
              "      <td>...</td>\n",
              "      <td>...</td>\n",
              "      <td>...</td>\n",
              "      <td>...</td>\n",
              "      <td>...</td>\n",
              "      <td>...</td>\n",
              "      <td>...</td>\n",
              "      <td>...</td>\n",
              "      <td>...</td>\n",
              "      <td>...</td>\n",
              "      <td>...</td>\n",
              "      <td>...</td>\n",
              "      <td>...</td>\n",
              "      <td>...</td>\n",
              "      <td>...</td>\n",
              "      <td>...</td>\n",
              "      <td>...</td>\n",
              "      <td>...</td>\n",
              "      <td>...</td>\n",
              "      <td>...</td>\n",
              "      <td>...</td>\n",
              "      <td>...</td>\n",
              "      <td>...</td>\n",
              "      <td>...</td>\n",
              "      <td>...</td>\n",
              "      <td>...</td>\n",
              "      <td>...</td>\n",
              "      <td>...</td>\n",
              "      <td>...</td>\n",
              "      <td>...</td>\n",
              "      <td>...</td>\n",
              "      <td>...</td>\n",
              "      <td>...</td>\n",
              "    </tr>\n",
              "    <tr>\n",
              "      <th>67863</th>\n",
              "      <td>-34.587152</td>\n",
              "      <td>-58.437724</td>\n",
              "      <td>3.0</td>\n",
              "      <td>2.0</td>\n",
              "      <td>2.0</td>\n",
              "      <td>120.0</td>\n",
              "      <td>82.0</td>\n",
              "      <td>430000.0</td>\n",
              "      <td>0</td>\n",
              "      <td>1</td>\n",
              "      <td>0</td>\n",
              "      <td>0</td>\n",
              "      <td>0</td>\n",
              "      <td>0</td>\n",
              "      <td>0</td>\n",
              "      <td>0</td>\n",
              "      <td>0</td>\n",
              "      <td>0</td>\n",
              "      <td>0</td>\n",
              "      <td>0</td>\n",
              "      <td>0</td>\n",
              "      <td>0</td>\n",
              "      <td>0</td>\n",
              "      <td>0</td>\n",
              "      <td>0</td>\n",
              "      <td>0</td>\n",
              "      <td>0</td>\n",
              "      <td>0</td>\n",
              "      <td>0</td>\n",
              "      <td>0</td>\n",
              "      <td>0</td>\n",
              "      <td>0</td>\n",
              "      <td>0</td>\n",
              "      <td>0</td>\n",
              "      <td>0</td>\n",
              "      <td>0</td>\n",
              "      <td>0</td>\n",
              "      <td>1</td>\n",
              "      <td>0</td>\n",
              "      <td>0</td>\n",
              "      <td>0</td>\n",
              "      <td>0</td>\n",
              "      <td>0</td>\n",
              "      <td>0</td>\n",
              "      <td>0</td>\n",
              "      <td>0</td>\n",
              "      <td>0</td>\n",
              "      <td>0</td>\n",
              "      <td>0</td>\n",
              "      <td>0</td>\n",
              "      <td>0</td>\n",
              "      <td>0</td>\n",
              "      <td>0</td>\n",
              "      <td>0</td>\n",
              "      <td>0</td>\n",
              "      <td>0</td>\n",
              "      <td>0</td>\n",
              "      <td>0</td>\n",
              "      <td>0</td>\n",
              "      <td>0</td>\n",
              "      <td>0</td>\n",
              "      <td>0</td>\n",
              "      <td>0</td>\n",
              "      <td>0</td>\n",
              "      <td>0</td>\n",
              "      <td>0</td>\n",
              "      <td>0</td>\n",
              "    </tr>\n",
              "    <tr>\n",
              "      <th>67864</th>\n",
              "      <td>-34.581425</td>\n",
              "      <td>-58.442707</td>\n",
              "      <td>3.0</td>\n",
              "      <td>2.0</td>\n",
              "      <td>2.0</td>\n",
              "      <td>88.0</td>\n",
              "      <td>82.0</td>\n",
              "      <td>399000.0</td>\n",
              "      <td>0</td>\n",
              "      <td>1</td>\n",
              "      <td>0</td>\n",
              "      <td>0</td>\n",
              "      <td>0</td>\n",
              "      <td>0</td>\n",
              "      <td>0</td>\n",
              "      <td>0</td>\n",
              "      <td>0</td>\n",
              "      <td>0</td>\n",
              "      <td>0</td>\n",
              "      <td>0</td>\n",
              "      <td>0</td>\n",
              "      <td>0</td>\n",
              "      <td>0</td>\n",
              "      <td>0</td>\n",
              "      <td>0</td>\n",
              "      <td>0</td>\n",
              "      <td>0</td>\n",
              "      <td>0</td>\n",
              "      <td>0</td>\n",
              "      <td>0</td>\n",
              "      <td>0</td>\n",
              "      <td>0</td>\n",
              "      <td>0</td>\n",
              "      <td>0</td>\n",
              "      <td>0</td>\n",
              "      <td>0</td>\n",
              "      <td>0</td>\n",
              "      <td>1</td>\n",
              "      <td>0</td>\n",
              "      <td>0</td>\n",
              "      <td>0</td>\n",
              "      <td>0</td>\n",
              "      <td>0</td>\n",
              "      <td>0</td>\n",
              "      <td>0</td>\n",
              "      <td>0</td>\n",
              "      <td>0</td>\n",
              "      <td>0</td>\n",
              "      <td>0</td>\n",
              "      <td>0</td>\n",
              "      <td>0</td>\n",
              "      <td>0</td>\n",
              "      <td>0</td>\n",
              "      <td>0</td>\n",
              "      <td>0</td>\n",
              "      <td>0</td>\n",
              "      <td>0</td>\n",
              "      <td>0</td>\n",
              "      <td>0</td>\n",
              "      <td>0</td>\n",
              "      <td>0</td>\n",
              "      <td>0</td>\n",
              "      <td>0</td>\n",
              "      <td>0</td>\n",
              "      <td>0</td>\n",
              "      <td>0</td>\n",
              "      <td>0</td>\n",
              "    </tr>\n",
              "    <tr>\n",
              "      <th>67865</th>\n",
              "      <td>-34.576573</td>\n",
              "      <td>-58.434394</td>\n",
              "      <td>3.0</td>\n",
              "      <td>2.0</td>\n",
              "      <td>1.0</td>\n",
              "      <td>84.0</td>\n",
              "      <td>84.0</td>\n",
              "      <td>178000.0</td>\n",
              "      <td>0</td>\n",
              "      <td>0</td>\n",
              "      <td>1</td>\n",
              "      <td>0</td>\n",
              "      <td>0</td>\n",
              "      <td>0</td>\n",
              "      <td>0</td>\n",
              "      <td>0</td>\n",
              "      <td>0</td>\n",
              "      <td>0</td>\n",
              "      <td>0</td>\n",
              "      <td>0</td>\n",
              "      <td>0</td>\n",
              "      <td>0</td>\n",
              "      <td>0</td>\n",
              "      <td>0</td>\n",
              "      <td>0</td>\n",
              "      <td>0</td>\n",
              "      <td>0</td>\n",
              "      <td>0</td>\n",
              "      <td>0</td>\n",
              "      <td>0</td>\n",
              "      <td>0</td>\n",
              "      <td>0</td>\n",
              "      <td>0</td>\n",
              "      <td>0</td>\n",
              "      <td>0</td>\n",
              "      <td>0</td>\n",
              "      <td>0</td>\n",
              "      <td>1</td>\n",
              "      <td>0</td>\n",
              "      <td>0</td>\n",
              "      <td>0</td>\n",
              "      <td>0</td>\n",
              "      <td>0</td>\n",
              "      <td>0</td>\n",
              "      <td>0</td>\n",
              "      <td>0</td>\n",
              "      <td>0</td>\n",
              "      <td>0</td>\n",
              "      <td>0</td>\n",
              "      <td>0</td>\n",
              "      <td>0</td>\n",
              "      <td>0</td>\n",
              "      <td>0</td>\n",
              "      <td>0</td>\n",
              "      <td>0</td>\n",
              "      <td>0</td>\n",
              "      <td>0</td>\n",
              "      <td>0</td>\n",
              "      <td>0</td>\n",
              "      <td>0</td>\n",
              "      <td>0</td>\n",
              "      <td>0</td>\n",
              "      <td>0</td>\n",
              "      <td>0</td>\n",
              "      <td>0</td>\n",
              "      <td>0</td>\n",
              "      <td>0</td>\n",
              "    </tr>\n",
              "    <tr>\n",
              "      <th>67866</th>\n",
              "      <td>-34.585355</td>\n",
              "      <td>-58.427194</td>\n",
              "      <td>3.0</td>\n",
              "      <td>2.0</td>\n",
              "      <td>2.0</td>\n",
              "      <td>144.0</td>\n",
              "      <td>134.0</td>\n",
              "      <td>480000.0</td>\n",
              "      <td>0</td>\n",
              "      <td>0</td>\n",
              "      <td>1</td>\n",
              "      <td>0</td>\n",
              "      <td>0</td>\n",
              "      <td>0</td>\n",
              "      <td>0</td>\n",
              "      <td>0</td>\n",
              "      <td>0</td>\n",
              "      <td>0</td>\n",
              "      <td>0</td>\n",
              "      <td>0</td>\n",
              "      <td>0</td>\n",
              "      <td>0</td>\n",
              "      <td>0</td>\n",
              "      <td>0</td>\n",
              "      <td>0</td>\n",
              "      <td>0</td>\n",
              "      <td>0</td>\n",
              "      <td>0</td>\n",
              "      <td>0</td>\n",
              "      <td>0</td>\n",
              "      <td>0</td>\n",
              "      <td>0</td>\n",
              "      <td>0</td>\n",
              "      <td>0</td>\n",
              "      <td>0</td>\n",
              "      <td>0</td>\n",
              "      <td>0</td>\n",
              "      <td>1</td>\n",
              "      <td>0</td>\n",
              "      <td>0</td>\n",
              "      <td>0</td>\n",
              "      <td>0</td>\n",
              "      <td>0</td>\n",
              "      <td>0</td>\n",
              "      <td>0</td>\n",
              "      <td>0</td>\n",
              "      <td>0</td>\n",
              "      <td>0</td>\n",
              "      <td>0</td>\n",
              "      <td>0</td>\n",
              "      <td>0</td>\n",
              "      <td>0</td>\n",
              "      <td>0</td>\n",
              "      <td>0</td>\n",
              "      <td>0</td>\n",
              "      <td>0</td>\n",
              "      <td>0</td>\n",
              "      <td>0</td>\n",
              "      <td>0</td>\n",
              "      <td>0</td>\n",
              "      <td>0</td>\n",
              "      <td>0</td>\n",
              "      <td>0</td>\n",
              "      <td>0</td>\n",
              "      <td>0</td>\n",
              "      <td>0</td>\n",
              "      <td>0</td>\n",
              "    </tr>\n",
              "    <tr>\n",
              "      <th>67867</th>\n",
              "      <td>-34.583995</td>\n",
              "      <td>-58.417645</td>\n",
              "      <td>3.0</td>\n",
              "      <td>2.0</td>\n",
              "      <td>2.0</td>\n",
              "      <td>145.0</td>\n",
              "      <td>145.0</td>\n",
              "      <td>420000.0</td>\n",
              "      <td>0</td>\n",
              "      <td>1</td>\n",
              "      <td>0</td>\n",
              "      <td>0</td>\n",
              "      <td>0</td>\n",
              "      <td>0</td>\n",
              "      <td>0</td>\n",
              "      <td>0</td>\n",
              "      <td>0</td>\n",
              "      <td>0</td>\n",
              "      <td>0</td>\n",
              "      <td>0</td>\n",
              "      <td>0</td>\n",
              "      <td>0</td>\n",
              "      <td>0</td>\n",
              "      <td>0</td>\n",
              "      <td>0</td>\n",
              "      <td>0</td>\n",
              "      <td>0</td>\n",
              "      <td>0</td>\n",
              "      <td>0</td>\n",
              "      <td>0</td>\n",
              "      <td>0</td>\n",
              "      <td>0</td>\n",
              "      <td>0</td>\n",
              "      <td>0</td>\n",
              "      <td>0</td>\n",
              "      <td>0</td>\n",
              "      <td>0</td>\n",
              "      <td>1</td>\n",
              "      <td>0</td>\n",
              "      <td>0</td>\n",
              "      <td>0</td>\n",
              "      <td>0</td>\n",
              "      <td>0</td>\n",
              "      <td>0</td>\n",
              "      <td>0</td>\n",
              "      <td>0</td>\n",
              "      <td>0</td>\n",
              "      <td>0</td>\n",
              "      <td>0</td>\n",
              "      <td>0</td>\n",
              "      <td>0</td>\n",
              "      <td>0</td>\n",
              "      <td>0</td>\n",
              "      <td>0</td>\n",
              "      <td>0</td>\n",
              "      <td>0</td>\n",
              "      <td>0</td>\n",
              "      <td>0</td>\n",
              "      <td>0</td>\n",
              "      <td>0</td>\n",
              "      <td>0</td>\n",
              "      <td>0</td>\n",
              "      <td>0</td>\n",
              "      <td>0</td>\n",
              "      <td>0</td>\n",
              "      <td>0</td>\n",
              "      <td>0</td>\n",
              "    </tr>\n",
              "  </tbody>\n",
              "</table>\n",
              "<p>67868 rows × 67 columns</p>\n",
              "</div>"
            ],
            "text/plain": [
              "             lat        lon  rooms  bedrooms  bathrooms  surface_total  \\\n",
              "0     -34.624056 -58.412110    2.0       1.0        2.0           70.0   \n",
              "1     -34.593569 -58.427474    2.0       1.0        1.0           45.0   \n",
              "2     -34.581294 -58.436754    2.0       1.0        1.0           85.0   \n",
              "3     -34.593779 -58.441239    2.0       1.0        1.0           56.0   \n",
              "4     -34.600988 -58.433061    2.0       1.0        1.0           70.0   \n",
              "...          ...        ...    ...       ...        ...            ...   \n",
              "67863 -34.587152 -58.437724    3.0       2.0        2.0          120.0   \n",
              "67864 -34.581425 -58.442707    3.0       2.0        2.0           88.0   \n",
              "67865 -34.576573 -58.434394    3.0       2.0        1.0           84.0   \n",
              "67866 -34.585355 -58.427194    3.0       2.0        2.0          144.0   \n",
              "67867 -34.583995 -58.417645    3.0       2.0        2.0          145.0   \n",
              "\n",
              "       surface_covered     price  property_type_Casa  \\\n",
              "0                 58.0  159000.0                   0   \n",
              "1                 45.0  125000.0                   0   \n",
              "2                 50.0  295000.0                   0   \n",
              "3                 56.0  150000.0                   0   \n",
              "4                 70.0  159500.0                   0   \n",
              "...                ...       ...                 ...   \n",
              "67863             82.0  430000.0                   0   \n",
              "67864             82.0  399000.0                   0   \n",
              "67865             84.0  178000.0                   0   \n",
              "67866            134.0  480000.0                   0   \n",
              "67867            145.0  420000.0                   0   \n",
              "\n",
              "       property_type_Departamento  property_type_PH  l3_Abasto  l3_Agronomía  \\\n",
              "0                               0                 1          0             0   \n",
              "1                               0                 1          0             0   \n",
              "2                               0                 1          0             0   \n",
              "3                               0                 1          0             0   \n",
              "4                               0                 1          0             0   \n",
              "...                           ...               ...        ...           ...   \n",
              "67863                           1                 0          0             0   \n",
              "67864                           1                 0          0             0   \n",
              "67865                           0                 1          0             0   \n",
              "67866                           0                 1          0             0   \n",
              "67867                           1                 0          0             0   \n",
              "\n",
              "       l3_Almagro  l3_Balvanera  l3_Barracas  l3_Barrio Norte  l3_Belgrano  \\\n",
              "0               0             0            0                0            0   \n",
              "1               0             0            0                0            0   \n",
              "2               0             0            0                0            0   \n",
              "3               0             0            0                0            0   \n",
              "4               0             0            0                0            0   \n",
              "...           ...           ...          ...              ...          ...   \n",
              "67863           0             0            0                0            0   \n",
              "67864           0             0            0                0            0   \n",
              "67865           0             0            0                0            0   \n",
              "67866           0             0            0                0            0   \n",
              "67867           0             0            0                0            0   \n",
              "\n",
              "       l3_Boca  l3_Boedo  l3_Caballito  l3_Catalinas  l3_Centro / Microcentro  \\\n",
              "0            0         1             0             0                        0   \n",
              "1            0         0             0             0                        0   \n",
              "2            0         0             0             0                        0   \n",
              "3            0         0             0             0                        0   \n",
              "4            0         0             0             0                        0   \n",
              "...        ...       ...           ...           ...                      ...   \n",
              "67863        0         0             0             0                        0   \n",
              "67864        0         0             0             0                        0   \n",
              "67865        0         0             0             0                        0   \n",
              "67866        0         0             0             0                        0   \n",
              "67867        0         0             0             0                        0   \n",
              "\n",
              "       l3_Chacarita  l3_Coghlan  l3_Colegiales  l3_Congreso  l3_Constitución  \\\n",
              "0                 0           0              0            0                0   \n",
              "1                 0           0              0            0                0   \n",
              "2                 0           0              0            0                0   \n",
              "3                 0           0              0            0                0   \n",
              "4                 0           0              0            0                0   \n",
              "...             ...         ...            ...          ...              ...   \n",
              "67863             0           0              0            0                0   \n",
              "67864             0           0              0            0                0   \n",
              "67865             0           0              0            0                0   \n",
              "67866             0           0              0            0                0   \n",
              "67867             0           0              0            0                0   \n",
              "\n",
              "       l3_Flores  l3_Floresta  l3_Las Cañitas  l3_Liniers  l3_Mataderos  \\\n",
              "0              0            0               0           0             0   \n",
              "1              0            0               0           0             0   \n",
              "2              0            0               0           0             0   \n",
              "3              0            0               0           0             0   \n",
              "4              0            0               0           0             0   \n",
              "...          ...          ...             ...         ...           ...   \n",
              "67863          0            0               0           0             0   \n",
              "67864          0            0               0           0             0   \n",
              "67865          0            0               0           0             0   \n",
              "67866          0            0               0           0             0   \n",
              "67867          0            0               0           0             0   \n",
              "\n",
              "       l3_Monserrat  l3_Monte Castro  l3_Nuñez  l3_Once  l3_Palermo  \\\n",
              "0                 0                0         0        0           0   \n",
              "1                 0                0         0        0           1   \n",
              "2                 0                0         0        0           1   \n",
              "3                 0                0         0        0           0   \n",
              "4                 0                0         0        0           0   \n",
              "...             ...              ...       ...      ...         ...   \n",
              "67863             0                0         0        0           1   \n",
              "67864             0                0         0        0           1   \n",
              "67865             0                0         0        0           1   \n",
              "67866             0                0         0        0           1   \n",
              "67867             0                0         0        0           1   \n",
              "\n",
              "       l3_Parque Avellaneda  l3_Parque Centenario  l3_Parque Chacabuco  \\\n",
              "0                         0                     0                    0   \n",
              "1                         0                     0                    0   \n",
              "2                         0                     0                    0   \n",
              "3                         0                     0                    0   \n",
              "4                         0                     0                    0   \n",
              "...                     ...                   ...                  ...   \n",
              "67863                     0                     0                    0   \n",
              "67864                     0                     0                    0   \n",
              "67865                     0                     0                    0   \n",
              "67866                     0                     0                    0   \n",
              "67867                     0                     0                    0   \n",
              "\n",
              "       l3_Parque Chas  l3_Parque Patricios  l3_Paternal  l3_Pompeya  \\\n",
              "0                   0                    0            0           0   \n",
              "1                   0                    0            0           0   \n",
              "2                   0                    0            0           0   \n",
              "3                   0                    0            0           0   \n",
              "4                   0                    0            0           0   \n",
              "...               ...                  ...          ...         ...   \n",
              "67863               0                    0            0           0   \n",
              "67864               0                    0            0           0   \n",
              "67865               0                    0            0           0   \n",
              "67866               0                    0            0           0   \n",
              "67867               0                    0            0           0   \n",
              "\n",
              "       l3_Puerto Madero  l3_Recoleta  l3_Retiro  l3_Saavedra  \\\n",
              "0                     0            0          0            0   \n",
              "1                     0            0          0            0   \n",
              "2                     0            0          0            0   \n",
              "3                     0            0          0            0   \n",
              "4                     0            0          0            0   \n",
              "...                 ...          ...        ...          ...   \n",
              "67863                 0            0          0            0   \n",
              "67864                 0            0          0            0   \n",
              "67865                 0            0          0            0   \n",
              "67866                 0            0          0            0   \n",
              "67867                 0            0          0            0   \n",
              "\n",
              "       l3_San Cristobal  l3_San Nicolás  l3_San Telmo  l3_Tribunales  \\\n",
              "0                     0               0             0              0   \n",
              "1                     0               0             0              0   \n",
              "2                     0               0             0              0   \n",
              "3                     0               0             0              0   \n",
              "4                     0               0             0              0   \n",
              "...                 ...             ...           ...            ...   \n",
              "67863                 0               0             0              0   \n",
              "67864                 0               0             0              0   \n",
              "67865                 0               0             0              0   \n",
              "67866                 0               0             0              0   \n",
              "67867                 0               0             0              0   \n",
              "\n",
              "       l3_Velez Sarsfield  l3_Versalles  l3_Villa Crespo  l3_Villa Devoto  \\\n",
              "0                       0             0                0                0   \n",
              "1                       0             0                0                0   \n",
              "2                       0             0                0                0   \n",
              "3                       0             0                1                0   \n",
              "4                       0             0                1                0   \n",
              "...                   ...           ...              ...              ...   \n",
              "67863                   0             0                0                0   \n",
              "67864                   0             0                0                0   \n",
              "67865                   0             0                0                0   \n",
              "67866                   0             0                0                0   \n",
              "67867                   0             0                0                0   \n",
              "\n",
              "       l3_Villa General Mitre  l3_Villa Lugano  l3_Villa Luro  \\\n",
              "0                           0                0              0   \n",
              "1                           0                0              0   \n",
              "2                           0                0              0   \n",
              "3                           0                0              0   \n",
              "4                           0                0              0   \n",
              "...                       ...              ...            ...   \n",
              "67863                       0                0              0   \n",
              "67864                       0                0              0   \n",
              "67865                       0                0              0   \n",
              "67866                       0                0              0   \n",
              "67867                       0                0              0   \n",
              "\n",
              "       l3_Villa Ortuzar  l3_Villa Pueyrredón  l3_Villa Real  \\\n",
              "0                     0                    0              0   \n",
              "1                     0                    0              0   \n",
              "2                     0                    0              0   \n",
              "3                     0                    0              0   \n",
              "4                     0                    0              0   \n",
              "...                 ...                  ...            ...   \n",
              "67863                 0                    0              0   \n",
              "67864                 0                    0              0   \n",
              "67865                 0                    0              0   \n",
              "67866                 0                    0              0   \n",
              "67867                 0                    0              0   \n",
              "\n",
              "       l3_Villa Santa Rita  l3_Villa Soldati  l3_Villa Urquiza  \\\n",
              "0                        0                 0                 0   \n",
              "1                        0                 0                 0   \n",
              "2                        0                 0                 0   \n",
              "3                        0                 0                 0   \n",
              "4                        0                 0                 0   \n",
              "...                    ...               ...               ...   \n",
              "67863                    0                 0                 0   \n",
              "67864                    0                 0                 0   \n",
              "67865                    0                 0                 0   \n",
              "67866                    0                 0                 0   \n",
              "67867                    0                 0                 0   \n",
              "\n",
              "       l3_Villa del Parque  \n",
              "0                        0  \n",
              "1                        0  \n",
              "2                        0  \n",
              "3                        0  \n",
              "4                        0  \n",
              "...                    ...  \n",
              "67863                    0  \n",
              "67864                    0  \n",
              "67865                    0  \n",
              "67866                    0  \n",
              "67867                    0  \n",
              "\n",
              "[67868 rows x 67 columns]"
            ]
          },
          "metadata": {
            "tags": []
          },
          "execution_count": 41
        }
      ]
    },
    {
      "cell_type": "markdown",
      "metadata": {
        "id": "35uNhAEiFgtd"
      },
      "source": [
        "### ---> Registros que se imputaran a partir de otros"
      ]
    },
    {
      "cell_type": "markdown",
      "metadata": {
        "id": "60NabNksOH19"
      },
      "source": [
        "Existen múltiples maneras de imputar registros en el caso en que estimamos que otros parámetros son útiles para estimar los valores faltantes:imputación mediante valores medios, medianas, modas, diversos tipos de regresores, entre otros. En nuestro caso especifico implementaremos una función que hará uso del imputer basado en KNN de ScikitLearn. Esta función nos permitirá obtener información a partir de un dataframe de entrada y de una lista de columnas, el mismo dataframe pero ahora con las columnas elegidas ya imputadas. Así podremos tener la libertad de elegir qué variables en especifico elegir para hacer la imputación de las restantes.\n",
        "\n",
        "Con dicha función imputamos 2 tipos de conjuntos valores en específico: \n",
        "- **Valores de surface_total y surface_covered:** los registros en los cuales se conoce un tipo de superficie y no la otra las imputaremos entre sí. \n",
        "- **Valores de bathrooms:** imputaremos estos registros nulos a partir de las variables rooms y bedrooms. Lo lógico es que estas dos variables asociadas a la cantidad de espacios distribuidos en viviendas tengan relación con la variable bathrooms.\n"
      ]
    },
    {
      "cell_type": "code",
      "metadata": {
        "colab": {
          "base_uri": "https://localhost:8080/"
        },
        "id": "CzA22OL3LFvX",
        "outputId": "f329cbdb-067c-4a3d-f6e9-30b2c8a34754"
      },
      "source": [
        "# Inicialmente evaluamos las columnas que presentan valores a imputar\n",
        "df_A_droped[['lat', 'lon', 'rooms', 'bedrooms', 'bathrooms', 'surface_total',\n",
        "       'surface_covered', 'price']].isnull().sum()"
      ],
      "execution_count": 42,
      "outputs": [
        {
          "output_type": "execute_result",
          "data": {
            "text/plain": [
              "lat                  0\n",
              "lon                  0\n",
              "rooms                0\n",
              "bedrooms             0\n",
              "bathrooms          760\n",
              "surface_total      173\n",
              "surface_covered    434\n",
              "price                0\n",
              "dtype: int64"
            ]
          },
          "metadata": {
            "tags": []
          },
          "execution_count": 42
        }
      ]
    },
    {
      "cell_type": "code",
      "metadata": {
        "id": "S80N4SxpxPcJ"
      },
      "source": [
        "# Función que nos permite hacer la imputación de columnas especificas de un dataframe\n",
        "def fun_knn_imputer(df,columns):\n",
        "    df_imputed=df.copy()\n",
        "    knn_imputer = KNNImputer(n_neighbors=10, weights=\"distance\")\n",
        "    array_imputed = knn_imputer.fit_transform(df[columns])\n",
        "    df_imputed_columns = pd.DataFrame(data=array_imputed, columns=df[columns].columns, index=df[columns].index)\n",
        "    df_imputed[columns]=df_imputed_columns\n",
        "    return df_imputed"
      ],
      "execution_count": 43,
      "outputs": []
    },
    {
      "cell_type": "code",
      "metadata": {
        "id": "GzsaNCRhKLHO"
      },
      "source": [
        "# Dataframe imputado para las variables de superficie\n",
        "df_A_imputed = fun_knn_imputer(df_A_droped,['surface_total','surface_covered'])\n",
        "# Dataframe imputado para la variable de bathrooms\n",
        "df_A_imputed = fun_knn_imputer(df_A_imputed,['rooms', 'bedrooms', 'bathrooms'])"
      ],
      "execution_count": 44,
      "outputs": []
    },
    {
      "cell_type": "code",
      "metadata": {
        "colab": {
          "base_uri": "https://localhost:8080/"
        },
        "id": "yUi0Ta51QRPM",
        "outputId": "88d23e13-6144-4d2a-9299-a3008c656eff"
      },
      "source": [
        "# Corroboramos que no existen ahora varibles nulas en el dataset\n",
        "df_A_imputed[['lat', 'lon', 'rooms', 'bedrooms', 'bathrooms', 'surface_total',\n",
        "       'surface_covered', 'price']].isnull().sum()"
      ],
      "execution_count": 45,
      "outputs": [
        {
          "output_type": "execute_result",
          "data": {
            "text/plain": [
              "lat                0\n",
              "lon                0\n",
              "rooms              0\n",
              "bedrooms           0\n",
              "bathrooms          0\n",
              "surface_total      0\n",
              "surface_covered    0\n",
              "price              0\n",
              "dtype: int64"
            ]
          },
          "metadata": {
            "tags": []
          },
          "execution_count": 45
        }
      ]
    },
    {
      "cell_type": "markdown",
      "metadata": {
        "id": "sXg_JQO-Rhu6"
      },
      "source": [
        "## **A. 04.** Escalado de datos"
      ]
    },
    {
      "cell_type": "markdown",
      "metadata": {
        "id": "GeK4IuOWRhvD"
      },
      "source": [
        "De la misma manera que en la sección anterior existen múltiples maneras de escalar los valores de nuestros features: standart scaler, normalización, min-max scaler, entre otros. En nuestro caso especifico implementaremos dos funciones que nos permitirán implementar escaladores basados en  función de los escaladores  standart scaler de ScikitLearn, y por otra parte una función de escalado logarítmico implementado de manera propia. El escalado es un proceso determinante pues estará relacionado en varios modelos con la importancia que puede tener cada feature dentro de la predicción. El escalado permitirá tener una importancia relativa para cada uno de los features involucrados. El dataframe se escalará de manera conjunta con los 3 escaladores.\n",
        " \n",
        "Cada uno de los tipos de escaladores se emplearán de la siguiente manera:\n",
        "- **Escalador logarítmico:** cuando la distribución de cierta variable presenta una larga cola el escalador logarítmico resulta útil. Esto permite al modelo discriminar de mejor manera en relación con este parámetro en específico. Estos tipos de distribuciones los podemos encontrar en las variables surface_total y surface_covered a los cuales los aplicaremos.\n",
        "- **Escalador basado en standard scaler:** Lo aplicaremos a todas las variables numéricas del dataset.\n",
        "- **Escalador basado en minmax scaler:** Lo aplicaremos a todas las variables numéricas del dataset.\n"
      ]
    },
    {
      "cell_type": "code",
      "metadata": {
        "id": "jHE3w0i2KLLy"
      },
      "source": [
        "# Función que me permite escalar logaritmicamente\n",
        "# Entradas: df (dataframe que quiero escalar, col (lista con las columnas que deseo escalar))\n",
        "# Salida: dataframe escalado en las columnas que se pidio (mantiene indices de filas y columnas)\n",
        "def fun_scaler_logaritmic(df,columns):\n",
        "    df_scaled=df.copy()\n",
        "    df_scaled[columns]=df_scaled[columns].applymap(lambda x: np.log(x+1))\n",
        "    return df_scaled"
      ],
      "execution_count": 46,
      "outputs": []
    },
    {
      "cell_type": "code",
      "metadata": {
        "id": "uMKKfg9MXuCv"
      },
      "source": [
        "# Función que me permite escalar empleando el MinMaxScaler\n",
        "# Entradas: df (dataframe que quiero escalar, col (lista con las columnas que deseo escalar))\n",
        "# Salida: dataframe escalado en las columnas que se pidio (mantiene indices de filas y columnas)\n",
        "def fun_scaler_standar(df,columns):\n",
        "    df_scaled=df.copy()\n",
        "    std_scaler = StandardScaler()\n",
        "    array_scaled=std_scaler.fit_transform(df[columns])\n",
        "    df_scaled_columns = pd.DataFrame(data=array_scaled, columns=df[columns].columns, index=df[columns].index)\n",
        "    df_scaled[columns]=df_scaled_columns\n",
        "    return df_scaled"
      ],
      "execution_count": 47,
      "outputs": []
    },
    {
      "cell_type": "code",
      "metadata": {
        "id": "U9keY1YfYJZt"
      },
      "source": [
        "# Función que me permite escalar empleando el StandarScaler\n",
        "# Entradas: df (dataframe que quiero escalar, col (lista con las columnas que deseo escalar))\n",
        "# Salida: dataframe escalado en las columnas que se pidio (mantiene indices de filas y columnas)\n",
        "def fun_scaler_minmax(df,columns):\n",
        "    df_scaled=df.copy()\n",
        "    minmax_scaler = MinMaxScaler()\n",
        "    array_scaled=minmax_scaler.fit_transform(df[columns])\n",
        "    df_scaled_columns = pd.DataFrame(data=array_scaled, columns=df[columns].columns, index=df[columns].index)\n",
        "    df_scaled[columns]=df_scaled_columns\n",
        "    return df_scaled"
      ],
      "execution_count": 48,
      "outputs": []
    },
    {
      "cell_type": "code",
      "metadata": {
        "colab": {
          "base_uri": "https://localhost:8080/",
          "height": 0
        },
        "id": "Z1p-QcLvY-w8",
        "outputId": "2bf3e2ce-eaa2-49c5-9f1f-cb56f6a736aa"
      },
      "source": [
        "# Dataframe escalado con el escalador logarítmico\n",
        "df_A_scaled = fun_scaler_logaritmic(df_A_imputed,['surface_total','surface_covered'])\n",
        "# Dataframe escalado con el standard_scaler\n",
        "df_A_scaled = fun_scaler_standar(df_A_scaled,['lat', 'lon', 'rooms', 'bedrooms', 'bathrooms', 'surface_total',\n",
        "       'surface_covered'])\n",
        "# Dataframe escalado con el escalador minmax_scaler\n",
        "df_A_scaled = fun_scaler_minmax(df_A_scaled,['lat', 'lon', 'rooms', 'bedrooms', 'bathrooms', 'surface_total',\n",
        "       'surface_covered'])\n",
        "df_A_scaled"
      ],
      "execution_count": 49,
      "outputs": [
        {
          "output_type": "execute_result",
          "data": {
            "text/html": [
              "<div>\n",
              "<style scoped>\n",
              "    .dataframe tbody tr th:only-of-type {\n",
              "        vertical-align: middle;\n",
              "    }\n",
              "\n",
              "    .dataframe tbody tr th {\n",
              "        vertical-align: top;\n",
              "    }\n",
              "\n",
              "    .dataframe thead th {\n",
              "        text-align: right;\n",
              "    }\n",
              "</style>\n",
              "<table border=\"1\" class=\"dataframe\">\n",
              "  <thead>\n",
              "    <tr style=\"text-align: right;\">\n",
              "      <th></th>\n",
              "      <th>lat</th>\n",
              "      <th>lon</th>\n",
              "      <th>rooms</th>\n",
              "      <th>bedrooms</th>\n",
              "      <th>bathrooms</th>\n",
              "      <th>surface_total</th>\n",
              "      <th>surface_covered</th>\n",
              "      <th>price</th>\n",
              "      <th>property_type_Casa</th>\n",
              "      <th>property_type_Departamento</th>\n",
              "      <th>property_type_PH</th>\n",
              "      <th>l3_Abasto</th>\n",
              "      <th>l3_Agronomía</th>\n",
              "      <th>l3_Almagro</th>\n",
              "      <th>l3_Balvanera</th>\n",
              "      <th>l3_Barracas</th>\n",
              "      <th>l3_Barrio Norte</th>\n",
              "      <th>l3_Belgrano</th>\n",
              "      <th>l3_Boca</th>\n",
              "      <th>l3_Boedo</th>\n",
              "      <th>l3_Caballito</th>\n",
              "      <th>l3_Catalinas</th>\n",
              "      <th>l3_Centro / Microcentro</th>\n",
              "      <th>l3_Chacarita</th>\n",
              "      <th>l3_Coghlan</th>\n",
              "      <th>l3_Colegiales</th>\n",
              "      <th>l3_Congreso</th>\n",
              "      <th>l3_Constitución</th>\n",
              "      <th>l3_Flores</th>\n",
              "      <th>l3_Floresta</th>\n",
              "      <th>l3_Las Cañitas</th>\n",
              "      <th>l3_Liniers</th>\n",
              "      <th>l3_Mataderos</th>\n",
              "      <th>l3_Monserrat</th>\n",
              "      <th>l3_Monte Castro</th>\n",
              "      <th>l3_Nuñez</th>\n",
              "      <th>l3_Once</th>\n",
              "      <th>l3_Palermo</th>\n",
              "      <th>l3_Parque Avellaneda</th>\n",
              "      <th>l3_Parque Centenario</th>\n",
              "      <th>l3_Parque Chacabuco</th>\n",
              "      <th>l3_Parque Chas</th>\n",
              "      <th>l3_Parque Patricios</th>\n",
              "      <th>l3_Paternal</th>\n",
              "      <th>l3_Pompeya</th>\n",
              "      <th>l3_Puerto Madero</th>\n",
              "      <th>l3_Recoleta</th>\n",
              "      <th>l3_Retiro</th>\n",
              "      <th>l3_Saavedra</th>\n",
              "      <th>l3_San Cristobal</th>\n",
              "      <th>l3_San Nicolás</th>\n",
              "      <th>l3_San Telmo</th>\n",
              "      <th>l3_Tribunales</th>\n",
              "      <th>l3_Velez Sarsfield</th>\n",
              "      <th>l3_Versalles</th>\n",
              "      <th>l3_Villa Crespo</th>\n",
              "      <th>l3_Villa Devoto</th>\n",
              "      <th>l3_Villa General Mitre</th>\n",
              "      <th>l3_Villa Lugano</th>\n",
              "      <th>l3_Villa Luro</th>\n",
              "      <th>l3_Villa Ortuzar</th>\n",
              "      <th>l3_Villa Pueyrredón</th>\n",
              "      <th>l3_Villa Real</th>\n",
              "      <th>l3_Villa Santa Rita</th>\n",
              "      <th>l3_Villa Soldati</th>\n",
              "      <th>l3_Villa Urquiza</th>\n",
              "      <th>l3_Villa del Parque</th>\n",
              "    </tr>\n",
              "  </thead>\n",
              "  <tbody>\n",
              "    <tr>\n",
              "      <th>0</th>\n",
              "      <td>0.286838</td>\n",
              "      <td>0.670438</td>\n",
              "      <td>0.2</td>\n",
              "      <td>0.2</td>\n",
              "      <td>0.5</td>\n",
              "      <td>0.637508</td>\n",
              "      <td>0.756857</td>\n",
              "      <td>159000.0</td>\n",
              "      <td>0</td>\n",
              "      <td>0</td>\n",
              "      <td>1</td>\n",
              "      <td>0</td>\n",
              "      <td>0</td>\n",
              "      <td>0</td>\n",
              "      <td>0</td>\n",
              "      <td>0</td>\n",
              "      <td>0</td>\n",
              "      <td>0</td>\n",
              "      <td>0</td>\n",
              "      <td>1</td>\n",
              "      <td>0</td>\n",
              "      <td>0</td>\n",
              "      <td>0</td>\n",
              "      <td>0</td>\n",
              "      <td>0</td>\n",
              "      <td>0</td>\n",
              "      <td>0</td>\n",
              "      <td>0</td>\n",
              "      <td>0</td>\n",
              "      <td>0</td>\n",
              "      <td>0</td>\n",
              "      <td>0</td>\n",
              "      <td>0</td>\n",
              "      <td>0</td>\n",
              "      <td>0</td>\n",
              "      <td>0</td>\n",
              "      <td>0</td>\n",
              "      <td>0</td>\n",
              "      <td>0</td>\n",
              "      <td>0</td>\n",
              "      <td>0</td>\n",
              "      <td>0</td>\n",
              "      <td>0</td>\n",
              "      <td>0</td>\n",
              "      <td>0</td>\n",
              "      <td>0</td>\n",
              "      <td>0</td>\n",
              "      <td>0</td>\n",
              "      <td>0</td>\n",
              "      <td>0</td>\n",
              "      <td>0</td>\n",
              "      <td>0</td>\n",
              "      <td>0</td>\n",
              "      <td>0</td>\n",
              "      <td>0</td>\n",
              "      <td>0</td>\n",
              "      <td>0</td>\n",
              "      <td>0</td>\n",
              "      <td>0</td>\n",
              "      <td>0</td>\n",
              "      <td>0</td>\n",
              "      <td>0</td>\n",
              "      <td>0</td>\n",
              "      <td>0</td>\n",
              "      <td>0</td>\n",
              "      <td>0</td>\n",
              "      <td>0</td>\n",
              "    </tr>\n",
              "    <tr>\n",
              "      <th>1</th>\n",
              "      <td>0.544692</td>\n",
              "      <td>0.583409</td>\n",
              "      <td>0.2</td>\n",
              "      <td>0.2</td>\n",
              "      <td>0.0</td>\n",
              "      <td>0.489125</td>\n",
              "      <td>0.701196</td>\n",
              "      <td>125000.0</td>\n",
              "      <td>0</td>\n",
              "      <td>0</td>\n",
              "      <td>1</td>\n",
              "      <td>0</td>\n",
              "      <td>0</td>\n",
              "      <td>0</td>\n",
              "      <td>0</td>\n",
              "      <td>0</td>\n",
              "      <td>0</td>\n",
              "      <td>0</td>\n",
              "      <td>0</td>\n",
              "      <td>0</td>\n",
              "      <td>0</td>\n",
              "      <td>0</td>\n",
              "      <td>0</td>\n",
              "      <td>0</td>\n",
              "      <td>0</td>\n",
              "      <td>0</td>\n",
              "      <td>0</td>\n",
              "      <td>0</td>\n",
              "      <td>0</td>\n",
              "      <td>0</td>\n",
              "      <td>0</td>\n",
              "      <td>0</td>\n",
              "      <td>0</td>\n",
              "      <td>0</td>\n",
              "      <td>0</td>\n",
              "      <td>0</td>\n",
              "      <td>0</td>\n",
              "      <td>1</td>\n",
              "      <td>0</td>\n",
              "      <td>0</td>\n",
              "      <td>0</td>\n",
              "      <td>0</td>\n",
              "      <td>0</td>\n",
              "      <td>0</td>\n",
              "      <td>0</td>\n",
              "      <td>0</td>\n",
              "      <td>0</td>\n",
              "      <td>0</td>\n",
              "      <td>0</td>\n",
              "      <td>0</td>\n",
              "      <td>0</td>\n",
              "      <td>0</td>\n",
              "      <td>0</td>\n",
              "      <td>0</td>\n",
              "      <td>0</td>\n",
              "      <td>0</td>\n",
              "      <td>0</td>\n",
              "      <td>0</td>\n",
              "      <td>0</td>\n",
              "      <td>0</td>\n",
              "      <td>0</td>\n",
              "      <td>0</td>\n",
              "      <td>0</td>\n",
              "      <td>0</td>\n",
              "      <td>0</td>\n",
              "      <td>0</td>\n",
              "      <td>0</td>\n",
              "    </tr>\n",
              "    <tr>\n",
              "      <th>2</th>\n",
              "      <td>0.648512</td>\n",
              "      <td>0.530842</td>\n",
              "      <td>0.2</td>\n",
              "      <td>0.2</td>\n",
              "      <td>0.0</td>\n",
              "      <td>0.703033</td>\n",
              "      <td>0.724271</td>\n",
              "      <td>295000.0</td>\n",
              "      <td>0</td>\n",
              "      <td>0</td>\n",
              "      <td>1</td>\n",
              "      <td>0</td>\n",
              "      <td>0</td>\n",
              "      <td>0</td>\n",
              "      <td>0</td>\n",
              "      <td>0</td>\n",
              "      <td>0</td>\n",
              "      <td>0</td>\n",
              "      <td>0</td>\n",
              "      <td>0</td>\n",
              "      <td>0</td>\n",
              "      <td>0</td>\n",
              "      <td>0</td>\n",
              "      <td>0</td>\n",
              "      <td>0</td>\n",
              "      <td>0</td>\n",
              "      <td>0</td>\n",
              "      <td>0</td>\n",
              "      <td>0</td>\n",
              "      <td>0</td>\n",
              "      <td>0</td>\n",
              "      <td>0</td>\n",
              "      <td>0</td>\n",
              "      <td>0</td>\n",
              "      <td>0</td>\n",
              "      <td>0</td>\n",
              "      <td>0</td>\n",
              "      <td>1</td>\n",
              "      <td>0</td>\n",
              "      <td>0</td>\n",
              "      <td>0</td>\n",
              "      <td>0</td>\n",
              "      <td>0</td>\n",
              "      <td>0</td>\n",
              "      <td>0</td>\n",
              "      <td>0</td>\n",
              "      <td>0</td>\n",
              "      <td>0</td>\n",
              "      <td>0</td>\n",
              "      <td>0</td>\n",
              "      <td>0</td>\n",
              "      <td>0</td>\n",
              "      <td>0</td>\n",
              "      <td>0</td>\n",
              "      <td>0</td>\n",
              "      <td>0</td>\n",
              "      <td>0</td>\n",
              "      <td>0</td>\n",
              "      <td>0</td>\n",
              "      <td>0</td>\n",
              "      <td>0</td>\n",
              "      <td>0</td>\n",
              "      <td>0</td>\n",
              "      <td>0</td>\n",
              "      <td>0</td>\n",
              "      <td>0</td>\n",
              "      <td>0</td>\n",
              "    </tr>\n",
              "    <tr>\n",
              "      <th>3</th>\n",
              "      <td>0.542915</td>\n",
              "      <td>0.505438</td>\n",
              "      <td>0.2</td>\n",
              "      <td>0.2</td>\n",
              "      <td>0.0</td>\n",
              "      <td>0.562424</td>\n",
              "      <td>0.749145</td>\n",
              "      <td>150000.0</td>\n",
              "      <td>0</td>\n",
              "      <td>0</td>\n",
              "      <td>1</td>\n",
              "      <td>0</td>\n",
              "      <td>0</td>\n",
              "      <td>0</td>\n",
              "      <td>0</td>\n",
              "      <td>0</td>\n",
              "      <td>0</td>\n",
              "      <td>0</td>\n",
              "      <td>0</td>\n",
              "      <td>0</td>\n",
              "      <td>0</td>\n",
              "      <td>0</td>\n",
              "      <td>0</td>\n",
              "      <td>0</td>\n",
              "      <td>0</td>\n",
              "      <td>0</td>\n",
              "      <td>0</td>\n",
              "      <td>0</td>\n",
              "      <td>0</td>\n",
              "      <td>0</td>\n",
              "      <td>0</td>\n",
              "      <td>0</td>\n",
              "      <td>0</td>\n",
              "      <td>0</td>\n",
              "      <td>0</td>\n",
              "      <td>0</td>\n",
              "      <td>0</td>\n",
              "      <td>0</td>\n",
              "      <td>0</td>\n",
              "      <td>0</td>\n",
              "      <td>0</td>\n",
              "      <td>0</td>\n",
              "      <td>0</td>\n",
              "      <td>0</td>\n",
              "      <td>0</td>\n",
              "      <td>0</td>\n",
              "      <td>0</td>\n",
              "      <td>0</td>\n",
              "      <td>0</td>\n",
              "      <td>0</td>\n",
              "      <td>0</td>\n",
              "      <td>0</td>\n",
              "      <td>0</td>\n",
              "      <td>0</td>\n",
              "      <td>0</td>\n",
              "      <td>1</td>\n",
              "      <td>0</td>\n",
              "      <td>0</td>\n",
              "      <td>0</td>\n",
              "      <td>0</td>\n",
              "      <td>0</td>\n",
              "      <td>0</td>\n",
              "      <td>0</td>\n",
              "      <td>0</td>\n",
              "      <td>0</td>\n",
              "      <td>0</td>\n",
              "      <td>0</td>\n",
              "    </tr>\n",
              "    <tr>\n",
              "      <th>4</th>\n",
              "      <td>0.481941</td>\n",
              "      <td>0.551759</td>\n",
              "      <td>0.2</td>\n",
              "      <td>0.2</td>\n",
              "      <td>0.0</td>\n",
              "      <td>0.637508</td>\n",
              "      <td>0.798261</td>\n",
              "      <td>159500.0</td>\n",
              "      <td>0</td>\n",
              "      <td>0</td>\n",
              "      <td>1</td>\n",
              "      <td>0</td>\n",
              "      <td>0</td>\n",
              "      <td>0</td>\n",
              "      <td>0</td>\n",
              "      <td>0</td>\n",
              "      <td>0</td>\n",
              "      <td>0</td>\n",
              "      <td>0</td>\n",
              "      <td>0</td>\n",
              "      <td>0</td>\n",
              "      <td>0</td>\n",
              "      <td>0</td>\n",
              "      <td>0</td>\n",
              "      <td>0</td>\n",
              "      <td>0</td>\n",
              "      <td>0</td>\n",
              "      <td>0</td>\n",
              "      <td>0</td>\n",
              "      <td>0</td>\n",
              "      <td>0</td>\n",
              "      <td>0</td>\n",
              "      <td>0</td>\n",
              "      <td>0</td>\n",
              "      <td>0</td>\n",
              "      <td>0</td>\n",
              "      <td>0</td>\n",
              "      <td>0</td>\n",
              "      <td>0</td>\n",
              "      <td>0</td>\n",
              "      <td>0</td>\n",
              "      <td>0</td>\n",
              "      <td>0</td>\n",
              "      <td>0</td>\n",
              "      <td>0</td>\n",
              "      <td>0</td>\n",
              "      <td>0</td>\n",
              "      <td>0</td>\n",
              "      <td>0</td>\n",
              "      <td>0</td>\n",
              "      <td>0</td>\n",
              "      <td>0</td>\n",
              "      <td>0</td>\n",
              "      <td>0</td>\n",
              "      <td>0</td>\n",
              "      <td>1</td>\n",
              "      <td>0</td>\n",
              "      <td>0</td>\n",
              "      <td>0</td>\n",
              "      <td>0</td>\n",
              "      <td>0</td>\n",
              "      <td>0</td>\n",
              "      <td>0</td>\n",
              "      <td>0</td>\n",
              "      <td>0</td>\n",
              "      <td>0</td>\n",
              "      <td>0</td>\n",
              "    </tr>\n",
              "    <tr>\n",
              "      <th>...</th>\n",
              "      <td>...</td>\n",
              "      <td>...</td>\n",
              "      <td>...</td>\n",
              "      <td>...</td>\n",
              "      <td>...</td>\n",
              "      <td>...</td>\n",
              "      <td>...</td>\n",
              "      <td>...</td>\n",
              "      <td>...</td>\n",
              "      <td>...</td>\n",
              "      <td>...</td>\n",
              "      <td>...</td>\n",
              "      <td>...</td>\n",
              "      <td>...</td>\n",
              "      <td>...</td>\n",
              "      <td>...</td>\n",
              "      <td>...</td>\n",
              "      <td>...</td>\n",
              "      <td>...</td>\n",
              "      <td>...</td>\n",
              "      <td>...</td>\n",
              "      <td>...</td>\n",
              "      <td>...</td>\n",
              "      <td>...</td>\n",
              "      <td>...</td>\n",
              "      <td>...</td>\n",
              "      <td>...</td>\n",
              "      <td>...</td>\n",
              "      <td>...</td>\n",
              "      <td>...</td>\n",
              "      <td>...</td>\n",
              "      <td>...</td>\n",
              "      <td>...</td>\n",
              "      <td>...</td>\n",
              "      <td>...</td>\n",
              "      <td>...</td>\n",
              "      <td>...</td>\n",
              "      <td>...</td>\n",
              "      <td>...</td>\n",
              "      <td>...</td>\n",
              "      <td>...</td>\n",
              "      <td>...</td>\n",
              "      <td>...</td>\n",
              "      <td>...</td>\n",
              "      <td>...</td>\n",
              "      <td>...</td>\n",
              "      <td>...</td>\n",
              "      <td>...</td>\n",
              "      <td>...</td>\n",
              "      <td>...</td>\n",
              "      <td>...</td>\n",
              "      <td>...</td>\n",
              "      <td>...</td>\n",
              "      <td>...</td>\n",
              "      <td>...</td>\n",
              "      <td>...</td>\n",
              "      <td>...</td>\n",
              "      <td>...</td>\n",
              "      <td>...</td>\n",
              "      <td>...</td>\n",
              "      <td>...</td>\n",
              "      <td>...</td>\n",
              "      <td>...</td>\n",
              "      <td>...</td>\n",
              "      <td>...</td>\n",
              "      <td>...</td>\n",
              "      <td>...</td>\n",
              "    </tr>\n",
              "    <tr>\n",
              "      <th>67863</th>\n",
              "      <td>0.598966</td>\n",
              "      <td>0.525348</td>\n",
              "      <td>0.4</td>\n",
              "      <td>0.4</td>\n",
              "      <td>0.5</td>\n",
              "      <td>0.819761</td>\n",
              "      <td>0.833183</td>\n",
              "      <td>430000.0</td>\n",
              "      <td>0</td>\n",
              "      <td>1</td>\n",
              "      <td>0</td>\n",
              "      <td>0</td>\n",
              "      <td>0</td>\n",
              "      <td>0</td>\n",
              "      <td>0</td>\n",
              "      <td>0</td>\n",
              "      <td>0</td>\n",
              "      <td>0</td>\n",
              "      <td>0</td>\n",
              "      <td>0</td>\n",
              "      <td>0</td>\n",
              "      <td>0</td>\n",
              "      <td>0</td>\n",
              "      <td>0</td>\n",
              "      <td>0</td>\n",
              "      <td>0</td>\n",
              "      <td>0</td>\n",
              "      <td>0</td>\n",
              "      <td>0</td>\n",
              "      <td>0</td>\n",
              "      <td>0</td>\n",
              "      <td>0</td>\n",
              "      <td>0</td>\n",
              "      <td>0</td>\n",
              "      <td>0</td>\n",
              "      <td>0</td>\n",
              "      <td>0</td>\n",
              "      <td>1</td>\n",
              "      <td>0</td>\n",
              "      <td>0</td>\n",
              "      <td>0</td>\n",
              "      <td>0</td>\n",
              "      <td>0</td>\n",
              "      <td>0</td>\n",
              "      <td>0</td>\n",
              "      <td>0</td>\n",
              "      <td>0</td>\n",
              "      <td>0</td>\n",
              "      <td>0</td>\n",
              "      <td>0</td>\n",
              "      <td>0</td>\n",
              "      <td>0</td>\n",
              "      <td>0</td>\n",
              "      <td>0</td>\n",
              "      <td>0</td>\n",
              "      <td>0</td>\n",
              "      <td>0</td>\n",
              "      <td>0</td>\n",
              "      <td>0</td>\n",
              "      <td>0</td>\n",
              "      <td>0</td>\n",
              "      <td>0</td>\n",
              "      <td>0</td>\n",
              "      <td>0</td>\n",
              "      <td>0</td>\n",
              "      <td>0</td>\n",
              "      <td>0</td>\n",
              "    </tr>\n",
              "    <tr>\n",
              "      <th>67864</th>\n",
              "      <td>0.647402</td>\n",
              "      <td>0.497120</td>\n",
              "      <td>0.4</td>\n",
              "      <td>0.4</td>\n",
              "      <td>0.5</td>\n",
              "      <td>0.714755</td>\n",
              "      <td>0.833183</td>\n",
              "      <td>399000.0</td>\n",
              "      <td>0</td>\n",
              "      <td>1</td>\n",
              "      <td>0</td>\n",
              "      <td>0</td>\n",
              "      <td>0</td>\n",
              "      <td>0</td>\n",
              "      <td>0</td>\n",
              "      <td>0</td>\n",
              "      <td>0</td>\n",
              "      <td>0</td>\n",
              "      <td>0</td>\n",
              "      <td>0</td>\n",
              "      <td>0</td>\n",
              "      <td>0</td>\n",
              "      <td>0</td>\n",
              "      <td>0</td>\n",
              "      <td>0</td>\n",
              "      <td>0</td>\n",
              "      <td>0</td>\n",
              "      <td>0</td>\n",
              "      <td>0</td>\n",
              "      <td>0</td>\n",
              "      <td>0</td>\n",
              "      <td>0</td>\n",
              "      <td>0</td>\n",
              "      <td>0</td>\n",
              "      <td>0</td>\n",
              "      <td>0</td>\n",
              "      <td>0</td>\n",
              "      <td>1</td>\n",
              "      <td>0</td>\n",
              "      <td>0</td>\n",
              "      <td>0</td>\n",
              "      <td>0</td>\n",
              "      <td>0</td>\n",
              "      <td>0</td>\n",
              "      <td>0</td>\n",
              "      <td>0</td>\n",
              "      <td>0</td>\n",
              "      <td>0</td>\n",
              "      <td>0</td>\n",
              "      <td>0</td>\n",
              "      <td>0</td>\n",
              "      <td>0</td>\n",
              "      <td>0</td>\n",
              "      <td>0</td>\n",
              "      <td>0</td>\n",
              "      <td>0</td>\n",
              "      <td>0</td>\n",
              "      <td>0</td>\n",
              "      <td>0</td>\n",
              "      <td>0</td>\n",
              "      <td>0</td>\n",
              "      <td>0</td>\n",
              "      <td>0</td>\n",
              "      <td>0</td>\n",
              "      <td>0</td>\n",
              "      <td>0</td>\n",
              "      <td>0</td>\n",
              "    </tr>\n",
              "    <tr>\n",
              "      <th>67865</th>\n",
              "      <td>0.688442</td>\n",
              "      <td>0.544209</td>\n",
              "      <td>0.4</td>\n",
              "      <td>0.4</td>\n",
              "      <td>0.0</td>\n",
              "      <td>0.699034</td>\n",
              "      <td>0.838508</td>\n",
              "      <td>178000.0</td>\n",
              "      <td>0</td>\n",
              "      <td>0</td>\n",
              "      <td>1</td>\n",
              "      <td>0</td>\n",
              "      <td>0</td>\n",
              "      <td>0</td>\n",
              "      <td>0</td>\n",
              "      <td>0</td>\n",
              "      <td>0</td>\n",
              "      <td>0</td>\n",
              "      <td>0</td>\n",
              "      <td>0</td>\n",
              "      <td>0</td>\n",
              "      <td>0</td>\n",
              "      <td>0</td>\n",
              "      <td>0</td>\n",
              "      <td>0</td>\n",
              "      <td>0</td>\n",
              "      <td>0</td>\n",
              "      <td>0</td>\n",
              "      <td>0</td>\n",
              "      <td>0</td>\n",
              "      <td>0</td>\n",
              "      <td>0</td>\n",
              "      <td>0</td>\n",
              "      <td>0</td>\n",
              "      <td>0</td>\n",
              "      <td>0</td>\n",
              "      <td>0</td>\n",
              "      <td>1</td>\n",
              "      <td>0</td>\n",
              "      <td>0</td>\n",
              "      <td>0</td>\n",
              "      <td>0</td>\n",
              "      <td>0</td>\n",
              "      <td>0</td>\n",
              "      <td>0</td>\n",
              "      <td>0</td>\n",
              "      <td>0</td>\n",
              "      <td>0</td>\n",
              "      <td>0</td>\n",
              "      <td>0</td>\n",
              "      <td>0</td>\n",
              "      <td>0</td>\n",
              "      <td>0</td>\n",
              "      <td>0</td>\n",
              "      <td>0</td>\n",
              "      <td>0</td>\n",
              "      <td>0</td>\n",
              "      <td>0</td>\n",
              "      <td>0</td>\n",
              "      <td>0</td>\n",
              "      <td>0</td>\n",
              "      <td>0</td>\n",
              "      <td>0</td>\n",
              "      <td>0</td>\n",
              "      <td>0</td>\n",
              "      <td>0</td>\n",
              "      <td>0</td>\n",
              "    </tr>\n",
              "    <tr>\n",
              "      <th>67866</th>\n",
              "      <td>0.614165</td>\n",
              "      <td>0.584997</td>\n",
              "      <td>0.4</td>\n",
              "      <td>0.4</td>\n",
              "      <td>0.5</td>\n",
              "      <td>0.881620</td>\n",
              "      <td>0.941965</td>\n",
              "      <td>480000.0</td>\n",
              "      <td>0</td>\n",
              "      <td>0</td>\n",
              "      <td>1</td>\n",
              "      <td>0</td>\n",
              "      <td>0</td>\n",
              "      <td>0</td>\n",
              "      <td>0</td>\n",
              "      <td>0</td>\n",
              "      <td>0</td>\n",
              "      <td>0</td>\n",
              "      <td>0</td>\n",
              "      <td>0</td>\n",
              "      <td>0</td>\n",
              "      <td>0</td>\n",
              "      <td>0</td>\n",
              "      <td>0</td>\n",
              "      <td>0</td>\n",
              "      <td>0</td>\n",
              "      <td>0</td>\n",
              "      <td>0</td>\n",
              "      <td>0</td>\n",
              "      <td>0</td>\n",
              "      <td>0</td>\n",
              "      <td>0</td>\n",
              "      <td>0</td>\n",
              "      <td>0</td>\n",
              "      <td>0</td>\n",
              "      <td>0</td>\n",
              "      <td>0</td>\n",
              "      <td>1</td>\n",
              "      <td>0</td>\n",
              "      <td>0</td>\n",
              "      <td>0</td>\n",
              "      <td>0</td>\n",
              "      <td>0</td>\n",
              "      <td>0</td>\n",
              "      <td>0</td>\n",
              "      <td>0</td>\n",
              "      <td>0</td>\n",
              "      <td>0</td>\n",
              "      <td>0</td>\n",
              "      <td>0</td>\n",
              "      <td>0</td>\n",
              "      <td>0</td>\n",
              "      <td>0</td>\n",
              "      <td>0</td>\n",
              "      <td>0</td>\n",
              "      <td>0</td>\n",
              "      <td>0</td>\n",
              "      <td>0</td>\n",
              "      <td>0</td>\n",
              "      <td>0</td>\n",
              "      <td>0</td>\n",
              "      <td>0</td>\n",
              "      <td>0</td>\n",
              "      <td>0</td>\n",
              "      <td>0</td>\n",
              "      <td>0</td>\n",
              "      <td>0</td>\n",
              "    </tr>\n",
              "    <tr>\n",
              "      <th>67867</th>\n",
              "      <td>0.625664</td>\n",
              "      <td>0.639085</td>\n",
              "      <td>0.4</td>\n",
              "      <td>0.4</td>\n",
              "      <td>0.5</td>\n",
              "      <td>0.883969</td>\n",
              "      <td>0.959483</td>\n",
              "      <td>420000.0</td>\n",
              "      <td>0</td>\n",
              "      <td>1</td>\n",
              "      <td>0</td>\n",
              "      <td>0</td>\n",
              "      <td>0</td>\n",
              "      <td>0</td>\n",
              "      <td>0</td>\n",
              "      <td>0</td>\n",
              "      <td>0</td>\n",
              "      <td>0</td>\n",
              "      <td>0</td>\n",
              "      <td>0</td>\n",
              "      <td>0</td>\n",
              "      <td>0</td>\n",
              "      <td>0</td>\n",
              "      <td>0</td>\n",
              "      <td>0</td>\n",
              "      <td>0</td>\n",
              "      <td>0</td>\n",
              "      <td>0</td>\n",
              "      <td>0</td>\n",
              "      <td>0</td>\n",
              "      <td>0</td>\n",
              "      <td>0</td>\n",
              "      <td>0</td>\n",
              "      <td>0</td>\n",
              "      <td>0</td>\n",
              "      <td>0</td>\n",
              "      <td>0</td>\n",
              "      <td>1</td>\n",
              "      <td>0</td>\n",
              "      <td>0</td>\n",
              "      <td>0</td>\n",
              "      <td>0</td>\n",
              "      <td>0</td>\n",
              "      <td>0</td>\n",
              "      <td>0</td>\n",
              "      <td>0</td>\n",
              "      <td>0</td>\n",
              "      <td>0</td>\n",
              "      <td>0</td>\n",
              "      <td>0</td>\n",
              "      <td>0</td>\n",
              "      <td>0</td>\n",
              "      <td>0</td>\n",
              "      <td>0</td>\n",
              "      <td>0</td>\n",
              "      <td>0</td>\n",
              "      <td>0</td>\n",
              "      <td>0</td>\n",
              "      <td>0</td>\n",
              "      <td>0</td>\n",
              "      <td>0</td>\n",
              "      <td>0</td>\n",
              "      <td>0</td>\n",
              "      <td>0</td>\n",
              "      <td>0</td>\n",
              "      <td>0</td>\n",
              "      <td>0</td>\n",
              "    </tr>\n",
              "  </tbody>\n",
              "</table>\n",
              "<p>67868 rows × 67 columns</p>\n",
              "</div>"
            ],
            "text/plain": [
              "            lat       lon  rooms  bedrooms  bathrooms  surface_total  \\\n",
              "0      0.286838  0.670438    0.2       0.2        0.5       0.637508   \n",
              "1      0.544692  0.583409    0.2       0.2        0.0       0.489125   \n",
              "2      0.648512  0.530842    0.2       0.2        0.0       0.703033   \n",
              "3      0.542915  0.505438    0.2       0.2        0.0       0.562424   \n",
              "4      0.481941  0.551759    0.2       0.2        0.0       0.637508   \n",
              "...         ...       ...    ...       ...        ...            ...   \n",
              "67863  0.598966  0.525348    0.4       0.4        0.5       0.819761   \n",
              "67864  0.647402  0.497120    0.4       0.4        0.5       0.714755   \n",
              "67865  0.688442  0.544209    0.4       0.4        0.0       0.699034   \n",
              "67866  0.614165  0.584997    0.4       0.4        0.5       0.881620   \n",
              "67867  0.625664  0.639085    0.4       0.4        0.5       0.883969   \n",
              "\n",
              "       surface_covered     price  property_type_Casa  \\\n",
              "0             0.756857  159000.0                   0   \n",
              "1             0.701196  125000.0                   0   \n",
              "2             0.724271  295000.0                   0   \n",
              "3             0.749145  150000.0                   0   \n",
              "4             0.798261  159500.0                   0   \n",
              "...                ...       ...                 ...   \n",
              "67863         0.833183  430000.0                   0   \n",
              "67864         0.833183  399000.0                   0   \n",
              "67865         0.838508  178000.0                   0   \n",
              "67866         0.941965  480000.0                   0   \n",
              "67867         0.959483  420000.0                   0   \n",
              "\n",
              "       property_type_Departamento  property_type_PH  l3_Abasto  l3_Agronomía  \\\n",
              "0                               0                 1          0             0   \n",
              "1                               0                 1          0             0   \n",
              "2                               0                 1          0             0   \n",
              "3                               0                 1          0             0   \n",
              "4                               0                 1          0             0   \n",
              "...                           ...               ...        ...           ...   \n",
              "67863                           1                 0          0             0   \n",
              "67864                           1                 0          0             0   \n",
              "67865                           0                 1          0             0   \n",
              "67866                           0                 1          0             0   \n",
              "67867                           1                 0          0             0   \n",
              "\n",
              "       l3_Almagro  l3_Balvanera  l3_Barracas  l3_Barrio Norte  l3_Belgrano  \\\n",
              "0               0             0            0                0            0   \n",
              "1               0             0            0                0            0   \n",
              "2               0             0            0                0            0   \n",
              "3               0             0            0                0            0   \n",
              "4               0             0            0                0            0   \n",
              "...           ...           ...          ...              ...          ...   \n",
              "67863           0             0            0                0            0   \n",
              "67864           0             0            0                0            0   \n",
              "67865           0             0            0                0            0   \n",
              "67866           0             0            0                0            0   \n",
              "67867           0             0            0                0            0   \n",
              "\n",
              "       l3_Boca  l3_Boedo  l3_Caballito  l3_Catalinas  l3_Centro / Microcentro  \\\n",
              "0            0         1             0             0                        0   \n",
              "1            0         0             0             0                        0   \n",
              "2            0         0             0             0                        0   \n",
              "3            0         0             0             0                        0   \n",
              "4            0         0             0             0                        0   \n",
              "...        ...       ...           ...           ...                      ...   \n",
              "67863        0         0             0             0                        0   \n",
              "67864        0         0             0             0                        0   \n",
              "67865        0         0             0             0                        0   \n",
              "67866        0         0             0             0                        0   \n",
              "67867        0         0             0             0                        0   \n",
              "\n",
              "       l3_Chacarita  l3_Coghlan  l3_Colegiales  l3_Congreso  l3_Constitución  \\\n",
              "0                 0           0              0            0                0   \n",
              "1                 0           0              0            0                0   \n",
              "2                 0           0              0            0                0   \n",
              "3                 0           0              0            0                0   \n",
              "4                 0           0              0            0                0   \n",
              "...             ...         ...            ...          ...              ...   \n",
              "67863             0           0              0            0                0   \n",
              "67864             0           0              0            0                0   \n",
              "67865             0           0              0            0                0   \n",
              "67866             0           0              0            0                0   \n",
              "67867             0           0              0            0                0   \n",
              "\n",
              "       l3_Flores  l3_Floresta  l3_Las Cañitas  l3_Liniers  l3_Mataderos  \\\n",
              "0              0            0               0           0             0   \n",
              "1              0            0               0           0             0   \n",
              "2              0            0               0           0             0   \n",
              "3              0            0               0           0             0   \n",
              "4              0            0               0           0             0   \n",
              "...          ...          ...             ...         ...           ...   \n",
              "67863          0            0               0           0             0   \n",
              "67864          0            0               0           0             0   \n",
              "67865          0            0               0           0             0   \n",
              "67866          0            0               0           0             0   \n",
              "67867          0            0               0           0             0   \n",
              "\n",
              "       l3_Monserrat  l3_Monte Castro  l3_Nuñez  l3_Once  l3_Palermo  \\\n",
              "0                 0                0         0        0           0   \n",
              "1                 0                0         0        0           1   \n",
              "2                 0                0         0        0           1   \n",
              "3                 0                0         0        0           0   \n",
              "4                 0                0         0        0           0   \n",
              "...             ...              ...       ...      ...         ...   \n",
              "67863             0                0         0        0           1   \n",
              "67864             0                0         0        0           1   \n",
              "67865             0                0         0        0           1   \n",
              "67866             0                0         0        0           1   \n",
              "67867             0                0         0        0           1   \n",
              "\n",
              "       l3_Parque Avellaneda  l3_Parque Centenario  l3_Parque Chacabuco  \\\n",
              "0                         0                     0                    0   \n",
              "1                         0                     0                    0   \n",
              "2                         0                     0                    0   \n",
              "3                         0                     0                    0   \n",
              "4                         0                     0                    0   \n",
              "...                     ...                   ...                  ...   \n",
              "67863                     0                     0                    0   \n",
              "67864                     0                     0                    0   \n",
              "67865                     0                     0                    0   \n",
              "67866                     0                     0                    0   \n",
              "67867                     0                     0                    0   \n",
              "\n",
              "       l3_Parque Chas  l3_Parque Patricios  l3_Paternal  l3_Pompeya  \\\n",
              "0                   0                    0            0           0   \n",
              "1                   0                    0            0           0   \n",
              "2                   0                    0            0           0   \n",
              "3                   0                    0            0           0   \n",
              "4                   0                    0            0           0   \n",
              "...               ...                  ...          ...         ...   \n",
              "67863               0                    0            0           0   \n",
              "67864               0                    0            0           0   \n",
              "67865               0                    0            0           0   \n",
              "67866               0                    0            0           0   \n",
              "67867               0                    0            0           0   \n",
              "\n",
              "       l3_Puerto Madero  l3_Recoleta  l3_Retiro  l3_Saavedra  \\\n",
              "0                     0            0          0            0   \n",
              "1                     0            0          0            0   \n",
              "2                     0            0          0            0   \n",
              "3                     0            0          0            0   \n",
              "4                     0            0          0            0   \n",
              "...                 ...          ...        ...          ...   \n",
              "67863                 0            0          0            0   \n",
              "67864                 0            0          0            0   \n",
              "67865                 0            0          0            0   \n",
              "67866                 0            0          0            0   \n",
              "67867                 0            0          0            0   \n",
              "\n",
              "       l3_San Cristobal  l3_San Nicolás  l3_San Telmo  l3_Tribunales  \\\n",
              "0                     0               0             0              0   \n",
              "1                     0               0             0              0   \n",
              "2                     0               0             0              0   \n",
              "3                     0               0             0              0   \n",
              "4                     0               0             0              0   \n",
              "...                 ...             ...           ...            ...   \n",
              "67863                 0               0             0              0   \n",
              "67864                 0               0             0              0   \n",
              "67865                 0               0             0              0   \n",
              "67866                 0               0             0              0   \n",
              "67867                 0               0             0              0   \n",
              "\n",
              "       l3_Velez Sarsfield  l3_Versalles  l3_Villa Crespo  l3_Villa Devoto  \\\n",
              "0                       0             0                0                0   \n",
              "1                       0             0                0                0   \n",
              "2                       0             0                0                0   \n",
              "3                       0             0                1                0   \n",
              "4                       0             0                1                0   \n",
              "...                   ...           ...              ...              ...   \n",
              "67863                   0             0                0                0   \n",
              "67864                   0             0                0                0   \n",
              "67865                   0             0                0                0   \n",
              "67866                   0             0                0                0   \n",
              "67867                   0             0                0                0   \n",
              "\n",
              "       l3_Villa General Mitre  l3_Villa Lugano  l3_Villa Luro  \\\n",
              "0                           0                0              0   \n",
              "1                           0                0              0   \n",
              "2                           0                0              0   \n",
              "3                           0                0              0   \n",
              "4                           0                0              0   \n",
              "...                       ...              ...            ...   \n",
              "67863                       0                0              0   \n",
              "67864                       0                0              0   \n",
              "67865                       0                0              0   \n",
              "67866                       0                0              0   \n",
              "67867                       0                0              0   \n",
              "\n",
              "       l3_Villa Ortuzar  l3_Villa Pueyrredón  l3_Villa Real  \\\n",
              "0                     0                    0              0   \n",
              "1                     0                    0              0   \n",
              "2                     0                    0              0   \n",
              "3                     0                    0              0   \n",
              "4                     0                    0              0   \n",
              "...                 ...                  ...            ...   \n",
              "67863                 0                    0              0   \n",
              "67864                 0                    0              0   \n",
              "67865                 0                    0              0   \n",
              "67866                 0                    0              0   \n",
              "67867                 0                    0              0   \n",
              "\n",
              "       l3_Villa Santa Rita  l3_Villa Soldati  l3_Villa Urquiza  \\\n",
              "0                        0                 0                 0   \n",
              "1                        0                 0                 0   \n",
              "2                        0                 0                 0   \n",
              "3                        0                 0                 0   \n",
              "4                        0                 0                 0   \n",
              "...                    ...               ...               ...   \n",
              "67863                    0                 0                 0   \n",
              "67864                    0                 0                 0   \n",
              "67865                    0                 0                 0   \n",
              "67866                    0                 0                 0   \n",
              "67867                    0                 0                 0   \n",
              "\n",
              "       l3_Villa del Parque  \n",
              "0                        0  \n",
              "1                        0  \n",
              "2                        0  \n",
              "3                        0  \n",
              "4                        0  \n",
              "...                    ...  \n",
              "67863                    0  \n",
              "67864                    0  \n",
              "67865                    0  \n",
              "67866                    0  \n",
              "67867                    0  \n",
              "\n",
              "[67868 rows x 67 columns]"
            ]
          },
          "metadata": {
            "tags": []
          },
          "execution_count": 49
        }
      ]
    },
    {
      "cell_type": "markdown",
      "metadata": {
        "id": "KHu7azPHcEiQ"
      },
      "source": [
        "## **A. 05.** Generación de nuevas variables predictoras (reducción de dimensionalidad SVD/PCA)"
      ]
    },
    {
      "cell_type": "markdown",
      "metadata": {
        "id": "B2CtvUFReZsE"
      },
      "source": [
        "Dado que queremos comparar los valores obtenidos por los modelos del primer proyecto con los valores obtenidos en este, y que los modelos que emplearon (regresor lineal, árbol de decisión y KNN) permitían conservar la interpretabilidad en relación con los features, no implementaremos SVD o PCA, pues aunque los resultados de los modelos puedan mejorar, nuestro enfoque es comparativo y no es útil perder la interpretabilidad en relación a las variables."
      ]
    },
    {
      "cell_type": "markdown",
      "metadata": {
        "id": "_A0H2f6jeg02"
      },
      "source": [
        "## **A. 06.** Comparación resultados de los modelos (Proyecto 01 Vs Proyecto actual)"
      ]
    },
    {
      "cell_type": "markdown",
      "metadata": {
        "id": "qi5P2NcnklmJ"
      },
      "source": [
        "Con el fin de evaluar cuál es la variación en las métricas de los modelos implementados en el primer proyecto PY_01 (regresor lineal, árbol de decisión y KNN) ser evaluaran los modelos bajo las mismas condiciones (iguales hiperparametros) y variando únicamente el dataset de entrada al cual hemos hecho todas las transformaciones y para el cual hemos incluido ahora variables adicionales."
      ]
    },
    {
      "cell_type": "markdown",
      "metadata": {
        "id": "ALyKOICUlAc6"
      },
      "source": [
        "### ---> Definición de las nuevas variables predictoras"
      ]
    },
    {
      "cell_type": "code",
      "metadata": {
        "id": "OCuy0FWUgQO8"
      },
      "source": [
        "X = df_A_scaled.drop('price', axis=1)\n",
        "y = df_A_scaled['price']"
      ],
      "execution_count": 50,
      "outputs": []
    },
    {
      "cell_type": "markdown",
      "metadata": {
        "id": "Mp_1tcM2lUf4"
      },
      "source": [
        "### ---> Train-Test Split (iguales parámetros PY_01)"
      ]
    },
    {
      "cell_type": "code",
      "metadata": {
        "colab": {
          "base_uri": "https://localhost:8080/"
        },
        "id": "vCwK4tP3gSNA",
        "outputId": "7cf3053c-6eb5-4482-8592-892595dc4b96"
      },
      "source": [
        "X_train, X_test, y_train, y_test = train_test_split(X, y, test_size=0.30, random_state=42)\n",
        "print(X_train.shape, y_train.shape, X_test.shape, y_test.shape)"
      ],
      "execution_count": 51,
      "outputs": [
        {
          "output_type": "stream",
          "text": [
            "(47507, 66) (47507,) (20361, 66) (20361,)\n"
          ],
          "name": "stdout"
        }
      ]
    },
    {
      "cell_type": "markdown",
      "metadata": {
        "id": "A_n0b0jAmAOm"
      },
      "source": [
        "### ---> Modelos instanciados (iguales hiperparametros PY_01)"
      ]
    },
    {
      "cell_type": "code",
      "metadata": {
        "id": "eLRzJVqGKLXP"
      },
      "source": [
        "linear_model = LinearRegression()\n",
        "tree_regressor = DecisionTreeRegressor(max_depth=3, random_state=42)\n",
        "knn_regressor = KNeighborsRegressor(n_neighbors=5)"
      ],
      "execution_count": 52,
      "outputs": []
    },
    {
      "cell_type": "markdown",
      "metadata": {
        "id": "q1iQOp7cmcuL"
      },
      "source": [
        "### ---> Entrenamiento de los modelos"
      ]
    },
    {
      "cell_type": "code",
      "metadata": {
        "colab": {
          "base_uri": "https://localhost:8080/"
        },
        "id": "CyTFT3ybKLZw",
        "outputId": "17f79356-1b2d-48d5-e8f0-126af7ea0345"
      },
      "source": [
        "linear_model.fit(X_train, y_train)\n",
        "tree_regressor.fit(X_train, y_train)\n",
        "knn_regressor.fit(X_train, y_train)"
      ],
      "execution_count": 53,
      "outputs": [
        {
          "output_type": "execute_result",
          "data": {
            "text/plain": [
              "KNeighborsRegressor()"
            ]
          },
          "metadata": {
            "tags": []
          },
          "execution_count": 53
        }
      ]
    },
    {
      "cell_type": "markdown",
      "metadata": {
        "id": "qWIrxIldmpWJ"
      },
      "source": [
        "### ---> Resultados de los modelos (iguales hiperparámetros PY_01 - nuevo dataframe)"
      ]
    },
    {
      "cell_type": "code",
      "metadata": {
        "colab": {
          "base_uri": "https://localhost:8080/",
          "height": 0
        },
        "id": "4qH8oCJ3KLcD",
        "outputId": "92e19727-0f6f-4021-d8ae-595e412e151d"
      },
      "source": [
        "modelos = ['Regresión lineal', 'Árbol de Decisión', 'Vecinos más cercanos']\n",
        "\n",
        "for i, model in enumerate([linear_model, tree_regressor, knn_regressor]):\n",
        "    y_train_pred = model.predict(X_train)\n",
        "    y_test_pred = model.predict(X_test)\n",
        "    \n",
        "    \n",
        "    print(f'Modelo: {modelos[i]}')\n",
        "\n",
        "    rmse_train = np.sqrt(mean_squared_error(y_train, y_train_pred))\n",
        "    rmse_test = np.sqrt(mean_squared_error(y_test, y_test_pred))\n",
        "    print(f'Raíz del error cuadrático medio en Train: {rmse_train}')\n",
        "    print(f'Raíz del error cuadrático medio en Test: {rmse_test}')\n",
        "    \n",
        "    r2_train = r2_score(y_train, y_train_pred)\n",
        "    r2_test = r2_score(y_test, y_test_pred)\n",
        "    print(f'R cuadrado en Train: {r2_train}')\n",
        "    print(f'R cuadrado en Test: {r2_test}')\n",
        "    \n",
        "    plt.figure(figsize = (8,4))\n",
        "\n",
        "    plt.subplot(1,2,1)\n",
        "    sns.distplot(y_train - y_train_pred, bins = 50, label = 'train')\n",
        "    sns.distplot(y_test - y_test_pred, bins = 50, label = 'test')\n",
        "    plt.xlabel('errores')\n",
        "    plt.legend()\n",
        "\n",
        "\n",
        "    ax = plt.subplot(1,2,2)\n",
        "    ax.scatter(y_test,y_test_pred, s =2)\n",
        "    \n",
        "    lims = [\n",
        "    np.min([ax.get_xlim(), ax.get_ylim()]),  # min of both axes\n",
        "    np.max([ax.get_xlim(), ax.get_ylim()]),  # max of both axes]\n",
        "    ]\n",
        "    \n",
        "    ax.plot(lims, lims, 'k-', alpha=0.75, zorder=0)\n",
        "    plt.xlabel('y (test)')\n",
        "    plt.ylabel('y_pred (test)')\n",
        "    \n",
        "    plt.tight_layout()\n",
        "    plt.show()"
      ],
      "execution_count": 54,
      "outputs": [
        {
          "output_type": "stream",
          "text": [
            "Modelo: Regresión lineal\n",
            "Raíz del error cuadrático medio en Train: 44143.814088767176\n",
            "Raíz del error cuadrático medio en Test: 44214.72941966836\n",
            "R cuadrado en Train: 0.7699301113282079\n",
            "R cuadrado en Test: 0.7721363026987982\n"
          ],
          "name": "stdout"
        },
        {
          "output_type": "display_data",
          "data": {
            "image/png": "[encoded data removed]",
            "text/plain": [
              "<Figure size 576x288 with 2 Axes>"
            ]
          },
          "metadata": {
            "tags": []
          }
        },
        {
          "output_type": "stream",
          "text": [
            "Modelo: Árbol de Decisión\n",
            "Raíz del error cuadrático medio en Train: 54385.93455461426\n",
            "Raíz del error cuadrático medio en Test: 54646.03060024996\n",
            "R cuadrado en Train: 0.6507846978947374\n",
            "R cuadrado en Test: 0.6519365355152797\n"
          ],
          "name": "stdout"
        },
        {
          "output_type": "display_data",
          "data": {
            "image/png": "[encoded data removed]",
            "text/plain": [
              "<Figure size 576x288 with 2 Axes>"
            ]
          },
          "metadata": {
            "tags": []
          }
        },
        {
          "output_type": "stream",
          "text": [
            "Modelo: Vecinos más cercanos\n",
            "Raíz del error cuadrático medio en Train: 27324.48220330548\n",
            "Raíz del error cuadrático medio en Test: 34264.592004360675\n",
            "R cuadrado en Train: 0.9118496672883556\n",
            "R cuadrado en Test: 0.863153930969198\n"
          ],
          "name": "stdout"
        },
        {
          "output_type": "display_data",
          "data": {
            "image/png": "[encoded data removed]",
            "text/plain": [
              "<Figure size 576x288 with 2 Axes>"
            ]
          },
          "metadata": {
            "tags": []
          }
        }
      ]
    },
    {
      "cell_type": "code",
      "metadata": {
        "id": "paxLbCn0g-wa"
      },
      "source": [
        "resultados_PY_01 = {'Modelo': ['Regresión lineal', 'Árbol de Decisión', 'Vecinos más cercanos'], \n",
        "                    'RMSE_Train': [199173.83253528475, 191783.485243933, 121300.24049431273], \n",
        "                    'RMSE_Test': [202449.36540361575, 194688.15091192327, 155040.1332898459], \n",
        "                    'R2_Train': [0.5517887107017188, 0.5844333913686437, 0.8337576939918325],\n",
        "                    'R2_Test': [0.5514864358797202, 0.5852162030595955, 0.7369544202301519]\n",
        "                    }\n",
        "                    \n",
        "resultados_PY_02 = {'Modelo': ['Regresión lineal', 'Árbol de Decisión', 'Vecinos más cercanos'], \n",
        "                    'RMSE_Train': [44143.814088767176, 54385.93455461426, 27331.957836355217], \n",
        "                    'RMSE_Test': [44214.72941966836, 54646.03060024996, 34287.79193709084], \n",
        "                    'R2_Train': [0.7699301113282079, 0.6507846978947374, 0.9118014270560322],\n",
        "                    'R2_Test': [0.7721363026987982, 0.6519365355152797, 0.8629685562592448]\n",
        "                    }"
      ],
      "execution_count": 55,
      "outputs": []
    },
    {
      "cell_type": "markdown",
      "metadata": {
        "id": "twxgcblBFtRs"
      },
      "source": [
        "### ---> Evaluación comparativa entre los resultados del PY_01 y el proyecto actual"
      ]
    },
    {
      "cell_type": "code",
      "metadata": {
        "id": "pmGVainXpc45"
      },
      "source": [
        "df_resultados_PY_01 = pd.DataFrame.from_dict(resultados_PY_01)\n",
        "df_resultados_PY_01['Proyecto']='PY_01'\n",
        "df_resultados_PY_01 = df_resultados_PY_01[['Modelo', 'Proyecto', 'RMSE_Train', 'RMSE_Test', 'R2_Train', 'R2_Test']]\n",
        "df_resultados_PY_01[['R2_Train', 'R2_Test']] = df_resultados_PY_01[['R2_Train', 'R2_Test']]\n",
        "\n",
        "df_resultados_PY_02 = pd.DataFrame.from_dict(resultados_PY_02)\n",
        "df_resultados_PY_02['Proyecto']='PY_02'\n",
        "df_resultados_PY_02 = df_resultados_PY_02[['Modelo', 'Proyecto', 'RMSE_Train', 'RMSE_Test', 'R2_Train', 'R2_Test']]\n",
        "df_resultados_PY_02[['R2_Train', 'R2_Test']] = df_resultados_PY_02[['R2_Train', 'R2_Test']]"
      ],
      "execution_count": 56,
      "outputs": []
    },
    {
      "cell_type": "code",
      "metadata": {
        "colab": {
          "base_uri": "https://localhost:8080/",
          "height": 236
        },
        "id": "kG9ISzEisZGC",
        "outputId": "19d991a1-6888-462c-e582-0ed20234b4f2"
      },
      "source": [
        "df_resultados_compilados = pd.concat([df_resultados_PY_01,df_resultados_PY_02]).sort_values(by='Modelo', ascending=False).reset_index(drop=True)\n",
        "df_resultados_compilados"
      ],
      "execution_count": 57,
      "outputs": [
        {
          "output_type": "execute_result",
          "data": {
            "text/html": [
              "<div>\n",
              "<style scoped>\n",
              "    .dataframe tbody tr th:only-of-type {\n",
              "        vertical-align: middle;\n",
              "    }\n",
              "\n",
              "    .dataframe tbody tr th {\n",
              "        vertical-align: top;\n",
              "    }\n",
              "\n",
              "    .dataframe thead th {\n",
              "        text-align: right;\n",
              "    }\n",
              "</style>\n",
              "<table border=\"1\" class=\"dataframe\">\n",
              "  <thead>\n",
              "    <tr style=\"text-align: right;\">\n",
              "      <th></th>\n",
              "      <th>Modelo</th>\n",
              "      <th>Proyecto</th>\n",
              "      <th>RMSE_Train</th>\n",
              "      <th>RMSE_Test</th>\n",
              "      <th>R2_Train</th>\n",
              "      <th>R2_Test</th>\n",
              "    </tr>\n",
              "  </thead>\n",
              "  <tbody>\n",
              "    <tr>\n",
              "      <th>0</th>\n",
              "      <td>Árbol de Decisión</td>\n",
              "      <td>PY_01</td>\n",
              "      <td>191783.485244</td>\n",
              "      <td>194688.150912</td>\n",
              "      <td>0.584433</td>\n",
              "      <td>0.585216</td>\n",
              "    </tr>\n",
              "    <tr>\n",
              "      <th>1</th>\n",
              "      <td>Árbol de Decisión</td>\n",
              "      <td>PY_02</td>\n",
              "      <td>54385.934555</td>\n",
              "      <td>54646.030600</td>\n",
              "      <td>0.650785</td>\n",
              "      <td>0.651937</td>\n",
              "    </tr>\n",
              "    <tr>\n",
              "      <th>2</th>\n",
              "      <td>Vecinos más cercanos</td>\n",
              "      <td>PY_01</td>\n",
              "      <td>121300.240494</td>\n",
              "      <td>155040.133290</td>\n",
              "      <td>0.833758</td>\n",
              "      <td>0.736954</td>\n",
              "    </tr>\n",
              "    <tr>\n",
              "      <th>3</th>\n",
              "      <td>Vecinos más cercanos</td>\n",
              "      <td>PY_02</td>\n",
              "      <td>27331.957836</td>\n",
              "      <td>34287.791937</td>\n",
              "      <td>0.911801</td>\n",
              "      <td>0.862969</td>\n",
              "    </tr>\n",
              "    <tr>\n",
              "      <th>4</th>\n",
              "      <td>Regresión lineal</td>\n",
              "      <td>PY_01</td>\n",
              "      <td>199173.832535</td>\n",
              "      <td>202449.365404</td>\n",
              "      <td>0.551789</td>\n",
              "      <td>0.551486</td>\n",
              "    </tr>\n",
              "    <tr>\n",
              "      <th>5</th>\n",
              "      <td>Regresión lineal</td>\n",
              "      <td>PY_02</td>\n",
              "      <td>44143.814089</td>\n",
              "      <td>44214.729420</td>\n",
              "      <td>0.769930</td>\n",
              "      <td>0.772136</td>\n",
              "    </tr>\n",
              "  </tbody>\n",
              "</table>\n",
              "</div>"
            ],
            "text/plain": [
              "                 Modelo Proyecto     RMSE_Train      RMSE_Test  R2_Train  \\\n",
              "0     Árbol de Decisión    PY_01  191783.485244  194688.150912  0.584433   \n",
              "1     Árbol de Decisión    PY_02   54385.934555   54646.030600  0.650785   \n",
              "2  Vecinos más cercanos    PY_01  121300.240494  155040.133290  0.833758   \n",
              "3  Vecinos más cercanos    PY_02   27331.957836   34287.791937  0.911801   \n",
              "4      Regresión lineal    PY_01  199173.832535  202449.365404  0.551789   \n",
              "5      Regresión lineal    PY_02   44143.814089   44214.729420  0.769930   \n",
              "\n",
              "    R2_Test  \n",
              "0  0.585216  \n",
              "1  0.651937  \n",
              "2  0.736954  \n",
              "3  0.862969  \n",
              "4  0.551486  \n",
              "5  0.772136  "
            ]
          },
          "metadata": {
            "tags": []
          },
          "execution_count": 57
        }
      ]
    },
    {
      "cell_type": "code",
      "metadata": {
        "id": "SXcYj7F3siwT",
        "colab": {
          "base_uri": "https://localhost:8080/",
          "height": 143
        },
        "outputId": "184e0e66-f1d6-4423-e9b5-7bb22ca270f2"
      },
      "source": [
        "list_delta_arbol = list(df_resultados_compilados.iloc[1, 2:6]-df_resultados_compilados.iloc[0, 2:6])\n",
        "list_delta_knn = list(df_resultados_compilados.iloc[3, 2:6]-df_resultados_compilados.iloc[2, 2:6])\n",
        "list_delta_lineal = list(df_resultados_compilados.iloc[5, 2:6]-df_resultados_compilados.iloc[4, 2:6])\n",
        "\n",
        "df_resultados_variacion = pd.DataFrame(list(zip(list_delta_arbol, list_delta_knn, list_delta_lineal)),\n",
        "               columns = ['Árbol de Decisión', 'Vecinos más cercanos', 'Regresión lineal']).T\n",
        "df_resultados_variacion.columns = ['Dif_RMSE_Train', 'Dif_RMSE_Test', 'Dif_R2_Train', 'Dif_R2_Test']              \n",
        "df_resultados_variacion"
      ],
      "execution_count": 58,
      "outputs": [
        {
          "output_type": "execute_result",
          "data": {
            "text/html": [
              "<div>\n",
              "<style scoped>\n",
              "    .dataframe tbody tr th:only-of-type {\n",
              "        vertical-align: middle;\n",
              "    }\n",
              "\n",
              "    .dataframe tbody tr th {\n",
              "        vertical-align: top;\n",
              "    }\n",
              "\n",
              "    .dataframe thead th {\n",
              "        text-align: right;\n",
              "    }\n",
              "</style>\n",
              "<table border=\"1\" class=\"dataframe\">\n",
              "  <thead>\n",
              "    <tr style=\"text-align: right;\">\n",
              "      <th></th>\n",
              "      <th>Dif_RMSE_Train</th>\n",
              "      <th>Dif_RMSE_Test</th>\n",
              "      <th>Dif_R2_Train</th>\n",
              "      <th>Dif_R2_Test</th>\n",
              "    </tr>\n",
              "  </thead>\n",
              "  <tbody>\n",
              "    <tr>\n",
              "      <th>Árbol de Decisión</th>\n",
              "      <td>-137397.550689</td>\n",
              "      <td>-140042.120312</td>\n",
              "      <td>0.066351</td>\n",
              "      <td>0.066720</td>\n",
              "    </tr>\n",
              "    <tr>\n",
              "      <th>Vecinos más cercanos</th>\n",
              "      <td>-93968.282658</td>\n",
              "      <td>-120752.341353</td>\n",
              "      <td>0.078044</td>\n",
              "      <td>0.126014</td>\n",
              "    </tr>\n",
              "    <tr>\n",
              "      <th>Regresión lineal</th>\n",
              "      <td>-155030.018447</td>\n",
              "      <td>-158234.635984</td>\n",
              "      <td>0.218141</td>\n",
              "      <td>0.220650</td>\n",
              "    </tr>\n",
              "  </tbody>\n",
              "</table>\n",
              "</div>"
            ],
            "text/plain": [
              "                      Dif_RMSE_Train  Dif_RMSE_Test  Dif_R2_Train  Dif_R2_Test\n",
              "Árbol de Decisión     -137397.550689 -140042.120312      0.066351     0.066720\n",
              "Vecinos más cercanos   -93968.282658 -120752.341353      0.078044     0.126014\n",
              "Regresión lineal      -155030.018447 -158234.635984      0.218141     0.220650"
            ]
          },
          "metadata": {
            "tags": []
          },
          "execution_count": 58
        }
      ]
    },
    {
      "cell_type": "markdown",
      "metadata": {
        "id": "BsfbLoXlLLUh"
      },
      "source": [
        "En la presente sección hemos encontrado las variaciones que presentan  modelos de proyecto PY_01 (regresor lineal, árbol de decisión y KNN) únicamante a partir de la variación de dataset de entrada. En general todos los modelos mejoran sus métricas (RMSE y R2) tanto en el conjunto de test como en el conjunto de train. Los incrementos en el valor de R2 se dan en un rango entre un  6% y un 22%, con una mejora mucho más significativa en el modelo de regresión lineal.\n",
        "\n",
        "Puede observarse de igual manera que la mejora no se da únicamente en relación con las métricas, sino con la distribución de sus errores, presentando un comportamiento mucho más homocedástico en la nueva distribución. \n",
        "\n",
        "Como principales elementos en la contribución a la mejora en los resultados tanto de las métricas como de la distribución de sus errores podemos destacar los siguientes:\n",
        "- **Eliminación de outliers:** permite que el aprendizaje de los modelos se centre en los registros representativos de las distribuciones y no en los valores con comportamientos alejados de las mismas.\n",
        "- **Encoding:** permitió incluir en el modelo variables categóricas que antes no existían (los barrios específicamente que pueden ser una característica determinante en la estimación del modelo.\n",
        "- **Imputación de valores faltantes:** permitió por una parte prescindir de valores que podrían sesgar las estimaciones en el caso de ser imputados, y por otra parte imputar algunos que teniendo un sentido lógico en su estimación iban a enriquecer en cantidad de registros el dataset. Al tener más registros representativos el aprendizaje del modelo puede incrementar mejorando con ello sus métricas. \n",
        "- **Escalado de los valores:** permite al modelo tener un equilibrio en relación a las variables con respecto a las cuales hace su predicción haciendo una estimación mucho más homogénea de la importancia que toma cada una de las variables tanto en el aprendizaje como en la evaluación.\n"
      ]
    },
    {
      "cell_type": "markdown",
      "metadata": {
        "id": "G0omlDNOLk72"
      },
      "source": [
        "# **Parte B.** Modelos Avanzados"
      ]
    },
    {
      "cell_type": "markdown",
      "metadata": {
        "id": "T9wslxD8YksO"
      },
      "source": [
        "En la presente sección implementaremos algunos modelos complementarios basados en técnicas de ensamble, en particular Bagging y Boosting. En específico los modelos implementados son XGBoost y Random Forest Regressor. Para cada uno de ellos evaluaremos inicialmente los resultados que nos entregan con los hiperparametros asignados por defecto en cada una de sus librerías. De manera posterior haremos una optimización de sus hiperparámetros a través de métodos de grilla y evaluaremos el desempeño de los modelos obtenidos."
      ]
    },
    {
      "cell_type": "markdown",
      "metadata": {
        "id": "ceDMPacmxb1J"
      },
      "source": [
        "### ---> Función de evaluación para los modelos"
      ]
    },
    {
      "cell_type": "markdown",
      "metadata": {
        "id": "8RtiyuT4ZYQT"
      },
      "source": [
        "Con el fin de evaluar los modelos de manera homogénea definimos a continuación una función que nos permite calcular las métricas de R2 y RMSE, así como las gráficas de dispersión de errores para cada uno de los modelos. Emplearemos dicha función al final de cada sección para obtener los valores de rendimiento de cada modelo."
      ]
    },
    {
      "cell_type": "code",
      "metadata": {
        "id": "ATmY9k42xR3N"
      },
      "source": [
        "def evaluar_modelo(modelo, y_train, y_test, y_train_pred, y_test_pred):\n",
        "\n",
        "    print('El modelo a evaluar: ', modelo)\n",
        "    ### CALCULAMOS EL ERROR\n",
        "    \n",
        "    rmse_train = np.sqrt(mean_squared_error(y_train, y_train_pred))\n",
        "    rmse_test = np.sqrt(mean_squared_error(y_test, y_test_pred))\n",
        "    print(f'Raíz del error cuadrático medio en Train: {rmse_train}')\n",
        "    print(f'Raíz del error cuadrático medio en Test: {rmse_test}')\n",
        "    \n",
        "    r2_train = r2_score(y_train, y_train_pred)\n",
        "    r2_test = r2_score(y_test, y_test_pred)\n",
        "    print(f'R cuadrado en Train: {r2_train}')\n",
        "    print(f'R cuadrado en Test: {r2_test}')\n",
        "\n",
        "    # print(f'Porcentaje del Error Absoluto medio en Train: {mape_train}')\n",
        "    # print(f'Porcentaje del Error Absoluto medio en Test: {mape_test}\\n')\n",
        "    \n",
        "        ### GRAFICAMOS LOS RESULTADOS\n",
        "      \n",
        "    plt.figure(figsize = (8,4))\n",
        "\n",
        "    plt.subplot(1,2,1)\n",
        "    sns.distplot(y_train - y_train_pred, bins = 20, label = 'train')\n",
        "    sns.distplot(y_test - y_test_pred, bins = 20, label = 'test')\n",
        "    plt.xlabel('errores')\n",
        "    plt.legend()\n",
        "\n",
        "    ax = plt.subplot(1,2,2)\n",
        "    ax.scatter(y_test,y_test_pred, s =2)\n",
        "    \n",
        "    lims = [\n",
        "    np.min([ax.get_xlim(), ax.get_ylim()]),  # min of both axes\n",
        "    np.max([ax.get_xlim(), ax.get_ylim()]),  # max of both axes]\n",
        "    ]\n",
        "    \n",
        "    ax.plot(lims, lims, 'k-', alpha=0.75, zorder=0)\n",
        "    plt.xlabel('y (test)')\n",
        "    plt.ylabel('y_pred (test)')\n",
        "    \n",
        "    plt.tight_layout()\n",
        "    plt.show()\n",
        "\n",
        "    return rmse_train, rmse_test, r2_train, r2_test"
      ],
      "execution_count": 59,
      "outputs": []
    },
    {
      "cell_type": "markdown",
      "metadata": {
        "id": "zA6jaAfZweyg"
      },
      "source": [
        "## **B. 01.** Modelos avanzados (argumentos por defecto)"
      ]
    },
    {
      "cell_type": "markdown",
      "metadata": {
        "id": "cWy4aSFAYIDM"
      },
      "source": [
        "En la presente sección evaluaremos los modelos de random XGBoost y Forest Regressor con los hiperparámetros que tienen asignados en su librerías por defecto. Los resultados serán evaluados de manera directa y también empleando la técnica de Cross Validation."
      ]
    },
    {
      "cell_type": "markdown",
      "metadata": {
        "id": "c6dYFa1A_uzW"
      },
      "source": [
        "### **B.01.01** XGBoost (argumentos por defecto)"
      ]
    },
    {
      "cell_type": "markdown",
      "metadata": {
        "id": "48YIMUUfwzPv"
      },
      "source": [
        "#### ----> Entrenamiento y evaluación"
      ]
    },
    {
      "cell_type": "code",
      "metadata": {
        "id": "v_DK084QNFpP"
      },
      "source": [
        "# # Instanciamos el modelo con sus caracteristicas por defecto\n",
        "# XGB_model = xgb.XGBRegressor()"
      ],
      "execution_count": 60,
      "outputs": []
    },
    {
      "cell_type": "code",
      "metadata": {
        "id": "Tk7zvbZWNbRg"
      },
      "source": [
        "# # Corroboramos los hiperparametros que el modelo presenta\n",
        "# XGB_model"
      ],
      "execution_count": 61,
      "outputs": []
    },
    {
      "cell_type": "code",
      "metadata": {
        "id": "MOpsOGb6NFlt"
      },
      "source": [
        "# # Hacemos que el modelo se entrene con el set de entrenamiento (X_train, y_train)\n",
        "# # Caracteristicas: \n",
        "# # evalset : el modelo evaluara las métricas mape y rmse y se detendra tras 50 iteraciones\n",
        "# # en las que el modelo ho haya logrado obtener una metrica más baja. \n",
        "# # evalmetric: serán las metricas que emplearemos para evaluar lo pasos del del entrenamiento.\n",
        "# # La última de ellas es la que se constituye como criterio de parada para elearly stopping. \n",
        "# # early_stopping_rounds: cantidad de rondas que avanzará sin (si incluimos este parameto se almacenará el mejor modelo respecto a la metrica de evaluación)\n",
        "# # (Sino el modelo evaluará hasta el valor n_estimators y tomnara el valor del ultimo estimador)\n",
        "# # Verbose: Imprimirá cada una de los pasos del entrenamiento con sus respectivas evaluaciones sobre el eval_set\n",
        "# XGB_model.fit(X_train, y_train,\n",
        "#         eval_set=[(X_train, y_train), (X_test, y_test)],\n",
        "#         eval_metric= ['rmse'],\n",
        "#         early_stopping_rounds=100,\n",
        "#         verbose=1\n",
        "#        )"
      ],
      "execution_count": 62,
      "outputs": []
    },
    {
      "cell_type": "code",
      "metadata": {
        "id": "Ex-MRMU928GJ"
      },
      "source": [
        "# Cargado del modelo guardado (una vez ya ha sido entrenado)\n",
        "path_XGB_model = '/content/drive/MyDrive/Colab Notebooks/00_Acamica/XGB_model.sav'\n",
        "XGB_model = pickle.load(open(path_XGB_model, 'rb'))"
      ],
      "execution_count": 63,
      "outputs": []
    },
    {
      "cell_type": "code",
      "metadata": {
        "colab": {
          "base_uri": "https://localhost:8080/"
        },
        "id": "-1qbpwRmNFjQ",
        "outputId": "2d8cf59c-2fae-4236-bd0a-8e80c7ed06b6"
      },
      "source": [
        "# Visualizamos el mejor valor para la métrica de criterio de entrenamiento\n",
        "XGB_model.best_score"
      ],
      "execution_count": 64,
      "outputs": [
        {
          "output_type": "execute_result",
          "data": {
            "text/plain": [
              "32175.525391"
            ]
          },
          "metadata": {
            "tags": []
          },
          "execution_count": 64
        }
      ]
    },
    {
      "cell_type": "code",
      "metadata": {
        "colab": {
          "base_uri": "https://localhost:8080/"
        },
        "id": "XRefRvKDNFhh",
        "outputId": "6d2b61b1-adb2-499c-d03a-788252e02901"
      },
      "source": [
        "# Visualizamos cual fue la mejor iteración en la que dicho valor se obtuvo\n",
        "XGB_model.best_iteration"
      ],
      "execution_count": 65,
      "outputs": [
        {
          "output_type": "execute_result",
          "data": {
            "text/plain": [
              "99"
            ]
          },
          "metadata": {
            "tags": []
          },
          "execution_count": 65
        }
      ]
    },
    {
      "cell_type": "code",
      "metadata": {
        "id": "71KnOdUAScP6"
      },
      "source": [
        "# Generamos la predicción con el modelo entrenado\n",
        "y_train_pred = XGB_model.predict(X_train)\n",
        "y_test_pred= XGB_model.predict(X_test)"
      ],
      "execution_count": 66,
      "outputs": []
    },
    {
      "cell_type": "code",
      "metadata": {
        "colab": {
          "base_uri": "https://localhost:8080/",
          "height": 384
        },
        "id": "SSYRbTcWNFcB",
        "outputId": "f014980a-af88-4a4d-c1ab-698a9bcc5c31"
      },
      "source": [
        "# Evaluamos los resultados obtenidos por el modelo\n",
        "rmse_train, rmse_test, r2_train, r2_test = evaluar_modelo('XGBoost (parametros por defecto)', y_train, y_test, y_train_pred, y_test_pred)"
      ],
      "execution_count": 67,
      "outputs": [
        {
          "output_type": "stream",
          "text": [
            "El modelo a evaluar:  XGBoost (parametros por defecto)\n",
            "Raíz del error cuadrático medio en Train: 28005.652518335588\n",
            "Raíz del error cuadrático medio en Test: 32175.555797713354\n",
            "R cuadrado en Train: 0.9073998977854276\n",
            "R cuadrado en Test: 0.8793316673319217\n"
          ],
          "name": "stdout"
        },
        {
          "output_type": "display_data",
          "data": {
            "image/png": "[encoded data removed]",
            "text/plain": [
              "<Figure size 576x288 with 2 Axes>"
            ]
          },
          "metadata": {
            "tags": []
          }
        }
      ]
    },
    {
      "cell_type": "code",
      "metadata": {
        "id": "KxvpNFt2btrc"
      },
      "source": [
        "# Almacenamos los resultados obtenidos por el modelo\n",
        "resultados_PY_02_XGB_model = {'Modelo': ['XGBoost'], \n",
        "                              'RMSE_Train': [rmse_train], \n",
        "                              'RMSE_Test': [rmse_test], \n",
        "                              'R2_Train': [r2_train],\n",
        "                              'R2_Test': [r2_test]\n",
        "                              }"
      ],
      "execution_count": 68,
      "outputs": []
    },
    {
      "cell_type": "code",
      "metadata": {
        "id": "47AWVTlq1WrX"
      },
      "source": [
        "# # Guardado del modelo ya entrenado\n",
        "# path_XGB_model = '/content/drive/MyDrive/Colab Notebooks/00_Acamica/XGB_model.sav'\n",
        "# pickle.dump(XGB_model, open(path_XGB_model, 'wb'))"
      ],
      "execution_count": 69,
      "outputs": []
    },
    {
      "cell_type": "markdown",
      "metadata": {
        "id": "Dn-AZPX1_ebi"
      },
      "source": [
        "#### ---> Cross Validation"
      ]
    },
    {
      "cell_type": "markdown",
      "metadata": {
        "id": "H35JHlZ2dBr2"
      },
      "source": [
        "Mediante la técnica de Cross Validation corroboramos que el valor obtenido para las métricas es el valor representativo indiferente del conjunto de train y test seleccionado."
      ]
    },
    {
      "cell_type": "code",
      "metadata": {
        "id": "m8bwG6vh0XZ7"
      },
      "source": [
        "# CV_XGBoost_results = cross_validate(XGB_model, X_test, y_test, cv=5, scoring=['r2', 'neg_root_mean_squared_error'], return_train_score=True,  n_jobs=-1)\n",
        "# CV_XGBoost_results"
      ],
      "execution_count": 70,
      "outputs": []
    },
    {
      "cell_type": "code",
      "metadata": {
        "id": "zjAzIkX_8GlW"
      },
      "source": [
        "# CV_XGBoost_R2 = CV_XGBoost_results['test_r2']\n",
        "# CV_XGBoost_RMSE = CV_XGBoost_results['test_neg_root_mean_squared_error']"
      ],
      "execution_count": 71,
      "outputs": []
    },
    {
      "cell_type": "code",
      "metadata": {
        "id": "RawCqTRE0Xfn"
      },
      "source": [
        "# print('Modelo evaluado bajo Cross Validation:  XGBoost (parámetros por defecto)')\n",
        "# print(\"Raíz del error cuadrático medio para test : %0.2f (+/- %0.2f)\" % (abs(CV_XGBoost_RMSE.mean()), abs(CV_XGBoost_RMSE.std()) * 2))\n",
        "# print(\"R cuadrado para test : %0.2f (+/- %0.2f)\" % (abs(CV_XGBoost_R2.mean()), abs(CV_XGBoost_R2.std()) * 2))"
      ],
      "execution_count": 72,
      "outputs": []
    },
    {
      "cell_type": "markdown",
      "metadata": {
        "id": "cC2S9Iq-CvNO"
      },
      "source": [
        "### **B.01.02** Random Forest (argumentos por defecto)"
      ]
    },
    {
      "cell_type": "markdown",
      "metadata": {
        "id": "3G9vV41uCvNO"
      },
      "source": [
        "#### ----> Entrenamiento y evaluación"
      ]
    },
    {
      "cell_type": "code",
      "metadata": {
        "id": "rPvbYlrgCvNO"
      },
      "source": [
        "# # Instanciaremos el modelo con sus caracteristicas por defecto\n",
        "# RFR_Model = RandomForestRegressor()"
      ],
      "execution_count": 73,
      "outputs": []
    },
    {
      "cell_type": "code",
      "metadata": {
        "id": "9nhWS7GxCvNP"
      },
      "source": [
        "# # Corroboramos los hiperparametros que el modelo presenta\n",
        "# RFR_Model"
      ],
      "execution_count": 74,
      "outputs": []
    },
    {
      "cell_type": "code",
      "metadata": {
        "id": "StTqfaKKCvNP"
      },
      "source": [
        "# # Hacemos que el modelo se entrene con el set de entrenamiento (X_train, y_train)\n",
        "# RFR_Model.fit(X_train,y_train)"
      ],
      "execution_count": 75,
      "outputs": []
    },
    {
      "cell_type": "code",
      "metadata": {
        "id": "Ziu2f3M26OB0"
      },
      "source": [
        "# Cargado del modelo guardado (una vez ya ha sido entrenado)\n",
        "path_RFR_Model = '/content/drive/MyDrive/Colab Notebooks/00_Acamica/RFR_Model.sav'\n",
        "RFR_Model = pickle.load(open(path_RFR_Model, 'rb'))"
      ],
      "execution_count": 76,
      "outputs": []
    },
    {
      "cell_type": "code",
      "metadata": {
        "id": "TQfF0GEtCvNP"
      },
      "source": [
        "# Generamos la predicción con el modelo entrenado\n",
        "y_train_pred = RFR_Model.predict(X_train)\n",
        "y_test_pred= RFR_Model.predict(X_test)"
      ],
      "execution_count": 77,
      "outputs": []
    },
    {
      "cell_type": "code",
      "metadata": {
        "colab": {
          "base_uri": "https://localhost:8080/",
          "height": 384
        },
        "id": "OxVqHnd0CvNQ",
        "outputId": "939467f5-89b8-4859-c3a1-226cb2e7a323"
      },
      "source": [
        "# Evaluamos los resultados obtenidos por el modelo\n",
        "rmse_train, rmse_test, r2_train, r2_test = evaluar_modelo('Random Forest Regressor (parametros por defecto)', y_train, y_test, y_train_pred, y_test_pred)"
      ],
      "execution_count": 78,
      "outputs": [
        {
          "output_type": "stream",
          "text": [
            "El modelo a evaluar:  Random Forest Regressor (parametros por defecto)\n",
            "Raíz del error cuadrático medio en Train: 10975.059244457\n",
            "Raíz del error cuadrático medio en Test: 26126.047735560205\n",
            "R cuadrado en Train: 0.9857788793580812\n",
            "R cuadrado en Test: 0.9204411258444645\n"
          ],
          "name": "stdout"
        },
        {
          "output_type": "display_data",
          "data": {
            "image/png": "[encoded data removed]",
            "text/plain": [
              "<Figure size 576x288 with 2 Axes>"
            ]
          },
          "metadata": {
            "tags": []
          }
        }
      ]
    },
    {
      "cell_type": "code",
      "metadata": {
        "id": "2FWXvXpgd0l6"
      },
      "source": [
        "# Almacenamos los resultados obtenidos por el modelo\n",
        "resultados_PY_02_RFR_Model = {'Modelo': ['Random Forest Regressor'], \n",
        "                              'RMSE_Train': [rmse_train], \n",
        "                              'RMSE_Test': [rmse_test], \n",
        "                              'R2_Train': [r2_train],\n",
        "                              'R2_Test': [r2_test]\n",
        "                              }"
      ],
      "execution_count": 79,
      "outputs": []
    },
    {
      "cell_type": "code",
      "metadata": {
        "id": "9ItwkLp36zjN"
      },
      "source": [
        "# # Guardado del modelo ya entrenado\n",
        "# path_RFR_Model = '/content/drive/MyDrive/Colab Notebooks/00_Acamica/RFR_Model.sav'\n",
        "# pickle.dump(RFR_Model, open(path_RFR_Model, 'wb'))"
      ],
      "execution_count": 80,
      "outputs": []
    },
    {
      "cell_type": "markdown",
      "metadata": {
        "id": "75BLzhsZCvNQ"
      },
      "source": [
        "#### ---> Cross Validation"
      ]
    },
    {
      "cell_type": "markdown",
      "metadata": {
        "id": "tiZZY4u-eQ5k"
      },
      "source": [
        "Mediante la técnica de Cross Validation corroboramos que el valor obtenido para las métricas es el valor representativo indiferente del conjunto de train y test seleccionado."
      ]
    },
    {
      "cell_type": "code",
      "metadata": {
        "id": "2lesRnYbCvNQ"
      },
      "source": [
        "# CV_RFR_Model_results = cross_validate(RFR_Model, X_test, y_test, cv=5, scoring=['r2', 'neg_root_mean_squared_error'], return_train_score=True,  n_jobs=-1)\n",
        "# CV_RFR_Model_results"
      ],
      "execution_count": 81,
      "outputs": []
    },
    {
      "cell_type": "code",
      "metadata": {
        "id": "HI2Er8_GCvNQ"
      },
      "source": [
        "# CV_RFR_Model_R2 = CV_RFR_Model_results['test_r2']\n",
        "# CV_RFR_Model_RMSE = CV_RFR_Model_results['test_neg_root_mean_squared_error']"
      ],
      "execution_count": 82,
      "outputs": []
    },
    {
      "cell_type": "code",
      "metadata": {
        "id": "TWZqgdSVCvNQ"
      },
      "source": [
        "# print('Modelo evaluado bajo Cross Validation:  Random Forest Regressor (parametros por defecto)')\n",
        "# print(\"Raíz del error cuadrático medio : %0.2f (+/- %0.2f)\" % (abs(CV_RFR_Model_RMSE.mean()), abs(CV_RFR_Model_RMSE.std()) * 2))\n",
        "# print(\"R cuadrado : %0.2f (+/- %0.2f)\" % (abs(CV_RFR_Model_R2.mean()), abs(CV_RFR_Model_R2.std()) * 2))"
      ],
      "execution_count": 83,
      "outputs": []
    },
    {
      "cell_type": "markdown",
      "metadata": {
        "id": "KcoIbIcMFU9p"
      },
      "source": [
        "## **B. 02.** Modelos avanzados (hiperparámetros optimizados)"
      ]
    },
    {
      "cell_type": "markdown",
      "metadata": {
        "id": "epA8y4s3frO4"
      },
      "source": [
        "En la presente sección generaremos la optimización de hiperparámetros de los modelos XGBoost y Random Forest Regressor empleando técnicas de grilla, en específico Random Search y Grid Search. Los modelos serán evaluados a partir de las métricas ya definidas empleando a su vez validación cruzada. A partir de dicha evaluación se definirán los mejores modelos en relación con  los hiperparámetros optimizados."
      ]
    },
    {
      "cell_type": "markdown",
      "metadata": {
        "id": "ZzmgBv64bAFC"
      },
      "source": [
        "### **B.02.01.** XGBoost (argumentos optimizados)"
      ]
    },
    {
      "cell_type": "markdown",
      "metadata": {
        "id": "T-ODQMJz8J3X"
      },
      "source": [
        "Con el fin de optimizar el modelo de XGBoost hemos decidido utilizar la técnica de Random Search. Esta técnica evalúa un conjunto especifico de modelos de manera aleatoria entre todas las posibles combinaciones dadas por el conjunto de valores que hayamos definido para cada hiperparámetro. En nuestro caso hemos definido este conjunto de modelos como 50.  Los hiperparámetros que hemos considerado más relevantes para el modelo de XGBoost son los siguientes: \n",
        "- **Nthread** [Valores posibles: 1, 2, 3, 4, 5]: Número de subprocesos paralelos utilizados para ejecutar XGBoost.\n",
        "- **Objective** [Valor: 'reg:squarederror']: Especifica la tarea de aprendizaje y el objetivo de aprendizaje correspondiente. Nos enfocaremos en la evaluación del RMSE que indirectamente también tendrá que ver con la optimización del R2.\n",
        "- **Learning_rate** [Valores posibles: .0.05 - 1]: Reducción del tamaño del paso utilizado en la actualización para evitar el sobreajuste.\n",
        "- **Max_depth** [Valores posibles: rango 1-10]: nos permite evaluar si la profundidad de árboles con que se construye el modelo tiene una influencia en el resultado del mismo.\n",
        "- **Min_child_weight** [Valores posibles: 3, 4, 5, 6, 7, 8]: evaluar la suma mínima de peso de instancia necesaria para una nueva división.\n",
        "- **Subsample** [Valores posibles: rango 0.05 - 1]: Proporción de submuestras de las instancias de formación.\n",
        "- **Colsample_bytree** [Valores posibles: rango 0.05 - 1]: es la proporción de submuestras de columnas al construir cada árbol. El submuestreo ocurre una vez por cada árbol construido.\n",
        "- **N_estimators** [Valores posibles: 200, 300, 400, 500, 600]: nos permite evaluar si la cantidad de estimadores con que se construye el modelo tiene una influencia en el resultado del mismo.\n",
        "\n"
      ]
    },
    {
      "cell_type": "code",
      "metadata": {
        "id": "LjwAgwd_NFZl"
      },
      "source": [
        "# # Definimos el modelo base a partir del cual haremos la optimización\n",
        "# XGB_model_base = xgb.XGBRegressor()"
      ],
      "execution_count": 84,
      "outputs": []
    },
    {
      "cell_type": "code",
      "metadata": {
        "id": "pldHyq9eNFXC"
      },
      "source": [
        "# # Definimos el conjunto de hiperparametros a partir del cual del cual harémos la optimización\n",
        "# param_XGB_model_base = {'nthread':[1, 2, 3, 4, 5], \n",
        "#               'objective':['reg:squarederror'],\n",
        "#               'learning_rate': np.arange(.05, 1, .05),\n",
        "#               'max_depth': np.arange(1,10),\n",
        "#               'min_child_weight': [3, 4, 5, 6, 7, 8],\n",
        "#               'subsample': np.arange(.05, 1, .05),\n",
        "#               'colsample_bytree': np.arange(.05, 1, .05),\n",
        "#               'n_estimators': [200, 300, 400, 500, 600]}\n",
        "# param_XGB_model_base"
      ],
      "execution_count": 85,
      "outputs": []
    },
    {
      "cell_type": "code",
      "metadata": {
        "id": "ThbB_CP9NFVj"
      },
      "source": [
        "# # A partir del modelo base y del conjunto de parametros definimos a través de una busqueda aleatoria con 50 iteraciones, \n",
        "# # los parametros a ser tenidos en cuanta para cada uno de los modelos.\n",
        "# XGB_model_RS = RandomizedSearchCV(XGB_model_base, param_XGB_model_base,n_iter=50, random_state=0, cv=5,\n",
        "#                             scoring='r2', verbose=True, n_jobs=-1, refit=True)"
      ],
      "execution_count": 86,
      "outputs": []
    },
    {
      "cell_type": "code",
      "metadata": {
        "id": "BFLRIrBXNFSK"
      },
      "source": [
        "# # Generamos el entrenamiento del conjunto de modelos definidos en la busqueda aleatoria\n",
        "# XGB_model_RS.fit(X_train, y_train,\n",
        "#         eval_set=[(X_train, y_train), (X_test, y_test)],\n",
        "#         early_stopping_rounds=50,\n",
        "#         verbose=True)"
      ],
      "execution_count": 87,
      "outputs": []
    },
    {
      "cell_type": "code",
      "metadata": {
        "id": "wxkkPEeQAy7o"
      },
      "source": [
        "# Cargado del modelo guardado (una vez ya ha sido entrenado)\n",
        "path_XGB_model_RS = '/content/drive/MyDrive/Colab Notebooks/00_Acamica/XGB_model_RS.sav'\n",
        "XGB_model_RS = pickle.load(open(path_XGB_model_RS, 'rb'))"
      ],
      "execution_count": 88,
      "outputs": []
    },
    {
      "cell_type": "code",
      "metadata": {
        "colab": {
          "base_uri": "https://localhost:8080/"
        },
        "id": "rg2dgcjWNFQU",
        "outputId": "6e240293-9e43-4b85-aac1-b34bffcd35cd"
      },
      "source": [
        "# Evaluamos cual fue el mejor resultado obtenido para la métrica definida\n",
        "XGB_model_RS.best_score_"
      ],
      "execution_count": 89,
      "outputs": [
        {
          "output_type": "execute_result",
          "data": {
            "text/plain": [
              "0.9000048957872375"
            ]
          },
          "metadata": {
            "tags": []
          },
          "execution_count": 89
        }
      ]
    },
    {
      "cell_type": "code",
      "metadata": {
        "colab": {
          "base_uri": "https://localhost:8080/"
        },
        "id": "_KZLi-ZtNFO3",
        "outputId": "aa1502e1-c701-439e-8f01-21568156880c"
      },
      "source": [
        "# Obtenemos los hiperparametros del modelo que presentó el mejor resultado para la métrica\n",
        "XGB_model_RS.best_estimator_"
      ],
      "execution_count": 90,
      "outputs": [
        {
          "output_type": "execute_result",
          "data": {
            "text/plain": [
              "XGBRegressor(base_score=0.5, booster='gbtree', colsample_bylevel=1,\n",
              "             colsample_bynode=1, colsample_bytree=0.7500000000000001, gamma=0,\n",
              "             gpu_id=-1, importance_type='gain', interaction_constraints='',\n",
              "             learning_rate=0.3, max_delta_step=0, max_depth=9,\n",
              "             min_child_weight=6, missing=nan, monotone_constraints='()',\n",
              "             n_estimators=200, n_jobs=5, nthread=5, num_parallel_tree=1,\n",
              "             random_state=0, reg_alpha=0, reg_lambda=1, scale_pos_weight=1,\n",
              "             subsample=0.6500000000000001, tree_method='exact',\n",
              "             validate_parameters=1, verbosity=None)"
            ]
          },
          "metadata": {
            "tags": []
          },
          "execution_count": 90
        }
      ]
    },
    {
      "cell_type": "code",
      "metadata": {
        "colab": {
          "base_uri": "https://localhost:8080/"
        },
        "id": "GTcKiO5mu1WF",
        "outputId": "4bfa0807-7c62-46bb-c15a-9c15a57a52f9"
      },
      "source": [
        "# Consultamos la iteración para la cual el modelo presentó el mejor resultado para la métrica\n",
        "best_score = np.argmax(XGB_model_RS.cv_results_['mean_test_score'])\n",
        "best_score"
      ],
      "execution_count": 91,
      "outputs": [
        {
          "output_type": "execute_result",
          "data": {
            "text/plain": [
              "46"
            ]
          },
          "metadata": {
            "tags": []
          },
          "execution_count": 91
        }
      ]
    },
    {
      "cell_type": "code",
      "metadata": {
        "colab": {
          "base_uri": "https://localhost:8080/"
        },
        "id": "F03BO6VSNFLJ",
        "outputId": "0cc71271-cc2f-483e-d790-752521256202"
      },
      "source": [
        "# Imprimimos los resultados obtenidos para el mejor modelo así como los hiperparametros elegidos dela grilla \n",
        "print('mean_test_f1', XGB_model_RS.cv_results_['mean_test_score'][best_score])\n",
        "print('params', XGB_model_RS.cv_results_['params'][best_score])"
      ],
      "execution_count": 92,
      "outputs": [
        {
          "output_type": "stream",
          "text": [
            "mean_test_f1 0.9000048957872375\n",
            "params {'subsample': 0.6500000000000001, 'objective': 'reg:squarederror', 'nthread': 5, 'n_estimators': 200, 'min_child_weight': 6, 'max_depth': 9, 'learning_rate': 0.3, 'colsample_bytree': 0.7500000000000001}\n"
          ],
          "name": "stdout"
        }
      ]
    },
    {
      "cell_type": "code",
      "metadata": {
        "id": "1lqIRuYlNFJI"
      },
      "source": [
        "# Generamos la predicción con el modelo que mejor métrica presento\n",
        "y_train_pred = XGB_model_RS.predict(X_train)\n",
        "y_test_pred= XGB_model_RS.predict(X_test)"
      ],
      "execution_count": 93,
      "outputs": []
    },
    {
      "cell_type": "code",
      "metadata": {
        "id": "8uAykj2UNFF2",
        "colab": {
          "base_uri": "https://localhost:8080/",
          "height": 384
        },
        "outputId": "6b45573a-699f-4035-8491-2b57fef4ecb9"
      },
      "source": [
        "# Evaluamos los resultados obtenidos por el mejor modelo\n",
        "rmse_train, rmse_test, r2_train, r2_test = evaluar_modelo('XGBoost optimizado', y_train, y_test, y_train_pred, y_test_pred)"
      ],
      "execution_count": 94,
      "outputs": [
        {
          "output_type": "stream",
          "text": [
            "El modelo a evaluar:  XGBoost optimizado\n",
            "Raíz del error cuadrático medio en Train: 16293.760700252544\n",
            "Raíz del error cuadrático medio en Test: 27599.2807844193\n",
            "R cuadrado en Train: 0.9686553993120743\n",
            "R cuadrado en Test: 0.911215587266194\n"
          ],
          "name": "stdout"
        },
        {
          "output_type": "display_data",
          "data": {
            "image/png": "[encoded data removed]",
            "text/plain": [
              "<Figure size 576x288 with 2 Axes>"
            ]
          },
          "metadata": {
            "tags": []
          }
        }
      ]
    },
    {
      "cell_type": "code",
      "metadata": {
        "id": "KDiZgT31l7ZQ"
      },
      "source": [
        "# Almacenamos los resultados obtenidos por el modelo\n",
        "resultados_PY_02_XGB_model_RS = {'Modelo': ['XGBoost optimizado'], \n",
        "                              'RMSE_Train': [rmse_train], \n",
        "                              'RMSE_Test': [rmse_test], \n",
        "                              'R2_Train': [r2_train],\n",
        "                              'R2_Test': [r2_test]\n",
        "                              }"
      ],
      "execution_count": 95,
      "outputs": []
    },
    {
      "cell_type": "code",
      "metadata": {
        "id": "rLpvhH3QqhkZ"
      },
      "source": [
        "# # Guardado del modelo ya entrenado\n",
        "# path_XGB_model_RS = '/content/drive/MyDrive/Colab Notebooks/00_Acamica/XGB_model_RS.sav'\n",
        "# pickle.dump(XGB_model_RS, open(path_XGB_model_RS, 'wb'))"
      ],
      "execution_count": 96,
      "outputs": []
    },
    {
      "cell_type": "markdown",
      "metadata": {
        "id": "QzUkjDpvIw5Q"
      },
      "source": [
        "### **B.02.02** Random Forest Regressor (argumentos optimizados)"
      ]
    },
    {
      "cell_type": "markdown",
      "metadata": {
        "id": "31-7w5BMqqmK"
      },
      "source": [
        "Con el fin de optimizar el modelo de Random Forest Regressor hemos decidido utilizar la técnica de Grid Search. Dado que dicha técnica evalúa todas las posibles combinaciones dadas por el conjunto de valores que hayamos definido para cada hiperparámetro, definimos un conjunto reducido de hiperparámetros y de valores que son los que hemos considerado más relevantes para un RFR para hacer la ejecución más eficiente. Los hiperparametros elegidos son los siguientes:\n",
        "- **Boostrap** [Valores posibles: False, True]: Nos permite elegir si tomamos la totalidad de las muestras para construir cada árbol, o si se utilizan muestras para cada uno de ellos.\n",
        "- **Max_depth** [Valores posibles: 10, 100]: Nos permite evaluar si la profundidad del árbol nos permite mejorar la predicción.\n",
        "- **Max_features** [Valores posibles: ‘auto’, 100]: nos permite evaluar si la cantidad de características a considerar al buscar la mejor división.\n",
        "- **N_estimators** [Valores posibles: 200, 1000]: nos permite evaluar si la cantidad de árboles con que se construye el modelo tiene una influencia en el resultado del mismo.\n"
      ]
    },
    {
      "cell_type": "code",
      "metadata": {
        "id": "EhiHc2luIw5R"
      },
      "source": [
        "# # Definimos el modelo base a partir del cual haremos la optimización\n",
        "# RFR_model_base = RandomForestRegressor()"
      ],
      "execution_count": 97,
      "outputs": []
    },
    {
      "cell_type": "code",
      "metadata": {
        "id": "JHl-GHuQIw5R"
      },
      "source": [
        "# # Definimos el conjunto de hiperparametros a partir del cual del cual harémos la optimización\n",
        "# param_RFR_model_base = {'bootstrap': [True, False],\n",
        "#             'max_depth': [10, 100],\n",
        "#             'max_features': ['auto', 'sqrt'],\n",
        "#             'n_estimators': [200, 1000]}\n",
        "# param_RFR_model_base"
      ],
      "execution_count": 98,
      "outputs": []
    },
    {
      "cell_type": "code",
      "metadata": {
        "id": "Vqd8e_LHIw5S"
      },
      "source": [
        "# # A partir del modelo base y del conjunto de parametros definimos a través de una busqueda por grilla \n",
        "# # los parametros a ser tenidos en cuanta para cada uno de los modelos.\n",
        "# RFR_model_RS = GridSearchCV(RFR_model_base, param_RFR_model_base, cv=5,\n",
        "#                             scoring='r2', verbose=True, n_jobs=-1, refit=True)"
      ],
      "execution_count": 99,
      "outputs": []
    },
    {
      "cell_type": "code",
      "metadata": {
        "id": "6X088DZsIw5S"
      },
      "source": [
        "# # Generamos el entrenamiento del conjunto de modelos definidos en la busqueda por grilla\n",
        "# RFR_model_RS.fit(X_train, y_train)"
      ],
      "execution_count": 100,
      "outputs": []
    },
    {
      "cell_type": "code",
      "metadata": {
        "id": "2LoKT80MDlrk"
      },
      "source": [
        "# Cargado del modelo guardado (una vez ya ha sido entrenado)\n",
        "path_RFR_model_RS = '/content/drive/MyDrive/Colab Notebooks/00_Acamica/RFR_model_RS.sav'\n",
        "RFR_model_RS = pickle.load(open(path_RFR_model_RS, 'rb'))"
      ],
      "execution_count": 101,
      "outputs": []
    },
    {
      "cell_type": "code",
      "metadata": {
        "colab": {
          "base_uri": "https://localhost:8080/"
        },
        "id": "DmfNbF13YNO6",
        "outputId": "18d5f892-2cfd-4709-d588-43a0ba2679e3"
      },
      "source": [
        "# Evaluamos cual fue el mejor resultado obtenido para la métrica definida\n",
        "RFR_model_RS.best_score_"
      ],
      "execution_count": 102,
      "outputs": [
        {
          "output_type": "execute_result",
          "data": {
            "text/plain": [
              "0.9138724931367233"
            ]
          },
          "metadata": {
            "tags": []
          },
          "execution_count": 102
        }
      ]
    },
    {
      "cell_type": "code",
      "metadata": {
        "id": "sMRm7AiSpVK2",
        "colab": {
          "base_uri": "https://localhost:8080/"
        },
        "outputId": "f851e3b0-83fe-478e-ea3f-1c1d487e8301"
      },
      "source": [
        "# Evaluamos cual fue el mejor resultado obtenido para la métrica definida\n",
        "RFR_model_RS.best_score_"
      ],
      "execution_count": 103,
      "outputs": [
        {
          "output_type": "execute_result",
          "data": {
            "text/plain": [
              "0.9138724931367233"
            ]
          },
          "metadata": {
            "tags": []
          },
          "execution_count": 103
        }
      ]
    },
    {
      "cell_type": "code",
      "metadata": {
        "id": "3Yl5pzVWpVK3",
        "colab": {
          "base_uri": "https://localhost:8080/"
        },
        "outputId": "d3e0bb5f-2753-4125-f01d-a3d474078179"
      },
      "source": [
        "# Obtenemos los hiperparametros del modelo que presentó el mejor resultado para la métrica\n",
        "RFR_model_RS.best_estimator_"
      ],
      "execution_count": 104,
      "outputs": [
        {
          "output_type": "execute_result",
          "data": {
            "text/plain": [
              "RandomForestRegressor(bootstrap=False, max_depth=100, max_features='sqrt',\n",
              "                      n_estimators=1000)"
            ]
          },
          "metadata": {
            "tags": []
          },
          "execution_count": 104
        }
      ]
    },
    {
      "cell_type": "code",
      "metadata": {
        "id": "S9UIlwHTpVK3",
        "colab": {
          "base_uri": "https://localhost:8080/"
        },
        "outputId": "0ba4beb1-4327-4d14-9f12-c3d9c8c04885"
      },
      "source": [
        "# Consultamos la iteración para la cual el modelo presentó el mejor resultado para la métrica\n",
        "best_score = np.argmax(RFR_model_RS.cv_results_['mean_test_score'])\n",
        "best_score"
      ],
      "execution_count": 105,
      "outputs": [
        {
          "output_type": "execute_result",
          "data": {
            "text/plain": [
              "15"
            ]
          },
          "metadata": {
            "tags": []
          },
          "execution_count": 105
        }
      ]
    },
    {
      "cell_type": "code",
      "metadata": {
        "id": "s5d3CC8VpVK3",
        "colab": {
          "base_uri": "https://localhost:8080/"
        },
        "outputId": "3978512a-a1e5-4ef0-db8a-49e31e3a4c34"
      },
      "source": [
        "# Imprimimos los resultados obtenidos para el mejor modelo así como los hiperparametros elegidos dela grilla \n",
        "print('mean_test_R2', RFR_model_RS.cv_results_['mean_test_score'][best_score])\n",
        "print('params', RFR_model_RS.cv_results_['params'][best_score])"
      ],
      "execution_count": 106,
      "outputs": [
        {
          "output_type": "stream",
          "text": [
            "mean_test_R2 0.9138724931367233\n",
            "params {'bootstrap': False, 'max_depth': 100, 'max_features': 'sqrt', 'n_estimators': 1000}\n"
          ],
          "name": "stdout"
        }
      ]
    },
    {
      "cell_type": "code",
      "metadata": {
        "id": "IaFgQ4MNpVK4"
      },
      "source": [
        "# Generamos la predicción con el modelo que mejor métrica presento\n",
        "y_train_pred = RFR_model_RS.predict(X_train)\n",
        "y_test_pred= RFR_model_RS.predict(X_test)"
      ],
      "execution_count": 107,
      "outputs": []
    },
    {
      "cell_type": "code",
      "metadata": {
        "id": "o3D_uDe8pVK4",
        "colab": {
          "base_uri": "https://localhost:8080/",
          "height": 384
        },
        "outputId": "61c5281c-8b94-4832-b0f6-dd20ea52c51f"
      },
      "source": [
        "# Evaluamos los resultados obtenidos por el mejor modelo\n",
        "rmse_train, rmse_test, r2_train, r2_test = evaluar_modelo('Random Forest Regressor optimizado', y_train, y_test, y_train_pred, y_test_pred)"
      ],
      "execution_count": 108,
      "outputs": [
        {
          "output_type": "stream",
          "text": [
            "El modelo a evaluar:  Random Forest Regressor optimizado\n",
            "Raíz del error cuadrático medio en Train: 5317.005242587459\n",
            "Raíz del error cuadrático medio en Test: 25308.45771476467\n",
            "R cuadrado en Train: 0.9966622465676773\n",
            "R cuadrado en Test: 0.9253426522552916\n"
          ],
          "name": "stdout"
        },
        {
          "output_type": "display_data",
          "data": {
            "image/png": "[encoded data removed]",
            "text/plain": [
              "<Figure size 576x288 with 2 Axes>"
            ]
          },
          "metadata": {
            "tags": []
          }
        }
      ]
    },
    {
      "cell_type": "code",
      "metadata": {
        "id": "je2SDJ9YpVK4"
      },
      "source": [
        "# Almacenamos los resultados obtenidos por el modelo\n",
        "resultados_PY_02_RFR_model_RS = {'Modelo': ['Random Forest Regressor optimizado'], \n",
        "                              'RMSE_Train': [rmse_train], \n",
        "                              'RMSE_Test': [rmse_test], \n",
        "                              'R2_Train': [r2_train],\n",
        "                              'R2_Test': [r2_test]\n",
        "                              }"
      ],
      "execution_count": 109,
      "outputs": []
    },
    {
      "cell_type": "code",
      "metadata": {
        "id": "y6GBOacAmZgd"
      },
      "source": [
        "# # Guardado del modelo ya entrenado\n",
        "# path_RFR_model_RS = '/content/drive/MyDrive/Colab Notebooks/00_Acamica/RFR_model_RS.sav'\n",
        "# pickle.dump(RFR_model_RS, open(path_RFR_model_RS, 'wb'))"
      ],
      "execution_count": 110,
      "outputs": []
    },
    {
      "cell_type": "code",
      "metadata": {
        "colab": {
          "base_uri": "https://localhost:8080/"
        },
        "id": "FT8W7GsETYXZ",
        "outputId": "5ba80d60-c91c-40a4-af30-b639fa22cfa3"
      },
      "source": [
        "print(\"--- %s seconds ---\" % (time.time() - start_time))"
      ],
      "execution_count": 111,
      "outputs": [
        {
          "output_type": "stream",
          "text": [
            "--- 206.17869472503662 seconds ---\n"
          ],
          "name": "stdout"
        }
      ]
    },
    {
      "cell_type": "markdown",
      "metadata": {
        "id": "Hi94-Rp-TZH0"
      },
      "source": [
        "## **B. 03.** Evaluación de desempeño"
      ]
    },
    {
      "cell_type": "markdown",
      "metadata": {
        "id": "D7EioqhUOQyR"
      },
      "source": [
        "En la presente sección recopilamos los resultados de las métricas RMSE y R2 para la totalidad de los modelos evaluados en el Proyecto_01 y en el proyecto actual. Como resultados relevantes en relación con el desempeño de los modelos destacamos los siguientes:\n",
        "\n",
        "1. **Transformación de datos (implicaciones):** La transformación de datos tiene implicaciones importantes dentro de la mejora de las estimaciones para todos los modelos evaluados. Transformando únicamente el dataset de entrada, aun sin modificar ningún hiperparámetro, evidencia una mejora en las métricas para la totalidad de los modelos del primer proyecto (árboles de decisión, regresión lineal y Vecinos más cercanos). La mejora más relevante en la métrica del R2 se evidencia en el modelo del regresor lineal, seguido por los modelos de Vecinos más Cercanos y Árboles de decisión. En la sección A.06. Comparación resultados de los modelos (Proyecto 01 Vs Proyecto actual) ya fueran definidas de manera detallada las implicaciones de cada proceso de transformación el más mejoras encontradas en los modelos.\n",
        "2. **Modelos avanzados sin optimización (modelos de ensamble):** Los resultados para los modelos de Random Forest Regressor y XGBoost fueron superiores a los evidenciados para cualquiera de los modelos vistos en anteriores proyectos. Tanto la métrica de RMSE como la de R2 fueron superiores tanto para los datos de entrenamiento como para los datos de testeo, conformando así que las técnicas de ensamble proveen ventajas significativas frente a los modelos que no presentan combinaciones. Aún sin optimizaciones para sus hiperparametros el modelo de Random Forest Regressor presenta un metrica de R2 para el conjunto de test superior a 0.9 y el modelo de XGboost superior al 0.85 en el mismo conjunto. \n",
        "3. **Modelos avanzados con  optimización (modelos de ensamble):** tanto el modelo de XGBoost como el modelos de Random Forest Regressor presentaron mejoras en sus métricas empleando los procesos de optimización a través de las técnicas de Random y Grid Search. Sin embargo estas implementaciones suponen tiempos de cálculo y recursos en memoria y procesamiento mucho mayores que es importante tener en cuenta al implementarlos. También es de notar que los incrementos en los valores de las métricas pueden no ser muy notables, por lo cual la relación costo beneficio del proceso de optimización debe evaluarse con detalle, e implementarse exclusivamente en el caso que tal incremento, por leve que sea, involucre una ventaja necesaria en la implementación.\n",
        "4. **Modelo elegido:** Aunque el modelo de Random Forest Regressor Optimizado fue el que presentó los mejores valores para las métricas evaluadas, el tiempo de entrenamiento y el tamaño en memoria ocupado para su optimización hacen que en una relación costo beneficio comparado con el mismo modelo sin optimización, no sea favorable. Si se tiene en cuenta el tamaño del modelo que es una característica importante al momento de poner los modelos en producción el modelo que elegiría sería el de XGBoost optimizado pues presenta la 3 posición en relación con las mejores métricas (un R2 superior a 0.9) pero en tamaño en memoria es 100 veces más ligero que el RFR.\n"
      ]
    },
    {
      "cell_type": "code",
      "metadata": {
        "id": "6bUNPMH0TtOS"
      },
      "source": [
        "# Creamos los dataframes con los resultados de los modelos avanzados sin optimización\n",
        "df_resultados_PY_02_XGB_model = pd.DataFrame.from_dict(resultados_PY_02_XGB_model)\n",
        "df_resultados_PY_02_XGB_model['Proyecto']='PY_02'\n",
        "df_resultados_PY_02_XGB_model = df_resultados_PY_02_XGB_model[['Modelo', 'Proyecto', 'RMSE_Train', 'RMSE_Test', 'R2_Train', 'R2_Test']]\n",
        "df_resultados_PY_02_XGB_model[['R2_Train', 'R2_Test']] = df_resultados_PY_02_XGB_model[['R2_Train', 'R2_Test']]\n",
        "\n",
        "df_resultados_PY_02_RFR_Model = pd.DataFrame.from_dict(resultados_PY_02_RFR_Model)\n",
        "df_resultados_PY_02_RFR_Model['Proyecto']='PY_02'\n",
        "df_resultados_PY_02_RFR_Model = df_resultados_PY_02_RFR_Model[['Modelo', 'Proyecto', 'RMSE_Train', 'RMSE_Test', 'R2_Train', 'R2_Test']]\n",
        "df_resultados_PY_02_RFR_Model[['R2_Train', 'R2_Test']] = df_resultados_PY_02_RFR_Model[['R2_Train', 'R2_Test']]\n"
      ],
      "execution_count": 112,
      "outputs": []
    },
    {
      "cell_type": "code",
      "metadata": {
        "id": "WXp7epKjTtRe"
      },
      "source": [
        "# Creamos los dataframes con los resultados de los modelos avanzados con optimización\n",
        "df_resultados_PY_02_XGB_model_RS = pd.DataFrame.from_dict(resultados_PY_02_XGB_model_RS)\n",
        "df_resultados_PY_02_XGB_model_RS['Proyecto']='PY_02'\n",
        "df_resultados_PY_02_XGB_model_RS = df_resultados_PY_02_XGB_model_RS[['Modelo', 'Proyecto', 'RMSE_Train', 'RMSE_Test', 'R2_Train', 'R2_Test']]\n",
        "df_resultados_PY_02_XGB_model_RS[['R2_Train', 'R2_Test']] = df_resultados_PY_02_XGB_model_RS[['R2_Train', 'R2_Test']]\n",
        "\n",
        "df_resultados_PY_02_RFR_model_RS = pd.DataFrame.from_dict(resultados_PY_02_RFR_model_RS)\n",
        "df_resultados_PY_02_RFR_model_RS['Proyecto']='PY_02'\n",
        "df_resultados_PY_02_RFR_model_RS = df_resultados_PY_02_RFR_model_RS[['Modelo', 'Proyecto', 'RMSE_Train', 'RMSE_Test', 'R2_Train', 'R2_Test']]\n",
        "df_resultados_PY_02_RFR_model_RS[['R2_Train', 'R2_Test']] = df_resultados_PY_02_RFR_model_RS[['R2_Train', 'R2_Test']]"
      ],
      "execution_count": 113,
      "outputs": []
    },
    {
      "cell_type": "code",
      "metadata": {
        "colab": {
          "base_uri": "https://localhost:8080/",
          "height": 362
        },
        "id": "X5p2UDn4TtUP",
        "outputId": "fbd587a9-cec3-432a-bbf9-22db5837667b"
      },
      "source": [
        "# Concatenamos todos los resultados de los modelos implementados\n",
        "df_resultados_compilados_totales = pd.concat([df_resultados_PY_01,\n",
        "                                      df_resultados_PY_02,\n",
        "                                      df_resultados_PY_02_XGB_model,\n",
        "                                      df_resultados_PY_02_RFR_Model,\n",
        "                                      df_resultados_PY_02_XGB_model_RS,\n",
        "                                      df_resultados_PY_02_RFR_model_RS])\n",
        "df_resultados_compilados_totales = df_resultados_compilados_totales.sort_values(by='R2_Test', ascending=False).reset_index(drop=True)\n",
        "df_resultados_compilados_totales"
      ],
      "execution_count": 114,
      "outputs": [
        {
          "output_type": "execute_result",
          "data": {
            "text/html": [
              "<div>\n",
              "<style scoped>\n",
              "    .dataframe tbody tr th:only-of-type {\n",
              "        vertical-align: middle;\n",
              "    }\n",
              "\n",
              "    .dataframe tbody tr th {\n",
              "        vertical-align: top;\n",
              "    }\n",
              "\n",
              "    .dataframe thead th {\n",
              "        text-align: right;\n",
              "    }\n",
              "</style>\n",
              "<table border=\"1\" class=\"dataframe\">\n",
              "  <thead>\n",
              "    <tr style=\"text-align: right;\">\n",
              "      <th></th>\n",
              "      <th>Modelo</th>\n",
              "      <th>Proyecto</th>\n",
              "      <th>RMSE_Train</th>\n",
              "      <th>RMSE_Test</th>\n",
              "      <th>R2_Train</th>\n",
              "      <th>R2_Test</th>\n",
              "    </tr>\n",
              "  </thead>\n",
              "  <tbody>\n",
              "    <tr>\n",
              "      <th>0</th>\n",
              "      <td>Random Forest Regressor optimizado</td>\n",
              "      <td>PY_02</td>\n",
              "      <td>5317.005243</td>\n",
              "      <td>25308.457715</td>\n",
              "      <td>0.996662</td>\n",
              "      <td>0.925343</td>\n",
              "    </tr>\n",
              "    <tr>\n",
              "      <th>1</th>\n",
              "      <td>Random Forest Regressor</td>\n",
              "      <td>PY_02</td>\n",
              "      <td>10975.059244</td>\n",
              "      <td>26126.047736</td>\n",
              "      <td>0.985779</td>\n",
              "      <td>0.920441</td>\n",
              "    </tr>\n",
              "    <tr>\n",
              "      <th>2</th>\n",
              "      <td>XGBoost optimizado</td>\n",
              "      <td>PY_02</td>\n",
              "      <td>16293.760700</td>\n",
              "      <td>27599.280784</td>\n",
              "      <td>0.968655</td>\n",
              "      <td>0.911216</td>\n",
              "    </tr>\n",
              "    <tr>\n",
              "      <th>3</th>\n",
              "      <td>XGBoost</td>\n",
              "      <td>PY_02</td>\n",
              "      <td>28005.652518</td>\n",
              "      <td>32175.555798</td>\n",
              "      <td>0.907400</td>\n",
              "      <td>0.879332</td>\n",
              "    </tr>\n",
              "    <tr>\n",
              "      <th>4</th>\n",
              "      <td>Vecinos más cercanos</td>\n",
              "      <td>PY_02</td>\n",
              "      <td>27331.957836</td>\n",
              "      <td>34287.791937</td>\n",
              "      <td>0.911801</td>\n",
              "      <td>0.862969</td>\n",
              "    </tr>\n",
              "    <tr>\n",
              "      <th>5</th>\n",
              "      <td>Regresión lineal</td>\n",
              "      <td>PY_02</td>\n",
              "      <td>44143.814089</td>\n",
              "      <td>44214.729420</td>\n",
              "      <td>0.769930</td>\n",
              "      <td>0.772136</td>\n",
              "    </tr>\n",
              "    <tr>\n",
              "      <th>6</th>\n",
              "      <td>Vecinos más cercanos</td>\n",
              "      <td>PY_01</td>\n",
              "      <td>121300.240494</td>\n",
              "      <td>155040.133290</td>\n",
              "      <td>0.833758</td>\n",
              "      <td>0.736954</td>\n",
              "    </tr>\n",
              "    <tr>\n",
              "      <th>7</th>\n",
              "      <td>Árbol de Decisión</td>\n",
              "      <td>PY_02</td>\n",
              "      <td>54385.934555</td>\n",
              "      <td>54646.030600</td>\n",
              "      <td>0.650785</td>\n",
              "      <td>0.651937</td>\n",
              "    </tr>\n",
              "    <tr>\n",
              "      <th>8</th>\n",
              "      <td>Árbol de Decisión</td>\n",
              "      <td>PY_01</td>\n",
              "      <td>191783.485244</td>\n",
              "      <td>194688.150912</td>\n",
              "      <td>0.584433</td>\n",
              "      <td>0.585216</td>\n",
              "    </tr>\n",
              "    <tr>\n",
              "      <th>9</th>\n",
              "      <td>Regresión lineal</td>\n",
              "      <td>PY_01</td>\n",
              "      <td>199173.832535</td>\n",
              "      <td>202449.365404</td>\n",
              "      <td>0.551789</td>\n",
              "      <td>0.551486</td>\n",
              "    </tr>\n",
              "  </tbody>\n",
              "</table>\n",
              "</div>"
            ],
            "text/plain": [
              "                               Modelo Proyecto     RMSE_Train      RMSE_Test  \\\n",
              "0  Random Forest Regressor optimizado    PY_02    5317.005243   25308.457715   \n",
              "1             Random Forest Regressor    PY_02   10975.059244   26126.047736   \n",
              "2                  XGBoost optimizado    PY_02   16293.760700   27599.280784   \n",
              "3                             XGBoost    PY_02   28005.652518   32175.555798   \n",
              "4                Vecinos más cercanos    PY_02   27331.957836   34287.791937   \n",
              "5                    Regresión lineal    PY_02   44143.814089   44214.729420   \n",
              "6                Vecinos más cercanos    PY_01  121300.240494  155040.133290   \n",
              "7                   Árbol de Decisión    PY_02   54385.934555   54646.030600   \n",
              "8                   Árbol de Decisión    PY_01  191783.485244  194688.150912   \n",
              "9                    Regresión lineal    PY_01  199173.832535  202449.365404   \n",
              "\n",
              "   R2_Train   R2_Test  \n",
              "0  0.996662  0.925343  \n",
              "1  0.985779  0.920441  \n",
              "2  0.968655  0.911216  \n",
              "3  0.907400  0.879332  \n",
              "4  0.911801  0.862969  \n",
              "5  0.769930  0.772136  \n",
              "6  0.833758  0.736954  \n",
              "7  0.650785  0.651937  \n",
              "8  0.584433  0.585216  \n",
              "9  0.551789  0.551486  "
            ]
          },
          "metadata": {
            "tags": []
          },
          "execution_count": 114
        }
      ]
    },
    {
      "cell_type": "code",
      "metadata": {
        "colab": {
          "base_uri": "https://localhost:8080/"
        },
        "id": "Qv_4MeqhELTC",
        "outputId": "7ea9f61f-2cda-4683-cd81-26a7f02729a6"
      },
      "source": [
        "# Calculamos e imprimimos el tamaño de los modelos avanzados implementados\n",
        "size_XGB_model = sys.getsizeof(pickle.dumps(XGB_model))/1E6\n",
        "size_XGB_model_RS = sys.getsizeof(pickle.dumps(XGB_model_RS))/1E6\n",
        "size_RFR_model = sys.getsizeof(pickle.dumps(RFR_Model))/1E6\n",
        "size_RFR_model_RS = sys.getsizeof(pickle.dumps(RFR_model_RS))/1E6\n",
        "\n",
        "print('Tamaño de los modelos en MB al almacenarse:')\n",
        "print('XGBoost:', size_XGB_model)\n",
        "print('XGBoost Optimizado:', size_XGB_model_RS)\n",
        "print('Random Forest Regressor:', size_RFR_model)\n",
        "print('Random Forest Regressor Optimizado:', size_RFR_model_RS)"
      ],
      "execution_count": 122,
      "outputs": [
        {
          "output_type": "stream",
          "text": [
            "Tamaño de los modelos en MB al almacenarse:\n",
            "XGBoost: 0.591817\n",
            "XGBoost Optimizado: 2.950495\n",
            "Random Forest Regressor: 224.845074\n",
            "Random Forest Regressor Optimizado: 3368.260109\n"
          ],
          "name": "stdout"
        }
      ]
    },
    {
      "cell_type": "markdown",
      "metadata": {
        "id": "YioBJO0pmfmc"
      },
      "source": [
        "# Parte C. Interpretación de los modelos."
      ]
    },
    {
      "cell_type": "markdown",
      "metadata": {
        "id": "rhGG3mnnP6Pp"
      },
      "source": [
        "## **C. 01.** Variables importantes para los modelos"
      ]
    },
    {
      "cell_type": "code",
      "metadata": {
        "id": "TiKSH2q8sN35"
      },
      "source": [
        ""
      ],
      "execution_count": 116,
      "outputs": []
    },
    {
      "cell_type": "code",
      "metadata": {
        "id": "hYOHgJfmmZlV"
      },
      "source": [
        ""
      ],
      "execution_count": 116,
      "outputs": []
    },
    {
      "cell_type": "markdown",
      "metadata": {
        "id": "jU4wmytCQDcg"
      },
      "source": [
        "## **C. 02.** Distribución de errores"
      ]
    },
    {
      "cell_type": "code",
      "metadata": {
        "id": "s2dbi5yjmZnf"
      },
      "source": [
        ""
      ],
      "execution_count": 116,
      "outputs": []
    },
    {
      "cell_type": "code",
      "metadata": {
        "id": "eNzx4e5RmZpz"
      },
      "source": [
        ""
      ],
      "execution_count": 116,
      "outputs": []
    },
    {
      "cell_type": "markdown",
      "metadata": {
        "id": "4Ifm7MTUQk9p"
      },
      "source": [
        "## **C. 03.** Discusión y conclusiones"
      ]
    },
    {
      "cell_type": "code",
      "metadata": {
        "id": "RAG5qzDWIw5V",
        "colab": {
          "base_uri": "https://localhost:8080/",
          "height": 328
        },
        "outputId": "88c5d0f6-8def-4a71-c206-d494a914d6cc"
      },
      "source": [
        "plt.figure(figsize = (15,10))\n",
        "plot_importance(XGB_model_RS.best_estimator_, height=0.9,max_num_features=15)\n",
        "plt.title('Predicción con modelo XGBoost (Múltiples parametros optimizado) Feature importance',fontsize=16)\n",
        "plt.xlabel('Feature', fontsize=15)\n",
        "plt.ylabel('F score', fontsize=15)\n",
        "plt.tick_params(labelsize=14)\n",
        "plt.show()"
      ],
      "execution_count": 119,
      "outputs": [
        {
          "output_type": "display_data",
          "data": {
            "text/plain": [
              "<Figure size 1080x720 with 0 Axes>"
            ]
          },
          "metadata": {
            "tags": []
          }
        },
        {
          "output_type": "display_data",
          "data": {
            "image/png": "[encoded data removed]",
            "text/plain": [
              "<Figure size 432x288 with 1 Axes>"
            ]
          },
          "metadata": {
            "tags": []
          }
        }
      ]
    },
    {
      "cell_type": "markdown",
      "metadata": {
        "id": "RR9w7Dgdi_Zr"
      },
      "source": [
        ""
      ]
    },
    {
      "cell_type": "markdown",
      "metadata": {
        "id": "PQjwglhkjU3p"
      },
      "source": [
        "# Parte C. Interpretación de los modelos"
      ]
    },
    {
      "cell_type": "code",
      "metadata": {
        "id": "wl__eTUMjCla"
      },
      "source": [
        "plt.figure(figsize = (15,10))\n",
        "plot_importance(XGB_model_RS.best_estimator_, height=0.9,max_num_features=15)\n",
        "plt.title('Predicción con modelo XGBoost (Múltiples parametros optimizado) Feature importance',fontsize=16)\n",
        "plt.xlabel('Feature', fontsize=15)\n",
        "plt.ylabel('F score', fontsize=15)\n",
        "plt.tick_params(labelsize=14)\n",
        "plt.show()"
      ],
      "execution_count": null,
      "outputs": []
    }
  ]
}